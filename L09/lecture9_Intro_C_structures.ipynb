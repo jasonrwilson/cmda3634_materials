{
  "nbformat": 4,
  "nbformat_minor": 0,
  "metadata": {
    "colab": {
      "provenance": []
    },
    "kernelspec": {
      "name": "python3",
      "display_name": "Python 3"
    },
    "language_info": {
      "name": "python"
    }
  },
  "cells": [
    {
      "cell_type": "markdown",
      "source": [
        "# Lecture 9 : Introduction to C Structures"
      ],
      "metadata": {
        "id": "ROxZ5OZLRTBj"
      }
    },
    {
      "cell_type": "markdown",
      "source": [
        "# Part 1 : Primality Testing Revisited"
      ],
      "metadata": {
        "id": "eXEG0-6ZLTzJ"
      }
    },
    {
      "cell_type": "markdown",
      "source": [
        "## Consider again our primality tester in C.  In this version we used a pointer to return the divisor as a second argument."
      ],
      "metadata": {
        "id": "ICF9CXsKL4eQ"
      }
    },
    {
      "cell_type": "code",
      "source": [
        "%%writefile fun_prime_v2.c\n",
        "#include <stdio.h>\n",
        "#include <stdlib.h>\n",
        "#include <stdbool.h>\n",
        "\n",
        "bool is_prime(long long n, long long* divisor) {\n",
        "    if (n % 2 == 0) {\n",
        "        *divisor = 2;\n",
        "        return false;\n",
        "    }\n",
        "    for (long long d = 3; d*d <= n; d+=2) {\n",
        "        if (n % d == 0) {\n",
        "            *divisor = d;\n",
        "            return false;\n",
        "        }\n",
        "    }\n",
        "    return true;\n",
        "}\n",
        "\n",
        "int main (int argc, char** argv) {\n",
        "    if (argc < 2) {\n",
        "        printf (\"command usage: %s %s\\n\",argv[0],\"n\");\n",
        "        return 1; // abnormal exit\n",
        "    }\n",
        "    long long n = atoll(argv[1]);\n",
        "    long long divisor;\n",
        "    if (is_prime(n,&divisor)) {\n",
        "        printf (\"The number %lld is prime.\\n\",n);\n",
        "    } else {\n",
        "        printf (\"The number %lld is not prime since %lld divides it.\\n\",n,divisor);\n",
        "    }\n",
        "}"
      ],
      "metadata": {
        "colab": {
          "base_uri": "https://localhost:8080/"
        },
        "id": "Sn05Lh5GN5qT",
        "outputId": "e7ae0ca3-d844-440b-ce96-b58aac16f29e"
      },
      "execution_count": null,
      "outputs": [
        {
          "output_type": "stream",
          "name": "stdout",
          "text": [
            "Writing fun_prime_v2.c\n"
          ]
        }
      ]
    },
    {
      "cell_type": "markdown",
      "source": [
        "## Here is a version that uses a C structure to return multiple values instead of using a pointer.\n",
        "\n",
        "## Note the structure intialization syntax on line 12."
      ],
      "metadata": {
        "id": "LkmzImhvOBp7"
      }
    },
    {
      "cell_type": "code",
      "source": [
        "%%writefile fun_prime_v3.c\n",
        "#include <stdio.h>\n",
        "#include <stdlib.h>\n",
        "#include <stdbool.h>\n",
        "\n",
        "typedef struct {\n",
        "    bool is_prime;\n",
        "    long long divisor;\n",
        "} prime_info;\n",
        "\n",
        "prime_info is_prime(long long n) {\n",
        "    prime_info info = { false, 1 };\n",
        "    if (n % 2 == 0) {\n",
        "        info.divisor = 2;\n",
        "        return info;\n",
        "    }\n",
        "    for (long long d = 3; d*d <= n; d+=2) {\n",
        "        if (n % d == 0) {\n",
        "            info.divisor = d;\n",
        "            return info;\n",
        "        }\n",
        "    }\n",
        "    info.is_prime = true;\n",
        "    return info;\n",
        "}\n",
        "\n",
        "int main (int argc, char** argv) {\n",
        "    if (argc < 2) {\n",
        "        printf (\"command usage: %s %s\\n\",argv[0],\"n\");\n",
        "        return 1; // abnormal exit\n",
        "    }\n",
        "    long long n = atoll(argv[1]);\n",
        "    prime_info info = is_prime(n);\n",
        "    if (info.is_prime) {\n",
        "        printf (\"The number %lld is prime.\\n\",n);\n",
        "    } else {\n",
        "        printf (\"The number %lld is not prime since %lld divides it.\\n\",n,info.divisor);\n",
        "    }\n",
        "}"
      ],
      "metadata": {
        "colab": {
          "base_uri": "https://localhost:8080/"
        },
        "id": "_o_KaJUNOSJO",
        "outputId": "77d0c370-df31-4c3d-aef9-f7583c1802ff"
      },
      "execution_count": null,
      "outputs": [
        {
          "output_type": "stream",
          "name": "stdout",
          "text": [
            "Writing fun_prime_v3.c\n"
          ]
        }
      ]
    },
    {
      "cell_type": "code",
      "source": [
        "!gcc -o fun_prime_v3 fun_prime_v3.c"
      ],
      "metadata": {
        "id": "B3vVaPkTPXHP"
      },
      "execution_count": null,
      "outputs": []
    },
    {
      "cell_type": "code",
      "source": [
        "!./fun_prime_v3 5261656080911617"
      ],
      "metadata": {
        "colab": {
          "base_uri": "https://localhost:8080/"
        },
        "id": "FK4HWhRiPa6J",
        "outputId": "cd03cf5e-a785-4abd-a725-a133dbe8b7f0"
      },
      "execution_count": null,
      "outputs": [
        {
          "output_type": "stream",
          "name": "stdout",
          "text": [
            "The number 5261656080911617 is prime.\n"
          ]
        }
      ]
    },
    {
      "cell_type": "code",
      "source": [
        "!./fun_prime_v3 3439315899953761"
      ],
      "metadata": {
        "colab": {
          "base_uri": "https://localhost:8080/"
        },
        "id": "b_TODd4UPfnf",
        "outputId": "66c39768-ea9f-4325-82cf-e942f4d479d7"
      },
      "execution_count": null,
      "outputs": [
        {
          "output_type": "stream",
          "name": "stdout",
          "text": [
            "The number 3439315899953761 is not prime since 58645681 divides it.\n"
          ]
        }
      ]
    },
    {
      "cell_type": "markdown",
      "source": [
        "# Part 2 : How are C Structures Passed to Functions?"
      ],
      "metadata": {
        "id": "m1Fd1QqSdysx"
      }
    },
    {
      "cell_type": "markdown",
      "source": [
        "## The following program does not work as expected.  Why not?  "
      ],
      "metadata": {
        "id": "D0jHF7BKeAmS"
      }
    },
    {
      "cell_type": "code",
      "source": [
        "%%writefile add_v1.c\n",
        "#include <stdio.h>\n",
        "\n",
        "typedef struct {\n",
        "    float x,y;\n",
        "} vec2;\n",
        "\n",
        "void vec2_add (vec2 a, vec2 b, vec2 c) {\n",
        "    c.x = a.x + b.x;\n",
        "    c.y = a.y + b.y;\n",
        "}\n",
        "\n",
        "int main () {\n",
        "    vec2 u = { 1.0, 2.0 };\n",
        "    vec2 v = { 2.0, 3.0 };\n",
        "    vec2 w = { 0, 0 };\n",
        "    vec2_add(u,v,w);\n",
        "    printf (\"The sum of u and v is (%.2f, %.2f)\\n\",w.x,w.y);\n",
        "}"
      ],
      "metadata": {
        "id": "vZnHNDI11WLc",
        "colab": {
          "base_uri": "https://localhost:8080/"
        },
        "outputId": "f98746fc-5136-4138-c36a-4ad812f9dd92"
      },
      "execution_count": null,
      "outputs": [
        {
          "output_type": "stream",
          "name": "stdout",
          "text": [
            "Writing add_v1.c\n"
          ]
        }
      ]
    },
    {
      "cell_type": "code",
      "source": [
        "!gcc -o add_v1 add_v1.c"
      ],
      "metadata": {
        "id": "LGLio-nPeHTK"
      },
      "execution_count": null,
      "outputs": []
    },
    {
      "cell_type": "code",
      "source": [
        "!./add_v1"
      ],
      "metadata": {
        "colab": {
          "base_uri": "https://localhost:8080/"
        },
        "id": "x-aM9qrbeIFB",
        "outputId": "c0fc1e47-fcfc-41dd-8eb4-ec8aca061afd"
      },
      "execution_count": null,
      "outputs": [
        {
          "output_type": "stream",
          "name": "stdout",
          "text": [
            "The sum of u and v is (0.00, 0.00)\n"
          ]
        }
      ]
    },
    {
      "cell_type": "markdown",
      "source": [
        "## C passes structures to functions **by value** (i.e. by copy)!"
      ],
      "metadata": {
        "id": "opkqBlHyeNkS"
      }
    },
    {
      "cell_type": "markdown",
      "source": [
        "## There is an easy way to fix the problem in this case!"
      ],
      "metadata": {
        "id": "tkVrU4BTeoHt"
      }
    },
    {
      "cell_type": "code",
      "source": [
        "%%writefile add_v2.c\n",
        "#include <stdio.h>\n",
        "\n",
        "typedef struct {\n",
        "    float x,y;\n",
        "} vec2;\n",
        "\n",
        "vec2 vec2_add (vec2 a, vec2 b) {\n",
        "    vec2 c = { a.x + b.x, a.y + b.y };\n",
        "    return c;\n",
        "}\n",
        "\n",
        "int main () {\n",
        "    vec2 u = { 1.0, 2.0 };\n",
        "    vec2 v = { 2.0, 3.0 };\n",
        "    vec2 w = vec2_add(u,v);\n",
        "    printf (\"The sum of u and v is (%.2f, %.2f)\\n\",w.x,w.y);\n",
        "}"
      ],
      "metadata": {
        "colab": {
          "base_uri": "https://localhost:8080/"
        },
        "id": "mZPMKsaIeLGB",
        "outputId": "eb1ad239-fd77-4825-eafa-360ea65e1f8b"
      },
      "execution_count": null,
      "outputs": [
        {
          "output_type": "stream",
          "name": "stdout",
          "text": [
            "Writing add_v2.c\n"
          ]
        }
      ]
    },
    {
      "cell_type": "code",
      "source": [
        "!gcc -o add_v2 add_v2.c"
      ],
      "metadata": {
        "id": "Ab5Za7HhfCAx"
      },
      "execution_count": null,
      "outputs": []
    },
    {
      "cell_type": "code",
      "source": [
        "!./add_v2"
      ],
      "metadata": {
        "colab": {
          "base_uri": "https://localhost:8080/"
        },
        "id": "EccV8HwhfEeF",
        "outputId": "edc03fcb-ad23-436f-eb81-5ea80c948243"
      },
      "execution_count": null,
      "outputs": [
        {
          "output_type": "stream",
          "name": "stdout",
          "text": [
            "The sum of u and v is (3.00, 5.00)\n"
          ]
        }
      ]
    },
    {
      "cell_type": "markdown",
      "source": [
        "## However there are some pitfalls to keep in mind when passing C structures by value.  \n",
        "\n",
        "## Discussion: Why does the following code take so long to run?"
      ],
      "metadata": {
        "id": "9VtJk2UyfOXb"
      }
    },
    {
      "cell_type": "code",
      "source": [
        "%%writefile bigvector_v1.c\n",
        "#include <stdio.h>\n",
        "\n",
        "typedef struct {\n",
        "    float x[200000];\n",
        "} vec200k;\n",
        "\n",
        "vec200k vec200k_set (vec200k v, int i, float c) {\n",
        "    v.x[i] = c;\n",
        "    return v;\n",
        "}\n",
        "\n",
        "int main () {\n",
        "    vec200k vec;\n",
        "    for (int i=0;i<200000;i++) {\n",
        "        vec = vec200k_set (vec,i,i);\n",
        "    }\n",
        "    printf (\"x[123456] = %.2f\",vec.x[123456]);\n",
        "}"
      ],
      "metadata": {
        "colab": {
          "base_uri": "https://localhost:8080/"
        },
        "id": "ttVu6SjxfGJb",
        "outputId": "0dca4b32-6873-481c-b396-87af6e77b6d6"
      },
      "execution_count": null,
      "outputs": [
        {
          "output_type": "stream",
          "name": "stdout",
          "text": [
            "Writing bigvector_v1.c\n"
          ]
        }
      ]
    },
    {
      "cell_type": "code",
      "source": [
        "!gcc -o bigvector_v1 bigvector_v1.c"
      ],
      "metadata": {
        "id": "7tiU_pRTfoU3"
      },
      "execution_count": null,
      "outputs": []
    },
    {
      "cell_type": "code",
      "source": [
        "!time ./bigvector_v1"
      ],
      "metadata": {
        "colab": {
          "base_uri": "https://localhost:8080/"
        },
        "id": "kpSigUeefrD9",
        "outputId": "6bb76852-260c-468c-ce1a-6374a2e05ddd"
      },
      "execution_count": null,
      "outputs": [
        {
          "output_type": "stream",
          "name": "stdout",
          "text": [
            "x[123456] = 123456.00\n",
            "real\t0m26.075s\n",
            "user\t0m20.826s\n",
            "sys\t0m0.126s\n"
          ]
        }
      ]
    },
    {
      "cell_type": "markdown",
      "source": [
        "# Part 3 : Passing C Structures by Pointer\n",
        "\n",
        "## Like integers, floats, etc., we can pass C structures to function by pointer.\n",
        "\n",
        "## Here is a third version of our add function that works as expected.  \n",
        "\n",
        "## In particular, we pass the third argument by pointer.\n",
        "\n",
        "## Note that c->x is short for (*c).x"
      ],
      "metadata": {
        "id": "HQcPp4-VgjQs"
      }
    },
    {
      "cell_type": "code",
      "source": [
        "%%writefile add_v3.c\n",
        "#include <stdio.h>\n",
        "\n",
        "typedef struct {\n",
        "    float x,y;\n",
        "} vec2;\n",
        "\n",
        "void vec2_add (vec2 a, vec2 b, vec2* c) {\n",
        "    c->x = a.x + b.x;\n",
        "    c->y = a.y + b.y;\n",
        "}\n",
        "\n",
        "int main () {\n",
        "    vec2 u = { 1.0, 2.0 };\n",
        "    vec2 v = { 2.0, 3.0 };\n",
        "    vec2 w = { 0, 0 };\n",
        "    vec2_add(u,v,&w);\n",
        "    printf (\"The sum of u and v is (%.2f, %.2f)\\n\",w.x,w.y);\n",
        "}"
      ],
      "metadata": {
        "colab": {
          "base_uri": "https://localhost:8080/"
        },
        "id": "FjLddKr5f0xc",
        "outputId": "53e6177e-817e-41c0-c37b-4bee69c5dbfb"
      },
      "execution_count": null,
      "outputs": [
        {
          "output_type": "stream",
          "name": "stdout",
          "text": [
            "Writing add_v3.c\n"
          ]
        }
      ]
    },
    {
      "cell_type": "code",
      "source": [
        "!gcc -o add_v3 add_v3.c"
      ],
      "metadata": {
        "id": "lGcR8r4HhkW2"
      },
      "execution_count": null,
      "outputs": []
    },
    {
      "cell_type": "code",
      "source": [
        "!./add_v3"
      ],
      "metadata": {
        "colab": {
          "base_uri": "https://localhost:8080/"
        },
        "id": "gKUIRaz1hnJC",
        "outputId": "ef9ce5f1-d47e-4840-a9eb-8260bb29a907"
      },
      "execution_count": null,
      "outputs": [
        {
          "output_type": "stream",
          "name": "stdout",
          "text": [
            "The sum of u and v is (3.00, 5.00)\n"
          ]
        }
      ]
    },
    {
      "cell_type": "markdown",
      "source": [
        "## **Passing large C structures by value in C is rarely a good idea.**\n",
        "\n",
        "## Instead we should always pass large C structures by pointer for efficiency.  \n",
        "\n",
        "## Here is version 2 of bigvector that is **drastically** more efficient than version 1.\n",
        "\n",
        "## In fact, if we pass the large C structure by pointer for efficiency, we do not need the return value since we can modify the structure indirectly through the pointer!"
      ],
      "metadata": {
        "id": "K2nj3XbEi0Xl"
      }
    },
    {
      "cell_type": "code",
      "source": [
        "%%writefile bigvector_v2.c\n",
        "#include <stdio.h>\n",
        "\n",
        "typedef struct {\n",
        "    float x[200000];\n",
        "} vec200k;\n",
        "\n",
        "void vec200k_set (vec200k* v, int i, float c) {\n",
        "    v->x[i] = c;\n",
        "}\n",
        "\n",
        "int main () {\n",
        "    vec200k vec;\n",
        "    for (int i=0;i<200000;i++) {\n",
        "        vec200k_set (&vec,i,i);\n",
        "    }\n",
        "    printf (\"x[123456] = %.2f\",vec.x[123456]);\n",
        "}"
      ],
      "metadata": {
        "colab": {
          "base_uri": "https://localhost:8080/"
        },
        "id": "3cwVTG0Rhpd9",
        "outputId": "7c756022-c277-49d2-f813-8dff8a5e43ef"
      },
      "execution_count": null,
      "outputs": [
        {
          "output_type": "stream",
          "name": "stdout",
          "text": [
            "Writing bigvector_v2.c\n"
          ]
        }
      ]
    },
    {
      "cell_type": "code",
      "source": [
        "!gcc -o bigvector_v2 bigvector_v2.c"
      ],
      "metadata": {
        "id": "NBWb-zk1jKlS"
      },
      "execution_count": null,
      "outputs": []
    },
    {
      "cell_type": "code",
      "source": [
        "!time ./bigvector_v2"
      ],
      "metadata": {
        "colab": {
          "base_uri": "https://localhost:8080/"
        },
        "id": "7iDQ7acSjMYa",
        "outputId": "6e5fc21e-7202-445b-d3f7-a33f991d21a3"
      },
      "execution_count": null,
      "outputs": [
        {
          "output_type": "stream",
          "name": "stdout",
          "text": [
            "x[123456] = 123456.00\n",
            "real\t0m0.005s\n",
            "user\t0m0.001s\n",
            "sys\t0m0.002s\n"
          ]
        }
      ]
    },
    {
      "cell_type": "code",
      "source": [],
      "metadata": {
        "id": "eMRqujgMjreq"
      },
      "execution_count": null,
      "outputs": []
    }
  ]
}