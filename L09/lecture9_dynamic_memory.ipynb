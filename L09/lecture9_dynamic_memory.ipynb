{
  "nbformat": 4,
  "nbformat_minor": 0,
  "metadata": {
    "colab": {
      "provenance": []
    },
    "kernelspec": {
      "name": "python3",
      "display_name": "Python 3"
    },
    "language_info": {
      "name": "python"
    }
  },
  "cells": [
    {
      "cell_type": "markdown",
      "source": [
        "# Lecture 9 : Dynamic Memory Allocation"
      ],
      "metadata": {
        "id": "4S6i5sG6q_qG"
      }
    },
    {
      "cell_type": "markdown",
      "source": [
        "## Clone the materials repo on github to access datafiles."
      ],
      "metadata": {
        "id": "RVAGgeZiPW7I"
      }
    },
    {
      "cell_type": "code",
      "execution_count": 1,
      "metadata": {
        "colab": {
          "base_uri": "https://localhost:8080/"
        },
        "id": "4LtIUYfnqyud",
        "outputId": "57483bce-09ce-4b29-c081-308de1a16e2d"
      },
      "outputs": [
        {
          "output_type": "stream",
          "name": "stdout",
          "text": [
            "Cloning into 'cmda3634_materials'...\n",
            "remote: Enumerating objects: 108, done.\u001b[K\n",
            "remote: Counting objects: 100% (5/5), done.\u001b[K\n",
            "remote: Compressing objects: 100% (4/4), done.\u001b[K\n",
            "remote: Total 108 (delta 1), reused 1 (delta 1), pack-reused 103\u001b[K\n",
            "Receiving objects: 100% (108/108), 1.09 MiB | 6.75 MiB/s, done.\n",
            "Resolving deltas: 100% (55/55), done.\n"
          ]
        }
      ],
      "source": [
        "!git clone https://github.com/jasonrwilson/cmda3634_materials"
      ]
    },
    {
      "cell_type": "markdown",
      "source": [
        "## Copy the lecture 9 materials into our local workspace."
      ],
      "metadata": {
        "id": "RQwewh2wPYPX"
      }
    },
    {
      "cell_type": "code",
      "source": [
        "!cp cmda3634_materials/L09/* ."
      ],
      "metadata": {
        "id": "lMl1AxQLPKKf"
      },
      "execution_count": 2,
      "outputs": []
    },
    {
      "cell_type": "markdown",
      "source": [
        "# Part 1 : Sieve of Eratosthenes\n",
        "\n",
        "## The Sieve of Erathostenes is a method for finding all prime numbers below a certain number.  \n",
        "\n",
        "## The wiki page https://en.wikipedia.org/wiki/Sieve_of_Eratosthenes has a graphical demo showing how the algorithm works.  \n",
        "\n",
        "## We use an integer array of size n+1 to keep track of which numbers are prime.  \n",
        "\n",
        "## In the first version we put the array on the stack which limits how big of an n we can handle.  "
      ],
      "metadata": {
        "id": "_E_jpj5C-hYh"
      }
    },
    {
      "cell_type": "code",
      "source": [
        "%%writefile count_primes.c\n",
        "#include <stdio.h>\n",
        "#include <stdlib.h>\n",
        "\n",
        "int main (int argc, char* argv[]) {\n",
        "\n",
        "    // count number of primes <= n\n",
        "    // where n is read from the command line\n",
        "    if (argc < 2) {\n",
        "        printf (\"command usage: %s %s\\n\",argv[0],\"n\");\n",
        "        return 1;\n",
        "    }\n",
        "    int n = atoi(argv[1]);\n",
        "\n",
        "    // initially assume all integers >= 2 are prime\n",
        "    // note that we ignore is_prime[0] and is_prime[1]\n",
        "    int is_prime[n+1];\n",
        "    for (int i = 2; i <= n; i++) {\n",
        "        is_prime[i] = 1;\n",
        "    }\n",
        "\n",
        "    // mark non-primes <= n using Sieve of Eratosthenes\n",
        "    for (int d=2;d*d<=n;d++) {\n",
        "        // if d is prime, then mark multiples of d as non-prime\n",
        "        // suffices to consider multiples d*d, d*d+d, d*d+2d, ...\n",
        "        if (is_prime[d]) {\n",
        "            for (int c=d*d;c<=n;c+=d) {\n",
        "                is_prime[c] = 0;\n",
        "            }\n",
        "        }\n",
        "    }\n",
        "\n",
        "    // count primes\n",
        "    int primes = 0;\n",
        "    for (int i = 2; i <= n; i++) {\n",
        "        if (is_prime[i]) {\n",
        "            primes++;\n",
        "        }\n",
        "    }\n",
        "    printf (\"The number of primes <= %d is %d\",n,primes);\n",
        "}"
      ],
      "metadata": {
        "colab": {
          "base_uri": "https://localhost:8080/"
        },
        "id": "sPx4QET4sOSu",
        "outputId": "ff514ca1-7139-4ed6-9060-e79bcb5b7fa2"
      },
      "execution_count": 3,
      "outputs": [
        {
          "output_type": "stream",
          "name": "stdout",
          "text": [
            "Writing count_primes.c\n"
          ]
        }
      ]
    },
    {
      "cell_type": "code",
      "source": [
        "!gcc -o count_primes count_primes.c"
      ],
      "metadata": {
        "id": "fX2zAnJkA-u8"
      },
      "execution_count": 4,
      "outputs": []
    },
    {
      "cell_type": "code",
      "source": [
        "!./count_primes 10"
      ],
      "metadata": {
        "colab": {
          "base_uri": "https://localhost:8080/"
        },
        "id": "hLLwbtPMBCjX",
        "outputId": "b3524562-5c09-4909-f65d-6430f4c0a9f6"
      },
      "execution_count": 5,
      "outputs": [
        {
          "output_type": "stream",
          "name": "stdout",
          "text": [
            "The number of primes <= 10 is 4"
          ]
        }
      ]
    },
    {
      "cell_type": "code",
      "source": [
        "!time ./count_primes 1000000"
      ],
      "metadata": {
        "colab": {
          "base_uri": "https://localhost:8080/"
        },
        "id": "hsNqHwk1BLD-",
        "outputId": "52b62afd-243a-4a0a-db83-e0cba7811077"
      },
      "execution_count": 6,
      "outputs": [
        {
          "output_type": "stream",
          "name": "stdout",
          "text": [
            "The number of primes <= 1000000 is 78498\n",
            "real\t0m0.018s\n",
            "user\t0m0.008s\n",
            "sys\t0m0.004s\n"
          ]
        }
      ]
    },
    {
      "cell_type": "code",
      "source": [
        "!time ./count_primes 10000000"
      ],
      "metadata": {
        "colab": {
          "base_uri": "https://localhost:8080/"
        },
        "id": "MNPGHsGKBd-V",
        "outputId": "6ce7a1a6-319d-4798-f1c0-9556802bc68d"
      },
      "execution_count": 7,
      "outputs": [
        {
          "output_type": "stream",
          "name": "stdout",
          "text": [
            "/bin/bash: line 1:   322 Segmentation fault      (core dumped) ./count_primes 10000000\n",
            "\n",
            "real\t0m0.053s\n",
            "user\t0m0.000s\n",
            "sys\t0m0.044s\n"
          ]
        }
      ]
    },
    {
      "cell_type": "markdown",
      "source": [
        "## In version 1 we put the array on the stack which severely limits how big of an n we can handle.  \n",
        "\n",
        "## In order to handle larger n, we will need to use **dynamic memory allocation**.  \n",
        "\n",
        "## There are **two pools of memory** that our C programs can use.  \n",
        "\n",
        "## The first pool of memory is called the **stack** which has a very limited size.  \n",
        "\n",
        "## If you declare an array variable using the notation *int a[100]* then the 400 bytes of memory (an int is 4 bytes) for that array is allocated on the **stack**.  \n",
        "\n",
        "## The second pool of memory is called the **heap** which has a much larger size than the **stack**.\n",
        "\n",
        "## Memory on the heap is accessed very differently than memory on the stack.  \n",
        "\n",
        "## To use heap memory, we need to ask the **memory manager** for a certain number of bytes.  If those bytes are available, then the **memory manager** will return to us a pointer to the beginning of our requested memory.\n",
        "\n",
        "## We need to **free** up our requested memory when we no longer require it.\n",
        "\n",
        "## We interface with the **memory manager** using C functions such as **malloc**, **calloc**, and **free**.\n",
        "\n",
        "## Here is an example illustrating the basics of dynamic memory allocation on the heap.\n"
      ],
      "metadata": {
        "id": "qfiMjTqEA7te"
      }
    },
    {
      "cell_type": "code",
      "source": [
        "%%writefile heap.c\n",
        "#include <stdio.h>\n",
        "#include <stdlib.h>\n",
        "\n",
        "int main () {\n",
        "\n",
        "    // allocate an array of 5 integers on the stack\n",
        "    int a[5];\n",
        "\n",
        "    // allocate an array of 5 integers on the heap\n",
        "    // malloc stands for \"memory allocation\"\n",
        "    // memory allocated using malloc is not initialized.\n",
        "    int* b = (int*)malloc(5*sizeof(int));\n",
        "\n",
        "    // allocate an array of 5 integers on the stack\n",
        "    // and initialize the array to contain all 0s.\n",
        "    int c[5] = { 0 };\n",
        "\n",
        "    // allocate an array of 5 integers on the heap\n",
        "    // and initialize the array to contain all 0s.\n",
        "    // calloc stands for \"clear allocate\"\n",
        "    // note that the interface to calloc differs slightly\n",
        "    int* d = (int*)calloc(5,sizeof(int));\n",
        "\n",
        "    // all of these arrays can be used in the same way\n",
        "    a[2] = 10;\n",
        "    b[2] = 2*a[2];\n",
        "    c[2] += a[2]+b[2];\n",
        "    d[2] += c[2]+a[2];\n",
        "    printf (\"%d %d %d %d\\n\",a[2],b[2],c[2],d[2]);\n",
        "\n",
        "    // Memory for stack variables is automatically\n",
        "    // freed when it is no longer needed.\n",
        "    // Memory for heap variables is freed manually.\n",
        "    // Do not continue to use memory after it has been freed!\n",
        "    free(b);\n",
        "    free(d);\n",
        "}"
      ],
      "metadata": {
        "id": "LqJahtjWwHgQ",
        "colab": {
          "base_uri": "https://localhost:8080/"
        },
        "outputId": "8d178e37-8737-468b-d9eb-53a4c34096ba"
      },
      "execution_count": 8,
      "outputs": [
        {
          "output_type": "stream",
          "name": "stdout",
          "text": [
            "Writing heap.c\n"
          ]
        }
      ]
    },
    {
      "cell_type": "code",
      "source": [
        "!gcc -o heap heap.c"
      ],
      "metadata": {
        "id": "jFXlApIYGBbN"
      },
      "execution_count": 9,
      "outputs": []
    },
    {
      "cell_type": "code",
      "source": [
        "!./heap"
      ],
      "metadata": {
        "colab": {
          "base_uri": "https://localhost:8080/"
        },
        "id": "1I8J3BBdGEnY",
        "outputId": "5820cdfe-4928-4802-dd62-efd541db11d9"
      },
      "execution_count": 10,
      "outputs": [
        {
          "output_type": "stream",
          "name": "stdout",
          "text": [
            "10 20 30 40\n"
          ]
        }
      ]
    },
    {
      "cell_type": "markdown",
      "source": [
        "## Here is a version of our code that counts primes using an array on the heap."
      ],
      "metadata": {
        "id": "70gnIvoiJJAG"
      }
    },
    {
      "cell_type": "code",
      "source": [
        "%%writefile count_primes_heap.c\n",
        "#include <stdio.h>\n",
        "#include <stdlib.h>\n",
        "\n",
        "int main (int argc, char* argv[]) {\n",
        "\n",
        "    // count number of primes <= n\n",
        "    // where n is read from the command line\n",
        "    if (argc < 2) {\n",
        "        printf (\"command usage: %s %s\\n\",argv[0],\"n\");\n",
        "        return 1;\n",
        "    }\n",
        "    int n = atoi(argv[1]);\n",
        "\n",
        "    // initially assume all integers >= 2 are prime\n",
        "    // note that we ignore is_prime[0] and is_prime[1]\n",
        "    // we dynamically allocate the array using malloc\n",
        "    // It is a good habit to check the return value of\n",
        "    // malloc to ensure the allocation was successful.\n",
        "    // This will be especially important for GPU computing\n",
        "    // where the amount of memory is relatively limited!\n",
        "    int* is_prime = (int*)malloc((n+1)*sizeof(int));\n",
        "    if (is_prime == NULL) {\n",
        "        printf (\"failed to allocate is_prime array!\\n\");\n",
        "        return 1;\n",
        "    }\n",
        "    for (int i = 2; i <= n; i++) {\n",
        "        is_prime[i] = 1;\n",
        "    }\n",
        "\n",
        "    // mark non-primes <= n using Sieve of Eratosthenes\n",
        "    for (int d=2;d*d<=n;d++) {\n",
        "        // if d is prime, then mark multiples of d as non-prime\n",
        "        // suffices to consider multiples d*d, d*d+d, d*d+2d, ...\n",
        "        if (is_prime[d]) {\n",
        "            for (int c=d*d;c<=n;c+=d) {\n",
        "                is_prime[c] = 0;\n",
        "            }\n",
        "        }\n",
        "    }\n",
        "\n",
        "    // count primes\n",
        "    int primes = 0;\n",
        "    for (int i = 2; i <= n; i++) {\n",
        "        if (is_prime[i]) {\n",
        "            primes++;\n",
        "        }\n",
        "    }\n",
        "    printf (\"The number of primes <= %d is %d\",n,primes);\n",
        "\n",
        "    // free the dynamically allocated array\n",
        "    free(is_prime);\n",
        "}\n"
      ],
      "metadata": {
        "colab": {
          "base_uri": "https://localhost:8080/"
        },
        "id": "cIB0wwJNIrBa",
        "outputId": "a5a48de0-8098-4a71-da0c-c06ad0a19dee"
      },
      "execution_count": 11,
      "outputs": [
        {
          "output_type": "stream",
          "name": "stdout",
          "text": [
            "Writing count_primes_heap.c\n"
          ]
        }
      ]
    },
    {
      "cell_type": "markdown",
      "source": [
        "## Let's switch on the optimizing compiler for better performance."
      ],
      "metadata": {
        "id": "kjwlSBVuKUAn"
      }
    },
    {
      "cell_type": "code",
      "source": [
        "!gcc -O3 -o count_primes_heap count_primes_heap.c"
      ],
      "metadata": {
        "id": "oR_jxmt2Jhe_"
      },
      "execution_count": 12,
      "outputs": []
    },
    {
      "cell_type": "code",
      "source": [
        "!time ./count_primes_heap 100000000"
      ],
      "metadata": {
        "colab": {
          "base_uri": "https://localhost:8080/"
        },
        "id": "ary-Qte_JkCH",
        "outputId": "85f76f0e-c637-4f28-a0c6-4dd4064886dd"
      },
      "execution_count": 13,
      "outputs": [
        {
          "output_type": "stream",
          "name": "stdout",
          "text": [
            "The number of primes <= 100000000 is 5761455\n",
            "real\t0m2.383s\n",
            "user\t0m1.531s\n",
            "sys\t0m0.150s\n"
          ]
        }
      ]
    },
    {
      "cell_type": "markdown",
      "source": [
        "## Let's try n equal to one billion.\n",
        "\n",
        "## In this case our **is_prime** array is of size 4 billion bytes or 4 Gigabytes!"
      ],
      "metadata": {
        "id": "dHF7KoqvLpLg"
      }
    },
    {
      "cell_type": "code",
      "source": [
        "!time ./count_primes_heap 1000000000"
      ],
      "metadata": {
        "colab": {
          "base_uri": "https://localhost:8080/"
        },
        "id": "EllATC14Jl4B",
        "outputId": "08024962-c8c9-4e61-f7ea-239f9ef5f450"
      },
      "execution_count": 14,
      "outputs": [
        {
          "output_type": "stream",
          "name": "stdout",
          "text": [
            "The number of primes <= 1000000000 is 50847534\n",
            "real\t0m19.327s\n",
            "user\t0m17.619s\n",
            "sys\t0m1.351s\n"
          ]
        }
      ]
    },
    {
      "cell_type": "markdown",
      "source": [
        "## By contrast, the stack size is 8192 kilobytes which is roughly 8 Megabytes."
      ],
      "metadata": {
        "id": "5jDo0_rIOpds"
      }
    },
    {
      "cell_type": "code",
      "source": [
        "!ulimit -s"
      ],
      "metadata": {
        "colab": {
          "base_uri": "https://localhost:8080/"
        },
        "id": "TcwyKqBSL9T4",
        "outputId": "5f54d3e2-c303-4800-f410-728fe8d6b4fe"
      },
      "execution_count": 15,
      "outputs": [
        {
          "output_type": "stream",
          "name": "stdout",
          "text": [
            "8192\n"
          ]
        }
      ]
    },
    {
      "cell_type": "markdown",
      "source": [
        "# Part 2 : Matrix Vector Multiplication"
      ],
      "metadata": {
        "id": "JX26WgC0P03E"
      }
    },
    {
      "cell_type": "markdown",
      "source": [
        "## Working with two-dimensional arrays in C is similar to other languages such as Java and Python.\n",
        "\n",
        "## Here is an example program that multiples a $4 \\times 3$ matrix by a vector in $\\mathbb{R}^3$."
      ],
      "metadata": {
        "id": "EPytVgLjP8Oz"
      }
    },
    {
      "cell_type": "code",
      "source": [
        "%%writefile matvec.c\n",
        "#include <stdio.h>\n",
        "\n",
        "int main () {\n",
        "    int m = 4; // m - number of rows of A\n",
        "    int n = 3; // n - number of columns of A\n",
        "    double A[4][3] = { { 0.2, 1, 2 }, { 1, 2.5, 3 }, { 4, 5.8, 6 }, { 7, 8, 9.3 } };\n",
        "    double x[3] = { 1, 1, 1 };\n",
        "    double b[4] = { 0 };\n",
        "    for (int i=0;i<m;i++) {\n",
        "        for (int j=0;j<n;j++) {\n",
        "            b[i] += A[i][j]*x[j];\n",
        "        }\n",
        "    }\n",
        "    printf (\"b = { %.2f, %.2f, %.2f, %.2f }\\n\",b[0],b[1],b[2],b[3]);\n",
        "}"
      ],
      "metadata": {
        "colab": {
          "base_uri": "https://localhost:8080/"
        },
        "id": "KySDAaWtOuZH",
        "outputId": "cce2eac1-59be-454d-c42d-48ae2b3bfc95"
      },
      "execution_count": 16,
      "outputs": [
        {
          "output_type": "stream",
          "name": "stdout",
          "text": [
            "Writing matvec.c\n"
          ]
        }
      ]
    },
    {
      "cell_type": "code",
      "source": [
        "!gcc -o matvec matvec.c"
      ],
      "metadata": {
        "id": "eL4NHFpxQCZn"
      },
      "execution_count": 17,
      "outputs": []
    },
    {
      "cell_type": "code",
      "source": [
        "!./matvec"
      ],
      "metadata": {
        "colab": {
          "base_uri": "https://localhost:8080/"
        },
        "id": "xaqKvOBjQJ_6",
        "outputId": "54e4cb65-3524-40e5-9d4e-3eac7c406d7d"
      },
      "execution_count": 18,
      "outputs": [
        {
          "output_type": "stream",
          "name": "stdout",
          "text": [
            "b = { 3.20, 6.50, 15.80, 24.30 }\n"
          ]
        }
      ]
    },
    {
      "cell_type": "markdown",
      "source": [
        "## Here is the second version of matrix vector multiplication that uses a dot product function.  \n",
        "\n",
        "## In particular, note that A[i] is a **pointer** to the $i^{th}$ row of the $4 \\times 3$ matrix A."
      ],
      "metadata": {
        "id": "OE_8dsehQV78"
      }
    },
    {
      "cell_type": "code",
      "source": [
        "%%writefile matvec_dot.c\n",
        "#include <stdio.h>\n",
        "\n",
        "double vec_dot_prod (double u[], double v[], int dim) {\n",
        "    double dot_prod = 0;\n",
        "    for (int i=0;i<dim;i++) {\n",
        "        dot_prod += u[i]*v[i];\n",
        "    }\n",
        "    return dot_prod;\n",
        "}\n",
        "\n",
        "int main () {\n",
        "    int m = 4; // m - number of rows of A\n",
        "    int n = 3; // n - number of columns of A\n",
        "    double A[4][3] = { { 0.2, 1, 2 }, { 1, 2.5, 3 }, { 4, 5.8, 6 }, { 7, 8, 9.3 } };\n",
        "    double x[3] = { 1, 1, 1 };\n",
        "    double b[3];\n",
        "    for (int i=0;i<m;i++) {\n",
        "        b[i] = vec_dot_prod(A[i],x,n); // A[i] is a pointer to the ith row of A\n",
        "    }\n",
        "    printf (\"b = { %.2f, %.2f, %.2f, %.2f }\\n\",b[0],b[1],b[2],b[3]);\n",
        "}"
      ],
      "metadata": {
        "colab": {
          "base_uri": "https://localhost:8080/"
        },
        "id": "iz0cXAVWQK7w",
        "outputId": "b26b5cac-bb63-4e50-d4f9-65c144034e84"
      },
      "execution_count": 19,
      "outputs": [
        {
          "output_type": "stream",
          "name": "stdout",
          "text": [
            "Writing matvec_dot.c\n"
          ]
        }
      ]
    },
    {
      "cell_type": "code",
      "source": [
        "!gcc -o matvec_dot matvec_dot.c"
      ],
      "metadata": {
        "id": "CvIxy5TnRi9c"
      },
      "execution_count": 20,
      "outputs": []
    },
    {
      "cell_type": "code",
      "source": [
        "!./matvec_dot"
      ],
      "metadata": {
        "colab": {
          "base_uri": "https://localhost:8080/"
        },
        "id": "52JN3yBJRwqF",
        "outputId": "70ab7d96-0d4c-4d7c-aa06-0d98512ec3cb"
      },
      "execution_count": 21,
      "outputs": [
        {
          "output_type": "stream",
          "name": "stdout",
          "text": [
            "b = { 3.20, 6.50, 15.80, 24.30 }\n"
          ]
        }
      ]
    },
    {
      "cell_type": "markdown",
      "source": [
        "# Part 3 : Finding the Extreme Pair of Points in $\\mathbb{R}^n$"
      ],
      "metadata": {
        "id": "uJS0nnYYwy1N"
      }
    },
    {
      "cell_type": "markdown",
      "source": [
        "## To find the extreme pair we will need to maximize $$\\| \\mathbf{u} - \\mathbf{v} \\|$$\n",
        "\n",
        "## which is equivalent to maximizing $$\\| \\mathbf{u} - \\mathbf{v} \\|^2$$\n",
        "\n",
        "## We will store the set of vectors in $\\mathbb{R}^n$ using a two-dimensional array.\n",
        "\n",
        "## Note that we make use of the vector functions that we wrote in the previous lecture.\n",
        "\n",
        "## Note on line 18 that data[i] is a pointer to the $i^{th}$ row of our data matrix.\n",
        "\n",
        "## In other words, data[i] points to the $i^{th}$ point of our dataset."
      ],
      "metadata": {
        "id": "KyMJBh2Ew7CD"
      }
    },
    {
      "cell_type": "code",
      "source": [
        "%%writefile extreme.c\n",
        "#include <stdio.h>\n",
        "#include <math.h>\n",
        "#include \"vec.h\"\n",
        "\n",
        "int main () {\n",
        "\n",
        "    // read the number of points and the dimension of each point\n",
        "    int num_points, dim;\n",
        "    if (scanf(\"%*c %d %d\",&num_points, &dim) != 2) {\n",
        "        printf (\"error reading the number of points and the dimension\\n\");\n",
        "        return 1;\n",
        "    }\n",
        "\n",
        "    // Read vectors from stdin and store them in a 2d array\n",
        "    double data[num_points][dim];\n",
        "    for (int i=0;i<num_points;i++) {\n",
        "        if (vec_read_stdin(data[i],dim) != dim) {\n",
        "            printf (\"error reading the next point from stdin\\n\");\n",
        "            return 1;\n",
        "        }\n",
        "    }\n",
        "\n",
        "    // find the extreme pair\n",
        "    double max_dist_sq = 0;\n",
        "    int extreme1, extreme2;\n",
        "    for (int i=0;i<num_points-1;i++) {\n",
        "        for (int j=i+1;j<num_points;j++) {\n",
        "            double dist_sq = vec_dist_sq(data[i],data[j],dim);\n",
        "            if (dist_sq > max_dist_sq) {\n",
        "                max_dist_sq = dist_sq;\n",
        "                extreme1 = i;\n",
        "                extreme2 = j;\n",
        "            }\n",
        "        }\n",
        "    }\n",
        "\n",
        "    // output the results\n",
        "    printf (\"Extreme Distance = %.2f\\n\",sqrt(max_dist_sq));\n",
        "    printf (\"Extreme Pair = %d %d\\n\",extreme1,extreme2);\n",
        "}"
      ],
      "metadata": {
        "colab": {
          "base_uri": "https://localhost:8080/"
        },
        "id": "PgssOph1xWZV",
        "outputId": "078d074c-ea30-4df6-aadb-e656ba5bf7ce"
      },
      "execution_count": 22,
      "outputs": [
        {
          "output_type": "stream",
          "name": "stdout",
          "text": [
            "Writing extreme.c\n"
          ]
        }
      ]
    },
    {
      "cell_type": "code",
      "source": [
        "!gcc -o extreme extreme.c vec.c -lm"
      ],
      "metadata": {
        "id": "mp9YV-FNzA2k"
      },
      "execution_count": 23,
      "outputs": []
    },
    {
      "cell_type": "code",
      "source": [
        "!cat mnist1000.txt | ./extreme"
      ],
      "metadata": {
        "colab": {
          "base_uri": "https://localhost:8080/"
        },
        "id": "mM4Jio-1zHbt",
        "outputId": "16e3b7f8-55ae-4414-ad14-3437fee5a665"
      },
      "execution_count": 24,
      "outputs": [
        {
          "output_type": "stream",
          "name": "stdout",
          "text": [
            "Extreme Distance = 3797.52\n",
            "Extreme Pair = 121 426\n"
          ]
        }
      ]
    },
    {
      "cell_type": "code",
      "source": [
        "!cat mnist1000.txt | python3 mnist.py extreme.png 121 426"
      ],
      "metadata": {
        "id": "7hircP9_1_-T"
      },
      "execution_count": 25,
      "outputs": []
    },
    {
      "cell_type": "code",
      "source": [
        "from IPython import display\n",
        "display.Image(\"extreme.png\")"
      ],
      "metadata": {
        "colab": {
          "base_uri": "https://localhost:8080/",
          "height": 624
        },
        "id": "iwrx-QOk2Fhx",
        "outputId": "6017fba3-3778-4b0a-b130-4865bb6d281e"
      },
      "execution_count": 26,
      "outputs": [
        {
          "output_type": "execute_result",
          "data": {
            "image/png": "[encoded data removed]",
            "text/plain": [
              "<IPython.core.display.Image object>"
            ]
          },
          "metadata": {},
          "execution_count": 26
        }
      ]
    },
    {
      "cell_type": "code",
      "source": [
        "!cat mnist2000.txt | ./extreme_v1"
      ],
      "metadata": {
        "colab": {
          "base_uri": "https://localhost:8080/"
        },
        "id": "q6bvzGIH2Hoa",
        "outputId": "cbfcb352-71b9-4e8b-9aac-bd10e4488cbd"
      },
      "execution_count": 27,
      "outputs": [
        {
          "output_type": "stream",
          "name": "stdout",
          "text": [
            "/bin/bash: line 1: ./extreme_v1: No such file or directory\n"
          ]
        }
      ]
    },
    {
      "cell_type": "markdown",
      "source": [
        "## What caused the segmentation fault?  \n",
        "\n",
        "## Hint 1: How many bytes is the *double data[2000][784]* array?\n",
        "\n",
        "## Hint 2: Remember that the stack size is 8192 kilobytes.  "
      ],
      "metadata": {
        "id": "hFpwuJTZ2UxY"
      }
    },
    {
      "cell_type": "code",
      "source": [
        "!ulimit -s"
      ],
      "metadata": {
        "colab": {
          "base_uri": "https://localhost:8080/"
        },
        "id": "oWNdFz_R2XAV",
        "outputId": "cf165c0e-15ce-44d8-e809-d298f32a9155"
      },
      "execution_count": 28,
      "outputs": [
        {
          "output_type": "stream",
          "name": "stdout",
          "text": [
            "8192\n"
          ]
        }
      ]
    },
    {
      "cell_type": "markdown",
      "source": [
        "## In order to handle large datasets we will need to move the 2d data array from the stack to the heap.\n",
        "\n",
        "## One big obstacle is that when using the heap we can only get a pointer to a 1d array when using **malloc** or **calloc**.\n",
        "\n",
        "## We can work around this limitation by **flattening** the 2d array into a 1d array."
      ],
      "metadata": {
        "id": "uttZ5YDn2qBf"
      }
    },
    {
      "cell_type": "markdown",
      "source": [
        "# Part 4 : Matrix Vector Multiplication using a \"Flat\" 2d array to store $A$"
      ],
      "metadata": {
        "id": "QNZTzMoakMa_"
      }
    },
    {
      "cell_type": "markdown",
      "source": [
        "## Consider the following 2d array.\n",
        "\n",
        "$$\n",
        "\\begin{array}{|c|c|c|c|}\n",
        "        \\hline\n",
        "        5 & -2 & 7 & 10 \\\\\n",
        "        \\hline\n",
        "        -6 & 1 & 4 & 8 \\\\\n",
        "          \\hline\n",
        "        9 & 0 & -5 & 3 \\\\\n",
        "        \\hline\n",
        "        \\end{array}\n",
        "$$\n",
        "\n",
        "## We could **flatten** the 2d array into a 1d array of size $12$ using **row-major order**.\n",
        "        \n",
        "$$\n",
        "\\begin{array}{|c|c|c|c|c|c|c|c|c|c|c|c|}\n",
        "            \\hline\n",
        "           5 & -2 & 7 & 10 & -6 & 1 & 4 & 8 & 9 & 0 & -5 & 3 \\\\\n",
        "            \\hline\n",
        "            \\end{array}\n",
        "$$\n",
        "\n",
        "## We could also **flatten** the 2d array into a 1d array of size $12$ using **column-major order**.\n",
        "        \n",
        "$$\n",
        "\\begin{array}{|c|c|c|c|c|c|c|c|c|c|c|c|}\n",
        "            \\hline\n",
        "           5 & -6 & 9 & -2 & 1 & 0 & 7 & 4 & -5 & 10 & 8 & 3 \\\\\n",
        "            \\hline\n",
        "            \\end{array}\n",
        "$$\n",
        "\n",
        "## When storing matrices as one-dimensional arrays in class we will use **row-major order** unless otherwise specified.  \n"
      ],
      "metadata": {
        "id": "hRcM5A9G9iDi"
      }
    },
    {
      "cell_type": "markdown",
      "source": [
        "## We can visualize how a 2d array is flattened into a 1d array using **row-major order** by putting the 1d indices into the 2d array.\n",
        "\n",
        "$$\n",
        "\\begin{array}{|c|c|c|c|}\n",
        "        \\hline\n",
        "        0 & 1 & 2 & 3 \\\\\n",
        "        \\hline\n",
        "        4 & 5 & 6 & 7 \\\\\n",
        "          \\hline\n",
        "        8 & 9 & 10 & 11 \\\\\n",
        "        \\hline\n",
        "        12 & & & ? \\\\\n",
        "        \\hline\n",
        "        & & & \\\\\n",
        "        \\hline\n",
        "        & & & \\\\\n",
        "        \\hline\n",
        "        & & & \\\\\n",
        "        \\hline\n",
        "        & ?? & & \\\\\n",
        "        \\hline\n",
        "        & & & \\\\\n",
        "        \\hline\n",
        "        \\end{array}\n",
        "$$\n",
        "\n",
        "## What index should go in the ? blank?\n",
        "\n",
        "## **Answer**:\n",
        "\n",
        "## What index should go in the ?? blank?\n",
        "\n",
        "## **Answer**:\n",
        "\n",
        "## Given a 2d array with $9$ rows and $4$ columns, give a formula for the 1d array index for the entry in row i and column j of the 2d array.\n",
        "\n",
        "## **Answer**:\n",
        "\n",
        "## Given a 2d array with $m$ rows and $n$ columns, give a formula for the 1d array index for the entry in row i and column j of the 2d array.\n",
        "\n",
        "## **Answer**:\n",
        "\n"
      ],
      "metadata": {
        "id": "roUgLhRgBTNk"
      }
    },
    {
      "cell_type": "markdown",
      "source": [
        "## Here is a matrix vector mult using a \"flat\" 2d array to store the matrix A."
      ],
      "metadata": {
        "id": "eGg6SiNhik4Z"
      }
    },
    {
      "cell_type": "code",
      "source": [
        "%%writefile matvec_flat.c\n",
        "#include <stdio.h>\n",
        "\n",
        "int main () {\n",
        "    int m = 4; // number of rows of A\n",
        "    int n = 3; // number of columns of A\n",
        "    double A[4*3] = { 0.2, 1, 2, 1, 2.5, 3, 4, 5.8, 6, 7, 8, 9.3 };\n",
        "    double x[3] = { 1, 1, 1 };\n",
        "    double b[4] = { 0 };\n",
        "    for (int i=0;i<m;i++) {\n",
        "        for (int j=0;j<n;j++) {\n",
        "            // i*n+j is the 1d index of the row i column j entry of A\n",
        "            b[i] += A[i*n+j]*x[j];\n",
        "        }\n",
        "    }\n",
        "    printf (\"b = { %.2f, %.2f, %.2f, %.2f }\\n\",b[0],b[1],b[2],b[3]);\n",
        "}"
      ],
      "metadata": {
        "colab": {
          "base_uri": "https://localhost:8080/"
        },
        "id": "_g37sfQoR0bu",
        "outputId": "1108b162-4456-4121-a1ef-a02de7eaefe9"
      },
      "execution_count": 29,
      "outputs": [
        {
          "output_type": "stream",
          "name": "stdout",
          "text": [
            "Writing matvec_flat.c\n"
          ]
        }
      ]
    },
    {
      "cell_type": "code",
      "source": [
        "!gcc -o matvec_flat matvec_flat.c"
      ],
      "metadata": {
        "id": "RqGWqnpxi7qx"
      },
      "execution_count": 30,
      "outputs": []
    },
    {
      "cell_type": "code",
      "source": [
        "!./matvec_flat"
      ],
      "metadata": {
        "colab": {
          "base_uri": "https://localhost:8080/"
        },
        "id": "L2zwSX-8i-cX",
        "outputId": "9655da11-8480-4ec6-b9d0-0b0a52e5fa83"
      },
      "execution_count": 31,
      "outputs": [
        {
          "output_type": "stream",
          "name": "stdout",
          "text": [
            "b = { 3.20, 6.50, 15.80, 24.30 }\n"
          ]
        }
      ]
    },
    {
      "cell_type": "markdown",
      "source": [
        "## Dot product version of matrix vector mult using a \"flat\" 2d array to store the matrix A."
      ],
      "metadata": {
        "id": "Ux5rPMmzjK4Z"
      }
    },
    {
      "cell_type": "code",
      "source": [
        "%%writefile matvec_dot_flat.c\n",
        "#include <stdio.h>\n",
        "\n",
        "double vec_dot_prod (double u[], double v[], int dim) {\n",
        "    double dot_prod = 0;\n",
        "    for (int i=0;i<dim;i++) {\n",
        "        dot_prod += u[i]*v[i];\n",
        "    }\n",
        "    return dot_prod;\n",
        "}\n",
        "\n",
        "int main () {\n",
        "    int m = 4; // number of rows of A\n",
        "    int n = 3; // number of columns of A\n",
        "    double A[4*3] = { 0.2, 1, 2, 1, 2.5, 3, 4, 5.8, 6, 7, 8, 9.3 };\n",
        "    double x[3] = { 1, 1, 1 };\n",
        "    double b[3];\n",
        "    for (int i=0;i<m;i++) {\n",
        "        // &(A[i*n]) is a pointer to the ith row of A\n",
        "        b[i] = vec_dot_prod(&(A[i*n]),x,n); // A+i*n also works!\n",
        "    }\n",
        "    printf (\"b = { %.2f, %.2f, %.2f, %.2f }\\n\",b[0],b[1],b[2],b[3]);\n",
        "}"
      ],
      "metadata": {
        "colab": {
          "base_uri": "https://localhost:8080/"
        },
        "id": "YU_XFDOZi_w6",
        "outputId": "b8489438-232c-49d9-c965-1da37e33498a"
      },
      "execution_count": 32,
      "outputs": [
        {
          "output_type": "stream",
          "name": "stdout",
          "text": [
            "Writing matvec_dot_flat.c\n"
          ]
        }
      ]
    },
    {
      "cell_type": "code",
      "source": [
        "!gcc -o matvec_dot_flat matvec_dot_flat.c"
      ],
      "metadata": {
        "id": "40nnBdv-joi3"
      },
      "execution_count": 33,
      "outputs": []
    },
    {
      "cell_type": "code",
      "source": [
        "!./matvec_dot_flat"
      ],
      "metadata": {
        "colab": {
          "base_uri": "https://localhost:8080/"
        },
        "id": "XgfDjBVujp_n",
        "outputId": "c07b87f1-7210-4c92-865f-2fe39ca29d93"
      },
      "execution_count": 34,
      "outputs": [
        {
          "output_type": "stream",
          "name": "stdout",
          "text": [
            "b = { 3.20, 6.50, 15.80, 24.30 }\n"
          ]
        }
      ]
    },
    {
      "cell_type": "markdown",
      "source": [
        "# Part 5 : Finding the Extreme Pair of a **large dataset** of points in $\\mathbb{R}^n$"
      ],
      "metadata": {
        "id": "xaJ62iE93dR8"
      }
    },
    {
      "cell_type": "markdown",
      "source": [
        "## As a first step in our quest to use the heap to store the 2d data array, here is a version of **extreme** that uses a flat 2d array.  \n",
        "\n",
        "## Once we **flatten** the 2d array into a 1d array it will be simple to move the dataset from the stack to the heap."
      ],
      "metadata": {
        "id": "v0g3Ul7E3nvL"
      }
    },
    {
      "cell_type": "code",
      "source": [
        "%%writefile extreme_flat.c\n",
        "#include <stdio.h>\n",
        "#include <math.h>\n",
        "#include \"vec.h\"\n",
        "\n",
        "int main () {\n",
        "\n",
        "    // read the number of points and the dimension of each point\n",
        "    int num_points, dim;\n",
        "    if (scanf(\"%*c %d %d\",&num_points, &dim) != 2) {\n",
        "        printf (\"error reading the number of points and the dimension\\n\");\n",
        "        return 1;\n",
        "    }\n",
        "\n",
        "    // Read vectors from stdin and store them in a flat 2d array\n",
        "    double data[num_points*dim]; // flat 2d array\n",
        "    for (int i=0;i<num_points;i++) {\n",
        "        // data+i*dim is a pointer to the ith data point\n",
        "        if (vec_read_stdin(data+i*dim,dim) != dim) {\n",
        "            printf (\"error reading the next point from stdin\\n\");\n",
        "            return 1;\n",
        "        }\n",
        "    }\n",
        "\n",
        "    // find the extreme pair\n",
        "    double max_dist_sq = 0;\n",
        "    int extreme1, extreme2;\n",
        "    for (int i=0;i<num_points-1;i++) {\n",
        "        for (int j=i+1;j<num_points;j++) {\n",
        "            // data+i*dim is a pointer to the ith data point\n",
        "            // data+j*dim is a pointer to the jth data point\n",
        "            double dist_sq = vec_dist_sq(data+i*dim,data+j*dim,dim);\n",
        "            if (dist_sq > max_dist_sq) {\n",
        "                max_dist_sq = dist_sq;\n",
        "                extreme1 = i;\n",
        "                extreme2 = j;\n",
        "            }\n",
        "        }\n",
        "    }\n",
        "\n",
        "    // output the results\n",
        "    printf (\"Extreme Distance = %.2f\\n\",sqrt(max_dist_sq));\n",
        "    printf (\"Extreme Pair = %d %d\\n\",extreme1,extreme2);\n",
        "}"
      ],
      "metadata": {
        "colab": {
          "base_uri": "https://localhost:8080/"
        },
        "id": "5XBHrjovjute",
        "outputId": "10c44f6b-0161-46a1-e29c-e37ae3e4212b"
      },
      "execution_count": 35,
      "outputs": [
        {
          "output_type": "stream",
          "name": "stdout",
          "text": [
            "Writing extreme_flat.c\n"
          ]
        }
      ]
    },
    {
      "cell_type": "code",
      "source": [
        "!gcc -o extreme_flat extreme_flat.c vec.c -lm"
      ],
      "metadata": {
        "id": "3Izmy2Te4w-1"
      },
      "execution_count": 36,
      "outputs": []
    },
    {
      "cell_type": "code",
      "source": [
        "!cat mnist1000.txt | ./extreme_flat"
      ],
      "metadata": {
        "colab": {
          "base_uri": "https://localhost:8080/"
        },
        "id": "QrDT4IgC40BD",
        "outputId": "f1faf779-be9c-47dc-c508-5805ac68004b"
      },
      "execution_count": 37,
      "outputs": [
        {
          "output_type": "stream",
          "name": "stdout",
          "text": [
            "Extreme Distance = 3797.52\n",
            "Extreme Pair = 121 426\n"
          ]
        }
      ]
    },
    {
      "cell_type": "markdown",
      "source": [
        "## Now we are ready for the version of extreme that uses the heap to store the dataset."
      ],
      "metadata": {
        "id": "rbc-4Ks35Sy_"
      }
    },
    {
      "cell_type": "code",
      "source": [
        "%%writefile extreme_heap.c\n",
        "#include <stdio.h>\n",
        "#include <stdlib.h>\n",
        "#include <math.h>\n",
        "#include \"vec.h\"\n",
        "\n",
        "int main () {\n",
        "\n",
        "    // read the number of points and the dimension of each point\n",
        "    int num_points, dim;\n",
        "    if (scanf(\"%*c %d %d\",&num_points, &dim) != 2) {\n",
        "        printf (\"error reading the number of points and the dimension\\n\");\n",
        "        return 1;\n",
        "    }\n",
        "\n",
        "    // Read vectors from stdin and store them in a flat 2d array\n",
        "    double* data = (double*)malloc(num_points*dim*sizeof(double));\n",
        "    if (data == NULL) {\n",
        "        printf (\"failed to allocate data array!\\n\");\n",
        "        return 1;\n",
        "    }\n",
        "\n",
        "    for (int i=0;i<num_points;i++) {\n",
        "        // data+i*dim is a pointer to the ith data point\n",
        "        if (vec_read_stdin(data+i*dim,dim) != dim) {\n",
        "            printf (\"error reading the next point from stdin\\n\");\n",
        "            return 1;\n",
        "        }\n",
        "    }\n",
        "\n",
        "    // find the extreme pair\n",
        "    double max_dist_sq = 0;\n",
        "    int extreme1, extreme2;\n",
        "    for (int i=0;i<num_points-1;i++) {\n",
        "        for (int j=i+1;j<num_points;j++) {\n",
        "            // data+i*dim is a pointer to the ith data point\n",
        "            // data+j*dim is a pointer to the jth data point\n",
        "            double dist_sq = vec_dist_sq(data+i*dim,data+j*dim,dim);\n",
        "            if (dist_sq > max_dist_sq) {\n",
        "                max_dist_sq = dist_sq;\n",
        "                extreme1 = i;\n",
        "                extreme2 = j;\n",
        "            }\n",
        "        }\n",
        "    }\n",
        "\n",
        "    // output the results\n",
        "    printf (\"Extreme Distance = %.2f\\n\",sqrt(max_dist_sq));\n",
        "    printf (\"Extreme Pair = %d %d\\n\",extreme1,extreme2);\n",
        "\n",
        "    // free our heap array\n",
        "    free (data);\n",
        "}"
      ],
      "metadata": {
        "colab": {
          "base_uri": "https://localhost:8080/"
        },
        "id": "wdLxL7UB5Dln",
        "outputId": "71944112-bdc8-485c-9f9e-f148bd488e56"
      },
      "execution_count": 38,
      "outputs": [
        {
          "output_type": "stream",
          "name": "stdout",
          "text": [
            "Writing extreme_heap.c\n"
          ]
        }
      ]
    },
    {
      "cell_type": "code",
      "source": [
        "!gcc -O3 -o extreme_heap extreme_heap.c vec.c -lm"
      ],
      "metadata": {
        "id": "clnzE26l6ER6"
      },
      "execution_count": 39,
      "outputs": []
    },
    {
      "cell_type": "code",
      "source": [
        "!time cat mnist2000.txt | ./extreme_heap"
      ],
      "metadata": {
        "colab": {
          "base_uri": "https://localhost:8080/"
        },
        "id": "_LJRmBEg6Luv",
        "outputId": "9801be7f-1b17-4772-f7ab-3c44ee1d56bc"
      },
      "execution_count": 40,
      "outputs": [
        {
          "output_type": "stream",
          "name": "stdout",
          "text": [
            "Extreme Distance = 3928.75\n",
            "Extreme Pair = 1618 1895\n",
            "\n",
            "real\t0m1.623s\n",
            "user\t0m1.584s\n",
            "sys\t0m0.018s\n"
          ]
        }
      ]
    },
    {
      "cell_type": "code",
      "source": [
        "!cat mnist2000.txt | python3 mnist.py extreme2.png 1618 1895"
      ],
      "metadata": {
        "id": "zAS09-4s6Qeh"
      },
      "execution_count": 41,
      "outputs": []
    },
    {
      "cell_type": "code",
      "source": [
        "from IPython import display\n",
        "display.Image(\"extreme2.png\")"
      ],
      "metadata": {
        "colab": {
          "base_uri": "https://localhost:8080/",
          "height": 624
        },
        "id": "y8KIChHN6mRF",
        "outputId": "8f03481a-4a94-4b0d-8b63-9ef67602689f"
      },
      "execution_count": 42,
      "outputs": [
        {
          "output_type": "execute_result",
          "data": {
            "image/png": "[encoded data removed]",
            "text/plain": [
              "<IPython.core.display.Image object>"
            ]
          },
          "metadata": {},
          "execution_count": 42
        }
      ]
    },
    {
      "cell_type": "code",
      "source": [],
      "metadata": {
        "id": "t9S8RU756q7n"
      },
      "execution_count": 42,
      "outputs": []
    }
  ]
}