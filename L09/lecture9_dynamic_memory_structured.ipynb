{
  "nbformat": 4,
  "nbformat_minor": 0,
  "metadata": {
    "colab": {
      "provenance": []
    },
    "kernelspec": {
      "name": "python3",
      "display_name": "Python 3"
    },
    "language_info": {
      "name": "python"
    }
  },
  "cells": [
    {
      "cell_type": "markdown",
      "source": [
        "# Lecture 9 : Dynamic Memory Allocation and Structured Programming"
      ],
      "metadata": {
        "id": "4S6i5sG6q_qG"
      }
    },
    {
      "cell_type": "markdown",
      "source": [
        "## Clone the materials repo on github to access datafiles."
      ],
      "metadata": {
        "id": "RVAGgeZiPW7I"
      }
    },
    {
      "cell_type": "code",
      "execution_count": 1,
      "metadata": {
        "colab": {
          "base_uri": "https://localhost:8080/"
        },
        "id": "4LtIUYfnqyud",
        "outputId": "3dd36899-394f-401c-9160-b5ae41311898"
      },
      "outputs": [
        {
          "output_type": "stream",
          "name": "stdout",
          "text": [
            "Cloning into 'cmda3634_materials'...\n",
            "remote: Enumerating objects: 113, done.\u001b[K\n",
            "remote: Counting objects: 100% (66/66), done.\u001b[K\n",
            "remote: Compressing objects: 100% (45/45), done.\u001b[K\n",
            "remote: Total 113 (delta 30), reused 36 (delta 15), pack-reused 47\u001b[K\n",
            "Receiving objects: 100% (113/113), 1.27 MiB | 2.54 MiB/s, done.\n",
            "Resolving deltas: 100% (38/38), done.\n"
          ]
        }
      ],
      "source": [
        "!git clone https://code.vt.edu/jasonwil/cmda3634_materials.git"
      ]
    },
    {
      "cell_type": "markdown",
      "source": [
        "## Copy the lecture 9 materials into our local workspace."
      ],
      "metadata": {
        "id": "RQwewh2wPYPX"
      }
    },
    {
      "cell_type": "code",
      "source": [
        "!cp cmda3634_materials/L09/* ."
      ],
      "metadata": {
        "id": "lMl1AxQLPKKf"
      },
      "execution_count": 2,
      "outputs": []
    },
    {
      "cell_type": "markdown",
      "source": [
        "# Part 1 : Sieve of Eratosthenes\n",
        "\n",
        "## The Sieve of Erathostenes is a method for finding all prime numbers below a certain number.  \n",
        "\n",
        "## The wiki page https://en.wikipedia.org/wiki/Sieve_of_Eratosthenes has a graphical demo showing how the algorithm works.  \n",
        "\n",
        "## We use an integer array of size n+1 to keep track of which numbers are prime.  \n",
        "\n",
        "## Here is our initial attempt at a C implementation.  "
      ],
      "metadata": {
        "id": "_E_jpj5C-hYh"
      }
    },
    {
      "cell_type": "code",
      "source": [
        "%%writefile count_primes_v1.c\n",
        "#include <stdio.h>\n",
        "#include <stdlib.h>\n",
        "\n",
        "int main (int argc, char* argv[]) {\n",
        "\n",
        "    // count number of primes <= n\n",
        "    // where n is read from the command line\n",
        "    if (argc < 2) {\n",
        "        printf (\"command usage: %s %s\\n\",argv[0],\"n\");\n",
        "        return 1;\n",
        "    }\n",
        "    int n = atoi(argv[1]);\n",
        "\n",
        "    // initially assume all integers >= 2 are prime\n",
        "    // note that we ignore is_prime[0] and is_prime[1]\n",
        "    int is_prime[n+1];\n",
        "    for (int i = 2; i <= n; i++) {\n",
        "        is_prime[i] = 1;\n",
        "    }\n",
        "\n",
        "    // mark non-primes <= n using Sieve of Eratosthenes\n",
        "    for (int d=2;d*d<=n;d++) {\n",
        "        // if d is prime, then mark multiples of d as non-prime\n",
        "        // suffices to consider multiples d*d, d*d+d, d*d+2d, ...\n",
        "        if (is_prime[d]) {\n",
        "            for (int c=d*d;c<=n;c+=d) {\n",
        "                is_prime[c] = 0;\n",
        "            }\n",
        "        }\n",
        "    }\n",
        "\n",
        "    // count primes\n",
        "    int primes = 0;\n",
        "    for (int i = 2; i <= n; i++) {\n",
        "        if (is_prime[i]) {\n",
        "            primes++;\n",
        "        }\n",
        "    }\n",
        "    printf (\"The number of primes <= %d is %d\",n,primes);\n",
        "}"
      ],
      "metadata": {
        "colab": {
          "base_uri": "https://localhost:8080/"
        },
        "id": "sPx4QET4sOSu",
        "outputId": "251cd6d3-f529-4741-c0ae-5f2759a92d58"
      },
      "execution_count": 3,
      "outputs": [
        {
          "output_type": "stream",
          "name": "stdout",
          "text": [
            "Writing count_primes_v1.c\n"
          ]
        }
      ]
    },
    {
      "cell_type": "code",
      "source": [
        "!gcc -o count_primes_v1 count_primes_v1.c"
      ],
      "metadata": {
        "id": "fX2zAnJkA-u8"
      },
      "execution_count": 4,
      "outputs": []
    },
    {
      "cell_type": "code",
      "source": [
        "!./count_primes_v1 10"
      ],
      "metadata": {
        "colab": {
          "base_uri": "https://localhost:8080/"
        },
        "id": "hLLwbtPMBCjX",
        "outputId": "a0b7aed6-9e66-4e34-f6aa-b86a389123d1"
      },
      "execution_count": 5,
      "outputs": [
        {
          "output_type": "stream",
          "name": "stdout",
          "text": [
            "The number of primes <= 10 is 4"
          ]
        }
      ]
    },
    {
      "cell_type": "markdown",
      "source": [
        "## Let's try n equal to one million."
      ],
      "metadata": {
        "id": "vq-Bon5nEmQx"
      }
    },
    {
      "cell_type": "code",
      "source": [
        "!time ./count_primes_v1 1000000"
      ],
      "metadata": {
        "colab": {
          "base_uri": "https://localhost:8080/"
        },
        "id": "hsNqHwk1BLD-",
        "outputId": "d8044da6-7f42-4a60-c8bd-e1a3874ec2da"
      },
      "execution_count": 6,
      "outputs": [
        {
          "output_type": "stream",
          "name": "stdout",
          "text": [
            "The number of primes <= 1000000 is 78498\n",
            "real\t0m0.107s\n",
            "user\t0m0.021s\n",
            "sys\t0m0.003s\n"
          ]
        }
      ]
    },
    {
      "cell_type": "markdown",
      "source": [
        "## Let's try n equal to ten million."
      ],
      "metadata": {
        "id": "l2uzISz2EsAj"
      }
    },
    {
      "cell_type": "code",
      "source": [
        "!time ./count_primes_v1 10000000"
      ],
      "metadata": {
        "colab": {
          "base_uri": "https://localhost:8080/"
        },
        "id": "MNPGHsGKBd-V",
        "outputId": "5635f108-d144-4ced-ece3-3774719e4291"
      },
      "execution_count": 7,
      "outputs": [
        {
          "output_type": "stream",
          "name": "stdout",
          "text": [
            "/bin/bash: line 1:   385 Segmentation fault      (core dumped) ./count_primes_v1 10000000\n",
            "\n",
            "real\t0m0.164s\n",
            "user\t0m0.003s\n",
            "sys\t0m0.043s\n"
          ]
        }
      ]
    },
    {
      "cell_type": "markdown",
      "source": [
        "## In version 1 we put the array on the stack which severely limits how big of an n we can handle.  \n",
        "\n",
        "## In order to handle larger n, we will need to use **dynamic memory allocation**.  \n",
        "\n",
        "## There are **two pools of memory** that our C programs can use.  \n",
        "\n",
        "## The first pool of memory is called the **stack** which has a very limited size.  \n",
        "\n",
        "## If you declare an array variable using the notation *int a[100]* then the 400 bytes of memory (an int is 4 bytes) for that array is allocated on the **stack**.  \n",
        "\n",
        "## The second pool of memory is called the **heap** which has a much larger size than the **stack**.\n",
        "\n",
        "## Memory on the heap is accessed very differently than memory on the stack.  \n",
        "\n",
        "## To use heap memory, we need to ask the **memory manager** for a certain number of bytes.  If those bytes are available, then the **memory manager** will return to us a pointer to the beginning of our requested memory.\n",
        "\n",
        "## We need to **free** up our requested memory when we no longer require it.\n",
        "\n",
        "## We interface with the **memory manager** using C functions such as **malloc**, **calloc**, and **free**.\n",
        "\n",
        "## Here is an example illustrating the basics of dynamic memory allocation on the heap.\n"
      ],
      "metadata": {
        "id": "qfiMjTqEA7te"
      }
    },
    {
      "cell_type": "code",
      "source": [
        "%%writefile heap.c\n",
        "#include <stdio.h>\n",
        "#include <stdlib.h>\n",
        "\n",
        "int main () {\n",
        "\n",
        "    // allocate an array of 5 integers on the stack\n",
        "    int a[5];\n",
        "\n",
        "    // allocate an array of 5 integers on the heap\n",
        "    // malloc stands for \"memory allocation\"\n",
        "    // memory allocated using malloc is not initialized.\n",
        "    int* b = (int*)malloc(5*sizeof(int));\n",
        "\n",
        "    // allocate an array of 5 integers on the stack\n",
        "    // and initialize the array to contain all 0s.\n",
        "    int c[5] = { 0 };\n",
        "\n",
        "    // allocate an array of 5 integers on the heap\n",
        "    // and initialize the array to contain all 0s.\n",
        "    // calloc stands for \"clear allocate\"\n",
        "    // note that the interface to calloc differs slightly\n",
        "    int* d = (int*)calloc(5,sizeof(int));\n",
        "\n",
        "    // all of these arrays can be used in the same way\n",
        "    a[2] = 10;\n",
        "    b[2] = 2*a[2];\n",
        "    c[2] += a[2]+b[2];\n",
        "    d[2] += c[2]+a[2];\n",
        "    printf (\"%d %d %d %d\\n\",a[2],b[2],c[2],d[2]);\n",
        "\n",
        "    // Memory for stack variables is automatically\n",
        "    // freed when it is no longer needed.\n",
        "    // Memory for heap variables is freed manually.\n",
        "    // Do not continue to use heap memory after it has been freed!\n",
        "    free(b);\n",
        "    free(d);\n",
        "}"
      ],
      "metadata": {
        "id": "LqJahtjWwHgQ",
        "colab": {
          "base_uri": "https://localhost:8080/"
        },
        "outputId": "85494aa7-03a7-455f-e40c-90441fa61575"
      },
      "execution_count": 8,
      "outputs": [
        {
          "output_type": "stream",
          "name": "stdout",
          "text": [
            "Writing heap.c\n"
          ]
        }
      ]
    },
    {
      "cell_type": "code",
      "source": [
        "!gcc -o heap heap.c"
      ],
      "metadata": {
        "id": "jFXlApIYGBbN"
      },
      "execution_count": 9,
      "outputs": []
    },
    {
      "cell_type": "code",
      "source": [
        "!./heap"
      ],
      "metadata": {
        "colab": {
          "base_uri": "https://localhost:8080/"
        },
        "id": "1I8J3BBdGEnY",
        "outputId": "d5f22698-c7ab-4922-9337-8b66a6b25c8d"
      },
      "execution_count": 10,
      "outputs": [
        {
          "output_type": "stream",
          "name": "stdout",
          "text": [
            "10 20 30 40\n"
          ]
        }
      ]
    },
    {
      "cell_type": "markdown",
      "source": [
        "## Here is a version of our sieve code that counts primes using an array on the heap."
      ],
      "metadata": {
        "id": "70gnIvoiJJAG"
      }
    },
    {
      "cell_type": "code",
      "source": [
        "%%writefile count_primes_v2.c\n",
        "#include <stdio.h>\n",
        "#include <stdlib.h>\n",
        "\n",
        "int main (int argc, char* argv[]) {\n",
        "\n",
        "    // count number of primes <= n\n",
        "    // where n is read from the command line\n",
        "    if (argc < 2) {\n",
        "        printf (\"command usage: %s %s\\n\",argv[0],\"n\");\n",
        "        return 1;\n",
        "    }\n",
        "    int n = atoi(argv[1]);\n",
        "\n",
        "    // initially assume all integers >= 2 are prime\n",
        "    // note that we ignore is_prime[0] and is_prime[1]\n",
        "    // We dynamically allocate the array using malloc.\n",
        "    // It is critical to check the return value of\n",
        "    // malloc to ensure the allocation was successful.\n",
        "    // If malloc is unsuccessful it will return a NULL pointer.\n",
        "    // Dereferencing a NULL pointer always results in a segmentation fault!\n",
        "    int* is_prime = (int*)malloc((n+1)*sizeof(int));\n",
        "    if (is_prime == NULL) {\n",
        "        printf (\"failed to allocate is_prime array!\\n\");\n",
        "        return 1;\n",
        "    }\n",
        "    for (int i = 2; i <= n; i++) {\n",
        "        is_prime[i] = 1;\n",
        "    }\n",
        "\n",
        "    // mark non-primes <= n using Sieve of Eratosthenes\n",
        "    for (int d=2;d*d<=n;d++) {\n",
        "        // if d is prime, then mark multiples of d as non-prime\n",
        "        // suffices to consider multiples d*d, d*d+d, d*d+2d, ...\n",
        "        if (is_prime[d]) {\n",
        "            for (int c=d*d;c<=n;c+=d) {\n",
        "                is_prime[c] = 0;\n",
        "            }\n",
        "        }\n",
        "    }\n",
        "\n",
        "    // count primes\n",
        "    int primes = 0;\n",
        "    for (int i = 2; i <= n; i++) {\n",
        "        if (is_prime[i]) {\n",
        "            primes++;\n",
        "        }\n",
        "    }\n",
        "    printf (\"The number of primes <= %d is %d\",n,primes);\n",
        "\n",
        "    // free the dynamically allocated array\n",
        "    free(is_prime);\n",
        "}\n"
      ],
      "metadata": {
        "colab": {
          "base_uri": "https://localhost:8080/"
        },
        "id": "cIB0wwJNIrBa",
        "outputId": "5f486e99-4ecb-451b-84a3-1c6f2a2515e1"
      },
      "execution_count": 11,
      "outputs": [
        {
          "output_type": "stream",
          "name": "stdout",
          "text": [
            "Writing count_primes_v2.c\n"
          ]
        }
      ]
    },
    {
      "cell_type": "markdown",
      "source": [
        "## Let's switch on the optimizing compiler using -O3 and -march=native for better performance."
      ],
      "metadata": {
        "id": "kjwlSBVuKUAn"
      }
    },
    {
      "cell_type": "code",
      "source": [
        "!gcc -O3 -march=native -o count_primes_v2 count_primes_v2.c"
      ],
      "metadata": {
        "id": "oR_jxmt2Jhe_"
      },
      "execution_count": 12,
      "outputs": []
    },
    {
      "cell_type": "markdown",
      "source": [
        "## Let's try n equal to one hundred million."
      ],
      "metadata": {
        "id": "QCyHpgiKMttE"
      }
    },
    {
      "cell_type": "code",
      "source": [
        "!time ./count_primes_v2 100000000"
      ],
      "metadata": {
        "colab": {
          "base_uri": "https://localhost:8080/"
        },
        "id": "ary-Qte_JkCH",
        "outputId": "3e41fd45-49c2-4657-d597-10c5b16ad73b"
      },
      "execution_count": 13,
      "outputs": [
        {
          "output_type": "stream",
          "name": "stdout",
          "text": [
            "The number of primes <= 100000000 is 5761455\n",
            "real\t0m3.903s\n",
            "user\t0m2.030s\n",
            "sys\t0m0.391s\n"
          ]
        }
      ]
    },
    {
      "cell_type": "markdown",
      "source": [
        "## Let's try n equal to one billion.\n",
        "\n",
        "## In this case our **is_prime** array is roughly 4 billion bytes or 4 Gigabytes!"
      ],
      "metadata": {
        "id": "dHF7KoqvLpLg"
      }
    },
    {
      "cell_type": "code",
      "source": [
        "!time ./count_primes_v2 1000000000"
      ],
      "metadata": {
        "colab": {
          "base_uri": "https://localhost:8080/"
        },
        "id": "EllATC14Jl4B",
        "outputId": "63a0e7fb-5ca5-4be3-e6bb-91df97ce1191"
      },
      "execution_count": 14,
      "outputs": [
        {
          "output_type": "stream",
          "name": "stdout",
          "text": [
            "The number of primes <= 1000000000 is 50847534\n",
            "real\t0m28.680s\n",
            "user\t0m24.538s\n",
            "sys\t0m3.101s\n"
          ]
        }
      ]
    },
    {
      "cell_type": "markdown",
      "source": [
        "## By contrast, the stack size is 8192 kilobytes which is roughly 8 Megabytes."
      ],
      "metadata": {
        "id": "5jDo0_rIOpds"
      }
    },
    {
      "cell_type": "code",
      "source": [
        "!ulimit -s"
      ],
      "metadata": {
        "colab": {
          "base_uri": "https://localhost:8080/"
        },
        "id": "TcwyKqBSL9T4",
        "outputId": "afe2ca80-ccbe-407f-bb19-ade67e8526ca"
      },
      "execution_count": 15,
      "outputs": [
        {
          "output_type": "stream",
          "name": "stdout",
          "text": [
            "8192\n"
          ]
        }
      ]
    },
    {
      "cell_type": "markdown",
      "source": [
        "# Part 2 : Finding the Extreme Pair of Points in $\\mathbb{R}^d$"
      ],
      "metadata": {
        "id": "uJS0nnYYwy1N"
      }
    },
    {
      "cell_type": "markdown",
      "source": [
        "## To find the extreme pair we will need to maximize $$\\| \\mathbf{u} - \\mathbf{v} \\|$$\n",
        "\n",
        "## which is equivalent to maximizing $$\\| \\mathbf{u} - \\mathbf{v} \\|^2$$\n",
        "\n",
        "## Here is our code from the previous lecture for solving this problem in two dimensions.\n"
      ],
      "metadata": {
        "id": "KyMJBh2Ew7CD"
      }
    },
    {
      "cell_type": "code",
      "source": [
        "%%writefile extreme_v1.c\n",
        "#include <stdio.h>\n",
        "#include <stdlib.h>\n",
        "\n",
        "typedef struct {\n",
        "    float x,y;\n",
        "} vec2;\n",
        "\n",
        "float vec2_dist_sq (vec2 u, vec2 v) {\n",
        "    return (u.x-v.x)*(u.x-v.x)+(u.y-v.y)*(u.y-v.y);\n",
        "}\n",
        "\n",
        "void vec2_read_dataset (vec2* data, int len) {\n",
        "    for (int i=0;i<len;i++) {\n",
        "        if (scanf(\"%f %f\",&(data[i].x),&(data[i].y)) != 2) {\n",
        "            printf (\"error reading dataset\\n\");\n",
        "            exit (1);\n",
        "        }\n",
        "    }\n",
        "}\n",
        "\n",
        "typedef struct {\n",
        "    float max_dist_sq;\n",
        "    int extreme_1, extreme_2;\n",
        "} extreme_info;\n",
        "\n",
        "extreme_info extreme_pair (vec2* data, int num_points) {\n",
        "    extreme_info info = { 0, -1, -1 };\n",
        "    for (int i=0;i<num_points-1;i++) {\n",
        "        for (int j=i+1;j<num_points;j++) {\n",
        "            float dist_sq = vec2_dist_sq(data[i],data[j]);\n",
        "            if (dist_sq > info.max_dist_sq) {\n",
        "                info.max_dist_sq = dist_sq;\n",
        "                info.extreme_1 = i;\n",
        "                info.extreme_2 = j;\n",
        "            }\n",
        "        }\n",
        "    }\n",
        "    return info;\n",
        "}\n",
        "\n",
        "int main () {\n",
        "\n",
        "    // read dataset\n",
        "    int len;\n",
        "    if (scanf(\"%d\",&len) != 1) {\n",
        "        printf (\"error reading the length of the dataset\\n\");\n",
        "        return 1;\n",
        "    }\n",
        "    vec2 data[len];\n",
        "    vec2_read_dataset (data,len);\n",
        "\n",
        "    // find the extreme pair\n",
        "    extreme_info info;\n",
        "    info = extreme_pair(data,len);\n",
        "\n",
        "    // print the results\n",
        "    printf (\"The extreme pair has indices (%d,%d)\\n\",info.extreme_1,info.extreme_2);\n",
        "    printf (\"The distance squared between the extreme pair is %g\\n\",info.max_dist_sq);\n",
        "}"
      ],
      "metadata": {
        "colab": {
          "base_uri": "https://localhost:8080/"
        },
        "id": "TSfTR6N4JuQJ",
        "outputId": "842a79e7-087a-4cb0-8d23-41ae439ed454"
      },
      "execution_count": 16,
      "outputs": [
        {
          "output_type": "stream",
          "name": "stdout",
          "text": [
            "Writing extreme_v1.c\n"
          ]
        }
      ]
    },
    {
      "cell_type": "markdown",
      "source": [
        "## Note that version 1 has **hard coded** the dimension of the dataset to 2.  \n",
        "\n",
        "## We will fix this problem in version 2 by writing an extreme code that works for any dimension $d$.\n",
        "\n",
        "## As in version 1, we will store the set of vectors in $\\mathbb{R}^d$ using an array of C structures.\n",
        "\n",
        "## Since the size of an array definied inside a C structure needs to be defined at **compile time**, we will use a **compile flag** to specify the dimension $d$.\n",
        "\n",
        "## To provide error checking we all add the dimesion of the dataset to our data files.  \n",
        "\n",
        "## In particular, the first line of the data file will contain two integers.  \n",
        "\n",
        "## The first integer on the first line gives the number of points in the dataset\n",
        "\n",
        "## The second integer on the first line gives the dimension of the data.\n",
        "\n",
        "## As an example, here are the first 5 lines of the data file *points1k.txt*."
      ],
      "metadata": {
        "id": "Chz8NbMFJ3Aq"
      }
    },
    {
      "cell_type": "code",
      "source": [
        "!head -5 points1k.txt"
      ],
      "metadata": {
        "colab": {
          "base_uri": "https://localhost:8080/"
        },
        "id": "5lWQ39ZxOpHr",
        "outputId": "7dbd9293-ddd6-443e-b67f-c18deac94baa"
      },
      "execution_count": 17,
      "outputs": [
        {
          "output_type": "stream",
          "name": "stdout",
          "text": [
            "1000 2\n",
            "0.62805 0.82095\n",
            "1.28147 0.33027\n",
            "0.65534 0.95499\n",
            "1.11772 0.99745\n"
          ]
        }
      ]
    },
    {
      "cell_type": "markdown",
      "source": [
        "## We make two additional modifications to version 2.\n",
        "\n",
        "* ## We store our data using type double intead of type float to increase accuracy.  Note that when using *scanf* to read a double we use the format specifier *%lf*.\n",
        "\n",
        "* ## We report the actual distance between the extreme pair rather than the distance squared.  Note that we need to include the math library using *#include <math.h>* and link the math library using the compile option *-lm*."
      ],
      "metadata": {
        "id": "hD0MNeAJUD5w"
      }
    },
    {
      "cell_type": "code",
      "source": [
        "%%writefile extreme_v2.c\n",
        "#include <stdio.h>\n",
        "#include <stdlib.h>\n",
        "#include <math.h>\n",
        "\n",
        "#ifndef DIM\n",
        "#define DIM 2\n",
        "#endif\n",
        "\n",
        "typedef struct {\n",
        "    double x[DIM];\n",
        "} vecd;\n",
        "\n",
        "double vecd_dist_sq (vecd u, vecd v) {\n",
        "    double dist_sq = 0;\n",
        "    for (int i=0;i<DIM;i++) {\n",
        "        dist_sq += (u.x[i]-v.x[i])*(u.x[i]-v.x[i]);\n",
        "    }\n",
        "    return dist_sq;\n",
        "}\n",
        "\n",
        "void vecd_read_dataset (vecd* data, int len) {\n",
        "    for (int i=0;i<len;i++) {\n",
        "        for (int j=0;j<DIM;j++) {\n",
        "            if (scanf(\"%lf\",&(data[i].x[j])) != 1) {\n",
        "                printf (\"error reading dataset\\n\");\n",
        "                exit(1);\n",
        "            }\n",
        "        }\n",
        "    }\n",
        "}\n",
        "\n",
        "typedef struct {\n",
        "    double max_dist_sq;\n",
        "    int extreme_1, extreme_2;\n",
        "} extreme_info;\n",
        "\n",
        "extreme_info extreme_pair (vecd* data, int num_points) {\n",
        "    extreme_info info = { 0, -1, -1 };\n",
        "    for (int i=0;i<num_points-1;i++) {\n",
        "        for (int j=i+1;j<num_points;j++) {\n",
        "            double dist_sq = vecd_dist_sq(data[i],data[j]);\n",
        "            if (dist_sq > info.max_dist_sq) {\n",
        "                info.max_dist_sq = dist_sq;\n",
        "                info.extreme_1 = i;\n",
        "                info.extreme_2 = j;\n",
        "            }\n",
        "        }\n",
        "    }\n",
        "    return info;\n",
        "}\n",
        "\n",
        "int main () {\n",
        "\n",
        "    // read dataset\n",
        "    int len, dim;\n",
        "    if (scanf(\"%d %d\",&len,&dim) != 2) {\n",
        "        printf (\"error reading the length and dimension of the dataset\\n\");\n",
        "        return 1;\n",
        "    }\n",
        "    if (dim != DIM) {\n",
        "        printf (\"dimension of dataset does not match DIM\\n\");\n",
        "        return 1;\n",
        "    }\n",
        "    vecd data[len];\n",
        "    vecd_read_dataset (data,len);\n",
        "\n",
        "    // find the extreme pair\n",
        "    extreme_info info;\n",
        "    info = extreme_pair(data,len);\n",
        "\n",
        "    // print the results\n",
        "    printf (\"The extreme pair has indices (%d,%d)\\n\",info.extreme_1,info.extreme_2);\n",
        "    printf (\"The distance between the extreme pair is %.2f\\n\",sqrt(info.max_dist_sq));\n",
        "}"
      ],
      "metadata": {
        "colab": {
          "base_uri": "https://localhost:8080/"
        },
        "id": "PgssOph1xWZV",
        "outputId": "ef41c004-c274-42e9-cf3f-d031fcbd09cb"
      },
      "execution_count": 18,
      "outputs": [
        {
          "output_type": "stream",
          "name": "stdout",
          "text": [
            "Writing extreme_v2.c\n"
          ]
        }
      ]
    },
    {
      "cell_type": "markdown",
      "source": [
        "## Let's first test our code on the small 2d dataset from the previous lecture.  "
      ],
      "metadata": {
        "id": "utiR_TByPvUO"
      }
    },
    {
      "cell_type": "code",
      "source": [
        "!gcc -o extreme_v2 extreme_v2.c -lm"
      ],
      "metadata": {
        "id": "mp9YV-FNzA2k"
      },
      "execution_count": 19,
      "outputs": []
    },
    {
      "cell_type": "code",
      "source": [
        "!cat points10.txt | ./extreme_v2"
      ],
      "metadata": {
        "colab": {
          "base_uri": "https://localhost:8080/"
        },
        "id": "pam5PkqpPWn9",
        "outputId": "f826c1f9-aa24-4778-8db5-effde0528d4d"
      },
      "execution_count": 20,
      "outputs": [
        {
          "output_type": "stream",
          "name": "stdout",
          "text": [
            "The extreme pair has indices (5,8)\n",
            "The distance between the extreme pair is 8.25\n"
          ]
        }
      ]
    },
    {
      "cell_type": "markdown",
      "source": [
        "## Next let's test on a dataset containing 1000 points in two dimensions."
      ],
      "metadata": {
        "id": "ZwDUcHrkJBRU"
      }
    },
    {
      "cell_type": "code",
      "source": [
        "!cat points1k.txt | ./extreme_v2"
      ],
      "metadata": {
        "colab": {
          "base_uri": "https://localhost:8080/"
        },
        "id": "lu5mSyntJAr5",
        "outputId": "0ecd7b5d-be34-430c-926b-7aff8d812310"
      },
      "execution_count": 21,
      "outputs": [
        {
          "output_type": "stream",
          "name": "stdout",
          "text": [
            "The extreme pair has indices (446,911)\n",
            "The distance between the extreme pair is 2.78\n"
          ]
        }
      ]
    },
    {
      "cell_type": "markdown",
      "source": [
        "## Let's use Python to visualize the result."
      ],
      "metadata": {
        "id": "_i2KAXysJOTc"
      }
    },
    {
      "cell_type": "code",
      "source": [
        "!cat points1k.txt | python3 extreme.py points1k.png 446 911"
      ],
      "metadata": {
        "id": "q02n_Z3fJcxn"
      },
      "execution_count": 22,
      "outputs": []
    },
    {
      "cell_type": "code",
      "source": [
        "from IPython import display\n",
        "display.Image(\"points1k.png\")"
      ],
      "metadata": {
        "colab": {
          "base_uri": "https://localhost:8080/",
          "height": 497
        },
        "id": "E-SCDAtSKIf1",
        "outputId": "e9b898fb-d1a5-4441-f58d-fe97c8f0bbc6"
      },
      "execution_count": 23,
      "outputs": [
        {
          "output_type": "execute_result",
          "data": {
            "image/png": "[encoded data removed]",
            "text/plain": [
              "<IPython.core.display.Image object>"
            ]
          },
          "metadata": {},
          "execution_count": 23
        }
      ]
    },
    {
      "cell_type": "markdown",
      "source": [
        "## Next let's try a set of MNIST images.\n",
        "\n",
        "## Each MNIST image is 28 rows by 28 columns.  \n",
        "\n",
        "## We flatten each image into a 784 dimension vector of grayscale intensity values."
      ],
      "metadata": {
        "id": "SoAdS_dOK1Si"
      }
    },
    {
      "cell_type": "code",
      "source": [
        "!head -2 mnist1000.txt"
      ],
      "metadata": {
        "colab": {
          "base_uri": "https://localhost:8080/"
        },
        "id": "u2uGTCPsLSMM",
        "outputId": "35f8e658-f6f1-4f80-ada8-4581441f9ae2"
      },
      "execution_count": 24,
      "outputs": [
        {
          "output_type": "stream",
          "name": "stdout",
          "text": [
            "1000 784\n",
            "0 0 0 0 0 0 0 0 0 0 0 0 0 0 0 0 0 0 0 0 0 0 0 0 0 0 0 0 0 0 0 0 0 0 0 0 0 0 0 0 0 0 0 0 0 0 0 0 0 0 0 0 0 0 0 0 0 0 0 0 0 0 0 0 0 0 0 0 0 0 0 0 0 0 0 0 0 0 0 0 0 0 0 0 0 0 0 0 0 0 0 0 0 0 0 0 0 0 0 0 0 0 0 0 0 0 0 0 0 0 0 0 0 0 0 0 0 0 0 0 0 0 0 0 0 0 0 0 0 0 0 0 0 0 0 0 0 0 0 0 0 0 0 0 0 0 0 0 0 0 0 0 3 18 18 18 126 136 175 26 166 255 247 127 0 0 0 0 0 0 0 0 0 0 0 0 30 36 94 154 170 253 253 253 253 253 225 172 253 242 195 64 0 0 0 0 0 0 0 0 0 0 0 49 238 253 253 253 253 253 253 253 253 251 93 82 82 56 39 0 0 0 0 0 0 0 0 0 0 0 0 18 219 253 253 253 253 253 198 182 247 241 0 0 0 0 0 0 0 0 0 0 0 0 0 0 0 0 0 0 80 156 107 253 253 205 11 0 43 154 0 0 0 0 0 0 0 0 0 0 0 0 0 0 0 0 0 0 0 14 1 154 253 90 0 0 0 0 0 0 0 0 0 0 0 0 0 0 0 0 0 0 0 0 0 0 0 0 0 139 253 190 2 0 0 0 0 0 0 0 0 0 0 0 0 0 0 0 0 0 0 0 0 0 0 0 0 11 190 253 70 0 0 0 0 0 0 0 0 0 0 0 0 0 0 0 0 0 0 0 0 0 0 0 0 0 35 241 225 160 108 1 0 0 0 0 0 0 0 0 0 0 0 0 0 0 0 0 0 0 0 0 0 0 0 81 240 253 253 119 25 0 0 0 0 0 0 0 0 0 0 0 0 0 0 0 0 0 0 0 0 0 0 0 45 186 253 253 150 27 0 0 0 0 0 0 0 0 0 0 0 0 0 0 0 0 0 0 0 0 0 0 0 16 93 252 253 187 0 0 0 0 0 0 0 0 0 0 0 0 0 0 0 0 0 0 0 0 0 0 0 0 0 249 253 249 64 0 0 0 0 0 0 0 0 0 0 0 0 0 0 0 0 0 0 0 0 0 46 130 183 253 253 207 2 0 0 0 0 0 0 0 0 0 0 0 0 0 0 0 0 0 0 0 39 148 229 253 253 253 250 182 0 0 0 0 0 0 0 0 0 0 0 0 0 0 0 0 0 0 24 114 221 253 253 253 253 201 78 0 0 0 0 0 0 0 0 0 0 0 0 0 0 0 0 0 23 66 213 253 253 253 253 198 81 2 0 0 0 0 0 0 0 0 0 0 0 0 0 0 0 0 18 171 219 253 253 253 253 195 80 9 0 0 0 0 0 0 0 0 0 0 0 0 0 0 0 0 55 172 226 253 253 253 253 244 133 11 0 0 0 0 0 0 0 0 0 0 0 0 0 0 0 0 0 0 136 253 253 253 212 135 132 16 0 0 0 0 0 0 0 0 0 0 0 0 0 0 0 0 0 0 0 0 0 0 0 0 0 0 0 0 0 0 0 0 0 0 0 0 0 0 0 0 0 0 0 0 0 0 0 0 0 0 0 0 0 0 0 0 0 0 0 0 0 0 0 0 0 0 0 0 0 0 0 0 0 0 0 0 0 0 0 0 0 0 0 0 0 0 0 0 0 0 0 0 0 0 0 0 0 0 0 0 \n"
          ]
        }
      ]
    },
    {
      "cell_type": "markdown",
      "source": [
        "## To work with MNIST images we need to set our DIM compile flag to 784.  "
      ],
      "metadata": {
        "id": "8FcXNxeULYYs"
      }
    },
    {
      "cell_type": "code",
      "source": [
        "!gcc -DDIM=784 -o extreme_v2 extreme_v2.c -lm"
      ],
      "metadata": {
        "id": "wLNr8--aRUrG"
      },
      "execution_count": 25,
      "outputs": []
    },
    {
      "cell_type": "code",
      "source": [
        "!cat mnist1000.txt | ./extreme_v2"
      ],
      "metadata": {
        "colab": {
          "base_uri": "https://localhost:8080/"
        },
        "id": "QcZ9tlqDQxbp",
        "outputId": "e691c208-87cd-4566-e420-d6fbbaa79a05"
      },
      "execution_count": 26,
      "outputs": [
        {
          "output_type": "stream",
          "name": "stdout",
          "text": [
            "The extreme pair has indices (121,426)\n",
            "The distance between the extreme pair is 3797.52\n"
          ]
        }
      ]
    },
    {
      "cell_type": "markdown",
      "source": [
        "## We can visualize the extreme pair of MNIST images using Python."
      ],
      "metadata": {
        "id": "0pQns5elVCkM"
      }
    },
    {
      "cell_type": "code",
      "source": [
        "!cat mnist1000.txt | python3 mnist.py extreme.png 121 426"
      ],
      "metadata": {
        "id": "7hircP9_1_-T"
      },
      "execution_count": 27,
      "outputs": []
    },
    {
      "cell_type": "code",
      "source": [
        "from IPython import display\n",
        "display.Image(\"extreme.png\")"
      ],
      "metadata": {
        "colab": {
          "base_uri": "https://localhost:8080/",
          "height": 627
        },
        "id": "iwrx-QOk2Fhx",
        "outputId": "f00cab2b-f62e-469b-e080-4941f9bd7c77"
      },
      "execution_count": 28,
      "outputs": [
        {
          "output_type": "execute_result",
          "data": {
            "image/png": "[encoded data removed]",
            "text/plain": [
              "<IPython.core.display.Image object>"
            ]
          },
          "metadata": {},
          "execution_count": 28
        }
      ]
    },
    {
      "cell_type": "markdown",
      "source": [
        "## Let's next try a dataset containing 2000 MNIST images."
      ],
      "metadata": {
        "id": "ZRkx7EI1WKW4"
      }
    },
    {
      "cell_type": "code",
      "source": [
        "!cat mnist2000.txt | ./extreme_v2"
      ],
      "metadata": {
        "colab": {
          "base_uri": "https://localhost:8080/"
        },
        "id": "q6bvzGIH2Hoa",
        "outputId": "0b959a42-941f-4ab4-bfd3-ba338ca8148b"
      },
      "execution_count": 29,
      "outputs": [
        {
          "output_type": "stream",
          "name": "stdout",
          "text": [
            "/bin/bash: line 1:   596 Broken pipe             cat mnist2000.txt\n",
            "       597 Segmentation fault      (core dumped) | ./extreme_v2\n"
          ]
        }
      ]
    },
    {
      "cell_type": "markdown",
      "source": [
        "## What caused the segmentation fault?  \n",
        "\n",
        "## Hint 1: How many bytes is the *vecd data[len]* array in this case?\n",
        "\n",
        "## Hint 2: Remember that the stack size is 8192 kilobytes.  "
      ],
      "metadata": {
        "id": "hFpwuJTZ2UxY"
      }
    },
    {
      "cell_type": "code",
      "source": [
        "!ulimit -s"
      ],
      "metadata": {
        "colab": {
          "base_uri": "https://localhost:8080/"
        },
        "id": "oWNdFz_R2XAV",
        "outputId": "078a5770-c3d1-43a0-e937-05b68f4ebfcf"
      },
      "execution_count": 30,
      "outputs": [
        {
          "output_type": "stream",
          "name": "stdout",
          "text": [
            "8192\n"
          ]
        }
      ]
    },
    {
      "cell_type": "markdown",
      "source": [
        "## In version 3 of our extreme code, we put the dataset array on the heap instead of the stack."
      ],
      "metadata": {
        "id": "_Q_x08QLW4_r"
      }
    },
    {
      "cell_type": "code",
      "source": [
        "%%writefile extreme_v3.c\n",
        "#include <stdio.h>\n",
        "#include <stdlib.h>\n",
        "#include <math.h>\n",
        "\n",
        "#ifndef DIM\n",
        "#define DIM 2\n",
        "#endif\n",
        "\n",
        "typedef struct {\n",
        "    double x[DIM];\n",
        "} vecd;\n",
        "\n",
        "double vecd_dist_sq (vecd u, vecd v) {\n",
        "    double dist_sq = 0;\n",
        "    for (int i=0;i<DIM;i++) {\n",
        "        dist_sq += (u.x[i]-v.x[i])*(u.x[i]-v.x[i]);\n",
        "    }\n",
        "    return dist_sq;\n",
        "}\n",
        "\n",
        "void vecd_read_dataset (vecd* data, int len) {\n",
        "    for (int i=0;i<len;i++) {\n",
        "        for (int j=0;j<DIM;j++) {\n",
        "            if (scanf(\"%lf\",&(data[i].x[j])) != 1) {\n",
        "                printf (\"error reading dataset\\n\");\n",
        "                exit(1);\n",
        "            }\n",
        "        }\n",
        "    }\n",
        "}\n",
        "\n",
        "typedef struct {\n",
        "    double max_dist_sq;\n",
        "    int extreme_1, extreme_2;\n",
        "} extreme_info;\n",
        "\n",
        "extreme_info extreme_pair (vecd* data, int num_points) {\n",
        "    extreme_info info = { 0, -1, -1 };\n",
        "    for (int i=0;i<num_points-1;i++) {\n",
        "        for (int j=i+1;j<num_points;j++) {\n",
        "            double dist_sq = vecd_dist_sq(data[i],data[j]);\n",
        "            if (dist_sq > info.max_dist_sq) {\n",
        "                info.max_dist_sq = dist_sq;\n",
        "                info.extreme_1 = i;\n",
        "                info.extreme_2 = j;\n",
        "            }\n",
        "        }\n",
        "    }\n",
        "    return info;\n",
        "}\n",
        "\n",
        "int main () {\n",
        "\n",
        "    // read dataset\n",
        "    int len, dim;\n",
        "    if (scanf(\"%d %d\",&len,&dim) != 2) {\n",
        "        printf (\"error reading the length and dimension of the dataset\\n\");\n",
        "        return 1;\n",
        "    }\n",
        "    if (dim != DIM) {\n",
        "        printf (\"dimension of dataset does not match DIM\\n\");\n",
        "        return 1;\n",
        "    }\n",
        "    // allocate the data array on the heap using malloc\n",
        "    // note that sizeof(vecd) is the number of bytes required\n",
        "    // to store a variable of type vecd.\n",
        "    vecd* data = (vecd*)malloc(len*sizeof(vecd));\n",
        "    vecd_read_dataset (data,len);\n",
        "\n",
        "    // find the extreme pair\n",
        "    extreme_info info;\n",
        "    info = extreme_pair(data,len);\n",
        "\n",
        "    // print the results\n",
        "    printf (\"The extreme pair has indices (%d,%d)\\n\",info.extreme_1,info.extreme_2);\n",
        "    printf (\"The distance between the extreme pair is %.2f\\n\",sqrt(info.max_dist_sq));\n",
        "\n",
        "    // free the data array\n",
        "    free (data);\n",
        "}"
      ],
      "metadata": {
        "colab": {
          "base_uri": "https://localhost:8080/"
        },
        "id": "m-KJPqngXCfd",
        "outputId": "3290767a-0efb-4c66-c802-5976cd48e6dc"
      },
      "execution_count": 31,
      "outputs": [
        {
          "output_type": "stream",
          "name": "stdout",
          "text": [
            "Writing extreme_v3.c\n"
          ]
        }
      ]
    },
    {
      "cell_type": "code",
      "source": [
        "!gcc -DDIM=784 -o extreme_v3 extreme_v3.c -lm"
      ],
      "metadata": {
        "id": "HZrD4IleXe0F"
      },
      "execution_count": 32,
      "outputs": []
    },
    {
      "cell_type": "code",
      "source": [
        "!time cat mnist2000.txt | ./extreme_v3"
      ],
      "metadata": {
        "colab": {
          "base_uri": "https://localhost:8080/"
        },
        "id": "_LJRmBEg6Luv",
        "outputId": "326b342d-caca-49aa-9c0e-2dd3e592128b"
      },
      "execution_count": 50,
      "outputs": [
        {
          "output_type": "stream",
          "name": "stdout",
          "text": [
            "The extreme pair has indices (1618,1895)\n",
            "The distance between the extreme pair is 3928.75\n",
            "\n",
            "real\t0m7.911s\n",
            "user\t0m7.759s\n",
            "sys\t0m0.028s\n"
          ]
        }
      ]
    },
    {
      "cell_type": "code",
      "source": [
        "!cat mnist2000.txt | python3 mnist.py extreme2.png 1618 1895"
      ],
      "metadata": {
        "id": "zAS09-4s6Qeh"
      },
      "execution_count": 34,
      "outputs": []
    },
    {
      "cell_type": "code",
      "source": [
        "from IPython import display\n",
        "display.Image(\"extreme2.png\")"
      ],
      "metadata": {
        "colab": {
          "base_uri": "https://localhost:8080/",
          "height": 627
        },
        "id": "y8KIChHN6mRF",
        "outputId": "38a3f569-5f28-4989-82a6-f8461ce49853"
      },
      "execution_count": 35,
      "outputs": [
        {
          "output_type": "execute_result",
          "data": {
            "image/png": "[encoded data removed]",
            "text/plain": [
              "<IPython.core.display.Image object>"
            ]
          },
          "metadata": {},
          "execution_count": 35
        }
      ]
    },
    {
      "cell_type": "markdown",
      "source": [
        "## Version 3 now works for large datasets.\n",
        "\n",
        "## However, why is it not a good idea to pass the vectors *u* and *v* by value to the function *vec2_dist_sq*?\n",
        "    double vecd_dist_sq (vecd u, vecd v) {\n",
        "\n",
        "## In version 4, we make a performance improvement by passing *u* and *v* by pointer instead.\n"
      ],
      "metadata": {
        "id": "LrUwN-Akd0we"
      }
    },
    {
      "cell_type": "code",
      "source": [
        "%%writefile extreme_v4.c\n",
        "#include <stdio.h>\n",
        "#include <stdlib.h>\n",
        "#include <math.h>\n",
        "\n",
        "#ifndef DIM\n",
        "#define DIM 2\n",
        "#endif\n",
        "\n",
        "typedef struct {\n",
        "    double x[DIM];\n",
        "} vecd;\n",
        "\n",
        "double vecd_dist_sq (vecd* u, vecd* v) {\n",
        "    double dist_sq = 0;\n",
        "    for (int i=0;i<DIM;i++) {\n",
        "        dist_sq += (u->x[i]-v->x[i])*(u->x[i]-v->x[i]);\n",
        "    }\n",
        "    return dist_sq;\n",
        "}\n",
        "\n",
        "void vecd_read_dataset (vecd* data, int len) {\n",
        "    for (int i=0;i<len;i++) {\n",
        "        for (int j=0;j<DIM;j++) {\n",
        "            if (scanf(\"%lf\",&(data[i].x[j])) != 1) {\n",
        "                printf (\"error reading dataset\\n\");\n",
        "                exit(1);\n",
        "            }\n",
        "        }\n",
        "    }\n",
        "}\n",
        "\n",
        "typedef struct {\n",
        "    double max_dist_sq;\n",
        "    int extreme_1, extreme_2;\n",
        "} extreme_info;\n",
        "\n",
        "extreme_info extreme_pair (vecd* data, int num_points) {\n",
        "    extreme_info info = { 0, -1, -1 };\n",
        "    for (int i=0;i<num_points-1;i++) {\n",
        "        for (int j=i+1;j<num_points;j++) {\n",
        "            double dist_sq = vecd_dist_sq(&(data[i]),&(data[j]));\n",
        "            if (dist_sq > info.max_dist_sq) {\n",
        "                info.max_dist_sq = dist_sq;\n",
        "                info.extreme_1 = i;\n",
        "                info.extreme_2 = j;\n",
        "            }\n",
        "        }\n",
        "    }\n",
        "    return info;\n",
        "}\n",
        "\n",
        "int main () {\n",
        "\n",
        "    // read dataset\n",
        "    int len, dim;\n",
        "    if (scanf(\"%d %d\",&len,&dim) != 2) {\n",
        "        printf (\"error reading the length and dimension of the dataset\\n\");\n",
        "        return 1;\n",
        "    }\n",
        "    if (dim != DIM) {\n",
        "        printf (\"dimension of dataset does not match DIM\\n\");\n",
        "        return 1;\n",
        "    }\n",
        "    // allocate the data array on the heap using malloc\n",
        "    // note that sizeof(vecd) is the number of bytes required\n",
        "    // to store a variable of type vecd.\n",
        "    vecd* data = (vecd*)malloc(len*sizeof(vecd));\n",
        "    vecd_read_dataset (data,len);\n",
        "\n",
        "    // find the extreme pair\n",
        "    extreme_info info;\n",
        "    info = extreme_pair(data,len);\n",
        "\n",
        "    // print the results\n",
        "    printf (\"The extreme pair has indices (%d,%d)\\n\",info.extreme_1,info.extreme_2);\n",
        "    printf (\"The distance between the extreme pair is %.2f\\n\",sqrt(info.max_dist_sq));\n",
        "\n",
        "    // free the data array\n",
        "    free (data);\n",
        "}"
      ],
      "metadata": {
        "id": "t9S8RU756q7n",
        "colab": {
          "base_uri": "https://localhost:8080/"
        },
        "outputId": "8cce5646-d683-4201-c227-29c02aa5947a"
      },
      "execution_count": 36,
      "outputs": [
        {
          "output_type": "stream",
          "name": "stdout",
          "text": [
            "Writing extreme_v4.c\n"
          ]
        }
      ]
    },
    {
      "cell_type": "code",
      "source": [
        "!gcc -DDIM=784 -o extreme_v4 extreme_v4.c -lm"
      ],
      "metadata": {
        "id": "qQ2iCRsKesQI"
      },
      "execution_count": 51,
      "outputs": []
    },
    {
      "cell_type": "code",
      "source": [
        "!time cat mnist2000.txt | ./extreme_v4"
      ],
      "metadata": {
        "colab": {
          "base_uri": "https://localhost:8080/"
        },
        "id": "8HlB5vIlewhb",
        "outputId": "43f4244a-776e-40b6-928e-ff976b9d8560"
      },
      "execution_count": 52,
      "outputs": [
        {
          "output_type": "stream",
          "name": "stdout",
          "text": [
            "The extreme pair has indices (1618,1895)\n",
            "The distance between the extreme pair is 3928.75\n",
            "\n",
            "real\t0m6.340s\n",
            "user\t0m6.307s\n",
            "sys\t0m0.020s\n"
          ]
        }
      ]
    },
    {
      "cell_type": "markdown",
      "source": [
        "## That small change reduced the runtime by around 1.5 seconds.\n",
        "\n",
        "## We can further boost performance by compiling with the optimization flags turned on."
      ],
      "metadata": {
        "id": "blISjuhae8Z_"
      }
    },
    {
      "cell_type": "code",
      "source": [
        "!gcc -O3 -ffast-math -march=native -DDIM=784 -o extreme_v4 extreme_v4.c -lm"
      ],
      "metadata": {
        "id": "gCYzCKc1ez14"
      },
      "execution_count": 39,
      "outputs": []
    },
    {
      "cell_type": "code",
      "source": [
        "!time cat mnist2000.txt | ./extreme_v4"
      ],
      "metadata": {
        "colab": {
          "base_uri": "https://localhost:8080/"
        },
        "id": "614slnI6fEPL",
        "outputId": "94253fcf-5557-4f8f-e7ec-ed2e59c21ad6"
      },
      "execution_count": 40,
      "outputs": [
        {
          "output_type": "stream",
          "name": "stdout",
          "text": [
            "The extreme pair has indices (1618,1895)\n",
            "The distance between the extreme pair is 3928.75\n",
            "\n",
            "real\t0m0.902s\n",
            "user\t0m0.878s\n",
            "sys\t0m0.021s\n"
          ]
        }
      ]
    },
    {
      "cell_type": "markdown",
      "source": [
        "## We can use a simple shell script to store our compile command in a file.  \n",
        "\n",
        "## We can run the shell script using the *bash* command.\n",
        "\n",
        "## The *$1* is placeholder for a command line argument that specifies the dimension of our dataset."
      ],
      "metadata": {
        "id": "DLBsmu7HgGTR"
      }
    },
    {
      "cell_type": "code",
      "source": [
        "%%writefile build_v4.sh\n",
        "gcc -O3 -ffast-math -march=native -DDIM=$1 -o extreme_v4 extreme_v4.c -lm"
      ],
      "metadata": {
        "colab": {
          "base_uri": "https://localhost:8080/"
        },
        "id": "Wf-yx1kefGA7",
        "outputId": "fe881430-5bc3-4ef9-8512-223c2a6c035c"
      },
      "execution_count": 41,
      "outputs": [
        {
          "output_type": "stream",
          "name": "stdout",
          "text": [
            "Writing build_v4.sh\n"
          ]
        }
      ]
    },
    {
      "cell_type": "code",
      "source": [
        "!bash build_v4.sh 784"
      ],
      "metadata": {
        "id": "HOiVt2oMgl1e"
      },
      "execution_count": 42,
      "outputs": []
    },
    {
      "cell_type": "code",
      "source": [
        "!time cat mnist2000.txt | ./extreme_v4"
      ],
      "metadata": {
        "colab": {
          "base_uri": "https://localhost:8080/"
        },
        "id": "idnNAdhrgona",
        "outputId": "fb7272bb-9bab-4fc8-e13b-208ea063c586"
      },
      "execution_count": 43,
      "outputs": [
        {
          "output_type": "stream",
          "name": "stdout",
          "text": [
            "The extreme pair has indices (1618,1895)\n",
            "The distance between the extreme pair is 3928.75\n",
            "\n",
            "real\t0m0.947s\n",
            "user\t0m0.918s\n",
            "sys\t0m0.019s\n"
          ]
        }
      ]
    },
    {
      "cell_type": "markdown",
      "source": [
        "## Part 3 : Using Header and Implementation Files\n",
        "\n",
        "## As projects become more complicated we will avoid putting all of our code in a single source file.  \n",
        "\n",
        "## We can use header (or interface) files (i.e. *.h*) and implementation files (i.e. *.c*) to move related type declarations and functions to their own files.  \n",
        "\n",
        "## What type declarations and functions are related in our extreme code?"
      ],
      "metadata": {
        "id": "vk1RzJ3phj80"
      }
    },
    {
      "cell_type": "markdown",
      "source": [
        "## Let's get started with version 5 by first creating a *.h* file for our *vecd* type declation and interfaces.\n",
        "\n",
        "## Note that we use the flag *VECD_H* to avoid having multiple copies of our header file included.  \n",
        "\n",
        "## Multiple includes can happen if multiple header files are included that include the same header file.  \n",
        "\n",
        "## This problem is more common on larger projects but it is good to get into the habit of preventing multiple includes now.  \n",
        "\n",
        "## Note that the header file only contains type declarations and function *interfaces*.\n",
        "\n",
        "## We typically avoid specifying *implementations* in our header files."
      ],
      "metadata": {
        "id": "Qf8Ksq_bip3I"
      }
    },
    {
      "cell_type": "code",
      "source": [
        "%%writefile vecd.h\n",
        "#ifndef VECD_H\n",
        "#define VECD_H\n",
        "\n",
        "#ifndef DIM\n",
        "#define DIM 2\n",
        "#endif\n",
        "\n",
        "typedef struct {\n",
        "    double x[DIM];\n",
        "} vecd;\n",
        "\n",
        "double vecd_dist_sq (vecd* u, vecd* v);\n",
        "\n",
        "void vecd_read_dataset (vecd* data, int len);\n",
        "\n",
        "#endif"
      ],
      "metadata": {
        "colab": {
          "base_uri": "https://localhost:8080/"
        },
        "id": "IGbhukX3hhf3",
        "outputId": "a798f18c-f025-4eac-8909-924f01158b29"
      },
      "execution_count": 44,
      "outputs": [
        {
          "output_type": "stream",
          "name": "stdout",
          "text": [
            "Writing vecd.h\n"
          ]
        }
      ]
    },
    {
      "cell_type": "markdown",
      "source": [
        "## Here is the corresponding *implementation* file."
      ],
      "metadata": {
        "id": "HWTf6QtTtuOp"
      }
    },
    {
      "cell_type": "code",
      "source": [
        "%%writefile vecd.c\n",
        "#include <stdio.h>\n",
        "#include <stdlib.h>\n",
        "#include \"vecd.h\"\n",
        "\n",
        "double vecd_dist_sq (vecd* u, vecd* v) {\n",
        "    double dist_sq = 0;\n",
        "    for (int i=0;i<DIM;i++) {\n",
        "        dist_sq += (u->x[i]-v->x[i])*(u->x[i]-v->x[i]);\n",
        "    }\n",
        "    return dist_sq;\n",
        "}\n",
        "\n",
        "void vecd_read_dataset (vecd* data, int len) {\n",
        "    for (int i=0;i<len;i++) {\n",
        "        for (int j=0;j<DIM;j++) {\n",
        "            if (scanf(\"%lf\",&(data[i].x[j])) != 1) {\n",
        "                printf (\"error reading dataset\\n\");\n",
        "                exit(1);\n",
        "            }\n",
        "        }\n",
        "    }\n",
        "}"
      ],
      "metadata": {
        "colab": {
          "base_uri": "https://localhost:8080/"
        },
        "id": "GGbkNZBTtx3b",
        "outputId": "25470efa-2f36-439d-dfd5-6c6035530957"
      },
      "execution_count": 45,
      "outputs": [
        {
          "output_type": "stream",
          "name": "stdout",
          "text": [
            "Writing vecd.c\n"
          ]
        }
      ]
    },
    {
      "cell_type": "markdown",
      "source": [
        "## Finally, here is our main source file that takes advantage of the separation of the *vecd* functionality."
      ],
      "metadata": {
        "id": "iYGGsaOEuqx4"
      }
    },
    {
      "cell_type": "code",
      "source": [
        "%%writefile extreme_v5.c\n",
        "#include <stdio.h>\n",
        "#include <stdlib.h>\n",
        "#include <math.h>\n",
        "#include \"vecd.h\"\n",
        "\n",
        "typedef struct {\n",
        "    double max_dist_sq;\n",
        "    int extreme_1, extreme_2;\n",
        "} extreme_info;\n",
        "\n",
        "extreme_info extreme_pair (vecd* data, int num_points) {\n",
        "    extreme_info info = { 0, -1, -1 };\n",
        "    for (int i=0;i<num_points-1;i++) {\n",
        "        for (int j=i+1;j<num_points;j++) {\n",
        "            double dist_sq = vecd_dist_sq(&(data[i]),&(data[j]));\n",
        "            if (dist_sq > info.max_dist_sq) {\n",
        "                info.max_dist_sq = dist_sq;\n",
        "                info.extreme_1 = i;\n",
        "                info.extreme_2 = j;\n",
        "            }\n",
        "        }\n",
        "    }\n",
        "    return info;\n",
        "}\n",
        "\n",
        "int main () {\n",
        "\n",
        "    // read dataset\n",
        "    int len, dim;\n",
        "    if (scanf(\"%d %d\",&len,&dim) != 2) {\n",
        "        printf (\"error reading the length and dimension of the dataset\\n\");\n",
        "        return 1;\n",
        "    }\n",
        "    if (dim != DIM) {\n",
        "        printf (\"dimension of dataset does not match DIM\\n\");\n",
        "        return 1;\n",
        "    }\n",
        "    // allocate the data array on the heap using malloc\n",
        "    // note that sizeof(vecd) is the number of bytes required\n",
        "    // to store a variable of type vecd.\n",
        "    vecd* data = (vecd*)malloc(len*sizeof(vecd));\n",
        "    vecd_read_dataset (data,len);\n",
        "\n",
        "    // find the extreme pair\n",
        "    extreme_info info;\n",
        "    info = extreme_pair(data,len);\n",
        "\n",
        "    // print the results\n",
        "    printf (\"The extreme pair has indices (%d,%d)\\n\",info.extreme_1,info.extreme_2);\n",
        "    printf (\"The distance between the extreme pair is %.2f\\n\",sqrt(info.max_dist_sq));\n",
        "\n",
        "    // free the data array\n",
        "    free (data);\n",
        "}"
      ],
      "metadata": {
        "colab": {
          "base_uri": "https://localhost:8080/"
        },
        "id": "M381jSu0un5n",
        "outputId": "f8c2cb53-3dbe-4a76-b492-6cb1eff91419"
      },
      "execution_count": 46,
      "outputs": [
        {
          "output_type": "stream",
          "name": "stdout",
          "text": [
            "Writing extreme_v5.c\n"
          ]
        }
      ]
    },
    {
      "cell_type": "markdown",
      "source": [
        "## To build our new program we need to add the source file *vecd.c* to our compile command."
      ],
      "metadata": {
        "id": "IJb-FJVavHD0"
      }
    },
    {
      "cell_type": "code",
      "source": [
        "%%writefile build_v5.sh\n",
        "gcc -O3 -ffast-math -march=native -DDIM=$1 -o extreme_v5 extreme_v5.c vecd.c -lm"
      ],
      "metadata": {
        "colab": {
          "base_uri": "https://localhost:8080/"
        },
        "id": "0Ar5oTh8vGMV",
        "outputId": "e71a5657-5004-45a8-961e-3dc4b091386b"
      },
      "execution_count": 47,
      "outputs": [
        {
          "output_type": "stream",
          "name": "stdout",
          "text": [
            "Writing build_v5.sh\n"
          ]
        }
      ]
    },
    {
      "cell_type": "code",
      "source": [
        "!bash build_v5.sh 784"
      ],
      "metadata": {
        "id": "qKpftReAvT58"
      },
      "execution_count": 48,
      "outputs": []
    },
    {
      "cell_type": "code",
      "source": [
        "!time cat mnist2000.txt | ./extreme_v5"
      ],
      "metadata": {
        "colab": {
          "base_uri": "https://localhost:8080/"
        },
        "id": "4pDpCyiCvXcH",
        "outputId": "648a9e12-9447-4fd0-e737-2a49bedecc1e"
      },
      "execution_count": 49,
      "outputs": [
        {
          "output_type": "stream",
          "name": "stdout",
          "text": [
            "The extreme pair has indices (1618,1895)\n",
            "The distance between the extreme pair is 3928.75\n",
            "\n",
            "real\t0m0.968s\n",
            "user\t0m0.929s\n",
            "sys\t0m0.024s\n"
          ]
        }
      ]
    },
    {
      "cell_type": "code",
      "source": [],
      "metadata": {
        "id": "g-GpjDtpvaeF"
      },
      "execution_count": 49,
      "outputs": []
    }
  ]
}