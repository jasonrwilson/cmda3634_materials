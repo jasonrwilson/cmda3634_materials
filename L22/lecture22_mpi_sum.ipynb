{
  "cells": [
    {
      "cell_type": "markdown",
      "metadata": {
        "id": "7ssJ7xgrww1E"
      },
      "source": [
        "# Lecture 22 : MPI Sum"
      ]
    },
    {
      "cell_type": "markdown",
      "metadata": {
        "id": "rGhBPzqHzqjV"
      },
      "source": [
        "## In our first version, each MPI rank separately computes the full sum and prints the results."
      ]
    },
    {
      "cell_type": "code",
      "execution_count": null,
      "metadata": {
        "colab": {
          "base_uri": "https://localhost:8080/"
        },
        "id": "bIzMHit8xZNk",
        "outputId": "37bde099-a9f1-4e36-cb42-e8ccb4b7c7a0"
      },
      "outputs": [
        {
          "name": "stdout",
          "output_type": "stream",
          "text": [
            "Writing mpi_sum_v1.c\n"
          ]
        }
      ],
      "source": [
        "%%writefile mpi_sum_v1.c\n",
        "#include <stdio.h>\n",
        "#include <stdlib.h>\n",
        "#include <string.h>\n",
        "#include <mpi.h>\n",
        "\n",
        "int main(int argc, char** argv) {\n",
        "\n",
        "    MPI_Init (&argc, &argv);\n",
        "\n",
        "    // MPI_COMM_WORLD is the default communicator that contains all ranks\n",
        "    int rank, size;\n",
        "    MPI_Comm_rank(MPI_COMM_WORLD, &rank);\n",
        "    MPI_Comm_size(MPI_COMM_WORLD, &size);\n",
        "\n",
        "    // get N from command line\n",
        "    if (argc < 2) {\n",
        "        printf (\"Command usage : %s %s\\n\",argv[0],\"N\");\n",
        "        return 1;\n",
        "    }\n",
        "    long long N = atoll(argv[1]);\n",
        "\n",
        "    // start the timer\n",
        "    double start_time, end_time;\n",
        "    start_time = MPI_Wtime();\n",
        "\n",
        "    // calculate the sum\n",
        "    long long sum = 0;\n",
        "    for (long long i = 1; i <= N;i++) {\n",
        "        sum += i;\n",
        "    }\n",
        "\n",
        "    // stop the timer\n",
        "    end_time = MPI_Wtime();\n",
        "\n",
        "    // print results\n",
        "    printf (\"rank %d (of %d) sum = %lld, N*(N+1)/2 = %lld, elapsed time = %.4f seconds\\n\",\n",
        "            rank,size,sum,(N/2)*(N+1),end_time-start_time);\n",
        "\n",
        "    MPI_Finalize();\n",
        "}"
      ]
    },
    {
      "cell_type": "markdown",
      "metadata": {
        "id": "S1_PGTcszKNN"
      },
      "source": [
        "## Typing the following on matrix:    \n",
        "    mpicc -o mpi_sum_v1 mpi_sum_v1.c\n",
        "    mpiexec -n 2 ./mpi_sum_v1 1000000"
      ]
    },
    {
      "cell_type": "markdown",
      "metadata": {
        "id": "MYP3Zt2yzdzi"
      },
      "source": [
        "## Produces the output:\n",
        "    rank 1 (of 2) sum = 500000500000, N*(N+1)/2 = 500000500000, elapsed time = 0.0027 seconds\n",
        "    rank 0 (of 2) sum = 500000500000, N*(N+1)/2 = 500000500000, elapsed time = 0.0031 seconds"
      ]
    },
    {
      "cell_type": "markdown",
      "metadata": {
        "id": "3cq34OYYz2-Z"
      },
      "source": [
        "## In our second version we have each MPI rank compute only part of the sum."
      ]
    },
    {
      "cell_type": "code",
      "execution_count": null,
      "metadata": {
        "id": "O6ifCmP4zOHP"
      },
      "outputs": [],
      "source": [
        "%%writefile mpi_sum_v2.c\n",
        "#include <stdio.h>\n",
        "#include <stdlib.h>\n",
        "#include <string.h>\n",
        "#include <mpi.h>\n",
        "\n",
        "int main(int argc, char **argv) {\n",
        "\n",
        "    MPI_Init (&argc, &argv);\n",
        "\n",
        "    // MPI_COMM_WORLD is the default communicator that contains all ranks\n",
        "    int rank, size;\n",
        "    MPI_Comm_rank(MPI_COMM_WORLD, &rank);\n",
        "    MPI_Comm_size(MPI_COMM_WORLD, &size);\n",
        "\n",
        "    // get N from command line\n",
        "    if (argc < 2) {\n",
        "        printf (\"Command usage : %s %s\\n\",argv[0],\"N\");\n",
        "        return 1;\n",
        "    }\n",
        "    long long N = atoll(argv[1]);\n",
        "\n",
        "    // start the timer\n",
        "    double start_time, end_time;\n",
        "    start_time = MPI_Wtime();\n",
        "\n",
        "    // calculate the sum\n",
        "    long long sum = 0;\n",
        "    for (long long i = 1+rank; i <= N;i+=size) {\n",
        "        sum += i;\n",
        "    }\n",
        "\n",
        "    // stop the timer\n",
        "    end_time = MPI_Wtime();\n",
        "\n",
        "    // print results\n",
        "    printf (\"rank %d (of %d) sum = %lld, N*(N+1)/2 = %lld, elapsed time = %.4f seconds\\n\",\n",
        "            rank,size,sum,(N/2)*(N+1),end_time-start_time);\n",
        "\n",
        "    MPI_Finalize();\n",
        "\n",
        "}"
      ]
    },
    {
      "cell_type": "markdown",
      "metadata": {
        "id": "xuwHLihS0OW_"
      },
      "source": [
        "## Typing the following on matrix:    \n",
        "    mpicc -o mpi_sum_v2 mpi_sum_v2.c\n",
        "    mpiexec -n 2 ./mpi_sum_v2 1000000"
      ]
    },
    {
      "cell_type": "markdown",
      "metadata": {
        "id": "UqHTa66K0Wmn"
      },
      "source": [
        "## Produces the output:\n",
        "    rank 0 (of 2) sum = 250000000000, N*(N+1)/2 = 500000500000, elapsed time = 0.0008 seconds\n",
        "    rank 1 (of 2) sum = 250000500000, N*(N+1)/2 = 500000500000, elapsed time = 0.0013 seconds"
      ]
    },
    {
      "cell_type": "markdown",
      "metadata": {
        "id": "e1ATjCrr0d-X"
      },
      "source": [
        "## The big difference between MPI and OpenMP/CUDA is that in MPI every variable is private and there is no way to create a shared variable!\n",
        "\n",
        "## This is because different MPI ranks can execute on completely different computers (perhaps not even in the same city, state, or country).\n",
        "\n",
        "## Thus, we cannot assume that our MPI ranks will have to access to some common memory that can be shared.  \n",
        "\n",
        "## Since ranks cannot communicate using shared memory, they must communicate using **message passing**."
      ]
    },
    {
      "cell_type": "markdown",
      "metadata": {
        "id": "JrGU402q1l9u"
      },
      "source": [
        "## In our third version, we have each nonzero rank send its partial sum to rank 0.  Rank 0 receives all of the partial sums and computes the final answer!\n",
        "\n",
        "## Note that in this version only rank 0 has the correct answer."
      ]
    },
    {
      "cell_type": "code",
      "execution_count": null,
      "metadata": {
        "colab": {
          "base_uri": "https://localhost:8080/"
        },
        "id": "f1AcI1-o0QSe",
        "outputId": "f3bcf76e-ed0a-4eec-8c77-07b2d680d7ad"
      },
      "outputs": [
        {
          "name": "stdout",
          "output_type": "stream",
          "text": [
            "Overwriting mpi_sum_v3.c\n"
          ]
        }
      ],
      "source": [
        "%%writefile mpi_sum_v3.c\n",
        "#include <stdio.h>\n",
        "#include <stdlib.h>\n",
        "#include <string.h>\n",
        "#include <mpi.h>\n",
        "\n",
        "int main(int argc, char** argv) {\n",
        "\n",
        "    MPI_Init (&argc, &argv);\n",
        "\n",
        "    // MPI_COMM_WORLD is the default communicator that contains all ranks\n",
        "    int rank, size;\n",
        "    MPI_Comm_rank(MPI_COMM_WORLD, &rank);\n",
        "    MPI_Comm_size(MPI_COMM_WORLD, &size);\n",
        "\n",
        "    // get N from command line\n",
        "    if (argc < 2) {\n",
        "        printf (\"Command usage : %s %s\\n\",argv[0],\"N\");\n",
        "        return 1;\n",
        "    }\n",
        "    long long N = atoll(argv[1]);\n",
        "\n",
        "    // start the timer\n",
        "    double start_time, end_time;\n",
        "    start_time = MPI_Wtime();\n",
        "\n",
        "    // calculate the sum\n",
        "    long long sum = 0;\n",
        "    for (long long i = 1+rank; i <= N;i+=size) {\n",
        "        sum += i;\n",
        "    }\n",
        "\n",
        "    // all nonzero ranks send their partial sums to rank 0\n",
        "    if (rank == 0) {\n",
        "\t    long long rank_sum;\n",
        "\t    MPI_Status status;\n",
        "\t    for (int source=1;source<size;source++) {\n",
        "\t        MPI_Recv(&rank_sum,1,MPI_UNSIGNED_LONG_LONG,source,0,MPI_COMM_WORLD,&status);\n",
        "#ifdef DIAG\n",
        "\t        printf (\"rank 0 received message %lld from rank %d\\n\",rank_sum,source);\n",
        "#endif\n",
        "            sum += rank_sum;\n",
        "\t    }\n",
        "    } else {\n",
        "\t    int dest = 0;\n",
        "\t    MPI_Send(&sum,1,MPI_LONG_LONG,dest,0,MPI_COMM_WORLD);\n",
        "    }\n",
        "\n",
        "    // stop the timer\n",
        "    end_time = MPI_Wtime();\n",
        "\n",
        "    // print results\n",
        "    printf (\"rank %d (of %d) sum = %lld, N*(N+1)/2 = %lld, elapsed time = %.4f seconds\\n\",\n",
        "            rank,size,sum,(N/2)*(N+1),end_time-start_time);\n",
        "\n",
        "    MPI_Finalize();\n",
        "}"
      ]
    },
    {
      "cell_type": "markdown",
      "metadata": {
        "id": "tw7CER6016_U"
      },
      "source": [
        "## Typing the following on matrix:    \n",
        "    mpicc -DDIAG -o mpi_sum_v3 mpi_sum_v3.c\n",
        "    mpiexec -n 2 ./mpi_sum_v3 1000000"
      ]
    },
    {
      "cell_type": "markdown",
      "metadata": {
        "id": "KdML72yK2DMe"
      },
      "source": [
        "## Produces the output:\n",
        "    rank 0 received message 250000500000 from rank 1\n",
        "    rank 0 (of 2) sum = 500000500000, N*(N+1)/2 = 500000500000, elapsed time = 0.0013 seconds\n",
        "    rank 1 (of 2) sum = 250000500000, N*(N+1)/2 = 500000500000, elapsed time = 0.0013 seconds"
      ]
    },
    {
      "cell_type": "markdown",
      "metadata": {
        "id": "FRRxDErC4gge"
      },
      "source": [
        "## For version 4, we have only rank 0 print the final result."
      ]
    },
    {
      "cell_type": "code",
      "execution_count": null,
      "metadata": {
        "colab": {
          "base_uri": "https://localhost:8080/"
        },
        "id": "ZiRzFt5J2AOc",
        "outputId": "ab2290a2-7033-4184-9b3f-1084ab7db431"
      },
      "outputs": [
        {
          "name": "stdout",
          "output_type": "stream",
          "text": [
            "Writing mpi_sum_v4.c\n"
          ]
        }
      ],
      "source": [
        "%%writefile mpi_sum_v4.c\n",
        "#include <stdio.h>\n",
        "#include <stdlib.h>\n",
        "#include <string.h>\n",
        "#include <mpi.h>\n",
        "\n",
        "int main(int argc, char** argv) {\n",
        "\n",
        "    MPI_Init (&argc, &argv);\n",
        "\n",
        "    // MPI_COMM_WORLD is the default communicator that contains all ranks\n",
        "    int rank, size;\n",
        "    MPI_Comm_rank(MPI_COMM_WORLD, &rank);\n",
        "    MPI_Comm_size(MPI_COMM_WORLD, &size);\n",
        "\n",
        "    // get N from command line\n",
        "    if (argc < 2) {\n",
        "        printf (\"Command usage : %s %s\\n\",argv[0],\"N\");\n",
        "        return 1;\n",
        "    }\n",
        "    long long N = atoll(argv[1]);\n",
        "\n",
        "    // start the timer\n",
        "    double start_time, end_time;\n",
        "    start_time = MPI_Wtime();\n",
        "\n",
        "    // calculate the sum\n",
        "    long long sum = 0;\n",
        "    for (long long i = 1+rank; i <= N;i+=size) {\n",
        "        sum += i;\n",
        "    }\n",
        "\n",
        "    // all nonzero ranks send their partial sums to rank 0\n",
        "    if (rank == 0) {\n",
        "\t    long long rank_sum;\n",
        "\t    MPI_Status status;\n",
        "\t    for (int source=1;source<size;source++) {\n",
        "\t        MPI_Recv(&rank_sum,1,MPI_UNSIGNED_LONG_LONG,source,0,MPI_COMM_WORLD,&status);\n",
        "#ifdef DIAG\n",
        "\t        printf (\"rank 0 received message %lld from rank %d\\n\",rank_sum,source);\n",
        "#endif\n",
        "            sum += rank_sum;\n",
        "\t    }\n",
        "    } else {\n",
        "\t    int dest = 0;\n",
        "\t    MPI_Send(&sum,1,MPI_LONG_LONG,dest,0,MPI_COMM_WORLD);\n",
        "    }\n",
        "\n",
        "    // stop the timer\n",
        "    end_time = MPI_Wtime();\n",
        "\n",
        "    // only rank 0 prints results\n",
        "    if (rank == 0) {\n",
        "        printf (\"sum = %lld, N*(N+1)/2 = %lld, elapsed time = %.4f seconds\\n\",\n",
        "                sum,(N/2)*(N+1),end_time-start_time);\n",
        "    }\n",
        "\n",
        "    MPI_Finalize();\n",
        "}"
      ]
    },
    {
      "cell_type": "markdown",
      "metadata": {
        "id": "55lh7sGn482V"
      },
      "source": [
        "## Typing the following on matrix:    \n",
        "    mpicc -o mpi_sum_v4 mpi_sum_v4.c\n",
        "    mpiexec -n 1 ./mpi_sum_v4 1000000000\n",
        "    mpiexec -n 2 ./mpi_sum_v4 1000000000\n",
        "    mpiexec -n 4 ./mpi_sum_v4 1000000000"
      ]
    },
    {
      "cell_type": "markdown",
      "metadata": {
        "id": "BzRnuksT5biO"
      },
      "source": [
        "## Produces the output:\n",
        "    (base) jasonwil@matrix:~/cmda3634/L21_test$ mpicc -o mpi_sum_v4 mpi_sum_v4.c\n",
        "    (base) jasonwil@matrix:~/cmda3634/L21_test$ mpiexec -n 1 ./mpi_sum_v4 1000000000\n",
        "    sum = 500000000500000000, N*(N+1)/2 = 500000000500000000, elapsed time = 1.9880 seconds\n",
        "    (base) jasonwil@matrix:~/cmda3634/L21_test$ mpiexec -n 2 ./mpi_sum_v4 1000000000\n",
        "    sum = 500000000500000000, N*(N+1)/2 = 500000000500000000, elapsed time = 0.9907 seconds\n",
        "    (base) jasonwil@matrix:~/cmda3634/L21_test$ mpiexec -n 4 ./mpi_sum_v4 1000000000\n",
        "    sum = 500000000500000000, N*(N+1)/2 = 500000000500000000, elapsed time = 0.5256 seconds"
      ]
    },
    {
      "cell_type": "markdown",
      "metadata": {
        "id": "0f8pxEXe7p6Q"
      },
      "source": [
        "## In our final version 5 we have rank 0 send each of the other ranks the final answer.  "
      ]
    },
    {
      "cell_type": "code",
      "execution_count": null,
      "metadata": {
        "id": "VZ7ZQpyX43wS"
      },
      "outputs": [],
      "source": [
        "%%writefile mpi_sum_v5.c\n",
        "#include <stdio.h>\n",
        "#include <stdlib.h>\n",
        "#include <string.h>\n",
        "#include <mpi.h>\n",
        "\n",
        "int main(int argc, char** argv) {\n",
        "\n",
        "    MPI_Init (&argc, &argv);\n",
        "\n",
        "    // MPI_COMM_WORLD is the default communicator that contains all ranks\n",
        "    int rank, size;\n",
        "    MPI_Comm_rank(MPI_COMM_WORLD, &rank);\n",
        "    MPI_Comm_size(MPI_COMM_WORLD, &size);\n",
        "\n",
        "    // get N from command line\n",
        "    if (argc < 2) {\n",
        "        printf (\"Command usage : %s %s\\n\",argv[0],\"N\");\n",
        "        return 1;\n",
        "    }\n",
        "    long long N = atoll(argv[1]);\n",
        "\n",
        "    // start the timer\n",
        "    double start_time, end_time;\n",
        "    start_time = MPI_Wtime();\n",
        "\n",
        "    // calculate the sum\n",
        "    long long sum = 0;\n",
        "    for (long long i = 1+rank; i <= N;i+=size) {\n",
        "        sum += i;\n",
        "    }\n",
        "\n",
        "    // all nonzero ranks send their partial sums to rank 0\n",
        "    if (rank == 0) {\n",
        "\t    long long rank_sum;\n",
        "\t    MPI_Status status;\n",
        "\t    for (int source=1;source<size;source++) {\n",
        "\t        MPI_Recv(&rank_sum,1,MPI_UNSIGNED_LONG_LONG,source,0,MPI_COMM_WORLD,&status);\n",
        "#ifdef DIAG\n",
        "\t        printf (\"rank 0 received message %lld from rank %d\\n\",rank_sum,source);\n",
        "#endif\n",
        "            sum += rank_sum;\n",
        "\t    }\n",
        "    } else {\n",
        "\t    int dest = 0;\n",
        "\t    MPI_Send(&sum,1,MPI_LONG_LONG,dest,0,MPI_COMM_WORLD);\n",
        "    }\n",
        "\n",
        "    // all nonzero ranks receive the final sum from rank 0\n",
        "    if (rank == 0) {\n",
        "        for (int dest = 1;dest < size;dest++) {\n",
        "            MPI_Send(&sum,1,MPI_LONG_LONG,dest,0,MPI_COMM_WORLD);\n",
        "        }\n",
        "    } else {\n",
        "        int src = 0;\n",
        "        MPI_Status status;\n",
        "        MPI_Recv(&sum,1,MPI_LONG_LONG,src,0,MPI_COMM_WORLD,&status);\n",
        "    }\n",
        "\n",
        "    // stop the timer\n",
        "    end_time = MPI_Wtime();\n",
        "\n",
        "    // print results\n",
        "    printf (\"rank %d (of %d) sum = %lld, N*(N+1)/2 = %lld, elapsed time = %.4f seconds\\n\",\n",
        "            rank,size,sum,(N/2)*(N+1),end_time-start_time);\n",
        "\n",
        "    MPI_Finalize();\n",
        "}"
      ]
    },
    {
      "cell_type": "markdown",
      "metadata": {
        "id": "TQ1XiTAt8kRn"
      },
      "source": [
        "## Typing the following on matrix:    \n",
        "    mpicc -o mpi_sum_v5 mpi_sum_v5.c\n",
        "    mpiexec -n 4 ./mpi_sum_v5 1000000000"
      ]
    },
    {
      "cell_type": "markdown",
      "metadata": {
        "id": "3H4xhbI98sZV"
      },
      "source": [
        "## Produces the output:\n",
        "    rank 0 (of 4) sum = 500000000500000000, N*(N+1)/2 = 500000000500000000, elapsed time = 0.5265 seconds\n",
        "    rank 1 (of 4) sum = 500000000500000000, N*(N+1)/2 = 500000000500000000, elapsed time = 0.5266 seconds\n",
        "    rank 2 (of 4) sum = 500000000500000000, N*(N+1)/2 = 500000000500000000, elapsed time = 0.5265 seconds\n",
        "    rank 3 (of 4) sum = 500000000500000000, N*(N+1)/2 = 500000000500000000, elapsed time = 0.5266 seconds"
      ]
    },
    {
      "cell_type": "code",
      "execution_count": null,
      "metadata": {
        "id": "Igp7IuO08r7j"
      },
      "outputs": [],
      "source": []
    }
  ],
  "metadata": {
    "colab": {
      "provenance": []
    },
    "kernelspec": {
      "display_name": "Python 3 (ipykernel)",
      "language": "python",
      "name": "python3"
    },
    "language_info": {
      "codemirror_mode": {
        "name": "ipython",
        "version": 3
      },
      "file_extension": ".py",
      "mimetype": "text/x-python",
      "name": "python",
      "nbconvert_exporter": "python",
      "pygments_lexer": "ipython3",
      "version": "3.11.7"
    }
  },
  "nbformat": 4,
  "nbformat_minor": 0
}