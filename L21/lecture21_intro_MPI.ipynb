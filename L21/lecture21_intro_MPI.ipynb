{
  "nbformat": 4,
  "nbformat_minor": 0,
  "metadata": {
    "colab": {
      "provenance": []
    },
    "kernelspec": {
      "name": "python3",
      "display_name": "Python 3"
    },
    "language_info": {
      "name": "python"
    }
  },
  "cells": [
    {
      "cell_type": "markdown",
      "source": [
        "# Lecture 21 : Introduction to MPI (Message Passing Interface)"
      ],
      "metadata": {
        "id": "7ssJ7xgrww1E"
      }
    },
    {
      "cell_type": "markdown",
      "source": [
        "# Part 1 : MPI Hello World"
      ],
      "metadata": {
        "id": "1zQNGcAkxGCP"
      }
    },
    {
      "cell_type": "code",
      "execution_count": 7,
      "metadata": {
        "colab": {
          "base_uri": "https://localhost:8080/"
        },
        "id": "7YalK4rewvxQ",
        "outputId": "8ed15db9-c2d4-424a-f8d0-79cadc50904a"
      },
      "outputs": [
        {
          "output_type": "stream",
          "name": "stdout",
          "text": [
            "Overwriting mpi_world.c\n"
          ]
        }
      ],
      "source": [
        "%%writefile mpi_world.c\n",
        "#include <stdio.h>\n",
        "#include <stdlib.h>\n",
        "#include <mpi.h>\n",
        "\n",
        "int main(int argc, char** argv) {\n",
        "\n",
        "    MPI_Init (&argc, &argv);\n",
        "\n",
        "    int rank, size;\n",
        "    MPI_Comm_rank(MPI_COMM_WORLD,&rank);\n",
        "    MPI_Comm_size(MPI_COMM_WORLD,&size);\n",
        "\n",
        "    printf (\"Hello World! from MPI rank %d, number of ranks = %d\\n\",rank,size);\n",
        "\n",
        "    MPI_Finalize();\n",
        "}"
      ]
    },
    {
      "cell_type": "markdown",
      "source": [
        "## Typing the following on matrix:    \n",
        "    mpicc -o mpi_world mpi_world.c\n",
        "    mpiexec -n 8 ./mpi_world"
      ],
      "metadata": {
        "id": "8wVWR79GyJlm"
      }
    },
    {
      "cell_type": "markdown",
      "source": [
        "## Produces the output:"
      ],
      "metadata": {
        "id": "xasfXl0Wyb7G"
      }
    },
    {
      "cell_type": "markdown",
      "source": [
        "    Hello World! from MPI rank 1, number of ranks = 8\n",
        "    Hello World! from MPI rank 5, number of ranks = 8\n",
        "    Hello World! from MPI rank 0, number of ranks = 8\n",
        "    Hello World! from MPI rank 2, number of ranks = 8\n",
        "    Hello World! from MPI rank 3, number of ranks = 8\n",
        "    Hello World! from MPI rank 4, number of ranks = 8\n",
        "    Hello World! from MPI rank 6, number of ranks = 8\n",
        "    Hello World! from MPI rank 7, number of ranks = 8"
      ],
      "metadata": {
        "id": "nRTgg8qCyT-A"
      }
    },
    {
      "cell_type": "markdown",
      "source": [
        "# Part 2 : MPI Sum"
      ],
      "metadata": {
        "id": "ebg52Rd6ywAt"
      }
    },
    {
      "cell_type": "markdown",
      "source": [
        "## In our first version, each MPI rank separately computes the full sum and prints the results."
      ],
      "metadata": {
        "id": "rGhBPzqHzqjV"
      }
    },
    {
      "cell_type": "code",
      "source": [
        "%%writefile mpi_sum_v1.c\n",
        "#include <stdio.h>\n",
        "#include <stdlib.h>\n",
        "#include <string.h>\n",
        "#include <mpi.h>\n",
        "\n",
        "int main(int argc, char** argv) {\n",
        "\n",
        "    MPI_Init (&argc, &argv);\n",
        "\n",
        "    // MPI_COMM_WORLD is the default communicator that contains all ranks\n",
        "    int rank, size;\n",
        "    MPI_Comm_rank(MPI_COMM_WORLD, &rank);\n",
        "    MPI_Comm_size(MPI_COMM_WORLD, &size);\n",
        "\n",
        "    // get N from command line\n",
        "    if (argc < 2) {\n",
        "        printf (\"Command usage : %s %s\\n\",argv[0],\"N\");\n",
        "        return 1;\n",
        "    }\n",
        "    long long N = atoll(argv[1]);\n",
        "\n",
        "    // start the timer\n",
        "    double start_time, end_time;\n",
        "    start_time = MPI_Wtime();\n",
        "\n",
        "    // calculate the sum\n",
        "    long long sum = 0;\n",
        "    for (long long i = 1; i <= N;i++) {\n",
        "        sum += i;\n",
        "    }\n",
        "\n",
        "    // stop the timer\n",
        "    end_time = MPI_Wtime();\n",
        "\n",
        "    // print results\n",
        "    printf (\"rank %d (of %d) sum = %lld, N*(N+1)/2 = %lld, elapsed time = %.4f seconds\\n\",\n",
        "            rank,size,sum,(N/2)*(N+1),end_time-start_time);\n",
        "\n",
        "    MPI_Finalize();\n",
        "}"
      ],
      "metadata": {
        "colab": {
          "base_uri": "https://localhost:8080/"
        },
        "id": "bIzMHit8xZNk",
        "outputId": "37bde099-a9f1-4e36-cb42-e8ccb4b7c7a0"
      },
      "execution_count": 10,
      "outputs": [
        {
          "output_type": "stream",
          "name": "stdout",
          "text": [
            "Writing mpi_sum_v1.c\n"
          ]
        }
      ]
    },
    {
      "cell_type": "markdown",
      "source": [
        "## Typing the following on matrix:    \n",
        "    mpicc -o mpi_sum_v1 mpi_sum_v1.c\n",
        "    mpiexec -n 2 ./mpi_sum_v1 1000000"
      ],
      "metadata": {
        "id": "S1_PGTcszKNN"
      }
    },
    {
      "cell_type": "markdown",
      "source": [
        "## Produces the output:\n",
        "    rank 1 (of 2) sum = 500000500000, N*(N+1)/2 = 500000500000, elapsed time = 0.0027 seconds\n",
        "    rank 0 (of 2) sum = 500000500000, N*(N+1)/2 = 500000500000, elapsed time = 0.0031 seconds"
      ],
      "metadata": {
        "id": "MYP3Zt2yzdzi"
      }
    },
    {
      "cell_type": "markdown",
      "source": [
        "## In our second version we have each MPI rank compute only part of the sum."
      ],
      "metadata": {
        "id": "3cq34OYYz2-Z"
      }
    },
    {
      "cell_type": "code",
      "source": [
        "%%writefile mpi_sum_v2.c\n",
        "#include <stdio.h>\n",
        "#include <stdlib.h>\n",
        "#include <string.h>\n",
        "#include <mpi.h>\n",
        "\n",
        "int main(int argc, char **argv) {\n",
        "\n",
        "    MPI_Init (&argc, &argv);\n",
        "\n",
        "    // MPI_COMM_WORLD is the default communicator that contains all ranks\n",
        "    int rank, size;\n",
        "    MPI_Comm_rank(MPI_COMM_WORLD, &rank);\n",
        "    MPI_Comm_size(MPI_COMM_WORLD, &size);\n",
        "\n",
        "    // get N from command line\n",
        "    if (argc < 2) {\n",
        "        printf (\"Command usage : %s %s\\n\",argv[0],\"N\");\n",
        "        return 1;\n",
        "    }\n",
        "    long long N = atoll(argv[1]);\n",
        "\n",
        "    // start the timer\n",
        "    double start_time, end_time;\n",
        "    start_time = MPI_Wtime();\n",
        "\n",
        "    // calculate the sum\n",
        "    long long sum = 0;\n",
        "    for (long long i = 1+rank; i <= N;i+=size) {\n",
        "        sum += i;\n",
        "    }\n",
        "\n",
        "    // stop the timer\n",
        "    end_time = MPI_Wtime();\n",
        "\n",
        "    // print results\n",
        "    printf (\"rank %d (of %d) sum = %lld, N*(N+1)/2 = %lld, elapsed time = %.4f seconds\\n\",\n",
        "            rank,size,sum,(N/2)*(N+1),end_time-start_time);\n",
        "\n",
        "    MPI_Finalize();\n",
        "\n",
        "}"
      ],
      "metadata": {
        "id": "O6ifCmP4zOHP"
      },
      "execution_count": null,
      "outputs": []
    },
    {
      "cell_type": "markdown",
      "source": [
        "## Typing the following on matrix:    \n",
        "    mpicc -o mpi_sum_v2 mpi_sum_v2.c\n",
        "    mpiexec -n 2 ./mpi_sum_v2 1000000"
      ],
      "metadata": {
        "id": "xuwHLihS0OW_"
      }
    },
    {
      "cell_type": "markdown",
      "source": [
        "## Produces the output:\n",
        "    rank 0 (of 2) sum = 250000000000, N*(N+1)/2 = 500000500000, elapsed time = 0.0008 seconds\n",
        "    rank 1 (of 2) sum = 250000500000, N*(N+1)/2 = 500000500000, elapsed time = 0.0013 seconds"
      ],
      "metadata": {
        "id": "UqHTa66K0Wmn"
      }
    },
    {
      "cell_type": "markdown",
      "source": [
        "## The big difference between MPI and OpenMP/CUDA is that in MPI every variable is private and there is no way to create a shared variable!\n",
        "\n",
        "## This is because different MPI ranks can execute on completely different computers (perhaps not even in the same city, state, or country).\n",
        "\n",
        "## Thus, we cannot assume that our MPI ranks will have to access to some common memory that can be shared.  \n",
        "\n",
        "## Since ranks cannot communicate using shared memory, they must communicate using **message passing**."
      ],
      "metadata": {
        "id": "e1ATjCrr0d-X"
      }
    },
    {
      "cell_type": "markdown",
      "source": [
        "## In our third version, we have each nonzero rank send its partial sum to rank 0.  Rank 0 receives all of the partial sums and computes the final answer!\n",
        "\n",
        "## Note that in this version only rank 0 has the correct answer."
      ],
      "metadata": {
        "id": "JrGU402q1l9u"
      }
    },
    {
      "cell_type": "code",
      "source": [
        "%%writefile mpi_sum_v3.c\n",
        "#include <stdio.h>\n",
        "#include <stdlib.h>\n",
        "#include <string.h>\n",
        "#include <mpi.h>\n",
        "\n",
        "int main(int argc, char** argv) {\n",
        "\n",
        "    MPI_Init (&argc, &argv);\n",
        "\n",
        "    // MPI_COMM_WORLD is the default communicator that contains all ranks\n",
        "    int rank, size;\n",
        "    MPI_Comm_rank(MPI_COMM_WORLD, &rank);\n",
        "    MPI_Comm_size(MPI_COMM_WORLD, &size);\n",
        "\n",
        "    // get N from command line\n",
        "    if (argc < 2) {\n",
        "        printf (\"Command usage : %s %s\\n\",argv[0],\"N\");\n",
        "        return 1;\n",
        "    }\n",
        "    long long N = atoll(argv[1]);\n",
        "\n",
        "    // start the timer\n",
        "    double start_time, end_time;\n",
        "    start_time = MPI_Wtime();\n",
        "\n",
        "    // calculate the sum\n",
        "    long long sum = 0;\n",
        "    for (long long i = 1+rank; i <= N;i+=size) {\n",
        "        sum += i;\n",
        "    }\n",
        "\n",
        "    // all nonzero ranks send their partial sums to rank 0\n",
        "    if (rank == 0) {\n",
        "\t    long long rank_sum;\n",
        "\t    MPI_Status status;\n",
        "\t    for (int source=1;source<size;source++) {\n",
        "\t        MPI_Recv(&rank_sum,1,MPI_UNSIGNED_LONG_LONG,source,0,MPI_COMM_WORLD,&status);\n",
        "#ifdef DIAG\n",
        "\t        printf (\"rank 0 received message %lld from rank %d\\n\",rank_sum,source);\n",
        "#endif\n",
        "            sum += rank_sum;\n",
        "\t    }\n",
        "    } else {\n",
        "\t    int dest = 0;\n",
        "\t    MPI_Send(&sum,1,MPI_LONG_LONG,dest,0,MPI_COMM_WORLD);\n",
        "    }\n",
        "\n",
        "    // stop the timer\n",
        "    end_time = MPI_Wtime();\n",
        "\n",
        "    // print results\n",
        "    printf (\"rank %d (of %d) sum = %lld, N*(N+1)/2 = %lld, elapsed time = %.4f seconds\\n\",\n",
        "            rank,size,sum,(N/2)*(N+1),end_time-start_time);\n",
        "\n",
        "    MPI_Finalize();\n",
        "}"
      ],
      "metadata": {
        "colab": {
          "base_uri": "https://localhost:8080/"
        },
        "id": "f1AcI1-o0QSe",
        "outputId": "f3bcf76e-ed0a-4eec-8c77-07b2d680d7ad"
      },
      "execution_count": 11,
      "outputs": [
        {
          "output_type": "stream",
          "name": "stdout",
          "text": [
            "Overwriting mpi_sum_v3.c\n"
          ]
        }
      ]
    },
    {
      "cell_type": "markdown",
      "source": [
        "## Typing the following on matrix:    \n",
        "    mpicc -DDIAG -o mpi_sum_v3 mpi_sum_v3.c\n",
        "    mpiexec -n 2 ./mpi_sum_v3 1000000"
      ],
      "metadata": {
        "id": "tw7CER6016_U"
      }
    },
    {
      "cell_type": "markdown",
      "source": [
        "## Produces the output:\n",
        "    rank 0 received message 250000500000 from rank 1\n",
        "    rank 0 (of 2) sum = 500000500000, N*(N+1)/2 = 500000500000, elapsed time = 0.0013 seconds\n",
        "    rank 1 (of 2) sum = 250000500000, N*(N+1)/2 = 500000500000, elapsed time = 0.0013 seconds"
      ],
      "metadata": {
        "id": "KdML72yK2DMe"
      }
    },
    {
      "cell_type": "markdown",
      "source": [
        "## For version 4, we have only rank 0 print the final result."
      ],
      "metadata": {
        "id": "FRRxDErC4gge"
      }
    },
    {
      "cell_type": "code",
      "source": [
        "%%writefile mpi_sum_v4.c\n",
        "#include <stdio.h>\n",
        "#include <stdlib.h>\n",
        "#include <string.h>\n",
        "#include <mpi.h>\n",
        "\n",
        "int main(int argc, char** argv) {\n",
        "\n",
        "    MPI_Init (&argc, &argv);\n",
        "\n",
        "    // MPI_COMM_WORLD is the default communicator that contains all ranks\n",
        "    int rank, size;\n",
        "    MPI_Comm_rank(MPI_COMM_WORLD, &rank);\n",
        "    MPI_Comm_size(MPI_COMM_WORLD, &size);\n",
        "\n",
        "    // get N from command line\n",
        "    if (argc < 2) {\n",
        "        printf (\"Command usage : %s %s\\n\",argv[0],\"N\");\n",
        "        return 1;\n",
        "    }\n",
        "    long long N = atoll(argv[1]);\n",
        "\n",
        "    // start the timer\n",
        "    double start_time, end_time;\n",
        "    start_time = MPI_Wtime();\n",
        "\n",
        "    // calculate the sum\n",
        "    long long sum = 0;\n",
        "    for (long long i = 1+rank; i <= N;i+=size) {\n",
        "        sum += i;\n",
        "    }\n",
        "\n",
        "    // all nonzero ranks send their partial sums to rank 0\n",
        "    if (rank == 0) {\n",
        "\t    long long rank_sum;\n",
        "\t    MPI_Status status;\n",
        "\t    for (int source=1;source<size;source++) {\n",
        "\t        MPI_Recv(&rank_sum,1,MPI_UNSIGNED_LONG_LONG,source,0,MPI_COMM_WORLD,&status);\n",
        "#ifdef DIAG\n",
        "\t        printf (\"rank 0 received message %lld from rank %d\\n\",rank_sum,source);\n",
        "#endif\n",
        "            sum += rank_sum;\n",
        "\t    }\n",
        "    } else {\n",
        "\t    int dest = 0;\n",
        "\t    MPI_Send(&sum,1,MPI_LONG_LONG,dest,0,MPI_COMM_WORLD);\n",
        "    }\n",
        "\n",
        "    // stop the timer\n",
        "    end_time = MPI_Wtime();\n",
        "\n",
        "    // only rank 0 prints results\n",
        "    if (rank == 0) {\n",
        "        printf (\"sum = %lld, N*(N+1)/2 = %lld, elapsed time = %.4f seconds\\n\",\n",
        "                sum,(N/2)*(N+1),end_time-start_time);\n",
        "    }\n",
        "\n",
        "    MPI_Finalize();\n",
        "}"
      ],
      "metadata": {
        "colab": {
          "base_uri": "https://localhost:8080/"
        },
        "id": "ZiRzFt5J2AOc",
        "outputId": "ab2290a2-7033-4184-9b3f-1084ab7db431"
      },
      "execution_count": 12,
      "outputs": [
        {
          "output_type": "stream",
          "name": "stdout",
          "text": [
            "Writing mpi_sum_v4.c\n"
          ]
        }
      ]
    },
    {
      "cell_type": "markdown",
      "source": [
        "## Typing the following on matrix:    \n",
        "    mpicc -o mpi_sum_v4 mpi_sum_v4.c\n",
        "    mpiexec -n 1 ./mpi_sum_v4 1000000000\n",
        "    mpiexec -n 2 ./mpi_sum_v4 1000000000\n",
        "    mpiexec -n 4 ./mpi_sum_v4 1000000000"
      ],
      "metadata": {
        "id": "55lh7sGn482V"
      }
    },
    {
      "cell_type": "markdown",
      "source": [
        "## Produces the output:\n",
        "    (base) jasonwil@matrix:~/cmda3634/L21_test$ mpicc -o mpi_sum_v4 mpi_sum_v4.c\n",
        "    (base) jasonwil@matrix:~/cmda3634/L21_test$ mpiexec -n 1 ./mpi_sum_v4 1000000000\n",
        "    sum = 500000000500000000, N*(N+1)/2 = 500000000500000000, elapsed time = 1.9880 seconds\n",
        "    (base) jasonwil@matrix:~/cmda3634/L21_test$ mpiexec -n 2 ./mpi_sum_v4 1000000000\n",
        "    sum = 500000000500000000, N*(N+1)/2 = 500000000500000000, elapsed time = 0.9907 seconds\n",
        "    (base) jasonwil@matrix:~/cmda3634/L21_test$ mpiexec -n 4 ./mpi_sum_v4 1000000000\n",
        "    sum = 500000000500000000, N*(N+1)/2 = 500000000500000000, elapsed time = 0.5256 seconds"
      ],
      "metadata": {
        "id": "BzRnuksT5biO"
      }
    },
    {
      "cell_type": "markdown",
      "source": [
        "## In our final version 5 we have rank 0 send each of the other ranks the final answer.  "
      ],
      "metadata": {
        "id": "0f8pxEXe7p6Q"
      }
    },
    {
      "cell_type": "code",
      "source": [
        "%%writefile mpi_sum_v5.c\n",
        "#include <stdio.h>\n",
        "#include <stdlib.h>\n",
        "#include <string.h>\n",
        "#include <mpi.h>\n",
        "\n",
        "int main(int argc, char** argv) {\n",
        "\n",
        "    MPI_Init (&argc, &argv);\n",
        "\n",
        "    // MPI_COMM_WORLD is the default communicator that contains all ranks\n",
        "    int rank, size;\n",
        "    MPI_Comm_rank(MPI_COMM_WORLD, &rank);\n",
        "    MPI_Comm_size(MPI_COMM_WORLD, &size);\n",
        "\n",
        "    // get N from command line\n",
        "    if (argc < 2) {\n",
        "        printf (\"Command usage : %s %s\\n\",argv[0],\"N\");\n",
        "        return 1;\n",
        "    }\n",
        "    long long N = atoll(argv[1]);\n",
        "\n",
        "    // start the timer\n",
        "    double start_time, end_time;\n",
        "    start_time = MPI_Wtime();\n",
        "\n",
        "    // calculate the sum\n",
        "    long long sum = 0;\n",
        "    for (long long i = 1+rank; i <= N;i+=size) {\n",
        "        sum += i;\n",
        "    }\n",
        "\n",
        "    // all nonzero ranks send their partial sums to rank 0\n",
        "    if (rank == 0) {\n",
        "\t    long long rank_sum;\n",
        "\t    MPI_Status status;\n",
        "\t    for (int source=1;source<size;source++) {\n",
        "\t        MPI_Recv(&rank_sum,1,MPI_UNSIGNED_LONG_LONG,source,0,MPI_COMM_WORLD,&status);\n",
        "#ifdef DIAG\n",
        "\t        printf (\"rank 0 received message %lld from rank %d\\n\",rank_sum,source);\n",
        "#endif\n",
        "            sum += rank_sum;\n",
        "\t    }\n",
        "    } else {\n",
        "\t    int dest = 0;\n",
        "\t    MPI_Send(&sum,1,MPI_LONG_LONG,dest,0,MPI_COMM_WORLD);\n",
        "    }\n",
        "\n",
        "    // all nonzero ranks receive the final sum from rank 0\n",
        "    if (rank == 0) {\n",
        "        for (int dest = 1;dest < size;dest++) {\n",
        "            MPI_Send(&sum,1,MPI_LONG_LONG,dest,0,MPI_COMM_WORLD);\n",
        "        }\n",
        "    } else {\n",
        "        int src = 0;\n",
        "        MPI_Status status;\n",
        "        MPI_Recv(&sum,1,MPI_LONG_LONG,src,0,MPI_COMM_WORLD,&status);\n",
        "    }\n",
        "\n",
        "    // stop the timer\n",
        "    end_time = MPI_Wtime();\n",
        "\n",
        "    // print results\n",
        "    printf (\"rank %d (of %d) sum = %lld, N*(N+1)/2 = %lld, elapsed time = %.4f seconds\\n\",\n",
        "            rank,size,sum,(N/2)*(N+1),end_time-start_time);\n",
        "\n",
        "    MPI_Finalize();\n",
        "}"
      ],
      "metadata": {
        "id": "VZ7ZQpyX43wS"
      },
      "execution_count": null,
      "outputs": []
    },
    {
      "cell_type": "markdown",
      "source": [
        "## Typing the following on matrix:    \n",
        "    mpicc -o mpi_sum_v5 mpi_sum_v5.c\n",
        "    mpiexec -n 4 ./mpi_sum_v5 1000000000"
      ],
      "metadata": {
        "id": "TQ1XiTAt8kRn"
      }
    },
    {
      "cell_type": "markdown",
      "source": [
        "## Produces the output:\n",
        "    rank 0 (of 4) sum = 500000000500000000, N*(N+1)/2 = 500000000500000000, elapsed time = 0.5265 seconds\n",
        "    rank 1 (of 4) sum = 500000000500000000, N*(N+1)/2 = 500000000500000000, elapsed time = 0.5266 seconds\n",
        "    rank 2 (of 4) sum = 500000000500000000, N*(N+1)/2 = 500000000500000000, elapsed time = 0.5265 seconds\n",
        "    rank 3 (of 4) sum = 500000000500000000, N*(N+1)/2 = 500000000500000000, elapsed time = 0.5266 seconds"
      ],
      "metadata": {
        "id": "3H4xhbI98sZV"
      }
    },
    {
      "cell_type": "code",
      "source": [],
      "metadata": {
        "id": "Igp7IuO08r7j"
      },
      "execution_count": null,
      "outputs": []
    }
  ]
}