{
  "nbformat": 4,
  "nbformat_minor": 0,
  "metadata": {
    "colab": {
      "provenance": []
    },
    "kernelspec": {
      "name": "python3",
      "display_name": "Python 3"
    },
    "language_info": {
      "name": "python"
    }
  },
  "cells": [
    {
      "cell_type": "markdown",
      "source": [
        "# Lecture 7 : Characters and Strings"
      ],
      "metadata": {
        "id": "3EW8zosAMKqn"
      }
    },
    {
      "cell_type": "markdown",
      "source": [
        "# Part 1 : Characters"
      ],
      "metadata": {
        "id": "CFesGTGuAoF3"
      }
    },
    {
      "cell_type": "markdown",
      "source": [
        "## The C *char* type is one byte that is used to store characters such as the letters *a* and *b* and the punctuation symbol *!*.\n",
        "\n",
        "## Working with the C char type and arrays of the C char called *strings* is how we process text in C.\n",
        "\n",
        "## To see the characters and letters that certain values correspond to we use an [ASCII-TABLE](https://www.ascii-code.com/)."
      ],
      "metadata": {
        "id": "SHgS_yE3ArFz"
      }
    },
    {
      "cell_type": "code",
      "source": [
        "%%writefile char.c\n",
        "#include <stdio.h>\n",
        "\n",
        "int main () {\n",
        "    char c = 'A';\n",
        "    printf (\"c as a number is %d\\n\",c);\n",
        "    printf (\"c as a character is %c\\n\",c);\n",
        "}"
      ],
      "metadata": {
        "colab": {
          "base_uri": "https://localhost:8080/"
        },
        "id": "QO6G2wJn7hON",
        "outputId": "688b58dd-3462-4456-ec18-a50ce81f2f67"
      },
      "execution_count": null,
      "outputs": [
        {
          "output_type": "stream",
          "name": "stdout",
          "text": [
            "Writing char.c\n"
          ]
        }
      ]
    },
    {
      "cell_type": "code",
      "source": [
        "!gcc -o char char.c"
      ],
      "metadata": {
        "id": "cmR3RWYqBHXk"
      },
      "execution_count": null,
      "outputs": []
    },
    {
      "cell_type": "code",
      "source": [
        "!./char"
      ],
      "metadata": {
        "colab": {
          "base_uri": "https://localhost:8080/"
        },
        "id": "pKISu8bsBI87",
        "outputId": "f7a02324-ca52-4758-a660-83d0d0039f0a"
      },
      "execution_count": null,
      "outputs": [
        {
          "output_type": "stream",
          "name": "stdout",
          "text": [
            "c as a number is 65\n",
            "c as a character is A\n"
          ]
        }
      ]
    },
    {
      "cell_type": "markdown",
      "source": [
        "## Exercise : What is the range of ASCII values for the upper case letters?  Lower case letters?"
      ],
      "metadata": {
        "id": "vx-UZmtq2enJ"
      }
    },
    {
      "cell_type": "markdown",
      "source": [
        "# Part 2 : Strings"
      ],
      "metadata": {
        "id": "XImLnAI12MK6"
      }
    },
    {
      "cell_type": "markdown",
      "source": [
        "## A C string is a **null-terminated** array of characters.\n",
        "\n",
        "## Strings can be initialized using the syntax:\n",
        "\n",
        "    char str[] = \"Hokies\";\n",
        "\n",
        "## The array *str* is actually of length 7 since it is null-terminated.\n",
        "\n",
        "## Here is a short C program that illustrates the array *str*."
      ],
      "metadata": {
        "id": "JuE1GqqSMKsB"
      }
    },
    {
      "cell_type": "code",
      "source": [
        "%%writefile hokies.c\n",
        "#include <stdio.h>\n",
        "\n",
        "int main () {\n",
        "    char str[] = \"Hokies\";\n",
        "    for (int i=0;i<7;i++) {\n",
        "        printf (\"%d\\n\",str[i]); // print the ASCII code of each character\n",
        "    }\n",
        "}"
      ],
      "metadata": {
        "colab": {
          "base_uri": "https://localhost:8080/"
        },
        "id": "GqyccoVU325S",
        "outputId": "52b4894e-be21-4662-e206-04f9b4da937d"
      },
      "execution_count": null,
      "outputs": [
        {
          "output_type": "stream",
          "name": "stdout",
          "text": [
            "Writing hokies.c\n"
          ]
        }
      ]
    },
    {
      "cell_type": "code",
      "source": [
        "!gcc -o hokies hokies.c"
      ],
      "metadata": {
        "id": "MaM1YcEq4IQ8"
      },
      "execution_count": null,
      "outputs": []
    },
    {
      "cell_type": "code",
      "source": [
        "!./hokies"
      ],
      "metadata": {
        "colab": {
          "base_uri": "https://localhost:8080/"
        },
        "id": "CMM7cl6U4UZ2",
        "outputId": "70d654bb-19c8-4d76-c2b3-4062498f1daa"
      },
      "execution_count": null,
      "outputs": [
        {
          "output_type": "stream",
          "name": "stdout",
          "text": [
            "72\n",
            "111\n",
            "107\n",
            "105\n",
            "101\n",
            "115\n",
            "0\n"
          ]
        }
      ]
    },
    {
      "cell_type": "markdown",
      "source": [
        "## Exercise : Lookup each of the above ASCII codes to verify the characters in *Hokies*.\n",
        "\n",
        "## Note that the ASCII value immediately following the six characters in *Hokies* is 0.  \n",
        "\n",
        "## This 0 is the ASCII value for the *null character*.  \n",
        "\n",
        "## The inclusion of this *null character* in C strings is why we say that C strings are *null-terminated*.\n",
        "\n",
        "## The null character is critical for C strings because we use it to determine how long strings are.  \n",
        "\n",
        "### Remember that in C arrays are not objects so we need a separate mechanism to keep track of the length."
      ],
      "metadata": {
        "id": "T8Oup5e34bYQ"
      }
    },
    {
      "cell_type": "markdown",
      "source": [
        "## Note that the line of C code\n",
        "    char str[] = \"Hokies\";\n",
        "## is equivalent to\n",
        "\n",
        "    char str[7] = { 'H', 'o', 'k', 'i', 'e', 's', '\\0' };\n",
        "\n",
        "## We prefer the first version because it is much easier to read!\n",
        "\n",
        "## Also note that the null character can be specified using *'\\0'*.  \n",
        "\n",
        "## This is similar to how we specify the new line character using *'\\n'*."
      ],
      "metadata": {
        "id": "YZUVxAqTAU__"
      }
    },
    {
      "cell_type": "markdown",
      "source": [
        "## There are various C functions for processing strings.  \n",
        "\n",
        "## You can include the interfaces to these functions using:\n",
        "    #include <string.h>"
      ],
      "metadata": {
        "id": "LgPmBLZE6VHI"
      }
    },
    {
      "cell_type": "markdown",
      "source": [
        "## One very useful string function is *strlen* which returns the number of characters in a string\n",
        "\n",
        "## Note that the count return by *strlen* does not include the null-terminator.\n",
        "\n",
        "## Note that the function *strlen* returns a long unsigned int.  \n",
        "\n",
        "## We use the format specifier *%lu* to print a long unsigned int.\n",
        "\n",
        "## Also note that we print a C string using the format specifier *%s*.  \n",
        "\n",
        "## The function *printf* prints the characters of a given string until it encounters the null-terminator."
      ],
      "metadata": {
        "id": "qTcmyB8V6jDB"
      }
    },
    {
      "cell_type": "code",
      "source": [
        "%%writefile strlen.c\n",
        "#include <stdio.h>\n",
        "#include <string.h>\n",
        "\n",
        "int main () {\n",
        "    char str[] = \"Hokies\";\n",
        "    printf (\"The length of the string %s is %lu.\\n\",str,strlen(str));\n",
        "}"
      ],
      "metadata": {
        "colab": {
          "base_uri": "https://localhost:8080/"
        },
        "id": "4EbTnAJi61f8",
        "outputId": "24c9e2e8-4d90-42cf-82d4-96555781dd03"
      },
      "execution_count": null,
      "outputs": [
        {
          "output_type": "stream",
          "name": "stdout",
          "text": [
            "Writing strlen.c\n"
          ]
        }
      ]
    },
    {
      "cell_type": "code",
      "source": [
        "!gcc -o strlen strlen.c"
      ],
      "metadata": {
        "id": "VVq6HIVV7FMn"
      },
      "execution_count": null,
      "outputs": []
    },
    {
      "cell_type": "code",
      "source": [
        "!./strlen"
      ],
      "metadata": {
        "colab": {
          "base_uri": "https://localhost:8080/"
        },
        "id": "GzokfxML7Xuy",
        "outputId": "64ce49b0-e84b-43ec-e2bb-36ad655c8ed4"
      },
      "execution_count": null,
      "outputs": [
        {
          "output_type": "stream",
          "name": "stdout",
          "text": [
            "The length of the string Hokies is 6.\n"
          ]
        }
      ]
    },
    {
      "cell_type": "markdown",
      "source": [
        "# Part 3 : String and Pointers"
      ],
      "metadata": {
        "id": "4M1bjILv_UBC"
      }
    },
    {
      "cell_type": "markdown",
      "source": [
        "## A pointer to a C string is a character pointer.\n",
        "    char* str = \"Hokies\""
      ],
      "metadata": {
        "id": "74u3l8EN8UNL"
      }
    },
    {
      "cell_type": "markdown",
      "source": [
        "## Note that the above line of C code is very different than:\n",
        "    char str[] = \"Hokies\""
      ],
      "metadata": {
        "id": "9DMTYR7q9I63"
      }
    },
    {
      "cell_type": "markdown",
      "source": [
        "## In the first line of C code, the pointer *str* points to a string that is stored in **constant memory**.  \n",
        "\n",
        "## In the second line of C code, *str* is an array of characters with size 7 (6 for the letters in Hokies and 1 for the null-teriminator) which will be **initialized** to the contain the characters in the given string.\n",
        "\n",
        "## Be careful ... constant memory is **read only**!\n",
        "\n",
        "## Writing to constant memory will trigger a segmentation fault!"
      ],
      "metadata": {
        "id": "YMHWvY1v9Waw"
      }
    },
    {
      "cell_type": "code",
      "source": [
        "%%writefile danger.c\n",
        "#include <stdio.h>\n",
        "\n",
        "int main () {\n",
        "    char* str = \"Hokies\";\n",
        "    str[0] = 'h';\n",
        "    printf (\"The string in lower case is %s.\\n\",str);\n",
        "}\n"
      ],
      "metadata": {
        "colab": {
          "base_uri": "https://localhost:8080/"
        },
        "id": "UwUiW98Q9zIP",
        "outputId": "7ee8edac-5937-49b6-e82c-9131a716a9dd"
      },
      "execution_count": null,
      "outputs": [
        {
          "output_type": "stream",
          "name": "stdout",
          "text": [
            "Writing danger.c\n"
          ]
        }
      ]
    },
    {
      "cell_type": "code",
      "source": [
        "!gcc -o danger danger.c"
      ],
      "metadata": {
        "id": "rOG2gUZc-S0N"
      },
      "execution_count": null,
      "outputs": []
    },
    {
      "cell_type": "code",
      "source": [
        "!./danger > out.txt"
      ],
      "metadata": {
        "colab": {
          "base_uri": "https://localhost:8080/"
        },
        "id": "dEvBEo3Z-a5k",
        "outputId": "0c58e647-1004-41e5-a99c-24e653f8d11c"
      },
      "execution_count": null,
      "outputs": [
        {
          "output_type": "stream",
          "name": "stdout",
          "text": [
            "/bin/bash: line 1:   274 Segmentation fault      (core dumped) ./danger > out.txt\n"
          ]
        }
      ]
    },
    {
      "cell_type": "code",
      "source": [
        "!cat out.txt"
      ],
      "metadata": {
        "id": "TVy2kYDN-dH5"
      },
      "execution_count": null,
      "outputs": []
    },
    {
      "cell_type": "markdown",
      "source": [
        "## Exercise : Fix the above code so that it works as expected."
      ],
      "metadata": {
        "id": "TDFCD659_GzA"
      }
    },
    {
      "cell_type": "markdown",
      "source": [
        "## Here is an interesting example that uses an array of string pointers.  \n",
        "\n",
        "## Exercise : Predict what the code prints before running it!"
      ],
      "metadata": {
        "id": "xNgfIxgtB5bY"
      }
    },
    {
      "cell_type": "code",
      "source": [
        "%%writefile \"mystery.c\"\n",
        "#include <stdio.h>\n",
        "\n",
        "int main () {\n",
        "    char* a[6] = { \"Planet\", \"Hello\", \"Earth\", \"Go\", \"There\", \"Let's\" };\n",
        "    char* b[6] = { \"Red\", \"Blue\", \"Hokies\", \"Green\", \"World\", \"Orange\" };\n",
        "    char* c[3] = { a[5], a[3], b[2] };\n",
        "    char** d = c;\n",
        "    printf (\"%s %s %s!\\n\",d[0],d[1],d[2]);\n",
        "}"
      ],
      "metadata": {
        "colab": {
          "base_uri": "https://localhost:8080/"
        },
        "id": "wqjJYbN1BqGd",
        "outputId": "0aaf7309-292d-480b-c837-cabb9b7ad067"
      },
      "execution_count": null,
      "outputs": [
        {
          "output_type": "stream",
          "name": "stdout",
          "text": [
            "Writing mystery.c\n"
          ]
        }
      ]
    },
    {
      "cell_type": "code",
      "source": [
        "!gcc -o mystery mystery.c"
      ],
      "metadata": {
        "id": "Q-iqQfgiCRYG"
      },
      "execution_count": null,
      "outputs": []
    },
    {
      "cell_type": "markdown",
      "source": [
        "## Uncomment the following line when you are ready to check your answer!"
      ],
      "metadata": {
        "id": "r_0QvcOMCYeg"
      }
    },
    {
      "cell_type": "code",
      "source": [
        "#!./mystery"
      ],
      "metadata": {
        "id": "WsDrHcKzCUYm"
      },
      "execution_count": null,
      "outputs": []
    },
    {
      "cell_type": "markdown",
      "source": [
        "## Note that in line 7 we declare *d* to have type char**.  \n",
        "\n",
        "## This literally means that *d* is a pointer to a pointer to a character.  \n",
        "\n",
        "## Where have we seen a variable of type *char*** before?"
      ],
      "metadata": {
        "id": "Vy2GKxQwCll-"
      }
    },
    {
      "cell_type": "markdown",
      "source": [
        "# Part 4 : Command Line Arguments Revisited"
      ],
      "metadata": {
        "id": "3EpUzfMVD225"
      }
    },
    {
      "cell_type": "markdown",
      "source": [
        "## C command line arguments are strings!  \n",
        "\n",
        "## The line of code\n",
        "    int main (int argc, char** argv) {\n",
        "\n",
        "## specifies the argv argument to have type pointer to a pointer to a character.\n",
        "\n",
        "## More simply, *argv* is a pointer that points to an array of string pointers.  \n",
        "  \n",
        "## When we dereference *argv* using *argv[0]* we get a pointer to the first command line argument which is a string.\n",
        "\n",
        "## Exercise: what does *argv[1]* point to?"
      ],
      "metadata": {
        "id": "CQkJMr-xD7DJ"
      }
    },
    {
      "cell_type": "markdown",
      "source": [
        "## Here is an example C code that prints a command line argument in lower case.\n",
        "\n",
        "## This example illustrates that we can overwrite C command line arguments."
      ],
      "metadata": {
        "id": "Rz4hOm-HGcpC"
      }
    },
    {
      "cell_type": "markdown",
      "source": [
        "## Exercise : What properties of the ASCII-TABLE are we taking advantage of in the code below?"
      ],
      "metadata": {
        "id": "LmcWHHkpHfhv"
      }
    },
    {
      "cell_type": "code",
      "source": [
        "%%writefile lower.c\n",
        "#include <stdio.h>\n",
        "#include <string.h>\n",
        "\n",
        "int main (int argc, char** argv) {\n",
        "    if (argc < 2) {\n",
        "        printf (\"command usage: %s str\\n\",argv[0]);\n",
        "        return 1;\n",
        "    }\n",
        "    char* str = argv[1];\n",
        "    for (int i=0;i<strlen(str);i++) {\n",
        "        if ((str[i] >= 'A') && (str[i] <= 'Z')) {\n",
        "            str[i] += 'a'-'A';\n",
        "        }\n",
        "    }\n",
        "    printf (\"The command line argument in lower case is %s.\\n\",str);\n",
        "}"
      ],
      "metadata": {
        "colab": {
          "base_uri": "https://localhost:8080/"
        },
        "id": "pHd-m5TtCY-G",
        "outputId": "9da0f6b7-a469-4d24-ad76-1e87613a3f69"
      },
      "execution_count": null,
      "outputs": [
        {
          "output_type": "stream",
          "name": "stdout",
          "text": [
            "Writing lower.c\n"
          ]
        }
      ]
    },
    {
      "cell_type": "code",
      "source": [
        "!gcc -o lower lower.c"
      ],
      "metadata": {
        "id": "yvAHOniABJl_"
      },
      "execution_count": null,
      "outputs": []
    },
    {
      "cell_type": "code",
      "source": [
        "!./lower HOKIES"
      ],
      "metadata": {
        "colab": {
          "base_uri": "https://localhost:8080/"
        },
        "id": "GjEdy24IC1wh",
        "outputId": "5cdbe81b-08d2-42ea-9ca2-d423a362d967"
      },
      "execution_count": null,
      "outputs": [
        {
          "output_type": "stream",
          "name": "stdout",
          "text": [
            "The command line argument in lower case is hokies.\n"
          ]
        }
      ]
    },
    {
      "cell_type": "markdown",
      "source": [
        "## Here is a code that ensures that all command line arguments contain only lower case letters.  \n",
        "\n",
        "## This example illustrates that C strings are passed to functions by pointer (just like other arrays in C)."
      ],
      "metadata": {
        "id": "b_9YgNsCITK9"
      }
    },
    {
      "cell_type": "code",
      "source": [
        "%%writefile check.c\n",
        "#include <stdio.h>\n",
        "#include <string.h>\n",
        "#include <stdbool.h>\n",
        "\n",
        "bool is_lower(char* str) {\n",
        "    for (int i=0;i<strlen(str);i++) {\n",
        "        if ((str[i] < 'a') || (str[i] > 'z')) {\n",
        "            return false;\n",
        "        }\n",
        "    }\n",
        "    return true;\n",
        "}\n",
        "\n",
        "int main (int argc, char** argv) {\n",
        "    for (int i=1;i<argc;i++) {\n",
        "        if (!is_lower(argv[i])) {\n",
        "            printf (\"The command line argument %s is not all lower case letters.\\n\",argv[i]);\n",
        "            return 0;\n",
        "        }\n",
        "    }\n",
        "    printf (\"All command line arguments have only lower case letters.\\n\");\n",
        "}"
      ],
      "metadata": {
        "colab": {
          "base_uri": "https://localhost:8080/"
        },
        "id": "6qdnnnZDI-Oo",
        "outputId": "e5c7b234-c69e-4d2e-d305-21895799f205"
      },
      "execution_count": null,
      "outputs": [
        {
          "output_type": "stream",
          "name": "stdout",
          "text": [
            "Writing check.c\n"
          ]
        }
      ]
    },
    {
      "cell_type": "code",
      "source": [
        "!gcc -o check check.c"
      ],
      "metadata": {
        "id": "BMlCjRykKFcH"
      },
      "execution_count": null,
      "outputs": []
    },
    {
      "cell_type": "code",
      "source": [
        "!./check Hello world"
      ],
      "metadata": {
        "colab": {
          "base_uri": "https://localhost:8080/"
        },
        "id": "O454QKEXKHxj",
        "outputId": "7f542f9e-dbf5-4365-c18f-a1c70b116170"
      },
      "execution_count": null,
      "outputs": [
        {
          "output_type": "stream",
          "name": "stdout",
          "text": [
            "The command line argument Hello is not all lower case letters.\n"
          ]
        }
      ]
    },
    {
      "cell_type": "code",
      "source": [
        "!./check this is great!"
      ],
      "metadata": {
        "colab": {
          "base_uri": "https://localhost:8080/"
        },
        "id": "l86t8OafKOVH",
        "outputId": "971e216a-5f2c-4f47-f7ca-88d3af7bfc73"
      },
      "execution_count": null,
      "outputs": [
        {
          "output_type": "stream",
          "name": "stdout",
          "text": [
            "The command line argument great! is not all lower case letters.\n"
          ]
        }
      ]
    },
    {
      "cell_type": "code",
      "source": [
        "!./check 2 + 2 = 4"
      ],
      "metadata": {
        "colab": {
          "base_uri": "https://localhost:8080/"
        },
        "id": "lnGs9WZuKVcm",
        "outputId": "47077ec4-9913-4dd0-ff2a-7bc53ce7e144"
      },
      "execution_count": null,
      "outputs": [
        {
          "output_type": "stream",
          "name": "stdout",
          "text": [
            "The command line argument 2 is not all lower case letters.\n"
          ]
        }
      ]
    },
    {
      "cell_type": "code",
      "source": [
        "!./check lets go"
      ],
      "metadata": {
        "colab": {
          "base_uri": "https://localhost:8080/"
        },
        "id": "1XjVpMbsKYkR",
        "outputId": "5a1858bb-516a-47f1-9389-3540f09dc04e"
      },
      "execution_count": null,
      "outputs": [
        {
          "output_type": "stream",
          "name": "stdout",
          "text": [
            "All command line arguments have only lower case letters.\n"
          ]
        }
      ]
    },
    {
      "cell_type": "markdown",
      "source": [
        "# Part 5 : Working with a list of possible Wordle answers."
      ],
      "metadata": {
        "id": "u4fGl8xRKB6y"
      }
    },
    {
      "cell_type": "markdown",
      "source": [
        "## Let's use Git to grab a file containing possible Wordle answers."
      ],
      "metadata": {
        "id": "Yf2-I1-XJUtn"
      }
    },
    {
      "cell_type": "code",
      "source": [
        "!git clone https://code.vt.edu/jasonwil/cmda3634_materials.git"
      ],
      "metadata": {
        "colab": {
          "base_uri": "https://localhost:8080/"
        },
        "id": "wqLwMUG_Eq75",
        "outputId": "f7816221-5e7f-4854-fc3b-072db57fb9ef"
      },
      "execution_count": null,
      "outputs": [
        {
          "output_type": "stream",
          "name": "stdout",
          "text": [
            "Cloning into 'cmda3634_materials'...\n",
            "remote: Enumerating objects: 55, done.\u001b[K\n",
            "remote: Counting objects: 100% (8/8), done.\u001b[K\n",
            "remote: Compressing objects: 100% (6/6), done.\u001b[K\n",
            "remote: Total 55 (delta 1), reused 0 (delta 0), pack-reused 47\u001b[K\n",
            "Receiving objects: 100% (55/55), 567.62 KiB | 3.66 MiB/s, done.\n",
            "Resolving deltas: 100% (9/9), done.\n"
          ]
        }
      ]
    },
    {
      "cell_type": "code",
      "source": [
        "!cp cmda3634_materials/PRO02/* ."
      ],
      "metadata": {
        "id": "jcbGelvqLSSp"
      },
      "execution_count": null,
      "outputs": []
    },
    {
      "cell_type": "markdown",
      "source": [
        "## The number of words in the file:"
      ],
      "metadata": {
        "id": "11qqPQsnJzIL"
      }
    },
    {
      "cell_type": "code",
      "source": [
        "!wc -l answers.txt"
      ],
      "metadata": {
        "colab": {
          "base_uri": "https://localhost:8080/"
        },
        "id": "4RdxsljeHTIa",
        "outputId": "b8a4553d-7823-4a03-c0ae-ad1e2bd417d0"
      },
      "execution_count": null,
      "outputs": [
        {
          "output_type": "stream",
          "name": "stdout",
          "text": [
            "2309 answers.txt\n"
          ]
        }
      ]
    },
    {
      "cell_type": "markdown",
      "source": [
        "## The first 10 answers:"
      ],
      "metadata": {
        "id": "qyUPvxJAJ1h_"
      }
    },
    {
      "cell_type": "code",
      "source": [
        "!head -10 answers.txt"
      ],
      "metadata": {
        "colab": {
          "base_uri": "https://localhost:8080/"
        },
        "id": "_pm15_VWHV6J",
        "outputId": "05d183d8-4924-425b-92e9-b9f7acb371b1"
      },
      "execution_count": null,
      "outputs": [
        {
          "output_type": "stream",
          "name": "stdout",
          "text": [
            "aback\n",
            "abase\n",
            "abate\n",
            "abbey\n",
            "abbot\n",
            "abhor\n",
            "abide\n",
            "abled\n",
            "abode\n",
            "abort\n"
          ]
        }
      ]
    },
    {
      "cell_type": "markdown",
      "source": [
        "## Here is a C program that searches the Wordle answer list for a given word.  "
      ],
      "metadata": {
        "id": "Z1T2nvDvNeX2"
      }
    },
    {
      "cell_type": "markdown",
      "source": [
        "## Note that we have to very careful when using *scanf* to read a string from a file.  \n",
        "\n",
        "## Consider the following code snippet:\n",
        "\n",
        "    char next[6];\n",
        "    while (scanf(\"%5s\",next) == 1)\n",
        "\n",
        "## A wordle word has 5 characters.\n",
        "\n",
        "## We do set next to have size 6 instead of 5?\n",
        "\n",
        "## By using the format specifier *%5s* we instruct *scanf* to not read strings that are longer than 5 characters to avoid going off the end of the *next* array.\n",
        "\n",
        "## Note that *scanf* null-terminates the string it reads in.\n",
        "\n",
        "## The string function *strcmp* returns 0 if the two string arguments are identical (i.e. they have the same length and the same characters)."
      ],
      "metadata": {
        "id": "fpwnDja7L-WH"
      }
    },
    {
      "cell_type": "code",
      "source": [
        "%%writefile search.c\n",
        "#include <stdio.h>\n",
        "#include <string.h>\n",
        "\n",
        "int main (int argc, char** argv) {\n",
        "    if (argc < 2) {\n",
        "        printf (\"command usage: %s %s\\n\",argv[0],\"word\");\n",
        "        return 1;\n",
        "    }\n",
        "    char* word = argv[1];\n",
        "    char next[6]; // Need 5 chars for Wordle word and 1 for null terminator.\n",
        "    while (scanf(\"%5s\",next) == 1) { // %5s tells scanf to read at most 5 characters\n",
        "        if (strcmp(word,next) == 0) { // strcmp returns 0 if the strings are equal\n",
        "            printf (\"%s is a possible Wordle answer.\\n\",word);\n",
        "            return 0;\n",
        "        }\n",
        "    }\n",
        "    printf (\"%s is not a possible Wordle answer.\\n\",word);\n",
        "}"
      ],
      "metadata": {
        "colab": {
          "base_uri": "https://localhost:8080/"
        },
        "id": "Fe7v7n-TJ7CE",
        "outputId": "2a798640-bacd-4341-86d6-de55a1a3bb07"
      },
      "execution_count": null,
      "outputs": [
        {
          "output_type": "stream",
          "name": "stdout",
          "text": [
            "Writing search.c\n"
          ]
        }
      ]
    },
    {
      "cell_type": "code",
      "source": [
        "!gcc -o search search.c"
      ],
      "metadata": {
        "id": "-4NyOYwTOZS-"
      },
      "execution_count": null,
      "outputs": []
    },
    {
      "cell_type": "code",
      "source": [
        "!cat answers.txt | ./search hello"
      ],
      "metadata": {
        "colab": {
          "base_uri": "https://localhost:8080/"
        },
        "id": "cF1x7EKPOxj3",
        "outputId": "b8637229-39f7-4af8-eff2-03e2ee1bca44"
      },
      "execution_count": null,
      "outputs": [
        {
          "output_type": "stream",
          "name": "stdout",
          "text": [
            "hello is a possible Wordle answer.\n"
          ]
        }
      ]
    },
    {
      "cell_type": "code",
      "source": [
        "!cat answers.txt | ./search aargh"
      ],
      "metadata": {
        "colab": {
          "base_uri": "https://localhost:8080/"
        },
        "id": "CFPiXnApO1Wb",
        "outputId": "a49c06e1-5dc3-459f-e006-62be83d094e5"
      },
      "execution_count": null,
      "outputs": [
        {
          "output_type": "stream",
          "name": "stdout",
          "text": [
            "aargh is not a possible Wordle answer.\n"
          ]
        }
      ]
    },
    {
      "cell_type": "markdown",
      "source": [
        "## Here is a C program that determines the most frequent letter in a given blank.  \n",
        "\n",
        "## The command line argument blank is a number from 0 to 4 where 0 is the first blank, 1 is the second blank, etc.\n",
        "\n",
        "## Exercise : Carefully explain what the following line of code is doing.\n",
        "\n",
        "    count[next[blank]-'a'] += 1;"
      ],
      "metadata": {
        "id": "fYSG8OzRTATY"
      }
    },
    {
      "cell_type": "code",
      "source": [
        "%%writefile frequent.c\n",
        "#include <stdio.h>\n",
        "#include <stdlib.h>\n",
        "\n",
        "int main (int argc, char** argv) {\n",
        "    if (argc < 2) {\n",
        "        printf (\"command usage: %s %s\\n\",argv[0],\"blank\");\n",
        "    }\n",
        "    int blank = atoi(argv[1]); // blank is a number from 0 to 4\n",
        "    int count[26] = { 0 };\n",
        "    char next[6];\n",
        "    int total_words = 0;\n",
        "    while (scanf(\"%5s\",next) == 1) {\n",
        "        count[next[blank]-'a'] += 1;\n",
        "        total_words += 1;\n",
        "    }\n",
        "    int max_count = 0;\n",
        "    char most_common;\n",
        "    for (int i=0;i<26;i++) {\n",
        "        if (count[i] > max_count) {\n",
        "            max_count = count[i];\n",
        "            most_common = 'a'+i;\n",
        "        }\n",
        "    }\n",
        "    printf (\"The most frequently occuring letter in blank %d is %c.\\n\",\n",
        "            blank,most_common);\n",
        "    printf (\"The letter %c occurs %d times in blank %d out of %d total words.\\n\",\n",
        "            most_common,max_count,blank,total_words);\n",
        "}"
      ],
      "metadata": {
        "colab": {
          "base_uri": "https://localhost:8080/"
        },
        "id": "EnItcOt9P6si",
        "outputId": "cd5fa476-4bc7-4633-ae04-03c4a8ce5883"
      },
      "execution_count": null,
      "outputs": [
        {
          "output_type": "stream",
          "name": "stdout",
          "text": [
            "Writing frequent.c\n"
          ]
        }
      ]
    },
    {
      "cell_type": "code",
      "source": [
        "!gcc -o freqeunt frequent.c"
      ],
      "metadata": {
        "id": "M5RychOkVTkp"
      },
      "execution_count": null,
      "outputs": []
    },
    {
      "cell_type": "code",
      "source": [
        "!cat answers.txt | ./freqeunt 0"
      ],
      "metadata": {
        "colab": {
          "base_uri": "https://localhost:8080/"
        },
        "id": "PSFedw5CVcRC",
        "outputId": "84c63251-35b2-4b83-d2ab-c07a0df262f8"
      },
      "execution_count": null,
      "outputs": [
        {
          "output_type": "stream",
          "name": "stdout",
          "text": [
            "The most frequently occuring letter in blank 0 is s.\n",
            "The letter s occurs 365 times in blank 0 out of 2309 total words.\n"
          ]
        }
      ]
    },
    {
      "cell_type": "code",
      "source": [],
      "metadata": {
        "id": "7RjFok4MUYID"
      },
      "execution_count": null,
      "outputs": []
    }
  ]
}