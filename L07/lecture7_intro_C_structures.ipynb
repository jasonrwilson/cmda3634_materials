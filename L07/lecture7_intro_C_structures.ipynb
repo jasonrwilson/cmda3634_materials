{
  "nbformat": 4,
  "nbformat_minor": 0,
  "metadata": {
    "colab": {
      "provenance": []
    },
    "kernelspec": {
      "name": "python3",
      "display_name": "Python 3"
    },
    "language_info": {
      "name": "python"
    }
  },
  "cells": [
    {
      "cell_type": "markdown",
      "source": [
        "# Lecture 7 : Introduction to C Structures"
      ],
      "metadata": {
        "id": "ROxZ5OZLRTBj"
      }
    },
    {
      "cell_type": "markdown",
      "source": [
        "# Part 1 : Working with 2d data in Python"
      ],
      "metadata": {
        "id": "_OUMAYsjni2f"
      }
    },
    {
      "cell_type": "markdown",
      "source": [
        "## Let's start by creating a file containing 9 points in 2d."
      ],
      "metadata": {
        "id": "ctY66x8ETOiS"
      }
    },
    {
      "cell_type": "code",
      "execution_count": 1,
      "metadata": {
        "colab": {
          "base_uri": "https://localhost:8080/"
        },
        "id": "Irm84Ng9Q_h3",
        "outputId": "412e7558-2cac-458f-878b-edd3bc3c5182"
      },
      "outputs": [
        {
          "output_type": "stream",
          "name": "stdout",
          "text": [
            "Overwriting points9.txt\n"
          ]
        }
      ],
      "source": [
        "%%writefile points9.txt\n",
        "3 4\n",
        "1 2\n",
        "-1 5\n",
        "-2 4\n",
        "4 3\n",
        "-3 2\n",
        "2 5\n",
        "0 3\n",
        "5 1"
      ]
    },
    {
      "cell_type": "markdown",
      "source": [
        "## Here is a Python script that will plot a 2d dataset as a .png image."
      ],
      "metadata": {
        "id": "xZ46Dm60TUR-"
      }
    },
    {
      "cell_type": "code",
      "source": [
        "%%writefile plot2d.py\n",
        "import sys\n",
        "import numpy as np\n",
        "import matplotlib.pyplot as plt\n",
        "\n",
        "# the name of the output file is a command line argument\n",
        "if (len(sys.argv) < 2):\n",
        "    print (\"Command Usage : python3\",sys.argv[0],\"outfile\")\n",
        "    exit(1)\n",
        "outfile = sys.argv[1]\n",
        "\n",
        "# read the data file\n",
        "data = np.loadtxt(sys.stdin)\n",
        "\n",
        "# plot the data\n",
        "plt.gca().set_aspect('equal')\n",
        "plt.scatter(data[:,0],data[:,1],s=20,color='black')\n",
        "\n",
        "# save the plot as an image\n",
        "plt.savefig(outfile)"
      ],
      "metadata": {
        "colab": {
          "base_uri": "https://localhost:8080/"
        },
        "id": "qquhOLRMRqBm",
        "outputId": "31fcca32-9c62-429f-a921-e04a6402a6b1"
      },
      "execution_count": 2,
      "outputs": [
        {
          "output_type": "stream",
          "name": "stdout",
          "text": [
            "Overwriting plot2d.py\n"
          ]
        }
      ]
    },
    {
      "cell_type": "markdown",
      "source": [
        "## Let's plot the points as an image."
      ],
      "metadata": {
        "id": "SZD9ZE57TbM_"
      }
    },
    {
      "cell_type": "code",
      "source": [
        "!cat points9.txt | python3 plot2d.py points9.png"
      ],
      "metadata": {
        "id": "85fdkjn_SUqb"
      },
      "execution_count": 3,
      "outputs": []
    },
    {
      "cell_type": "markdown",
      "source": [
        "## Display the points9.png image in the Jupyter notebook."
      ],
      "metadata": {
        "id": "spN263LWTjCd"
      }
    },
    {
      "cell_type": "code",
      "source": [
        "from IPython import display\n",
        "display.Image(\"points9.png\")"
      ],
      "metadata": {
        "colab": {
          "base_uri": "https://localhost:8080/",
          "height": 497
        },
        "id": "I-4jX5BdSZ-S",
        "outputId": "46a3cb16-ddc5-45d3-c6c0-d43dce3ea798"
      },
      "execution_count": 4,
      "outputs": [
        {
          "output_type": "execute_result",
          "data": {
            "image/png": "[encoded data removed]",
            "text/plain": [
              "<IPython.core.display.Image object>"
            ]
          },
          "metadata": {},
          "execution_count": 4
        }
      ]
    },
    {
      "cell_type": "markdown",
      "source": [
        "# Part 2 : The Basics of Using C Structures"
      ],
      "metadata": {
        "id": "v6KwehZMnr4z"
      }
    },
    {
      "cell_type": "markdown",
      "source": [
        "## We want to write a C program what will find the 2d point that is farthest from the origin.\n",
        "\n",
        "## It is natural to use a C structure to store a 2d point.\n",
        "\n",
        "## Let's learn about C structures.\n",
        "\n",
        "## The following program does not work as expected.  Why not?  \n",
        "\n",
        "## How can you fix it?"
      ],
      "metadata": {
        "id": "dBchw9CKUVJH"
      }
    },
    {
      "cell_type": "code",
      "source": [
        "%%writefile add_v1.c\n",
        "#include <stdio.h>\n",
        "\n",
        "typedef struct vec2_s {\n",
        "    double x,y;\n",
        "} vec2;\n",
        "\n",
        "void vec2_add (vec2 a, vec2 b, vec2 c) {\n",
        "    c.x = a.x + b.x;\n",
        "    c.y = a.y + b.y;\n",
        "}\n",
        "\n",
        "int main () {\n",
        "    vec2 u = { 1.0, 2.0 };\n",
        "    vec2 v = { 2.0, 3.0 };\n",
        "    vec2 w = { 0, 0 };\n",
        "    vec2_add(u,v,w);\n",
        "    printf (\"%.2f %.2f\\n\",w.x,w.y);\n",
        "}"
      ],
      "metadata": {
        "colab": {
          "base_uri": "https://localhost:8080/"
        },
        "id": "Y8pdhnTwSuej",
        "outputId": "0e23ca2c-9bdc-483e-f980-84ddb82ddba8"
      },
      "execution_count": 5,
      "outputs": [
        {
          "output_type": "stream",
          "name": "stdout",
          "text": [
            "Overwriting add_v1.c\n"
          ]
        }
      ]
    },
    {
      "cell_type": "code",
      "source": [
        "!gcc -o add_v1 add_v1.c"
      ],
      "metadata": {
        "id": "jJ3Q3HZ7V0vK"
      },
      "execution_count": 6,
      "outputs": []
    },
    {
      "cell_type": "code",
      "source": [
        "!./add_v1"
      ],
      "metadata": {
        "colab": {
          "base_uri": "https://localhost:8080/"
        },
        "id": "WtaZSv_EV2ML",
        "outputId": "33220ade-d041-402b-d7a8-fc2f0ed3c880"
      },
      "execution_count": 7,
      "outputs": [
        {
          "output_type": "stream",
          "name": "stdout",
          "text": [
            "0.00 0.00\n"
          ]
        }
      ]
    },
    {
      "cell_type": "markdown",
      "source": [
        "## Remember that C passes arguments by value!\n",
        "\n",
        "## We can fix this code by passing the third argument by pointer.\n",
        "\n",
        "## Note that c->x is short for (*c).x"
      ],
      "metadata": {
        "id": "M79zbEekWkzx"
      }
    },
    {
      "cell_type": "code",
      "source": [
        "%%writefile add_v2.c\n",
        "#include <stdio.h>\n",
        "\n",
        "typedef struct vec2_s {\n",
        "    double x,y;\n",
        "} vec2;\n",
        "\n",
        "void vec2_add (vec2 a, vec2 b, vec2* c) {\n",
        "    c->x = a.x + b.x;\n",
        "    c->y = a.y + b.y;\n",
        "}\n",
        "\n",
        "int main () {\n",
        "    vec2 u = { 1.0, 2.0 };\n",
        "    vec2 v = { 2.0, 3.0 };\n",
        "    vec2 w = { 0, 0 };\n",
        "    vec2_add(u,v,&w);\n",
        "    printf (\"%.2f %.2f\\n\",w.x,w.y);\n",
        "}"
      ],
      "metadata": {
        "colab": {
          "base_uri": "https://localhost:8080/"
        },
        "id": "kP-8nAkqV44z",
        "outputId": "aeb0d89c-1255-468b-a2bd-8717695d61b7"
      },
      "execution_count": 8,
      "outputs": [
        {
          "output_type": "stream",
          "name": "stdout",
          "text": [
            "Overwriting add_v2.c\n"
          ]
        }
      ]
    },
    {
      "cell_type": "code",
      "source": [
        "!gcc -o add_v2 add_v2.c"
      ],
      "metadata": {
        "id": "0jzt2L0CXUkr"
      },
      "execution_count": 9,
      "outputs": []
    },
    {
      "cell_type": "code",
      "source": [
        "!./add_v2"
      ],
      "metadata": {
        "colab": {
          "base_uri": "https://localhost:8080/"
        },
        "id": "UrCo8QUwXW83",
        "outputId": "250eecff-0918-494d-d650-a5bcd97abdbe"
      },
      "execution_count": 10,
      "outputs": [
        {
          "output_type": "stream",
          "name": "stdout",
          "text": [
            "3.00 5.00\n"
          ]
        }
      ]
    },
    {
      "cell_type": "markdown",
      "source": [
        "## Here is a second way to fix the vector addition without using pointers."
      ],
      "metadata": {
        "id": "tf9DOnssXqIP"
      }
    },
    {
      "cell_type": "code",
      "source": [
        "%%writefile add_v3.c\n",
        "#include <stdio.h>\n",
        "\n",
        "typedef struct vec2_s {\n",
        "    double x,y;\n",
        "} vec2;\n",
        "\n",
        "vec2 vec2_add (vec2 a, vec2 b) {\n",
        "    vec2 c = { a.x + b.x, a.y + b.y };\n",
        "    return c;\n",
        "}\n",
        "\n",
        "int main () {\n",
        "    vec2 u = { 1.0, 2.0 };\n",
        "    vec2 v = { 2.0, 3.0 };\n",
        "    vec2 w = vec2_add(u,v);\n",
        "    printf (\"%.2f %.2f\\n\",w.x,w.y);\n",
        "}"
      ],
      "metadata": {
        "colab": {
          "base_uri": "https://localhost:8080/"
        },
        "id": "ry8KqLpxXXx-",
        "outputId": "f5ee629a-4cad-4fc5-8605-dcd7ce4e67de"
      },
      "execution_count": 11,
      "outputs": [
        {
          "output_type": "stream",
          "name": "stdout",
          "text": [
            "Overwriting add_v3.c\n"
          ]
        }
      ]
    },
    {
      "cell_type": "code",
      "source": [
        "!gcc -o add_v3 add_v3.c"
      ],
      "metadata": {
        "id": "Rqo4UykfYIWg"
      },
      "execution_count": 12,
      "outputs": []
    },
    {
      "cell_type": "code",
      "source": [
        "!./add_v3"
      ],
      "metadata": {
        "colab": {
          "base_uri": "https://localhost:8080/"
        },
        "id": "FTRAGF62YLDf",
        "outputId": "e944c674-1842-4ce9-e452-85a79c89d0d4"
      },
      "execution_count": 13,
      "outputs": [
        {
          "output_type": "stream",
          "name": "stdout",
          "text": [
            "3.00 5.00\n"
          ]
        }
      ]
    },
    {
      "cell_type": "markdown",
      "source": [
        "## The third version seems tempting because pointers are not required.\n",
        "\n",
        "## However there are some pitfalls to keep in mind when passing C structures by value.  \n",
        "\n",
        "## Discussion: Why does the following code take so long to run?\n",
        "\n"
      ],
      "metadata": {
        "id": "yMbuY8J9ZSEr"
      }
    },
    {
      "cell_type": "code",
      "source": [
        "%%writefile set_v1.c\n",
        "#include <stdio.h>\n",
        "\n",
        "typedef struct vec100k_s {\n",
        "    double x[100000];\n",
        "} vec100k;\n",
        "\n",
        "vec100k vec100k_set (vec100k a, int i, double b) {\n",
        "    a.x[i] = b;\n",
        "    return a;\n",
        "}\n",
        "\n",
        "int main () {\n",
        "    vec100k v;\n",
        "    for (int i=0;i<100000;i++) {\n",
        "        v = vec100k_set (v,i,i);\n",
        "    }\n",
        "    printf (\"x[12345] = %.2f\",v.x[12345]);\n",
        "}"
      ],
      "metadata": {
        "colab": {
          "base_uri": "https://localhost:8080/"
        },
        "id": "thAR-Fj6YMU0",
        "outputId": "2ff259ff-1b4b-431f-8f89-575a2bf5fb4c"
      },
      "execution_count": 14,
      "outputs": [
        {
          "output_type": "stream",
          "name": "stdout",
          "text": [
            "Overwriting set_v1.c\n"
          ]
        }
      ]
    },
    {
      "cell_type": "code",
      "source": [
        "!gcc -o set_v1 set_v1.c"
      ],
      "metadata": {
        "id": "ISgCX1DtajsU"
      },
      "execution_count": 15,
      "outputs": []
    },
    {
      "cell_type": "code",
      "source": [
        "!time ./set_v1"
      ],
      "metadata": {
        "colab": {
          "base_uri": "https://localhost:8080/"
        },
        "id": "yVFPgHS5aoXW",
        "outputId": "5ef26cb1-60fb-4919-94b9-d9bba4516282"
      },
      "execution_count": 16,
      "outputs": [
        {
          "output_type": "stream",
          "name": "stdout",
          "text": [
            "x[12345] = 12345.00\n",
            "real\t0m15.424s\n",
            "user\t0m10.811s\n",
            "sys\t0m0.034s\n"
          ]
        }
      ]
    },
    {
      "cell_type": "markdown",
      "source": [
        "## Passing large C structures by value in C is rarely a good idea.  \n",
        "\n",
        "## Instead we should always pass large C structures by pointer for efficiency.  \n",
        "\n",
        "## In fact, if we pass the large C structure by pointer for efficiency, we do not need the return value!"
      ],
      "metadata": {
        "id": "6h0tQ43sb2rX"
      }
    },
    {
      "cell_type": "code",
      "source": [
        "%%writefile set_v2.c\n",
        "#include <stdio.h>\n",
        "\n",
        "typedef struct vec100k_s {\n",
        "    double x[100000];\n",
        "} vec100k;\n",
        "\n",
        "void vec100k_set (vec100k* a, int i, double b) {\n",
        "    a->x[i] = b;\n",
        "}\n",
        "\n",
        "int main () {\n",
        "    vec100k v;\n",
        "    for (int i=0;i<100000;i++) {\n",
        "        vec100k_set (&v,i,i);\n",
        "    }\n",
        "    printf (\"x[12345] = %.2f\",v.x[12345]);\n",
        "}"
      ],
      "metadata": {
        "colab": {
          "base_uri": "https://localhost:8080/"
        },
        "id": "cgXLV4qFas7Y",
        "outputId": "2cbdd056-c59f-4117-b69f-f6c1f9311650"
      },
      "execution_count": 17,
      "outputs": [
        {
          "output_type": "stream",
          "name": "stdout",
          "text": [
            "Overwriting set_v2.c\n"
          ]
        }
      ]
    },
    {
      "cell_type": "code",
      "source": [
        "!gcc -o set_v2 set_v2.c"
      ],
      "metadata": {
        "id": "Um7O0-UMcUXo"
      },
      "execution_count": 18,
      "outputs": []
    },
    {
      "cell_type": "code",
      "source": [
        "!time ./set_v2"
      ],
      "metadata": {
        "colab": {
          "base_uri": "https://localhost:8080/"
        },
        "id": "YeRw_tctcbKj",
        "outputId": "714e6d3a-4dee-426d-852d-8525b4e2a28f"
      },
      "execution_count": 19,
      "outputs": [
        {
          "output_type": "stream",
          "name": "stdout",
          "text": [
            "x[12345] = 12345.00\n",
            "real\t0m0.004s\n",
            "user\t0m0.001s\n",
            "sys\t0m0.002s\n"
          ]
        }
      ]
    },
    {
      "cell_type": "markdown",
      "source": [
        "# Part 3 : Finding the 2d Point Farthest from the Origin"
      ],
      "metadata": {
        "id": "7kKQnjHanxZm"
      }
    },
    {
      "cell_type": "markdown",
      "source": [
        "## Let's proceed to write a C program that finds the 2d point farthest from the origin.\n",
        "\n",
        "## Note that this problem is equivalent to maximizing the norm (or length) of the input vectors.  \n",
        "\n",
        "## Recall that the norm (or length) of a vector in $\\mathbb{R}^2$ is given by\n",
        "$$\\Large{\\| x \\| = \\sqrt{ x_1^2 + x_2^2}}$$\n",
        "\n",
        "## Since for positive numbers $x$, $y$ we have that $x^2 > y^2$ if and only if $x > y$, maximizing $\\| x \\|$ is equivalent to maximizing the norm squared:\n",
        "$$\\Large{\\| x \\|^2 = x_1^2 + x_2^2}$$\n",
        "\n",
        "## This trick allows us to avoid the use of the *sqrt* function which is expensive to compute.\n",
        "\n",
        "## Here is a short *proof* of the key result:  Suppose $x > 0$ and $y > 0$.  Then\n",
        "$$x^2 > y^2 \\Leftrightarrow x^2 - y^2 > 0 \\Leftrightarrow (x-y)(x+y) > 0 \\Leftrightarrow x-y > 0 \\Leftrightarrow x > y$$\n",
        "\n"
      ],
      "metadata": {
        "id": "rfEWxqwXdzs-"
      }
    },
    {
      "cell_type": "code",
      "source": [
        "%%writefile farthest.c\n",
        "#include <stdio.h>\n",
        "\n",
        "typedef struct vec2_s {\n",
        "    double x,y;\n",
        "} vec2;\n",
        "\n",
        "double vec2_norm_sq (vec2 v) {\n",
        "    return v.x*v.x + v.y*v.y;\n",
        "}\n",
        "\n",
        "int main () {\n",
        "    vec2 farthest;\n",
        "    vec2 next;\n",
        "    double max_norm_sq = 0;\n",
        "    while (scanf(\"%lf %lf\",&(next.x),&(next.y)) == 2) {\n",
        "        double norm_sq = vec2_norm_sq(next);\n",
        "        if (norm_sq > max_norm_sq) {\n",
        "            max_norm_sq = norm_sq;\n",
        "            farthest = next;\n",
        "        }\n",
        "    }\n",
        "    printf (\"The point farthest from the origin is (%.4f,%.4f)\\n\",\n",
        "            farthest.x,farthest.y);\n",
        "}"
      ],
      "metadata": {
        "colab": {
          "base_uri": "https://localhost:8080/"
        },
        "id": "0NGT0lQKccyq",
        "outputId": "7b0dd42b-5b80-4d7f-8c36-232255e4c213"
      },
      "execution_count": 20,
      "outputs": [
        {
          "output_type": "stream",
          "name": "stdout",
          "text": [
            "Overwriting farthest.c\n"
          ]
        }
      ]
    },
    {
      "cell_type": "code",
      "source": [
        "!gcc -o farthest farthest.c"
      ],
      "metadata": {
        "id": "IdC9u-KefPpY"
      },
      "execution_count": 21,
      "outputs": []
    },
    {
      "cell_type": "code",
      "source": [
        "cat points9.txt | ./farthest"
      ],
      "metadata": {
        "colab": {
          "base_uri": "https://localhost:8080/"
        },
        "id": "vKVnyDqEknx9",
        "outputId": "3ea7bc59-70e6-47eb-9707-93a45503541b"
      },
      "execution_count": 22,
      "outputs": [
        {
          "output_type": "stream",
          "name": "stdout",
          "text": [
            "The point farthest from the origin is (2.0000,5.0000)\n"
          ]
        }
      ]
    },
    {
      "cell_type": "markdown",
      "source": [
        "# Part 4 : Finding the Extreme Pair of Points\n",
        "\n",
        "## In the next example we wish to find the pair of points that are farthest apart.  \n",
        "\n",
        "## We will call this pair the **extreme pair**.  \n",
        "\n",
        "## We will use a brute force approach that checks all possible pairs of points.\n",
        "\n",
        "## Given $n$ points, there are $\\binom{n}{2} = \\frac{n(n-1)}{2}$ possible pairs of points.  \n",
        "\n",
        "## A proof of this fact is that you first pick a point (n choices) and then a second point (n-1 choices) but then you have counted each pair twice since (x,y) and (y,x) are the same pair!\n",
        "\n",
        "## When enumerating all pairs of points we will use the indices $0, 1, 2, ..., n-1$ of the points.  \n",
        "\n",
        "## Let's first write a C program to count the number of pairs of indices $0, 1, 2, ..., n-1$.  \n",
        "\n",
        "## We can avoid repeating the pairs by only counting pairs $(i,j)$ such that $i < j$.  \n",
        "\n",
        "## Note that this approach also avoids counting $(i,i)$ as a pair.\n",
        "\n",
        "## Here is our first attempt.  "
      ],
      "metadata": {
        "id": "znfRahHlqIBc"
      }
    },
    {
      "cell_type": "code",
      "source": [
        "%%writefile count_v1.c\n",
        "#include <stdio.h>\n",
        "#include <stdlib.h>\n",
        "\n",
        "int main (int argc, char* argv[]) {\n",
        "    if (argc < 2) {\n",
        "        printf (\"command usage: %s %s\\n\",argv[0],\"n\");\n",
        "        return 1;\n",
        "    }\n",
        "    int n = atoi(argv[1]);\n",
        "    int num_pairs = 0;\n",
        "    for (int i=0;i<n;i++) {\n",
        "        for (int j=0;j<n;j++) {\n",
        "            if (i<j) {\n",
        "                num_pairs += 1;\n",
        "            }\n",
        "        }\n",
        "    }\n",
        "    printf (\"There are %d possible pairs of %d points.\\n\",num_pairs,n);\n",
        "}\n"
      ],
      "metadata": {
        "id": "AHhotGUGksXv",
        "colab": {
          "base_uri": "https://localhost:8080/"
        },
        "outputId": "fcedf664-9d04-45c9-fefb-fa9596b0af96"
      },
      "execution_count": 23,
      "outputs": [
        {
          "output_type": "stream",
          "name": "stdout",
          "text": [
            "Overwriting count_v1.c\n"
          ]
        }
      ]
    },
    {
      "cell_type": "code",
      "source": [
        "!gcc -o count_v1 count_v1.c"
      ],
      "metadata": {
        "id": "fPE2TjFAtJ9z"
      },
      "execution_count": 24,
      "outputs": []
    },
    {
      "cell_type": "code",
      "source": [
        "!./count_v1 10"
      ],
      "metadata": {
        "colab": {
          "base_uri": "https://localhost:8080/"
        },
        "id": "m-ZNxlG8tLpb",
        "outputId": "7066d1e4-b150-4066-9439-dce356ac7445"
      },
      "execution_count": 25,
      "outputs": [
        {
          "output_type": "stream",
          "name": "stdout",
          "text": [
            "There are 45 possible pairs of 10 points.\n"
          ]
        }
      ]
    },
    {
      "cell_type": "code",
      "source": [
        "!time ./count_v1 50000"
      ],
      "metadata": {
        "colab": {
          "base_uri": "https://localhost:8080/"
        },
        "id": "8R74qd4htPOB",
        "outputId": "7a1114f0-937f-4d6e-daa3-8eca48a85f01"
      },
      "execution_count": 26,
      "outputs": [
        {
          "output_type": "stream",
          "name": "stdout",
          "text": [
            "There are 1249975000 possible pairs of 50000 points.\n",
            "\n",
            "real\t0m7.851s\n",
            "user\t0m7.705s\n",
            "sys\t0m0.013s\n"
          ]
        }
      ]
    },
    {
      "cell_type": "markdown",
      "source": [
        "## We can enumerate the pairs more efficiently by starting the second loop at $i+1$ instead of $0$!\n",
        "\n",
        "## This change also eliminates the need for the *if* statement.\n",
        "\n",
        "## Another slight improvement would be to end the first loop when i is n-1 instead of when i is n.  \n",
        "\n",
        "## Why can we do this?"
      ],
      "metadata": {
        "id": "Nmyuq52ftqqL"
      }
    },
    {
      "cell_type": "code",
      "source": [
        "%%writefile count_v2.c\n",
        "#include <stdio.h>\n",
        "#include <stdlib.h>\n",
        "\n",
        "int main (int argc, char* argv[]) {\n",
        "    if (argc < 2) {\n",
        "        printf (\"command usage: %s %s\\n\",argv[0],\"n\");\n",
        "        return 1;\n",
        "    }\n",
        "    int n = atoi(argv[1]);\n",
        "    int num_pairs = 0;\n",
        "    for (int i=0;i<n-1;i++) {\n",
        "        for (int j=i+1;j<n;j++) {\n",
        "            num_pairs += 1;\n",
        "        }\n",
        "    }\n",
        "    printf (\"There are %d possible pairs of %d points.\\n\",num_pairs,n);\n",
        "}"
      ],
      "metadata": {
        "colab": {
          "base_uri": "https://localhost:8080/"
        },
        "id": "0fy9L8QKtSW9",
        "outputId": "dddad3df-f909-4318-a3da-2ca15f93c2ea"
      },
      "execution_count": 27,
      "outputs": [
        {
          "output_type": "stream",
          "name": "stdout",
          "text": [
            "Overwriting count_v2.c\n"
          ]
        }
      ]
    },
    {
      "cell_type": "code",
      "source": [
        "!gcc -o count_v2 count_v2.c"
      ],
      "metadata": {
        "id": "GJW2cLH5uULl"
      },
      "execution_count": 28,
      "outputs": []
    },
    {
      "cell_type": "code",
      "source": [
        "!time ./count_v2 50000"
      ],
      "metadata": {
        "colab": {
          "base_uri": "https://localhost:8080/"
        },
        "id": "TXkpX1fjudzK",
        "outputId": "4db5ea39-2495-46ac-861b-690293a12a47"
      },
      "execution_count": 29,
      "outputs": [
        {
          "output_type": "stream",
          "name": "stdout",
          "text": [
            "There are 1249975000 possible pairs of 50000 points.\n",
            "\n",
            "real\t0m2.461s\n",
            "user\t0m2.431s\n",
            "sys\t0m0.005s\n"
          ]
        }
      ]
    },
    {
      "cell_type": "markdown",
      "source": [
        "## Let's modify the counting program to enumerate the pairs."
      ],
      "metadata": {
        "id": "frfAavSbvfya"
      }
    },
    {
      "cell_type": "code",
      "source": [
        "%%writefile pairs.c\n",
        "#include <stdio.h>\n",
        "#include <stdlib.h>\n",
        "\n",
        "int main (int argc, char* argv[]) {\n",
        "    if (argc < 2) {\n",
        "        printf (\"command usage: %s %s\\n\",argv[0],\"n\");\n",
        "        return 1;\n",
        "    }\n",
        "    int n = atoi(argv[1]);\n",
        "    for (int i=0;i<n-1;i++) {\n",
        "        for (int j=i+1;j<n;j++) {\n",
        "            printf (\"%d %d\\n\",i,j);\n",
        "        }\n",
        "    }\n",
        "}"
      ],
      "metadata": {
        "colab": {
          "base_uri": "https://localhost:8080/"
        },
        "id": "NwUK291Lue_Y",
        "outputId": "ee3b158e-a4e6-471e-c26e-0ee409b170f8"
      },
      "execution_count": 30,
      "outputs": [
        {
          "output_type": "stream",
          "name": "stdout",
          "text": [
            "Overwriting pairs.c\n"
          ]
        }
      ]
    },
    {
      "cell_type": "code",
      "source": [
        "!gcc -o pairs pairs.c"
      ],
      "metadata": {
        "id": "FbTrvCQ9vrX9"
      },
      "execution_count": 31,
      "outputs": []
    },
    {
      "cell_type": "code",
      "source": [
        "!./pairs 5"
      ],
      "metadata": {
        "colab": {
          "base_uri": "https://localhost:8080/"
        },
        "id": "2qyAgDYXvs3C",
        "outputId": "d13c4716-87e4-4f5e-fe54-53461a11f254"
      },
      "execution_count": 32,
      "outputs": [
        {
          "output_type": "stream",
          "name": "stdout",
          "text": [
            "0 1\n",
            "0 2\n",
            "0 3\n",
            "0 4\n",
            "1 2\n",
            "1 3\n",
            "1 4\n",
            "2 3\n",
            "2 4\n",
            "3 4\n"
          ]
        }
      ]
    },
    {
      "cell_type": "markdown",
      "source": [
        "## Exercise : Given $n$ points there are $\\binom{n}{3}$ possible triples of the points.  \n",
        "\n",
        "## Write an efficient C program to compute all triples of the indices $0, 1, 2, ..., n-1$.  \n",
        "\n",
        "## Try your program with $n=5$.  It should output $\\binom{5}{3} = 10$ distinct triples of the indices $0, 1, 2, 3, 4$.  "
      ],
      "metadata": {
        "id": "99m4XwG2wIS3"
      }
    },
    {
      "cell_type": "markdown",
      "source": [
        "## We are know ready to write the program to find the **extreme pair**.  \n",
        "\n",
        "## We will have store the 2d points in an array.\n",
        "\n",
        "## We will assume that the input file contains at most $1000$ points.\n",
        "\n",
        "## To find the pair with the maximum distance we will need to maximize\n",
        "$$\\Large{\\| u - v \\|}$$\n",
        "## over all possible pairs of points which is equivalent to maximizing\n",
        "$$\\Large{\\| u - v \\|^2}$$"
      ],
      "metadata": {
        "id": "nbGn8hJ1xPlk"
      }
    },
    {
      "cell_type": "code",
      "source": [
        "%%writefile extreme.c\n",
        "#include <stdio.h>\n",
        "\n",
        "#define MAX_POINTS 1000\n",
        "\n",
        "typedef struct vec2_s {\n",
        "    double x,y;\n",
        "} vec2;\n",
        "\n",
        "double vec2_dist_sq (vec2 u, vec2 v) {\n",
        "    return (u.x-v.x)*(u.x-v.x)+(u.y-v.y)*(u.y-v.y);\n",
        "}\n",
        "\n",
        "int main () {\n",
        "\n",
        "    // read the points from stdin\n",
        "    int num_points = 0;\n",
        "    vec2 next;\n",
        "    vec2 data[MAX_POINTS];\n",
        "    while (scanf(\"%lf %lf\",&(next.x),&(next.y)) == 2) {\n",
        "        if (num_points < MAX_POINTS) {\n",
        "            data[num_points] = next;\n",
        "            num_points += 1;\n",
        "        } else {\n",
        "            printf (\"too many points!\\n\");\n",
        "            return 1;\n",
        "        }\n",
        "    }\n",
        "\n",
        "    // find the extreme pair\n",
        "    double max_dist_sq = 0;\n",
        "    int extreme_i, extreme_j;\n",
        "    for (int i=0;i<num_points-1;i++) {\n",
        "        for (int j=i+1;j<num_points;j++) {\n",
        "            double dist_sq = vec2_dist_sq(data[i],data[j]);\n",
        "            if (dist_sq > max_dist_sq) {\n",
        "                max_dist_sq = dist_sq;\n",
        "                extreme_i = i;\n",
        "                extreme_j = j;\n",
        "            }\n",
        "        }\n",
        "    }\n",
        "\n",
        "    // print the results\n",
        "    printf (\"The extreme pair has indices (%d,%d)\\n\",extreme_i,extreme_j);\n",
        "}"
      ],
      "metadata": {
        "colab": {
          "base_uri": "https://localhost:8080/"
        },
        "id": "gvh8z6m2xA6v",
        "outputId": "d1a086ff-324e-48c1-9a9c-ddac121eae9e"
      },
      "execution_count": 33,
      "outputs": [
        {
          "output_type": "stream",
          "name": "stdout",
          "text": [
            "Overwriting extreme.c\n"
          ]
        }
      ]
    },
    {
      "cell_type": "code",
      "source": [
        "!gcc -o extreme extreme.c"
      ],
      "metadata": {
        "id": "nGVhC8YbzCGx"
      },
      "execution_count": 34,
      "outputs": []
    },
    {
      "cell_type": "code",
      "source": [
        "!cat points9.txt | ./extreme"
      ],
      "metadata": {
        "colab": {
          "base_uri": "https://localhost:8080/"
        },
        "id": "cWOvpvcCzDjd",
        "outputId": "bf313833-db93-4929-fa46-22b1e1d5580e"
      },
      "execution_count": 35,
      "outputs": [
        {
          "output_type": "stream",
          "name": "stdout",
          "text": [
            "The extreme pair has indices (5,8)\n"
          ]
        }
      ]
    },
    {
      "cell_type": "markdown",
      "source": [
        "## Here is a Python script for visualizing the extreme pair."
      ],
      "metadata": {
        "id": "dR7ncnWLzPV7"
      }
    },
    {
      "cell_type": "code",
      "source": [
        "%%writefile extreme.py\n",
        "import sys\n",
        "import numpy as np\n",
        "import matplotlib.pyplot as plt\n",
        "\n",
        "# the name of the output file is a command line argument\n",
        "if (len(sys.argv) < 2):\n",
        "    print (\"Command Usage : python3\",sys.argv[0],\"outfile\")\n",
        "    exit(1)\n",
        "outfile = sys.argv[1]\n",
        "\n",
        "# read the data file\n",
        "data = np.loadtxt(sys.stdin)\n",
        "\n",
        "# plot the data\n",
        "plt.gca().set_aspect('equal')\n",
        "plt.scatter(data[:,0],data[:,1],s=20,color='black')\n",
        "\n",
        "# plot the special points (if additional command line argments present)\n",
        "for k in range(2,len(sys.argv)):\n",
        "    i = int(sys.argv[k])\n",
        "    plt.scatter (data[i,0],data[i,1],s=100,color='orange')\n",
        "\n",
        "# save the plot as an image\n",
        "plt.savefig(outfile)"
      ],
      "metadata": {
        "colab": {
          "base_uri": "https://localhost:8080/"
        },
        "id": "Zo_dorSSzHze",
        "outputId": "f242e518-9e71-4051-ff43-dca918b9a2d0"
      },
      "execution_count": 36,
      "outputs": [
        {
          "output_type": "stream",
          "name": "stdout",
          "text": [
            "Overwriting extreme.py\n"
          ]
        }
      ]
    },
    {
      "cell_type": "code",
      "source": [
        "!cat points9.txt | python3 extreme.py points9.png 5 8"
      ],
      "metadata": {
        "id": "02fq8dadzh_Q"
      },
      "execution_count": 37,
      "outputs": []
    },
    {
      "cell_type": "code",
      "source": [
        "from IPython import display\n",
        "display.Image(\"points9.png\")"
      ],
      "metadata": {
        "colab": {
          "base_uri": "https://localhost:8080/",
          "height": 497
        },
        "id": "YdlbnpB_zrwJ",
        "outputId": "f5da8655-17a7-4f2d-8e55-33b0bdc459d9"
      },
      "execution_count": 38,
      "outputs": [
        {
          "output_type": "execute_result",
          "data": {
            "image/png": "[encoded data removed]",
            "text/plain": [
              "<IPython.core.display.Image object>"
            ]
          },
          "metadata": {},
          "execution_count": 38
        }
      ]
    },
    {
      "cell_type": "markdown",
      "source": [
        "## We close with a version of extreme that uses a function to enhance readability of the code."
      ],
      "metadata": {
        "id": "PgC2OfQ50lxB"
      }
    },
    {
      "cell_type": "code",
      "source": [
        "%%writefile extreme_fun.c\n",
        "#include <stdio.h>\n",
        "\n",
        "#define MAX_POINTS 1000\n",
        "\n",
        "typedef struct vec2_s {\n",
        "    double x,y;\n",
        "} vec2;\n",
        "\n",
        "double vec2_dist_sq (vec2 u, vec2 v) {\n",
        "    return (u.x-v.x)*(u.x-v.x)+(u.y-v.y)*(u.y-v.y);\n",
        "}\n",
        "\n",
        "void extreme_pair (vec2 data[], int num_points, int* extreme_i, int* extreme_j) {\n",
        "    double max_dist_sq = 0;\n",
        "    for (int i=0;i<num_points-1;i++) {\n",
        "        for (int j=i+1;j<num_points;j++) {\n",
        "            double dist_sq = vec2_dist_sq(data[i],data[j]);\n",
        "            if (dist_sq > max_dist_sq) {\n",
        "                max_dist_sq = dist_sq;\n",
        "                *extreme_i = i;\n",
        "                *extreme_j = j;\n",
        "            }\n",
        "        }\n",
        "    }\n",
        "}\n",
        "\n",
        "int main () {\n",
        "\n",
        "    // read the points from stdin\n",
        "    int num_points = 0;\n",
        "    vec2 next;\n",
        "    vec2 data[MAX_POINTS];\n",
        "    while (scanf(\"%lf %lf\",&(next.x),&(next.y)) == 2) {\n",
        "        if (num_points < MAX_POINTS) {\n",
        "            data[num_points] = next;\n",
        "            num_points += 1;\n",
        "        } else {\n",
        "            printf (\"too many points!\\n\");\n",
        "            return 1;\n",
        "        }\n",
        "    }\n",
        "\n",
        "    // find the extreme pair\n",
        "    int extreme_i, extreme_j;\n",
        "    extreme_pair(data,num_points,&extreme_i,&extreme_j);\n",
        "\n",
        "    // print the results\n",
        "    printf (\"The extreme pair has indices (%d,%d)\\n\",extreme_i,extreme_j);\n",
        "}"
      ],
      "metadata": {
        "colab": {
          "base_uri": "https://localhost:8080/"
        },
        "id": "mBSLZVbdzvot",
        "outputId": "b3540ae1-8ca1-4ad5-edf9-95df33350c7a"
      },
      "execution_count": 39,
      "outputs": [
        {
          "output_type": "stream",
          "name": "stdout",
          "text": [
            "Overwriting extreme_fun.c\n"
          ]
        }
      ]
    },
    {
      "cell_type": "code",
      "source": [
        "!gcc -o extreme_fun extreme_fun.c"
      ],
      "metadata": {
        "id": "adaXji7n1TR4"
      },
      "execution_count": 40,
      "outputs": []
    },
    {
      "cell_type": "code",
      "source": [
        "!cat points9.txt | ./extreme_fun"
      ],
      "metadata": {
        "colab": {
          "base_uri": "https://localhost:8080/"
        },
        "id": "2Gf_1Yh71VIq",
        "outputId": "a187a334-72c8-49f5-acb4-8494a24c0f6d"
      },
      "execution_count": 41,
      "outputs": [
        {
          "output_type": "stream",
          "name": "stdout",
          "text": [
            "The extreme pair has indices (5,8)\n"
          ]
        }
      ]
    },
    {
      "cell_type": "code",
      "source": [],
      "metadata": {
        "id": "vZnHNDI11WLc"
      },
      "execution_count": 41,
      "outputs": []
    }
  ]
}