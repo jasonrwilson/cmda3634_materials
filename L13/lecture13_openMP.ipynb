{
  "nbformat": 4,
  "nbformat_minor": 0,
  "metadata": {
    "colab": {
      "provenance": []
    },
    "kernelspec": {
      "name": "python3",
      "display_name": "Python 3"
    },
    "language_info": {
      "name": "python"
    }
  },
  "cells": [
    {
      "cell_type": "markdown",
      "source": [
        "# Lecture 13 : Introduction to OpenMP"
      ],
      "metadata": {
        "id": "M594fRiy0Phi"
      }
    },
    {
      "cell_type": "markdown",
      "source": [
        "# Part 1 : Hello World!\n",
        "\n",
        "## As our first example, we investigate the classic problem of printing Hello World! in parallel.\n",
        "\n",
        "## To start, consider the sequential code."
      ],
      "metadata": {
        "id": "QSGcgFGnh5th"
      }
    },
    {
      "cell_type": "code",
      "source": [
        "%%writefile hello.c\n",
        "#include <stdio.h>\n",
        "\n",
        "int main () {\n",
        "    printf (\"Hello World!\\n\");\n",
        "}"
      ],
      "metadata": {
        "colab": {
          "base_uri": "https://localhost:8080/"
        },
        "id": "HKECgoZviISX",
        "outputId": "44d1aeb8-9cf3-4b19-eb0d-2b08b7338d63"
      },
      "execution_count": 1,
      "outputs": [
        {
          "output_type": "stream",
          "name": "stdout",
          "text": [
            "Writing hello.c\n"
          ]
        }
      ]
    },
    {
      "cell_type": "code",
      "source": [
        "!gcc -o hello hello.c"
      ],
      "metadata": {
        "id": "sf6Bq6aJiV-t"
      },
      "execution_count": 2,
      "outputs": []
    },
    {
      "cell_type": "code",
      "source": [
        "!./hello"
      ],
      "metadata": {
        "colab": {
          "base_uri": "https://localhost:8080/"
        },
        "id": "8AfXrVDTiZ1n",
        "outputId": "75b5f3b4-0053-459c-8a3a-9e2738c09294"
      },
      "execution_count": 3,
      "outputs": [
        {
          "output_type": "stream",
          "name": "stdout",
          "text": [
            "Hello World!\n"
          ]
        }
      ]
    },
    {
      "cell_type": "markdown",
      "source": [
        "## To get ready for OpenMP we create a version 1 that adds the ability to read in the number of threads using the command line."
      ],
      "metadata": {
        "id": "w1qbLeV1icKB"
      }
    },
    {
      "cell_type": "code",
      "source": [
        "%%writefile omp_hello_v1.c\n",
        "#include <stdio.h>\n",
        "#include <stdlib.h>\n",
        "\n",
        "int main (int argc, char* argv[]) {\n",
        "\n",
        "    // get num_threads from command line\n",
        "    if (argc < 2) {\n",
        "        printf (\"Command usage : %s num_threads\\n\",argv[0]);\n",
        "        return 1;\n",
        "    }\n",
        "    int num_threads = atoi(argv[1]);\n",
        "\n",
        "    printf (\"num_threads = %d\\n\",num_threads);\n",
        "    printf (\"Hello World!\\n\");\n",
        "}"
      ],
      "metadata": {
        "colab": {
          "base_uri": "https://localhost:8080/"
        },
        "id": "cq9HsrUCislp",
        "outputId": "bb461b6d-4ed4-4496-e36d-a99cd2bfcceb"
      },
      "execution_count": 4,
      "outputs": [
        {
          "output_type": "stream",
          "name": "stdout",
          "text": [
            "Writing omp_hello_v1.c\n"
          ]
        }
      ]
    },
    {
      "cell_type": "code",
      "source": [
        "!gcc -o omp_hello_v1 omp_hello_v1.c -fopenmp"
      ],
      "metadata": {
        "id": "gQMqxjeCi0MB"
      },
      "execution_count": 5,
      "outputs": []
    },
    {
      "cell_type": "code",
      "source": [
        "!./omp_hello_v1 4"
      ],
      "metadata": {
        "colab": {
          "base_uri": "https://localhost:8080/"
        },
        "id": "m6HNmtZxi4A4",
        "outputId": "963f5e04-5ba3-40e4-cccf-6e0ec452ea9c"
      },
      "execution_count": 6,
      "outputs": [
        {
          "output_type": "stream",
          "name": "stdout",
          "text": [
            "num_threads = 4\n",
            "Hello World!\n"
          ]
        }
      ]
    },
    {
      "cell_type": "markdown",
      "source": [
        "## Version 1 is just a sequential program with the ability to read and print a command line argument."
      ],
      "metadata": {
        "id": "v4k2j98-i7UD"
      }
    },
    {
      "cell_type": "markdown",
      "source": [
        "## For version 2 we will put the code that prints the Hello World! message into an OpenMP parallel region using the OpenMP *parallel* pragma and set the number of OpenMP threads.\n",
        "\n",
        "## Note that we have to include *omp.h*.\n",
        "\n",
        "## A code block following the \"#pragma omp parallel\" is called a parallel region.\n",
        "    \n",
        "## Each thread executes the same code in a parallel region concurrently (at the same time).\n",
        "\n",
        "## The code following a parallel region is not executed until all threads finish."
      ],
      "metadata": {
        "id": "58opaQzRjiUK"
      }
    },
    {
      "cell_type": "code",
      "source": [
        "%%writefile omp_hello_v2.c\n",
        "#include <stdio.h>\n",
        "#include <stdlib.h>\n",
        "#include <omp.h>\n",
        "\n",
        "int main (int argc, char* argv[]) {\n",
        "\n",
        "    // get num_threads from command line\n",
        "    if (argc < 2) {\n",
        "        printf (\"Command usage : %s num_threads\\n\",argv[0]);\n",
        "        return 1;\n",
        "    }\n",
        "    int num_threads = atoi(argv[1]);\n",
        "    omp_set_num_threads(num_threads);\n",
        "\n",
        "    printf (\"num_threads = %d\\n\",num_threads);\n",
        "\n",
        "#pragma omp parallel\n",
        "    {\n",
        "        printf (\"Hello World!\\n\");\n",
        "    }\n",
        "}"
      ],
      "metadata": {
        "colab": {
          "base_uri": "https://localhost:8080/"
        },
        "id": "Q6UkbRPYjoCC",
        "outputId": "dcd01d5a-a1f4-4fee-bde7-5e096d9d233d"
      },
      "execution_count": 7,
      "outputs": [
        {
          "output_type": "stream",
          "name": "stdout",
          "text": [
            "Writing omp_hello_v2.c\n"
          ]
        }
      ]
    },
    {
      "cell_type": "code",
      "source": [
        "!gcc -o omp_hello_v2 omp_hello_v2.c -fopenmp"
      ],
      "metadata": {
        "id": "4FAeZRNrjvsQ"
      },
      "execution_count": 8,
      "outputs": []
    },
    {
      "cell_type": "markdown",
      "source": [
        "## Note that we need to compile with the -fopenmp flag to incorporate the OpenMP library."
      ],
      "metadata": {
        "id": "V6aUJsEBj1H3"
      }
    },
    {
      "cell_type": "code",
      "source": [
        "!./omp_hello_v2 4"
      ],
      "metadata": {
        "colab": {
          "base_uri": "https://localhost:8080/"
        },
        "id": "L3KAby6fj-EQ",
        "outputId": "76805e9c-b7df-4cea-d049-ecdaa4f41e73"
      },
      "execution_count": 9,
      "outputs": [
        {
          "output_type": "stream",
          "name": "stdout",
          "text": [
            "num_threads = 4\n",
            "Hello World!\n",
            "Hello World!\n",
            "Hello World!\n",
            "Hello World!\n"
          ]
        }
      ]
    },
    {
      "cell_type": "markdown",
      "source": [
        "## In order to take advantage of concurrency we have to have each thread do different work inside of the parallel region (if they all did the exact same work there would be no benefit!).\n",
        "\n",
        "## One way threads can do distinct tasks inside of a parallel region is to use their unique *thread number*.  \n",
        "\n",
        "## In our final version 3 we have each thread print a specialized message containing its own unique thread number."
      ],
      "metadata": {
        "id": "oiJmFV1Uk00n"
      }
    },
    {
      "cell_type": "code",
      "source": [
        "%%writefile omp_hello_v3.c\n",
        "#include <stdio.h>\n",
        "#include <stdlib.h>\n",
        "#include <omp.h>\n",
        "\n",
        "int main (int argc, char* argv[]) {\n",
        "\n",
        "    // get num_threads from command line\n",
        "    if (argc < 2) {\n",
        "        printf (\"Command usage : %s %s\\n\",argv[0],\"num_threads\");\n",
        "        return 1;\n",
        "    }\n",
        "    int num_threads = atoi(argv[1]);\n",
        "    omp_set_num_threads(num_threads);\n",
        "\n",
        "    printf (\"num_threads = %d\\n\",num_threads);\n",
        "\n",
        "#pragma omp parallel\n",
        "    {\n",
        "        int thread_num = omp_get_thread_num();\n",
        "        printf (\"Hello World from thread %d of %d!\\n\",thread_num,num_threads);\n",
        "    }\n",
        "}"
      ],
      "metadata": {
        "colab": {
          "base_uri": "https://localhost:8080/"
        },
        "id": "FS0PKkxllvyN",
        "outputId": "1e644ecf-9a35-4781-8bab-3b330baf4f58"
      },
      "execution_count": 10,
      "outputs": [
        {
          "output_type": "stream",
          "name": "stdout",
          "text": [
            "Writing omp_hello_v3.c\n"
          ]
        }
      ]
    },
    {
      "cell_type": "code",
      "source": [
        "!gcc -o omp_hello_v3 omp_hello_v3.c -fopenmp"
      ],
      "metadata": {
        "id": "xmfKYk1_mCM7"
      },
      "execution_count": 11,
      "outputs": []
    },
    {
      "cell_type": "code",
      "source": [
        "!./omp_hello_v3 4"
      ],
      "metadata": {
        "colab": {
          "base_uri": "https://localhost:8080/"
        },
        "id": "hHtCB7xmmKO-",
        "outputId": "bc53f548-e836-43ae-e8b9-993158bbb967"
      },
      "execution_count": 64,
      "outputs": [
        {
          "output_type": "stream",
          "name": "stdout",
          "text": [
            "num_threads = 4\n",
            "Hello World from thread 3 of 4!\n",
            "Hello World from thread 2 of 4!\n",
            "Hello World from thread 0 of 4!\n",
            "Hello World from thread 1 of 4!\n"
          ]
        }
      ]
    },
    {
      "cell_type": "markdown",
      "source": [
        "## Note that the print statements appear in random order because the threads are executing concurrently (at the same time)!"
      ],
      "metadata": {
        "id": "kf3wZVrCmRg2"
      }
    },
    {
      "cell_type": "markdown",
      "source": [
        "# Part 2 : Summing the integers $1, \\ldots, N$.\n",
        "\n",
        "## Gauss showed that\n",
        "$$\\displaystyle\\sum_{i=1}^N i = \\frac{N(N+1)}{2}$$\n",
        "\n",
        "## We will incrementally revise a sequenctial code for computing the sum $\\displaystyle\\sum_{i=1}^N i$ to run on multiple CPU cores using OpenMP.\n",
        "\n",
        "## Here is our starter sequential code.  "
      ],
      "metadata": {
        "id": "O3AaBEpaTefq"
      }
    },
    {
      "cell_type": "code",
      "execution_count": 13,
      "metadata": {
        "colab": {
          "base_uri": "https://localhost:8080/"
        },
        "id": "epJz5fqG0NCz",
        "outputId": "d701bc79-c8e7-457e-e7d1-eb7071e160bb"
      },
      "outputs": [
        {
          "output_type": "stream",
          "name": "stdout",
          "text": [
            "Writing sum.c\n"
          ]
        }
      ],
      "source": [
        "%%writefile sum.c\n",
        "#include <stdio.h>\n",
        "#include <stdlib.h>\n",
        "#include <omp.h>\n",
        "\n",
        "int main(int argc, char *argv[]) {\n",
        "\n",
        "    // get N from the command line\n",
        "    if (argc < 2) {\n",
        "        printf (\"Command usage : %s %s\\n\",argv[0],\"N\");\n",
        "        return 1;\n",
        "    }\n",
        "    long long N = atoll(argv[1]);\n",
        "\n",
        "    // calculate the sum\n",
        "    long long sum = 0;\n",
        "    for (long long i = 1; i <= N;i++) {\n",
        "        sum += i;\n",
        "    }\n",
        "\n",
        "    // print the results\n",
        "    printf (\"sum = %lld\\n\",sum);\n",
        "    printf (\"N*(N+1)/2 = %lld\\n\",(N/2)*(N+1));\n",
        "}"
      ]
    },
    {
      "cell_type": "markdown",
      "source": [
        "## Let's run the code to verify Gauss's formula for a few N!"
      ],
      "metadata": {
        "id": "hPpd5fZuUr5N"
      }
    },
    {
      "cell_type": "code",
      "source": [
        "!gcc -o sum sum.c"
      ],
      "metadata": {
        "id": "pNd2LV97UpeQ"
      },
      "execution_count": 14,
      "outputs": []
    },
    {
      "cell_type": "code",
      "source": [
        "!./sum 1000"
      ],
      "metadata": {
        "colab": {
          "base_uri": "https://localhost:8080/"
        },
        "id": "fuGqId1aUxkj",
        "outputId": "c315f09f-5abc-446f-b30f-ce8465a8eba9"
      },
      "execution_count": 15,
      "outputs": [
        {
          "output_type": "stream",
          "name": "stdout",
          "text": [
            "sum = 500500\n",
            "N*(N+1)/2 = 500500\n"
          ]
        }
      ]
    },
    {
      "cell_type": "code",
      "source": [
        "!./sum 1000000"
      ],
      "metadata": {
        "colab": {
          "base_uri": "https://localhost:8080/"
        },
        "id": "pedIQxz_U8EY",
        "outputId": "787761c2-c6a1-432c-b6bb-514b1f59b66d"
      },
      "execution_count": 16,
      "outputs": [
        {
          "output_type": "stream",
          "name": "stdout",
          "text": [
            "sum = 500000500000\n",
            "N*(N+1)/2 = 500000500000\n"
          ]
        }
      ]
    },
    {
      "cell_type": "code",
      "source": [
        "!time ./sum 4000000000"
      ],
      "metadata": {
        "colab": {
          "base_uri": "https://localhost:8080/"
        },
        "id": "xCKzkNtRUygo",
        "outputId": "6b80ad87-3412-4025-94b3-3d6e9287f8ea"
      },
      "execution_count": 17,
      "outputs": [
        {
          "output_type": "stream",
          "name": "stdout",
          "text": [
            "sum = 8000000002000000000\n",
            "N*(N+1)/2 = 8000000002000000000\n",
            "\n",
            "real\t0m12.899s\n",
            "user\t0m12.735s\n",
            "sys\t0m0.002s\n"
          ]
        }
      ]
    },
    {
      "cell_type": "markdown",
      "source": [
        "## We can see that it takes a while to run when $N$ is 4 billion."
      ],
      "metadata": {
        "id": "_DfbhHTSU-b-"
      }
    },
    {
      "cell_type": "markdown",
      "source": [
        "## For our first OpenMP version let's add a command line argument for the number of threads to use and also add some code to time how long it takes the code to run.  Note that the Linux time command does not work as expected for OpenMP programs!"
      ],
      "metadata": {
        "id": "xyxpFrCBVOB5"
      }
    },
    {
      "cell_type": "code",
      "source": [
        "%%writefile omp_sum_v1.c\n",
        "#include <stdio.h>\n",
        "#include <stdlib.h>\n",
        "#include <omp.h>\n",
        "\n",
        "int main(int argc, char *argv[]) {\n",
        "\n",
        "    // get N and num_threads from command line\n",
        "    if (argc < 3) {\n",
        "        printf (\"Command usage : %s %s %s\\n\",argv[0],\"N\",\"num_threads\");\n",
        "        return 1;\n",
        "    }\n",
        "    long long N = atoll(argv[1]);\n",
        "    int num_threads = atoi(argv[2]);\n",
        "    omp_set_num_threads(num_threads);\n",
        "\n",
        "    // start the timer\n",
        "    double start_time, end_time;\n",
        "    start_time = omp_get_wtime();\n",
        "\n",
        "    // calculate the sum\n",
        "    long long sum = 0;\n",
        "    for (long long i = 1; i <= N;i++) {\n",
        "        sum += i;\n",
        "    }\n",
        "\n",
        "    // stop the timer\n",
        "    end_time = omp_get_wtime();\n",
        "\n",
        "    printf (\"num_threads = %d, \",num_threads);\n",
        "    printf (\"elapsed time = %.6f\\n\",end_time-start_time);\n",
        "    printf (\"sum = %lld\\n\",sum);\n",
        "    printf (\"N*(N+1)/2 = %lld\\n\",(N/2)*(N+1));\n",
        "}"
      ],
      "metadata": {
        "colab": {
          "base_uri": "https://localhost:8080/"
        },
        "id": "sMLgtL7oU02u",
        "outputId": "b0150cc7-91a1-42ca-fc9c-590714eb4481"
      },
      "execution_count": 18,
      "outputs": [
        {
          "output_type": "stream",
          "name": "stdout",
          "text": [
            "Writing omp_sum_v1.c\n"
          ]
        }
      ]
    },
    {
      "cell_type": "markdown",
      "source": [
        "## Note that we need to compile with the -fopenmp flag to incorporate the OpenMP library."
      ],
      "metadata": {
        "id": "IhgVGCInV1IT"
      }
    },
    {
      "cell_type": "code",
      "source": [
        "!gcc -o omp_sum_v1 omp_sum_v1.c -fopenmp"
      ],
      "metadata": {
        "id": "hqwMcHaaVm9F"
      },
      "execution_count": 19,
      "outputs": []
    },
    {
      "cell_type": "code",
      "source": [
        "!./omp_sum_v1 100000000 1"
      ],
      "metadata": {
        "colab": {
          "base_uri": "https://localhost:8080/"
        },
        "id": "CFMdu4SGV8lC",
        "outputId": "bd15523f-8b67-475e-a6ec-283431a91c6c"
      },
      "execution_count": 20,
      "outputs": [
        {
          "output_type": "stream",
          "name": "stdout",
          "text": [
            "num_threads = 1, elapsed time = 0.325666\n",
            "sum = 5000000050000000\n",
            "N*(N+1)/2 = 5000000050000000\n"
          ]
        }
      ]
    },
    {
      "cell_type": "code",
      "source": [
        "!./omp_sum_v1 100000000 2"
      ],
      "metadata": {
        "colab": {
          "base_uri": "https://localhost:8080/"
        },
        "id": "CHLztixRWA0z",
        "outputId": "d2a84b4c-0285-487e-9edd-a4f8eef470a7"
      },
      "execution_count": 21,
      "outputs": [
        {
          "output_type": "stream",
          "name": "stdout",
          "text": [
            "num_threads = 2, elapsed time = 0.321305\n",
            "sum = 5000000050000000\n",
            "N*(N+1)/2 = 5000000050000000\n"
          ]
        }
      ]
    },
    {
      "cell_type": "markdown",
      "source": [
        "## Note that version 1 is just a timed sequential code since we do not yet use any parallel regions!\n",
        "\n",
        "## For version 2 we will put the code that computes the sum into an OpenMP parallel region using the OpenMP *parallel* pragma."
      ],
      "metadata": {
        "id": "sHxTeIq2WJt0"
      }
    },
    {
      "cell_type": "code",
      "source": [
        "%%writefile omp_sum_v2.c\n",
        "#include <stdio.h>\n",
        "#include <stdlib.h>\n",
        "#include <omp.h>\n",
        "\n",
        "int main(int argc, char *argv[]) {\n",
        "\n",
        "    // get N and num_threads from command line\n",
        "    if (argc < 3) {\n",
        "        printf (\"Command usage : %s %s %s\\n\",argv[0],\"N\",\"num_threads\");\n",
        "        return 1;\n",
        "    }\n",
        "    long long N = atoll(argv[1]);\n",
        "    int num_threads = atoi(argv[2]);\n",
        "    omp_set_num_threads(num_threads);\n",
        "\n",
        "    // start the timer\n",
        "    double start_time, end_time;\n",
        "    start_time = omp_get_wtime();\n",
        "\n",
        "    // calculate the sum\n",
        "    long long sum = 0;\n",
        "\n",
        "#pragma omp parallel\n",
        "    {\n",
        "\t    for (long long i = 1; i <= N;i++) {\n",
        "\t        sum += i;\n",
        "\t    }\n",
        "    }\n",
        "\n",
        "    // stop the timer\n",
        "    end_time = omp_get_wtime();\n",
        "\n",
        "    printf (\"num_threads = %d, \",num_threads);\n",
        "    printf (\"elapsed time = %.6f\\n\",end_time-start_time);\n",
        "    printf (\"sum = %lld\\n\",sum);\n",
        "    printf (\"N*(N+1)/2 = %lld\\n\",(N/2)*(N+1));\n",
        "}\n"
      ],
      "metadata": {
        "colab": {
          "base_uri": "https://localhost:8080/"
        },
        "id": "0l78hh-6WGzd",
        "outputId": "2aa5f45c-6d4c-48f9-d1ad-a07b3111d9fd"
      },
      "execution_count": 22,
      "outputs": [
        {
          "output_type": "stream",
          "name": "stdout",
          "text": [
            "Writing omp_sum_v2.c\n"
          ]
        }
      ]
    },
    {
      "cell_type": "code",
      "source": [
        "!gcc -o omp_sum_v2 omp_sum_v2.c -fopenmp"
      ],
      "metadata": {
        "id": "RusVGCtRXM72"
      },
      "execution_count": 23,
      "outputs": []
    },
    {
      "cell_type": "code",
      "source": [
        "!./omp_sum_v2 100000000 1"
      ],
      "metadata": {
        "colab": {
          "base_uri": "https://localhost:8080/"
        },
        "id": "XyYqS44iXWUX",
        "outputId": "7348dd0d-c6ee-43cc-aa34-9a2c45e4d992"
      },
      "execution_count": 24,
      "outputs": [
        {
          "output_type": "stream",
          "name": "stdout",
          "text": [
            "num_threads = 1, elapsed time = 0.339442\n",
            "sum = 5000000050000000\n",
            "N*(N+1)/2 = 5000000050000000\n"
          ]
        }
      ]
    },
    {
      "cell_type": "code",
      "source": [
        "!./omp_sum_v2 100000000 2"
      ],
      "metadata": {
        "colab": {
          "base_uri": "https://localhost:8080/"
        },
        "id": "Rsg-PugoXYtT",
        "outputId": "7da1dc53-68fc-42aa-9827-f2c665a54f7b"
      },
      "execution_count": 25,
      "outputs": [
        {
          "output_type": "stream",
          "name": "stdout",
          "text": [
            "num_threads = 2, elapsed time = 0.650309\n",
            "sum = 8416081095427235\n",
            "N*(N+1)/2 = 5000000050000000\n"
          ]
        }
      ]
    },
    {
      "cell_type": "markdown",
      "source": [
        "## Note above that we run the code with one thread and with two threads.\n",
        "\n",
        "## What are the two major problems with version 2?\n",
        "\n",
        "## Answers:\n",
        "\n",
        "## One reason that the performance is not better when using two CPU cores is that each thread is currently computing the entire sum!  \n",
        "\n",
        "## In order to take advantage of multiple CPU cores we need to subdivide the work across the CPU cores.\n",
        "\n",
        "## In this case we can subdivide the work by assigning each thread different terms to sum up.  This can be accomplished by assignment each thread different loop iterations to perform.  \n",
        "\n",
        "## For example if we have two threads then we can have one thread add up the odd terms: 1 + 3 + 5 + ... and have the other thread add up the even terms 2 + 4 + 6 + ...\n",
        "\n",
        "## In version 3 we will use the OpenMP loop scheduler to subdivide the iterations of the for loop across threads.\n",
        "\n",
        "## When the **#pragma omp for** is encountered, the OpenMP loop scheduler automatically assigns each thread an approximately equal sized set of loop iterations to execute.\n",
        "\n",
        "## If the DEBUG variable is set, our version 3 will print which iterations each thread is doing to illustrate how the OpenMP loop scheduler works."
      ],
      "metadata": {
        "id": "GsnWRwYyXmOX"
      }
    },
    {
      "cell_type": "code",
      "source": [
        "%%writefile omp_sum_v3.c\n",
        "#include <stdio.h>\n",
        "#include <stdlib.h>\n",
        "#include <omp.h>\n",
        "\n",
        "int main(int argc, char *argv[]) {\n",
        "\n",
        "    // get N and num_threads from command line\n",
        "    if (argc < 3) {\n",
        "        printf (\"Command usage : %s %s %s\\n\",argv[0],\"N\",\"num_threads\");\n",
        "        return 1;\n",
        "    }\n",
        "    long long N = atoll(argv[1]);\n",
        "    int num_threads = atoi(argv[2]);\n",
        "    omp_set_num_threads(num_threads);\n",
        "\n",
        "    // start the timer\n",
        "    double start_time, end_time;\n",
        "    start_time = omp_get_wtime();\n",
        "\n",
        "    // calculate the sum\n",
        "    long long sum = 0;\n",
        "\n",
        "#pragma omp parallel\n",
        "    {\n",
        "\t    int thread_num = omp_get_thread_num();\n",
        "#pragma omp for\n",
        "\t    for (long long i = 1; i <= N;i++) {\n",
        "#ifdef DEBUG\n",
        "            printf (\"thread %d is working on iteration %lld\\n\",thread_num,i);\n",
        "#endif\n",
        "\t        sum += i;\n",
        "\t    }\n",
        "    }\n",
        "\n",
        "    // stop the timer\n",
        "    end_time = omp_get_wtime();\n",
        "\n",
        "    printf (\"num_threads = %d, \",num_threads);\n",
        "    printf (\"elapsed time = %.6f\\n\",end_time-start_time);\n",
        "    printf (\"sum = %lld\\n\",sum);\n",
        "    printf (\"N*(N+1)/2 = %lld\\n\",(N/2)*(N+1));\n",
        "}\n"
      ],
      "metadata": {
        "colab": {
          "base_uri": "https://localhost:8080/"
        },
        "id": "xGnsEsfKXemf",
        "outputId": "08dcc47f-8b88-4c7b-88c4-b20d1228bce3"
      },
      "execution_count": 27,
      "outputs": [
        {
          "output_type": "stream",
          "name": "stdout",
          "text": [
            "Overwriting omp_sum_v3.c\n"
          ]
        }
      ]
    },
    {
      "cell_type": "markdown",
      "source": [
        "## Let's start by working on some small problems to illustrate the OpenMP loop scheduler."
      ],
      "metadata": {
        "id": "2nECYifETbQJ"
      }
    },
    {
      "cell_type": "code",
      "source": [
        "!gcc -DDEBUG -o omp_sum_v3 omp_sum_v3.c -fopenmp"
      ],
      "metadata": {
        "id": "bpk3BxyQTgPC"
      },
      "execution_count": 28,
      "outputs": []
    },
    {
      "cell_type": "code",
      "source": [
        "!./omp_sum_v3 10 3"
      ],
      "metadata": {
        "colab": {
          "base_uri": "https://localhost:8080/"
        },
        "id": "UqWB9a0dTj5O",
        "outputId": "0e0fe75c-a818-436e-c939-d0165b7f0559"
      },
      "execution_count": 34,
      "outputs": [
        {
          "output_type": "stream",
          "name": "stdout",
          "text": [
            "thread 2 is working on iteration 8\n",
            "thread 0 is working on iteration 1\n",
            "thread 0 is working on iteration 2\n",
            "thread 0 is working on iteration 3\n",
            "thread 0 is working on iteration 4\n",
            "thread 1 is working on iteration 5\n",
            "thread 1 is working on iteration 6\n",
            "thread 1 is working on iteration 7\n",
            "thread 2 is working on iteration 9\n",
            "thread 2 is working on iteration 10\n",
            "num_threads = 3, elapsed time = 0.000305\n",
            "sum = 55\n",
            "N*(N+1)/2 = 55\n"
          ]
        }
      ]
    },
    {
      "cell_type": "markdown",
      "source": [
        "## Note that with the OpenMP loop scheduler no thread has to do more than one extra iteration.  \n",
        "\n",
        "## Next let's do some more serious testing."
      ],
      "metadata": {
        "id": "Cc5jHr5BT89_"
      }
    },
    {
      "cell_type": "code",
      "source": [
        "!gcc -o omp_sum_v3 omp_sum_v3.c -fopenmp"
      ],
      "metadata": {
        "id": "nDcgIm4XZEiT"
      },
      "execution_count": 35,
      "outputs": []
    },
    {
      "cell_type": "code",
      "source": [
        "!./omp_sum_v3 100000000 1"
      ],
      "metadata": {
        "colab": {
          "base_uri": "https://localhost:8080/"
        },
        "id": "vXn3vlleZMTK",
        "outputId": "56d2954d-93d7-4c8d-ac9a-4532f7036df0"
      },
      "execution_count": 36,
      "outputs": [
        {
          "output_type": "stream",
          "name": "stdout",
          "text": [
            "num_threads = 1, elapsed time = 0.294264\n",
            "sum = 5000000050000000\n",
            "N*(N+1)/2 = 5000000050000000\n"
          ]
        }
      ]
    },
    {
      "cell_type": "code",
      "source": [
        "!./omp_sum_v3 100000000 2"
      ],
      "metadata": {
        "colab": {
          "base_uri": "https://localhost:8080/"
        },
        "id": "IDgZ5ZW5ZO8r",
        "outputId": "c75ec735-0917-4a88-a4fd-01cf8bcf84a4"
      },
      "execution_count": 37,
      "outputs": [
        {
          "output_type": "stream",
          "name": "stdout",
          "text": [
            "num_threads = 2, elapsed time = 0.309262\n",
            "sum = 3539890311608890\n",
            "N*(N+1)/2 = 5000000050000000\n"
          ]
        }
      ]
    },
    {
      "cell_type": "code",
      "source": [
        "!./omp_sum_v2 100000000 2"
      ],
      "metadata": {
        "colab": {
          "base_uri": "https://localhost:8080/"
        },
        "id": "SpvvJWh5ZX13",
        "outputId": "272d08b3-c754-407c-fb8b-1c2c3a9019e5"
      },
      "execution_count": 38,
      "outputs": [
        {
          "output_type": "stream",
          "name": "stdout",
          "text": [
            "num_threads = 2, elapsed time = 0.636992\n",
            "sum = 7277820443378182\n",
            "N*(N+1)/2 = 5000000050000000\n"
          ]
        }
      ]
    },
    {
      "cell_type": "markdown",
      "source": [
        "## What do you observe about version 3 compared to version 2.\n",
        "\n",
        "## Answer:"
      ],
      "metadata": {
        "id": "ZQ5b9_kGZS5Q"
      }
    },
    {
      "cell_type": "markdown",
      "source": [
        "## Version 3 is faster than version 2 when running on two CPUs but running verstion 3 on two CPUs is still not faster than running version 3 on just a single CPU.\n",
        "\n",
        "## We will take a break from performance for the moment and work instead on correctness.  Note in particular that both versions 2 and 3 compute the incorrect sum when using 2 threads!\n",
        "\n",
        "## Inside a parallel region there are two types of variables: shared and private.\n",
        "\n",
        "## There is a single copy of each shared variable that is used by all threads.  \n",
        "\n",
        "## Each thread uses its own local copy of each private variable.  \n",
        "\n",
        "## Variables defined inside the parallel pragma are private.\n",
        "\n",
        "## Variables not defined inside the parallel pragma are shared.  \n",
        "## For each of the following variables, decide if it is shared or private:\n",
        "    \n",
        "* i :\n",
        "* N :\n",
        "* sum :\n",
        "* thread_num :\n",
        "* num_threads :"
      ],
      "metadata": {
        "id": "LoKANTWxZf17"
      }
    },
    {
      "cell_type": "markdown",
      "source": [
        "## Exercise : To get started on version 4, add *default(none)* to the parallel pragma in version 3 of the code.  \n",
        "\n",
        "## What do you observe?"
      ],
      "metadata": {
        "id": "4uzB8sjJaUN0"
      }
    },
    {
      "cell_type": "markdown",
      "source": [
        "## Answers:\n",
        "\n",
        "## Adding *default(none)* to the parallel pragma will tell the compiler to not assume that any variable used in the parallel region but defined outside of the parallel region is shared.  Version 3 of the code with *default(none)* added will not compile.  \n",
        "\n",
        "## In version 4, we fix the compilation errors in our code by explicity adding a list of shared variables to the parallel pragma.  "
      ],
      "metadata": {
        "id": "awEaSAfpajDn"
      }
    },
    {
      "cell_type": "code",
      "source": [
        "%%writefile omp_sum_v4.c\n",
        "#include <stdio.h>\n",
        "#include <stdlib.h>\n",
        "#include <omp.h>\n",
        "\n",
        "int main(int argc, char *argv[]) {\n",
        "\n",
        "    // get N and num_threads from command line\n",
        "    if (argc < 3) {\n",
        "        printf (\"Command usage : %s %s %s\\n\",argv[0],\"N\",\"num_threads\");\n",
        "        return 1;\n",
        "    }\n",
        "    long long N = atoll(argv[1]);\n",
        "    int num_threads = atoi(argv[2]);\n",
        "    omp_set_num_threads(num_threads);\n",
        "\n",
        "    // start the timer\n",
        "    double start_time, end_time;\n",
        "    start_time = omp_get_wtime();\n",
        "\n",
        "    // calculate the sum\n",
        "    long long sum = 0;\n",
        "\n",
        "#pragma omp parallel default(none) shared(N,sum,num_threads)\n",
        "    {\n",
        "\t    int thread_num = omp_get_thread_num();\n",
        "#pragma omp for\n",
        "\t    for (long long i = 1; i <= N;i++) {\n",
        "\t        sum += i;\n",
        "\t    }\n",
        "    }\n",
        "\n",
        "    // stop the timer\n",
        "    end_time = omp_get_wtime();\n",
        "\n",
        "    printf (\"num_threads = %d, \",num_threads);\n",
        "    printf (\"elapsed time = %.6f\\n\",end_time-start_time);\n",
        "    printf (\"sum = %lld\\n\",sum);\n",
        "    printf (\"N*(N+1)/2 = %lld\\n\",(N/2)*(N+1));\n",
        "}"
      ],
      "metadata": {
        "colab": {
          "base_uri": "https://localhost:8080/"
        },
        "id": "cOOK-MCgZQtJ",
        "outputId": "768d9cbe-047e-4177-dd95-850db003c417"
      },
      "execution_count": 39,
      "outputs": [
        {
          "output_type": "stream",
          "name": "stdout",
          "text": [
            "Writing omp_sum_v4.c\n"
          ]
        }
      ]
    },
    {
      "cell_type": "code",
      "source": [
        "!gcc -o omp_sum_v4 omp_sum_v4.c -fopenmp"
      ],
      "metadata": {
        "id": "IHaeIpwNbTYm"
      },
      "execution_count": 40,
      "outputs": []
    },
    {
      "cell_type": "code",
      "source": [
        "!./omp_sum_v4 100000000 1"
      ],
      "metadata": {
        "colab": {
          "base_uri": "https://localhost:8080/"
        },
        "id": "jNPJsWuJbW1i",
        "outputId": "5109ce2a-0f9e-4454-bba7-1c654b4cb694"
      },
      "execution_count": 41,
      "outputs": [
        {
          "output_type": "stream",
          "name": "stdout",
          "text": [
            "num_threads = 1, elapsed time = 0.293806\n",
            "sum = 5000000050000000\n",
            "N*(N+1)/2 = 5000000050000000\n"
          ]
        }
      ]
    },
    {
      "cell_type": "code",
      "source": [
        "!./omp_sum_v4 100000000 2"
      ],
      "metadata": {
        "colab": {
          "base_uri": "https://localhost:8080/"
        },
        "id": "OW-fcZ3XbaKl",
        "outputId": "f128255b-b226-44c6-8cd0-d4267b432065"
      },
      "execution_count": 42,
      "outputs": [
        {
          "output_type": "stream",
          "name": "stdout",
          "text": [
            "num_threads = 2, elapsed time = 0.309779\n",
            "sum = 3505380482502995\n",
            "N*(N+1)/2 = 5000000050000000\n"
          ]
        }
      ]
    },
    {
      "cell_type": "markdown",
      "source": [
        "## Note that version 4 still has the same issues as version 3 but we now have a better understanding of shared and private variables.  \n",
        "\n",
        "## Going a bit deeper, there are different types of shared variables.  \n",
        "\n",
        "## We call a shared variable *read only* if the code in the parallel region only reads from the variable.\n",
        "\n",
        "## We call a shared variable *read/write* if the code in the parallel region both reads from the variable and writes to the variable.  \n",
        "\n",
        "## Classify each of the following shared variables.  \n",
        "\n",
        "* N :\n",
        "* sum :\n",
        "* num_threads :"
      ],
      "metadata": {
        "id": "_BuTEfFObfCM"
      }
    },
    {
      "cell_type": "markdown",
      "source": [
        "## The read only shared variables are fine, but one problem with the current code is that there is a read/write race condition for sum.\n",
        "\n",
        "## To illustrate the read/race condition let's assume for the moment **that are only two loop iterations and only two threads.**\n",
        "\n",
        "## Here is what we might imagine happens when two different threads access sum during the two iteration of the for loop:\n",
        "\n",
        "* Thread 1 reads the current value of sum : 0\n",
        "* Thread 1 adds i=1 to the current value of sum : 1\n",
        "* Thread 1 stores the new value of sum : 1\n",
        "* Thread 2 reads the current value of sum : 1\n",
        "* Thread 2 adds i=2 to the current value of sum : 3\n",
        "* Thread 2 stores the new value of sum : 3\n",
        "\n",
        "## Since the threads operate concurrently on different CPUs, what is actually happening is more like:\n",
        "\n",
        "* Thread 1 reads the current value of sum : 0\n",
        "* Thread 2 reads the current value of sum : 0\n",
        "* Thread 1 adds i=1 to the current value of sum : 1\n",
        "* Thread 2 adds i=2 to the current value of sum : 2\n",
        "* Thread 1 stores the new value of sum : 1\n",
        "* Thread 2 stores the new value of sum : 2\n",
        "\n",
        "## In this case part of the sum is lost and we compute a value of the sum less than N*(N+1)/2 (this is exactly what happens when we run the current version!).\n",
        "\n",
        "## There are a couple of ways to fix this issue.\n",
        "## One way is to execute the update to sum as a **single atomic update**.\n",
        "## This means that the read/sum/write steps of the update to sum cannot be preempted by another thread trying to execute a different update to the same shared sum variable.\n",
        "## We can achieve this by using putting a **#pragma omp atomic** before the update to sum.\n"
      ],
      "metadata": {
        "id": "coY4M50zcLMH"
      }
    },
    {
      "cell_type": "code",
      "source": [
        "%%writefile omp_sum_v5.c\n",
        "#include <stdio.h>\n",
        "#include <stdlib.h>\n",
        "#include <omp.h>\n",
        "\n",
        "int main(int argc, char *argv[]) {\n",
        "\n",
        "    // get N and num_threads from command line\n",
        "    if (argc < 3) {\n",
        "        printf (\"Command usage : %s %s %s\\n\",argv[0],\"N\",\"num_threads\");\n",
        "        return 1;\n",
        "    }\n",
        "    long long N = atoll(argv[1]);\n",
        "    int num_threads = atoi(argv[2]);\n",
        "    omp_set_num_threads(num_threads);\n",
        "\n",
        "    // start the timer\n",
        "    double start_time, end_time;\n",
        "    start_time = omp_get_wtime();\n",
        "\n",
        "    // calculate the sum\n",
        "    long long sum = 0;\n",
        "\n",
        "#pragma omp parallel default(none) shared(N,sum,num_threads)\n",
        "    {\n",
        "\t    int thread_num = omp_get_thread_num();\n",
        "#pragma omp for\n",
        "\t    for (long long i = 1; i <= N;i++) {\n",
        "#pragma omp atomic\n",
        "\t        sum += i;\n",
        "\t    }\n",
        "    }\n",
        "\n",
        "    // stop the timer\n",
        "    end_time = omp_get_wtime();\n",
        "\n",
        "    printf (\"num_threads = %d, \",num_threads);\n",
        "    printf (\"elapsed time = %.6f\\n\",end_time-start_time);\n",
        "    printf (\"sum = %lld\\n\",sum);\n",
        "    printf (\"N*(N+1)/2 = %lld\\n\",(N/2)*(N+1));\n",
        "}"
      ],
      "metadata": {
        "colab": {
          "base_uri": "https://localhost:8080/"
        },
        "id": "BJOGGAIibcLO",
        "outputId": "75672499-c14e-43c4-b9fe-cd599aa58dff"
      },
      "execution_count": 43,
      "outputs": [
        {
          "output_type": "stream",
          "name": "stdout",
          "text": [
            "Writing omp_sum_v5.c\n"
          ]
        }
      ]
    },
    {
      "cell_type": "code",
      "source": [
        "!gcc -o omp_sum_v5 omp_sum_v5.c -fopenmp"
      ],
      "metadata": {
        "id": "Pw8Ha1nUdbfM"
      },
      "execution_count": 44,
      "outputs": []
    },
    {
      "cell_type": "code",
      "source": [
        "!./omp_sum_v5 100000000 1"
      ],
      "metadata": {
        "colab": {
          "base_uri": "https://localhost:8080/"
        },
        "id": "vSmTNiiEdeXz",
        "outputId": "0346f480-1c1c-4e8b-d7b3-0f1f471e04bd"
      },
      "execution_count": 45,
      "outputs": [
        {
          "output_type": "stream",
          "name": "stdout",
          "text": [
            "num_threads = 1, elapsed time = 0.873200\n",
            "sum = 5000000050000000\n",
            "N*(N+1)/2 = 5000000050000000\n"
          ]
        }
      ]
    },
    {
      "cell_type": "code",
      "source": [
        "!./omp_sum_v5 100000000 2"
      ],
      "metadata": {
        "colab": {
          "base_uri": "https://localhost:8080/"
        },
        "id": "UwQCls8kdiUM",
        "outputId": "0bf43735-917c-48c5-afde-555d7cd740b6"
      },
      "execution_count": 46,
      "outputs": [
        {
          "output_type": "stream",
          "name": "stdout",
          "text": [
            "num_threads = 2, elapsed time = 0.993849\n",
            "sum = 5000000050000000\n",
            "N*(N+1)/2 = 5000000050000000\n"
          ]
        }
      ]
    },
    {
      "cell_type": "markdown",
      "source": [
        "## Version 5 of the code now computes the correct value of sum!\n",
        "\n",
        "## However, adding more threads still does not decrease the runtime!\n",
        "\n",
        "## To fix the read/write race condition we needed to use an atomic update.\n",
        "\n",
        "## The issue is that atomic updates are expensive because they require synchronization of the threads.  This synchronization also reduces parallelism because threads will have to wait on other threads to finish their atomic update before proceeding.\n",
        "\n",
        "## To fix this remaining issue, in our final version 6 we change the code so that each thread only has to perform **a single atomic update** inside the parallel region.\n",
        "\n",
        "## To ensure each thread only performs a single atomic update, we create a local thread version of sum so that each thread can do as much work as possible independently.\n",
        "\n",
        "## After each thread fully computes its partial thread_sum it adds that value to the shared sum variable using an atomic update."
      ],
      "metadata": {
        "id": "oo4u53FSdMSv"
      }
    },
    {
      "cell_type": "code",
      "source": [
        "%%writefile omp_sum_v6.c\n",
        "#include <stdio.h>\n",
        "#include <stdlib.h>\n",
        "#include <omp.h>\n",
        "\n",
        "int main(int argc, char *argv[]) {\n",
        "\n",
        "    // get N and num_threads from command line\n",
        "    if (argc < 3) {\n",
        "        printf (\"Command usage : %s %s %s\\n\",argv[0],\"N\",\"num_threads\");\n",
        "        return 1;\n",
        "    }\n",
        "    long long N = atoll(argv[1]);\n",
        "    int num_threads = atoi(argv[2]);\n",
        "    omp_set_num_threads(num_threads);\n",
        "\n",
        "    // start the timer\n",
        "    double start_time, end_time;\n",
        "    start_time = omp_get_wtime();\n",
        "\n",
        "    // calculate the sum\n",
        "    long long sum = 0;\n",
        "\n",
        "#pragma omp parallel default(none) shared(N,sum,num_threads)\n",
        "    {\n",
        "\t    int thread_num = omp_get_thread_num();\n",
        "        long long thread_sum = 0;\n",
        "#pragma omp for\n",
        "\t    for (long long i = 1; i <= N;i++) {\n",
        "            thread_sum += i;\n",
        "        }\n",
        "#pragma omp atomic\n",
        "\t    sum += thread_sum;\n",
        "    }\n",
        "\n",
        "    // stop the timer\n",
        "    end_time = omp_get_wtime();\n",
        "\n",
        "    printf (\"num_threads = %d, \",num_threads);\n",
        "    printf (\"elapsed time = %.6f\\n\",end_time-start_time);\n",
        "    printf (\"sum = %lld\\n\",sum);\n",
        "    printf (\"N*(N+1)/2 = %lld\\n\",(N/2)*(N+1));\n",
        "}"
      ],
      "metadata": {
        "colab": {
          "base_uri": "https://localhost:8080/"
        },
        "id": "2fFz_6BhdPfW",
        "outputId": "29e94584-5bde-43ec-951c-400abdb01ada"
      },
      "execution_count": 47,
      "outputs": [
        {
          "output_type": "stream",
          "name": "stdout",
          "text": [
            "Writing omp_sum_v6.c\n"
          ]
        }
      ]
    },
    {
      "cell_type": "code",
      "source": [
        "!gcc -o omp_sum_v6 omp_sum_v6.c -fopenmp"
      ],
      "metadata": {
        "id": "E44kBNLdej5b"
      },
      "execution_count": 48,
      "outputs": []
    },
    {
      "cell_type": "code",
      "source": [
        "!./omp_sum_v6 100000000 1"
      ],
      "metadata": {
        "colab": {
          "base_uri": "https://localhost:8080/"
        },
        "id": "LMiXE3AEenO5",
        "outputId": "71b60d65-ded6-4cd3-cb13-063e0fd73013"
      },
      "execution_count": 61,
      "outputs": [
        {
          "output_type": "stream",
          "name": "stdout",
          "text": [
            "num_threads = 1, elapsed time = 0.361812\n",
            "sum = 5000000050000000\n",
            "N*(N+1)/2 = 5000000050000000\n"
          ]
        }
      ]
    },
    {
      "cell_type": "code",
      "source": [
        "!./omp_sum_v6 100000000 2"
      ],
      "metadata": {
        "colab": {
          "base_uri": "https://localhost:8080/"
        },
        "id": "5SsI3Cnkeqk-",
        "outputId": "27833627-1f56-4f3a-b632-06674129112e"
      },
      "execution_count": 62,
      "outputs": [
        {
          "output_type": "stream",
          "name": "stdout",
          "text": [
            "num_threads = 2, elapsed time = 0.180636\n",
            "sum = 5000000050000000\n",
            "N*(N+1)/2 = 5000000050000000\n"
          ]
        }
      ]
    },
    {
      "cell_type": "markdown",
      "source": [
        "## With version 6 we finally see that using 2 threads running on two separate CPUs reduces the runtime by around 50% (this is what we expect since each CPU is only doing half of the work)."
      ],
      "metadata": {
        "id": "H1YnCJN4XWgz"
      }
    },
    {
      "cell_type": "code",
      "source": [
        "!./omp_sum_v6 100000000 4"
      ],
      "metadata": {
        "colab": {
          "base_uri": "https://localhost:8080/"
        },
        "id": "Ge7kkFddXL0d",
        "outputId": "a4ee8db9-5b39-4499-bcf0-614716ff3ac9"
      },
      "execution_count": 63,
      "outputs": [
        {
          "output_type": "stream",
          "name": "stdout",
          "text": [
            "num_threads = 4, elapsed time = 0.186425\n",
            "sum = 5000000050000000\n",
            "N*(N+1)/2 = 5000000050000000\n"
          ]
        }
      ]
    },
    {
      "cell_type": "markdown",
      "source": [
        "## When we go to 4 threads on Google Colab we do not see any additional improvement!\n",
        "\n",
        "## On Google Colab, our OpenMP programs can only utilize 2 CPU cores.  \n",
        "\n",
        "## Run version 6 on the *matrix* server to see better results when using higher thread counts!"
      ],
      "metadata": {
        "id": "A2tj8O4KffC2"
      }
    },
    {
      "cell_type": "code",
      "source": [],
      "metadata": {
        "id": "p2c1Wz0HewoC"
      },
      "execution_count": null,
      "outputs": []
    }
  ]
}