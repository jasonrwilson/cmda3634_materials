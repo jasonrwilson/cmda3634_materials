{
  "nbformat": 4,
  "nbformat_minor": 0,
  "metadata": {
    "colab": {
      "provenance": []
    },
    "kernelspec": {
      "name": "python3",
      "display_name": "Python 3"
    },
    "language_info": {
      "name": "python"
    }
  },
  "cells": [
    {
      "cell_type": "markdown",
      "source": [
        "# Lecture 13 : Introduction to OpenMP"
      ],
      "metadata": {
        "id": "M594fRiy0Phi"
      }
    },
    {
      "cell_type": "markdown",
      "source": [
        "# Part 1 : Hello World!\n",
        "\n",
        "## As our first example, we investigate the classic problem of printing Hello World! in parallel.\n",
        "\n",
        "## To start, consider the sequential code."
      ],
      "metadata": {
        "id": "QSGcgFGnh5th"
      }
    },
    {
      "cell_type": "code",
      "source": [
        "%%writefile hello.c\n",
        "#include <stdio.h>\n",
        "\n",
        "int main () {\n",
        "    printf (\"Hello World!\\n\");\n",
        "}"
      ],
      "metadata": {
        "colab": {
          "base_uri": "https://localhost:8080/"
        },
        "id": "HKECgoZviISX",
        "outputId": "9191dd49-3761-47bb-bb73-df7e68c27583"
      },
      "execution_count": 1,
      "outputs": [
        {
          "output_type": "stream",
          "name": "stdout",
          "text": [
            "Overwriting hello.c\n"
          ]
        }
      ]
    },
    {
      "cell_type": "code",
      "source": [
        "!gcc -o hello hello.c"
      ],
      "metadata": {
        "id": "sf6Bq6aJiV-t"
      },
      "execution_count": 2,
      "outputs": []
    },
    {
      "cell_type": "code",
      "source": [
        "!./hello"
      ],
      "metadata": {
        "colab": {
          "base_uri": "https://localhost:8080/"
        },
        "id": "8AfXrVDTiZ1n",
        "outputId": "82be9d8b-30e0-4611-e7c4-d807a85193f0"
      },
      "execution_count": 3,
      "outputs": [
        {
          "output_type": "stream",
          "name": "stdout",
          "text": [
            "Hello World!\n"
          ]
        }
      ]
    },
    {
      "cell_type": "markdown",
      "source": [
        "## To get ready for OpenMP we create a version 0 that adds the ability to read in the number of threads using the command line."
      ],
      "metadata": {
        "id": "w1qbLeV1icKB"
      }
    },
    {
      "cell_type": "code",
      "source": [
        "%%writefile omp_hello_v0.c\n",
        "#include <stdio.h>\n",
        "#include <stdlib.h>\n",
        "\n",
        "int main (int argc, char* argv[]) {\n",
        "\n",
        "    // get num_threads from command line\n",
        "    if (argc < 2) {\n",
        "        printf (\"Command usage : %s %s\\n\",argv[0],\"num_threads\");\n",
        "        return 1;\n",
        "    }\n",
        "    int num_threads = atoi(argv[1]);\n",
        "\n",
        "    printf (\"num_threads = %d\\n\",num_threads);\n",
        "    printf (\"Hello World!\\n\");\n",
        "}"
      ],
      "metadata": {
        "colab": {
          "base_uri": "https://localhost:8080/"
        },
        "id": "cq9HsrUCislp",
        "outputId": "a3e3605f-63b8-4001-b3ec-9d7d56121ae4"
      },
      "execution_count": 4,
      "outputs": [
        {
          "output_type": "stream",
          "name": "stdout",
          "text": [
            "Overwriting omp_hello_v0.c\n"
          ]
        }
      ]
    },
    {
      "cell_type": "code",
      "source": [
        "!gcc -o omp_hello_v0 omp_hello_v0.c -fopenmp"
      ],
      "metadata": {
        "id": "gQMqxjeCi0MB"
      },
      "execution_count": 5,
      "outputs": []
    },
    {
      "cell_type": "code",
      "source": [
        "!./omp_hello_v0 4"
      ],
      "metadata": {
        "colab": {
          "base_uri": "https://localhost:8080/"
        },
        "id": "m6HNmtZxi4A4",
        "outputId": "b874da84-f4ca-4e36-b399-89b0d8b68b35"
      },
      "execution_count": 6,
      "outputs": [
        {
          "output_type": "stream",
          "name": "stdout",
          "text": [
            "num_threads = 4\n",
            "Hello World!\n"
          ]
        }
      ]
    },
    {
      "cell_type": "markdown",
      "source": [
        "## Version 0 is just a sequential program with the ability to read and print a command line argument."
      ],
      "metadata": {
        "id": "v4k2j98-i7UD"
      }
    },
    {
      "cell_type": "markdown",
      "source": [
        "## For version 1 we will put the code that prints the Hello World! message into an OpenMP parallel region using the OpenMP *parallel* pragma and set the number of OpenMP threads.\n",
        "\n",
        "## Note that we have to include *omp.h*.\n",
        "\n",
        "## A code block following the \"#pragma omp parallel\" is called a parallel region.\n",
        "    \n",
        "## Each thread executes the same code in a parallel region concurrently (at the same time).\n",
        "\n",
        "## The code following a parallel region is not executed until all threads finish."
      ],
      "metadata": {
        "id": "58opaQzRjiUK"
      }
    },
    {
      "cell_type": "code",
      "source": [
        "%%writefile omp_hello_v1.c\n",
        "#include <stdio.h>\n",
        "#include <stdlib.h>\n",
        "#include <omp.h>\n",
        "\n",
        "int main (int argc, char* argv[]) {\n",
        "\n",
        "    // get num_threads from command line\n",
        "    if (argc < 2) {\n",
        "        printf (\"Command usage : %s %s\\n\",argv[0],\"num_threads\");\n",
        "        return 1;\n",
        "    }\n",
        "    int num_threads = atoi(argv[1]);\n",
        "    omp_set_num_threads(num_threads);\n",
        "\n",
        "    printf (\"num_threads = %d\\n\",num_threads);\n",
        "\n",
        "#pragma omp parallel\n",
        "    {\n",
        "        printf (\"Hello World!\\n\");\n",
        "    }\n",
        "}"
      ],
      "metadata": {
        "colab": {
          "base_uri": "https://localhost:8080/"
        },
        "id": "Q6UkbRPYjoCC",
        "outputId": "a083e020-7c11-4d44-e2ec-4917dc7d0d3f"
      },
      "execution_count": 7,
      "outputs": [
        {
          "output_type": "stream",
          "name": "stdout",
          "text": [
            "Overwriting omp_hello_v1.c\n"
          ]
        }
      ]
    },
    {
      "cell_type": "code",
      "source": [
        "!gcc -o omp_hello_v1 omp_hello_v1.c -fopenmp"
      ],
      "metadata": {
        "id": "4FAeZRNrjvsQ"
      },
      "execution_count": 8,
      "outputs": []
    },
    {
      "cell_type": "markdown",
      "source": [
        "## Note that we need to compile with the -fopenmp flag to incorporate the OpenMP library."
      ],
      "metadata": {
        "id": "V6aUJsEBj1H3"
      }
    },
    {
      "cell_type": "code",
      "source": [
        "!./omp_hello_v1 4"
      ],
      "metadata": {
        "colab": {
          "base_uri": "https://localhost:8080/"
        },
        "id": "L3KAby6fj-EQ",
        "outputId": "16febb31-a43d-4465-c573-2d4f0eeaf00a"
      },
      "execution_count": 9,
      "outputs": [
        {
          "output_type": "stream",
          "name": "stdout",
          "text": [
            "num_threads = 4\n",
            "Hello World!\n",
            "Hello World!\n",
            "Hello World!\n",
            "Hello World!\n"
          ]
        }
      ]
    },
    {
      "cell_type": "markdown",
      "source": [
        "## In order to take advantage of concurrency we have to have each thread do different work inside of the parallel region (if they all did the exact same work there would be no benefit!).\n",
        "\n",
        "## The ways can do distinct tasks inside of a parallel region is to use their unique *thread number*.  \n",
        "\n",
        "## In our final version 2 we have each thread print a specialized message containing its own unique thread number."
      ],
      "metadata": {
        "id": "oiJmFV1Uk00n"
      }
    },
    {
      "cell_type": "code",
      "source": [
        "%%writefile omp_hello_v2.c\n",
        "#include <stdio.h>\n",
        "#include <stdlib.h>\n",
        "#include <omp.h>\n",
        "\n",
        "int main (int argc, char* argv[]) {\n",
        "\n",
        "    // get num_threads from command line\n",
        "    if (argc < 2) {\n",
        "        printf (\"Command usage : %s %s\\n\",argv[0],\"num_threads\");\n",
        "        return 1;\n",
        "    }\n",
        "    int num_threads = atoi(argv[1]);\n",
        "    omp_set_num_threads(num_threads);\n",
        "\n",
        "    printf (\"num_threads = %d\\n\",num_threads);\n",
        "\n",
        "#pragma omp parallel\n",
        "    {\n",
        "        int thread_num = omp_get_thread_num();\n",
        "        printf (\"Hello World from thread %d of %d!\\n\",thread_num,num_threads);\n",
        "    }\n",
        "}"
      ],
      "metadata": {
        "colab": {
          "base_uri": "https://localhost:8080/"
        },
        "id": "FS0PKkxllvyN",
        "outputId": "2ab70727-782c-4224-e950-ae08eda17ad4"
      },
      "execution_count": 10,
      "outputs": [
        {
          "output_type": "stream",
          "name": "stdout",
          "text": [
            "Overwriting omp_hello_v2.c\n"
          ]
        }
      ]
    },
    {
      "cell_type": "code",
      "source": [
        "!gcc -o omp_hello_v2 omp_hello_v2.c -fopenmp"
      ],
      "metadata": {
        "id": "xmfKYk1_mCM7"
      },
      "execution_count": 11,
      "outputs": []
    },
    {
      "cell_type": "code",
      "source": [
        "!./omp_hello_v2 4"
      ],
      "metadata": {
        "colab": {
          "base_uri": "https://localhost:8080/"
        },
        "id": "hHtCB7xmmKO-",
        "outputId": "131219a6-13e8-4326-fb6f-86113993ed37"
      },
      "execution_count": 12,
      "outputs": [
        {
          "output_type": "stream",
          "name": "stdout",
          "text": [
            "num_threads = 4\n",
            "Hello World from thread 1 of 4!\n",
            "Hello World from thread 3 of 4!\n",
            "Hello World from thread 2 of 4!\n",
            "Hello World from thread 0 of 4!\n"
          ]
        }
      ]
    },
    {
      "cell_type": "markdown",
      "source": [
        "## Note that the print statements appear in random order because the threads are executing concurrently (at the same time)!"
      ],
      "metadata": {
        "id": "kf3wZVrCmRg2"
      }
    },
    {
      "cell_type": "markdown",
      "source": [
        "# Part 2 : Summing the integers $1, \\ldots, N$.\n",
        "\n",
        "## Gauss showed that\n",
        "$$\\displaystyle\\sum_{i=1}^N i = \\frac{N(N+1)}{2}$$\n",
        "\n",
        "## We will incrementally revise a sequenctial code for computing the sum $\\displaystyle\\sum_{i=1}^N i$ to run on multiple CPU cores using OpenMP.\n",
        "\n",
        "## Here is our starter sequential code.  "
      ],
      "metadata": {
        "id": "O3AaBEpaTefq"
      }
    },
    {
      "cell_type": "code",
      "execution_count": 13,
      "metadata": {
        "colab": {
          "base_uri": "https://localhost:8080/"
        },
        "id": "epJz5fqG0NCz",
        "outputId": "bed0abab-24bc-45d2-d563-44bb1357276c"
      },
      "outputs": [
        {
          "output_type": "stream",
          "name": "stdout",
          "text": [
            "Overwriting sum.c\n"
          ]
        }
      ],
      "source": [
        "%%writefile sum.c\n",
        "#include <stdio.h>\n",
        "#include <stdlib.h>\n",
        "#include <omp.h>\n",
        "\n",
        "int main(int argc, char *argv[]) {\n",
        "\n",
        "    // get N from the command line\n",
        "    if (argc < 2) {\n",
        "        printf (\"Command usage : %s %s\\n\",argv[0],\"N\");\n",
        "        return 1;\n",
        "    }\n",
        "    long long N = atoll(argv[1]);\n",
        "\n",
        "    // calculate the sum\n",
        "    long long sum = 0;\n",
        "    for (long long i = 1; i <= N;i++) {\n",
        "        sum += i;\n",
        "    }\n",
        "\n",
        "    // print the results\n",
        "    printf (\"sum = %lld\\n\",sum);\n",
        "    printf (\"N*(N+1)/2 = %lld\\n\",(N/2)*(N+1));\n",
        "}"
      ]
    },
    {
      "cell_type": "markdown",
      "source": [
        "## Let's run the code to verify Gauss's formula for a few N!"
      ],
      "metadata": {
        "id": "hPpd5fZuUr5N"
      }
    },
    {
      "cell_type": "code",
      "source": [
        "!gcc -o sum sum.c"
      ],
      "metadata": {
        "id": "pNd2LV97UpeQ"
      },
      "execution_count": 14,
      "outputs": []
    },
    {
      "cell_type": "code",
      "source": [
        "!./sum 1000"
      ],
      "metadata": {
        "colab": {
          "base_uri": "https://localhost:8080/"
        },
        "id": "fuGqId1aUxkj",
        "outputId": "66902df5-6dc2-4cc8-fcc3-ee78c0b6c8ca"
      },
      "execution_count": 15,
      "outputs": [
        {
          "output_type": "stream",
          "name": "stdout",
          "text": [
            "sum = 500500\n",
            "N*(N+1)/2 = 500500\n"
          ]
        }
      ]
    },
    {
      "cell_type": "code",
      "source": [
        "!./sum 1000000"
      ],
      "metadata": {
        "colab": {
          "base_uri": "https://localhost:8080/"
        },
        "id": "pedIQxz_U8EY",
        "outputId": "c6686c0c-20e7-46f1-d564-fa9f4361deb4"
      },
      "execution_count": 16,
      "outputs": [
        {
          "output_type": "stream",
          "name": "stdout",
          "text": [
            "sum = 500000500000\n",
            "N*(N+1)/2 = 500000500000\n"
          ]
        }
      ]
    },
    {
      "cell_type": "code",
      "source": [
        "!time ./sum 4000000000"
      ],
      "metadata": {
        "colab": {
          "base_uri": "https://localhost:8080/"
        },
        "id": "xCKzkNtRUygo",
        "outputId": "6c000e97-541d-4070-e012-7d4560a5fc49"
      },
      "execution_count": 17,
      "outputs": [
        {
          "output_type": "stream",
          "name": "stdout",
          "text": [
            "sum = 8000000002000000000\n",
            "N*(N+1)/2 = 8000000002000000000\n",
            "\n",
            "real\t0m13.587s\n",
            "user\t0m12.659s\n",
            "sys\t0m0.021s\n"
          ]
        }
      ]
    },
    {
      "cell_type": "markdown",
      "source": [
        "## We can see that it takes a while to run when $N$ is 4 billion."
      ],
      "metadata": {
        "id": "_DfbhHTSU-b-"
      }
    },
    {
      "cell_type": "markdown",
      "source": [
        "## For our first OpenMP version let's add a command line argument for the number of threads to use and also add some code to time how long it takes the code to run.  Note that the Linux time command does not work well for OpenMP programs!"
      ],
      "metadata": {
        "id": "xyxpFrCBVOB5"
      }
    },
    {
      "cell_type": "code",
      "source": [
        "%%writefile omp_sum_v0.c\n",
        "#include <stdio.h>\n",
        "#include <stdlib.h>\n",
        "#include <omp.h>\n",
        "\n",
        "int main(int argc, char *argv[]) {\n",
        "\n",
        "    // get N and num_threads from command line\n",
        "    if (argc < 3) {\n",
        "        printf (\"Command usage : %s %s %s\\n\",argv[0],\"N\",\"num_threads\");\n",
        "        return 1;\n",
        "    }\n",
        "    long long N = atoll(argv[1]);\n",
        "    int num_threads = atoi(argv[2]);\n",
        "    omp_set_num_threads(num_threads);\n",
        "\n",
        "    // start the timer\n",
        "    double start_time, end_time;\n",
        "    start_time = omp_get_wtime();\n",
        "\n",
        "    // calculate the sum\n",
        "    long long sum = 0;\n",
        "    for (long long i = 1; i <= N;i++) {\n",
        "        sum += i;\n",
        "    }\n",
        "\n",
        "    // stop the timer\n",
        "    end_time = omp_get_wtime();\n",
        "\n",
        "    printf (\"num_threads = %d, \",num_threads);\n",
        "    printf (\"elapsed time = %.6f\\n\",end_time-start_time);\n",
        "    printf (\"sum = %lld\\n\",sum);\n",
        "    printf (\"N*(N+1)/2 = %lld\\n\",(N/2)*(N+1));\n",
        "}"
      ],
      "metadata": {
        "colab": {
          "base_uri": "https://localhost:8080/"
        },
        "id": "sMLgtL7oU02u",
        "outputId": "49707d3d-087f-4edd-9ff3-722ab5dcde96"
      },
      "execution_count": 18,
      "outputs": [
        {
          "output_type": "stream",
          "name": "stdout",
          "text": [
            "Overwriting omp_sum_v0.c\n"
          ]
        }
      ]
    },
    {
      "cell_type": "markdown",
      "source": [
        "## Note that we need to compile with the -fopenmp flag to incorporate the OpenMP library."
      ],
      "metadata": {
        "id": "IhgVGCInV1IT"
      }
    },
    {
      "cell_type": "code",
      "source": [
        "!gcc -o omp_sum_v0 omp_sum_v0.c -fopenmp"
      ],
      "metadata": {
        "id": "hqwMcHaaVm9F"
      },
      "execution_count": 19,
      "outputs": []
    },
    {
      "cell_type": "code",
      "source": [
        "!./omp_sum_v0 100000000 1"
      ],
      "metadata": {
        "colab": {
          "base_uri": "https://localhost:8080/"
        },
        "id": "CFMdu4SGV8lC",
        "outputId": "b64d3bef-db36-46fa-f173-0992594ae703"
      },
      "execution_count": 20,
      "outputs": [
        {
          "output_type": "stream",
          "name": "stdout",
          "text": [
            "num_threads = 1, elapsed time = 0.323607\n",
            "sum = 5000000050000000\n",
            "N*(N+1)/2 = 5000000050000000\n"
          ]
        }
      ]
    },
    {
      "cell_type": "code",
      "source": [
        "!./omp_sum_v0 100000000 2"
      ],
      "metadata": {
        "colab": {
          "base_uri": "https://localhost:8080/"
        },
        "id": "CHLztixRWA0z",
        "outputId": "03ace27e-a72d-47e0-e86e-5d24917e1a3d"
      },
      "execution_count": 21,
      "outputs": [
        {
          "output_type": "stream",
          "name": "stdout",
          "text": [
            "num_threads = 2, elapsed time = 0.328249\n",
            "sum = 5000000050000000\n",
            "N*(N+1)/2 = 5000000050000000\n"
          ]
        }
      ]
    },
    {
      "cell_type": "markdown",
      "source": [
        "## Note that version 0 is just a timed sequential code since we do not yet use any parallel regions!\n",
        "\n",
        "## For version 1 we will put the code that computes the sum into an OpenMP parallel region using the OpenMP *parallel* pragma."
      ],
      "metadata": {
        "id": "sHxTeIq2WJt0"
      }
    },
    {
      "cell_type": "code",
      "source": [
        "%%writefile omp_sum_v1.c\n",
        "#include <stdio.h>\n",
        "#include <stdlib.h>\n",
        "#include <omp.h>\n",
        "\n",
        "int main(int argc, char *argv[]) {\n",
        "\n",
        "    // get N and num_threads from command line\n",
        "    if (argc < 3) {\n",
        "        printf (\"Command usage : %s %s %s\\n\",argv[0],\"N\",\"num_threads\");\n",
        "        return 1;\n",
        "    }\n",
        "    long long N = atoll(argv[1]);\n",
        "    int num_threads = atoi(argv[2]);\n",
        "    omp_set_num_threads(num_threads);\n",
        "\n",
        "    // start the timer\n",
        "    double start_time, end_time;\n",
        "    start_time = omp_get_wtime();\n",
        "\n",
        "    // calculate the sum\n",
        "    long long sum = 0;\n",
        "\n",
        "#pragma omp parallel\n",
        "    {\n",
        "\t    for (long long i = 1; i <= N;i++) {\n",
        "\t        sum += i;\n",
        "\t    }\n",
        "    }\n",
        "\n",
        "    // stop the timer\n",
        "    end_time = omp_get_wtime();\n",
        "\n",
        "    printf (\"num_threads = %d, \",num_threads);\n",
        "    printf (\"elapsed time = %.6f\\n\",end_time-start_time);\n",
        "    printf (\"sum = %lld\\n\",sum);\n",
        "    printf (\"N*(N+1)/2 = %lld\\n\",(N/2)*(N+1));\n",
        "}\n"
      ],
      "metadata": {
        "colab": {
          "base_uri": "https://localhost:8080/"
        },
        "id": "0l78hh-6WGzd",
        "outputId": "8e2f61e5-63a3-4ab0-9e37-8e819b7f7c41"
      },
      "execution_count": 22,
      "outputs": [
        {
          "output_type": "stream",
          "name": "stdout",
          "text": [
            "Overwriting omp_sum_v1.c\n"
          ]
        }
      ]
    },
    {
      "cell_type": "code",
      "source": [
        "!gcc -o omp_sum_v1 omp_sum_v1.c -fopenmp"
      ],
      "metadata": {
        "id": "RusVGCtRXM72"
      },
      "execution_count": 23,
      "outputs": []
    },
    {
      "cell_type": "code",
      "source": [
        "!./omp_sum_v1 100000000 1"
      ],
      "metadata": {
        "colab": {
          "base_uri": "https://localhost:8080/"
        },
        "id": "XyYqS44iXWUX",
        "outputId": "e86024cf-cbe6-4d5e-fbf6-9c870f2c3309"
      },
      "execution_count": 24,
      "outputs": [
        {
          "output_type": "stream",
          "name": "stdout",
          "text": [
            "num_threads = 1, elapsed time = 0.338632\n",
            "sum = 5000000050000000\n",
            "N*(N+1)/2 = 5000000050000000\n"
          ]
        }
      ]
    },
    {
      "cell_type": "code",
      "source": [
        "!./omp_sum_v1 100000000 2"
      ],
      "metadata": {
        "colab": {
          "base_uri": "https://localhost:8080/"
        },
        "id": "Rsg-PugoXYtT",
        "outputId": "01f33497-dff8-4399-854a-530ff9aff6c2"
      },
      "execution_count": 25,
      "outputs": [
        {
          "output_type": "stream",
          "name": "stdout",
          "text": [
            "num_threads = 2, elapsed time = 0.655441\n",
            "sum = 7219913859709671\n",
            "N*(N+1)/2 = 5000000050000000\n"
          ]
        }
      ]
    },
    {
      "cell_type": "markdown",
      "source": [
        "## A code block following the \"#pragma omp parallel\" is called a parallel region.\n",
        "    \n",
        "## Each thread executes the same code in a parallel region concurrently (at the same time).\n",
        "\n",
        "## The code following a parallel region is not executed until all threads finish.\n",
        "\n",
        "## Note above that we run the code with one thread and with two threads.\n",
        "\n",
        "## What are the two major problems with version 1?\n",
        "\n",
        "## Answers:\n",
        "\n",
        "## One reason that the performance is not better when using two CPU cores is that each thread is currently computing the entire sum!  \n",
        "\n",
        "## In order to take advantage of multiple CPU cores we need to subdivide the work across the CPU cores.\n",
        "\n",
        "## In this case we can subdivide the work by assigning each thread different terms to sum up.  This can be accomplished by assignment each thread different loop iterations to perform.  \n",
        "\n",
        "## For example if we have two threads then we can have one thread add up the odd terms: 1 + 3 + 5 + ... and have the other thread add up the even terms 2 + 4 + 6 + ...\n",
        "\n",
        "## In version 2 we use the thread number to split up the work in a general way that works for any number of threads.  Draw a picture to illustrate how the work would be split up if there are three threads.  "
      ],
      "metadata": {
        "id": "GsnWRwYyXmOX"
      }
    },
    {
      "cell_type": "code",
      "source": [
        "%%writefile omp_sum_v2.c\n",
        "#include <stdio.h>\n",
        "#include <stdlib.h>\n",
        "#include <omp.h>\n",
        "\n",
        "int main(int argc, char *argv[]) {\n",
        "\n",
        "    // get N and num_threads from command line\n",
        "    if (argc < 3) {\n",
        "        printf (\"Command usage : %s %s %s\\n\",argv[0],\"N\",\"num_threads\");\n",
        "        return 1;\n",
        "    }\n",
        "    long long N = atoll(argv[1]);\n",
        "    int num_threads = atoi(argv[2]);\n",
        "    omp_set_num_threads(num_threads);\n",
        "\n",
        "    // start the timer\n",
        "    double start_time, end_time;\n",
        "    start_time = omp_get_wtime();\n",
        "\n",
        "    // calculate the sum\n",
        "    long long sum = 0;\n",
        "\n",
        "#pragma omp parallel\n",
        "    {\n",
        "\t    int thread_num = omp_get_thread_num();\n",
        "\t    for (long long i = 1+thread_num; i <= N;i+=num_threads) {\n",
        "\t        sum += i;\n",
        "\t    }\n",
        "    }\n",
        "\n",
        "    // stop the timer\n",
        "    end_time = omp_get_wtime();\n",
        "\n",
        "    printf (\"num_threads = %d, \",num_threads);\n",
        "    printf (\"elapsed time = %.6f\\n\",end_time-start_time);\n",
        "    printf (\"sum = %lld\\n\",sum);\n",
        "    printf (\"N*(N+1)/2 = %lld\\n\",(N/2)*(N+1));\n",
        "}\n"
      ],
      "metadata": {
        "colab": {
          "base_uri": "https://localhost:8080/"
        },
        "id": "xGnsEsfKXemf",
        "outputId": "1c2261c8-bd9a-4e17-c527-2b19b912bb7f"
      },
      "execution_count": 26,
      "outputs": [
        {
          "output_type": "stream",
          "name": "stdout",
          "text": [
            "Overwriting omp_sum_v2.c\n"
          ]
        }
      ]
    },
    {
      "cell_type": "code",
      "source": [
        "!gcc -o omp_sum_v2 omp_sum_v2.c -fopenmp"
      ],
      "metadata": {
        "id": "nDcgIm4XZEiT"
      },
      "execution_count": 27,
      "outputs": []
    },
    {
      "cell_type": "code",
      "source": [
        "!./omp_sum_v2 100000000 1"
      ],
      "metadata": {
        "colab": {
          "base_uri": "https://localhost:8080/"
        },
        "id": "vXn3vlleZMTK",
        "outputId": "32fff27c-ec7f-4637-a2dd-66ea7e4e31de"
      },
      "execution_count": 28,
      "outputs": [
        {
          "output_type": "stream",
          "name": "stdout",
          "text": [
            "num_threads = 1, elapsed time = 0.241548\n",
            "sum = 5000000050000000\n",
            "N*(N+1)/2 = 5000000050000000\n"
          ]
        }
      ]
    },
    {
      "cell_type": "code",
      "source": [
        "!./omp_sum_v2 100000000 2"
      ],
      "metadata": {
        "colab": {
          "base_uri": "https://localhost:8080/"
        },
        "id": "IDgZ5ZW5ZO8r",
        "outputId": "29c05923-e92a-4534-dcb7-b7b3eeacb87f"
      },
      "execution_count": 29,
      "outputs": [
        {
          "output_type": "stream",
          "name": "stdout",
          "text": [
            "num_threads = 2, elapsed time = 0.318162\n",
            "sum = 3571442418462272\n",
            "N*(N+1)/2 = 5000000050000000\n"
          ]
        }
      ]
    },
    {
      "cell_type": "code",
      "source": [
        "!./omp_sum_v1 100000000 2"
      ],
      "metadata": {
        "colab": {
          "base_uri": "https://localhost:8080/"
        },
        "id": "SpvvJWh5ZX13",
        "outputId": "630c9733-ad61-4c25-fb6e-8cbe78196fe5"
      },
      "execution_count": 30,
      "outputs": [
        {
          "output_type": "stream",
          "name": "stdout",
          "text": [
            "num_threads = 2, elapsed time = 0.648259\n",
            "sum = 7282740619959276\n",
            "N*(N+1)/2 = 5000000050000000\n"
          ]
        }
      ]
    },
    {
      "cell_type": "markdown",
      "source": [
        "## What do you observe about version 2 compared to version 1.\n",
        "\n",
        "## Answer:"
      ],
      "metadata": {
        "id": "ZQ5b9_kGZS5Q"
      }
    },
    {
      "cell_type": "markdown",
      "source": [
        "## Version 2 is faster than version 1 but it is still not running on two CPUs is not really much faster than running on just a single CPU.\n",
        "\n",
        "## We will take a break from performance for the moment and work instead on correctness.  Note in particular that both versions 1 and 2 compute the incorrect sum!\n",
        "\n",
        "## Inside a parallel region there are two types of variables: shared and private.\n",
        "\n",
        "## There is a single copy of each shared variable that is used by all threads.  \n",
        "\n",
        "## Each thread uses its own local copy of each private variable.  \n",
        "\n",
        "## Variables defined inside the parallel pragma are private.\n",
        "\n",
        "## Variables not defined inside the parallel pragma are shared.  \n",
        "## For each of the following variables, decide if it is shared or private:\n",
        "    \n",
        "* i :\n",
        "* N :\n",
        "* sum :\n",
        "* thread_num :\n",
        "* num_threads :"
      ],
      "metadata": {
        "id": "LoKANTWxZf17"
      }
    },
    {
      "cell_type": "markdown",
      "source": [
        "## Exercise : To get started on version 3, add *default(none)* to the parallel pragma in verion 2 of the code.  \n",
        "\n",
        "## What do you observe?"
      ],
      "metadata": {
        "id": "4uzB8sjJaUN0"
      }
    },
    {
      "cell_type": "markdown",
      "source": [
        "## Answers:\n",
        "\n",
        "## Adding *default(none)* to the parallel pragma will tell the compiler to not assume that any variable used in the parallel region but defined outside of the parallel region is shared.  Version 2 of the code with *default(none)* added will not compile.  \n",
        "\n",
        "## In version 3, we fix the compilation errors in our code by explicity adding a list of shared variables to the pragma.  "
      ],
      "metadata": {
        "id": "awEaSAfpajDn"
      }
    },
    {
      "cell_type": "code",
      "source": [
        "%%writefile omp_sum_v3.c\n",
        "#include <stdio.h>\n",
        "#include <stdlib.h>\n",
        "#include <omp.h>\n",
        "\n",
        "int main(int argc, char *argv[]) {\n",
        "\n",
        "    // get N and num_threads from command line\n",
        "    if (argc < 3) {\n",
        "        printf (\"Command usage : %s %s %s\\n\",argv[0],\"N\",\"num_threads\");\n",
        "        return 1;\n",
        "    }\n",
        "    long long N = atoll(argv[1]);\n",
        "    int num_threads = atoi(argv[2]);\n",
        "    omp_set_num_threads(num_threads);\n",
        "\n",
        "    // start the timer\n",
        "    double start_time, end_time;\n",
        "    start_time = omp_get_wtime();\n",
        "\n",
        "    // calculate the sum\n",
        "    long long sum = 0;\n",
        "\n",
        "#pragma omp parallel default(none) shared(N,sum,num_threads)\n",
        "    {\n",
        "\t    int thread_num = omp_get_thread_num();\n",
        "\t    for (long long i = 1+thread_num; i <= N;i+=num_threads) {\n",
        "\t        sum += i;\n",
        "\t    }\n",
        "    }\n",
        "\n",
        "    // stop the timer\n",
        "    end_time = omp_get_wtime();\n",
        "\n",
        "    printf (\"num_threads = %d, \",num_threads);\n",
        "    printf (\"elapsed time = %.6f\\n\",end_time-start_time);\n",
        "    printf (\"sum = %lld\\n\",sum);\n",
        "    printf (\"N*(N+1)/2 = %lld\\n\",(N/2)*(N+1));\n",
        "}"
      ],
      "metadata": {
        "colab": {
          "base_uri": "https://localhost:8080/"
        },
        "id": "cOOK-MCgZQtJ",
        "outputId": "184198b9-e92a-44b9-d2ed-428b47d808d0"
      },
      "execution_count": 31,
      "outputs": [
        {
          "output_type": "stream",
          "name": "stdout",
          "text": [
            "Overwriting omp_sum_v3.c\n"
          ]
        }
      ]
    },
    {
      "cell_type": "code",
      "source": [
        "!gcc -o omp_sum_v3 omp_sum_v3.c -fopenmp"
      ],
      "metadata": {
        "id": "IHaeIpwNbTYm"
      },
      "execution_count": 32,
      "outputs": []
    },
    {
      "cell_type": "code",
      "source": [
        "!./omp_sum_v3 100000000 1"
      ],
      "metadata": {
        "colab": {
          "base_uri": "https://localhost:8080/"
        },
        "id": "jNPJsWuJbW1i",
        "outputId": "4be60600-e8e2-436e-f10a-17f105544470"
      },
      "execution_count": 33,
      "outputs": [
        {
          "output_type": "stream",
          "name": "stdout",
          "text": [
            "num_threads = 1, elapsed time = 0.251250\n",
            "sum = 5000000050000000\n",
            "N*(N+1)/2 = 5000000050000000\n"
          ]
        }
      ]
    },
    {
      "cell_type": "code",
      "source": [
        "!./omp_sum_v3 100000000 2"
      ],
      "metadata": {
        "colab": {
          "base_uri": "https://localhost:8080/"
        },
        "id": "OW-fcZ3XbaKl",
        "outputId": "55f3ad2c-0b0d-49aa-9df5-0d3d039f6c89"
      },
      "execution_count": 34,
      "outputs": [
        {
          "output_type": "stream",
          "name": "stdout",
          "text": [
            "num_threads = 2, elapsed time = 0.345451\n",
            "sum = 3765535294206015\n",
            "N*(N+1)/2 = 5000000050000000\n"
          ]
        }
      ]
    },
    {
      "cell_type": "markdown",
      "source": [
        "## Note that version 3 still has the same issues as version 2 but we now have a better understanding of shared and private variables.  \n",
        "\n",
        "## Going a bit deeper, there are different types of shared variables.  \n",
        "\n",
        "## We call a shared variable *read only* if the code in the parallel region only reads from the variable.\n",
        "\n",
        "## We call a shared variable *read/write* if the code in the parallel region both reads from the variable and writes to the variable.  \n",
        "\n",
        "## Classify each of the following shared variables.  \n",
        "\n",
        "* N :\n",
        "* sum :\n",
        "* num_threads :"
      ],
      "metadata": {
        "id": "_BuTEfFObfCM"
      }
    },
    {
      "cell_type": "markdown",
      "source": [
        "## The read only shared variables are fine, but one problem with the current the code is that there is a read/write race condition for sum.\n",
        "\n",
        "## Here is what we might imagine happens when two different threads access sum during the first two iteration of the for loop:\n",
        "\n",
        "* Thread 1 reads the current value of sum : 0\n",
        "* Thread 1 adds i=1 to the current value of sum : 1\n",
        "* Thread 1 stores the new value of sum : 1\n",
        "* Thread 2 reads the current value of sum : 1\n",
        "* Thread 2 adds i=2 to the current value of sum : 3\n",
        "* Thread 2 stores the new value of sum : 3\n",
        "\n",
        "## Since the threads operate concurrently, what is actually happening could be more like:\n",
        "\n",
        "* Thread 1 reads the current value of sum : 0\n",
        "* Thread 2 reads the current value of sum : 0\n",
        "* Thread 1 adds i=1 to the current value of sum : 1\n",
        "* Thread 2 adds i=2 to the current value of sum : 2\n",
        "* Thread 1 stores the new value of sum : 1\n",
        "* Thread 2 stores the new value of sum : 2\n",
        "\n",
        "## In this case part of the sum is lost and we end up computing a value of the sum < N*(N+1)/2 (this is exactly what happens when we run the current version!).\n",
        "\n",
        "## There are a couple of ways to fix this issue.\n",
        "## One way is to have threads update sum inside of a critical region.  \n",
        "## By putting a block of code in a parallel region after a *#pragma omp critical* that block of code must be executed by a single thread at a time.\n",
        "## In version 4 of our code, we use a critical region to fix the read/write race condition for sum."
      ],
      "metadata": {
        "id": "coY4M50zcLMH"
      }
    },
    {
      "cell_type": "code",
      "source": [
        "%%writefile omp_sum_v4.c\n",
        "#include <stdio.h>\n",
        "#include <stdlib.h>\n",
        "#include <omp.h>\n",
        "\n",
        "int main(int argc, char *argv[]) {\n",
        "\n",
        "    // get N and num_threads from command line\n",
        "    if (argc < 3) {\n",
        "        printf (\"Command usage : %s %s %s\\n\",argv[0],\"N\",\"num_threads\");\n",
        "        return 1;\n",
        "    }\n",
        "    long long N = atoll(argv[1]);\n",
        "    int num_threads = atoi(argv[2]);\n",
        "    omp_set_num_threads(num_threads);\n",
        "\n",
        "    // start the timer\n",
        "    double start_time, end_time;\n",
        "    start_time = omp_get_wtime();\n",
        "\n",
        "    // calculate the sum\n",
        "    long long sum = 0;\n",
        "\n",
        "#pragma omp parallel default(none) shared(N,sum,num_threads)\n",
        "    {\n",
        "\t    int thread_num = omp_get_thread_num();\n",
        "\t    for (long long i = 1+thread_num; i <= N;i+=num_threads) {\n",
        "#pragma omp critical\n",
        "            {\n",
        "\t\t        sum += i;\n",
        "\t        }\n",
        "\t    }\n",
        "    }\n",
        "\n",
        "    // stop the timer\n",
        "    end_time = omp_get_wtime();\n",
        "\n",
        "    printf (\"num_threads = %d, \",num_threads);\n",
        "    printf (\"elapsed time = %.6f\\n\",end_time-start_time);\n",
        "    printf (\"sum = %lld\\n\",sum);\n",
        "    printf (\"N*(N+1)/2 = %lld\\n\",(N/2)*(N+1));\n",
        "}"
      ],
      "metadata": {
        "colab": {
          "base_uri": "https://localhost:8080/"
        },
        "id": "BJOGGAIibcLO",
        "outputId": "fa2c7fe7-c05e-49d2-8b45-fd210778679a"
      },
      "execution_count": 35,
      "outputs": [
        {
          "output_type": "stream",
          "name": "stdout",
          "text": [
            "Overwriting omp_sum_v4.c\n"
          ]
        }
      ]
    },
    {
      "cell_type": "code",
      "source": [
        "!gcc -o omp_sum_v4 omp_sum_v4.c -fopenmp"
      ],
      "metadata": {
        "id": "Pw8Ha1nUdbfM"
      },
      "execution_count": 36,
      "outputs": []
    },
    {
      "cell_type": "code",
      "source": [
        "!./omp_sum_v4 100000000 1"
      ],
      "metadata": {
        "colab": {
          "base_uri": "https://localhost:8080/"
        },
        "id": "vSmTNiiEdeXz",
        "outputId": "2d7cefaf-74fd-45c7-dee9-ff73d61b76e4"
      },
      "execution_count": 37,
      "outputs": [
        {
          "output_type": "stream",
          "name": "stdout",
          "text": [
            "num_threads = 1, elapsed time = 2.212588\n",
            "sum = 5000000050000000\n",
            "N*(N+1)/2 = 5000000050000000\n"
          ]
        }
      ]
    },
    {
      "cell_type": "code",
      "source": [
        "!./omp_sum_v4 100000000 2"
      ],
      "metadata": {
        "colab": {
          "base_uri": "https://localhost:8080/"
        },
        "id": "UwQCls8kdiUM",
        "outputId": "65ca7d8a-735e-42fc-dfcd-3144722fcd28"
      },
      "execution_count": 38,
      "outputs": [
        {
          "output_type": "stream",
          "name": "stdout",
          "text": [
            "num_threads = 2, elapsed time = 2.119281\n",
            "sum = 5000000050000000\n",
            "N*(N+1)/2 = 5000000050000000\n"
          ]
        }
      ]
    },
    {
      "cell_type": "markdown",
      "source": [
        "## Version 4 of the code now computes the correct value of sum and the work is distributed approximately evenly between threads.\n",
        "\n",
        "## However, adding more threads still increases the runtime!!\n",
        "\n",
        "## To fix the read/write race condition we needed to use a critical region.\n",
        "\n",
        "## The issue is that critical regions are expensive because they require synchronization of the threads.  This synchronization also reduces parallelism because will have to wait on other threads to enter the critical region.\n",
        "\n",
        "## To fix this remaining issue, in our final version 5 we change the code so that each thread only has to enter the critical region one time inside the parallel region.\n",
        "\n",
        "## To ensure each thread only enters the critical region one time, we create a local thread version of sum so that each thread can do as much work as possible independently.\n",
        "\n",
        "## After each thread fully computes its partial thread_sum it adds that value to the shared sum variable inside the critical region."
      ],
      "metadata": {
        "id": "oo4u53FSdMSv"
      }
    },
    {
      "cell_type": "code",
      "source": [
        "%%writefile omp_sum_v5.c\n",
        "#include <stdio.h>\n",
        "#include <stdlib.h>\n",
        "#include <omp.h>\n",
        "\n",
        "int main(int argc, char *argv[]) {\n",
        "\n",
        "    // get N and num_threads from command line\n",
        "    if (argc < 3) {\n",
        "        printf (\"Command usage : %s %s %s\\n\",argv[0],\"N\",\"num_threads\");\n",
        "        return 1;\n",
        "    }\n",
        "    long long N = atoll(argv[1]);\n",
        "    int num_threads = atoi(argv[2]);\n",
        "    omp_set_num_threads(num_threads);\n",
        "\n",
        "    // start the timer\n",
        "    double start_time, end_time;\n",
        "    start_time = omp_get_wtime();\n",
        "\n",
        "    // calculate the sum\n",
        "    long long sum = 0;\n",
        "\n",
        "#pragma omp parallel default(none) shared(N,sum,num_threads)\n",
        "    {\n",
        "\t    int thread_num = omp_get_thread_num();\n",
        "\t    long long thread_sum = 0;\n",
        "\t    for (long long i = 1+thread_num; i <= N;i+=num_threads) {\n",
        "\t        thread_sum += i;\n",
        "\t    }\n",
        "#pragma omp critical\n",
        "\t    {\n",
        "\t        sum += thread_sum;\n",
        "\t    }\n",
        "    }\n",
        "\n",
        "    // stop the timer\n",
        "    end_time = omp_get_wtime();\n",
        "\n",
        "    printf (\"num_threads = %d, \",num_threads);\n",
        "    printf (\"elapsed time = %.6f\\n\",end_time-start_time);\n",
        "    printf (\"sum = %lld\\n\",sum);\n",
        "    printf (\"N*(N+1)/2 = %lld\\n\",(N/2)*(N+1));\n",
        "}"
      ],
      "metadata": {
        "colab": {
          "base_uri": "https://localhost:8080/"
        },
        "id": "2fFz_6BhdPfW",
        "outputId": "ffdf1b73-2dd3-483a-e06b-9d610ea91a94"
      },
      "execution_count": 39,
      "outputs": [
        {
          "output_type": "stream",
          "name": "stdout",
          "text": [
            "Overwriting omp_sum_v5.c\n"
          ]
        }
      ]
    },
    {
      "cell_type": "code",
      "source": [
        "!gcc -o omp_sum_v5 omp_sum_v5.c -fopenmp"
      ],
      "metadata": {
        "id": "E44kBNLdej5b"
      },
      "execution_count": 40,
      "outputs": []
    },
    {
      "cell_type": "code",
      "source": [
        "!./omp_sum_v5 4000000000 1"
      ],
      "metadata": {
        "colab": {
          "base_uri": "https://localhost:8080/"
        },
        "id": "LMiXE3AEenO5",
        "outputId": "406f1943-824f-4197-8842-b34ed184e723"
      },
      "execution_count": 41,
      "outputs": [
        {
          "output_type": "stream",
          "name": "stdout",
          "text": [
            "num_threads = 1, elapsed time = 7.973311\n",
            "sum = 8000000002000000000\n",
            "N*(N+1)/2 = 8000000002000000000\n"
          ]
        }
      ]
    },
    {
      "cell_type": "code",
      "source": [
        "!./omp_sum_v5 4000000000 2"
      ],
      "metadata": {
        "colab": {
          "base_uri": "https://localhost:8080/"
        },
        "id": "5SsI3Cnkeqk-",
        "outputId": "18cb8584-5c4a-43a6-f7bc-29d4e89a65d6"
      },
      "execution_count": 42,
      "outputs": [
        {
          "output_type": "stream",
          "name": "stdout",
          "text": [
            "num_threads = 2, elapsed time = 7.620994\n",
            "sum = 8000000002000000000\n",
            "N*(N+1)/2 = 8000000002000000000\n"
          ]
        }
      ]
    },
    {
      "cell_type": "markdown",
      "source": [
        "## On Google Colab, our OpenMP programs can only utilize 2 CPU cores.  Run version 5 on the *matrix* server to see better results."
      ],
      "metadata": {
        "id": "A2tj8O4KffC2"
      }
    },
    {
      "cell_type": "code",
      "source": [],
      "metadata": {
        "id": "p2c1Wz0HewoC"
      },
      "execution_count": 42,
      "outputs": []
    }
  ]
}