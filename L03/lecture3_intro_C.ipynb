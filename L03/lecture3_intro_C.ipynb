{
  "nbformat": 4,
  "nbformat_minor": 0,
  "metadata": {
    "colab": {
      "provenance": []
    },
    "kernelspec": {
      "name": "python3",
      "display_name": "Python 3"
    },
    "language_info": {
      "name": "python"
    }
  },
  "cells": [
    {
      "cell_type": "markdown",
      "source": [
        "# Lecture 3 : Introduction to C Programming"
      ],
      "metadata": {
        "id": "UV8H0tuf8IUk"
      }
    },
    {
      "cell_type": "markdown",
      "source": [
        "## Here are some major reasons for learning C (and why we use C in CMDA 3634):\n",
        "\n",
        "* ### C code runs much faster than code written in high level languages such as Python and R.\n",
        "\n",
        "* ### C code runs faster than Java code although the speedups are not as extreme as when comparing C to Python.\n",
        "\n",
        "* ### Java and C share a large amount of syntax (in fact Java is a derivative of C).\n",
        "\n",
        "* ### It is good to start with C if you want to learn more advanced programming languages such as C++ and C#.\n",
        "\n",
        "* ### Python and C can be combined to get the performance of C along with the high level programming of Python.  \n",
        "\n",
        "* ### Supercomputers are usually programmed in C++, C, or Fortran (with extensions to handle parallel execution).\n",
        "\n",
        "* ### Most popular parallel computing libraries such as OpenMP, MPI, and CUDA work best with C++, C, or Fortan.\n",
        "\n",
        "* ### TIOBE rankings of the most popular programming languages https://www.tiobe.com/tiobe-index/"
      ],
      "metadata": {
        "id": "iKkKrELE8bzy"
      }
    },
    {
      "cell_type": "markdown",
      "source": [
        "# Part 1 : Our First C Program\n",
        "\n",
        "## We start by creating a C program to print *Hello World!*."
      ],
      "metadata": {
        "id": "uPZKX8NB-6lF"
      }
    },
    {
      "cell_type": "code",
      "source": [
        "%%writefile hello.c\n",
        "#include <stdio.h>\n",
        "\n",
        "int main () {\n",
        "    printf (\"Hello World!\\n\");\n",
        "\n",
        "    /* program completed successfully */\n",
        "    // this return statement is optional in C99\n",
        "    return 0;\n",
        "}"
      ],
      "metadata": {
        "colab": {
          "base_uri": "https://localhost:8080/"
        },
        "id": "cX4LzlOe_Mtz",
        "outputId": "708d1b2e-8db6-4d75-bbab-91e5d99573ef"
      },
      "execution_count": 1,
      "outputs": [
        {
          "output_type": "stream",
          "name": "stdout",
          "text": [
            "Overwriting hello.c\n"
          ]
        }
      ]
    },
    {
      "cell_type": "markdown",
      "source": [
        "## Notes:\n",
        "* ### Line 1 is the magic command that creates the source file *hello.c*.  This line is only needed if you want to write C source code within a Jupyter notebook.  \n",
        "* ### Line 2 instructs the C preprocessor to include the **header file** that includes the interfaces to the standard input/output functions such as *printf*.  \n",
        "* ### Lines 4-10 are the main function that is run when the compiled program is executed.  Every C program **must** have a main function.  \n",
        "* ### Line 5 prints the message using the *printf* function which stands for **print formatted**.  The \\n at the end of the \"Hello World!\\n\" **string literal** (a sequence of characters or escape sequences enclosed in double quotation mark symbols) stands for **new line**.\n",
        "* ### Lines 7-8 are C comments.  The C++/Java style comment syntax used in line 8 is valid in C99 and later.\n",
        "* ### Line 9 returns 0 which indicates that the program completed successfully.  We can use, for example, *return 1*, to indicate that the program encountered an error and did not complete successfully.  In C99 and later, this statement is optional.  If it is not included at the end of the main function of C99 and later, the return value will automatically be set to 0.  \n",
        "* ### **Going forward we will omit the *return 0* statement at the end of main functions for brevity.**"
      ],
      "metadata": {
        "id": "pAqQoe1d_p_L"
      }
    },
    {
      "cell_type": "markdown",
      "source": [
        "## The file *hello.c* is called a C **source file**.  It must be compiled into a C **program** using a C **compiler**."
      ],
      "metadata": {
        "id": "AkHzKud0OtUt"
      }
    },
    {
      "cell_type": "code",
      "source": [
        "!gcc -o hello hello.c"
      ],
      "metadata": {
        "id": "DsmyFw8ROsHZ"
      },
      "execution_count": 2,
      "outputs": []
    },
    {
      "cell_type": "markdown",
      "source": [
        "## Notes:\n",
        "\n",
        "* ### We use the **gcc** (GNU compiler collections) compiler.  \n",
        "\n",
        "* ### Linux commands such as *gcc* given inside of a Jupyter notebook have to be preceded by the ! symbol.\n",
        "\n",
        "* ### The *-o hello* part of the compilation command names the program.  If this part is not included the program will be called *a.out*\n"
      ],
      "metadata": {
        "id": "-mCHg0d7Chsg"
      }
    },
    {
      "cell_type": "markdown",
      "source": [
        "## Finally, we can run the *hello* program created by the compiler from the C source code hello.c using the command *!./hello*"
      ],
      "metadata": {
        "id": "6Gs0e6czPNto"
      }
    },
    {
      "cell_type": "code",
      "source": [
        "!./hello"
      ],
      "metadata": {
        "colab": {
          "base_uri": "https://localhost:8080/"
        },
        "id": "IsPPKKeV8ain",
        "outputId": "9c5fba9f-82f5-42e5-8f3a-bd7b222907f9"
      },
      "execution_count": 3,
      "outputs": [
        {
          "output_type": "stream",
          "name": "stdout",
          "text": [
            "Hello World!\n"
          ]
        }
      ]
    },
    {
      "cell_type": "markdown",
      "source": [
        "# Part 2 : Determining if a number is prime in C\n"
      ],
      "metadata": {
        "id": "h9icyo4FHIGT"
      }
    },
    {
      "cell_type": "markdown",
      "source": [
        "## One way to determine if an integer $n$ is prime is to check all integers $d$ between 2 and $\\sqrt{n}$ to see if any are a factor of n.\n",
        "\n",
        "## Why do we not have to look for factors $d$ larger than $\\sqrt{n}$?\n",
        "\n",
        "## Fortunately, we can implement this algorithm without explicity calculating $\\sqrt{n}$.\n",
        "\n"
      ],
      "metadata": {
        "id": "DRNK5q1vHZyZ"
      }
    },
    {
      "cell_type": "markdown",
      "source": [
        "## Here is our first attempt at a primality test in C."
      ],
      "metadata": {
        "id": "ygQgaI4qIxFs"
      }
    },
    {
      "cell_type": "code",
      "source": [
        "%%writefile prime_v1.c\n",
        "#include <stdio.h>\n",
        "\n",
        "int main () {\n",
        "    int n = 1234567;\n",
        "    for (int d = 2; d*d <= n; d++) {\n",
        "        if (n % d == 0) {\n",
        "            printf (\"The number %d is not prime since %d divides it.\\n\",n,d);\n",
        "            return 0;\n",
        "        }\n",
        "    }\n",
        "    printf (\"The number %d is prime.\\n\",n);\n",
        "}"
      ],
      "metadata": {
        "colab": {
          "base_uri": "https://localhost:8080/"
        },
        "id": "Xm_aESyEI7nf",
        "outputId": "cdcb55be-d618-4b39-d2d2-96852fc2f8c5"
      },
      "execution_count": 4,
      "outputs": [
        {
          "output_type": "stream",
          "name": "stdout",
          "text": [
            "Overwriting prime_v1.c\n"
          ]
        }
      ]
    },
    {
      "cell_type": "markdown",
      "source": [
        "## Notes:\n",
        "\n",
        "* ### Lines 6-11 contain a C for loop.  The variable *d* is called a loop counter.  For loops in C have the same syntax and behavior as for loops in Java.  Note that by ending the loop when $n^2 > d$ we avoid computing $\\sqrt{n}$.\n",
        "* ### Lines 7-10 contain a C if statement.  If statements have the same syntax and behavior as if statements in Java.  \n",
        "* ### In line 7 we check to see if d divides n by using the C mod operator.  \n",
        "* ### **Note that we use == to check for equality rather than =**\n",
        "* ### Line 8 uses the *printf* function to print that n is not prime.  Note that *%d* is the C format specifier for **int**.  Also note that we can use printf with multiple format specifiers and arguments.\n",
        "* ### In line 9 we use *return 0* to exit the main function with a successful termination.  \n",
        "* ### If we make it to line 12, then $n$ is prime."
      ],
      "metadata": {
        "id": "2qyail5ugNN5"
      }
    },
    {
      "cell_type": "code",
      "source": [
        "!gcc -o prime_v1 prime_v1.c"
      ],
      "metadata": {
        "id": "BKBmPKEpKGTi"
      },
      "execution_count": 5,
      "outputs": []
    },
    {
      "cell_type": "code",
      "source": [
        "!./prime_v1"
      ],
      "metadata": {
        "colab": {
          "base_uri": "https://localhost:8080/"
        },
        "id": "lOiQw-fxKMva",
        "outputId": "ab07b3e4-a8fb-434d-8320-63d25b6850ef"
      },
      "execution_count": 6,
      "outputs": [
        {
          "output_type": "stream",
          "name": "stdout",
          "text": [
            "The number 1234567 is not prime since 127 divides it.\n"
          ]
        }
      ]
    },
    {
      "cell_type": "markdown",
      "source": [
        "## Exercise 1\n",
        "\n",
        "* ### Recompile and run the program with $n=161218349$.  What do you observe?\n",
        "\n",
        "* ### It is known that the number $n=5261656080911617$ is prime.  Recompile and run the program with this value of $n$.  What do you observe?"
      ],
      "metadata": {
        "id": "0vQIOEHyIihN"
      }
    },
    {
      "cell_type": "markdown",
      "source": [
        "# Part 3 : Handling Large Integers\n",
        "\n",
        "## A C int (and Java int) has 32 bits of storage.\n",
        "\n",
        "* ### One of the 32 bits is a sign bit.\n",
        "* ### A C int has a range of $-2^{31}$ to $2^{31}-1$ or $-2147483648$ to $2147483647$.\n",
        "\n",
        "## A C long long (and Java long) has 64 bits of storage.  \n",
        "\n",
        "* ### One of the 64 bits is a sign bit.  \n",
        "* ### A C long long has a range of $-2^{63}$ to $2^{63}-1$ or $-9223372036854775808$ to $9223372036854775807$."
      ],
      "metadata": {
        "id": "_Ni7iZRMp7bZ"
      }
    },
    {
      "cell_type": "markdown",
      "source": [
        "## Here is a modification of our primality tester that handles larger $n$."
      ],
      "metadata": {
        "id": "14e7SqUPj_oU"
      }
    },
    {
      "cell_type": "code",
      "source": [
        "%%writefile bigprime.c\n",
        "#include <stdio.h>\n",
        "\n",
        "int main () {\n",
        "    long long n = 5261656080911617;\n",
        "    for (long long d = 2; d*d <= n; d++) {\n",
        "        if (n % d == 0) {\n",
        "            printf (\"The number %lld is not prime since %lld divides it.\\n\",n,d);\n",
        "            return 0;\n",
        "        }\n",
        "    }\n",
        "    printf (\"The number %lld is prime.\\n\",n);\n",
        "}"
      ],
      "metadata": {
        "colab": {
          "base_uri": "https://localhost:8080/"
        },
        "id": "Hbe_egC2nJDN",
        "outputId": "0bb95fed-f014-46af-f3b2-efa8f9b841e1"
      },
      "execution_count": 7,
      "outputs": [
        {
          "output_type": "stream",
          "name": "stdout",
          "text": [
            "Overwriting bigprime.c\n"
          ]
        }
      ]
    },
    {
      "cell_type": "markdown",
      "source": [
        "## Notes:\n",
        "* ### On lines 8 and 12 we use the format specifier *%lld* for variables of type *long long*."
      ],
      "metadata": {
        "id": "lbxpDdI3kHHk"
      }
    },
    {
      "cell_type": "code",
      "source": [
        "!gcc -o bigprime bigprime.c"
      ],
      "metadata": {
        "id": "edOB-3UBnh8z"
      },
      "execution_count": 8,
      "outputs": []
    },
    {
      "cell_type": "code",
      "source": [
        "!./bigprime"
      ],
      "metadata": {
        "colab": {
          "base_uri": "https://localhost:8080/"
        },
        "id": "hbfVfj3Dnn_1",
        "outputId": "ba5965c0-dc53-4319-d55e-cbe30e74a3df"
      },
      "execution_count": 9,
      "outputs": [
        {
          "output_type": "stream",
          "name": "stdout",
          "text": [
            "The number 5261656080911617 is prime.\n"
          ]
        }
      ]
    },
    {
      "cell_type": "markdown",
      "source": [
        "# Part 4 : Command Line Arguments"
      ],
      "metadata": {
        "id": "Ska9vx2nQINC"
      }
    },
    {
      "cell_type": "markdown",
      "source": [
        "## Command line arguments allow us to to alter the behavior of our program at runtime.  \n",
        "\n",
        "## Here is a C program that prints out its command line arguments (one per line).  "
      ],
      "metadata": {
        "id": "NHvQ1ld9S4Oj"
      }
    },
    {
      "cell_type": "code",
      "source": [
        "%%writefile args.c\n",
        "#include <stdio.h>\n",
        "\n",
        "int main (int argc, char* argv[]) {\n",
        "    for (int i=0;i<argc;i++) {\n",
        "        printf (\"%s\\n\",argv[i]);\n",
        "    }\n",
        "}"
      ],
      "metadata": {
        "colab": {
          "base_uri": "https://localhost:8080/"
        },
        "id": "R7IEp4FQTdAn",
        "outputId": "e919d302-9228-49a0-e787-3ebcf46e928e"
      },
      "execution_count": 10,
      "outputs": [
        {
          "output_type": "stream",
          "name": "stdout",
          "text": [
            "Overwriting args.c\n"
          ]
        }
      ]
    },
    {
      "cell_type": "markdown",
      "source": [
        "## Notes:\n",
        "* ### Line 4 includes the optional arguments *argc* and *argv*.  The variable *argc* tells us the number of command line arguments and *argv* is an array of pointers to the command line arguments.  We will discuss arrays and pointers in detail later.\n",
        "* ### Line 5-7 contain a C for loop.  Note that C (like Java and Python) is a zero-based language which is why we start the loop counter at 0 and go up to argc-1.  \n",
        "* ### Line 6 uses the *printf* function to print one command line argument per line.  Note that *%s* is the C format specifier for **string**.  Unlike Java, C does not have a built in String datatype.  In C, strings are null-terminated arrays of characters.  We will discuss strings in detail later.\n"
      ],
      "metadata": {
        "id": "JS4JRkMmULfN"
      }
    },
    {
      "cell_type": "code",
      "execution_count": 11,
      "metadata": {
        "colab": {
          "base_uri": "https://localhost:8080/"
        },
        "id": "1wxbkk9c8BV_",
        "outputId": "2bcf92fb-69de-41b2-c2c6-5a65e5d541cd"
      },
      "outputs": [
        {
          "output_type": "stream",
          "name": "stdout",
          "text": [
            "./args\n",
            "abc\n",
            "123\n",
            "hello\n",
            "world!\n"
          ]
        }
      ],
      "source": [
        "!gcc -o args args.c\n",
        "!./args abc 123 hello world!"
      ]
    },
    {
      "cell_type": "markdown",
      "source": [
        "## Note that argv[0] is just the name of the C command *./args*.\n",
        "## Thus the actual command line arguments are *argv[1]*, *argv[2]*, etc."
      ],
      "metadata": {
        "id": "808Yga0canxv"
      }
    },
    {
      "cell_type": "markdown",
      "source": [
        "## Next let's look at a C program to print a personalized Hello message."
      ],
      "metadata": {
        "id": "8jW1he2WcDA7"
      }
    },
    {
      "cell_type": "code",
      "source": [
        "%%writefile greet.c\n",
        "#include <stdio.h>\n",
        "\n",
        "int main (int argc, char* argv[]) {\n",
        "    printf (\"Hello %s!  How are you?\\n\",argv[1]);\n",
        "}"
      ],
      "metadata": {
        "colab": {
          "base_uri": "https://localhost:8080/"
        },
        "id": "-gdZNk5JXxco",
        "outputId": "e57d2cb9-5945-4f1e-ffa9-cb4bdaac75c9"
      },
      "execution_count": 12,
      "outputs": [
        {
          "output_type": "stream",
          "name": "stdout",
          "text": [
            "Overwriting greet.c\n"
          ]
        }
      ]
    },
    {
      "cell_type": "code",
      "source": [
        "!gcc -o greet greet.c\n",
        "!./greet Jason"
      ],
      "metadata": {
        "colab": {
          "base_uri": "https://localhost:8080/"
        },
        "id": "Q7G3PmzdcjjZ",
        "outputId": "cad72db3-1b48-4f1e-f2d6-83f48d6044dd"
      },
      "execution_count": 13,
      "outputs": [
        {
          "output_type": "stream",
          "name": "stdout",
          "text": [
            "Hello Jason!  How are you?\n"
          ]
        }
      ]
    },
    {
      "cell_type": "code",
      "source": [
        "!./greet"
      ],
      "metadata": {
        "colab": {
          "base_uri": "https://localhost:8080/"
        },
        "id": "KJda3eVtctMl",
        "outputId": "da5cc3b9-da83-4a85-f8b6-59924177d2ff"
      },
      "execution_count": 14,
      "outputs": [
        {
          "output_type": "stream",
          "name": "stdout",
          "text": [
            "Hello (null)!  How are you?\n"
          ]
        }
      ]
    },
    {
      "cell_type": "markdown",
      "source": [
        "## Note that running the command without a command line argument gives a strange result.  In particular, we went off the end of the *argv* array and no runtime error was given!  \n",
        "\n",
        "## This example illustrates that C does **not** do arrays bounds checking.  \n",
        "\n",
        "## **Reading or writing past the end (or beginning) of an array in C will not produce a runtime error but will likey produce unexpected results.**\n",
        "\n",
        "## It is important to provide error checking in your code where reading/writing past the end of an array is possible.  One simple way of handling an error is to *return 1* from main which will terminate the program with an abnormal execution status.  \n",
        "\n",
        "## Here is a version of the code with error checking.  Note that if an error is encountered we provide instructions on how to correctly use the command and abnormally terminate the program."
      ],
      "metadata": {
        "id": "CbwLMtr4c5NE"
      }
    },
    {
      "cell_type": "code",
      "source": [
        "%%writefile greet.c\n",
        "#include <stdio.h>\n",
        "\n",
        "int main (int argc, char* argv[]) {\n",
        "    if (argc < 2) {\n",
        "        printf (\"command usage: %s %s\\n\",argv[0],\"name\");\n",
        "        return 1; // abnormal exit\n",
        "    }\n",
        "    printf (\"Hello %s!  How are you?\",argv[1]);\n",
        "}"
      ],
      "metadata": {
        "colab": {
          "base_uri": "https://localhost:8080/"
        },
        "id": "wfpsN-_BczOw",
        "outputId": "2c0ff144-aca0-4fbb-de9f-05c1fece6c0d"
      },
      "execution_count": 15,
      "outputs": [
        {
          "output_type": "stream",
          "name": "stdout",
          "text": [
            "Overwriting greet.c\n"
          ]
        }
      ]
    },
    {
      "cell_type": "code",
      "source": [
        "!gcc -o greet greet.c\n",
        "!./greet Jason"
      ],
      "metadata": {
        "colab": {
          "base_uri": "https://localhost:8080/"
        },
        "id": "wOE6JzOVf5ZE",
        "outputId": "59e4036a-36ce-4481-f756-36b3ee4437cc"
      },
      "execution_count": 16,
      "outputs": [
        {
          "output_type": "stream",
          "name": "stdout",
          "text": [
            "Hello Jason!  How are you?"
          ]
        }
      ]
    },
    {
      "cell_type": "code",
      "source": [
        "!./greet"
      ],
      "metadata": {
        "colab": {
          "base_uri": "https://localhost:8080/"
        },
        "id": "oARCman7f8Kf",
        "outputId": "7ea13688-6371-4e58-efbc-3762b9cd059a"
      },
      "execution_count": 17,
      "outputs": [
        {
          "output_type": "stream",
          "name": "stdout",
          "text": [
            "command usage: ./greet name\n"
          ]
        }
      ]
    },
    {
      "cell_type": "markdown",
      "source": [
        "## If no command line arguments are provided, the program terminates with instructions on how to use the program rather than attempt to print a greeting."
      ],
      "metadata": {
        "id": "XGp7sS6pPJho"
      }
    },
    {
      "cell_type": "code",
      "source": [
        "!./greet Jason Wilson"
      ],
      "metadata": {
        "colab": {
          "base_uri": "https://localhost:8080/"
        },
        "id": "psSEynbCf9i-",
        "outputId": "d138610e-c9b7-4b13-d6ae-3ffc1c178223"
      },
      "execution_count": 18,
      "outputs": [
        {
          "output_type": "stream",
          "name": "stdout",
          "text": [
            "Hello Jason!  How are you?"
          ]
        }
      ]
    },
    {
      "cell_type": "markdown",
      "source": [
        "## Extra command line arguments are ignored by the program."
      ],
      "metadata": {
        "id": "pKm3BguxPGkT"
      }
    },
    {
      "cell_type": "markdown",
      "source": [
        "# Part 5 : Primality Test Revisited"
      ],
      "metadata": {
        "id": "8Ro6EM6lPvL7"
      }
    },
    {
      "cell_type": "markdown",
      "source": [
        "## Let's revise our primality test to specifiy $n$ using a command line argument."
      ],
      "metadata": {
        "id": "-YClomLdQUnT"
      }
    },
    {
      "cell_type": "code",
      "source": [
        "%%writefile prime.c\n",
        "#include <stdio.h>\n",
        "#include <stdlib.h>\n",
        "\n",
        "int main (int argc, char* argv[]) {\n",
        "    if (argc < 2) {\n",
        "        printf (\"command usage: %s %s\\n\",argv[0],\"n\");\n",
        "        return 1; // abnormal exit\n",
        "    }\n",
        "    long long n = atoll(argv[1]);\n",
        "    for (long long d = 2; d*d <= n; d++) {\n",
        "        if (n % d == 0) {\n",
        "            printf (\"The number %lld is not prime since %lld divides it.\\n\",n,d);\n",
        "            return 0;\n",
        "        }\n",
        "    }\n",
        "    printf (\"The number %lld is prime.\\n\",n);\n",
        "}"
      ],
      "metadata": {
        "colab": {
          "base_uri": "https://localhost:8080/"
        },
        "id": "Kt76LjqhQb5A",
        "outputId": "fbbe9318-92ea-416f-ca21-3d5c08eb7553"
      },
      "execution_count": 19,
      "outputs": [
        {
          "output_type": "stream",
          "name": "stdout",
          "text": [
            "Overwriting prime.c\n"
          ]
        }
      ]
    },
    {
      "cell_type": "markdown",
      "source": [
        "## Notes:\n",
        "\n",
        "* ### On line 3 we include *stdlib.h* which includes interfaces for the C standard library including the function *atoll* that we are using on line 10.\n",
        "* ### On line 10 we use the function *atoll* to convert the first command line argument string into a C *long long*.  Other useful conversion functions are *atoi* which converts a string into a C *int* and *atof* which converts a string into a C *double* (a C *double* is a 64-bit double precision floating point number)."
      ],
      "metadata": {
        "id": "8uysy_6an2PN"
      }
    },
    {
      "cell_type": "code",
      "source": [
        "!gcc -o prime prime.c"
      ],
      "metadata": {
        "id": "f5OzApXc4Mdg"
      },
      "execution_count": 20,
      "outputs": []
    },
    {
      "cell_type": "code",
      "source": [
        "!./prime 5261656080911617"
      ],
      "metadata": {
        "colab": {
          "base_uri": "https://localhost:8080/"
        },
        "id": "rgYkLoTs4V5u",
        "outputId": "7081b5ff-0d41-46fa-962b-635b0e2153c4"
      },
      "execution_count": 21,
      "outputs": [
        {
          "output_type": "stream",
          "name": "stdout",
          "text": [
            "The number 5261656080911617 is prime.\n"
          ]
        }
      ]
    },
    {
      "cell_type": "code",
      "source": [
        "!./prime 729476671297368179"
      ],
      "metadata": {
        "colab": {
          "base_uri": "https://localhost:8080/"
        },
        "id": "ucnuKTaP5q3q",
        "outputId": "829e90e4-d3ae-443f-a1b7-98a74192cb21"
      },
      "execution_count": 22,
      "outputs": [
        {
          "output_type": "stream",
          "name": "stdout",
          "text": [
            "The number 729476671297368179 is prime.\n"
          ]
        }
      ]
    },
    {
      "cell_type": "markdown",
      "source": [
        "## It is known that 10918483718784063109 is prime.  \n",
        "\n",
        "## Let's run our primality tester with this very large input."
      ],
      "metadata": {
        "id": "lVEUEgyKNaJr"
      }
    },
    {
      "cell_type": "code",
      "source": [
        "!./prime 10918483718784063109"
      ],
      "metadata": {
        "colab": {
          "base_uri": "https://localhost:8080/"
        },
        "id": "ti3PuiyM7E1n",
        "outputId": "9f8ca7b1-d90c-4887-d23e-56b2d4e17938"
      },
      "execution_count": 23,
      "outputs": [
        {
          "output_type": "stream",
          "name": "stdout",
          "text": [
            "The number 9223372036854775807 is not prime since 7 divides it.\n"
          ]
        }
      ]
    },
    {
      "cell_type": "markdown",
      "source": [
        "## What do you observe? Explain why this happened.  What does this tell us about our program?"
      ],
      "metadata": {
        "id": "g0-RbfFBpMDK"
      }
    },
    {
      "cell_type": "markdown",
      "source": [
        "# Exercise 2\n",
        "\n",
        "* ### How long does it take our primality tester to check if 729476671297368179 is prime?\n",
        "* ### Do we have to check to see if all even numbers below $\\sqrt{n}$ divide $n$?  Explain.\n",
        "* ### Suggest an improvement to our primality tester.  \n",
        "* ### Write a primality tester with source code fastprime.c that incorporates your improvement.  \n",
        "* ### How does your fast primality tester handle even numbers?\n",
        "* ### How long does it take your fast primality tester to check if 729476671297368179 is prime?\n",
        "* ### What is the speedup when using your fast primality example for this example?"
      ],
      "metadata": {
        "id": "2pcmgajk530w"
      }
    },
    {
      "cell_type": "code",
      "source": [],
      "metadata": {
        "id": "hFg_rMfUfw03"
      },
      "execution_count": 23,
      "outputs": []
    }
  ]
}