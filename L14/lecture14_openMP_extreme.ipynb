{
  "nbformat": 4,
  "nbformat_minor": 0,
  "metadata": {
    "colab": {
      "provenance": []
    },
    "kernelspec": {
      "name": "python3",
      "display_name": "Python 3"
    },
    "language_info": {
      "name": "python"
    }
  },
  "cells": [
    {
      "cell_type": "markdown",
      "source": [
        "# Lecture 14 : OpenMP Extreme"
      ],
      "metadata": {
        "id": "XIpjA9ZTuG73"
      }
    },
    {
      "cell_type": "markdown",
      "source": [
        "## Clone the materials repo to access datafiles."
      ],
      "metadata": {
        "id": "VyRQbxrQfGVy"
      }
    },
    {
      "cell_type": "code",
      "execution_count": 1,
      "metadata": {
        "colab": {
          "base_uri": "https://localhost:8080/"
        },
        "id": "WKGbEwAEt-FJ",
        "outputId": "62f4ad9e-6c5f-480c-9f29-27060b8577f7"
      },
      "outputs": [
        {
          "output_type": "stream",
          "name": "stdout",
          "text": [
            "Cloning into 'cmda3634_materials'...\n",
            "remote: Enumerating objects: 192, done.\u001b[K\n",
            "remote: Counting objects: 100% (153/153), done.\u001b[K\n",
            "remote: Compressing objects: 100% (130/130), done.\u001b[K\n",
            "remote: Total 192 (delta 67), reused 37 (delta 16), pack-reused 39 (from 1)\u001b[K\n",
            "Receiving objects: 100% (192/192), 28.32 MiB | 5.75 MiB/s, done.\n",
            "Resolving deltas: 100% (67/67), done.\n"
          ]
        }
      ],
      "source": [
        "!git clone https://code.vt.edu/jasonwil/cmda3634_materials.git"
      ]
    },
    {
      "cell_type": "code",
      "source": [
        "# copy the lecture 14 files to our working directory\n",
        "!cp cmda3634_materials/L14/* ."
      ],
      "metadata": {
        "id": "Uwcwt_Glt-5Y"
      },
      "execution_count": 2,
      "outputs": []
    },
    {
      "cell_type": "markdown",
      "source": [
        "# Part 1 : Sequential Code for Finding the Extreme Pair"
      ],
      "metadata": {
        "id": "7cF23bFsuNcS"
      }
    },
    {
      "cell_type": "code",
      "source": [
        "%%writefile extreme.c\n",
        "#include <stdio.h>\n",
        "#include <stdlib.h>\n",
        "#include <math.h>\n",
        "#include \"vec.h\"\n",
        "\n",
        "typedef struct {\n",
        "    double max_dist_sq;\n",
        "    int extreme_1, extreme_2;\n",
        "} extreme_info;\n",
        "\n",
        "extreme_info extreme_pair (double* data, int len, int dim) {\n",
        "    extreme_info info = { 0, -1, -1 };\n",
        "    for (int i=0;i<len-1;i++) {\n",
        "        for (int j=i+1;j<len;j++) {\n",
        "            // data+i*dim is a pointer to the ith data point\n",
        "            // data+j*dim is a pointer to the jth data point\n",
        "            double dist_sq = vec_dist_sq(data+i*dim,data+j*dim,dim);\n",
        "            if (dist_sq > info.max_dist_sq) {\n",
        "                info.max_dist_sq = dist_sq;\n",
        "                info.extreme_1 = i;\n",
        "                info.extreme_2 = j;\n",
        "            }\n",
        "        }\n",
        "    }\n",
        "    return info;\n",
        "}\n",
        "\n",
        "int main () {\n",
        "\n",
        "    // read dataset with len points in R^dim\n",
        "    int len, dim;\n",
        "    if (scanf(\"%d %d\",&len,&dim) != 2) {\n",
        "        printf (\"error reading the length and dimension of the dataset\\n\");\n",
        "        return 1;\n",
        "    }\n",
        "    // allocate the (len x dim) data matrix on the heap using malloc\n",
        "    double* data = (double*)malloc(len*dim*sizeof(double));\n",
        "    if (data == NULL) {\n",
        "        printf (\"malloc failed to allocate data matrix\\n\");\n",
        "        return 1;\n",
        "    }\n",
        "    vec_read_dataset (data,len,dim);\n",
        "\n",
        "    // find the extreme pair\n",
        "    extreme_info info;\n",
        "    info = extreme_pair(data,len,dim);\n",
        "\n",
        "    // print the results\n",
        "    printf (\"Extreme Distance = %.2f\\n\",sqrt(info.max_dist_sq));\n",
        "    printf (\"Extreme Pair = %d %d\\n\",info.extreme_1,info.extreme_2);\n",
        "\n",
        "    // free the data matrix\n",
        "    free (data);\n",
        "}"
      ],
      "metadata": {
        "colab": {
          "base_uri": "https://localhost:8080/"
        },
        "id": "uPFWvNguuK6j",
        "outputId": "f09a6753-5438-482f-d2d7-1e1aec0bb290"
      },
      "execution_count": 71,
      "outputs": [
        {
          "output_type": "stream",
          "name": "stdout",
          "text": [
            "Overwriting extreme.c\n"
          ]
        }
      ]
    },
    {
      "cell_type": "code",
      "source": [
        "!gcc -o extreme extreme.c vec.c -lm"
      ],
      "metadata": {
        "id": "tiwoLhjNurT6"
      },
      "execution_count": 72,
      "outputs": []
    },
    {
      "cell_type": "code",
      "source": [
        "!time cat mnist1000.txt | ./extreme"
      ],
      "metadata": {
        "colab": {
          "base_uri": "https://localhost:8080/"
        },
        "id": "ubzP5nq5i-hp",
        "outputId": "e5c75b4e-d5ae-493e-fdd7-2ea1d22b445b"
      },
      "execution_count": 73,
      "outputs": [
        {
          "output_type": "stream",
          "name": "stdout",
          "text": [
            "Extreme Distance = 3797.52\n",
            "Extreme Pair = 121 426\n",
            "\n",
            "real\t0m1.720s\n",
            "user\t0m1.691s\n",
            "sys\t0m0.020s\n"
          ]
        }
      ]
    },
    {
      "cell_type": "code",
      "source": [
        "!time cat mnist2000.txt | ./extreme"
      ],
      "metadata": {
        "colab": {
          "base_uri": "https://localhost:8080/"
        },
        "id": "VaLZbWcpvKCx",
        "outputId": "7d4858f0-09be-4892-90bc-4e91fec9f5d0"
      },
      "execution_count": 74,
      "outputs": [
        {
          "output_type": "stream",
          "name": "stdout",
          "text": [
            "Extreme Distance = 3928.75\n",
            "Extreme Pair = 1618 1895\n",
            "\n",
            "real\t0m8.224s\n",
            "user\t0m8.093s\n",
            "sys\t0m0.035s\n"
          ]
        }
      ]
    },
    {
      "cell_type": "code",
      "source": [
        "!time cat mnist10k.txt | ./extreme"
      ],
      "metadata": {
        "colab": {
          "base_uri": "https://localhost:8080/"
        },
        "id": "Ss6vNurMvNAP",
        "outputId": "b0793f6f-bfea-43c5-ef66-e59323a0e788"
      },
      "execution_count": 75,
      "outputs": [
        {
          "output_type": "stream",
          "name": "stdout",
          "text": [
            "Extreme Distance = 4097.95\n",
            "Extreme Pair = 5977 6412\n",
            "\n",
            "real\t3m5.888s\n",
            "user\t3m3.612s\n",
            "sys\t0m0.203s\n"
          ]
        }
      ]
    },
    {
      "cell_type": "markdown",
      "source": [
        "## Note that finding the extreme pair is a $O(n^2)$ algorithm.  \n",
        "## For a large MNIST dataset, the sequential code takes around 3 minutes.  \n",
        "## We can substantially reduce the runtime by checking for the extreme pair in parallel."
      ],
      "metadata": {
        "id": "4-hCa9r1weK1"
      }
    },
    {
      "cell_type": "markdown",
      "source": [
        "# Part 2 : OpenMP Version of Extreme"
      ],
      "metadata": {
        "id": "7B4yB1CLw3k8"
      }
    },
    {
      "cell_type": "markdown",
      "source": [
        "## For version 1 of the OpenMP code we will add a command line argument to read in the number of threads and add OpenMP timing code around the function call that computes the extreme pair.  "
      ],
      "metadata": {
        "id": "hg6MdHHpw81a"
      }
    },
    {
      "cell_type": "code",
      "source": [
        "%%writefile omp_extreme_v1.c\n",
        "#include <stdio.h>\n",
        "#include <stdlib.h>\n",
        "#include <math.h>\n",
        "#include <omp.h>\n",
        "#include \"vec.h\"\n",
        "\n",
        "typedef struct {\n",
        "    double max_dist_sq;\n",
        "    int extreme_1, extreme_2;\n",
        "} extreme_info;\n",
        "\n",
        "extreme_info extreme_pair (double* data, int len, int dim) {\n",
        "    extreme_info info = { 0, -1, -1 };\n",
        "    for (int i=0;i<len-1;i++) {\n",
        "        for (int j=i+1;j<len;j++) {\n",
        "            double dist_sq = vec_dist_sq(data+i*dim,data+j*dim,dim);\n",
        "            if (dist_sq > info.max_dist_sq) {\n",
        "                info.max_dist_sq = dist_sq;\n",
        "                info.extreme_1 = i;\n",
        "                info.extreme_2 = j;\n",
        "            }\n",
        "        }\n",
        "    }\n",
        "    return info;\n",
        "}\n",
        "\n",
        "int main (int argc, char** argv) {\n",
        "\n",
        "    // get num_threads from the command line\n",
        "    if (argc < 2) {\n",
        "        printf (\"Command usage : %s num_threads\\n\",argv[0]);\n",
        "        return 1;\n",
        "    }\n",
        "    int num_threads = atoi(argv[1]);\n",
        "    omp_set_num_threads(num_threads);\n",
        "\n",
        "    // read dataset with len points in R^dim\n",
        "    int len, dim;\n",
        "    if (scanf(\"%d %d\",&len,&dim) != 2) {\n",
        "        printf (\"error reading the length and dimension of the dataset\\n\");\n",
        "        return 1;\n",
        "    }\n",
        "    // allocate the (len x dim) data matrix on the heap using malloc\n",
        "    double* data = (double*)malloc(len*dim*sizeof(double));\n",
        "    if (data == NULL) {\n",
        "        printf (\"malloc failed to allocate data matrix\\n\");\n",
        "        return 1;\n",
        "    }\n",
        "    vec_read_dataset (data,len,dim);\n",
        "\n",
        "    // start the timer\n",
        "    double start_time, end_time;\n",
        "    start_time = omp_get_wtime();\n",
        "\n",
        "    // find the extreme pair\n",
        "    extreme_info info;\n",
        "    info = extreme_pair(data,len,dim);\n",
        "\n",
        "    // stop the timer\n",
        "    end_time = omp_get_wtime();\n",
        "\n",
        "    // print the results\n",
        "    printf (\"num_threads = %d, \",num_threads);\n",
        "    printf (\"elapsed time = %.4f seconds\\n\",end_time-start_time);\n",
        "    printf (\"Extreme Distance = %.2f\\n\",sqrt(info.max_dist_sq));\n",
        "    printf (\"Extreme Pair = %d %d\\n\",info.extreme_1,info.extreme_2);\n",
        "\n",
        "    // free the data matrix\n",
        "    free (data);\n",
        "}"
      ],
      "metadata": {
        "colab": {
          "base_uri": "https://localhost:8080/"
        },
        "id": "WRONJIaBvVnj",
        "outputId": "d091e139-1085-44d1-8bb8-337a0381050f"
      },
      "execution_count": 78,
      "outputs": [
        {
          "output_type": "stream",
          "name": "stdout",
          "text": [
            "Overwriting omp_extreme_v1.c\n"
          ]
        }
      ]
    },
    {
      "cell_type": "code",
      "source": [
        "!gcc -o omp_extreme_v1 omp_extreme_v1.c vec.c -lm -fopenmp"
      ],
      "metadata": {
        "id": "jnZ0NgOtW8og"
      },
      "execution_count": 85,
      "outputs": []
    },
    {
      "cell_type": "code",
      "source": [
        "!cat mnist1000.txt | ./omp_extreme_v1 4"
      ],
      "metadata": {
        "colab": {
          "base_uri": "https://localhost:8080/"
        },
        "id": "8bkjC3amXCbY",
        "outputId": "b80883f5-6520-470f-9526-39dfe929566d"
      },
      "execution_count": 86,
      "outputs": [
        {
          "output_type": "stream",
          "name": "stdout",
          "text": [
            "num_threads = 4, elapsed time = 1.6015 seconds\n",
            "Extreme Distance = 3797.52\n",
            "Extreme Pair = 121 426\n"
          ]
        }
      ]
    },
    {
      "cell_type": "markdown",
      "source": [
        "## As we did with *omp_sum* we will next systematically transform the code to work in parallel."
      ],
      "metadata": {
        "id": "AM-0ekNhYfE6"
      }
    },
    {
      "cell_type": "markdown",
      "source": [
        "## In version 2, we create a parallel region that includes the double for loop."
      ],
      "metadata": {
        "id": "2TvWmMnNyTLi"
      }
    },
    {
      "cell_type": "code",
      "source": [
        "%%writefile omp_extreme_v2.c\n",
        "#include <stdio.h>\n",
        "#include <stdlib.h>\n",
        "#include <math.h>\n",
        "#include <omp.h>\n",
        "#include \"vec.h\"\n",
        "\n",
        "typedef struct {\n",
        "    double max_dist_sq;\n",
        "    int extreme_1, extreme_2;\n",
        "} extreme_info;\n",
        "\n",
        "extreme_info extreme_pair (double* data, int len, int dim) {\n",
        "    extreme_info info = { 0, -1, -1 };\n",
        "#pragma omp parallel\n",
        "    {\n",
        "        for (int i=0;i<len-1;i++) {\n",
        "            for (int j=i+1;j<len;j++) {\n",
        "                double dist_sq = vec_dist_sq(data+i*dim,data+j*dim,dim);\n",
        "                if (dist_sq > info.max_dist_sq) {\n",
        "                    info.max_dist_sq = dist_sq;\n",
        "                    info.extreme_1 = i;\n",
        "                    info.extreme_2 = j;\n",
        "                }\n",
        "            }\n",
        "        }\n",
        "    }\n",
        "    return info;\n",
        "}\n",
        "\n",
        "int main (int argc, char** argv) {\n",
        "\n",
        "    // get num_threads from the command line\n",
        "    if (argc < 2) {\n",
        "        printf (\"Command usage : %s num_threads\\n\",argv[0]);\n",
        "        return 1;\n",
        "    }\n",
        "    int num_threads = atoi(argv[1]);\n",
        "    omp_set_num_threads(num_threads);\n",
        "\n",
        "    // read dataset with len points in R^dim\n",
        "    int len, dim;\n",
        "    if (scanf(\"%d %d\",&len,&dim) != 2) {\n",
        "        printf (\"error reading the length and dimension of the dataset\\n\");\n",
        "        return 1;\n",
        "    }\n",
        "    // allocate the (len x dim) data matrix on the heap using malloc\n",
        "    double* data = (double*)malloc(len*dim*sizeof(double));\n",
        "    if (data == NULL) {\n",
        "        printf (\"malloc failed to allocate data matrix\\n\");\n",
        "        return 1;\n",
        "    }\n",
        "    vec_read_dataset (data,len,dim);\n",
        "\n",
        "    // start the timer\n",
        "    double start_time, end_time;\n",
        "    start_time = omp_get_wtime();\n",
        "\n",
        "    // find the extreme pair\n",
        "    extreme_info info;\n",
        "    info = extreme_pair(data,len,dim);\n",
        "\n",
        "    // stop the timer\n",
        "    end_time = omp_get_wtime();\n",
        "\n",
        "    // print the results\n",
        "    printf (\"num_threads = %d, \",num_threads);\n",
        "    printf (\"elapsed time = %.4f seconds\\n\",end_time-start_time);\n",
        "    printf (\"Extreme Distance = %.2f\\n\",sqrt(info.max_dist_sq));\n",
        "    printf (\"Extreme Pair = %d %d\\n\",info.extreme_1,info.extreme_2);\n",
        "\n",
        "    // free the data matrix\n",
        "    free (data);\n",
        "}"
      ],
      "metadata": {
        "colab": {
          "base_uri": "https://localhost:8080/"
        },
        "id": "570XIZOPxwhc",
        "outputId": "21ed2361-9dda-475b-b1f2-cc94ffc73e8d"
      },
      "execution_count": 89,
      "outputs": [
        {
          "output_type": "stream",
          "name": "stdout",
          "text": [
            "Overwriting omp_extreme_v2.c\n"
          ]
        }
      ]
    },
    {
      "cell_type": "code",
      "source": [
        "!gcc -o omp_extreme_v2 omp_extreme_v2.c vec.c -lm -fopenmp"
      ],
      "metadata": {
        "id": "45JEGpcqaK8Q"
      },
      "execution_count": 90,
      "outputs": []
    },
    {
      "cell_type": "code",
      "source": [
        "!cat mnist1000.txt | ./omp_extreme_v2 4"
      ],
      "metadata": {
        "colab": {
          "base_uri": "https://localhost:8080/"
        },
        "id": "Ktv0TNiPaPN6",
        "outputId": "63576640-a48f-4ff1-d399-dae3bc526dd6"
      },
      "execution_count": 91,
      "outputs": [
        {
          "output_type": "stream",
          "name": "stdout",
          "text": [
            "num_threads = 4, elapsed time = 6.0181 seconds\n",
            "Extreme Distance = 3797.52\n",
            "Extreme Pair = 121 426\n"
          ]
        }
      ]
    },
    {
      "cell_type": "markdown",
      "source": [
        "## For version 2 we got the correct answer but it took much longer to execute since all threads are now testing all of the pairs."
      ],
      "metadata": {
        "id": "WU-HkrZMaf0Q"
      }
    },
    {
      "cell_type": "markdown",
      "source": [
        "## In version 3, we will assign the loop iterations of the **outer loop** to threads so that each thread gets approximately the same number of **outer loop** iterations."
      ],
      "metadata": {
        "id": "bDN2kmXezgYH"
      }
    },
    {
      "cell_type": "code",
      "source": [
        "%%writefile omp_extreme_v3.c\n",
        "#include <stdio.h>\n",
        "#include <stdlib.h>\n",
        "#include <math.h>\n",
        "#include <omp.h>\n",
        "#include \"vec.h\"\n",
        "\n",
        "typedef struct {\n",
        "    double max_dist_sq;\n",
        "    int extreme_1, extreme_2;\n",
        "} extreme_info;\n",
        "\n",
        "extreme_info extreme_pair (double* data, int len, int dim) {\n",
        "    extreme_info info = { 0, -1, -1 };\n",
        "#pragma omp parallel\n",
        "    {\n",
        "#pragma omp for\n",
        "        for (int i=0;i<len-1;i++) {\n",
        "            for (int j=i+1;j<len;j++) {\n",
        "                double dist_sq = vec_dist_sq(data+i*dim,data+j*dim,dim);\n",
        "                if (dist_sq > info.max_dist_sq) {\n",
        "                    info.max_dist_sq = dist_sq;\n",
        "                    info.extreme_1 = i;\n",
        "                    info.extreme_2 = j;\n",
        "                }\n",
        "            }\n",
        "        }\n",
        "    }\n",
        "    return info;\n",
        "}\n",
        "\n",
        "int main (int argc, char** argv) {\n",
        "\n",
        "    // get num_threads from the command line\n",
        "    if (argc < 2) {\n",
        "        printf (\"Command usage : %s num_threads\\n\",argv[0]);\n",
        "        return 1;\n",
        "    }\n",
        "    int num_threads = atoi(argv[1]);\n",
        "    omp_set_num_threads(num_threads);\n",
        "\n",
        "    // read dataset with len points in R^dim\n",
        "    int len, dim;\n",
        "    if (scanf(\"%d %d\",&len,&dim) != 2) {\n",
        "        printf (\"error reading the length and dimension of the dataset\\n\");\n",
        "        return 1;\n",
        "    }\n",
        "    // allocate the (len x dim) data matrix on the heap using malloc\n",
        "    double* data = (double*)malloc(len*dim*sizeof(double));\n",
        "    if (data == NULL) {\n",
        "        printf (\"malloc failed to allocate data matrix\\n\");\n",
        "        return 1;\n",
        "    }\n",
        "    vec_read_dataset (data,len,dim);\n",
        "\n",
        "    // start the timer\n",
        "    double start_time, end_time;\n",
        "    start_time = omp_get_wtime();\n",
        "\n",
        "    // find the extreme pair\n",
        "    extreme_info info;\n",
        "    info = extreme_pair(data,len,dim);\n",
        "\n",
        "    // stop the timer\n",
        "    end_time = omp_get_wtime();\n",
        "\n",
        "    // print the results\n",
        "    printf (\"num_threads = %d, \",num_threads);\n",
        "    printf (\"elapsed time = %.4f seconds\\n\",end_time-start_time);\n",
        "    printf (\"Extreme Distance = %.2f\\n\",sqrt(info.max_dist_sq));\n",
        "    printf (\"Extreme Pair = %d %d\\n\",info.extreme_1,info.extreme_2);\n",
        "\n",
        "    // free the data matrix\n",
        "    free (data);\n",
        "}"
      ],
      "metadata": {
        "colab": {
          "base_uri": "https://localhost:8080/"
        },
        "id": "FcUifnsSykFS",
        "outputId": "aa5e8d93-47dc-4c46-f851-22a900ff3da6"
      },
      "execution_count": 95,
      "outputs": [
        {
          "output_type": "stream",
          "name": "stdout",
          "text": [
            "Overwriting omp_extreme_v3.c\n"
          ]
        }
      ]
    },
    {
      "cell_type": "code",
      "source": [
        "!gcc -o omp_extreme_v3 omp_extreme_v3.c vec.c -lm -fopenmp"
      ],
      "metadata": {
        "id": "Hss4U7I0bNh1"
      },
      "execution_count": 98,
      "outputs": []
    },
    {
      "cell_type": "code",
      "source": [
        "!cat mnist1000.txt | ./omp_extreme_v3 4"
      ],
      "metadata": {
        "colab": {
          "base_uri": "https://localhost:8080/"
        },
        "id": "oP3uv6rxbSfH",
        "outputId": "514678ee-382f-4729-e8fc-a4b1c6c10d0e"
      },
      "execution_count": 101,
      "outputs": [
        {
          "output_type": "stream",
          "name": "stdout",
          "text": [
            "num_threads = 4, elapsed time = 1.5303 seconds\n",
            "Extreme Distance = 3797.52\n",
            "Extreme Pair = 121 426\n"
          ]
        }
      ]
    },
    {
      "cell_type": "markdown",
      "source": [
        "## Version 3 appears to compute the correct answer but we have just gotten lucky.  \n",
        "## Let's next look for potential read/write race conditions that could make our code eventually fail to compute the correct answer.\n",
        "## A parallel code is called **thread safe** if it **always** computes the correct answer regardless of the number of threads used.\n",
        "## A parallel code with the potential for a read/write race condition (even if the probability of it happening is small) is **not thread safe**.\n",
        "## In this class our goal will be to always write **thread safe** code.\n",
        "## In particular, you will lose credit if your project code works most of the time but is not **thread safe**!"
      ],
      "metadata": {
        "id": "J3iL2_zNbnpK"
      }
    },
    {
      "cell_type": "markdown",
      "source": [
        "## In version 4, we specify the shared variables.\n",
        "## There are four shared variables: data, len, dim, info.\n",
        "## The shared variables data, len, and dim are read only.\n",
        "## The shared variable info is read/write.  \n",
        "## We will need to protect access to info in order to prevent read/write race conditions."
      ],
      "metadata": {
        "id": "AyEw1Dcd1dM1"
      }
    },
    {
      "cell_type": "code",
      "source": [
        "%%writefile omp_extreme_v4.c\n",
        "#include <stdio.h>\n",
        "#include <stdlib.h>\n",
        "#include <math.h>\n",
        "#include <omp.h>\n",
        "#include \"vec.h\"\n",
        "\n",
        "typedef struct {\n",
        "    double max_dist_sq;\n",
        "    int extreme_1, extreme_2;\n",
        "} extreme_info;\n",
        "\n",
        "extreme_info extreme_pair (double* data, int len, int dim) {\n",
        "    extreme_info info = { 0, -1, -1 };\n",
        "#pragma omp parallel default(none) shared(data,len,dim,info)\n",
        "    {\n",
        "#pragma omp for\n",
        "        for (int i=0;i<len-1;i++) {\n",
        "            for (int j=i+1;j<len;j++) {\n",
        "                double dist_sq = vec_dist_sq(data+i*dim,data+j*dim,dim);\n",
        "                if (dist_sq > info.max_dist_sq) {\n",
        "                    info.max_dist_sq = dist_sq;\n",
        "                    info.extreme_1 = i;\n",
        "                    info.extreme_2 = j;\n",
        "                }\n",
        "            }\n",
        "        }\n",
        "    }\n",
        "    return info;\n",
        "}\n",
        "\n",
        "int main (int argc, char** argv) {\n",
        "\n",
        "    // get num_threads from the command line\n",
        "    if (argc < 2) {\n",
        "        printf (\"Command usage : %s num_threads\\n\",argv[0]);\n",
        "        return 1;\n",
        "    }\n",
        "    int num_threads = atoi(argv[1]);\n",
        "    omp_set_num_threads(num_threads);\n",
        "\n",
        "    // read dataset with len points in R^dim\n",
        "    int len, dim;\n",
        "    if (scanf(\"%d %d\",&len,&dim) != 2) {\n",
        "        printf (\"error reading the length and dimension of the dataset\\n\");\n",
        "        return 1;\n",
        "    }\n",
        "    // allocate the (len x dim) data matrix on the heap using malloc\n",
        "    double* data = (double*)malloc(len*dim*sizeof(double));\n",
        "    if (data == NULL) {\n",
        "        printf (\"malloc failed to allocate data matrix\\n\");\n",
        "        return 1;\n",
        "    }\n",
        "    vec_read_dataset (data,len,dim);\n",
        "\n",
        "    // start the timer\n",
        "    double start_time, end_time;\n",
        "    start_time = omp_get_wtime();\n",
        "\n",
        "    // find the extreme pair\n",
        "    extreme_info info;\n",
        "    info = extreme_pair(data,len,dim);\n",
        "\n",
        "    // stop the timer\n",
        "    end_time = omp_get_wtime();\n",
        "\n",
        "    // print the results\n",
        "    printf (\"num_threads = %d, \",num_threads);\n",
        "    printf (\"elapsed time = %.4f seconds\\n\",end_time-start_time);\n",
        "    printf (\"Extreme Distance = %.2f\\n\",sqrt(info.max_dist_sq));\n",
        "    printf (\"Extreme Pair = %d %d\\n\",info.extreme_1,info.extreme_2);\n",
        "\n",
        "    // free the data matrix\n",
        "    free (data);\n",
        "}"
      ],
      "metadata": {
        "colab": {
          "base_uri": "https://localhost:8080/"
        },
        "id": "oNjQOepo0H1y",
        "outputId": "829cf7bb-2f79-43fe-c256-80d48dc39258"
      },
      "execution_count": 102,
      "outputs": [
        {
          "output_type": "stream",
          "name": "stdout",
          "text": [
            "Overwriting omp_extreme_v4.c\n"
          ]
        }
      ]
    },
    {
      "cell_type": "code",
      "source": [
        "!gcc -o omp_extreme_v4 omp_extreme_v4.c vec.c -lm -fopenmp"
      ],
      "metadata": {
        "id": "HRxsMF-rcANH"
      },
      "execution_count": 103,
      "outputs": []
    },
    {
      "cell_type": "code",
      "source": [
        "!cat mnist1000.txt | ./omp_extreme_v4 4"
      ],
      "metadata": {
        "colab": {
          "base_uri": "https://localhost:8080/"
        },
        "id": "jMqT7BKocCpz",
        "outputId": "6594dfec-6223-46c6-90ce-2bffbb841197"
      },
      "execution_count": 104,
      "outputs": [
        {
          "output_type": "stream",
          "name": "stdout",
          "text": [
            "num_threads = 4, elapsed time = 1.5110 seconds\n",
            "Extreme Distance = 3797.52\n",
            "Extreme Pair = 121 426\n"
          ]
        }
      ]
    },
    {
      "cell_type": "markdown",
      "source": [
        "## In version 5, we create a private thread version of the read/write shared variable info.  \n",
        "## **This private thread variable allows each thread to work independently throughout the entire nested for loop**.\n",
        "## This allows the parallel nested for loop to run as fast as possible."
      ],
      "metadata": {
        "id": "CNPzVn98bIj7"
      }
    },
    {
      "cell_type": "code",
      "source": [
        "%%writefile omp_extreme_v5.c\n",
        "#include <stdio.h>\n",
        "#include <stdlib.h>\n",
        "#include <math.h>\n",
        "#include <omp.h>\n",
        "#include \"vec.h\"\n",
        "\n",
        "typedef struct {\n",
        "    double max_dist_sq;\n",
        "    int extreme_1, extreme_2;\n",
        "} extreme_info;\n",
        "\n",
        "extreme_info extreme_pair (double* data, int len, int dim) {\n",
        "    extreme_info info = { 0, -1, -1 };\n",
        "#pragma omp parallel default(none) shared(data,len,dim,info)\n",
        "    {\n",
        "        extreme_info thread_info = { 0, -1, -1 };\n",
        "#pragma omp for\n",
        "        for (int i=0;i<len-1;i++) {\n",
        "            for (int j=i+1;j<len;j++) {\n",
        "                double dist_sq = vec_dist_sq(data+i*dim,data+j*dim,dim);\n",
        "                if (dist_sq > thread_info.max_dist_sq) {\n",
        "                    thread_info.max_dist_sq = dist_sq;\n",
        "                    thread_info.extreme_1 = i;\n",
        "                    thread_info.extreme_2 = j;\n",
        "                }\n",
        "            }\n",
        "        }\n",
        "    }\n",
        "    return info;\n",
        "}\n",
        "\n",
        "int main (int argc, char** argv) {\n",
        "\n",
        "    // get num_threads from the command line\n",
        "    if (argc < 2) {\n",
        "        printf (\"Command usage : %s num_threads\\n\",argv[0]);\n",
        "        return 1;\n",
        "    }\n",
        "    int num_threads = atoi(argv[1]);\n",
        "    omp_set_num_threads(num_threads);\n",
        "\n",
        "    // read dataset with len points in R^dim\n",
        "    int len, dim;\n",
        "    if (scanf(\"%d %d\",&len,&dim) != 2) {\n",
        "        printf (\"error reading the length and dimension of the dataset\\n\");\n",
        "        return 1;\n",
        "    }\n",
        "    // allocate the (len x dim) data matrix on the heap using malloc\n",
        "    double* data = (double*)malloc(len*dim*sizeof(double));\n",
        "    if (data == NULL) {\n",
        "        printf (\"malloc failed to allocate data matrix\\n\");\n",
        "        return 1;\n",
        "    }\n",
        "    vec_read_dataset (data,len,dim);\n",
        "\n",
        "    // start the timer\n",
        "    double start_time, end_time;\n",
        "    start_time = omp_get_wtime();\n",
        "\n",
        "    // find the extreme pair\n",
        "    extreme_info info;\n",
        "    info = extreme_pair(data,len,dim);\n",
        "\n",
        "    // stop the timer\n",
        "    end_time = omp_get_wtime();\n",
        "\n",
        "    // print the results\n",
        "    printf (\"num_threads = %d, \",num_threads);\n",
        "    printf (\"elapsed time = %.4f seconds\\n\",end_time-start_time);\n",
        "    printf (\"Extreme Distance = %.2f\\n\",sqrt(info.max_dist_sq));\n",
        "    printf (\"Extreme Pair = %d %d\\n\",info.extreme_1,info.extreme_2);\n",
        "\n",
        "    // free the data matrix\n",
        "    free (data);\n",
        "}"
      ],
      "metadata": {
        "colab": {
          "base_uri": "https://localhost:8080/"
        },
        "id": "R7tVpmu_11R8",
        "outputId": "a1dc49d4-30ef-447b-d88e-bbaaa6ba2bd0"
      },
      "execution_count": 42,
      "outputs": [
        {
          "output_type": "stream",
          "name": "stdout",
          "text": [
            "Writing omp_extreme_v5.c\n"
          ]
        }
      ]
    },
    {
      "cell_type": "code",
      "source": [
        "!gcc -o omp_extreme_v5 omp_extreme_v5.c vec.c -lm -fopenmp"
      ],
      "metadata": {
        "id": "DR6Kg-Buceo6"
      },
      "execution_count": 105,
      "outputs": []
    },
    {
      "cell_type": "code",
      "source": [
        "!cat mnist1000.txt | ./omp_extreme_v5 4"
      ],
      "metadata": {
        "colab": {
          "base_uri": "https://localhost:8080/"
        },
        "id": "W82ucR1jchBK",
        "outputId": "88abe8a1-206f-406d-a175-7912eff8828e"
      },
      "execution_count": 106,
      "outputs": [
        {
          "output_type": "stream",
          "name": "stdout",
          "text": [
            "num_threads = 4, elapsed time = 1.4948 seconds\n",
            "pairs checked = 0\n",
            "Extreme Distance = 0.00\n",
            "Extreme Pair = -1 -1\n"
          ]
        }
      ]
    },
    {
      "cell_type": "markdown",
      "source": [
        "## The issue with version 5 is that the shared variable info is never updated!\n",
        "## In version 6 each thread updates the shared info variable with its own local information inside of a **critical region**.\n",
        "## The key aspect of a critical region is that **only one thread can exectute the critical region at a time**.\n",
        "## This ensures that the threads can update the shared variable info without read/write race conditions.\n",
        "## An OpenMP **critical region** is similar to the OpenMP **atomic construct** but it is more general.  For example, a critical region can contain more complicated C code than an atomic.\n",
        "## Note that this code is still efficient because each thread only enters the critical region **a single time** since it is **outside** the nested for loop."
      ],
      "metadata": {
        "id": "riGQ5HIHcWGc"
      }
    },
    {
      "cell_type": "code",
      "source": [
        "%%writefile omp_extreme_v6.c\n",
        "#include <stdio.h>\n",
        "#include <stdlib.h>\n",
        "#include <math.h>\n",
        "#include <omp.h>\n",
        "#include \"vec.h\"\n",
        "\n",
        "typedef struct {\n",
        "    double max_dist_sq;\n",
        "    int extreme_1, extreme_2;\n",
        "} extreme_info;\n",
        "\n",
        "extreme_info extreme_pair (double* data, int len, int dim) {\n",
        "    extreme_info info = { 0, -1, -1 };\n",
        "#pragma omp parallel default(none) shared(data,len,dim,info)\n",
        "    {\n",
        "        extreme_info thread_info = { 0, -1, -1 };\n",
        "#pragma omp for\n",
        "        for (int i=0;i<len-1;i++) {\n",
        "            for (int j=i+1;j<len;j++) {\n",
        "                double dist_sq = vec_dist_sq(data+i*dim,data+j*dim,dim);\n",
        "                if (dist_sq > thread_info.max_dist_sq) {\n",
        "                    thread_info.max_dist_sq = dist_sq;\n",
        "                    thread_info.extreme_1 = i;\n",
        "                    thread_info.extreme_2 = j;\n",
        "                }\n",
        "            }\n",
        "        }\n",
        "#pragma omp critical\n",
        "        {\n",
        "            if (thread_info.max_dist_sq > info.max_dist_sq) {\n",
        "                info = thread_info;\n",
        "            }\n",
        "        }\n",
        "    }\n",
        "    return info;\n",
        "}\n",
        "\n",
        "int main (int argc, char** argv) {\n",
        "\n",
        "    // get num_threads from the command line\n",
        "    if (argc < 2) {\n",
        "        printf (\"Command usage : %s num_threads\\n\",argv[0]);\n",
        "        return 1;\n",
        "    }\n",
        "    int num_threads = atoi(argv[1]);\n",
        "    omp_set_num_threads(num_threads);\n",
        "\n",
        "    // read dataset with len points in R^dim\n",
        "    int len, dim;\n",
        "    if (scanf(\"%d %d\",&len,&dim) != 2) {\n",
        "        printf (\"error reading the length and dimension of the dataset\\n\");\n",
        "        return 1;\n",
        "    }\n",
        "    // allocate the (len x dim) data matrix on the heap using malloc\n",
        "    double* data = (double*)malloc(len*dim*sizeof(double));\n",
        "    if (data == NULL) {\n",
        "        printf (\"malloc failed to allocate data matrix\\n\");\n",
        "        return 1;\n",
        "    }\n",
        "    vec_read_dataset (data,len,dim);\n",
        "\n",
        "    // start the timer\n",
        "    double start_time, end_time;\n",
        "    start_time = omp_get_wtime();\n",
        "\n",
        "    // find the extreme pair\n",
        "    extreme_info info;\n",
        "    info = extreme_pair(data,len,dim);\n",
        "\n",
        "    // stop the timer\n",
        "    end_time = omp_get_wtime();\n",
        "\n",
        "    // print the results\n",
        "    printf (\"num_threads = %d, \",num_threads);\n",
        "    printf (\"elapsed time = %.4f seconds\\n\",end_time-start_time);\n",
        "    printf (\"Extreme Distance = %.2f\\n\",sqrt(info.max_dist_sq));\n",
        "    printf (\"Extreme Pair = %d %d\\n\",info.extreme_1,info.extreme_2);\n",
        "\n",
        "    // free the data matrix\n",
        "    free (data);\n",
        "}"
      ],
      "metadata": {
        "colab": {
          "base_uri": "https://localhost:8080/"
        },
        "id": "vJy7ZGWu2R97",
        "outputId": "61132a43-0d00-494b-c98e-3beb7fb43126"
      },
      "execution_count": 110,
      "outputs": [
        {
          "output_type": "stream",
          "name": "stdout",
          "text": [
            "Overwriting omp_extreme_v6.c\n"
          ]
        }
      ]
    },
    {
      "cell_type": "code",
      "source": [
        "!gcc -o omp_extreme_v6 omp_extreme_v6.c vec.c -lm -fopenmp"
      ],
      "metadata": {
        "id": "oXI_m89mc6y6"
      },
      "execution_count": 111,
      "outputs": []
    },
    {
      "cell_type": "code",
      "source": [
        "!cat mnist1000.txt | ./omp_extreme_v6 4"
      ],
      "metadata": {
        "colab": {
          "base_uri": "https://localhost:8080/"
        },
        "id": "d7e-Ys5rdDgc",
        "outputId": "db32f104-9355-4b42-a3f1-efdc89547090"
      },
      "execution_count": 112,
      "outputs": [
        {
          "output_type": "stream",
          "name": "stdout",
          "text": [
            "num_threads = 4, elapsed time = 1.5454 seconds\n",
            "Extreme Distance = 3797.52\n",
            "Extreme Pair = 121 426\n"
          ]
        }
      ]
    },
    {
      "cell_type": "markdown",
      "source": [
        "## Let's run version 6 on matrix with num_threads set to 1, 2, and 4.\n",
        "## Note that although we get the correct answers the timing results are a bit disappointing!\n",
        "\n",
        "    $ gcc -o omp_extreme omp_extreme.c vec.c -lm -fopenmp\n",
        "    $ cat mnist1000.txt | ./omp_extreme 1\n",
        "    num_threads = 1, elapsed time = 1.0713 seconds\n",
        "    Extreme Distance = 3797.52\n",
        "    Extreme Pair = 121 426\n",
        "    $ cat mnist1000.txt | ./omp_extreme 2\n",
        "    num_threads = 2, elapsed time = 0.8031 seconds\n",
        "    Extreme Distance = 3797.52\n",
        "    Extreme Pair = 121 426\n",
        "    $ cat mnist1000.txt | ./omp_extreme 4\n",
        "    num_threads = 4, elapsed time = 0.4821 seconds\n",
        "    Extreme Distance = 3797.52\n",
        "    Extreme Pair = 121 426\n"
      ],
      "metadata": {
        "id": "_7t1rH_vg37d"
      }
    },
    {
      "cell_type": "markdown",
      "source": [
        "## The speedup for 2 threads is $1.0713/0.8031 = 1.33$ but the ideal speedup is $2$.\n",
        "## The speedup for 4 threads is $1.0713/0.4821 = 2.22$ but the ideal speedup is $4$."
      ],
      "metadata": {
        "id": "FZcajawWvoR3"
      }
    },
    {
      "cell_type": "markdown",
      "source": [
        "## In version 7, we add some diagnostic code to try to determine why the code does not give us near the ideal speedup for num_threads = 2 and num_threads = 4.\n",
        "## In particular, we have each thread print out the number of pairs tested.  Since each pair takes about the same amount of work to test, the number of pairs tested gives us a good approximation for the amount of work being done by each thread."
      ],
      "metadata": {
        "id": "A_L691oDjrLu"
      }
    },
    {
      "cell_type": "code",
      "source": [
        "%%writefile omp_extreme_v7.c\n",
        "#include <stdio.h>\n",
        "#include <stdlib.h>\n",
        "#include <math.h>\n",
        "#include <omp.h>\n",
        "#include \"vec.h\"\n",
        "\n",
        "typedef struct {\n",
        "    double max_dist_sq;\n",
        "    int extreme_1, extreme_2;\n",
        "} extreme_info;\n",
        "\n",
        "extreme_info extreme_pair (double* data, int len, int dim) {\n",
        "    extreme_info info = { 0, -1, -1 };\n",
        "#pragma omp parallel default(none) shared(data,len,dim,info)\n",
        "    {\n",
        "        extreme_info thread_info = { 0, -1, -1 };\n",
        "#ifdef DIAG\n",
        "        int thread_pairs_checked = 0;\n",
        "#endif\n",
        "#pragma omp for\n",
        "        for (int i=0;i<len-1;i++) {\n",
        "            for (int j=i+1;j<len;j++) {\n",
        "                thread_pairs_checked += 1;\n",
        "                double dist_sq = vec_dist_sq(data+i*dim,data+j*dim,dim);\n",
        "                if (dist_sq > thread_info.max_dist_sq) {\n",
        "                    thread_info.max_dist_sq = dist_sq;\n",
        "                    thread_info.extreme_1 = i;\n",
        "                    thread_info.extreme_2 = j;\n",
        "                }\n",
        "            }\n",
        "        }\n",
        "#ifdef DIAG\n",
        "        int thread_num = omp_get_thread_num();\n",
        "        printf (\"thread %d checked %d pairs\\n\",thread_num,thread_pairs_checked);\n",
        "#endif\n",
        "#pragma omp critical\n",
        "        {\n",
        "            if (thread_info.max_dist_sq > info.max_dist_sq) {\n",
        "                info = thread_info;\n",
        "            }\n",
        "        }\n",
        "    }\n",
        "    return info;\n",
        "}\n",
        "\n",
        "int main (int argc, char** argv) {\n",
        "\n",
        "    // get num_threads from the command line\n",
        "    if (argc < 2) {\n",
        "        printf (\"Command usage : %s num_threads\\n\",argv[0]);\n",
        "        return 1;\n",
        "    }\n",
        "    int num_threads = atoi(argv[1]);\n",
        "    omp_set_num_threads(num_threads);\n",
        "\n",
        "    // read dataset with len points in R^dim\n",
        "    int len, dim;\n",
        "    if (scanf(\"%d %d\",&len,&dim) != 2) {\n",
        "        printf (\"error reading the length and dimension of the dataset\\n\");\n",
        "        return 1;\n",
        "    }\n",
        "    // allocate the (len x dim) data matrix on the heap using malloc\n",
        "    double* data = (double*)malloc(len*dim*sizeof(double));\n",
        "    if (data == NULL) {\n",
        "        printf (\"malloc failed to allocate data matrix\\n\");\n",
        "        return 1;\n",
        "    }\n",
        "    vec_read_dataset (data,len,dim);\n",
        "\n",
        "    // start the timer\n",
        "    double start_time, end_time;\n",
        "    start_time = omp_get_wtime();\n",
        "\n",
        "    // find the extreme pair\n",
        "    extreme_info info;\n",
        "    info = extreme_pair(data,len,dim);\n",
        "\n",
        "    // stop the timer\n",
        "    end_time = omp_get_wtime();\n",
        "\n",
        "    // print the results\n",
        "    printf (\"num_threads = %d, \",num_threads);\n",
        "    printf (\"elapsed time = %.4f seconds\\n\",end_time-start_time);\n",
        "    printf (\"Extreme Distance = %.2f\\n\",sqrt(info.max_dist_sq));\n",
        "    printf (\"Extreme Pair = %d %d\\n\",info.extreme_1,info.extreme_2);\n",
        "\n",
        "    // free the data matrix\n",
        "    free (data);\n",
        "}"
      ],
      "metadata": {
        "colab": {
          "base_uri": "https://localhost:8080/"
        },
        "id": "ZyB5IYjcfree",
        "outputId": "779886d8-0b8e-4803-a735-67a0dec9e5c2"
      },
      "execution_count": 115,
      "outputs": [
        {
          "output_type": "stream",
          "name": "stdout",
          "text": [
            "Overwriting omp_extreme_v7.c\n"
          ]
        }
      ]
    },
    {
      "cell_type": "markdown",
      "source": [
        "## Here are the results running version 7 on matrix.\n",
        "    $ gcc -DDIAG -o omp_extreme omp_extreme.c vec.c -lm -fopenmp\n",
        "    $ cat mnist1000.txt | ./omp_extreme 1\n",
        "    thread 0 checked 499500 pairs\n",
        "    num_threads = 1, elapsed time = 1.0709 seconds\n",
        "    Extreme Distance = 3797.52\n",
        "    Extreme Pair = 121 426\n",
        "    $ cat mnist1000.txt | ./omp_extreme 2\n",
        "    thread 0 checked 374750 pairs\n",
        "    thread 1 checked 124750 pairs\n",
        "    num_threads = 2, elapsed time = 0.8030 seconds\n",
        "    Extreme Distance = 3797.52\n",
        "    Extreme Pair = 121 426\n",
        "    $ cat mnist1000.txt | ./omp_extreme 4\n",
        "    thread 0 checked 218625 pairs\n",
        "    thread 3 checked 31125 pairs\n",
        "    thread 1 checked 156125 pairs\n",
        "    thread 2 checked 93625 pairs\n",
        "    num_threads = 4, elapsed time = 0.4819 seconds\n",
        "    Extreme Distance = 3797.52\n",
        "    Extreme Pair = 121 426\n"
      ],
      "metadata": {
        "id": "w0EXAt63kaID"
      }
    },
    {
      "cell_type": "markdown",
      "source": [
        "## We can now see the problem.  \n",
        "## For the num_threads = 4 case, thread 0 is checking 218625 pairs while thread 3 is checking only 31125 pairs.\n",
        "## Since the parallel region cannot exit until all threads finish their assigned work, some threads endup **idle** waiting for other threads to finish.\n",
        "## The problem of ensuring that all threads do around the same amount of work in parallel computing is called **load balancing**.\n",
        "## In this case the OpenMP loop scheduler is doing a poor job of **load balancing** because the nested for loop is **triangular**.\n",
        "## In particular, the number of inner loop iterations depends on *i*.  As *i* increases, the number of inner loop iterations decreases.\n",
        "## Thus in the case num_threads = 4, thread 0 which is assigned the small values of *i* ends up doing the most amount of work and thread 3 which is assigned the large values of *i* ends of doing the least amount of work.  \n"
      ],
      "metadata": {
        "id": "qzgAFiBKt5Ab"
      }
    },
    {
      "cell_type": "markdown",
      "source": [
        "## Fortunately, OpenMP has the **collapse(k)** clause that we can use to fix this problem.\n",
        "## Simply put, the **collapse(k)** clause transforms a nested for loop with k loops into a large single for loop and the iterations of the single for loop are divided so that each thread gets roughly the same number of iterations.\n",
        "## As an example the triangular nested loop\n",
        "    for (int i=0;i<3;i++) {\n",
        "        for (int j=i+1;j<4;j++) {\n",
        "            printf (\"%d %d\\n\",i,j);\n",
        "        }\n",
        "    }\n",
        "## which prints\n",
        "    0 1\n",
        "    0 2\n",
        "    0 3\n",
        "    1 2\n",
        "    1 3\n",
        "    2 3\n",
        "## is collapsed into something like\n",
        "    for (int p=0;p<6;p++) {\n",
        "        printf (\"%d %d\\n\",pairs[p].i,pairs[p].j);\n",
        "    }"
      ],
      "metadata": {
        "id": "LZ6t_nyKwvy-"
      }
    },
    {
      "cell_type": "markdown",
      "source": [
        "## For our final version 8 we add the collapse(2) clause since we have a double for loop."
      ],
      "metadata": {
        "id": "bpwtxfXqz3CW"
      }
    },
    {
      "cell_type": "code",
      "source": [
        "%%writefile omp_extreme_v8.c\n",
        "#include <stdio.h>\n",
        "#include <stdlib.h>\n",
        "#include <math.h>\n",
        "#include <omp.h>\n",
        "#include \"vec.h\"\n",
        "\n",
        "typedef struct {\n",
        "    double max_dist_sq;\n",
        "    int extreme_1, extreme_2;\n",
        "} extreme_info;\n",
        "\n",
        "extreme_info extreme_pair (double* data, int len, int dim) {\n",
        "    extreme_info info = { 0, -1, -1 };\n",
        "#pragma omp parallel default(none) shared(data,len,dim,info)\n",
        "    {\n",
        "        extreme_info thread_info = { 0, -1, -1 };\n",
        "#ifdef DIAG\n",
        "        int thread_pairs_checked = 0;\n",
        "#endif\n",
        "#pragma omp for collapse(2)\n",
        "        for (int i=0;i<len-1;i++) {\n",
        "            for (int j=i+1;j<len;j++) {\n",
        "                thread_pairs_checked += 1;\n",
        "                double dist_sq = vec_dist_sq(data+i*dim,data+j*dim,dim);\n",
        "                if (dist_sq > thread_info.max_dist_sq) {\n",
        "                    thread_info.max_dist_sq = dist_sq;\n",
        "                    thread_info.extreme_1 = i;\n",
        "                    thread_info.extreme_2 = j;\n",
        "                }\n",
        "            }\n",
        "        }\n",
        "#ifdef DIAG\n",
        "        int thread_num = omp_get_thread_num();\n",
        "        printf (\"thread %d checked %d pairs\\n\",thread_num,thread_pairs_checked);\n",
        "#endif\n",
        "#pragma omp critical\n",
        "        {\n",
        "            if (thread_info.max_dist_sq > info.max_dist_sq) {\n",
        "                info = thread_info;\n",
        "            }\n",
        "        }\n",
        "    }\n",
        "    return info;\n",
        "}\n",
        "\n",
        "int main (int argc, char** argv) {\n",
        "\n",
        "    // get num_threads from the command line\n",
        "    if (argc < 2) {\n",
        "        printf (\"Command usage : %s num_threads\\n\",argv[0]);\n",
        "        return 1;\n",
        "    }\n",
        "    int num_threads = atoi(argv[1]);\n",
        "    omp_set_num_threads(num_threads);\n",
        "\n",
        "    // read dataset with len points in R^dim\n",
        "    int len, dim;\n",
        "    if (scanf(\"%d %d\",&len,&dim) != 2) {\n",
        "        printf (\"error reading the length and dimension of the dataset\\n\");\n",
        "        return 1;\n",
        "    }\n",
        "    // allocate the (len x dim) data matrix on the heap using malloc\n",
        "    double* data = (double*)malloc(len*dim*sizeof(double));\n",
        "    if (data == NULL) {\n",
        "        printf (\"malloc failed to allocate data matrix\\n\");\n",
        "        return 1;\n",
        "    }\n",
        "    vec_read_dataset (data,len,dim);\n",
        "\n",
        "    // start the timer\n",
        "    double start_time, end_time;\n",
        "    start_time = omp_get_wtime();\n",
        "\n",
        "    // find the extreme pair\n",
        "    extreme_info info;\n",
        "    info = extreme_pair(data,len,dim);\n",
        "\n",
        "    // stop the timer\n",
        "    end_time = omp_get_wtime();\n",
        "\n",
        "    // print the results\n",
        "    printf (\"num_threads = %d, \",num_threads);\n",
        "    printf (\"elapsed time = %.4f seconds\\n\",end_time-start_time);\n",
        "    printf (\"Extreme Distance = %.2f\\n\",sqrt(info.max_dist_sq));\n",
        "    printf (\"Extreme Pair = %d %d\\n\",info.extreme_1,info.extreme_2);\n",
        "\n",
        "    // free the data matrix\n",
        "    free (data);\n",
        "}"
      ],
      "metadata": {
        "colab": {
          "base_uri": "https://localhost:8080/"
        },
        "id": "knjVPrE8kX_7",
        "outputId": "9bd5dee3-0b6e-4bde-b74a-191d7b494e80"
      },
      "execution_count": 116,
      "outputs": [
        {
          "output_type": "stream",
          "name": "stdout",
          "text": [
            "Writing omp_extreme_v8.c\n"
          ]
        }
      ]
    },
    {
      "cell_type": "markdown",
      "source": [
        "## Here are the results when running version 8 on matrix."
      ],
      "metadata": {
        "id": "dvedm5ajfr4V"
      }
    },
    {
      "cell_type": "markdown",
      "source": [
        "    $ gcc -DDIAG -o omp_extreme omp_extreme.c vec.c -lm -fopenmp\n",
        "    $ cat mnist1000.txt | ./omp_extreme 1\n",
        "    thread 0 checked 499500 pairs\n",
        "    num_threads = 1, elapsed time = 1.0712 seconds\n",
        "    Extreme Distance = 3797.52\n",
        "    Extreme Pair = 121 426\n",
        "    $ cat mnist1000.txt | ./omp_extreme 2\n",
        "    thread 0 checked 249750 pairs\n",
        "    thread 1 checked 249750 pairs\n",
        "    num_threads = 2, elapsed time = 0.5422 seconds\n",
        "    Extreme Distance = 3797.52\n",
        "    Extreme Pair = 121 426\n",
        "    $ cat mnist1000.txt | ./omp_extreme 4\n",
        "    thread 0 checked 124875 pairs\n",
        "    thread 2 checked 124875 pairs\n",
        "    thread 3 checked 124875 pairs\n",
        "    thread 1 checked 124875 pairs\n",
        "    num_threads = 4, elapsed time = 0.2918 seconds\n",
        "    Extreme Distance = 3797.52\n",
        "    Extreme Pair = 121 426\n"
      ],
      "metadata": {
        "id": "8K3lt96-1qL3"
      }
    },
    {
      "cell_type": "markdown",
      "source": [
        "## We note that each thread is now checking the same number of pairs!\n",
        "## The speedup for 2 threads is now $1.0712/0.5422 = 1.98$ with an ideal speedup of $2$.\n",
        "## The speedup for 4 threads is $1.0712/0.2918 = 3.67$ with an ideal speedup of $4$."
      ],
      "metadata": {
        "id": "9V7hzul22iwr"
      }
    },
    {
      "cell_type": "code",
      "source": [],
      "metadata": {
        "id": "WsuypwnS12HS"
      },
      "execution_count": null,
      "outputs": []
    }
  ]
}