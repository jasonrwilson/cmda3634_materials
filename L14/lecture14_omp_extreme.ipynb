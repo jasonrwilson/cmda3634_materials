{
  "nbformat": 4,
  "nbformat_minor": 0,
  "metadata": {
    "colab": {
      "provenance": []
    },
    "kernelspec": {
      "name": "python3",
      "display_name": "Python 3"
    },
    "language_info": {
      "name": "python"
    }
  },
  "cells": [
    {
      "cell_type": "markdown",
      "source": [
        "# Lecture 14 : OpenMP Extreme"
      ],
      "metadata": {
        "id": "XIpjA9ZTuG73"
      }
    },
    {
      "cell_type": "code",
      "execution_count": 1,
      "metadata": {
        "colab": {
          "base_uri": "https://localhost:8080/"
        },
        "id": "WKGbEwAEt-FJ",
        "outputId": "8b70d9cc-37b9-4615-9ac3-771ca14a9239"
      },
      "outputs": [
        {
          "output_type": "stream",
          "name": "stdout",
          "text": [
            "Cloning into 'cmda3634_materials'...\n",
            "remote: Enumerating objects: 199, done.\u001b[K\n",
            "remote: Counting objects: 100% (96/96), done.\u001b[K\n",
            "remote: Compressing objects: 100% (64/64), done.\u001b[K\n",
            "remote: Total 199 (delta 42), reused 65 (delta 32), pack-reused 103\u001b[K\n",
            "Receiving objects: 100% (199/199), 36.17 MiB | 8.75 MiB/s, done.\n",
            "Resolving deltas: 100% (96/96), done.\n"
          ]
        }
      ],
      "source": [
        "# clone a public repo on Github to download some data files\n",
        "!git clone https://github.com/jasonrwilson/cmda3634_materials.git"
      ]
    },
    {
      "cell_type": "code",
      "source": [
        "# copy the lecture 14 files to our working directory\n",
        "!cp cmda3634_materials/L14/* ."
      ],
      "metadata": {
        "id": "Uwcwt_Glt-5Y"
      },
      "execution_count": 2,
      "outputs": []
    },
    {
      "cell_type": "markdown",
      "source": [
        "# Part 1 : Sequential Code for Finding the Extreme Pair"
      ],
      "metadata": {
        "id": "7cF23bFsuNcS"
      }
    },
    {
      "cell_type": "code",
      "source": [
        "%%writefile extreme.c\n",
        "#include <stdio.h>\n",
        "#include <stdlib.h>\n",
        "#include <math.h>\n",
        "#include \"vec.h\"\n",
        "\n",
        "int main () {\n",
        "\n",
        "    // read the number of points and the dimension of each point\n",
        "    int num_points, dim;\n",
        "    if (scanf(\"%*c %d %d\",&num_points, &dim) != 2) {\n",
        "        printf (\"error reading the number of points and the dimension\\n\");\n",
        "        return 1;\n",
        "    }\n",
        "\n",
        "    // Read vectors from stdin and store them in a 2d array\n",
        "    double* data = (double*)malloc(num_points*dim*sizeof(double));\n",
        "    if (data == NULL) {\n",
        "        printf (\"malloc return NULL pointer!\\n\");\n",
        "        return 1;\n",
        "    }\n",
        "    for (int i=0;i<num_points;i++) {\n",
        "        if (vec_read_stdin(data+i*dim,dim) != dim) {\n",
        "            printf (\"error reading the next point from stdin\\n\");\n",
        "            return 1;\n",
        "        }\n",
        "    }\n",
        "\n",
        "    // find the extreme pair\n",
        "    double max_dist_sq = 0;\n",
        "    int extreme[2];\n",
        "    int pairs_checked = 0;\n",
        "    for (int i=0;i<num_points-1;i++) {\n",
        "        for (int j=i+1;j<num_points;j++) {\n",
        "            double dist_sq = vec_dist_sq(data+i*dim,data+j*dim,dim);\n",
        "\t        pairs_checked += 1;\n",
        "            if (dist_sq > max_dist_sq) {\n",
        "                max_dist_sq = dist_sq;\n",
        "                extreme[0] = i;\n",
        "                extreme[1] = j;\n",
        "            }\n",
        "        }\n",
        "    }\n",
        "\n",
        "    // output the results\n",
        "    printf (\"pairs checked = %d\\n\",pairs_checked);\n",
        "    printf (\"Extreme Distance = %.2f\\n\",sqrt(max_dist_sq));\n",
        "    printf (\"Extreme Pair = %d %d\\n\",extreme[0],extreme[1]);\n",
        "\n",
        "    // free memory allocated for dataset\n",
        "    free(data);\n",
        "}"
      ],
      "metadata": {
        "colab": {
          "base_uri": "https://localhost:8080/"
        },
        "id": "uPFWvNguuK6j",
        "outputId": "3c950456-cc48-4592-ffff-3a0cda5c0249"
      },
      "execution_count": 3,
      "outputs": [
        {
          "output_type": "stream",
          "name": "stdout",
          "text": [
            "Writing extreme.c\n"
          ]
        }
      ]
    },
    {
      "cell_type": "code",
      "source": [
        "!gcc -o extreme extreme.c vec.c -lm"
      ],
      "metadata": {
        "id": "tiwoLhjNurT6"
      },
      "execution_count": 5,
      "outputs": []
    },
    {
      "cell_type": "code",
      "source": [
        "!time cat points10k.txt | ./extreme"
      ],
      "metadata": {
        "colab": {
          "base_uri": "https://localhost:8080/"
        },
        "id": "EN2XqABDus7D",
        "outputId": "92f7a075-ad9f-461d-8ca2-b8c89b9801bf"
      },
      "execution_count": 6,
      "outputs": [
        {
          "output_type": "stream",
          "name": "stdout",
          "text": [
            "pairs checked = 49995000\n",
            "Extreme Distance = 25.52\n",
            "Extreme Pair = 929 9395\n",
            "\n",
            "real\t0m0.786s\n",
            "user\t0m0.758s\n",
            "sys\t0m0.007s\n"
          ]
        }
      ]
    },
    {
      "cell_type": "code",
      "source": [
        "!time cat mnist1000.txt | ./extreme"
      ],
      "metadata": {
        "colab": {
          "base_uri": "https://localhost:8080/"
        },
        "id": "VaLZbWcpvKCx",
        "outputId": "72205876-b11b-4273-f749-b6f98049c421"
      },
      "execution_count": 7,
      "outputs": [
        {
          "output_type": "stream",
          "name": "stdout",
          "text": [
            "pairs checked = 499500\n",
            "Extreme Distance = 3797.52\n",
            "Extreme Pair = 121 426\n",
            "\n",
            "real\t0m2.235s\n",
            "user\t0m2.181s\n",
            "sys\t0m0.017s\n"
          ]
        }
      ]
    },
    {
      "cell_type": "code",
      "source": [
        "!time cat mnist2000.txt | ./extreme"
      ],
      "metadata": {
        "colab": {
          "base_uri": "https://localhost:8080/"
        },
        "id": "Ss6vNurMvNAP",
        "outputId": "726abf13-ec9e-44d6-d9ca-7bad8f0b5e54"
      },
      "execution_count": 8,
      "outputs": [
        {
          "output_type": "stream",
          "name": "stdout",
          "text": [
            "pairs checked = 1999000\n",
            "Extreme Distance = 3928.75\n",
            "Extreme Pair = 1618 1895\n",
            "\n",
            "real\t0m7.420s\n",
            "user\t0m7.280s\n",
            "sys\t0m0.023s\n"
          ]
        }
      ]
    },
    {
      "cell_type": "code",
      "source": [
        "!time cat mnist10000.txt | ./extreme"
      ],
      "metadata": {
        "colab": {
          "base_uri": "https://localhost:8080/"
        },
        "id": "hqDQQkU7vPxF",
        "outputId": "ea924cc6-85a6-4dad-b812-479ec107279c"
      },
      "execution_count": 9,
      "outputs": [
        {
          "output_type": "stream",
          "name": "stdout",
          "text": [
            "pairs checked = 49995000\n",
            "Extreme Distance = 4097.95\n",
            "Extreme Pair = 5977 6412\n",
            "\n",
            "real\t2m50.579s\n",
            "user\t2m49.319s\n",
            "sys\t0m0.125s\n"
          ]
        }
      ]
    },
    {
      "cell_type": "markdown",
      "source": [
        "## Note that finding the extreme pair is a $O(n^2)$ algorithm.  \n",
        "## For a large the sequential code takes almost 3 minutes.  \n",
        "## We can substantially reduce the runtime by checking for the extreme pair in parallel."
      ],
      "metadata": {
        "id": "4-hCa9r1weK1"
      }
    },
    {
      "cell_type": "markdown",
      "source": [
        "# Part 2 : OpenMP Version of Extreme"
      ],
      "metadata": {
        "id": "7B4yB1CLw3k8"
      }
    },
    {
      "cell_type": "markdown",
      "source": [
        "## For version 1 of the OpenMP code we will add a command line argument to read in the number of threads and add OpenMP timing code to the double for loop.  "
      ],
      "metadata": {
        "id": "hg6MdHHpw81a"
      }
    },
    {
      "cell_type": "code",
      "source": [
        "%%writefile omp_extreme_v1.c\n",
        "#include <stdio.h>\n",
        "#include <stdlib.h>\n",
        "#include <math.h>\n",
        "#include <omp.h>\n",
        "#include \"vec.h\"\n",
        "\n",
        "int main (int argc, char* argv[]) {\n",
        "\n",
        "    // get num_threads from the command line\n",
        "    if (argc < 2) {\n",
        "        printf (\"Command usage : %s %s\\n\",argv[0],\"num_threads\");\n",
        "        return 1;\n",
        "    }\n",
        "    int num_threads = atoi(argv[1]);\n",
        "    omp_set_num_threads(num_threads);\n",
        "\n",
        "    // read the number of points and the dimension of each point\n",
        "    int num_points, dim;\n",
        "    if (scanf(\"%*c %d %d\",&num_points, &dim) != 2) {\n",
        "        printf (\"error reading the number of points and the dimension\\n\");\n",
        "        return 1;\n",
        "    }\n",
        "\n",
        "    // read vectors from stdin and store them in a 2d array\n",
        "    double* data = (double*)malloc(num_points*dim*sizeof(double));\n",
        "    if (data == NULL) {\n",
        "        printf (\"malloc return NULL pointer!\\n\");\n",
        "        return 1;\n",
        "    }\n",
        "    for (int i=0;i<num_points;i++) {\n",
        "        if (vec_read_stdin(data+i*dim,dim) != dim) {\n",
        "            printf (\"error reading the next point from stdin\\n\");\n",
        "            return 1;\n",
        "        }\n",
        "    }\n",
        "\n",
        "    // start the timer\n",
        "    double start_time, end_time;\n",
        "    start_time = omp_get_wtime();\n",
        "\n",
        "    // find the extreme pair\n",
        "    double max_dist_sq = 0;\n",
        "    int extreme[2];\n",
        "    int pairs_checked = 0;\n",
        "    for (int i=0;i<num_points-1;i++) {\n",
        "        for (int j=i+1;j<num_points;j++) {\n",
        "            double dist_sq = vec_dist_sq(data+i*dim,data+j*dim,dim);\n",
        "\t    pairs_checked += 1;\n",
        "            if (dist_sq > max_dist_sq) {\n",
        "                max_dist_sq = dist_sq;\n",
        "                extreme[0] = i;\n",
        "                extreme[1] = j;\n",
        "            }\n",
        "        }\n",
        "    }\n",
        "\n",
        "    // stop the timer\n",
        "    end_time = omp_get_wtime();\n",
        "\n",
        "    // output the results\n",
        "    printf (\"num_threads = %d, \",num_threads);\n",
        "    printf (\"elapsed time = %.6f seconds\\n\",end_time-start_time);\n",
        "    printf (\"pairs checked = %d\\n\",pairs_checked);\n",
        "    printf (\"Extreme Distance = %.2f\\n\",sqrt(max_dist_sq));\n",
        "    printf (\"Extreme Pair = %d %d\\n\",extreme[0],extreme[1]);\n",
        "\n",
        "    // free memory allocated for dataset\n",
        "    free(data);\n",
        "}"
      ],
      "metadata": {
        "colab": {
          "base_uri": "https://localhost:8080/"
        },
        "id": "WRONJIaBvVnj",
        "outputId": "61331773-875f-4c52-edc5-d7394a573ed1"
      },
      "execution_count": 11,
      "outputs": [
        {
          "output_type": "stream",
          "name": "stdout",
          "text": [
            "Writing omp_extreme_v1.c\n"
          ]
        }
      ]
    },
    {
      "cell_type": "markdown",
      "source": [
        "## In version 2, we add the create a parallel region that includes the double for loop."
      ],
      "metadata": {
        "id": "2TvWmMnNyTLi"
      }
    },
    {
      "cell_type": "code",
      "source": [
        "%%writefile omp_extreme_v2.c\n",
        "#include <stdio.h>\n",
        "#include <stdlib.h>\n",
        "#include <math.h>\n",
        "#include <omp.h>\n",
        "#include \"vec.h\"\n",
        "\n",
        "int main (int argc, char* argv[]) {\n",
        "\n",
        "    // get num_threads from the command line\n",
        "    if (argc < 2) {\n",
        "        printf (\"Command usage : %s %s\\n\",argv[0],\"num_threads\");\n",
        "        return 1;\n",
        "    }\n",
        "    int num_threads = atoi(argv[1]);\n",
        "    omp_set_num_threads(num_threads);\n",
        "\n",
        "    // read the number of points and the dimension of each point\n",
        "    int num_points, dim;\n",
        "    if (scanf(\"%*c %d %d\",&num_points, &dim) != 2) {\n",
        "        printf (\"error reading the number of points and the dimension\\n\");\n",
        "        return 1;\n",
        "    }\n",
        "\n",
        "    // read vectors from stdin and store them in a 2d array\n",
        "    double* data = (double*)malloc(num_points*dim*sizeof(double));\n",
        "    if (data == NULL) {\n",
        "        printf (\"malloc return NULL pointer!\\n\");\n",
        "        return 1;\n",
        "    }\n",
        "    for (int i=0;i<num_points;i++) {\n",
        "        if (vec_read_stdin(data+i*dim,dim) != dim) {\n",
        "            printf (\"error reading the next point from stdin\\n\");\n",
        "            return 1;\n",
        "        }\n",
        "    }\n",
        "\n",
        "    // start the timer\n",
        "    double start_time, end_time;\n",
        "    start_time = omp_get_wtime();\n",
        "\n",
        "    // find the extreme pair\n",
        "    double max_dist_sq = 0;\n",
        "    int extreme[2];\n",
        "    int pairs_checked = 0;\n",
        "\n",
        "#pragma omp parallel\n",
        "    {\n",
        "\t    for (int i=0;i<num_points-1;i++) {\n",
        "\t        for (int j=i+1;j<num_points;j++) {\n",
        "\t\t        double dist_sq = vec_dist_sq(data+i*dim,data+j*dim,dim);\n",
        "\t\t        pairs_checked += 1;\n",
        "\t\t        if (dist_sq > max_dist_sq) {\n",
        "\t\t            max_dist_sq = dist_sq;\n",
        "\t\t            extreme[0] = i;\n",
        "\t\t            extreme[1] = j;\n",
        "\t\t        }\n",
        "\t        }\n",
        "\t    }\n",
        "    }\n",
        "\n",
        "    // stop the timer\n",
        "    end_time = omp_get_wtime();\n",
        "\n",
        "    // output the results\n",
        "    printf (\"num_threads = %d, \",num_threads);\n",
        "    printf (\"elapsed time = %.6f seconds\\n\",end_time-start_time);\n",
        "    printf (\"pairs checked = %d\\n\",pairs_checked);\n",
        "    printf (\"Extreme Distance = %.2f\\n\",sqrt(max_dist_sq));\n",
        "    printf (\"Extreme Pair = %d %d\\n\",extreme[0],extreme[1]);\n",
        "\n",
        "    // free memory allocated for dataset\n",
        "    free(data);\n",
        "}"
      ],
      "metadata": {
        "colab": {
          "base_uri": "https://localhost:8080/"
        },
        "id": "570XIZOPxwhc",
        "outputId": "6382ca47-7653-4b9a-9779-3cb53b2a5e35"
      },
      "execution_count": 29,
      "outputs": [
        {
          "output_type": "stream",
          "name": "stdout",
          "text": [
            "Overwriting omp_extreme_v2.c\n"
          ]
        }
      ]
    },
    {
      "cell_type": "markdown",
      "source": [
        "## In version 3, we will assign the loop iterations of the outer loop to threads so that each thread gets approximately the same number of loop iterations."
      ],
      "metadata": {
        "id": "bDN2kmXezgYH"
      }
    },
    {
      "cell_type": "code",
      "source": [
        "%%writefile omp_extreme_v3.c\n",
        "#include <stdio.h>\n",
        "#include <stdlib.h>\n",
        "#include <math.h>\n",
        "#include <omp.h>\n",
        "#include \"vec.h\"\n",
        "\n",
        "int main (int argc, char* argv[]) {\n",
        "\n",
        "    // get num_threads from the command line\n",
        "    if (argc < 2) {\n",
        "        printf (\"Command usage : %s %s\\n\",argv[0],\"num_threads\");\n",
        "        return 1;\n",
        "    }\n",
        "    int num_threads = atoi(argv[1]);\n",
        "    omp_set_num_threads(num_threads);\n",
        "\n",
        "    // read the number of points and the dimension of each point\n",
        "    int num_points, dim;\n",
        "    if (scanf(\"%*c %d %d\",&num_points, &dim) != 2) {\n",
        "        printf (\"error reading the number of points and the dimension\\n\");\n",
        "        return 1;\n",
        "    }\n",
        "\n",
        "    // read vectors from stdin and store them in a 2d array\n",
        "    double* data = (double*)malloc(num_points*dim*sizeof(double));\n",
        "    if (data == NULL) {\n",
        "        printf (\"malloc return NULL pointer!\\n\");\n",
        "        return 1;\n",
        "    }\n",
        "    for (int i=0;i<num_points;i++) {\n",
        "        if (vec_read_stdin(data+i*dim,dim) != dim) {\n",
        "            printf (\"error reading the next point from stdin\\n\");\n",
        "            return 1;\n",
        "        }\n",
        "    }\n",
        "\n",
        "    // start the timer\n",
        "    double start_time, end_time;\n",
        "    start_time = omp_get_wtime();\n",
        "\n",
        "    // find the extreme pair\n",
        "    double max_dist_sq = 0;\n",
        "    int extreme[2];\n",
        "    int pairs_checked = 0;\n",
        "\n",
        "#pragma omp parallel\n",
        "    {\n",
        "        int thread_num = omp_get_thread_num();\n",
        "\t    for (int i=0+thread_num;i<num_points-1;i+=num_threads) {\n",
        "\t        for (int j=i+1;j<num_points;j++) {\n",
        "\t\t        double dist_sq = vec_dist_sq(data+i*dim,data+j*dim,dim);\n",
        "\t\t        pairs_checked += 1;\n",
        "\t\t        if (dist_sq > max_dist_sq) {\n",
        "\t\t            max_dist_sq = dist_sq;\n",
        "\t\t            extreme[0] = i;\n",
        "\t\t            extreme[1] = j;\n",
        "\t\t        }\n",
        "\t        }\n",
        "\t    }\n",
        "    }\n",
        "\n",
        "    // stop the timer\n",
        "    end_time = omp_get_wtime();\n",
        "\n",
        "    // output the results\n",
        "    printf (\"num_threads = %d, \",num_threads);\n",
        "    printf (\"elapsed time = %.6f seconds\\n\",end_time-start_time);\n",
        "    printf (\"pairs checked = %d\\n\",pairs_checked);\n",
        "    printf (\"Extreme Distance = %.2f\\n\",sqrt(max_dist_sq));\n",
        "    printf (\"Extreme Pair = %d %d\\n\",extreme[0],extreme[1]);\n",
        "\n",
        "    // free memory allocated for dataset\n",
        "    free(data);\n",
        "}"
      ],
      "metadata": {
        "colab": {
          "base_uri": "https://localhost:8080/"
        },
        "id": "FcUifnsSykFS",
        "outputId": "b1f3bd63-672d-4ac9-924c-28ac89a650a5"
      },
      "execution_count": 33,
      "outputs": [
        {
          "output_type": "stream",
          "name": "stdout",
          "text": [
            "Writing omp_extreme_v3.c\n"
          ]
        }
      ]
    },
    {
      "cell_type": "markdown",
      "source": [
        "## In version 4, we specify the shared variables"
      ],
      "metadata": {
        "id": "AyEw1Dcd1dM1"
      }
    },
    {
      "cell_type": "code",
      "source": [
        "%%writefile omp_extreme_v4.c\n",
        "#include <stdio.h>\n",
        "#include <stdlib.h>\n",
        "#include <math.h>\n",
        "#include <omp.h>\n",
        "#include \"vec.h\"\n",
        "\n",
        "int main (int argc, char* argv[]) {\n",
        "\n",
        "    // get num_threads from the command line\n",
        "    if (argc < 2) {\n",
        "        printf (\"Command usage : %s %s\\n\",argv[0],\"num_threads\");\n",
        "        return 1;\n",
        "    }\n",
        "    int num_threads = atoi(argv[1]);\n",
        "    omp_set_num_threads(num_threads);\n",
        "\n",
        "    // read the number of points and the dimension of each point\n",
        "    int num_points, dim;\n",
        "    if (scanf(\"%*c %d %d\",&num_points, &dim) != 2) {\n",
        "        printf (\"error reading the number of points and the dimension\\n\");\n",
        "        return 1;\n",
        "    }\n",
        "\n",
        "    // read vectors from stdin and store them in a 2d array\n",
        "    double* data = (double*)malloc(num_points*dim*sizeof(double));\n",
        "    if (data == NULL) {\n",
        "        printf (\"malloc return NULL pointer!\\n\");\n",
        "        return 1;\n",
        "    }\n",
        "    for (int i=0;i<num_points;i++) {\n",
        "        if (vec_read_stdin(data+i*dim,dim) != dim) {\n",
        "            printf (\"error reading the next point from stdin\\n\");\n",
        "            return 1;\n",
        "        }\n",
        "    }\n",
        "\n",
        "    // start the timer\n",
        "    double start_time, end_time;\n",
        "    start_time = omp_get_wtime();\n",
        "\n",
        "    // find the extreme pair\n",
        "    double max_dist_sq = 0;\n",
        "    int extreme[2];\n",
        "    int pairs_checked = 0;\n",
        "\n",
        "#pragma omp parallel default(none) shared(data,num_points,dim,max_dist_sq,extreme,num_threads,pairs_checked)\n",
        "    {\n",
        "        int thread_num = omp_get_thread_num();\n",
        "\t    for (int i=0+thread_num;i<num_points-1;i+=num_threads) {\n",
        "\t        for (int j=i+1;j<num_points;j++) {\n",
        "\t\t        double dist_sq = vec_dist_sq(data+i*dim,data+j*dim,dim);\n",
        "\t\t        pairs_checked += 1;\n",
        "\t\t        if (dist_sq > max_dist_sq) {\n",
        "\t\t            max_dist_sq = dist_sq;\n",
        "\t\t            extreme[0] = i;\n",
        "\t\t            extreme[1] = j;\n",
        "\t\t        }\n",
        "\t        }\n",
        "\t    }\n",
        "    }\n",
        "\n",
        "    // stop the timer\n",
        "    end_time = omp_get_wtime();\n",
        "\n",
        "    // output the results\n",
        "    printf (\"num_threads = %d, \",num_threads);\n",
        "    printf (\"elapsed time = %.6f seconds\\n\",end_time-start_time);\n",
        "    printf (\"pairs checked = %d\\n\",pairs_checked);\n",
        "    printf (\"Extreme Distance = %.2f\\n\",sqrt(max_dist_sq));\n",
        "    printf (\"Extreme Pair = %d %d\\n\",extreme[0],extreme[1]);\n",
        "\n",
        "    // free memory allocated for dataset\n",
        "    free(data);\n",
        "}"
      ],
      "metadata": {
        "colab": {
          "base_uri": "https://localhost:8080/"
        },
        "id": "oNjQOepo0H1y",
        "outputId": "4844f973-6a4a-4a1f-eace-6804e8e97ece"
      },
      "execution_count": 46,
      "outputs": [
        {
          "output_type": "stream",
          "name": "stdout",
          "text": [
            "Overwriting omp_extreme_v4.c\n"
          ]
        }
      ]
    },
    {
      "cell_type": "code",
      "source": [
        "%%writefile omp_extreme_v5.c\n",
        "#include <stdio.h>\n",
        "#include <stdlib.h>\n",
        "#include <math.h>\n",
        "#include <omp.h>\n",
        "#include \"vec.h\"\n",
        "\n",
        "int main (int argc, char* argv[]) {\n",
        "\n",
        "    // get num_threads from the command line\n",
        "    if (argc < 2) {\n",
        "        printf (\"Command usage : %s %s\\n\",argv[0],\"num_threads\");\n",
        "        return 1;\n",
        "    }\n",
        "    int num_threads = atoi(argv[1]);\n",
        "    omp_set_num_threads(num_threads);\n",
        "\n",
        "    // read the number of points and the dimension of each point\n",
        "    int num_points, dim;\n",
        "    if (scanf(\"%*c %d %d\",&num_points, &dim) != 2) {\n",
        "        printf (\"error reading the number of points and the dimension\\n\");\n",
        "        return 1;\n",
        "    }\n",
        "\n",
        "    // read vectors from stdin and store them in a 2d array\n",
        "    double* data = (double*)malloc(num_points*dim*sizeof(double));\n",
        "    if (data == NULL) {\n",
        "        printf (\"malloc return NULL pointer!\\n\");\n",
        "        return 1;\n",
        "    }\n",
        "    for (int i=0;i<num_points;i++) {\n",
        "        if (vec_read_stdin(data+i*dim,dim) != dim) {\n",
        "            printf (\"error reading the next point from stdin\\n\");\n",
        "            return 1;\n",
        "        }\n",
        "    }\n",
        "\n",
        "    // start the timer\n",
        "    double start_time, end_time;\n",
        "    start_time = omp_get_wtime();\n",
        "\n",
        "    // find the extreme pair\n",
        "    double max_dist_sq = 0;\n",
        "    int extreme[2];\n",
        "    int pairs_checked = 0;\n",
        "\n",
        "#pragma omp parallel default(none) shared(data,num_points,dim,max_dist_sq,extreme,num_threads,pairs_checked)\n",
        "    {\n",
        "        int thread_num = omp_get_thread_num();\n",
        "\t    for (int i=0+thread_num;i<num_points-1;i+=num_threads) {\n",
        "\t        for (int j=i+1;j<num_points;j++) {\n",
        "\t\t        double dist_sq = vec_dist_sq(data+i*dim,data+j*dim,dim);\n",
        "#pragma omp critical\n",
        "                {\n",
        "\t\t            pairs_checked += 1;\n",
        "\t\t            if (dist_sq > max_dist_sq) {\n",
        "\t\t                max_dist_sq = dist_sq;\n",
        "\t\t                extreme[0] = i;\n",
        "\t\t                extreme[1] = j;\n",
        "\t\t            }\n",
        "                }\n",
        "\t        }\n",
        "\t    }\n",
        "    }\n",
        "\n",
        "    // stop the timer\n",
        "    end_time = omp_get_wtime();\n",
        "\n",
        "    // output the results\n",
        "    printf (\"num_threads = %d, \",num_threads);\n",
        "    printf (\"elapsed time = %.6f seconds\\n\",end_time-start_time);\n",
        "    printf (\"pairs checked = %d\\n\",pairs_checked);\n",
        "    printf (\"Extreme Distance = %.2f\\n\",sqrt(max_dist_sq));\n",
        "    printf (\"Extreme Pair = %d %d\\n\",extreme[0],extreme[1]);\n",
        "\n",
        "    // free memory allocated for dataset\n",
        "    free(data);\n",
        "}"
      ],
      "metadata": {
        "colab": {
          "base_uri": "https://localhost:8080/"
        },
        "id": "R7tVpmu_11R8",
        "outputId": "abd3a081-a7a9-4e7e-bbce-62b19be75140"
      },
      "execution_count": 50,
      "outputs": [
        {
          "output_type": "stream",
          "name": "stdout",
          "text": [
            "Writing omp_extreme_v5.c\n"
          ]
        }
      ]
    },
    {
      "cell_type": "markdown",
      "source": [
        "## In version 6, we use local thread versions of the read/write shared variables to that each thread only enters the critical region one time."
      ],
      "metadata": {
        "id": "EuDI8NmL2n7P"
      }
    },
    {
      "cell_type": "code",
      "source": [
        "%%writefile omp_extreme_v6.c\n",
        "#include <stdio.h>\n",
        "#include <stdlib.h>\n",
        "#include <math.h>\n",
        "#include <omp.h>\n",
        "#include \"vec.h\"\n",
        "\n",
        "int main (int argc, char* argv[]) {\n",
        "\n",
        "    // get num_threads from the command line\n",
        "    if (argc < 2) {\n",
        "        printf (\"Command usage : %s %s\\n\",argv[0],\"num_threads\");\n",
        "        return 1;\n",
        "    }\n",
        "    int num_threads = atoi(argv[1]);\n",
        "    omp_set_num_threads(num_threads);\n",
        "\n",
        "    // read the number of points and the dimension of each point\n",
        "    int num_points, dim;\n",
        "    if (scanf(\"%*c %d %d\",&num_points, &dim) != 2) {\n",
        "        printf (\"error reading the number of points and the dimension\\n\");\n",
        "        return 1;\n",
        "    }\n",
        "\n",
        "    // read vectors from stdin and store them in a 2d array\n",
        "    double* data = (double*)malloc(num_points*dim*sizeof(double));\n",
        "    if (data == NULL) {\n",
        "        printf (\"malloc return NULL pointer!\\n\");\n",
        "        return 1;\n",
        "    }\n",
        "    for (int i=0;i<num_points;i++) {\n",
        "        if (vec_read_stdin(data+i*dim,dim) != dim) {\n",
        "            printf (\"error reading the next point from stdin\\n\");\n",
        "            return 1;\n",
        "        }\n",
        "    }\n",
        "\n",
        "    // start the timer\n",
        "    double start_time, end_time;\n",
        "    start_time = omp_get_wtime();\n",
        "\n",
        "    // find the extreme pair\n",
        "    double max_dist_sq = 0;\n",
        "    int extreme[2];\n",
        "    int pairs_checked = 0;\n",
        "\n",
        "#pragma omp parallel default(none) shared(data,num_points,dim,max_dist_sq,extreme,num_threads,pairs_checked)\n",
        "    {\n",
        "\t    double thread_max_dist_sq = 0;\n",
        "\t    int thread_extreme[2];\n",
        "\t    int thread_pairs_checked = 0;\n",
        "\t    int thread_num = omp_get_thread_num();\n",
        "\t    for (int i=0+thread_num;i<num_points-1;i+=num_threads) {\n",
        "\t        for (int j=i+1;j<num_points;j++) {\n",
        "\t\t        double dist_sq = vec_dist_sq(data+i*dim,data+j*dim,dim);\n",
        "\t\t        thread_pairs_checked += 1;\n",
        "\t\t        if (dist_sq > thread_max_dist_sq) {\n",
        "\t\t            thread_max_dist_sq = dist_sq;\n",
        "\t\t            thread_extreme[0] = i;\n",
        "\t\t            thread_extreme[1] = j;\n",
        "\t\t        }\n",
        "\t        }\n",
        "\t    }\n",
        "#pragma omp critical\n",
        "\t    {\n",
        "\t        pairs_checked += thread_pairs_checked;\n",
        "\t        if (thread_max_dist_sq > max_dist_sq) {\n",
        "\t\t        max_dist_sq = thread_max_dist_sq;\n",
        "\t\t        extreme[0] = thread_extreme[0];\n",
        "\t\t    extreme[1] = thread_extreme[1];\n",
        "\t        }\n",
        "\t    }\n",
        "    }\n",
        "\n",
        "    // stop the timer\n",
        "    end_time = omp_get_wtime();\n",
        "\n",
        "    // output the results\n",
        "    printf (\"num_threads = %d, \",num_threads);\n",
        "    printf (\"elapsed time = %.6f seconds\\n\",end_time-start_time);\n",
        "    printf (\"pairs checked = %d\\n\",pairs_checked);\n",
        "    printf (\"Extreme Distance = %.2f\\n\",sqrt(max_dist_sq));\n",
        "    printf (\"Extreme Pair = %d %d\\n\",extreme[0],extreme[1]);\n",
        "\n",
        "    // free memory allocated for dataset\n",
        "    free(data);\n",
        "}"
      ],
      "metadata": {
        "colab": {
          "base_uri": "https://localhost:8080/"
        },
        "id": "vJy7ZGWu2R97",
        "outputId": "6c1b4c69-2d10-43e6-c21f-3157e109dd41"
      },
      "execution_count": 61,
      "outputs": [
        {
          "output_type": "stream",
          "name": "stdout",
          "text": [
            "Overwriting omp_extreme_v6.c\n"
          ]
        }
      ]
    },
    {
      "cell_type": "code",
      "source": [],
      "metadata": {
        "id": "cjxCoDsJ3eOk"
      },
      "execution_count": null,
      "outputs": []
    }
  ]
}