{
  "nbformat": 4,
  "nbformat_minor": 0,
  "metadata": {
    "colab": {
      "provenance": []
    },
    "kernelspec": {
      "name": "python3",
      "display_name": "Python 3"
    },
    "language_info": {
      "name": "python"
    }
  },
  "cells": [
    {
      "cell_type": "markdown",
      "source": [
        "# Lecture 10 : Handwritten Digit Classification"
      ],
      "metadata": {
        "id": "4qT0fjs1i5-j"
      }
    },
    {
      "cell_type": "markdown",
      "source": [
        "## Python imports and parameter settings"
      ],
      "metadata": {
        "id": "v66xHEi5j6by"
      }
    },
    {
      "cell_type": "code",
      "source": [
        "import numpy as np\n",
        "import matplotlib.pyplot as plt\n",
        "import gzip\n",
        "plt.rcParams['figure.figsize'] = [8,6]"
      ],
      "metadata": {
        "id": "JgeMGp8hj5-J"
      },
      "execution_count": null,
      "outputs": []
    },
    {
      "cell_type": "markdown",
      "source": [
        "## Clone the materials repo on github to access datafiles."
      ],
      "metadata": {
        "id": "V_s7Xh_jjIkY"
      }
    },
    {
      "cell_type": "code",
      "execution_count": null,
      "metadata": {
        "colab": {
          "base_uri": "https://localhost:8080/"
        },
        "id": "ppm4aisCi4qn",
        "outputId": "97621a6b-b360-4866-b610-5a860defb673"
      },
      "outputs": [
        {
          "output_type": "stream",
          "name": "stdout",
          "text": [
            "Cloning into 'cmda3634_materials'...\n",
            "remote: Enumerating objects: 124, done.\u001b[K\n",
            "remote: Counting objects: 100% (21/21), done.\u001b[K\n",
            "remote: Compressing objects: 100% (20/20), done.\u001b[K\n",
            "remote: Total 124 (delta 7), reused 1 (delta 1), pack-reused 103\u001b[K\n",
            "Receiving objects: 100% (124/124), 12.19 MiB | 12.72 MiB/s, done.\n",
            "Resolving deltas: 100% (61/61), done.\n"
          ]
        }
      ],
      "source": [
        "!git clone https://github.com/jasonrwilson/cmda3634_materials"
      ]
    },
    {
      "cell_type": "markdown",
      "source": [
        "## Copy the lecture 10 files into our workspace."
      ],
      "metadata": {
        "id": "9Cb8Rz8cjQMJ"
      }
    },
    {
      "cell_type": "code",
      "source": [
        "!cp cmda3634_materials/L10/*.gz ."
      ],
      "metadata": {
        "id": "WT0rJQ_IjL22"
      },
      "execution_count": null,
      "outputs": []
    },
    {
      "cell_type": "markdown",
      "source": [
        "# Part 1 : Working with Grayscale Images in Python\n",
        "\n",
        "* Grayscale images are stored using a matrix where each entry in the matrix corresponds to the grayscale intensity of the pixel.\n",
        "\n",
        "* The grayscale intensity values range between 0 (black) and 255 (white).  \n",
        "\n",
        "* Since there are 256 possible values an intensity is typically stored using 8 bits (1 byte)."
      ],
      "metadata": {
        "id": "ZflC2iGujskz"
      }
    },
    {
      "cell_type": "code",
      "source": [
        "A = np.array([[0,0,0],[120,120,120],[240,240,240]])\n",
        "f, axarr = plt.subplots(1,2)\n",
        "axarr[0].imshow(A,cmap='gray',vmin=0, vmax=255)\n",
        "axarr[1].imshow(A.T,cmap='gray',vmin=0, vmax=255)\n",
        "axarr[0].axis('off')\n",
        "axarr[1].axis('off');"
      ],
      "metadata": {
        "colab": {
          "base_uri": "https://localhost:8080/",
          "height": 318
        },
        "id": "nZDVtBUmjXcr",
        "outputId": "3bf44c1b-d98e-4cf3-ed9c-1b568762d52a"
      },
      "execution_count": null,
      "outputs": [
        {
          "output_type": "display_data",
          "data": {
            "text/plain": [
              "<Figure size 800x600 with 2 Axes>"
            ],
            "image/png": "[encoded data removed]"
          },
          "metadata": {}
        }
      ]
    },
    {
      "cell_type": "markdown",
      "source": [
        "## Concept : We can flatten a $m \\times n$ matrix into a vector in $\\mathbb{R}^{mn}$.  \n",
        "\n",
        "## For example the matrix\n",
        "$$A = \\begin{bmatrix} 1 & 2 & 3 \\\\ 6 & 5 & 4 \\end{bmatrix}$$\n",
        "\n",
        "## can be flattened into the row vector in row-major order:\n",
        "$$\\mathbf{x}^T = \\begin{bmatrix} 1 & 2 & 3 & 6 & 5 & 4 \\end{bmatrix}$$\n",
        "\n",
        "## This technique allows us to store a set of image matrices as row vectors in a single matrix."
      ],
      "metadata": {
        "id": "wouiSNgfkLrf"
      }
    },
    {
      "cell_type": "code",
      "source": [
        "# Use a 9 x 9 matrix C to store 9 images where each image is 3 x 3\n",
        "C = np.zeros((9,9),dtype=np.uint8)\n",
        "for i in range(9):\n",
        "    for j in range(9):\n",
        "        C[i][j] = 15*i+15*j\n",
        "print ('printing all 9 images as rows in a single 9 x 9 matrix\\n')\n",
        "print (C)\n",
        "# Print the third image as a 3 x 3 matrix\n",
        "image = C[2].reshape(3,3)\n",
        "print ('printing the third image as a 3 x 3 matrix\\n',image)\n",
        "# Show all 9 images\n",
        "print ('showing all 9 images\\n')\n",
        "f, axarr = plt.subplots(1,9)\n",
        "for i in range(9):\n",
        "    image = C[i].reshape(3,3)\n",
        "    axarr[i].imshow(image,cmap='gray',vmin=0,vmax=255)\n",
        "    axarr[i].axis('off')"
      ],
      "metadata": {
        "colab": {
          "base_uri": "https://localhost:8080/",
          "height": 390
        },
        "id": "qIU5WA3SkGe5",
        "outputId": "7217d282-ce3c-485e-8dc3-92308038289e"
      },
      "execution_count": null,
      "outputs": [
        {
          "output_type": "stream",
          "name": "stdout",
          "text": [
            "printing all 9 images as rows in a single 9 x 9 matrix\n",
            "\n",
            "[[  0  15  30  45  60  75  90 105 120]\n",
            " [ 15  30  45  60  75  90 105 120 135]\n",
            " [ 30  45  60  75  90 105 120 135 150]\n",
            " [ 45  60  75  90 105 120 135 150 165]\n",
            " [ 60  75  90 105 120 135 150 165 180]\n",
            " [ 75  90 105 120 135 150 165 180 195]\n",
            " [ 90 105 120 135 150 165 180 195 210]\n",
            " [105 120 135 150 165 180 195 210 225]\n",
            " [120 135 150 165 180 195 210 225 240]]\n",
            "printing the third image as a 3 x 3 matrix\n",
            " [[ 30  45  60]\n",
            " [ 75  90 105]\n",
            " [120 135 150]]\n",
            "showing all 9 images\n",
            "\n"
          ]
        },
        {
          "output_type": "display_data",
          "data": {
            "text/plain": [
              "<Figure size 800x600 with 9 Axes>"
            ],
            "image/png": "[encoded data removed]"
          },
          "metadata": {}
        }
      ]
    },
    {
      "cell_type": "markdown",
      "source": [
        "# Part 2 : The MNIST Dataset\n",
        "\n",
        "## The MNIST Training Set\n",
        "\n",
        "### The MNIST training set has 60000 separate images and class labels."
      ],
      "metadata": {
        "id": "iuR0wzChk269"
      }
    },
    {
      "cell_type": "code",
      "source": [
        "# Opens MNIST training image set and stores it as a 60000 x 784 matrix\n",
        "# There are 60000 images, each of which is 28 x 28 pixels\n",
        "# Each image is stored as a 28x28 = 784 dimensional row vector in the matrix\n",
        "f = gzip.open('train-images-idx3-ubyte.gz','r')\n",
        "f.read(16) # skip file header\n",
        "buf = f.read(60000*28*28)\n",
        "data = np.frombuffer(buf,dtype=np.uint8)\n",
        "train = data.reshape(60000,28*28)\n",
        "print(train.shape)"
      ],
      "metadata": {
        "colab": {
          "base_uri": "https://localhost:8080/"
        },
        "id": "2kJWmc9ukYuP",
        "outputId": "c08a1b85-005d-4c1d-8f58-19350f7dae90"
      },
      "execution_count": null,
      "outputs": [
        {
          "output_type": "stream",
          "name": "stdout",
          "text": [
            "(60000, 784)\n"
          ]
        }
      ]
    },
    {
      "cell_type": "code",
      "source": [
        "# Opening and saving the 60000 training labels\n",
        "f = gzip.open('train-labels-idx1-ubyte.gz','r')\n",
        "f.read(8) #skip header\n",
        "buf = f.read(60000)\n",
        "train_labels = np.frombuffer(buf,dtype=np.uint8)\n",
        "print (train_labels.shape)"
      ],
      "metadata": {
        "colab": {
          "base_uri": "https://localhost:8080/"
        },
        "id": "-DSrpw4-k7Z6",
        "outputId": "bdf96447-4b71-4063-c75a-9a95015e4eb7"
      },
      "execution_count": null,
      "outputs": [
        {
          "output_type": "stream",
          "name": "stdout",
          "text": [
            "(60000,)\n"
          ]
        }
      ]
    },
    {
      "cell_type": "code",
      "source": [
        "# plot 2 training images with labels\n",
        "train_1 = 7\n",
        "train_2 = 15\n",
        "f, axarr = plt.subplots(1,2)\n",
        "image1 = train[train_1].reshape(28,28)\n",
        "image2 = train[train_2].reshape(28,28)\n",
        "axarr[0].imshow(image1,cmap='gray',vmin=0, vmax=255)\n",
        "axarr[1].imshow(image2,cmap='gray',vmin=0, vmax=255)\n",
        "axarr[0].set_title('training image '+str(train_1)+' has label '+str(train_labels[train_1]))\n",
        "axarr[1].set_title('training image '+str(train_2)+' has label '+str(train_labels[train_2]))\n",
        "axarr[0].axis('off')\n",
        "axarr[1].axis('off');"
      ],
      "metadata": {
        "colab": {
          "base_uri": "https://localhost:8080/",
          "height": 341
        },
        "id": "yfmPBGtkk_4b",
        "outputId": "2e36f221-3982-4abc-9d30-ea703e6e567c"
      },
      "execution_count": null,
      "outputs": [
        {
          "output_type": "display_data",
          "data": {
            "text/plain": [
              "<Figure size 800x600 with 2 Axes>"
            ],
            "image/png": "[encoded data removed]"
          },
          "metadata": {}
        }
      ]
    },
    {
      "cell_type": "markdown",
      "source": [
        "## The MNIST Test Set\n",
        "\n",
        "### To test how well our classifier *generalizes* we need to run it on *test data*.\n",
        "### It is critical that our *test data* is *separate* from our *training data*.\n",
        "### Fortunately there is a MNIST test set with 10000 separate images and class labels."
      ],
      "metadata": {
        "id": "ohTJKWX6lYiO"
      }
    },
    {
      "cell_type": "code",
      "source": [
        "# Opens MNIST test image set and stores it as a 10000 x 784 matrix\n",
        "# There are 10000 images, each of which is 28 x 28 pixels\n",
        "# Each image is stored as a 28x28 = 784 dimensional row vector in the matrix\n",
        "f = gzip.open('t10k-images-idx3-ubyte.gz','r')\n",
        "f.read(16) # skip header\n",
        "buf = f.read(10000*28*28)\n",
        "data = np.frombuffer(buf,dtype=np.uint8)\n",
        "test = data.reshape(10000,28*28)\n",
        "print(test.shape)"
      ],
      "metadata": {
        "colab": {
          "base_uri": "https://localhost:8080/"
        },
        "id": "iKI5wq4clQOP",
        "outputId": "5dd11df3-8c5f-471b-d062-5d95d8c38e57"
      },
      "execution_count": null,
      "outputs": [
        {
          "output_type": "stream",
          "name": "stdout",
          "text": [
            "(10000, 784)\n"
          ]
        }
      ]
    },
    {
      "cell_type": "code",
      "source": [
        "#Opening and saving the 10000 test labels\n",
        "f = gzip.open('t10k-labels-idx1-ubyte.gz','r')\n",
        "f.read(8) #skip header\n",
        "buf = f.read(10000)\n",
        "test_labels = np.frombuffer(buf,dtype=np.uint8)\n",
        "print (test_labels.shape)"
      ],
      "metadata": {
        "colab": {
          "base_uri": "https://localhost:8080/"
        },
        "id": "LvC8t3yElece",
        "outputId": "a442fe5c-6afc-4945-f4e9-8a72f8efb269"
      },
      "execution_count": null,
      "outputs": [
        {
          "output_type": "stream",
          "name": "stdout",
          "text": [
            "(10000,)\n"
          ]
        }
      ]
    },
    {
      "cell_type": "code",
      "source": [
        "# plot 2 test images with labels\n",
        "test_1 = 7\n",
        "test_2 = 12\n",
        "f, axarr = plt.subplots(1,2)\n",
        "image1 = test[test_1].reshape(28,28)\n",
        "image2 = test[test_2].reshape(28,28)\n",
        "axarr[0].imshow(image1,cmap='gray',vmin=0, vmax=255)\n",
        "axarr[1].imshow(image2,cmap='gray',vmin=0, vmax=255)\n",
        "axarr[0].set_title('test image '+str(test_1)+' has label '+str(test_labels[test_1]))\n",
        "axarr[1].set_title('test image '+str(test_2)+' has label '+str(test_labels[test_2]))\n",
        "axarr[0].axis('off')\n",
        "axarr[1].axis('off');"
      ],
      "metadata": {
        "colab": {
          "base_uri": "https://localhost:8080/",
          "height": 341
        },
        "id": "hA_exL7_l7qV",
        "outputId": "388e9973-1926-4be1-8c87-5c80bd15ca78"
      },
      "execution_count": null,
      "outputs": [
        {
          "output_type": "display_data",
          "data": {
            "text/plain": [
              "<Figure size 800x600 with 2 Axes>"
            ],
            "image/png": "[encoded data removed]"
          },
          "metadata": {}
        }
      ]
    },
    {
      "cell_type": "markdown",
      "source": [
        "# Part 3 : Nearest Neighbor Classification"
      ],
      "metadata": {
        "id": "EtNbbvp9mDiM"
      }
    },
    {
      "cell_type": "code",
      "source": [
        "# find the index of the training image closest to the test image with the given index\n",
        "# note that we interpret the image data as 32 bit integers to avoid overflow\n",
        "def nearest_train_index(train,test,test_index):\n",
        "    min_dist_sq = np.inf\n",
        "    for i in range(len(train)):\n",
        "        diff = train[i].astype(np.int32)-test[test_index].astype(np.int32)\n",
        "        dist_sq = np.dot(diff,diff)\n",
        "        if (dist_sq < min_dist_sq):\n",
        "            min_dist_sq = dist_sq\n",
        "            nearest_train_index = i\n",
        "    return nearest_train_index"
      ],
      "metadata": {
        "id": "gnM2hVeyl-NV"
      },
      "execution_count": null,
      "outputs": []
    },
    {
      "cell_type": "code",
      "source": [
        "%%time\n",
        "test_index = 2342\n",
        "train_index = nearest_train_index(train,test,test_index)\n",
        "f, axarr = plt.subplots(1,2)\n",
        "image1 = test[test_index].reshape(28,28)\n",
        "image2 = train[train_index].reshape(28,28)\n",
        "axarr[0].imshow(image1,cmap='gray',vmin=0, vmax=255)\n",
        "axarr[1].imshow(image2,cmap='gray',vmin=0, vmax=255)\n",
        "axarr[0].title.set_text('test image: label = '+str(test_labels[test_index]))\n",
        "axarr[1].title.set_text('nearest training image: label = '+str(train_labels[train_index]))"
      ],
      "metadata": {
        "colab": {
          "base_uri": "https://localhost:8080/",
          "height": 399
        },
        "id": "AoM-MNj0mVCC",
        "outputId": "f2b94b16-87ce-426c-f512-3bac0f4121ef"
      },
      "execution_count": null,
      "outputs": [
        {
          "output_type": "stream",
          "name": "stdout",
          "text": [
            "CPU times: user 624 ms, sys: 2.05 ms, total: 626 ms\n",
            "Wall time: 886 ms\n"
          ]
        },
        {
          "output_type": "display_data",
          "data": {
            "text/plain": [
              "<Figure size 800x600 with 2 Axes>"
            ],
            "image/png": "[encoded data removed]"
          },
          "metadata": {}
        }
      ]
    },
    {
      "cell_type": "markdown",
      "source": [
        "## To classify a test image using nearest neighbor classification, we choose the class of the nearest training image.  "
      ],
      "metadata": {
        "id": "CO4lYmEHmpHD"
      }
    },
    {
      "cell_type": "code",
      "source": [
        "%%time\n",
        "# to find images that are classified incorrectly use range(1100,1120)\n",
        "classify_errors = 0\n",
        "test_start = 0\n",
        "num_test = 20\n",
        "for test_index in range(test_start,test_start+num_test):\n",
        "    train_index = nearest_train_index(train,test,test_index)\n",
        "    if (test_labels[test_index] != train_labels[train_index]):\n",
        "        classify_errors += 1\n",
        "        print ('*',end=\"\")\n",
        "    print (test_index,train_index,test_labels[test_index],train_labels[train_index])\n",
        "print ('number of digits classified incorrectly =',classify_errors)\n",
        "print ('classificiation rate =',(num_test-classify_errors)/num_test)"
      ],
      "metadata": {
        "colab": {
          "base_uri": "https://localhost:8080/"
        },
        "id": "kOP6_TWRmaZF",
        "outputId": "c616af3e-5259-4044-ba8a-6090fd0a9b23"
      },
      "execution_count": null,
      "outputs": [
        {
          "output_type": "stream",
          "name": "stdout",
          "text": [
            "0 53843 7 7\n",
            "1 28882 2 2\n",
            "2 58741 1 1\n",
            "3 29044 0 0\n",
            "4 52920 4 4\n",
            "5 30809 1 1\n",
            "6 18279 4 4\n",
            "7 41982 9 9\n",
            "8 52896 5 5\n",
            "9 5044 9 9\n",
            "10 49939 0 0\n",
            "11 36036 6 6\n",
            "12 55477 9 9\n",
            "13 32899 0 0\n",
            "14 39152 1 1\n",
            "15 18418 5 5\n",
            "16 25215 9 9\n",
            "17 53483 7 7\n",
            "18 29246 3 3\n",
            "19 55328 4 4\n",
            "number of digits classified incorrectly = 0\n",
            "classificiation rate = 1.0\n",
            "CPU times: user 8.58 s, sys: 40.7 ms, total: 8.62 s\n",
            "Wall time: 12.4 s\n"
          ]
        }
      ]
    },
    {
      "cell_type": "markdown",
      "source": [
        "## Let's visualize a test image that the nearest neighbor classifier missed on."
      ],
      "metadata": {
        "id": "8WQWUZhXnOlZ"
      }
    },
    {
      "cell_type": "code",
      "source": [
        "test_index = 1114\n",
        "train_index = nearest_train_index(train,test,test_index)\n",
        "f, axarr = plt.subplots(1,2)\n",
        "image1 = test[test_index].reshape(28,28)\n",
        "image2 = train[train_index].reshape(28,28)\n",
        "axarr[0].imshow(image1,cmap='gray',vmin=0, vmax=255)\n",
        "axarr[1].imshow(image2,cmap='gray',vmin=0, vmax=255)\n",
        "axarr[0].title.set_text('test image: label = '+str(test_labels[test_index]))\n",
        "axarr[1].title.set_text('nearest training image: label = '+str(train_labels[train_index]))"
      ],
      "metadata": {
        "colab": {
          "base_uri": "https://localhost:8080/",
          "height": 364
        },
        "id": "xOJrcouLmsgW",
        "outputId": "b7bd9ae9-b312-48f6-f893-cda38c929cb1"
      },
      "execution_count": null,
      "outputs": [
        {
          "output_type": "display_data",
          "data": {
            "text/plain": [
              "<Figure size 800x600 with 2 Axes>"
            ],
            "image/png": "[encoded data removed]"
          },
          "metadata": {}
        }
      ]
    },
    {
      "cell_type": "markdown",
      "source": [
        "## What do you notice about doing digit classification using nearest neighbor search in Python?\n",
        "\n",
        "## **Answer:**"
      ],
      "metadata": {
        "id": "k1BK-bTI7Azn"
      }
    },
    {
      "cell_type": "markdown",
      "source": [
        "# Part 4 : Calling C Functions From Python"
      ],
      "metadata": {
        "id": "I-kSAAeKqXuR"
      }
    },
    {
      "cell_type": "markdown",
      "source": [
        "## Recall that **train** is a 2d numpy array with 60000 rows that stores the MNIST training set.  \n",
        "\n",
        "## Each row is a 28x28 image matrix that has been flattened into a 784 dimensional row vector.  "
      ],
      "metadata": {
        "id": "9FUvuholtIwG"
      }
    },
    {
      "cell_type": "code",
      "source": [
        "print (train.shape)\n",
        "print (train.flags)\n",
        "print (train.dtype)"
      ],
      "metadata": {
        "colab": {
          "base_uri": "https://localhost:8080/"
        },
        "id": "H3RHDHtTpc5h",
        "outputId": "883b5e0d-a31e-40a2-f5dd-4def28f5352c"
      },
      "execution_count": 35,
      "outputs": [
        {
          "output_type": "stream",
          "name": "stdout",
          "text": [
            "(60000, 784)\n",
            "  C_CONTIGUOUS : True\n",
            "  F_CONTIGUOUS : False\n",
            "  OWNDATA : False\n",
            "  WRITEABLE : False\n",
            "  ALIGNED : True\n",
            "  WRITEBACKIFCOPY : False\n",
            "\n",
            "uint8\n"
          ]
        }
      ]
    },
    {
      "cell_type": "markdown",
      "source": [
        "## C_CONTIGUOUS = True means that the elements of the 2d array are stored in a C-style row-major order. In other words, the last index of the array changes the fastest as you traverse the array."
      ],
      "metadata": {
        "id": "PEcjJPXqtAcl"
      }
    },
    {
      "cell_type": "markdown",
      "source": [
        "## We will learn how to process C_CONTIGUOUS numpy arrays in when calling C code from Python.\n",
        "\n",
        "## This will enable us to get the number crunching performance advantages of using C while retaining the simplicity of Python for tasks such as file I/O, visualization, etc.  "
      ],
      "metadata": {
        "id": "iw3UUceWtbQS"
      }
    },
    {
      "cell_type": "markdown",
      "source": [
        "## Let's look at a simple example before diving into how to speed up our digit classifier using C.\n",
        "\n",
        "## Note that when using C and Python together it is crucial that you carefully specify the type of your Python array elements so that it is clear how many bytes each element requires.  \n",
        "\n",
        "## In this example, we specify that the elements of A are of type int32 which is a 4 byte integer (the same number of bytes as a C int).  "
      ],
      "metadata": {
        "id": "cfRCxVXPt-CF"
      }
    },
    {
      "cell_type": "code",
      "source": [
        "%%writefile print2d.py\n",
        "import numpy as np\n",
        "# create 2d array\n",
        "A = np.array([[ 1, 2, 3, 4 ], [ 5, 6, 7, 8 ], [ 9, 10, 11, 12 ] ],dtype='int32')\n",
        "# print 2d array\n",
        "print (A)"
      ],
      "metadata": {
        "colab": {
          "base_uri": "https://localhost:8080/"
        },
        "id": "iKI9OaC6qsmJ",
        "outputId": "d0be9fae-002e-43a4-e5ec-8d3989706d55"
      },
      "execution_count": null,
      "outputs": [
        {
          "output_type": "stream",
          "name": "stdout",
          "text": [
            "Writing print2d.py\n"
          ]
        }
      ]
    },
    {
      "cell_type": "code",
      "source": [
        "!python3 print2d.py"
      ],
      "metadata": {
        "colab": {
          "base_uri": "https://localhost:8080/"
        },
        "id": "7rIa0D5Nudm-",
        "outputId": "f12865d0-0e9b-4716-df65-f34b6f4c0a51"
      },
      "execution_count": null,
      "outputs": [
        {
          "output_type": "stream",
          "name": "stdout",
          "text": [
            "[[ 1  2  3  4]\n",
            " [ 5  6  7  8]\n",
            " [ 9 10 11 12]]\n"
          ]
        }
      ]
    },
    {
      "cell_type": "markdown",
      "source": [
        "## Next we will write a C function that prints a 2d array of integers that has been flattened into a 1d array using row-major order."
      ],
      "metadata": {
        "id": "8QLvMF5uvndj"
      }
    },
    {
      "cell_type": "code",
      "source": [
        "%%writefile print2d.c\n",
        "#include <stdio.h>\n",
        "void print2d (int A[], int rows, int cols) {\n",
        "    printf (\"printing 2d array from C!\\n\");\n",
        "    for (int i=0;i<rows;i++) {\n",
        "        printf (\"[ \");\n",
        "        for (int j=0;j<cols;j++) {\n",
        "            printf (\"%d \",A[i*cols+j]);\n",
        "\n",
        "        }\n",
        "        printf (\"]\\n\");\n",
        "    }\n",
        "}"
      ],
      "metadata": {
        "colab": {
          "base_uri": "https://localhost:8080/"
        },
        "id": "Ow0wB1fvvQ2l",
        "outputId": "29c051bf-d29e-4440-af6f-a8c6dc8ae6e8"
      },
      "execution_count": null,
      "outputs": [
        {
          "output_type": "stream",
          "name": "stdout",
          "text": [
            "Writing print2d.c\n"
          ]
        }
      ]
    },
    {
      "cell_type": "markdown",
      "source": [
        "## In order to call our C function from Python we will need to create a **shared object library**.  This can be done using the following compiler command.\n",
        "\n",
        "## Note: PIC stands for *position independent code*."
      ],
      "metadata": {
        "id": "13r7HhVqwx2K"
      }
    },
    {
      "cell_type": "code",
      "source": [
        "!gcc -fPIC -shared -o print2d.so print2d.c"
      ],
      "metadata": {
        "id": "XRtGjPSavxXu"
      },
      "execution_count": null,
      "outputs": []
    },
    {
      "cell_type": "markdown",
      "source": [
        "## Here is a Python script that calls our C function to print the 2d array."
      ],
      "metadata": {
        "id": "sVZ_sn7hyijF"
      }
    },
    {
      "cell_type": "code",
      "source": [
        "%%writefile print2d_c.py\n",
        "import numpy as np\n",
        "import ctypes as ct # for calling C from Python\n",
        "lib = ct.cdll.LoadLibrary(\"./print2d.so\") # load C print2d function\n",
        "\n",
        "# create 2d array\n",
        "A = np.array([[ 1, 2, 3, 4 ], [ 5, 6, 7, 8 ], [ 9, 10, 11, 12 ] ],dtype='int32')\n",
        "(rows,cols) = A.shape\n",
        "\n",
        "# print 2d array using C function\n",
        "A_cptr = A.ctypes.data_as(ct.POINTER(ct.c_int32))\n",
        "lib.print2d(A_cptr,ct.c_int(rows),ct.c_int(cols))"
      ],
      "metadata": {
        "colab": {
          "base_uri": "https://localhost:8080/"
        },
        "id": "CtYBDoZtxLe6",
        "outputId": "704f7c12-51ec-4349-b7ab-436285ae97b6"
      },
      "execution_count": null,
      "outputs": [
        {
          "output_type": "stream",
          "name": "stdout",
          "text": [
            "Writing print2d_c.py\n"
          ]
        }
      ]
    },
    {
      "cell_type": "code",
      "source": [
        "!python3 print2d_c.py"
      ],
      "metadata": {
        "colab": {
          "base_uri": "https://localhost:8080/"
        },
        "id": "K4bw_2Gty_Dd",
        "outputId": "8ee5b146-411e-412d-be9b-cc094d15edd5"
      },
      "execution_count": null,
      "outputs": [
        {
          "output_type": "stream",
          "name": "stdout",
          "text": [
            "printing 2d array from C!\n",
            "[ 1 2 3 4 ]\n",
            "[ 5 6 7 8 ]\n",
            "[ 9 10 11 12 ]\n"
          ]
        }
      ]
    },
    {
      "cell_type": "markdown",
      "source": [
        "## For our next example we will write code to calculate a matrix vector product."
      ],
      "metadata": {
        "id": "Wqbb4VGL0tCb"
      }
    },
    {
      "cell_type": "markdown",
      "source": [
        "## We start with a pure Python version."
      ],
      "metadata": {
        "id": "HBqZMKDi1rkZ"
      }
    },
    {
      "cell_type": "code",
      "source": [
        "%%writefile matvec.py\n",
        "import numpy as np\n",
        "\n",
        "# create 2d array of doubles\n",
        "A = np.array([[0.2,1,2],[1,2.5,3],[4,5.8,6],[7,8,9.3]],dtype='float64')\n",
        "(rows,cols) = A.shape\n",
        "x = np.array([1,1,1],dtype='float64')\n",
        "b = np.empty(4,dtype='float64');\n",
        "\n",
        "# matvec multiply\n",
        "for i in range(rows):\n",
        "    b[i] = 0\n",
        "    for j in range(cols):\n",
        "        b[i] += A[i][j]*x[j]\n",
        "\n",
        "# print result\n",
        "print (b)"
      ],
      "metadata": {
        "colab": {
          "base_uri": "https://localhost:8080/"
        },
        "id": "rulruwGUznWq",
        "outputId": "2590d515-506b-44c1-c977-961e12cda4ca"
      },
      "execution_count": null,
      "outputs": [
        {
          "output_type": "stream",
          "name": "stdout",
          "text": [
            "Writing matvec.py\n"
          ]
        }
      ]
    },
    {
      "cell_type": "code",
      "source": [
        "!python3 matvec.py"
      ],
      "metadata": {
        "colab": {
          "base_uri": "https://localhost:8080/"
        },
        "id": "dTLQC7U62q5-",
        "outputId": "5b361d05-a6c5-44cd-8a6f-afb1a4970cab"
      },
      "execution_count": null,
      "outputs": [
        {
          "output_type": "stream",
          "name": "stdout",
          "text": [
            "[ 3.2  6.5 15.8 24.3]\n"
          ]
        }
      ]
    },
    {
      "cell_type": "markdown",
      "source": [
        "## Next we write a C function to perform the matvec multiply."
      ],
      "metadata": {
        "id": "L4R2s7eR3G-H"
      }
    },
    {
      "cell_type": "code",
      "source": [
        "%%writefile matvec.c\n",
        "void matvec(double A[], int rows, int cols, double x[], double b[]) {\n",
        "    for (int i=0;i<rows;i++) {\n",
        "        b[i] = 0;\n",
        "        for (int j=0;j<cols;j++) {\n",
        "            b[i] += A[i*cols+j]*x[j];\n",
        "        }\n",
        "    }\n",
        "}"
      ],
      "metadata": {
        "colab": {
          "base_uri": "https://localhost:8080/"
        },
        "id": "pXlLOWWW22ky",
        "outputId": "4e1e1013-4bf4-43db-9718-a72a0cd72fa6"
      },
      "execution_count": null,
      "outputs": [
        {
          "output_type": "stream",
          "name": "stdout",
          "text": [
            "Writing matvec.c\n"
          ]
        }
      ]
    },
    {
      "cell_type": "markdown",
      "source": [
        "## Create a shared object library for our C code."
      ],
      "metadata": {
        "id": "YLG9FAXr4Gck"
      }
    },
    {
      "cell_type": "code",
      "source": [
        "!gcc -fPIC -shared -o matvec.so matvec.c"
      ],
      "metadata": {
        "id": "8YndxgHX33SD"
      },
      "execution_count": null,
      "outputs": []
    },
    {
      "cell_type": "markdown",
      "source": [
        "## Finally, let's modify the Python script to call our C function."
      ],
      "metadata": {
        "id": "4PVeDku04VgY"
      }
    },
    {
      "cell_type": "code",
      "source": [
        "%%writefile matvec_c.py\n",
        "import numpy as np\n",
        "import ctypes as ct # for calling C from Python\n",
        "lib = ct.cdll.LoadLibrary(\"./matvec.so\") # load C matvec function\n",
        "\n",
        "# create 2d array of doubles\n",
        "A = np.array([[0.2,1,2],[1,2.5,3],[4,5.8,6],[7,8,9.3]],dtype='float64')\n",
        "(rows,cols) = A.shape\n",
        "x = np.array([1,1,1],dtype='float64')\n",
        "b = np.empty(4,dtype='float64');\n",
        "\n",
        "# call C to do the matvec multiply\n",
        "A_cptr = A.ctypes.data_as(ct.POINTER(ct.c_double))\n",
        "x_cptr = x.ctypes.data_as(ct.POINTER(ct.c_double))\n",
        "b_cptr = b.ctypes.data_as(ct.POINTER(ct.c_double))\n",
        "lib.matvec(A_cptr,ct.c_int(rows),ct.c_int(cols),x_cptr,b_cptr)\n",
        "\n",
        "# print result\n",
        "print (b)"
      ],
      "metadata": {
        "colab": {
          "base_uri": "https://localhost:8080/"
        },
        "id": "TpbB6NgQ4K0V",
        "outputId": "8b2f3978-59a3-4a7d-e696-7f137b4d835e"
      },
      "execution_count": null,
      "outputs": [
        {
          "output_type": "stream",
          "name": "stdout",
          "text": [
            "Writing matvec_c.py\n"
          ]
        }
      ]
    },
    {
      "cell_type": "code",
      "source": [
        "!python3 matvec_c.py"
      ],
      "metadata": {
        "colab": {
          "base_uri": "https://localhost:8080/"
        },
        "id": "uwYlT8Q4447U",
        "outputId": "027f8f9c-f588-4b70-a240-ab63da2d5692"
      },
      "execution_count": null,
      "outputs": [
        {
          "output_type": "stream",
          "name": "stdout",
          "text": [
            "[ 3.2  6.5 15.8 24.3]\n"
          ]
        }
      ]
    },
    {
      "cell_type": "markdown",
      "source": [
        "# Part 5 : Calling C from Python to Accelerate Digit Classification"
      ],
      "metadata": {
        "id": "ITtdkydM6L0-"
      }
    },
    {
      "cell_type": "markdown",
      "source": [
        "## Here is a Python script that performs does nearest neighbor classification on the MNIST data.\n",
        "\n",
        "## It takes a single command line argument which specifies how many MNIST images to test.\n"
      ],
      "metadata": {
        "id": "rjSVUtVN6kfO"
      }
    },
    {
      "cell_type": "code",
      "source": [
        "%%writefile nearest.py\n",
        "import sys\n",
        "import numpy as np\n",
        "import gzip\n",
        "import time # to time part of the code\n",
        "\n",
        "# make sure a command line argument for the number of test images is provided\n",
        "if (len(sys.argv) < 2):\n",
        "    print ('command usage :',sys.argv[0],'num_test')\n",
        "    exit(1)\n",
        "num_test = int(sys.argv[1])\n",
        "print ('number of digits to classify =',num_test)\n",
        "\n",
        "# Opens MNIST training image set and stores it as a 60000 x 784 matrix\n",
        "# There are 60000 images, each of which is 28 x 28 pixels\n",
        "# Each image is stored as a 28x28 = 784 dimensional row vector in the matrix\n",
        "f = gzip.open('train-images-idx3-ubyte.gz','r')\n",
        "f.read(16) # skip file header\n",
        "buf = f.read(60000*28*28)\n",
        "data = np.frombuffer(buf,dtype=np.uint8)\n",
        "train = data.reshape(60000,28*28)\n",
        "\n",
        "# Opening and saving the 60000 training labels\n",
        "f = gzip.open('train-labels-idx1-ubyte.gz','r')\n",
        "f.read(8) #skip header\n",
        "buf = f.read(60000)\n",
        "train_labels = np.frombuffer(buf,dtype=np.uint8)\n",
        "\n",
        "# Opens MNIST test image set and stores it as a 10000 x 784 matrix\n",
        "# There are 10000 images, each of which is 28 x 28 pixels\n",
        "# Each image is stored as a 28x28 = 784 dimensional row vector in the matrix\n",
        "f = gzip.open('t10k-images-idx3-ubyte.gz','r')\n",
        "f.read(16) # skip header\n",
        "buf = f.read(10000*28*28)\n",
        "data = np.frombuffer(buf, dtype=np.uint8)\n",
        "test = data.reshape(10000,28*28)\n",
        "\n",
        "# Opening and saving the 10000 test labels\n",
        "f = gzip.open('t10k-labels-idx1-ubyte.gz','r')\n",
        "f.read(8) #skip header\n",
        "buf = f.read(10000)\n",
        "test_labels = np.frombuffer(buf,dtype=np.uint8)\n",
        "\n",
        "# Allocate space to store the nearest neighbor indices\n",
        "nearest = np.empty(num_test,dtype='int32')\n",
        "\n",
        "# time just the nearest neighbor code\n",
        "start = time.process_time()\n",
        "\n",
        "# find the index of the training image closest to the test image with the given index\n",
        "# note that we interpret the image data as 32 bit integers to avoid overflow\n",
        "for test_index in range(num_test):\n",
        "    min_dist_sq = np.inf\n",
        "    for train_index in range(len(train)):\n",
        "        diff = train[train_index].astype(np.int32)-test[test_index].astype(np.int32)\n",
        "        dist_sq = np.dot(diff,diff)\n",
        "        if (dist_sq < min_dist_sq):\n",
        "            min_dist_sq = dist_sq\n",
        "            nearest[test_index] = train_index\n",
        "\n",
        "# record and print elapsed time\n",
        "elapsed = time.process_time()-start\n",
        "print ('Time to find nearest neighbors in Python =',np.round(elapsed,4),'seconds')\n",
        "\n",
        "# count nearest neighbor classification errors\n",
        "labels_diff = test_labels[:num_test] - train_labels[nearest]\n",
        "classify_errors = np.count_nonzero(labels_diff)\n",
        "print ('number of classification errors =',classify_errors)\n",
        "print ('classificiation rate =',(num_test-classify_errors)/num_test)"
      ],
      "metadata": {
        "colab": {
          "base_uri": "https://localhost:8080/"
        },
        "id": "VqsQoYbE6suC",
        "outputId": "ed46e1cd-94ea-4331-929b-2fa8f495ed2a"
      },
      "execution_count": null,
      "outputs": [
        {
          "output_type": "stream",
          "name": "stdout",
          "text": [
            "Writing nearest.py\n"
          ]
        }
      ]
    },
    {
      "cell_type": "code",
      "source": [
        "!time python3 nearest.py 200"
      ],
      "metadata": {
        "colab": {
          "base_uri": "https://localhost:8080/"
        },
        "id": "qEUIWxyp6tZp",
        "outputId": "701b71c7-686f-4c78-9bc0-b73a05a54ec2"
      },
      "execution_count": null,
      "outputs": [
        {
          "output_type": "stream",
          "name": "stdout",
          "text": [
            "number of digits to classify = 200\n",
            "Time to find nearest neighbors in Python = 70.0216 seconds\n",
            "number of classification errors = 2\n",
            "classificiation rate = 0.99\n",
            "\n",
            "real\t1m16.400s\n",
            "user\t1m10.512s\n",
            "sys\t0m0.257s\n"
          ]
        }
      ]
    },
    {
      "cell_type": "markdown",
      "source": [
        "# Estimate how long would it take to classify all 10000 test images in Python.\n",
        "\n",
        "## **Answer:**"
      ],
      "metadata": {
        "id": "SatQrowE65CI"
      }
    },
    {
      "cell_type": "markdown",
      "source": [
        "## The Python script is spending most of the time in lines 52-59 finding the nearest neighbors.  \n",
        "\n",
        "## The pure number crunching code in lines 52-59 is precisely the type of thing C is good for!"
      ],
      "metadata": {
        "id": "EhAh4Dhe_3lQ"
      }
    },
    {
      "cell_type": "markdown",
      "source": [
        "## Here is a C function that just finds the nearest neighbors."
      ],
      "metadata": {
        "id": "WGL_47BqBac1"
      }
    },
    {
      "cell_type": "code",
      "source": [
        "%%writefile nearest.c\n",
        "#include <stdio.h>\n",
        "#include <stdlib.h>\n",
        "#include <limits.h>\n",
        "\n",
        "typedef unsigned char byte;\n",
        "\n",
        "// calculates ||u-v||^2\n",
        "// we accumulate the result using a C int to avoid overflow\n",
        "int vec_dist_sq (byte u[], byte v[], int dim) {\n",
        "    int dist_sq = 0;\n",
        "    for (int i=0;i<dim;i++) {\n",
        "        dist_sq += (u[i]-v[i])*(u[i]-v[i]);\n",
        "    }\n",
        "    return dist_sq;\n",
        "}\n",
        "\n",
        "// for each test vector find the nearest training vector\n",
        "void nearest(byte train[], int num_train, byte test[], int num_test, int nearest[], int dim) {\n",
        "    for (int i=0;i<num_test;i++) {\n",
        "        int min_dist_sq = INT_MAX;\n",
        "        for (int j=0;j<num_train;j++) {\n",
        "            int dist_sq = vec_dist_sq(test+i*dim,train+j*dim,dim);\n",
        "            if (dist_sq < min_dist_sq) {\n",
        "                min_dist_sq = dist_sq;\n",
        "                nearest[i] = j;\n",
        "            }\n",
        "        }\n",
        "    }\n",
        "}"
      ],
      "metadata": {
        "colab": {
          "base_uri": "https://localhost:8080/"
        },
        "id": "1lgld4gf6xd9",
        "outputId": "2ef797dd-87f4-4419-8d61-601d3d078ab3"
      },
      "execution_count": null,
      "outputs": [
        {
          "output_type": "stream",
          "name": "stdout",
          "text": [
            "Writing nearest.c\n"
          ]
        }
      ]
    },
    {
      "cell_type": "markdown",
      "source": [
        "## Create a shared object library for our C code.\n",
        "\n",
        "## Note that we use the optimization flags -O3 and -march=native"
      ],
      "metadata": {
        "id": "_EIa7jfpJnzF"
      }
    },
    {
      "cell_type": "code",
      "source": [
        "!gcc -O3 -march=native -fPIC -shared -o nearest.so nearest.c"
      ],
      "metadata": {
        "id": "kUHne-fKJZrO"
      },
      "execution_count": null,
      "outputs": []
    },
    {
      "cell_type": "markdown",
      "source": [
        "## Finally, let's modify the Python script to call our C function."
      ],
      "metadata": {
        "id": "O5aETtRNKQ6L"
      }
    },
    {
      "cell_type": "code",
      "source": [
        "%%writefile nearest_c.py\n",
        "import sys\n",
        "import numpy as np\n",
        "import gzip\n",
        "import ctypes as ct # for calling C from Python\n",
        "lib = ct.cdll.LoadLibrary(\"./nearest.so\") # load C nearest function\n",
        "import time # to time part of the code\n",
        "\n",
        "# make sure a command line argument for the number of test images is provided\n",
        "if (len(sys.argv) < 2):\n",
        "    print ('command usage :',sys.argv[0],'num_test')\n",
        "    exit(1)\n",
        "num_test = int(sys.argv[1])\n",
        "print ('number of digits classified =',num_test)\n",
        "\n",
        "# Opens MNIST training image set and stores it as a 60000 x 784 matrix\n",
        "# There are 60000 images, each of which is 28 x 28 pixels\n",
        "# Each image is stored as a 28x28 = 784 dimensional row vector in the matrix\n",
        "f = gzip.open('train-images-idx3-ubyte.gz','r')\n",
        "f.read(16) # skip file header\n",
        "buf = f.read(60000*28*28)\n",
        "data = np.frombuffer(buf,dtype=np.uint8)\n",
        "train = data.reshape(60000,28*28)\n",
        "\n",
        "# Opening and saving the 60000 training labels\n",
        "f = gzip.open('train-labels-idx1-ubyte.gz','r')\n",
        "f.read(8) #skip header\n",
        "buf = f.read(60000)\n",
        "train_labels = np.frombuffer(buf,dtype=np.uint8)\n",
        "\n",
        "# Opens MNIST test image set and stores it as a 10000 x 784 matrix\n",
        "# There are 10000 images, each of which is 28 x 28 pixels\n",
        "# Each image is stored as a 28x28 = 784 dimensional row vector in the matrix\n",
        "f = gzip.open('t10k-images-idx3-ubyte.gz','r')\n",
        "f.read(16) # skip header\n",
        "buf = f.read(10000*28*28)\n",
        "data = np.frombuffer(buf, dtype=np.uint8)\n",
        "test = data.reshape(10000,28*28)\n",
        "\n",
        "# Opening and saving the 10000 test labels\n",
        "f = gzip.open('t10k-labels-idx1-ubyte.gz','r')\n",
        "f.read(8) #skip header\n",
        "buf = f.read(10000)\n",
        "test_labels = np.frombuffer(buf,dtype=np.uint8)\n",
        "\n",
        "# Allocate space to store the nearest neighbor indices\n",
        "nearest = np.empty(num_test,dtype='int32')\n",
        "\n",
        "# time just the nearest neighbor code\n",
        "start = time.process_time()\n",
        "\n",
        "# find the nearest neighbors using C\n",
        "train_cptr = train.ctypes.data_as(ct.POINTER(ct.c_uint8))\n",
        "test_cptr = test.ctypes.data_as(ct.POINTER(ct.c_uint8))\n",
        "nearest_cptr = nearest.ctypes.data_as(ct.POINTER(ct.c_int32))\n",
        "lib.nearest(train_cptr,ct.c_int(len(train)),test_cptr,ct.c_int(num_test),\n",
        "        nearest_cptr,ct.c_int(len(train[0])))\n",
        "\n",
        "# record and print elapsed time\n",
        "elapsed = time.process_time()-start\n",
        "print ('Time to find nearest neighbors in C =',np.round(elapsed,4),'seconds')\n",
        "\n",
        "# count nearest neighbor classification errors\n",
        "labels_diff = test_labels[:num_test] - train_labels[nearest]\n",
        "classify_errors = np.count_nonzero(labels_diff)\n",
        "print ('number of classification errors =',classify_errors)\n",
        "print ('classificiation rate =',(num_test-classify_errors)/num_test)"
      ],
      "metadata": {
        "colab": {
          "base_uri": "https://localhost:8080/"
        },
        "id": "daUCWxo_JtIt",
        "outputId": "b443294d-dc57-4238-e0d9-d6904a40b764"
      },
      "execution_count": null,
      "outputs": [
        {
          "output_type": "stream",
          "name": "stdout",
          "text": [
            "Writing nearest_c.py\n"
          ]
        }
      ]
    },
    {
      "cell_type": "markdown",
      "source": [
        "# We can now classify the entire test set in just over one minute using Python/C."
      ],
      "metadata": {
        "id": "-M3XoV-PYuH4"
      }
    },
    {
      "cell_type": "code",
      "source": [
        "!time python3 nearest_c.py 10000"
      ],
      "metadata": {
        "colab": {
          "base_uri": "https://localhost:8080/"
        },
        "id": "KZK1RPm3LO5v",
        "outputId": "e79a6550-c07d-46fa-fc4e-2f3539fa2994"
      },
      "execution_count": null,
      "outputs": [
        {
          "output_type": "stream",
          "name": "stdout",
          "text": [
            "number of digits classified = 10000\n",
            "Time to find nearest neighbors in C = 63.4794 seconds\n",
            "number of classification errors = 309\n",
            "classificiation rate = 0.9691\n",
            "\n",
            "real\t1m5.591s\n",
            "user\t1m3.967s\n",
            "sys\t0m0.200s\n"
          ]
        }
      ]
    },
    {
      "cell_type": "code",
      "source": [],
      "metadata": {
        "id": "2RhJ7mYTLUXO"
      },
      "execution_count": null,
      "outputs": []
    }
  ]
}