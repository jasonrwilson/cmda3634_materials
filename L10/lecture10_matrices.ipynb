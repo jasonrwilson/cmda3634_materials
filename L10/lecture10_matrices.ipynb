{
  "nbformat": 4,
  "nbformat_minor": 0,
  "metadata": {
    "colab": {
      "provenance": []
    },
    "kernelspec": {
      "name": "python3",
      "display_name": "Python 3"
    },
    "language_info": {
      "name": "python"
    }
  },
  "cells": [
    {
      "cell_type": "markdown",
      "source": [
        "# Lecture 10 : Matrices in C"
      ],
      "metadata": {
        "id": "4S6i5sG6q_qG"
      }
    },
    {
      "cell_type": "markdown",
      "source": [
        "## Clone the materials repo on github to access datafiles."
      ],
      "metadata": {
        "id": "RVAGgeZiPW7I"
      }
    },
    {
      "cell_type": "code",
      "execution_count": 1,
      "metadata": {
        "colab": {
          "base_uri": "https://localhost:8080/"
        },
        "id": "4LtIUYfnqyud",
        "outputId": "1c20e01b-6559-4e4f-a027-957440470493"
      },
      "outputs": [
        {
          "output_type": "stream",
          "name": "stdout",
          "text": [
            "Cloning into 'cmda3634_materials'...\n",
            "remote: Enumerating objects: 119, done.\u001b[K\n",
            "remote: Counting objects: 100% (72/72), done.\u001b[K\n",
            "remote: Compressing objects: 100% (51/51), done.\u001b[K\n",
            "remote: Total 119 (delta 34), reused 36 (delta 15), pack-reused 47\u001b[K\n",
            "Receiving objects: 100% (119/119), 1.27 MiB | 1.30 MiB/s, done.\n",
            "Resolving deltas: 100% (42/42), done.\n"
          ]
        }
      ],
      "source": [
        "!git clone https://code.vt.edu/jasonwil/cmda3634_materials.git"
      ]
    },
    {
      "cell_type": "markdown",
      "source": [
        "## Copy the lecture 10 materials into our local workspace."
      ],
      "metadata": {
        "id": "RQwewh2wPYPX"
      }
    },
    {
      "cell_type": "code",
      "source": [
        "!cp cmda3634_materials/L10/* ."
      ],
      "metadata": {
        "id": "lMl1AxQLPKKf"
      },
      "execution_count": 2,
      "outputs": []
    },
    {
      "cell_type": "markdown",
      "source": [
        "# Part 1 : Why Matrices?"
      ],
      "metadata": {
        "id": "vzYklGLQMEdY"
      }
    },
    {
      "cell_type": "markdown",
      "source": [
        "## **It is common practice to store datasets using matrices.**\n",
        "\n",
        "## A dataset with $len$ points in $\\mathbb{R}^{dim}$ can be stored using a $len \\times dim$ matrix where each row of the matrix contains one point of the dataset.\n",
        "\n",
        "## For example, we could store $1000$ MNIST images using a $1000 \\times 784$ matrix since each $28 \\times 28$ MNIST image can be stored as a vector in $\\mathbb{R}^{784}$.\n",
        "\n",
        "## **Matrices are also crucial for numerical linear algebra which plays a crucial role in data and computational science.**"
      ],
      "metadata": {
        "id": "mhG_6ZApMH2B"
      }
    },
    {
      "cell_type": "markdown",
      "source": [
        "# Part 2 : Two-Dimensional Arrays in C"
      ],
      "metadata": {
        "id": "IMVvGTE6KhBN"
      }
    },
    {
      "cell_type": "markdown",
      "source": [
        "## Perhaps the most natural way of representing a matrix in C is using a **two-dimensional array**.  \n",
        "\n",
        "## Working with **small** two-dimensional arrays in C is similar to other languages such as Python.\n",
        "\n",
        "## Here is an example program that multiplies a $3 \\times 2$ matrix by a vector in $\\mathbb{R}^2$.\n"
      ],
      "metadata": {
        "id": "hJj605PMKqD8"
      }
    },
    {
      "cell_type": "code",
      "source": [
        "%%writefile matvec_v1.c\n",
        "#include <stdio.h>\n",
        "\n",
        "int main () {\n",
        "    int m = 3; // m - number of rows of A\n",
        "    int n = 2; // n - number of columns of A\n",
        "    double A[3][2] = { { 0.5, 1 }, { 1, 2.5 }, { 4, -1.5 } };\n",
        "    double x[2] = { 1, 1 };\n",
        "    double b[3] = { 0 };\n",
        "    // compute b = A*x\n",
        "    for (int i=0;i<m;i++) {\n",
        "        for (int j=0;j<n;j++) {\n",
        "            b[i] += A[i][j]*x[j];\n",
        "        }\n",
        "    }\n",
        "    printf (\"b = { %.2f, %.2f, %.2f }\\n\",b[0],b[1],b[2]);\n",
        "}"
      ],
      "metadata": {
        "colab": {
          "base_uri": "https://localhost:8080/"
        },
        "id": "KGeuz3zqK_sd",
        "outputId": "bfe03a8a-e58f-4cab-d131-e39bb62e84bd"
      },
      "execution_count": 3,
      "outputs": [
        {
          "output_type": "stream",
          "name": "stdout",
          "text": [
            "Writing matvec_v1.c\n"
          ]
        }
      ]
    },
    {
      "cell_type": "code",
      "source": [
        "!gcc -o matvec_v1 matvec_v1.c"
      ],
      "metadata": {
        "id": "eL4NHFpxQCZn"
      },
      "execution_count": 4,
      "outputs": []
    },
    {
      "cell_type": "code",
      "source": [
        "!./matvec_v1"
      ],
      "metadata": {
        "colab": {
          "base_uri": "https://localhost:8080/"
        },
        "id": "xaqKvOBjQJ_6",
        "outputId": "9e65463b-65ff-446b-c84d-a6c1b33ac853"
      },
      "execution_count": 5,
      "outputs": [
        {
          "output_type": "stream",
          "name": "stdout",
          "text": [
            "b = { 1.50, 3.50, 2.50 }\n"
          ]
        }
      ]
    },
    {
      "cell_type": "markdown",
      "source": [
        "## Unfortunately, two-dimensional arrays are not well supported by the C programming language.  \n",
        "\n",
        "## Perhaps the biggest limitation occurs when trying to work with two-dimensional arrays that are very large and must be allocated on the heap.\n",
        "\n",
        "## In the code below, C does not have enough information to be able to interpret the variable *A* as a two-dimensional array."
      ],
      "metadata": {
        "id": "NTLdv9GyONlJ"
      }
    },
    {
      "cell_type": "code",
      "source": [
        "%%writefile limit_2d.c\n",
        "#include <stdio.h>\n",
        "#include <stdlib.h>\n",
        "\n",
        "int main () {\n",
        "    int m = 10000; // m - number of rows of A\n",
        "    int n = 10000; // n - number of columns of A\n",
        "    double* A = (double*)malloc(m*n*sizeof(double));\n",
        "    A[0][0] = 0.5; // will not compile since A[0] has type double\n",
        "}"
      ],
      "metadata": {
        "colab": {
          "base_uri": "https://localhost:8080/"
        },
        "id": "hptLZ2J5OwQ0",
        "outputId": "081c4926-77ea-4860-ee76-e28cc4bb4a73"
      },
      "execution_count": 6,
      "outputs": [
        {
          "output_type": "stream",
          "name": "stdout",
          "text": [
            "Writing limit_2d.c\n"
          ]
        }
      ]
    },
    {
      "cell_type": "code",
      "source": [
        "!gcc -o limit_2d limit_2d.c"
      ],
      "metadata": {
        "colab": {
          "base_uri": "https://localhost:8080/"
        },
        "id": "fhKPni33OmNK",
        "outputId": "6a9a8680-b9d1-4450-8611-18047da9b752"
      },
      "execution_count": 7,
      "outputs": [
        {
          "output_type": "stream",
          "name": "stdout",
          "text": [
            "\u001b[01m\u001b[Klimit_2d.c:\u001b[m\u001b[K In function ‘\u001b[01m\u001b[Kmain\u001b[m\u001b[K’:\n",
            "\u001b[01m\u001b[Klimit_2d.c:8:9:\u001b[m\u001b[K \u001b[01;31m\u001b[Kerror: \u001b[m\u001b[Ksubscripted value is neither array nor pointer nor vector\n",
            "    8 |     A[0]\u001b[01;31m\u001b[K[\u001b[m\u001b[K0] = 0.5; // will not compile since A[0] has type double\n",
            "      |         \u001b[01;31m\u001b[K^\u001b[m\u001b[K\n"
          ]
        }
      ]
    },
    {
      "cell_type": "markdown",
      "source": [
        "## **Since most of our datasets are far too large to put on the stack this is a major problem in C when trying to use matrices to store datasets.**\n",
        "\n",
        "## There are two main workarounds to the problem encountered above.  \n",
        "\n",
        "## The first workaround uses a table of row pointers.\n",
        "\n",
        "## The second workaround involves flattening the two-dimensional array into a one-dimensional array.  "
      ],
      "metadata": {
        "id": "nUd6FORISYOE"
      }
    },
    {
      "cell_type": "markdown",
      "source": [
        "# Part 3 : First Workaround : Table of Row Pointers\n",
        "\n",
        "## We illustrate the table of row pointers method using the same matrix vector multiplication as above."
      ],
      "metadata": {
        "id": "ntzkAdKvSK0M"
      }
    },
    {
      "cell_type": "code",
      "source": [
        "%%writefile matvec_v2.c\n",
        "#include <stdio.h>\n",
        "#include <stdlib.h>\n",
        "\n",
        "int main () {\n",
        "    int m = 3; // m - number of rows of A\n",
        "    int n = 2; // n - number of columns of A\n",
        "\n",
        "    // allocate the mxn matrix A\n",
        "    double* A[m];\n",
        "    for (int i=0;i<m;i++) {\n",
        "        A[i] = (double*)malloc(n*sizeof(double)); // allocate the ith row\n",
        "        if (A[i] == NULL) {\n",
        "            printf (\"malloc failed to allocate A[i]\\n\");\n",
        "        }\n",
        "    }\n",
        "\n",
        "    // initialize A, x, b\n",
        "    A[0][0] = 0.5;\n",
        "    A[0][1] = 1;\n",
        "    A[1][0] = 1;\n",
        "    A[1][1] = 2.5;\n",
        "    A[2][0] = 4;\n",
        "    A[2][1] = -1.5;\n",
        "    double x[2] = { 1, 1 };\n",
        "    double b[3] = { 0 };\n",
        "\n",
        "    // calculate b = Ax\n",
        "    for (int i=0;i<m;i++) {\n",
        "        for (int j=0;j<n;j++) {\n",
        "            b[i] += A[i][j]*x[j];\n",
        "        }\n",
        "    }\n",
        "    printf (\"b = { %.2f, %.2f, %.2f }\\n\",b[0],b[1],b[2]);\n",
        "\n",
        "    // free the rows of A\n",
        "    for (int i=0;i<m;i++) {\n",
        "        free(A[i]);\n",
        "    }\n",
        "}"
      ],
      "metadata": {
        "colab": {
          "base_uri": "https://localhost:8080/"
        },
        "id": "xiCOE7SeTrw0",
        "outputId": "35b7baa2-e462-46c7-e638-626beb86ce97"
      },
      "execution_count": 8,
      "outputs": [
        {
          "output_type": "stream",
          "name": "stdout",
          "text": [
            "Writing matvec_v2.c\n"
          ]
        }
      ]
    },
    {
      "cell_type": "code",
      "source": [
        "!gcc -o matvec_v2 matvec_v2.c"
      ],
      "metadata": {
        "id": "TM-B0ORrYmnY"
      },
      "execution_count": 9,
      "outputs": []
    },
    {
      "cell_type": "code",
      "source": [
        "!./matvec_v2"
      ],
      "metadata": {
        "colab": {
          "base_uri": "https://localhost:8080/"
        },
        "id": "kNR4RnTkYqAK",
        "outputId": "01a62461-8632-4475-b85e-8b4e68164db5"
      },
      "execution_count": 10,
      "outputs": [
        {
          "output_type": "stream",
          "name": "stdout",
          "text": [
            "b = { 1.50, 3.50, 2.50 }\n"
          ]
        }
      ]
    },
    {
      "cell_type": "markdown",
      "source": [
        "## There is an alternate version that allocates the table of row pointers on the heap as well:\n",
        "\n",
        "    double** A = (double**)malloc(m*sizeof(double*)); // allocate table of row pointers\n",
        "    if (A == NULL) {\n",
        "        printf (\"malloc failed to allocate A\\n\");\n",
        "        return 1;\n",
        "    }\n",
        "\n",
        "## This alternate method should be used for very large matrices for which the table of row pointers would not easily fit on the stack.\n",
        "\n",
        "## With the alternate method be sure to free the rows of *A* before freeing *A* itself!"
      ],
      "metadata": {
        "id": "hDR6z6G-acFF"
      }
    },
    {
      "cell_type": "markdown",
      "source": [
        "## The nice thing about this approach is that we can keep our nice syntax for accessing the ith row and jth column of A.  \n",
        "\n",
        "    for (int i=0;i<m;i++) {\n",
        "        for (int j=0;j<n;j++) {\n",
        "            b[i] += A[i][j]*x[j];\n",
        "        }\n",
        "    }"
      ],
      "metadata": {
        "id": "IXGqXfR-bqpl"
      }
    },
    {
      "cell_type": "markdown",
      "source": [
        "## This approach also naturally extends to the case where the rows have variable size.  "
      ],
      "metadata": {
        "id": "3AZjZkrkcqny"
      }
    },
    {
      "cell_type": "markdown",
      "source": [
        "## Although this method seems like a lot of work the process of allocating and freeing memory for two-dimensional arrays can be encapsulated into functions."
      ],
      "metadata": {
        "id": "oXDfHJrGbtuS"
      }
    },
    {
      "cell_type": "markdown",
      "source": [
        "## This approach has advantages there are some downsides as well:\n",
        "\n",
        "* ## The table of row pointers takes up additional memory.\n",
        "* ## Since the row vectors are dynamically allocated one at a time, they may end up being far apart in memory which could have a negative impact on performance--this problem can be prevented by allocating all of the rows at the same time but that requires array flattening techniques."
      ],
      "metadata": {
        "id": "DMvz_jb6c9Ns"
      }
    },
    {
      "cell_type": "markdown",
      "source": [
        "# Part 4 : Second Workaround : Flat Arrays\n",
        "\n",
        "## This is the most efficient approach for representing two-dimensional arrays in C.\n",
        "\n",
        "## This approach also simplifies Python-C interoperability when working with matrices.  \n",
        "\n",
        "## The downside of this approach is that we can no longer use our preferred two-dimensional array syntax A[i][j] for the element in $i^{th}$ row and $j^{th}$ column of A.\n",
        "\n",
        "## In my opinion the upsides of this approach outweigh the downsides.\n",
        "\n",
        "## **Thus, we will use flat arrays when working with matrices in this class.**"
      ],
      "metadata": {
        "id": "OGVkefaJbZ7j"
      }
    },
    {
      "cell_type": "markdown",
      "source": [
        "## Consider the following 2d array.\n",
        "\n",
        "$$\n",
        "\\begin{array}{|c|c|c|c|}\n",
        "        \\hline\n",
        "        5 & -2 & 7 & 10 \\\\\n",
        "        \\hline\n",
        "        -6 & 1 & 4 & 8 \\\\\n",
        "          \\hline\n",
        "        9 & 0 & -5 & 3 \\\\\n",
        "        \\hline\n",
        "        \\end{array}\n",
        "$$\n",
        "\n",
        "## We could **flatten** the 2d array into a 1d array of size $12$ using **row-major order**.\n",
        "        \n",
        "$$\n",
        "\\begin{array}{|c|c|c|c|c|c|c|c|c|c|c|c|}\n",
        "            \\hline\n",
        "           5 & -2 & 7 & 10 & -6 & 1 & 4 & 8 & 9 & 0 & -5 & 3 \\\\\n",
        "            \\hline\n",
        "            \\end{array}\n",
        "$$\n",
        "\n",
        "## We could also **flatten** the 2d array into a 1d array of size $12$ using **column-major order**.\n",
        "        \n",
        "$$\n",
        "\\begin{array}{|c|c|c|c|c|c|c|c|c|c|c|c|}\n",
        "            \\hline\n",
        "           5 & -6 & 9 & -2 & 1 & 0 & 7 & 4 & -5 & 10 & 8 & 3 \\\\\n",
        "            \\hline\n",
        "            \\end{array}\n",
        "$$\n",
        "\n",
        "## When storing matrices as one-dimensional arrays in class we will use **row-major order** unless otherwise specified.  (Note that **column-major** ordering is often preferred for GPU codes).\n"
      ],
      "metadata": {
        "id": "hRcM5A9G9iDi"
      }
    },
    {
      "cell_type": "markdown",
      "source": [
        "## We can visualize how a 2d array is flattened into a 1d array using **row-major order** by putting the 1d indices into the 2d array.\n",
        "\n",
        "$$\n",
        "\\begin{array}{|c|c|c|c|}\n",
        "        \\hline\n",
        "        0 & 1 & 2 & 3 \\\\\n",
        "        \\hline\n",
        "        4 & 5 & 6 & 7 \\\\\n",
        "          \\hline\n",
        "        8 & 9 & 10 & 11 \\\\\n",
        "        \\hline\n",
        "        12 & & & ? \\\\\n",
        "        \\hline\n",
        "        & & & \\\\\n",
        "        \\hline\n",
        "        & & & \\\\\n",
        "        \\hline\n",
        "        & & & \\\\\n",
        "        \\hline\n",
        "        & ?? & & \\\\\n",
        "        \\hline\n",
        "        & & & \\\\\n",
        "        \\hline\n",
        "        \\end{array}\n",
        "$$\n",
        "\n",
        "## What index should go in the ? blank?\n",
        "\n",
        "## **Answer**: $15$\n",
        "\n",
        "## What index should go in the ?? blank?\n",
        "\n",
        "## **Answer**: $29$\n",
        "\n",
        "## Given a 2d array with $9$ rows and $4$ columns, give a formula for the 1d array index for the entry in row i and column j of the 2d array.\n",
        "\n",
        "## **Answer**: $i*4+j$\n",
        "\n",
        "## Given a 2d array with $m$ rows and $n$ columns, give a formula for the 1d array index for the entry in row i and column j of the 2d array.\n",
        "\n",
        "## **Answer**: $i*n+j$\n",
        "\n"
      ],
      "metadata": {
        "id": "roUgLhRgBTNk"
      }
    },
    {
      "cell_type": "markdown",
      "source": [
        "## We illustrate the flat array method using the same matrix vector multiplication example as above."
      ],
      "metadata": {
        "id": "eGg6SiNhik4Z"
      }
    },
    {
      "cell_type": "code",
      "source": [
        "%%writefile matvec_v3.c\n",
        "#include <stdio.h>\n",
        "#include <stdlib.h>\n",
        "\n",
        "int main () {\n",
        "    int m = 3; // number of rows of A\n",
        "    int n = 2; // number of columns of A\n",
        "\n",
        "    // allocate a mxn matrix A using a flat array\n",
        "    double* A = (double*)malloc(m*n*sizeof(double));\n",
        "    if (A == NULL) {\n",
        "        printf (\"malloc failed to allocate A\\n\");\n",
        "        return 1;\n",
        "    }\n",
        "\n",
        "    // initialize A, x, b\n",
        "    A[0] = 0.5;\n",
        "    A[1] = 1;\n",
        "    A[2] = 1;\n",
        "    A[3] = 2.5;\n",
        "    A[4] = 4;\n",
        "    A[5] = -1.5;\n",
        "    double x[2] = { 1, 1 };\n",
        "    double b[3] = { 0 };\n",
        "\n",
        "    // calculate b = Ax\n",
        "    for (int i=0;i<m;i++) {\n",
        "        for (int j=0;j<n;j++) {\n",
        "            // i*n+j is the 1d index of the row i column j entry of A\n",
        "            // thus we replace A[i][j] with A[i*n+j]\n",
        "            b[i] += A[i*n+j]*x[j];\n",
        "        }\n",
        "    }\n",
        "    printf (\"b = { %.2f, %.2f, %.2f }\\n\",b[0],b[1],b[2]);\n",
        "\n",
        "    // free the matrix A\n",
        "    free(A);\n",
        "}"
      ],
      "metadata": {
        "colab": {
          "base_uri": "https://localhost:8080/"
        },
        "id": "_g37sfQoR0bu",
        "outputId": "66738d2d-204a-4368-e436-dba19bc2d5f3"
      },
      "execution_count": 11,
      "outputs": [
        {
          "output_type": "stream",
          "name": "stdout",
          "text": [
            "Writing matvec_v3.c\n"
          ]
        }
      ]
    },
    {
      "cell_type": "code",
      "source": [
        "!gcc -o matvec_v3 matvec_v3.c"
      ],
      "metadata": {
        "id": "RqGWqnpxi7qx"
      },
      "execution_count": 12,
      "outputs": []
    },
    {
      "cell_type": "code",
      "source": [
        "!./matvec_v3"
      ],
      "metadata": {
        "colab": {
          "base_uri": "https://localhost:8080/"
        },
        "id": "L2zwSX-8i-cX",
        "outputId": "fa167324-5a5b-489d-f69c-c34959daa4ab"
      },
      "execution_count": 13,
      "outputs": [
        {
          "output_type": "stream",
          "name": "stdout",
          "text": [
            "b = { 1.50, 3.50, 2.50 }\n"
          ]
        }
      ]
    },
    {
      "cell_type": "markdown",
      "source": [
        "# Part 5 : Extreme Pair Revisited\n",
        "\n",
        "## One major downside of our previous extreme pair program is that we had to specify the dimension of the data at compile time.  \n",
        "\n",
        "## Once compiled our program could only read datasets of the correct dimension.\n",
        "\n",
        "## We can eliminate the need to specify the dimension at compile time by storing the dataset using a $len \\times dim$ matrix where $len$ is the number of data points and $dim$ is the dimension of each data point.  \n",
        "\n",
        "## We will start building our next version of the extreme program with our previous version 4."
      ],
      "metadata": {
        "id": "xaJ62iE93dR8"
      }
    },
    {
      "cell_type": "code",
      "source": [
        "%%writefile extreme_v4.c\n",
        "#include <stdio.h>\n",
        "#include <stdlib.h>\n",
        "#include <math.h>\n",
        "\n",
        "#ifndef DIM\n",
        "#define DIM 2\n",
        "#endif\n",
        "\n",
        "typedef struct {\n",
        "    double x[DIM];\n",
        "} vecd;\n",
        "\n",
        "double vecd_dist_sq (vecd* u, vecd* v) {\n",
        "    double dist_sq = 0;\n",
        "    for (int i=0;i<DIM;i++) {\n",
        "        dist_sq += (u->x[i]-v->x[i])*(u->x[i]-v->x[i]);\n",
        "    }\n",
        "    return dist_sq;\n",
        "}\n",
        "\n",
        "void vecd_read_dataset (vecd* data, int len) {\n",
        "    for (int i=0;i<len;i++) {\n",
        "        for (int j=0;j<DIM;j++) {\n",
        "            if (scanf(\"%lf\",&(data[i].x[j])) != 1) {\n",
        "                printf (\"error reading dataset\\n\");\n",
        "                exit(1);\n",
        "            }\n",
        "        }\n",
        "    }\n",
        "}\n",
        "\n",
        "typedef struct {\n",
        "    double max_dist_sq;\n",
        "    int extreme_1, extreme_2;\n",
        "} extreme_info;\n",
        "\n",
        "extreme_info extreme_pair (vecd* data, int len) {\n",
        "    extreme_info info = { 0, -1, -1 };\n",
        "    for (int i=0;i<len-1;i++) {\n",
        "        for (int j=i+1;j<len;j++) {\n",
        "            double dist_sq = vecd_dist_sq(&(data[i]),&(data[j]));\n",
        "            if (dist_sq > info.max_dist_sq) {\n",
        "                info.max_dist_sq = dist_sq;\n",
        "                info.extreme_1 = i;\n",
        "                info.extreme_2 = j;\n",
        "            }\n",
        "        }\n",
        "    }\n",
        "    return info;\n",
        "}\n",
        "\n",
        "int main () {\n",
        "\n",
        "    // read dataset\n",
        "    int len, dim;\n",
        "    if (scanf(\"%d %d\",&len,&dim) != 2) {\n",
        "        printf (\"error reading the length and dimension of the dataset\\n\");\n",
        "        return 1;\n",
        "    }\n",
        "    if (dim != DIM) {\n",
        "        printf (\"dimension of dataset does not match DIM\\n\");\n",
        "        return 1;\n",
        "    }\n",
        "    // allocate the data array on the heap using malloc\n",
        "    // note that sizeof(vecd) is the number of bytes required\n",
        "    // to store a variable of type vecd.\n",
        "    vecd* data = (vecd*)malloc(len*sizeof(vecd));\n",
        "    if (data == NULL) {\n",
        "        printf (\"malloc failed to allocate data array\\n\");\n",
        "        return 1;\n",
        "    }\n",
        "    vecd_read_dataset (data,len);\n",
        "\n",
        "    // find the extreme pair\n",
        "    extreme_info info;\n",
        "    info = extreme_pair(data,len);\n",
        "\n",
        "    // print the results\n",
        "    printf (\"The extreme pair has indices (%d,%d)\\n\",info.extreme_1,info.extreme_2);\n",
        "    printf (\"The distance between the extreme pair is %.2f\\n\",sqrt(info.max_dist_sq));\n",
        "\n",
        "    // free the data array\n",
        "    free (data);\n",
        "}"
      ],
      "metadata": {
        "colab": {
          "base_uri": "https://localhost:8080/"
        },
        "id": "Le7R4WSSiXsc",
        "outputId": "66aa55cf-2d26-44d5-bbad-f262bac916df"
      },
      "execution_count": 14,
      "outputs": [
        {
          "output_type": "stream",
          "name": "stdout",
          "text": [
            "Writing extreme_v4.c\n"
          ]
        }
      ]
    },
    {
      "cell_type": "code",
      "source": [
        "!gcc -O3 -ffast-math -march=native -DDIM=784 -o extreme_v4 extreme_v4.c -lm"
      ],
      "metadata": {
        "id": "xXLUAE8MibHx"
      },
      "execution_count": 47,
      "outputs": []
    },
    {
      "cell_type": "code",
      "source": [
        "!time cat mnist2000.txt | ./extreme_v4"
      ],
      "metadata": {
        "colab": {
          "base_uri": "https://localhost:8080/"
        },
        "id": "pHUtlQnli4bU",
        "outputId": "787e1e7e-475b-4a67-c5d6-c5b54c5b5f59"
      },
      "execution_count": 48,
      "outputs": [
        {
          "output_type": "stream",
          "name": "stdout",
          "text": [
            "The extreme pair has indices (1618,1895)\n",
            "The distance between the extreme pair is 3928.75\n",
            "\n",
            "real\t0m0.976s\n",
            "user\t0m0.950s\n",
            "sys\t0m0.023s\n"
          ]
        }
      ]
    },
    {
      "cell_type": "markdown",
      "source": [
        "## Here is version 5 which stores the dataset as a $len \\times dim$ matrix using flat arrays."
      ],
      "metadata": {
        "id": "rPOVjTtQbVE7"
      }
    },
    {
      "cell_type": "code",
      "source": [
        "%%writefile extreme_v5.c\n",
        "#include <stdio.h>\n",
        "#include <stdlib.h>\n",
        "#include <math.h>\n",
        "\n",
        "double vec_dist_sq (double* u, double* v, int dim) {\n",
        "    double dist_sq = 0;\n",
        "    for (int i=0;i<dim;i++) {\n",
        "        dist_sq += (u[i]-v[i])*(u[i]-v[i]);\n",
        "    }\n",
        "    return dist_sq;\n",
        "}\n",
        "\n",
        "void vec_read_dataset (double* data, int len, int dim) {\n",
        "    for (int i=0;i<len;i++) {\n",
        "        for (int j=0;j<dim;j++) {\n",
        "            if (scanf(\"%lf\",&(data[i*dim+j])) != 1) {\n",
        "                printf (\"error reading dataset\\n\");\n",
        "                exit(1);\n",
        "            }\n",
        "        }\n",
        "    }\n",
        "}\n",
        "\n",
        "typedef struct {\n",
        "    double max_dist_sq;\n",
        "    int extreme_1, extreme_2;\n",
        "} extreme_info;\n",
        "\n",
        "extreme_info extreme_pair (double* data, int len, int dim) {\n",
        "    extreme_info info = { 0, -1, -1 };\n",
        "    for (int i=0;i<len-1;i++) {\n",
        "        for (int j=i+1;j<len;j++) {\n",
        "            // data+i*dim is a pointer to the ith data point\n",
        "            // data+j*dim is a pointer to the jth data point\n",
        "            double dist_sq = vec_dist_sq(data+i*dim,data+j*dim,dim);\n",
        "            if (dist_sq > info.max_dist_sq) {\n",
        "                info.max_dist_sq = dist_sq;\n",
        "                info.extreme_1 = i;\n",
        "                info.extreme_2 = j;\n",
        "            }\n",
        "        }\n",
        "    }\n",
        "    return info;\n",
        "}\n",
        "\n",
        "int main () {\n",
        "\n",
        "    // read dataset with len points in R^dim\n",
        "    int len, dim;\n",
        "    if (scanf(\"%d %d\",&len,&dim) != 2) {\n",
        "        printf (\"error reading the length and dimension of the dataset\\n\");\n",
        "        return 1;\n",
        "    }\n",
        "    // allocate the (len x dim) data matrix on the heap using malloc\n",
        "    double* data = (double*)malloc(len*dim*sizeof(double));\n",
        "    if (data == NULL) {\n",
        "        printf (\"malloc failed to allocate data matrix\\n\");\n",
        "        return 1;\n",
        "    }\n",
        "    vec_read_dataset (data,len,dim);\n",
        "\n",
        "    // find the extreme pair\n",
        "    extreme_info info;\n",
        "    info = extreme_pair(data,len,dim);\n",
        "\n",
        "    // print the results\n",
        "    printf (\"The extreme pair has indices (%d,%d)\\n\",info.extreme_1,info.extreme_2);\n",
        "    printf (\"The distance between the extreme pair is %.2f\\n\",sqrt(info.max_dist_sq));\n",
        "\n",
        "    // free the data matrix\n",
        "    free (data);\n",
        "}"
      ],
      "metadata": {
        "id": "t9S8RU756q7n",
        "colab": {
          "base_uri": "https://localhost:8080/"
        },
        "outputId": "cee2956e-cee2-4b50-9195-2d6e4f2b3ae5"
      },
      "execution_count": 17,
      "outputs": [
        {
          "output_type": "stream",
          "name": "stdout",
          "text": [
            "Writing extreme_v5.c\n"
          ]
        }
      ]
    },
    {
      "cell_type": "markdown",
      "source": [
        "## Note that we no longer have to specify the dimension of our data at compile time!"
      ],
      "metadata": {
        "id": "HUpRfA-FeBuH"
      }
    },
    {
      "cell_type": "code",
      "source": [
        "!gcc -O3 -ffast-math -march=native -o extreme_v5 extreme_v5.c -lm"
      ],
      "metadata": {
        "id": "p9dxF2j0dUTX"
      },
      "execution_count": 45,
      "outputs": []
    },
    {
      "cell_type": "code",
      "source": [
        "!time cat mnist2000.txt | ./extreme_v5"
      ],
      "metadata": {
        "colab": {
          "base_uri": "https://localhost:8080/"
        },
        "id": "_iIhGHLxdWDI",
        "outputId": "67ca4835-1c25-4fde-bf04-42d89804b9e8"
      },
      "execution_count": 46,
      "outputs": [
        {
          "output_type": "stream",
          "name": "stdout",
          "text": [
            "The extreme pair has indices (1618,1895)\n",
            "The distance between the extreme pair is 3928.75\n",
            "\n",
            "real\t0m0.970s\n",
            "user\t0m0.940s\n",
            "sys\t0m0.022s\n"
          ]
        }
      ]
    },
    {
      "cell_type": "markdown",
      "source": [
        "# Part 6 : Using Header and Implementation Files\n",
        "\n",
        "## As projects become more complicated we will avoid putting all of our code in a single source file.  \n",
        "\n",
        "## We can use header (or interface) files (i.e. *.h*) and implementation files (i.e. *.c*) to move related type declarations and functions to their own files.  \n",
        "\n",
        "## What functions are related in our extreme code?"
      ],
      "metadata": {
        "id": "Q2_P3B3shvKC"
      }
    },
    {
      "cell_type": "markdown",
      "source": [
        "## Let's get started with version 6 by first creating a *.h* file for our *vec* function interfaces.\n",
        "\n",
        "## Note that we use the flag *VEC_H* to avoid having multiple copies of our header file included.  \n",
        "\n",
        "## Multiple includes can happen if multiple header files are included that include the same header file.  \n",
        "\n",
        "## This problem is more common on larger projects but it is good to get into the habit of preventing multiple includes now.  \n",
        "\n",
        "## Note that the header file only contains type declarations and function *interfaces*.\n",
        "\n",
        "## We typically avoid specifying *implementations* in our header files."
      ],
      "metadata": {
        "id": "_HalsRsTh-oQ"
      }
    },
    {
      "cell_type": "code",
      "source": [
        "%%writefile vec.h\n",
        "#ifndef VEC_H\n",
        "#define VEC_H\n",
        "\n",
        "double vec_dist_sq (double* u, double* v, int dim);\n",
        "\n",
        "void vec_read_dataset (double* data, int len, int dim);\n",
        "\n",
        "#endif"
      ],
      "metadata": {
        "colab": {
          "base_uri": "https://localhost:8080/"
        },
        "id": "GuCC_08adq3n",
        "outputId": "befca9c2-00d4-4c0c-8806-9ddba9653251"
      },
      "execution_count": 20,
      "outputs": [
        {
          "output_type": "stream",
          "name": "stdout",
          "text": [
            "Writing vec.h\n"
          ]
        }
      ]
    },
    {
      "cell_type": "markdown",
      "source": [
        "## Here is the corresponding *implementation* file."
      ],
      "metadata": {
        "id": "zQc-WruWiqxq"
      }
    },
    {
      "cell_type": "code",
      "source": [
        "%%writefile vec.c\n",
        "#include <stdio.h>\n",
        "#include <stdlib.h>\n",
        "#include \"vec.h\"\n",
        "\n",
        "double vec_dist_sq (double* u, double* v, int dim) {\n",
        "    double dist_sq = 0;\n",
        "    for (int i=0;i<dim;i++) {\n",
        "        dist_sq += (u[i]-v[i])*(u[i]-v[i]);\n",
        "    }\n",
        "    return dist_sq;\n",
        "}\n",
        "\n",
        "void vec_read_dataset (double* data, int len, int dim) {\n",
        "    for (int i=0;i<len;i++) {\n",
        "        for (int j=0;j<dim;j++) {\n",
        "            if (scanf(\"%lf\",&(data[i*dim+j])) != 1) {\n",
        "                printf (\"error reading dataset\\n\");\n",
        "                exit(1);\n",
        "            }\n",
        "        }\n",
        "    }\n",
        "}"
      ],
      "metadata": {
        "colab": {
          "base_uri": "https://localhost:8080/"
        },
        "id": "g67gjbtnidlz",
        "outputId": "ba64decf-0c2c-4467-f1e8-8e74837087cb"
      },
      "execution_count": 21,
      "outputs": [
        {
          "output_type": "stream",
          "name": "stdout",
          "text": [
            "Writing vec.c\n"
          ]
        }
      ]
    },
    {
      "cell_type": "markdown",
      "source": [
        "## Finally, here is our main source file that takes advantage of the separation of the *vec* functionality.\n",
        "\n",
        "## Note that we include our new header file using:\n",
        "    #include \"vec.h\""
      ],
      "metadata": {
        "id": "UKniGfMai1Pr"
      }
    },
    {
      "cell_type": "code",
      "source": [
        "%%writefile extreme_v6.c\n",
        "#include <stdio.h>\n",
        "#include <stdlib.h>\n",
        "#include <math.h>\n",
        "#include \"vec.h\"\n",
        "\n",
        "typedef struct {\n",
        "    double max_dist_sq;\n",
        "    int extreme_1, extreme_2;\n",
        "} extreme_info;\n",
        "\n",
        "extreme_info extreme_pair (double* data, int len, int dim) {\n",
        "    extreme_info info = { 0, -1, -1 };\n",
        "    for (int i=0;i<len-1;i++) {\n",
        "        for (int j=i+1;j<len;j++) {\n",
        "            // data+i*dim is a pointer to the ith data point\n",
        "            // data+j*dim is a pointer to the jth data point\n",
        "            double dist_sq = vec_dist_sq(data+i*dim,data+j*dim,dim);\n",
        "            if (dist_sq > info.max_dist_sq) {\n",
        "                info.max_dist_sq = dist_sq;\n",
        "                info.extreme_1 = i;\n",
        "                info.extreme_2 = j;\n",
        "            }\n",
        "        }\n",
        "    }\n",
        "    return info;\n",
        "}\n",
        "\n",
        "int main () {\n",
        "\n",
        "    // read dataset with len points in R^dim\n",
        "    int len, dim;\n",
        "    if (scanf(\"%d %d\",&len,&dim) != 2) {\n",
        "        printf (\"error reading the length and dimension of the dataset\\n\");\n",
        "        return 1;\n",
        "    }\n",
        "    // allocate the (len x dim) data matrix on the heap using malloc\n",
        "    double* data = (double*)malloc(len*dim*sizeof(double));\n",
        "    if (data == NULL) {\n",
        "        printf (\"malloc failed to allocate data matrix\\n\");\n",
        "        return 1;\n",
        "    }\n",
        "    vec_read_dataset (data,len,dim);\n",
        "\n",
        "    // find the extreme pair\n",
        "    extreme_info info;\n",
        "    info = extreme_pair(data,len,dim);\n",
        "\n",
        "    // print the results\n",
        "    printf (\"The extreme pair has indices (%d,%d)\\n\",info.extreme_1,info.extreme_2);\n",
        "    printf (\"The distance between the extreme pair is %.2f\\n\",sqrt(info.max_dist_sq));\n",
        "\n",
        "    // free the data matrix\n",
        "    free (data);\n",
        "}"
      ],
      "metadata": {
        "colab": {
          "base_uri": "https://localhost:8080/"
        },
        "id": "hUk7_SAeigTN",
        "outputId": "a8985aac-36fc-49d5-b22e-086ff14a44b7"
      },
      "execution_count": 22,
      "outputs": [
        {
          "output_type": "stream",
          "name": "stdout",
          "text": [
            "Writing extreme_v6.c\n"
          ]
        }
      ]
    },
    {
      "cell_type": "markdown",
      "source": [
        "## To build our new program we need to add the source file *vec.c* to our compile command."
      ],
      "metadata": {
        "id": "BwQGnlhMjOeY"
      }
    },
    {
      "cell_type": "code",
      "source": [
        "!gcc -O3 -ffast-math -march=native -o extreme_v6 extreme_v6.c vec.c -lm"
      ],
      "metadata": {
        "id": "N2GdUOndjPxD"
      },
      "execution_count": 55,
      "outputs": []
    },
    {
      "cell_type": "code",
      "source": [
        "!time cat mnist2000.txt | ./extreme_v6"
      ],
      "metadata": {
        "colab": {
          "base_uri": "https://localhost:8080/"
        },
        "id": "-l3C_BesjUw1",
        "outputId": "0a7a06b6-19b7-44a5-b52d-8781f5a03cd4"
      },
      "execution_count": 56,
      "outputs": [
        {
          "output_type": "stream",
          "name": "stdout",
          "text": [
            "The extreme pair has indices (1618,1895)\n",
            "The distance between the extreme pair is 3928.75\n",
            "\n",
            "real\t0m0.976s\n",
            "user\t0m0.949s\n",
            "sys\t0m0.020s\n"
          ]
        }
      ]
    },
    {
      "cell_type": "markdown",
      "source": [
        "# Part 7 : Using Shell Scripts to Automate\n",
        "\n",
        "## We start by copying our final version of extreme to *extreme.c*."
      ],
      "metadata": {
        "id": "XrDmPMnriZlh"
      }
    },
    {
      "cell_type": "code",
      "source": [
        "!cp extreme_v6.c extreme.c"
      ],
      "metadata": {
        "id": "mf0SSqWHizm8"
      },
      "execution_count": 58,
      "outputs": []
    },
    {
      "cell_type": "markdown",
      "source": [
        "\n",
        "## Here is a shell script that compiles and runs extreme.\n",
        "\n",
        "## Note that *$?* returns the exit value of the last executed command.\n",
        "\n",
        "## Recall that a program such as gcc returns 0 if successful.\n",
        "\n",
        "## Note that *$1* is the first command line argument to our shell script.\n",
        "\n",
        "## For this script the first command line argument will specify the data file.\n",
        "\n",
        "## Note that *$#* is the number of command line arguments."
      ],
      "metadata": {
        "id": "Dx9dc5EijDsr"
      }
    },
    {
      "cell_type": "code",
      "source": [
        "%%writefile compile_run.sh\n",
        "echo 'Compiling extreme'\n",
        "gcc -O3 -ffast-math -march=native -o extreme extreme.c vec.c -lm\n",
        "if [ $? -ne 0 ]; then\n",
        "  echo 'Error : Compilation Failed.'\n",
        "  exit 1\n",
        "fi\n",
        "if [ $# -eq 0 ]; then\n",
        "  echo 'Error: No data filename provided.'\n",
        "  exit 1\n",
        "fi\n",
        "echo -n 'Running extreme on file: '\n",
        "echo $1\n",
        "time cat $1 | ./extreme"
      ],
      "metadata": {
        "id": "J6Iabm_rjbfK",
        "colab": {
          "base_uri": "https://localhost:8080/"
        },
        "outputId": "df159623-d1d5-46fc-cd48-ccfd42fcc1fa"
      },
      "execution_count": 59,
      "outputs": [
        {
          "output_type": "stream",
          "name": "stdout",
          "text": [
            "Overwriting compile_run.sh\n"
          ]
        }
      ]
    },
    {
      "cell_type": "markdown",
      "source": [
        "## We run our shell script using the *bash* command.\n",
        "\n",
        "## Let's first run on the 2d dataset."
      ],
      "metadata": {
        "id": "OQxS7ZBAjTQh"
      }
    },
    {
      "cell_type": "code",
      "source": [
        "!bash compile_run.sh points1k.txt"
      ],
      "metadata": {
        "colab": {
          "base_uri": "https://localhost:8080/"
        },
        "id": "Y1jISLjTjSPY",
        "outputId": "df6e68dd-fd25-4ba7-e82f-f0df7fc21dde"
      },
      "execution_count": 60,
      "outputs": [
        {
          "output_type": "stream",
          "name": "stdout",
          "text": [
            "Compiling extreme\n",
            "Running extreme on file: points1k.txt\n",
            "The extreme pair has indices (446,911)\n",
            "The distance between the extreme pair is 2.78\n",
            "\n",
            "real\t0m0.005s\n",
            "user\t0m0.005s\n",
            "sys\t0m0.002s\n"
          ]
        }
      ]
    },
    {
      "cell_type": "markdown",
      "source": [
        "## Let's run on the MNIST dataset with 2000 images."
      ],
      "metadata": {
        "id": "gJelvyTlkdAQ"
      }
    },
    {
      "cell_type": "code",
      "source": [
        "!bash compile_run.sh mnist2000.txt"
      ],
      "metadata": {
        "colab": {
          "base_uri": "https://localhost:8080/"
        },
        "id": "DFRDxPzljadi",
        "outputId": "1aee4cd5-10af-4d43-d069-781d398e2fe8"
      },
      "execution_count": 65,
      "outputs": [
        {
          "output_type": "stream",
          "name": "stdout",
          "text": [
            "Compiling extreme\n",
            "Running extreme on file: mnist2000.txt\n",
            "The extreme pair has indices (1618,1895)\n",
            "The distance between the extreme pair is 3928.75\n",
            "\n",
            "real\t0m0.994s\n",
            "user\t0m0.976s\n",
            "sys\t0m0.020s\n"
          ]
        }
      ]
    },
    {
      "cell_type": "markdown",
      "source": [
        "## Let's check our error handling in the case where a filename is not given."
      ],
      "metadata": {
        "id": "5KXFyWFGlU1T"
      }
    },
    {
      "cell_type": "code",
      "source": [
        "!bash compile_run.sh"
      ],
      "metadata": {
        "colab": {
          "base_uri": "https://localhost:8080/"
        },
        "id": "RDCrw6eRkifQ",
        "outputId": "cb167d9f-3a68-4d2d-ce47-a61fabc15cd6"
      },
      "execution_count": 66,
      "outputs": [
        {
          "output_type": "stream",
          "name": "stdout",
          "text": [
            "Compiling extreme\n",
            "Error: No data filename provided.\n"
          ]
        }
      ]
    },
    {
      "cell_type": "markdown",
      "source": [
        "## Finally, we introduce a typo by changing extreme.c to extremes.c.\n",
        "\n",
        "## This typo will cause a compilation error which will terminate our script."
      ],
      "metadata": {
        "id": "oFRz-VdooAii"
      }
    },
    {
      "cell_type": "code",
      "source": [
        "%%writefile compile_run.sh\n",
        "echo 'Compiling extreme'\n",
        "gcc -O3 -ffast-math -march=native -o extreme extremes.c vec.c -lm\n",
        "# Remember that a program such as gcc returns 0 if successful.\n",
        "if [ $? -ne 0 ]; then\n",
        "  echo 'Error : Compilation Failed.'\n",
        "  exit 1\n",
        "fi\n",
        "if [ $# -eq 0 ]; then\n",
        "  echo 'Error: No data filename provided.'\n",
        "  exit 1\n",
        "fi\n",
        "echo -n 'Running extreme on file: '\n",
        "echo $1\n",
        "time cat $1 | ./extreme"
      ],
      "metadata": {
        "colab": {
          "base_uri": "https://localhost:8080/"
        },
        "id": "fS3i4-eln6KP",
        "outputId": "844ae200-4f00-4ac2-e0c4-d67b6731e199"
      },
      "execution_count": 67,
      "outputs": [
        {
          "output_type": "stream",
          "name": "stdout",
          "text": [
            "Overwriting compile_run.sh\n"
          ]
        }
      ]
    },
    {
      "cell_type": "code",
      "source": [
        "!bash compile_run.sh mnist2000.txt"
      ],
      "metadata": {
        "colab": {
          "base_uri": "https://localhost:8080/"
        },
        "id": "6uTg473ak-EJ",
        "outputId": "19867b8d-585e-4e6c-fb1b-eddf10ee868f"
      },
      "execution_count": 68,
      "outputs": [
        {
          "output_type": "stream",
          "name": "stdout",
          "text": [
            "Compiling extreme\n",
            "\u001b[01m\u001b[Kcc1:\u001b[m\u001b[K \u001b[01;31m\u001b[Kfatal error: \u001b[m\u001b[Kextremes.c: No such file or directory\n",
            "compilation terminated.\n",
            "Error : Compilation Failed.\n"
          ]
        }
      ]
    },
    {
      "cell_type": "code",
      "source": [],
      "metadata": {
        "id": "04AlHsVqnzOv"
      },
      "execution_count": 31,
      "outputs": []
    }
  ]
}