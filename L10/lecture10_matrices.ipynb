{
  "nbformat": 4,
  "nbformat_minor": 0,
  "metadata": {
    "colab": {
      "provenance": []
    },
    "kernelspec": {
      "name": "python3",
      "display_name": "Python 3"
    },
    "language_info": {
      "name": "python"
    }
  },
  "cells": [
    {
      "cell_type": "markdown",
      "source": [
        "# Lecture 10 : Matrices in C"
      ],
      "metadata": {
        "id": "4S6i5sG6q_qG"
      }
    },
    {
      "cell_type": "markdown",
      "source": [
        "## Clone the materials repo on github to access datafiles."
      ],
      "metadata": {
        "id": "RVAGgeZiPW7I"
      }
    },
    {
      "cell_type": "code",
      "execution_count": 1,
      "metadata": {
        "colab": {
          "base_uri": "https://localhost:8080/"
        },
        "id": "4LtIUYfnqyud",
        "outputId": "d67c1a4b-6b23-48f1-b7c1-04eadad19753"
      },
      "outputs": [
        {
          "output_type": "stream",
          "name": "stdout",
          "text": [
            "Cloning into 'cmda3634_materials'...\n",
            "remote: Enumerating objects: 116, done.\u001b[K\n",
            "remote: Counting objects: 100% (69/69), done.\u001b[K\n",
            "remote: Compressing objects: 100% (48/48), done.\u001b[K\n",
            "remote: Total 116 (delta 32), reused 36 (delta 15), pack-reused 47\u001b[K\n",
            "Receiving objects: 100% (116/116), 1.27 MiB | 5.14 MiB/s, done.\n",
            "Resolving deltas: 100% (40/40), done.\n"
          ]
        }
      ],
      "source": [
        "!git clone https://code.vt.edu/jasonwil/cmda3634_materials.git"
      ]
    },
    {
      "cell_type": "markdown",
      "source": [
        "## Copy the lecture 10 materials into our local workspace."
      ],
      "metadata": {
        "id": "RQwewh2wPYPX"
      }
    },
    {
      "cell_type": "code",
      "source": [
        "!cp cmda3634_materials/L10/* ."
      ],
      "metadata": {
        "id": "lMl1AxQLPKKf"
      },
      "execution_count": 2,
      "outputs": []
    },
    {
      "cell_type": "markdown",
      "source": [
        "# Part 1 : Why Matrices?"
      ],
      "metadata": {
        "id": "vzYklGLQMEdY"
      }
    },
    {
      "cell_type": "markdown",
      "source": [
        "## **It is common practice to store datasets using matrices.**\n",
        "\n",
        "## A dataset with $num\\_points$ points in $\\mathbb{R}^{dim}$ can be stored using a $num\\_points \\times dim$ matrix where each row of the matrix contains one point of the dataset.\n",
        "\n",
        "## For example, we could store $1000$ MNIST images using a $1000 \\times 784$ matrix since each $28 \\times 28$ MNIST image can be stored as a vector in $\\mathbb{R}^{784}$.\n",
        "\n",
        "## **Matrices are also crucial for numerical linear algebra which plays a crucial role in data and computational science.**"
      ],
      "metadata": {
        "id": "mhG_6ZApMH2B"
      }
    },
    {
      "cell_type": "markdown",
      "source": [
        "# Part 2 : Two-Dimensional Arrays in C"
      ],
      "metadata": {
        "id": "IMVvGTE6KhBN"
      }
    },
    {
      "cell_type": "markdown",
      "source": [
        "## Perhaps the most natural way of representing a matrix in C is using a **two-dimensional array**.  \n",
        "\n",
        "## Working with **small** two-dimensional arrays in C is similar to other languages such as Python.\n",
        "\n",
        "## Here is an example program that multiplies a $3 \\times 2$ matrix by a vector in $\\mathbb{R}^2$.\n"
      ],
      "metadata": {
        "id": "hJj605PMKqD8"
      }
    },
    {
      "cell_type": "code",
      "source": [
        "%%writefile matvec_v1.c\n",
        "#include <stdio.h>\n",
        "\n",
        "int main () {\n",
        "    int m = 3; // m - number of rows of A\n",
        "    int n = 2; // n - number of columns of A\n",
        "    double A[3][2] = { { 0.5, 1 }, { 1, 2.5 }, { 4, -1.5 } };\n",
        "    double x[2] = { 1, 1 };\n",
        "    double b[3] = { 0 };\n",
        "    // compute b = A*x\n",
        "    for (int i=0;i<m;i++) {\n",
        "        for (int j=0;j<n;j++) {\n",
        "            b[i] += A[i][j]*x[j];\n",
        "        }\n",
        "    }\n",
        "    printf (\"b = { %.2f, %.2f, %.2f }\\n\",b[0],b[1],b[2]);\n",
        "}"
      ],
      "metadata": {
        "colab": {
          "base_uri": "https://localhost:8080/"
        },
        "id": "KGeuz3zqK_sd",
        "outputId": "c2248d46-4f7b-4375-c467-d7b2d1d5813c"
      },
      "execution_count": 3,
      "outputs": [
        {
          "output_type": "stream",
          "name": "stdout",
          "text": [
            "Writing matvec_v1.c\n"
          ]
        }
      ]
    },
    {
      "cell_type": "code",
      "source": [
        "!gcc -o matvec_v1 matvec_v1.c"
      ],
      "metadata": {
        "id": "eL4NHFpxQCZn"
      },
      "execution_count": 4,
      "outputs": []
    },
    {
      "cell_type": "code",
      "source": [
        "!./matvec_v1"
      ],
      "metadata": {
        "colab": {
          "base_uri": "https://localhost:8080/"
        },
        "id": "xaqKvOBjQJ_6",
        "outputId": "42bed911-1e51-4983-bb22-a5a2a9b2ac62"
      },
      "execution_count": 5,
      "outputs": [
        {
          "output_type": "stream",
          "name": "stdout",
          "text": [
            "b = { 1.50, 3.50, 2.50 }\n"
          ]
        }
      ]
    },
    {
      "cell_type": "markdown",
      "source": [
        "## Unfortunately, two-dimensional arrays are not well supported by the C programming language.  \n",
        "\n",
        "## Perhaps the biggest limitation occurs when trying to work with two-dimensional arrays that are very large and must be allocated on the heap.\n",
        "\n",
        "## In the code below, C does not have enough information to be able to interpret the variable *A* as a two-dimensional array."
      ],
      "metadata": {
        "id": "NTLdv9GyONlJ"
      }
    },
    {
      "cell_type": "code",
      "source": [
        "%%writefile limit_2d.c\n",
        "#include <stdio.h>\n",
        "#include <stdlib.h>\n",
        "\n",
        "int main () {\n",
        "    int m = 10000; // m - number of rows of A\n",
        "    int n = 10000; // n - number of columns of A\n",
        "    double* A = (double*)malloc(m*n*sizeof(double));\n",
        "    A[0][0] = 0.5; // will not compile since A[0] has type double\n",
        "}"
      ],
      "metadata": {
        "colab": {
          "base_uri": "https://localhost:8080/"
        },
        "id": "hptLZ2J5OwQ0",
        "outputId": "6b106000-a734-4074-fd4e-0d26ae4b4d7b"
      },
      "execution_count": 6,
      "outputs": [
        {
          "output_type": "stream",
          "name": "stdout",
          "text": [
            "Writing limit_2d.c\n"
          ]
        }
      ]
    },
    {
      "cell_type": "code",
      "source": [
        "!gcc -o limit_2d limit_2d.c"
      ],
      "metadata": {
        "colab": {
          "base_uri": "https://localhost:8080/"
        },
        "id": "fhKPni33OmNK",
        "outputId": "7fabcb97-ea1c-4b24-e34e-2ad309b88699"
      },
      "execution_count": 7,
      "outputs": [
        {
          "output_type": "stream",
          "name": "stdout",
          "text": [
            "\u001b[01m\u001b[Klimit_2d.c:\u001b[m\u001b[K In function ‘\u001b[01m\u001b[Kmain\u001b[m\u001b[K’:\n",
            "\u001b[01m\u001b[Klimit_2d.c:8:9:\u001b[m\u001b[K \u001b[01;31m\u001b[Kerror: \u001b[m\u001b[Ksubscripted value is neither array nor pointer nor vector\n",
            "    8 |     A[0]\u001b[01;31m\u001b[K[\u001b[m\u001b[K0] = 0.5; // will not compile since A[0] has type double\n",
            "      |         \u001b[01;31m\u001b[K^\u001b[m\u001b[K\n"
          ]
        }
      ]
    },
    {
      "cell_type": "markdown",
      "source": [
        "## **Since most of our datasets are far too large to put on the stack this is a major problem in C when trying to use matrices to store datasets.**\n",
        "\n",
        "## There are two main workarounds to the problem encountered above.  \n",
        "\n",
        "## The first workaround uses a table of row pointers.\n",
        "\n",
        "## The second workaround involves flattening the two-dimensional array into a one-dimensional array.  "
      ],
      "metadata": {
        "id": "nUd6FORISYOE"
      }
    },
    {
      "cell_type": "markdown",
      "source": [
        "# Part 3 : First Workaround : Table of Row Pointers\n",
        "\n",
        "## We illustrate the table of row pointers method using the same matrix vector multiplication as above."
      ],
      "metadata": {
        "id": "ntzkAdKvSK0M"
      }
    },
    {
      "cell_type": "code",
      "source": [
        "%%writefile matvec_v2.c\n",
        "#include <stdio.h>\n",
        "#include <stdlib.h>\n",
        "\n",
        "int main () {\n",
        "    int m = 3; // m - number of rows of A\n",
        "    int n = 2; // n - number of columns of A\n",
        "\n",
        "    // allocate the mxn matrix A\n",
        "    double* A[m];\n",
        "    for (int i=0;i<m;i++) {\n",
        "        A[i] = (double*)malloc(n*sizeof(double)); // allocate the ith row\n",
        "        if (A[i] == NULL) {\n",
        "            printf (\"malloc failed to allocate A[i]\\n\");\n",
        "        }\n",
        "    }\n",
        "\n",
        "    // initialize A, x, b\n",
        "    A[0][0] = 0.5;\n",
        "    A[0][1] = 1;\n",
        "    A[1][0] = 1;\n",
        "    A[1][1] = 2.5;\n",
        "    A[2][0] = 4;\n",
        "    A[2][1] = -1.5;\n",
        "    double x[2] = { 1, 1 };\n",
        "    double b[3] = { 0 };\n",
        "\n",
        "    // calculate b = Ax\n",
        "    for (int i=0;i<m;i++) {\n",
        "        for (int j=0;j<n;j++) {\n",
        "            b[i] += A[i][j]*x[j];\n",
        "        }\n",
        "    }\n",
        "    printf (\"b = { %.2f, %.2f, %.2f }\\n\",b[0],b[1],b[2]);\n",
        "\n",
        "    // free the rows of A\n",
        "    for (int i=0;i<m;i++) {\n",
        "        free(A[i]);\n",
        "    }\n",
        "}"
      ],
      "metadata": {
        "colab": {
          "base_uri": "https://localhost:8080/"
        },
        "id": "xiCOE7SeTrw0",
        "outputId": "0e589503-2829-4429-8383-d78494a1033f"
      },
      "execution_count": 8,
      "outputs": [
        {
          "output_type": "stream",
          "name": "stdout",
          "text": [
            "Writing matvec_v2.c\n"
          ]
        }
      ]
    },
    {
      "cell_type": "code",
      "source": [
        "!gcc -o matvec_v2 matvec_v2.c"
      ],
      "metadata": {
        "id": "TM-B0ORrYmnY"
      },
      "execution_count": 9,
      "outputs": []
    },
    {
      "cell_type": "code",
      "source": [
        "!./matvec_v2"
      ],
      "metadata": {
        "colab": {
          "base_uri": "https://localhost:8080/"
        },
        "id": "kNR4RnTkYqAK",
        "outputId": "2d19a789-9f9a-4e35-9b8e-b01352791805"
      },
      "execution_count": 10,
      "outputs": [
        {
          "output_type": "stream",
          "name": "stdout",
          "text": [
            "b = { 1.50, 3.50, 2.50 }\n"
          ]
        }
      ]
    },
    {
      "cell_type": "markdown",
      "source": [
        "## There is an alternate version that allocates the table of row pointers on the heap as well:\n",
        "\n",
        "    double** A = (double**)malloc(m*sizeof(double*)); // allocate table of row pointers\n",
        "    if (A == NULL) {\n",
        "        printf (\"malloc failed to allocate A\\n\");\n",
        "        return 1;\n",
        "    }\n",
        "\n",
        "## This alternate method should be used for very large matrices for which the table of row pointers would not easily fit on the stack.\n",
        "\n",
        "## With the alternate method be sure to free the rows of *A* before freeing *A* itself!"
      ],
      "metadata": {
        "id": "hDR6z6G-acFF"
      }
    },
    {
      "cell_type": "markdown",
      "source": [
        "## The nice thing about this approach is that we can keep our nice syntax for accessing the ith row and jth column of A.  \n",
        "\n",
        "    for (int i=0;i<m;i++) {\n",
        "        for (int j=0;j<n;j++) {\n",
        "            b[i] += A[i][j]*x[j];\n",
        "        }\n",
        "    }"
      ],
      "metadata": {
        "id": "IXGqXfR-bqpl"
      }
    },
    {
      "cell_type": "markdown",
      "source": [
        "## This approach also naturally extends to the case where the rows have variable size.  "
      ],
      "metadata": {
        "id": "3AZjZkrkcqny"
      }
    },
    {
      "cell_type": "markdown",
      "source": [
        "## Although this method seems like a lot of work the process of allocating and freeing memory for two-dimensional arrays can be encapsulated into functions."
      ],
      "metadata": {
        "id": "oXDfHJrGbtuS"
      }
    },
    {
      "cell_type": "markdown",
      "source": [
        "## This approach has advantages there are some downsides as well:\n",
        "\n",
        "* ## The table of row pointers takes up additional memory.\n",
        "* ## Since the row vectors are dynamically allocated one at a time, they may end up being far apart in memory which could have a negative impact on performance--this problem can be prevented by allocating all of the rows at the same time but that requires array flattening techniques."
      ],
      "metadata": {
        "id": "DMvz_jb6c9Ns"
      }
    },
    {
      "cell_type": "markdown",
      "source": [
        "# Part 4 : Second Workaround : Flat Arrays\n",
        "\n",
        "## This is the most efficient approach for representing two-dimensional arrays in C.\n",
        "\n",
        "## This approach also simplifies Python-C interoperability when working with matrices.  \n",
        "\n",
        "## The downside of this approach is that we can no longer use our preferred two-dimensional array syntax A[i][j] for the element in $i^{th}$ row and $j^{th}$ column of A.\n",
        "\n",
        "## In my opinion the upsides of this approach outweigh the downsides.\n",
        "\n",
        "## **Thus, we will use flat arrays when working with matrices in this class.**"
      ],
      "metadata": {
        "id": "OGVkefaJbZ7j"
      }
    },
    {
      "cell_type": "markdown",
      "source": [
        "## Consider the following 2d array.\n",
        "\n",
        "$$\n",
        "\\begin{array}{|c|c|c|c|}\n",
        "        \\hline\n",
        "        5 & -2 & 7 & 10 \\\\\n",
        "        \\hline\n",
        "        -6 & 1 & 4 & 8 \\\\\n",
        "          \\hline\n",
        "        9 & 0 & -5 & 3 \\\\\n",
        "        \\hline\n",
        "        \\end{array}\n",
        "$$\n",
        "\n",
        "## We could **flatten** the 2d array into a 1d array of size $12$ using **row-major order**.\n",
        "        \n",
        "$$\n",
        "\\begin{array}{|c|c|c|c|c|c|c|c|c|c|c|c|}\n",
        "            \\hline\n",
        "           5 & -2 & 7 & 10 & -6 & 1 & 4 & 8 & 9 & 0 & -5 & 3 \\\\\n",
        "            \\hline\n",
        "            \\end{array}\n",
        "$$\n",
        "\n",
        "## We could also **flatten** the 2d array into a 1d array of size $12$ using **column-major order**.\n",
        "        \n",
        "$$\n",
        "\\begin{array}{|c|c|c|c|c|c|c|c|c|c|c|c|}\n",
        "            \\hline\n",
        "           5 & -6 & 9 & -2 & 1 & 0 & 7 & 4 & -5 & 10 & 8 & 3 \\\\\n",
        "            \\hline\n",
        "            \\end{array}\n",
        "$$\n",
        "\n",
        "## When storing matrices as one-dimensional arrays in class we will use **row-major order** unless otherwise specified.  (Note that **column-major** ordering is often preferred for GPU codes).\n"
      ],
      "metadata": {
        "id": "hRcM5A9G9iDi"
      }
    },
    {
      "cell_type": "markdown",
      "source": [
        "## We can visualize how a 2d array is flattened into a 1d array using **row-major order** by putting the 1d indices into the 2d array.\n",
        "\n",
        "$$\n",
        "\\begin{array}{|c|c|c|c|}\n",
        "        \\hline\n",
        "        0 & 1 & 2 & 3 \\\\\n",
        "        \\hline\n",
        "        4 & 5 & 6 & 7 \\\\\n",
        "          \\hline\n",
        "        8 & 9 & 10 & 11 \\\\\n",
        "        \\hline\n",
        "        12 & & & ? \\\\\n",
        "        \\hline\n",
        "        & & & \\\\\n",
        "        \\hline\n",
        "        & & & \\\\\n",
        "        \\hline\n",
        "        & & & \\\\\n",
        "        \\hline\n",
        "        & ?? & & \\\\\n",
        "        \\hline\n",
        "        & & & \\\\\n",
        "        \\hline\n",
        "        \\end{array}\n",
        "$$\n",
        "\n",
        "## What index should go in the ? blank?\n",
        "\n",
        "## **Answer**: $15$\n",
        "\n",
        "## What index should go in the ?? blank?\n",
        "\n",
        "## **Answer**: $29$\n",
        "\n",
        "## Given a 2d array with $9$ rows and $4$ columns, give a formula for the 1d array index for the entry in row i and column j of the 2d array.\n",
        "\n",
        "## **Answer**: $i*4+j$\n",
        "\n",
        "## Given a 2d array with $m$ rows and $n$ columns, give a formula for the 1d array index for the entry in row i and column j of the 2d array.\n",
        "\n",
        "## **Answer**: $i*n+j$\n",
        "\n"
      ],
      "metadata": {
        "id": "roUgLhRgBTNk"
      }
    },
    {
      "cell_type": "markdown",
      "source": [
        "## We illustrate the flat array method using the same matrix vector multiplication example as above."
      ],
      "metadata": {
        "id": "eGg6SiNhik4Z"
      }
    },
    {
      "cell_type": "code",
      "source": [
        "%%writefile matvec_v3.c\n",
        "#include <stdio.h>\n",
        "#include <stdlib.h>\n",
        "\n",
        "int main () {\n",
        "    int m = 3; // number of rows of A\n",
        "    int n = 2; // number of columns of A\n",
        "\n",
        "    // allocate a mxn matrix A using a flat array\n",
        "    double* A = (double*)malloc(m*n*sizeof(double));\n",
        "    if (A == NULL) {\n",
        "        printf (\"malloc failed to allocate A\\n\");\n",
        "        return 1;\n",
        "    }\n",
        "\n",
        "    // initialize A, x, b\n",
        "    A[0] = 0.5;\n",
        "    A[1] = 1;\n",
        "    A[2] = 1;\n",
        "    A[3] = 2.5;\n",
        "    A[4] = 4;\n",
        "    A[5] = -1.5;\n",
        "    double x[2] = { 1, 1 };\n",
        "    double b[3] = { 0 };\n",
        "\n",
        "    // calculate b = Ax\n",
        "    for (int i=0;i<m;i++) {\n",
        "        for (int j=0;j<n;j++) {\n",
        "            // i*n+j is the 1d index of the row i column j entry of A\n",
        "            // thus we replace A[i][j] with A[i*n+j]\n",
        "            b[i] += A[i*n+j]*x[j];\n",
        "        }\n",
        "    }\n",
        "    printf (\"b = { %.2f, %.2f, %.2f }\\n\",b[0],b[1],b[2]);\n",
        "\n",
        "    // free the matrix A\n",
        "    free(A);\n",
        "}"
      ],
      "metadata": {
        "colab": {
          "base_uri": "https://localhost:8080/"
        },
        "id": "_g37sfQoR0bu",
        "outputId": "6358a277-54dc-4845-c612-ca1608cb11b6"
      },
      "execution_count": 11,
      "outputs": [
        {
          "output_type": "stream",
          "name": "stdout",
          "text": [
            "Writing matvec_v3.c\n"
          ]
        }
      ]
    },
    {
      "cell_type": "code",
      "source": [
        "!gcc -o matvec_v3 matvec_v3.c"
      ],
      "metadata": {
        "id": "RqGWqnpxi7qx"
      },
      "execution_count": 12,
      "outputs": []
    },
    {
      "cell_type": "code",
      "source": [
        "!./matvec_v3"
      ],
      "metadata": {
        "colab": {
          "base_uri": "https://localhost:8080/"
        },
        "id": "L2zwSX-8i-cX",
        "outputId": "022d710f-f338-44a6-9a09-9137c01d9126"
      },
      "execution_count": 13,
      "outputs": [
        {
          "output_type": "stream",
          "name": "stdout",
          "text": [
            "b = { 1.50, 3.50, 2.50 }\n"
          ]
        }
      ]
    },
    {
      "cell_type": "markdown",
      "source": [
        "# Part 5 : Extreme Pair Revisited\n",
        "\n",
        "## One major downside of our previous extreme pair program is that we had to specify the dimension of the data at compile time.  \n",
        "\n",
        "## Once compiled our program could only read datasets of the correct dimension.\n",
        "\n",
        "## We can eliminate the need to specify the dimension at compile time by storing the dataset using a $m \\times n$ matrix where $m$ is the number of data points and $n$ is the dimension of each data point.  \n",
        "\n",
        "## We will start building our final version of the extreme program with our previous version 4."
      ],
      "metadata": {
        "id": "xaJ62iE93dR8"
      }
    },
    {
      "cell_type": "code",
      "source": [
        "%%writefile extreme_v4.c\n",
        "#include <stdio.h>\n",
        "#include <stdlib.h>\n",
        "#include <math.h>\n",
        "\n",
        "#ifndef DIM\n",
        "#define DIM 2\n",
        "#endif\n",
        "\n",
        "typedef struct {\n",
        "    double x[DIM];\n",
        "} vecd;\n",
        "\n",
        "double vecd_dist_sq (vecd* u, vecd* v) {\n",
        "    double dist_sq = 0;\n",
        "    for (int i=0;i<DIM;i++) {\n",
        "        dist_sq += (u->x[i]-v->x[i])*(u->x[i]-v->x[i]);\n",
        "    }\n",
        "    return dist_sq;\n",
        "}\n",
        "\n",
        "void vecd_read_dataset (vecd* data, int len) {\n",
        "    for (int i=0;i<len;i++) {\n",
        "        for (int j=0;j<DIM;j++) {\n",
        "            if (scanf(\"%lf\",&(data[i].x[j])) != 1) {\n",
        "                printf (\"error reading dataset\\n\");\n",
        "                exit(1);\n",
        "            }\n",
        "        }\n",
        "    }\n",
        "}\n",
        "\n",
        "typedef struct {\n",
        "    double max_dist_sq;\n",
        "    int extreme_1, extreme_2;\n",
        "} extreme_info;\n",
        "\n",
        "extreme_info extreme_pair (vecd* data, int num_points) {\n",
        "    extreme_info info = { 0, -1, -1 };\n",
        "    for (int i=0;i<num_points-1;i++) {\n",
        "        for (int j=i+1;j<num_points;j++) {\n",
        "            double dist_sq = vecd_dist_sq(&(data[i]),&(data[j]));\n",
        "            if (dist_sq > info.max_dist_sq) {\n",
        "                info.max_dist_sq = dist_sq;\n",
        "                info.extreme_1 = i;\n",
        "                info.extreme_2 = j;\n",
        "            }\n",
        "        }\n",
        "    }\n",
        "    return info;\n",
        "}\n",
        "\n",
        "int main () {\n",
        "\n",
        "    // read dataset\n",
        "    int len, dim;\n",
        "    if (scanf(\"%d %d\",&len,&dim) != 2) {\n",
        "        printf (\"error reading the length and dimension of the dataset\\n\");\n",
        "        return 1;\n",
        "    }\n",
        "    if (dim != DIM) {\n",
        "        printf (\"dimension of dataset does not match DIM\\n\");\n",
        "        return 1;\n",
        "    }\n",
        "    // allocate the data array on the heap using malloc\n",
        "    // note that sizeof(vecd) is the number of bytes required\n",
        "    // to store a variable of type vecd.\n",
        "    vecd* data = (vecd*)malloc(len*sizeof(vecd));\n",
        "    if (data == NULL) {\n",
        "        printf (\"malloc failed to allocate data array\\n\");\n",
        "        return 1;\n",
        "    }\n",
        "    vecd_read_dataset (data,len);\n",
        "\n",
        "    // find the extreme pair\n",
        "    extreme_info info;\n",
        "    info = extreme_pair(data,len);\n",
        "\n",
        "    // print the results\n",
        "    printf (\"The extreme pair has indices (%d,%d)\\n\",info.extreme_1,info.extreme_2);\n",
        "    printf (\"The distance between the extreme pair is %.2f\\n\",sqrt(info.max_dist_sq));\n",
        "\n",
        "    // free the data array\n",
        "    free (data);\n",
        "}"
      ],
      "metadata": {
        "colab": {
          "base_uri": "https://localhost:8080/"
        },
        "id": "Le7R4WSSiXsc",
        "outputId": "aa3d31b3-8db7-447f-8799-e90dc018dc19"
      },
      "execution_count": 14,
      "outputs": [
        {
          "output_type": "stream",
          "name": "stdout",
          "text": [
            "Writing extreme_v4.c\n"
          ]
        }
      ]
    },
    {
      "cell_type": "code",
      "source": [
        "!gcc -O3 -ffast-math -march=native -DDIM=784 -o extreme_v4 extreme_v4.c -lm"
      ],
      "metadata": {
        "id": "xXLUAE8MibHx"
      },
      "execution_count": 27,
      "outputs": []
    },
    {
      "cell_type": "code",
      "source": [
        "!time cat mnist2000.txt | ./extreme_v4"
      ],
      "metadata": {
        "colab": {
          "base_uri": "https://localhost:8080/"
        },
        "id": "pHUtlQnli4bU",
        "outputId": "59bafd14-e7a2-48fa-d1a7-9420b76b0b64"
      },
      "execution_count": 28,
      "outputs": [
        {
          "output_type": "stream",
          "name": "stdout",
          "text": [
            "The extreme pair has indices (1618,1895)\n",
            "The distance between the extreme pair is 3928.75\n",
            "\n",
            "real\t0m1.209s\n",
            "user\t0m1.130s\n",
            "sys\t0m0.022s\n"
          ]
        }
      ]
    },
    {
      "cell_type": "markdown",
      "source": [
        "## Here is version 5 which stores the dataset as a $num\\_points \\times dim$ matrix using flat arrays."
      ],
      "metadata": {
        "id": "rPOVjTtQbVE7"
      }
    },
    {
      "cell_type": "code",
      "source": [
        "%%writefile extreme_v5.c\n",
        "#include <stdio.h>\n",
        "#include <stdlib.h>\n",
        "#include <math.h>\n",
        "\n",
        "double vec_dist_sq (double* u, double* v, int dim) {\n",
        "    double dist_sq = 0;\n",
        "    for (int i=0;i<dim;i++) {\n",
        "        dist_sq += (u[i]-v[i])*(u[i]-v[i]);\n",
        "    }\n",
        "    return dist_sq;\n",
        "}\n",
        "\n",
        "void vec_read_dataset (double* data, int num_points, int dim) {\n",
        "    for (int i=0;i<num_points;i++) {\n",
        "        for (int j=0;j<dim;j++) {\n",
        "            if (scanf(\"%lf\",&(data[i*dim+j])) != 1) {\n",
        "                printf (\"error reading dataset\\n\");\n",
        "                exit(1);\n",
        "            }\n",
        "        }\n",
        "    }\n",
        "}\n",
        "\n",
        "typedef struct {\n",
        "    double max_dist_sq;\n",
        "    int extreme_1, extreme_2;\n",
        "} extreme_info;\n",
        "\n",
        "extreme_info extreme_pair (double* data, int num_points, int dim) {\n",
        "    extreme_info info = { 0, -1, -1 };\n",
        "    for (int i=0;i<num_points-1;i++) {\n",
        "        for (int j=i+1;j<num_points;j++) {\n",
        "            // data+i*dim is a pointer to the ith data point\n",
        "            // data+j*dim is a pointer to the jth data point\n",
        "            double dist_sq = vec_dist_sq(data+i*dim,data+j*dim,dim);\n",
        "            if (dist_sq > info.max_dist_sq) {\n",
        "                info.max_dist_sq = dist_sq;\n",
        "                info.extreme_1 = i;\n",
        "                info.extreme_2 = j;\n",
        "            }\n",
        "        }\n",
        "    }\n",
        "    return info;\n",
        "}\n",
        "\n",
        "int main () {\n",
        "\n",
        "    // read dataset with num_points points in R^dim\n",
        "    int num_points, dim;\n",
        "    if (scanf(\"%d %d\",&num_points,&dim) != 2) {\n",
        "        printf (\"error reading the length and dimension of the dataset\\n\");\n",
        "        return 1;\n",
        "    }\n",
        "    // allocate the (num_points x dim) data matrix on the heap using malloc\n",
        "    double* data = (double*)malloc(num_points*dim*sizeof(double));\n",
        "    if (data == NULL) {\n",
        "        printf (\"malloc failed to allocate data matrix\\n\");\n",
        "        return 1;\n",
        "    }\n",
        "    vec_read_dataset (data,num_points,dim);\n",
        "\n",
        "    // find the extreme pair\n",
        "    extreme_info info;\n",
        "    info = extreme_pair(data,num_points,dim);\n",
        "\n",
        "    // print the results\n",
        "    printf (\"The extreme pair has indices (%d,%d)\\n\",info.extreme_1,info.extreme_2);\n",
        "    printf (\"The distance between the extreme pair is %.2f\\n\",sqrt(info.max_dist_sq));\n",
        "\n",
        "    // free the data matrix\n",
        "    free (data);\n",
        "}"
      ],
      "metadata": {
        "id": "t9S8RU756q7n",
        "colab": {
          "base_uri": "https://localhost:8080/"
        },
        "outputId": "42a5395b-ef04-41ce-af96-f09602d66a4b"
      },
      "execution_count": 17,
      "outputs": [
        {
          "output_type": "stream",
          "name": "stdout",
          "text": [
            "Writing extreme_v5.c\n"
          ]
        }
      ]
    },
    {
      "cell_type": "markdown",
      "source": [
        "## Note that we no longer have to specify the dimension of our data at compile time!"
      ],
      "metadata": {
        "id": "HUpRfA-FeBuH"
      }
    },
    {
      "cell_type": "code",
      "source": [
        "!gcc -O3 -ffast-math -march=native -o extreme_v5 extreme_v5.c -lm"
      ],
      "metadata": {
        "id": "p9dxF2j0dUTX"
      },
      "execution_count": 18,
      "outputs": []
    },
    {
      "cell_type": "code",
      "source": [
        "!time cat mnist2000.txt | ./extreme_v5"
      ],
      "metadata": {
        "colab": {
          "base_uri": "https://localhost:8080/"
        },
        "id": "_iIhGHLxdWDI",
        "outputId": "37303300-acd0-46b3-eb1e-f3bac1a2e9ed"
      },
      "execution_count": 19,
      "outputs": [
        {
          "output_type": "stream",
          "name": "stdout",
          "text": [
            "The extreme pair has indices (1618,1895)\n",
            "The distance between the extreme pair is 3928.75\n",
            "\n",
            "real\t0m1.178s\n",
            "user\t0m1.086s\n",
            "sys\t0m0.038s\n"
          ]
        }
      ]
    },
    {
      "cell_type": "markdown",
      "source": [
        "## Part 6 : Using Header and Implementation Files\n",
        "\n",
        "## As projects become more complicated we will avoid putting all of our code in a single source file.  \n",
        "\n",
        "## We can use header (or interface) files (i.e. *.h*) and implementation files (i.e. *.c*) to move related type declarations and functions to their own files.  \n",
        "\n",
        "## What functions are related in our extreme code?"
      ],
      "metadata": {
        "id": "Q2_P3B3shvKC"
      }
    },
    {
      "cell_type": "markdown",
      "source": [
        "## Let's get started with version 6 by first creating a *.h* file for our *vec* function interfaces.\n",
        "\n",
        "## Note that we use the flag *VEC_H* to avoid having multiple copies of our header file included.  \n",
        "\n",
        "## Multiple includes can happen if multiple header files are included that include the same header file.  \n",
        "\n",
        "## This problem is more common on larger projects but it is good to get into the habit of preventing multiple includes now.  \n",
        "\n",
        "## Note that the header file only contains type declarations and function *interfaces*.\n",
        "\n",
        "## We typically avoid specifying *implementations* in our header files."
      ],
      "metadata": {
        "id": "_HalsRsTh-oQ"
      }
    },
    {
      "cell_type": "code",
      "source": [
        "%%writefile vec.h\n",
        "#ifndef VEC_H\n",
        "#define VEC_H\n",
        "\n",
        "double vec_dist_sq (double* u, double* v, int dim);\n",
        "\n",
        "void vec_read_dataset (double* data, int num_points, int dim);\n",
        "\n",
        "#endif"
      ],
      "metadata": {
        "colab": {
          "base_uri": "https://localhost:8080/"
        },
        "id": "GuCC_08adq3n",
        "outputId": "854caef0-6b27-47e3-ce90-15738b7faffe"
      },
      "execution_count": 20,
      "outputs": [
        {
          "output_type": "stream",
          "name": "stdout",
          "text": [
            "Writing vec.h\n"
          ]
        }
      ]
    },
    {
      "cell_type": "markdown",
      "source": [
        "## Here is the corresponding *implementation* file."
      ],
      "metadata": {
        "id": "zQc-WruWiqxq"
      }
    },
    {
      "cell_type": "code",
      "source": [
        "%%writefile vec.c\n",
        "#include <stdio.h>\n",
        "#include <stdlib.h>\n",
        "#include \"vec.h\"\n",
        "\n",
        "double vec_dist_sq (double* u, double* v, int dim) {\n",
        "    double dist_sq = 0;\n",
        "    for (int i=0;i<dim;i++) {\n",
        "        dist_sq += (u[i]-v[i])*(u[i]-v[i]);\n",
        "    }\n",
        "    return dist_sq;\n",
        "}\n",
        "\n",
        "void vec_read_dataset (double* data, int num_points, int dim) {\n",
        "    for (int i=0;i<num_points;i++) {\n",
        "        for (int j=0;j<dim;j++) {\n",
        "            if (scanf(\"%lf\",&(data[i*dim+j])) != 1) {\n",
        "                printf (\"error reading dataset\\n\");\n",
        "                exit(1);\n",
        "            }\n",
        "        }\n",
        "    }\n",
        "}"
      ],
      "metadata": {
        "colab": {
          "base_uri": "https://localhost:8080/"
        },
        "id": "g67gjbtnidlz",
        "outputId": "6a032bbb-549d-4143-c657-7cea35cef35b"
      },
      "execution_count": 29,
      "outputs": [
        {
          "output_type": "stream",
          "name": "stdout",
          "text": [
            "Overwriting vec.c\n"
          ]
        }
      ]
    },
    {
      "cell_type": "markdown",
      "source": [
        "## Finally, here is our main source file that takes advantage of the separation of the *vec* functionality.\n",
        "\n",
        "## Note that we include our new header file using:\n",
        "    #include \"vec.h\""
      ],
      "metadata": {
        "id": "UKniGfMai1Pr"
      }
    },
    {
      "cell_type": "code",
      "source": [
        "%%writefile extreme_v6.c\n",
        "#include <stdio.h>\n",
        "#include <stdlib.h>\n",
        "#include <math.h>\n",
        "#include \"vec.h\"\n",
        "\n",
        "typedef struct {\n",
        "    double max_dist_sq;\n",
        "    int extreme_1, extreme_2;\n",
        "} extreme_info;\n",
        "\n",
        "extreme_info extreme_pair (double* data, int num_points, int dim) {\n",
        "    extreme_info info = { 0, -1, -1 };\n",
        "    for (int i=0;i<num_points-1;i++) {\n",
        "        for (int j=i+1;j<num_points;j++) {\n",
        "            // data+i*dim is a pointer to the ith data point\n",
        "            // data+j*dim is a pointer to the jth data point\n",
        "            double dist_sq = vec_dist_sq(data+i*dim,data+j*dim,dim);\n",
        "            if (dist_sq > info.max_dist_sq) {\n",
        "                info.max_dist_sq = dist_sq;\n",
        "                info.extreme_1 = i;\n",
        "                info.extreme_2 = j;\n",
        "            }\n",
        "        }\n",
        "    }\n",
        "    return info;\n",
        "}\n",
        "\n",
        "int main () {\n",
        "\n",
        "    // read dataset with num_points points in R^dim\n",
        "    int num_points, dim;\n",
        "    if (scanf(\"%d %d\",&num_points,&dim) != 2) {\n",
        "        printf (\"error reading the length and dimension of the dataset\\n\");\n",
        "        return 1;\n",
        "    }\n",
        "    // allocate the (num_points x dim) data matrix on the heap using malloc\n",
        "    double* data = (double*)malloc(num_points*dim*sizeof(double));\n",
        "    if (data == NULL) {\n",
        "        printf (\"malloc failed to allocate data matrix\\n\");\n",
        "        return 1;\n",
        "    }\n",
        "    vec_read_dataset (data,num_points,dim);\n",
        "\n",
        "    // find the extreme pair\n",
        "    extreme_info info;\n",
        "    info = extreme_pair(data,num_points,dim);\n",
        "\n",
        "    // print the results\n",
        "    printf (\"The extreme pair has indices (%d,%d)\\n\",info.extreme_1,info.extreme_2);\n",
        "    printf (\"The distance between the extreme pair is %.2f\\n\",sqrt(info.max_dist_sq));\n",
        "\n",
        "    // free the data matrix\n",
        "    free (data);\n",
        "}"
      ],
      "metadata": {
        "colab": {
          "base_uri": "https://localhost:8080/"
        },
        "id": "hUk7_SAeigTN",
        "outputId": "1f3bbe41-f4c9-41ab-c00b-2d77c57244d2"
      },
      "execution_count": 30,
      "outputs": [
        {
          "output_type": "stream",
          "name": "stdout",
          "text": [
            "Overwriting extreme_v6.c\n"
          ]
        }
      ]
    },
    {
      "cell_type": "markdown",
      "source": [
        "## To build our new program we need to add the source file *vec.c* to our compile command."
      ],
      "metadata": {
        "id": "BwQGnlhMjOeY"
      }
    },
    {
      "cell_type": "code",
      "source": [
        "!gcc -O3 -ffast-math -march=native -o extreme_v6 extreme_v6.c vec.c -lm"
      ],
      "metadata": {
        "id": "N2GdUOndjPxD"
      },
      "execution_count": 31,
      "outputs": []
    },
    {
      "cell_type": "code",
      "source": [
        "!time cat mnist2000.txt | ./extreme_v6"
      ],
      "metadata": {
        "colab": {
          "base_uri": "https://localhost:8080/"
        },
        "id": "-l3C_BesjUw1",
        "outputId": "d36f47ca-c15a-4830-ac06-19a79ac11970"
      },
      "execution_count": 32,
      "outputs": [
        {
          "output_type": "stream",
          "name": "stdout",
          "text": [
            "The extreme pair has indices (1618,1895)\n",
            "The distance between the extreme pair is 3928.75\n",
            "\n",
            "real\t0m1.161s\n",
            "user\t0m1.068s\n",
            "sys\t0m0.025s\n"
          ]
        }
      ]
    },
    {
      "cell_type": "code",
      "source": [],
      "metadata": {
        "id": "J6Iabm_rjbfK"
      },
      "execution_count": 24,
      "outputs": []
    }
  ]
}