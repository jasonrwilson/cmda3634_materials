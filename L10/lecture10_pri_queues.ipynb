{
 "cells": [
  {
   "cell_type": "markdown",
   "metadata": {
    "id": "Fp1cQz2j0KKA"
   },
   "source": [
    "# Lecture 10 : Priority Queues"
   ]
  },
  {
   "cell_type": "markdown",
   "metadata": {
    "id": "7SBKi9fwjF5x"
   },
   "source": [
    "## Clone the materials repo to access datafiles."
   ]
  },
  {
   "cell_type": "code",
   "execution_count": 1,
   "metadata": {
    "colab": {
     "base_uri": "https://localhost:8080/"
    },
    "id": "emLGIWBChr43",
    "outputId": "0897e38d-b830-4d6d-8872-661c43211035"
   },
   "outputs": [
    {
     "name": "stdout",
     "output_type": "stream",
     "text": [
      "Cloning into 'cmda3634_materials'...\n",
      "remote: Enumerating objects: 196, done.\u001b[K\n",
      "remote: Counting objects: 100% (159/159), done.\u001b[K\n",
      "remote: Compressing objects: 100% (152/152), done.\u001b[K\n",
      "remote: Total 196 (delta 54), reused 9 (delta 2), pack-reused 37 (from 1)\u001b[K\n",
      "Receiving objects: 100% (196/196), 35.51 MiB | 14.11 MiB/s, done.\n",
      "Resolving deltas: 100% (59/59), done.\n"
     ]
    }
   ],
   "source": [
    "!git clone https://code.vt.edu/jasonwil/cmda3634_materials.git"
   ]
  },
  {
   "cell_type": "code",
   "execution_count": 2,
   "metadata": {
    "id": "Glr3X4i2hx4A"
   },
   "outputs": [],
   "source": [
    "# copy the lecture 10 files to our working directory\n",
    "!cp cmda3634_materials/L10/* ."
   ]
  },
  {
   "cell_type": "markdown",
   "metadata": {
    "id": "wtA-8SKqheQx"
   },
   "source": [
    "# Part 1 : Motivation"
   ]
  },
  {
   "cell_type": "markdown",
   "metadata": {
    "id": "Wl0c1AT30SKK"
   },
   "source": [
    "## Suppose we want to find the k smallest numbers in a file or the k numbers closest to a given number.  \n",
    "\n",
    "## An example application would be to find the $k^{th}$ order statistic of a dataset.  \n",
    "\n",
    "## More generally, we may want to find the k datapoints in $\\mathbb{R}^{dim}$ closest to a given datapoint.\n",
    "\n",
    "## An example application would be **k-nearest neighbors classification**.  \n",
    "\n",
    "## For knn classification, we classify a test point based on the classes of the majority of the k-nearest neighbors from the training set.\n",
    "\n",
    "## For these applications and others it is helpful to use an abstract data type called a **priority queue**.\n",
    "\n",
    "## Each element in a priority queue has an associated priority. In a priority queue, elements with high priority are served before elements with low priority.\n",
    "\n",
    "## **We will consider two different implementations of the priority queue to illustrate the importance of using good algorithms.**"
   ]
  },
  {
   "cell_type": "markdown",
   "metadata": {
    "id": "Zp_3Zxs42g08"
   },
   "source": [
    "# Part 2 : Priority Queue Interface"
   ]
  },
  {
   "cell_type": "markdown",
   "metadata": {
    "id": "01oDLoMg2vzt"
   },
   "source": [
    "## We start with our priority queue interface which we put into the *pri_queue.h* header file."
   ]
  },
  {
   "cell_type": "code",
   "execution_count": 3,
   "metadata": {
    "colab": {
     "base_uri": "https://localhost:8080/"
    },
    "id": "fx1BxG5HzftJ",
    "outputId": "dacbab15-fd2d-4247-d2bd-88810f6ce5ef"
   },
   "outputs": [
    {
     "name": "stdout",
     "output_type": "stream",
     "text": [
      "Writing pri_queue.h\n"
     ]
    }
   ],
   "source": [
    "%%writefile pri_queue.h\n",
    "#ifndef PRI_QUEUE_H\n",
    "#define PRI_QUEUE_H\n",
    "\n",
    "typedef struct pri_queue_element_s {\n",
    "    double priority;\n",
    "    int id;\n",
    "} pri_queue_element;\n",
    "\n",
    "typedef struct pri_queue_s {\n",
    "    pri_queue_element* elements;\n",
    "    int max_size;\n",
    "    int cur_size;\n",
    "} pri_queue;\n",
    "\n",
    "// initialize the priority queue\n",
    "void pri_queue_init(pri_queue* pq, int max_size);\n",
    "\n",
    "// returns the element with the highest priority\n",
    "pri_queue_element pri_queue_peek_top(pri_queue* pq);\n",
    "\n",
    "// deletes the element with the highest priority\n",
    "void pri_queue_delete_top(pri_queue* pq);\n",
    "\n",
    "// inserts the given element\n",
    "void pri_queue_insert(pri_queue* pq, pri_queue_element element);\n",
    "\n",
    "// frees the priority queue\n",
    "void pri_queue_free(pri_queue* pq);\n",
    "\n",
    "#endif"
   ]
  },
  {
   "cell_type": "markdown",
   "metadata": {
    "id": "X1XhGb_c3FqW"
   },
   "source": [
    "## Note that our priority queue interface uses two C structures.\n",
    "\n",
    "## The first C structure *pri_queue_element* specifies the **priority** and **id** of an element on the priority queue.  \n",
    "\n",
    "## The *priority* is a double and the *id* is an integer.  \n",
    "\n",
    "## The element with the highest priority will be at the top of the priority queue.  \n",
    "\n",
    "## The *id* allows the user of the priority queue to identify the element with that given priority.  Frequently the *id* is the index of the element in an array containing all of the elements in a dataset.\n",
    "\n",
    "## The second C structure **pri_queue** is for the priority queue itself.  Note that there will be an array of priority queue elements but only a pointer to the array is specified in the structure.  This means that the array will have to be dynamically allocated using **malloc**.  Note that the priority queue has a **max_size** which will be specified by the user as well as a **cur_size** which is initially equal to zero."
   ]
  },
  {
   "cell_type": "markdown",
   "metadata": {
    "id": "eb_RtZDR5hEz"
   },
   "source": [
    "## The first function of the priority queue *pri_queue_init* is for initialization.  In object oriented programming language this function is similar to a **constructor**.  The implementation of this method will have to dynamically allocate space to store the priority queue.  We provide another function *pri_queue_free* which will free up the dynamically allocated memory.\n",
    "\n",
    "## The *pri_queue_peek_top* function allows the user to look at the element in the priority queue with the highest priority **without removing it**.  It will raise an error and terminate the program if the priority queue is empty.\n",
    "\n",
    "## The *pri_queue_delete_top* function deletes the element in the priority queue with the highest priority.  It will raise an error and terminate the program if the priority queue is empty.  \n",
    "\n",
    "## Finally, the *pri_queue_insert* function inserts the given element into the priority queue.  It will raise an error and terminate the program if the priority queue is already full.  "
   ]
  },
  {
   "cell_type": "markdown",
   "metadata": {
    "id": "9YtAMsr08qtT"
   },
   "source": [
    "# Part 3 : First Priority Queue Implementation"
   ]
  },
  {
   "cell_type": "markdown",
   "metadata": {
    "id": "Yog9L6oX80rr"
   },
   "source": [
    "## For our first priority queue implementation we will store the elements in the priority queue in sorted order according to priority with the lowest priority element stored at the beginning of the array and the highest priority element stored at the end of the array.\n",
    "\n",
    "## With this implementation all functions except *pri_queue_insert* are fast and straightforward.\n",
    "\n",
    "## For the *pri_queue_insert* function we maintain order while inserting using the following two steps:\n",
    "\n",
    "* Find the correct place for the new element in the sorted array while simultaneously moving all elements in the array with a priority higher than the new element to the right one position to make room for the new element.  \n",
    "\n",
    "* Insert the new element in the correct place.\n",
    "\n",
    "## In the worst case the insert function will have to move all the elements!  \n",
    "\n",
    "## Later we will implement the priority queue more efficiently using a heap.\n",
    "\n",
    "## Here is a starter file for the implementation."
   ]
  },
  {
   "cell_type": "code",
   "execution_count": 4,
   "metadata": {
    "colab": {
     "base_uri": "https://localhost:8080/"
    },
    "id": "v6EbK8ruqlGk",
    "outputId": "fb499f4a-ea50-4a3c-b84e-adcbeb3c995f"
   },
   "outputs": [
    {
     "name": "stdout",
     "output_type": "stream",
     "text": [
      "Writing pri_queue_start.c\n"
     ]
    }
   ],
   "source": [
    "%%writefile pri_queue_start.c\n",
    "#include <stdio.h>\n",
    "#include <stdlib.h>\n",
    "#include \"pri_queue.h\"\n",
    "\n",
    "// initialize the priority queue\n",
    "void pri_queue_init(pri_queue* pq, int max_size) {\n",
    "\n",
    "}\n",
    "\n",
    "// returns the element with the highest priority\n",
    "pri_queue_element pri_queue_peek_top(pri_queue* pq) {\n",
    "    if (pq->cur_size == 0) {\n",
    "        printf (\"error : underflow in pri_queue_peek_top\\n\");\n",
    "        exit(1);\n",
    "    }\n",
    "\n",
    "}\n",
    "\n",
    "// deletes the element with the highest priority\n",
    "void pri_queue_delete_top(pri_queue* pq) {\n",
    "    if (pq->cur_size == 0) {\n",
    "        printf (\"error : underflow in pri_queue_delete_top\\n\");\n",
    "        exit(1);\n",
    "    }\n",
    "\n",
    "}\n",
    "\n",
    "// inserts the given element\n",
    "void pri_queue_insert(pri_queue* pq, pri_queue_element element) {\n",
    "    if (pq->cur_size >= pq->max_size) {\n",
    "        printf (\"error : overflow in pri_queue_insert\\n\");\n",
    "        exit(1);\n",
    "    }\n",
    "\n",
    "    // find the correct place for the new element\n",
    "    // while simultaneously moving existing elements with\n",
    "    // higher priority to the right one space\n",
    "\n",
    "    // insert the new element\n",
    "\n",
    "}\n",
    "\n",
    "// frees the priority queue\n",
    "void pri_queue_free(pri_queue* pq) {\n",
    "    if (pq->elements == 0) {\n",
    "        printf (\"error : null elements pointer in pri_queue_free\\n\");\n",
    "        exit(1);\n",
    "    }\n",
    "    free (pq->elements);\n",
    "    pq->elements = 0;\n",
    "}"
   ]
  },
  {
   "cell_type": "markdown",
   "metadata": {
    "id": "YpAKsZUxqtO1"
   },
   "source": [
    "## Here is the full implementation."
   ]
  },
  {
   "cell_type": "code",
   "execution_count": 5,
   "metadata": {
    "colab": {
     "base_uri": "https://localhost:8080/"
    },
    "id": "0qTg4bb828Px",
    "outputId": "ddb4b015-d855-4187-f0f4-17cb7fd33c6b"
   },
   "outputs": [
    {
     "name": "stdout",
     "output_type": "stream",
     "text": [
      "Writing pri_queue.c\n"
     ]
    }
   ],
   "source": [
    "%%writefile pri_queue.c\n",
    "#include <stdio.h>\n",
    "#include <stdlib.h>\n",
    "#include \"pri_queue.h\"\n",
    "\n",
    "// initialize the priority queue\n",
    "void pri_queue_init(pri_queue* pq, int max_size) {\n",
    "    pq->elements = (pri_queue_element*)malloc(max_size*sizeof(pri_queue_element));\n",
    "    if (pq->elements == NULL) {\n",
    "        printf (\"error : malloc failed in pri_queue_init\\n\");\n",
    "        exit(1);\n",
    "    }\n",
    "    pq->max_size = max_size;\n",
    "    pq->cur_size = 0;\n",
    "}\n",
    "\n",
    "// returns the element with the highest priority\n",
    "pri_queue_element pri_queue_peek_top(pri_queue* pq) {\n",
    "    if (pq->cur_size == 0) {\n",
    "        printf (\"error : underflow in pri_queue_peek_top\\n\");\n",
    "        exit(1);\n",
    "    }\n",
    "    return pq->elements[pq->cur_size-1];\n",
    "}\n",
    "\n",
    "// deletes the element with the highest priority\n",
    "void pri_queue_delete_top(pri_queue* pq) {\n",
    "    if (pq->cur_size == 0) {\n",
    "        printf (\"error : underflow in pri_queue_delete_top\\n\");\n",
    "        exit(1);\n",
    "    }\n",
    "    pq->cur_size -= 1;\n",
    "}\n",
    "\n",
    "// inserts the given element\n",
    "void pri_queue_insert(pri_queue* pq, pri_queue_element element) {\n",
    "    if (pq->cur_size >= pq->max_size) {\n",
    "        printf (\"error : overflow in pri_queue_insert\\n\");\n",
    "        exit(1);\n",
    "    }\n",
    "\n",
    "    // find the correct place for the new element\n",
    "    // while simultaneously moving existing elements with\n",
    "    // higher priority to the right one space\n",
    "    int place = pq->cur_size;\n",
    "    while (place > 0) {\n",
    "        if (element.priority >= pq->elements[place-1].priority) {\n",
    "            break;\n",
    "        }\n",
    "        // make space for the new element\n",
    "        pq->elements[place] = pq->elements[place-1];\n",
    "        place -= 1;\n",
    "    }\n",
    "\n",
    "    // insert the new element\n",
    "    pq->elements[place] = element;\n",
    "    pq->cur_size += 1;\n",
    "}\n",
    "\n",
    "// frees the priority queue\n",
    "void pri_queue_free(pri_queue* pq) {\n",
    "    if (pq->elements == 0) {\n",
    "        printf (\"error : null elements pointer in pri_queue_free\\n\");\n",
    "        exit(1);\n",
    "    }\n",
    "    free (pq->elements);\n",
    "    pq->elements = 0;\n",
    "}"
   ]
  },
  {
   "cell_type": "markdown",
   "metadata": {
    "id": "x5EVwC3zFKet"
   },
   "source": [
    "# Part 4 : Insertion Sort"
   ]
  },
  {
   "cell_type": "markdown",
   "metadata": {
    "id": "6KcjHPYnHp29"
   },
   "source": [
    "## As a first application of our priority queue let's sort an input file of numbers from smallest to largest.  Given our current implementation of the priority queue, this is an **insertion sort**.  \n",
    "\n",
    "## **We can sort from smallest to largest by negating the priorities.**\n",
    "\n",
    "## Here is a starter file for *sort.c*."
   ]
  },
  {
   "cell_type": "code",
   "execution_count": 6,
   "metadata": {
    "colab": {
     "base_uri": "https://localhost:8080/"
    },
    "id": "evkjZrXkgq0M",
    "outputId": "65c1c623-c687-4db3-f565-eddba36299bd"
   },
   "outputs": [
    {
     "name": "stdout",
     "output_type": "stream",
     "text": [
      "Writing sort_start.c\n"
     ]
    }
   ],
   "source": [
    "%%writefile sort_start.c\n",
    "#include <stdio.h>\n",
    "#include <stdlib.h>\n",
    "#include \"pri_queue.h\"\n",
    "\n",
    "int main () {\n",
    "\n",
    "    // read the number of entries in the file\n",
    "    int len;\n",
    "    if (scanf(\"%d\",&len) != 1) {\n",
    "        printf (\"error reading the number of entries!\\n\");\n",
    "        return 1;\n",
    "    }\n",
    "\n",
    "    // read and store the data\n",
    "    double* data = (double*)malloc(len*sizeof(double));\n",
    "    if (data == NULL) {\n",
    "        printf (\"malloc failed to allocate data\\n\");\n",
    "        return 1;\n",
    "    }\n",
    "    for (int i=0;i<len;i++) {\n",
    "        if (scanf(\"%lf\",&(data[i])) != 1) {\n",
    "            printf (\"error reading dataset\\n\");\n",
    "            return 1;\n",
    "        }\n",
    "    }\n",
    "\n",
    "    // initialize the priority queue\n",
    "\n",
    "    // add the entries to the priority queue\n",
    "\n",
    "    // print the entries from smallest to largest\n",
    "\n",
    "    // free the data and priority queue\n",
    "\n",
    "}"
   ]
  },
  {
   "cell_type": "markdown",
   "metadata": {
    "id": "lmStyWywI6gj"
   },
   "source": [
    "## Here is the full implementation."
   ]
  },
  {
   "cell_type": "code",
   "execution_count": 7,
   "metadata": {
    "colab": {
     "base_uri": "https://localhost:8080/"
    },
    "id": "oWFKHvpACnNC",
    "outputId": "becd33ed-19fb-4ebc-9122-136e109b3ec5"
   },
   "outputs": [
    {
     "name": "stdout",
     "output_type": "stream",
     "text": [
      "Writing sort.c\n"
     ]
    }
   ],
   "source": [
    "%%writefile sort.c\n",
    "#include <stdio.h>\n",
    "#include <stdlib.h>\n",
    "#include \"pri_queue.h\"\n",
    "\n",
    "int main () {\n",
    "\n",
    "    // read the number of entries in the file\n",
    "    int len;\n",
    "    if (scanf(\"%d\",&len) != 1) {\n",
    "        printf (\"error reading the number of entries!\\n\");\n",
    "        return 1;\n",
    "    }\n",
    "\n",
    "    // read and store the data\n",
    "    double* data = (double*)malloc(len*sizeof(double));\n",
    "    if (data == NULL) {\n",
    "        printf (\"malloc failed to allocate data\\n\");\n",
    "        return 1;\n",
    "    }\n",
    "    for (int i=0;i<len;i++) {\n",
    "        if (scanf(\"%lf\",&(data[i])) != 1) {\n",
    "            printf (\"error reading dataset\\n\");\n",
    "            return 1;\n",
    "        }\n",
    "    }\n",
    "\n",
    "    // initialize the priority queue\n",
    "    pri_queue pq;\n",
    "    pri_queue_init (&pq,len);\n",
    "\n",
    "    // add the entries to the priority queue\n",
    "    for (int i=0;i<len;i++) {\n",
    "        pri_queue_element ele = { -1*data[i], i };\n",
    "        pri_queue_insert (&pq,ele);\n",
    "    }\n",
    "\n",
    "    // print the entries from smallest to largest\n",
    "    while (pq.cur_size > 0) {\n",
    "        pri_queue_element ele = pri_queue_peek_top(&pq);\n",
    "        printf (\"%g\\n\",data[ele.id]);\n",
    "        pri_queue_delete_top(&pq);\n",
    "    }\n",
    "\n",
    "    // free the data and priority queue\n",
    "    free (data);\n",
    "    pri_queue_free (&pq);\n",
    "}"
   ]
  },
  {
   "cell_type": "code",
   "execution_count": 8,
   "metadata": {
    "id": "r-aDikKLIGwl"
   },
   "outputs": [],
   "source": [
    "!gcc -o insertion_sort sort.c pri_queue.c"
   ]
  },
  {
   "cell_type": "code",
   "execution_count": 9,
   "metadata": {
    "colab": {
     "base_uri": "https://localhost:8080/"
    },
    "id": "dLkwSKO8IUBU",
    "outputId": "03b4a683-7fec-4bb6-8b4c-cd83f596fd6a"
   },
   "outputs": [
    {
     "name": "stdout",
     "output_type": "stream",
     "text": [
      "-3.5\n",
      "-2.4\n",
      "1.2\n",
      "2.6\n",
      "3.2\n"
     ]
    }
   ],
   "source": [
    "!echo 5 1.2 -2.4 3.2 -3.5 2.6 | ./insertion_sort"
   ]
  },
  {
   "cell_type": "code",
   "execution_count": 10,
   "metadata": {
    "colab": {
     "base_uri": "https://localhost:8080/"
    },
    "id": "V_sNNqWMKQUe",
    "outputId": "52122b44-9aa9-4654-eaa4-3f3b157ac065"
   },
   "outputs": [
    {
     "name": "stdout",
     "output_type": "stream",
     "text": [
      "\n",
      "real\t0m10.653s\n",
      "user\t0m10.546s\n",
      "sys\t0m0.014s\n"
     ]
    }
   ],
   "source": [
    "!time cat num100k.txt | ./insertion_sort > sorted100k.txt"
   ]
  },
  {
   "cell_type": "code",
   "execution_count": 11,
   "metadata": {
    "colab": {
     "base_uri": "https://localhost:8080/"
    },
    "id": "eM2VWuQmi6nM",
    "outputId": "f53ce706-24df-4c51-bad2-f112d4097d41"
   },
   "outputs": [
    {
     "name": "stdout",
     "output_type": "stream",
     "text": [
      "0\n",
      "1\n",
      "2\n",
      "3\n",
      "4\n",
      "5\n",
      "6\n",
      "7\n",
      "8\n",
      "9\n"
     ]
    }
   ],
   "source": [
    "!head -10 sorted100k.txt"
   ]
  },
  {
   "cell_type": "markdown",
   "metadata": {
    "id": "fNBnfdpNifCv"
   },
   "source": [
    "## It takes around 11 seconds to sort 100000 numbers.  About how long will it take insertion sort to sort 1000000 numbers?\n",
    "\n",
    "## Answer: Since insertion sort is O(n^2) multiplying the problem size by 10 multiples the runtime by 100.  Thus it should take roughly 11*100 = 1100 seconds or around 19 minutes.  "
   ]
  },
  {
   "cell_type": "code",
   "execution_count": 12,
   "metadata": {
    "colab": {
     "base_uri": "https://localhost:8080/"
    },
    "id": "THjFnztLiYiu",
    "outputId": "89020ece-8950-4fb4-cf37-0a6c940d9090"
   },
   "outputs": [
    {
     "name": "stdout",
     "output_type": "stream",
     "text": [
      "\n",
      "real\t19m4.199s\n",
      "user\t18m53.326s\n",
      "sys\t0m0.791s\n"
     ]
    }
   ],
   "source": [
    "!time cat num1m.txt | ./insertion_sort > insertion_sorted1m.txt"
   ]
  },
  {
   "cell_type": "code",
   "execution_count": 13,
   "metadata": {
    "colab": {
     "base_uri": "https://localhost:8080/"
    },
    "id": "XIk2mNWGmNPG",
    "outputId": "f3b839bc-88f7-4b37-f830-8d817d53c17f"
   },
   "outputs": [
    {
     "name": "stdout",
     "output_type": "stream",
     "text": [
      "0.000188\n",
      "0.000327\n",
      "0.000371\n",
      "0.000515\n",
      "0.000717\n",
      "0.000843\n",
      "0.00093\n",
      "0.001011\n",
      "0.001055\n",
      "0.001128\n"
     ]
    }
   ],
   "source": [
    "!head -10 insertion_sorted1m.txt"
   ]
  },
  {
   "cell_type": "markdown",
   "metadata": {
    "id": "FZnHUTEhpydv"
   },
   "source": [
    "# Part 5 : Heap Sort"
   ]
  },
  {
   "cell_type": "markdown",
   "metadata": {
    "id": "nO_UXEQgp6de"
   },
   "source": [
    "## In a separate part of this lecture you learned about heaps.  \n",
    "\n",
    "## In the following implementation of a priority queue we use a heap.  \n",
    "\n",
    "## Note that both insertion and deletion now take $O(\\log n)$ time in the worst case"
   ]
  },
  {
   "cell_type": "code",
   "execution_count": 14,
   "metadata": {
    "colab": {
     "base_uri": "https://localhost:8080/"
    },
    "id": "uIuKud3ijfl8",
    "outputId": "0b9e8015-3868-4c8f-b943-056f09cc2095"
   },
   "outputs": [
    {
     "name": "stdout",
     "output_type": "stream",
     "text": [
      "Writing pri_queue_heap.c\n"
     ]
    }
   ],
   "source": [
    "%%writefile pri_queue_heap.c\n",
    "#include <stdio.h>\n",
    "#include <stdlib.h>\n",
    "#include \"pri_queue.h\"\n",
    "\n",
    "void pri_queue_init(pri_queue* pq, int max_size) {\n",
    "    pq->elements = (pri_queue_element*)malloc(max_size*sizeof(pri_queue_element));\n",
    "    if (pq->elements == NULL) {\n",
    "        printf (\"error : malloc failed in pri_queue_init\\n\");\n",
    "        exit(1);\n",
    "    }\n",
    "    pq->max_size = max_size;\n",
    "    pq->cur_size = 0;\n",
    "}\n",
    "\n",
    "pri_queue_element pri_queue_peek_top(pri_queue* pq) {\n",
    "    if (pq->cur_size == 0) {\n",
    "        printf (\"error : underflow in pri_queue_peek_top\\n\");\n",
    "        exit(1);\n",
    "    }\n",
    "    return pq->elements[0];\n",
    "}\n",
    "\n",
    "void pri_queue_delete_top(pri_queue* pq) {\n",
    "\n",
    "    // check for an empty priority queue\n",
    "    if (pq->cur_size == 0) {\n",
    "        printf (\"error : underflow in pri_queue_delete_top\\n\");\n",
    "        exit(1);\n",
    "    }\n",
    "\n",
    "    // move the last element to the root and decrease size by 1\n",
    "    pq->elements[0] = pq->elements[pq->cur_size-1];\n",
    "    pq->cur_size -= 1;\n",
    "\n",
    "    // start at the root\n",
    "    int current = 0;\n",
    "\n",
    "    // descend the tree swapping as necessary to maintain the heap property\n",
    "    while (current*2+1<pq->cur_size) {\n",
    "        // first consider the left child\n",
    "        int child = current*2+1;\n",
    "        // handle the case where the right child has higher priority\n",
    "        if ((child+1<pq->cur_size) &&\n",
    "                (pq->elements[child+1].priority > pq->elements[child].priority)) {\n",
    "            child = child + 1;\n",
    "        }\n",
    "        // check to see if we should swap current and child\n",
    "        if (pq->elements[current].priority < pq->elements[child].priority) {\n",
    "            pri_queue_element temp = pq->elements[current];\n",
    "            pq->elements[current] = pq->elements[child];\n",
    "            pq->elements[child] = temp;\n",
    "        } else {\n",
    "            // done if largest child value is less than or equal to ours\n",
    "            break;\n",
    "        }\n",
    "        // descend the tree\n",
    "        current = child;\n",
    "    }\n",
    "}\n",
    "\n",
    "void pri_queue_insert(pri_queue* pq, pri_queue_element element) {\n",
    "\n",
    "    // check to see if there is room for the new element\n",
    "    if (pq->cur_size == pq->max_size) {\n",
    "        printf(\"error : overflow in pri_queue_insert!\\n\");\n",
    "        exit (1);\n",
    "    }\n",
    "\n",
    "    // set the current index\n",
    "    int current = pq->cur_size;\n",
    "\n",
    "    // insert at the end\n",
    "    pq->elements[current] = element;\n",
    "    pq->cur_size += 1;\n",
    "\n",
    "    // climb the tree swapping as necessary to maintain the heap property\n",
    "    while (current > 0) {\n",
    "        int parent = (current-1)/2;\n",
    "        // check to see if we need to swap value with parent\n",
    "        if (pq->elements[parent].priority < pq->elements[current].priority) {\n",
    "            pri_queue_element temp = pq->elements[current];\n",
    "            pq->elements[current] = pq->elements[parent];\n",
    "            pq->elements[parent] = temp;\n",
    "        } else {\n",
    "            // done if parent value is greater than or equal to current\n",
    "            break;\n",
    "        }\n",
    "        // climb the tree\n",
    "        current = parent;\n",
    "    }\n",
    "}\n",
    "\n",
    "void pri_queue_free(pri_queue* pq) {\n",
    "    if (pq->elements == 0) {\n",
    "        printf (\"error : null elements pointer in pri_queue_free\\n\");\n",
    "        exit(1);\n",
    "    }\n",
    "    free (pq->elements);\n",
    "    pq->elements = 0;\n",
    "}"
   ]
  },
  {
   "cell_type": "code",
   "execution_count": 15,
   "metadata": {
    "id": "i41es5bTrO2G"
   },
   "outputs": [],
   "source": [
    "!gcc -o heap_sort sort.c pri_queue_heap.c"
   ]
  },
  {
   "cell_type": "code",
   "execution_count": 16,
   "metadata": {
    "colab": {
     "base_uri": "https://localhost:8080/"
    },
    "id": "Drc_t4I-uEXi",
    "outputId": "cbd5389d-d1a0-45e6-e53f-816753101ce9"
   },
   "outputs": [
    {
     "name": "stdout",
     "output_type": "stream",
     "text": [
      "\n",
      "real\t0m1.822s\n",
      "user\t0m1.749s\n",
      "sys\t0m0.078s\n"
     ]
    }
   ],
   "source": [
    "!time cat num1m.txt | ./heap_sort > heap_sorted1m.txt"
   ]
  },
  {
   "cell_type": "code",
   "execution_count": 17,
   "metadata": {
    "colab": {
     "base_uri": "https://localhost:8080/"
    },
    "id": "hPpm8_8duKWF",
    "outputId": "ddcc7921-db35-4746-a821-76471e6859f5"
   },
   "outputs": [
    {
     "name": "stdout",
     "output_type": "stream",
     "text": [
      "0.000188\n",
      "0.000327\n",
      "0.000371\n",
      "0.000515\n",
      "0.000717\n",
      "0.000843\n",
      "0.00093\n",
      "0.001011\n",
      "0.001055\n",
      "0.001128\n"
     ]
    }
   ],
   "source": [
    "!head -10 heap_sorted1m.txt"
   ]
  },
  {
   "cell_type": "code",
   "execution_count": 20,
   "metadata": {
    "id": "7iCy1_huOPM4"
   },
   "outputs": [],
   "source": [
    "!diff heap_sorted1m.txt insertion_sorted1m.txt"
   ]
  },
  {
   "cell_type": "markdown",
   "metadata": {
    "id": "I16DM_-am01G"
   },
   "source": [
    "# Part 6 : Best Wordle Start Words\n",
    "\n",
    "## Here is code for finding the best Wordle start word based on the following score heuristic.\n",
    "\n",
    "## We first read a file of all possible wordle guesses and for each blank we keep track of the number of times each letter occurs in that blank.  \n",
    "\n",
    "## For each word we calculate a **score** which is the sum over each of the blanks of the number of words in the list that share the same letter in that blank.\n",
    "\n",
    "## For example, since *s* occurs in the first blank 1666 times, $t$ occurs in the second blank 256 times, $a$ occurs in the third blank 1374 times, $r$ occurs in the fourth blank 809 times, and *t* occurs in the fifth blank 795 times the **score** of **start** is 4900.\n",
    "\n",
    "## Using this heuristic, the best Wordle starting word is **sanes** with a score of 12337."
   ]
  },
  {
   "cell_type": "code",
   "execution_count": 30,
   "metadata": {
    "colab": {
     "base_uri": "https://localhost:8080/"
    },
    "id": "PiiCAQeaDNsB",
    "outputId": "8dc2e327-88e7-48ce-afa7-4423cf3f6f06"
   },
   "outputs": [
    {
     "name": "stdout",
     "output_type": "stream",
     "text": [
      "Overwriting start.c\n"
     ]
    }
   ],
   "source": [
    "%%writefile start.c\n",
    "#include <stdio.h>\n",
    "#include <stdlib.h>\n",
    "#include <string.h>\n",
    "\n",
    "int main (int argc, char** argv) {\n",
    "\n",
    "    // read the number of words in the file\n",
    "    int num_words;\n",
    "    if (scanf(\"%d\",&num_words) != 1) {\n",
    "        printf (\"error reading the number of words!\\n\");\n",
    "        return 1;\n",
    "    }\n",
    "\n",
    "    // read in the list of possible Wordle guesses\n",
    "    char* words = (char*)malloc(num_words*6*sizeof(char));\n",
    "    if (words == NULL) {\n",
    "        printf (\"malloc failed to allocate words\\n\");\n",
    "        return 1;\n",
    "    }\n",
    "    for (int i=0;i<num_words;i++) {\n",
    "        if (scanf(\"%5s\",words+i*6) != 1) {\n",
    "            printf (\"error reading words!\\n\");\n",
    "            return 1;\n",
    "        }\n",
    "    }\n",
    "\n",
    "    // for each blank calculate frequency of each letter\n",
    "    int count[5][26] = { { 0 }, { 0 }, { 0 }, { 0 }, { 0 } };\n",
    "    for (int i=0;i<num_words;i++) {\n",
    "        for (int j=0;j<5;j++) {\n",
    "            count[j][words[i*6+j]-'a'] += 1;\n",
    "        }\n",
    "    }\n",
    "\n",
    "    // find the Wordle answer with the max score\n",
    "    char* start;\n",
    "    int max_score = 0;\n",
    "    for (int i=0;i<num_words;i++) {\n",
    "        int score = 0;\n",
    "        for (int j=0;j<5;j++) {\n",
    "            score += count[j][words[i*6+j]-'a'];\n",
    "        }\n",
    "        if (score > max_score) {\n",
    "            max_score = score;\n",
    "            start = words+i*6;\n",
    "        }\n",
    "    }\n",
    "\n",
    "    printf (\"best start word is %s with a score of %d\\n\",start,max_score);\n",
    "\n",
    "    // free words\n",
    "    free (words);\n",
    "}"
   ]
  },
  {
   "cell_type": "code",
   "execution_count": 31,
   "metadata": {
    "id": "ExmudXSNm6K7"
   },
   "outputs": [],
   "source": [
    "!gcc -o start start.c"
   ]
  },
  {
   "cell_type": "code",
   "execution_count": 32,
   "metadata": {
    "colab": {
     "base_uri": "https://localhost:8080/"
    },
    "id": "ma5PfeaOm8VG",
    "outputId": "5b4f7b1d-f099-42a4-daf3-f3c0136b19c4"
   },
   "outputs": [
    {
     "name": "stdout",
     "output_type": "stream",
     "text": [
      "best start word is sanes with a score of 12337\n"
     ]
    }
   ],
   "source": [
    "!cat words.txt | ./start"
   ]
  },
  {
   "cell_type": "markdown",
   "metadata": {
    "id": "CKmyEGPZqTyn"
   },
   "source": [
    "## We can use a priority queue to print the words out in sorted order from largest to smallest score.  "
   ]
  },
  {
   "cell_type": "code",
   "execution_count": 33,
   "metadata": {
    "colab": {
     "base_uri": "https://localhost:8080/"
    },
    "id": "mzIsSZEanHNj",
    "outputId": "18b901f3-d2db-4285-9a65-6668f2d2eb5e"
   },
   "outputs": [
    {
     "name": "stdout",
     "output_type": "stream",
     "text": [
      "Overwriting starts.c\n"
     ]
    }
   ],
   "source": [
    "%%writefile starts.c\n",
    "#include <stdio.h>\n",
    "#include <stdlib.h>\n",
    "#include <string.h>\n",
    "#include \"pri_queue.h\"\n",
    "\n",
    "int main () {\n",
    "\n",
    "    // read the number of words in the file\n",
    "    int num_words;\n",
    "    if (scanf(\"%d\",&num_words) != 1) {\n",
    "        printf (\"error reading the number of words!\\n\");\n",
    "        return 1;\n",
    "    }\n",
    "\n",
    "    // read in the list of possible Wordle guesses\n",
    "    char* words = (char*)malloc(num_words*6*sizeof(char));\n",
    "    if (words == NULL) {\n",
    "        printf (\"malloc failed to allocate words\\n\");\n",
    "        return 1;\n",
    "    }\n",
    "    for (int i=0;i<num_words;i++) {\n",
    "        if (scanf(\"%5s\",words+i*6) != 1) {\n",
    "            printf (\"error reading words!\\n\");\n",
    "            return 1;\n",
    "        }\n",
    "    }\n",
    "\n",
    "    // for each blank calculate frequency of each letter\n",
    "    int count[5][26] = { { 0 }, { 0 }, { 0 }, { 0 }, { 0 } };\n",
    "    for (int i=0;i<num_words;i++) {\n",
    "        for (int j=0;j<5;j++) {\n",
    "            count[j][words[i*6+j]-'a'] += 1;\n",
    "        }\n",
    "    }\n",
    "\n",
    "    // initialize the priority queue\n",
    "    pri_queue pq;\n",
    "    pri_queue_init (&pq,num_words);\n",
    "\n",
    "    // find the Wordle answer with the max score\n",
    "    char* start;\n",
    "    int max_score = 0;\n",
    "    for (int i=0;i<num_words;i++) {\n",
    "        int score = 0;\n",
    "        for (int j=0;j<5;j++) {\n",
    "            score += count[j][words[i*6+j]-'a'];\n",
    "        }\n",
    "        pri_queue_element ele = { score, i };\n",
    "        pri_queue_insert (&pq,ele);\n",
    "    }\n",
    "\n",
    "    // print the words from largest score to smallest score\n",
    "    while (pq.cur_size > 0) {\n",
    "        pri_queue_element ele = pri_queue_peek_top(&pq);\n",
    "        printf (\"%s has score %g\\n\",words+ele.id*6,ele.priority);\n",
    "        pri_queue_delete_top(&pq);\n",
    "    }\n",
    "\n",
    "    // free the words and priority queue\n",
    "    free (words);\n",
    "    pri_queue_free (&pq);\n",
    "}"
   ]
  },
  {
   "cell_type": "code",
   "execution_count": 34,
   "metadata": {
    "id": "4zyHj7-xrs4_"
   },
   "outputs": [],
   "source": [
    "!gcc -o starts starts.c pri_queue_heap.c"
   ]
  },
  {
   "cell_type": "code",
   "execution_count": 35,
   "metadata": {
    "id": "nSo9_8x1sfSC"
   },
   "outputs": [],
   "source": [
    "!cat words.txt | ./starts > best_words.txt"
   ]
  },
  {
   "cell_type": "code",
   "execution_count": 36,
   "metadata": {
    "colab": {
     "base_uri": "https://localhost:8080/"
    },
    "id": "2l4kF6gRsj2P",
    "outputId": "c7c7b836-a125-4bb2-ba77-8c33966ed62b"
   },
   "outputs": [
    {
     "name": "stdout",
     "output_type": "stream",
     "text": [
      "sanes has score 12337\n",
      "sores has score 12304\n",
      "sales has score 12191\n",
      "sones has score 12069\n",
      "pares has score 12036\n",
      "sates has score 11953\n",
      "soles has score 11923\n",
      "bares has score 11909\n",
      "cares has score 11876\n",
      "mares has score 11857\n"
     ]
    }
   ],
   "source": [
    "!head -10 best_words.txt"
   ]
  },
  {
   "cell_type": "code",
   "execution_count": 37,
   "metadata": {
    "colab": {
     "base_uri": "https://localhost:8080/"
    },
    "id": "ozdbO2l_sl6D",
    "outputId": "ae9ff3d9-97a7-4b1e-dc8d-e036ad85c962"
   },
   "outputs": [
    {
     "name": "stdout",
     "output_type": "stream",
     "text": [
      "aargh has score 5819\n"
     ]
    }
   ],
   "source": [
    "!cat best_words.txt | grep aargh"
   ]
  },
  {
   "cell_type": "code",
   "execution_count": null,
   "metadata": {
    "id": "MBZxKI8ltDno"
   },
   "outputs": [],
   "source": []
  }
 ],
 "metadata": {
  "colab": {
   "provenance": []
  },
  "kernelspec": {
   "display_name": "Python (Anaconda)",
   "language": "python",
   "name": "python3"
  },
  "language_info": {
   "codemirror_mode": {
    "name": "ipython",
    "version": 3
   },
   "file_extension": ".py",
   "mimetype": "text/x-python",
   "name": "python",
   "nbconvert_exporter": "python",
   "pygments_lexer": "ipython3",
   "version": "3.11.7"
  }
 },
 "nbformat": 4,
 "nbformat_minor": 4
}
