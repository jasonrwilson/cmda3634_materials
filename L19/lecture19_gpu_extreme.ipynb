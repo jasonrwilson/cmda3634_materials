{
  "nbformat": 4,
  "nbformat_minor": 0,
  "metadata": {
    "colab": {
      "provenance": []
    },
    "kernelspec": {
      "name": "python3",
      "display_name": "Python 3"
    },
    "language_info": {
      "name": "python"
    }
  },
  "cells": [
    {
      "cell_type": "markdown",
      "source": [
        "# Lecture 19 : GPU Extreme"
      ],
      "metadata": {
        "id": "drcr_AcFtHL5"
      }
    },
    {
      "cell_type": "markdown",
      "source": [
        "## Clone the materials repo to access datafiles."
      ],
      "metadata": {
        "id": "Y6c9cEnHtNHk"
      }
    },
    {
      "cell_type": "code",
      "execution_count": 4,
      "metadata": {
        "colab": {
          "base_uri": "https://localhost:8080/"
        },
        "id": "sIPn3sFUs-P5",
        "outputId": "786ad60f-8c39-43a5-a9c6-9ff50f69ad86"
      },
      "outputs": [
        {
          "output_type": "stream",
          "name": "stdout",
          "text": [
            "Cloning into 'cmda3634_materials'...\n",
            "remote: Enumerating objects: 230, done.\u001b[K\n",
            "remote: Counting objects: 100% (191/191), done.\u001b[K\n",
            "remote: Compressing objects: 100% (168/168), done.\u001b[K\n",
            "remote: Total 230 (delta 83), reused 37 (delta 16), pack-reused 39 (from 1)\u001b[K\n",
            "Receiving objects: 100% (230/230), 47.75 MiB | 8.85 MiB/s, done.\n",
            "Resolving deltas: 100% (83/83), done.\n"
          ]
        }
      ],
      "source": [
        "!git clone https://code.vt.edu/jasonwil/cmda3634_materials.git"
      ]
    },
    {
      "cell_type": "code",
      "source": [
        "# copy the lecture 19 files to our working directory\n",
        "!cp cmda3634_materials/L19/* .\n",
        "# uncompress the .gz files\n",
        "!gzip -d *.gz"
      ],
      "metadata": {
        "id": "2tigY9H_tPk_"
      },
      "execution_count": 5,
      "outputs": []
    },
    {
      "cell_type": "markdown",
      "source": [
        "# Part 1 : Sequential Extreme"
      ],
      "metadata": {
        "id": "S5xo7QwetmxQ"
      }
    },
    {
      "cell_type": "code",
      "source": [
        "%%writefile extreme.c\n",
        "#include <stdio.h>\n",
        "#include <stdlib.h>\n",
        "#include <math.h>\n",
        "#include <time.h>\n",
        "\n",
        "typedef unsigned char byte;\n",
        "\n",
        "// read data from a binary file\n",
        "void read_bin (byte* data, int num_bytes, char* filename, int header_size) {\n",
        "    byte header[header_size];\n",
        "    FILE* fptr;\n",
        "    int num_read;\n",
        "    // open the binary file for reading\n",
        "    fptr = fopen(filename,\"rb\");\n",
        "    // need to check for null\n",
        "    if (fptr == 0) {\n",
        "        printf (\"Error opening binary data file %s.\\n\",filename);\n",
        "        exit(1);\n",
        "    }\n",
        "    // read header\n",
        "    num_read = fread(header, sizeof(byte), header_size, fptr);\n",
        "    // read data\n",
        "    num_read = fread(data, sizeof(byte), num_bytes, fptr);\n",
        "    if (num_read != num_bytes) {\n",
        "        printf (\"Warning : binary data file read error for %s.\\n\",filename);\n",
        "    }\n",
        "    // close the binary file\n",
        "    fclose(fptr);\n",
        "}\n",
        "\n",
        "typedef struct {\n",
        "    int max_dist_sq;\n",
        "    int i,j;\n",
        "} extreme_info;\n",
        "\n",
        "int vec_dist_sq(byte* u, byte* v, int dim) {\n",
        "    int dist_sq = 0;\n",
        "    for (int i=0;i<dim;i++) {\n",
        "\t    dist_sq += (u[i]-v[i])*(u[i]-v[i]);\n",
        "    }\n",
        "    return dist_sq;\n",
        "}\n",
        "\n",
        "int main (int argc, char** argv) {\n",
        "\n",
        "    // read in a MNIST image set\n",
        "    int len = 60000;\n",
        "    int dim = 784;\n",
        "    byte* data = (byte*)malloc(len*dim*sizeof(byte));\n",
        "    char images_file[] = \"train-images-idx3-ubyte\";\n",
        "    read_bin(data,len*dim,images_file,16);\n",
        "\n",
        "    // start the timer\n",
        "    clock_t start = clock();\n",
        "\n",
        "    // find the extreme pair\n",
        "    extreme_info info = { 0, -1, -1 };\n",
        "    for (int i=0;i<len-1;i++) {\n",
        "\t    for (int j=i+1;j<len;j++) {\n",
        "\t        int dist_sq = vec_dist_sq(data+i*dim,data+j*dim,dim);\n",
        "\t        if (dist_sq > info.max_dist_sq) {\n",
        "\t\t        info.max_dist_sq = dist_sq;\n",
        "\t\t        info.i = i;\n",
        "\t\t        info.j = j;\n",
        "\t        }\n",
        "\t    }\n",
        "    }\n",
        "\n",
        "    // stop the timer\n",
        "    clock_t stop = clock();\n",
        "    double elapsed = (double)(stop-start)/CLOCKS_PER_SEC;\n",
        "\n",
        "    // print results\n",
        "    printf (\"number of images = %d\\n\",len);\n",
        "    printf (\"elapsed time = %.4f seconds\\n\",elapsed);\n",
        "    printf (\"extreme distance = %.2f\\n\",sqrt(info.max_dist_sq));\n",
        "    printf (\"extreme pair = (%d,%d)\\n\",info.i,info.j);\n",
        "\n",
        "    // free dynamically allocated memory\n",
        "    free(data);\n",
        "}\n"
      ],
      "metadata": {
        "colab": {
          "base_uri": "https://localhost:8080/"
        },
        "id": "hZaVD9JwtdDE",
        "outputId": "689526ea-59cb-418c-905c-23e09bee5d60"
      },
      "execution_count": 6,
      "outputs": [
        {
          "output_type": "stream",
          "name": "stdout",
          "text": [
            "Overwriting extreme.c\n"
          ]
        }
      ]
    },
    {
      "cell_type": "code",
      "source": [
        "!gcc -O3 -o extreme extreme.c -lm"
      ],
      "metadata": {
        "id": "lGJrD7ibuOb_"
      },
      "execution_count": 7,
      "outputs": []
    },
    {
      "cell_type": "code",
      "source": [
        "!./extreme"
      ],
      "metadata": {
        "colab": {
          "base_uri": "https://localhost:8080/"
        },
        "id": "dUB9qBkluRd1",
        "outputId": "216e8d0b-25a3-4273-9456-b37844b07280"
      },
      "execution_count": 8,
      "outputs": [
        {
          "output_type": "stream",
          "name": "stdout",
          "text": [
            "number of images = 60000\n",
            "elapsed time = 201.5857 seconds\n",
            "extreme distance = 4303.32\n",
            "extreme pair = (26785,59452)\n"
          ]
        }
      ]
    },
    {
      "cell_type": "markdown",
      "source": [
        "## Note that we are reading in the binary version of the MNIST image file rather than the text version.\n",
        "\n",
        "## Binary files take up less space than text files and they load faster as well."
      ],
      "metadata": {
        "id": "cnNZF4Dd4JA4"
      }
    },
    {
      "cell_type": "markdown",
      "source": [
        "# Part 2 : GPU Extreme (Max Distance Only)"
      ],
      "metadata": {
        "id": "SFj_9tNTudUX"
      }
    },
    {
      "cell_type": "markdown",
      "source": [
        "## We start by writing a version that just computes the maximum distance squared over all pairs.  \n",
        "\n",
        "## Note the use of *atomicMax*."
      ],
      "metadata": {
        "id": "ETL1dCG_33g5"
      }
    },
    {
      "cell_type": "code",
      "source": [
        "%%writefile gpu_extreme_v1.cu\n",
        "#include <stdio.h>\n",
        "#include <stdlib.h>\n",
        "#include <time.h>\n",
        "#include <cuda.h>\n",
        "\n",
        "typedef unsigned char byte;\n",
        "\n",
        "// read data from a binary file\n",
        "void read_bin (byte* data, int num_bytes, char* filename, int header_size) {\n",
        "    byte header[header_size];\n",
        "    FILE* fptr;\n",
        "    int num_read;\n",
        "    // open the binary file for reading\n",
        "    fptr = fopen(filename,\"rb\");\n",
        "    // need to check for null\n",
        "    if (fptr == 0) {\n",
        "        printf (\"Error opening binary data file %s.\\n\",filename);\n",
        "        exit(1);\n",
        "    }\n",
        "    // read header\n",
        "    num_read = fread(header, sizeof(byte), header_size, fptr);\n",
        "    // read data\n",
        "    num_read = fread(data, sizeof(byte), num_bytes, fptr);\n",
        "    if (num_read != num_bytes) {\n",
        "        printf (\"Warning : binary data file read error for %s.\\n\",filename);\n",
        "    }\n",
        "    // close the binary file\n",
        "    fclose(fptr);\n",
        "}\n",
        "\n",
        "__global__ void extremeKernel(byte* data, int len, int dim, int* max_dist_sq) {\n",
        "    int thread_num = blockIdx.x*blockDim.x + threadIdx.x;\n",
        "    if (thread_num < len*len) {\n",
        "\t    int i = thread_num/len;\n",
        "\t    int j = thread_num%len;\n",
        "\t    if (i < j) {\n",
        "\t        int dist_sq = 0;\n",
        "\t        for (int k=0;k<dim;k++) {\n",
        "\t\t        int diff = data[i*dim+k]-data[j*dim+k];\n",
        "\t\t        dist_sq += diff*diff;\n",
        "\t        }\n",
        "\t        atomicMax(max_dist_sq,dist_sq);\n",
        "\t    }\n",
        "    }\n",
        "}\n",
        "\n",
        "int main (int argc, char** argv) {\n",
        "\n",
        "    // read in a MNIST image set\n",
        "    int len = 10000;\n",
        "    int dim = 784;\n",
        "    byte* data = (byte*)malloc(len*dim*sizeof(byte));\n",
        "    char images_file[] = \"t10k-images-idx3-ubyte\";\n",
        "    read_bin(data,len*dim,images_file,16);\n",
        "\n",
        "    // allocate device memory\n",
        "    byte* d_data;\n",
        "    int* d_max_dist_sq;\n",
        "    cudaMalloc(&d_data,len*dim*sizeof(byte));\n",
        "    cudaMalloc(&d_max_dist_sq,sizeof(int));\n",
        "\n",
        "    // start the timer\n",
        "    clock_t start = clock();\n",
        "\n",
        "    // copy data to device\n",
        "    cudaMemcpy(d_data,data,len*dim*sizeof(byte),cudaMemcpyHostToDevice);\n",
        "\n",
        "    // initialize the device max_dist_sq to 0\n",
        "    cudaMemset(d_max_dist_sq,0,sizeof(int));\n",
        "\n",
        "    // launch kernel to compute extreme distance\n",
        "    int B = 256;\n",
        "    int G = (len*len+B-1)/B;\n",
        "    extremeKernel <<< G, B >>> (d_data,len,dim,d_max_dist_sq);\n",
        "\n",
        "    // copy max_dist_sq from device to host\n",
        "    int max_dist_sq;\n",
        "    cudaMemcpy(&max_dist_sq,d_max_dist_sq,sizeof(int),cudaMemcpyDeviceToHost);\n",
        "\n",
        "    // stop the timer\n",
        "    clock_t stop = clock();\n",
        "    double elapsed = (double)(stop-start)/CLOCKS_PER_SEC;\n",
        "\n",
        "    // print results\n",
        "    printf (\"number of images = %d\\n\",len);\n",
        "    printf (\"elapsed time = %.4f seconds\\n\",elapsed);\n",
        "    printf (\"extreme distance = %.2f\\n\",sqrt(max_dist_sq));\n",
        "\n",
        "    // free dynamically allocated memory\n",
        "    free(data);\n",
        "    cudaFree(d_data);\n",
        "    cudaFree(d_max_dist_sq);\n",
        "}\n"
      ],
      "metadata": {
        "colab": {
          "base_uri": "https://localhost:8080/"
        },
        "id": "y7MneUnhujF9",
        "outputId": "176357d7-611f-42fa-a3a0-3b3ab1098cca"
      },
      "execution_count": 6,
      "outputs": [
        {
          "output_type": "stream",
          "name": "stdout",
          "text": [
            "Overwriting gpu_extreme_v1.cu\n"
          ]
        }
      ]
    },
    {
      "cell_type": "code",
      "source": [
        "!nvcc -arch=sm_75 -o gpu_extreme_v1 gpu_extreme_v1.cu"
      ],
      "metadata": {
        "id": "V7TRmfQIvU3l"
      },
      "execution_count": 7,
      "outputs": []
    },
    {
      "cell_type": "code",
      "source": [
        "!./gpu_extreme_v1"
      ],
      "metadata": {
        "colab": {
          "base_uri": "https://localhost:8080/"
        },
        "id": "xtKih1U7vbAk",
        "outputId": "8f18adcd-236e-463b-88ed-59f1ff2faf75"
      },
      "execution_count": 8,
      "outputs": [
        {
          "output_type": "stream",
          "name": "stdout",
          "text": [
            "number of images = 10000\n",
            "elapsed time = 0.6890 seconds\n",
            "extreme distance = 4097.95\n"
          ]
        }
      ]
    },
    {
      "cell_type": "markdown",
      "source": [
        "# Part 3 : GPU Extreme (Max Distance and Extreme Pair)"
      ],
      "metadata": {
        "id": "lo746N4Yv9Z4"
      }
    },
    {
      "cell_type": "markdown",
      "source": [
        "## In CUDA there is no equivalent to an OpenMP critical region.\n",
        "\n",
        "## Thus, we frequently have to get creative to get the most out of the GPU atomics.\n",
        "\n",
        "## In order to do an *atomic update* of the triple\n",
        "\n",
        "$$(max\\_dist\\_sq, i, j)$$\n",
        "\n",
        "## we pack the three values $max\\_dist\\_sq$, $i$, and $j$ into an *unsigned long long* which is 64 bits.  \n",
        "\n",
        "## We use 32 of the 64 bits to store $\\max\\_dist\\_sq$ and 16 bits each to store $i$ and $j$.\n",
        "\n",
        "## We put $max\\_dist\\_sq$ in the high 32 bits so that the *atomicMax* will still work as expected.  \n",
        "\n",
        "## The extreme pair $(i,j)$ is tucked into the low 32 bits and will not effect the *atomicMax* calculation (unless there is a tie).\n",
        "\n",
        "## Note that there is a function to *compress* a triple of extreme info and a function to *expand* an unsigned long long containing into a triple of extreme info.  \n",
        "\n",
        "## Since the *compress* function runs on the device we have to declare the function as:\n",
        "\n",
        "    __device__ uint64 extreme_info_compress(int dist_sq, int i, int j) {"
      ],
      "metadata": {
        "id": "dFeKSuvR4kSc"
      }
    },
    {
      "cell_type": "code",
      "source": [
        "%%writefile gpu_extreme_v2.cu\n",
        "#include <stdio.h>\n",
        "#include <stdlib.h>\n",
        "#include <time.h>\n",
        "#include <cuda.h>\n",
        "\n",
        "typedef unsigned char byte;\n",
        "typedef unsigned long long uint64;\n",
        "\n",
        "// read data from a binary file\n",
        "void read_bin (byte* data, int num_bytes, char* filename, int header_size) {\n",
        "    byte header[header_size];\n",
        "    FILE* fptr;\n",
        "    int num_read;\n",
        "    // open the binary file for reading\n",
        "    fptr = fopen(filename,\"rb\");\n",
        "    // need to check for null\n",
        "    if (fptr == 0) {\n",
        "        printf (\"Error opening binary data file %s.\\n\",filename);\n",
        "        exit(1);\n",
        "    }\n",
        "    // read header\n",
        "    num_read = fread(header, sizeof(byte), header_size, fptr);\n",
        "    // read data\n",
        "    num_read = fread(data, sizeof(byte), num_bytes, fptr);\n",
        "    if (num_read != num_bytes) {\n",
        "        printf (\"Warning : binary data file read error for %s.\\n\",filename);\n",
        "    }\n",
        "    // close the binary file\n",
        "    fclose(fptr);\n",
        "}\n",
        "\n",
        "#define TWO_POW_16 65536\n",
        "void extreme_info_expand(uint64 info, int* dist_sq, int* i, int* j) {\n",
        "    *j = info % TWO_POW_16;\n",
        "    info = info >> 16;\n",
        "    *i = info % TWO_POW_16;\n",
        "    info = info >> 16;\n",
        "    *dist_sq = info;\n",
        "}\n",
        "\n",
        "__device__ uint64 extreme_info_compress(int dist_sq, int i, int j) {\n",
        "    uint64 info = dist_sq;\n",
        "    info = info << 16;\n",
        "    info += i;\n",
        "    info = info << 16;\n",
        "    info += j;\n",
        "    return info;\n",
        "}\n",
        "\n",
        "__global__ void extremeKernel(byte* data, int len, int dim, uint64* max_info) {\n",
        "    int thread_num = blockIdx.x*blockDim.x + threadIdx.x;\n",
        "    if (thread_num < len*len) {\n",
        "\t    int i = thread_num/len;\n",
        "\t    int j = thread_num%len;\n",
        "\t    if (i < j) {\n",
        "\t        int dist_sq = 0;\n",
        "\t        for (int k=0;k<dim;k++) {\n",
        "\t\t        int diff = data[i*dim+k]-data[j*dim+k];\n",
        "\t\t        dist_sq += diff*diff;\n",
        "\t        }\n",
        "\t        uint64 info = extreme_info_compress(dist_sq,i,j);\n",
        "\t        atomicMax(max_info,info);\n",
        "\t    }\n",
        "    }\n",
        "}\n",
        "\n",
        "int main (int argc, char** argv) {\n",
        "\n",
        "    // read in a MNIST image set\n",
        "    int len = 10000;\n",
        "    int dim = 784;\n",
        "    byte* data = (byte*)malloc(len*dim*sizeof(byte));\n",
        "    char images_file[] = \"t10k-images-idx3-ubyte\";\n",
        "    read_bin(data,len*dim,images_file,16);\n",
        "\n",
        "    // allocate device memory\n",
        "    byte* d_data;\n",
        "    uint64* d_max_info;\n",
        "    cudaMalloc(&d_data,len*dim*sizeof(byte));\n",
        "    cudaMalloc(&d_max_info,sizeof(uint64));\n",
        "\n",
        "    // start the timer\n",
        "    clock_t start = clock();\n",
        "\n",
        "    // copy data to device\n",
        "    cudaMemcpy(d_data,data,len*dim*sizeof(byte),cudaMemcpyHostToDevice);\n",
        "\n",
        "    // initialize the device max_info to 0\n",
        "    cudaMemset(d_max_info,0,sizeof(uint64));\n",
        "\n",
        "    // launch kernel to compute extreme distance\n",
        "    int B = 256;\n",
        "    int G = (len*len+B-1)/B;\n",
        "    printf (\"G = %d\\n\",G);\n",
        "    extremeKernel <<< G, B >>> (d_data,len,dim,d_max_info);\n",
        "\n",
        "    // copy max_info from device to host\n",
        "    uint64 max_info;\n",
        "    cudaMemcpy(&max_info,d_max_info,sizeof(uint64),cudaMemcpyDeviceToHost);\n",
        "\n",
        "    // expand max_info\n",
        "    int max_dist_sq, i, j;\n",
        "    extreme_info_expand(max_info,&max_dist_sq,&i,&j);\n",
        "\n",
        "    // stop the timer\n",
        "    clock_t stop = clock();\n",
        "    double elapsed = (double)(stop-start)/CLOCKS_PER_SEC;\n",
        "\n",
        "    // print results\n",
        "    printf (\"number of images = %d\\n\",len);\n",
        "    printf (\"elapsed time = %.4f seconds\\n\",elapsed);\n",
        "    printf (\"extreme distance = %.2f\\n\",sqrt(max_dist_sq));\n",
        "    printf (\"extreme pair = (%d,%d)\\n\",i,j);\n",
        "\n",
        "    // free dynamically allocated memory\n",
        "    free(data);\n",
        "    cudaFree(d_data);\n",
        "    cudaFree(d_max_info);\n",
        "}\n"
      ],
      "metadata": {
        "colab": {
          "base_uri": "https://localhost:8080/"
        },
        "id": "wFnRqbCJvYum",
        "outputId": "49de9c31-fa46-4bf9-dd18-f20d2d518566"
      },
      "execution_count": 4,
      "outputs": [
        {
          "output_type": "stream",
          "name": "stdout",
          "text": [
            "Writing gpu_extreme_v2.cu\n"
          ]
        }
      ]
    },
    {
      "cell_type": "code",
      "source": [
        "!nvcc -arch=sm_75 -o gpu_extreme_v2 gpu_extreme_v2.cu"
      ],
      "metadata": {
        "id": "Uz9ETgP3wruR"
      },
      "execution_count": 5,
      "outputs": []
    },
    {
      "cell_type": "code",
      "source": [
        "!./gpu_extreme_v2"
      ],
      "metadata": {
        "colab": {
          "base_uri": "https://localhost:8080/"
        },
        "id": "hKFGjPeIwtOB",
        "outputId": "430adb11-6c6b-485e-8b8d-5bce16042560"
      },
      "execution_count": 6,
      "outputs": [
        {
          "output_type": "stream",
          "name": "stdout",
          "text": [
            "G = 390625\n",
            "number of images = 10000\n",
            "elapsed time = 0.7950 seconds\n",
            "extreme distance = 4097.95\n",
            "extreme pair = (5977,6412)\n"
          ]
        }
      ]
    },
    {
      "cell_type": "markdown",
      "source": [
        "# Part 4 : GPU Extreme (Column Major Order)"
      ],
      "metadata": {
        "id": "rssxsYzsxIIj"
      }
    },
    {
      "cell_type": "markdown",
      "source": [
        "## It is frequently better to use matrices stored in column major order in CUDA.\n",
        "\n",
        "## Ideally, consecutive threads in a warp will read consecutive memory locations when accessing memory.  \n",
        "\n",
        "## Suppose each thread in a warp is reading consecutive rows of a matrix.  \n",
        "\n",
        "## If the matrix is stored in *row major order* then consecutive threads in a warp are reading values that are stored far apart in memory.  \n",
        "\n",
        "## However if the matrix is stored in *column major order* then consecutive threads in a warp are reading values that are stored next to each other in memory."
      ],
      "metadata": {
        "id": "_RqHEGno8jaD"
      }
    },
    {
      "cell_type": "code",
      "source": [
        "%%writefile gpu_extreme_v3.cu\n",
        "#include <stdio.h>\n",
        "#include <stdlib.h>\n",
        "#include <time.h>\n",
        "#include <cuda.h>\n",
        "\n",
        "typedef unsigned char byte;\n",
        "typedef unsigned long long uint64;\n",
        "\n",
        "// read data from a binary file\n",
        "void read_bin (byte* data, int num_bytes, char* filename, int header_size) {\n",
        "    byte header[header_size];\n",
        "    FILE* fptr;\n",
        "    int num_read;\n",
        "    // open the binary file for reading\n",
        "    fptr = fopen(filename,\"rb\");\n",
        "    // need to check for null\n",
        "    if (fptr == 0) {\n",
        "        printf (\"Error opening binary data file %s.\\n\",filename);\n",
        "        exit(1);\n",
        "    }\n",
        "    // read header\n",
        "    num_read = fread(header, sizeof(byte), header_size, fptr);\n",
        "    // read data\n",
        "    num_read = fread(data, sizeof(byte), num_bytes, fptr);\n",
        "    if (num_read != num_bytes) {\n",
        "        printf (\"Warning : binary data file read error for %s.\\n\",filename);\n",
        "    }\n",
        "    // close the binary file\n",
        "    fclose(fptr);\n",
        "}\n",
        "\n",
        "#define TWO_POW_16 65536\n",
        "void extreme_info_expand(uint64 info, int* dist_sq, int* i, int* j) {\n",
        "    *j = info % TWO_POW_16;\n",
        "    info = info >> 16;\n",
        "    *i = info % TWO_POW_16;\n",
        "    info = info >> 16;\n",
        "    *dist_sq = info;\n",
        "}\n",
        "\n",
        "__device__ uint64 extreme_info_compress(int dist_sq, int i, int j) {\n",
        "    uint64 info = dist_sq;\n",
        "    info = info << 16;\n",
        "    info += i;\n",
        "    info = info << 16;\n",
        "    info += j;\n",
        "    return info;\n",
        "}\n",
        "\n",
        "__global__ void extremeKernel(byte* data, int len, int dim, uint64* max_info) {\n",
        "    int thread_num = blockIdx.x*blockDim.x + threadIdx.x;\n",
        "    if (thread_num < len*len) {\n",
        "\t    int i = thread_num/len;\n",
        "\t    int j = thread_num%len;\n",
        "\t    if (i < j) {\n",
        "\t        int dist_sq = 0;\n",
        "\t        for (int k=0;k<dim;k++) {\n",
        "                int diff = data[k*len+i]-data[k*len+j];\n",
        "\t\t        dist_sq += diff*diff;\n",
        "\t        }\n",
        "\t        uint64 info = extreme_info_compress(dist_sq,i,j);\n",
        "\t        atomicMax(max_info,info);\n",
        "\t    }\n",
        "    }\n",
        "}\n",
        "\n",
        "int main (int argc, char** argv) {\n",
        "\n",
        "    // read in a MNIST image set\n",
        "    int len = 10000;\n",
        "    int dim = 784;\n",
        "    byte* data = (byte*)malloc(len*dim*sizeof(byte));\n",
        "    char images_file[] = \"t10k-images-idx3-ubyte-c\";\n",
        "    read_bin(data,len*dim,images_file,16);\n",
        "\n",
        "    // allocate device memory\n",
        "    byte* d_data;\n",
        "    uint64* d_max_info;\n",
        "    cudaMalloc(&d_data,len*dim*sizeof(byte));\n",
        "    cudaMalloc(&d_max_info,sizeof(uint64));\n",
        "\n",
        "    // start the timer\n",
        "    clock_t start = clock();\n",
        "\n",
        "    // copy data to device\n",
        "    cudaMemcpy(d_data,data,len*dim*sizeof(byte),cudaMemcpyHostToDevice);\n",
        "\n",
        "    // initialize the device max_info to 0\n",
        "    cudaMemset(d_max_info,0,sizeof(uint64));\n",
        "\n",
        "    // launch kernel to compute extreme distance\n",
        "    int B = 256;\n",
        "    int G = (len*len+B-1)/B;\n",
        "    printf (\"G = %d\\n\",G);\n",
        "    extremeKernel <<< G, B >>> (d_data,len,dim,d_max_info);\n",
        "\n",
        "    // copy max_info from device to host\n",
        "    uint64 max_info;\n",
        "    cudaMemcpy(&max_info,d_max_info,sizeof(uint64),cudaMemcpyDeviceToHost);\n",
        "\n",
        "    // expand max_info\n",
        "    int max_dist_sq, i, j;\n",
        "    extreme_info_expand(max_info,&max_dist_sq,&i,&j);\n",
        "\n",
        "    // stop the timer\n",
        "    clock_t stop = clock();\n",
        "    double elapsed = (double)(stop-start)/CLOCKS_PER_SEC;\n",
        "\n",
        "    // print results\n",
        "    printf (\"number of images = %d\\n\",len);\n",
        "    printf (\"elapsed time = %.4f seconds\\n\",elapsed);\n",
        "    printf (\"extreme distance = %.2f\\n\",sqrt(max_dist_sq));\n",
        "    printf (\"extreme pair = (%d,%d)\\n\",i,j);\n",
        "\n",
        "    // free dynamically allocated memory\n",
        "    free(data);\n",
        "    cudaFree(d_data);\n",
        "    cudaFree(d_max_info);\n",
        "}\n"
      ],
      "metadata": {
        "colab": {
          "base_uri": "https://localhost:8080/"
        },
        "id": "1-VJ0Z4aw97S",
        "outputId": "5a1186d9-6f20-41ed-f353-49abd6b54c13"
      },
      "execution_count": 3,
      "outputs": [
        {
          "output_type": "stream",
          "name": "stdout",
          "text": [
            "Writing gpu_extreme_v3.cu\n"
          ]
        }
      ]
    },
    {
      "cell_type": "code",
      "source": [
        "!nvcc -arch=sm_75 -o gpu_extreme_v3 gpu_extreme_v3.cu"
      ],
      "metadata": {
        "id": "MmtZJ3UIxh52"
      },
      "execution_count": 4,
      "outputs": []
    },
    {
      "cell_type": "code",
      "source": [
        "!./gpu_extreme_v3"
      ],
      "metadata": {
        "colab": {
          "base_uri": "https://localhost:8080/"
        },
        "id": "BI2q-B2exldM",
        "outputId": "21c6b211-0e59-4eec-9b86-1415164c02c2"
      },
      "execution_count": 5,
      "outputs": [
        {
          "output_type": "stream",
          "name": "stdout",
          "text": [
            "G = 390625\n",
            "number of images = 10000\n",
            "elapsed time = 0.2506 seconds\n",
            "extreme distance = 4097.95\n",
            "extreme pair = (5977,6412)\n"
          ]
        }
      ]
    },
    {
      "cell_type": "markdown",
      "source": [
        "# Part 5 : GPU Extreme (60000 images)"
      ],
      "metadata": {
        "id": "bvnRbIwYyAob"
      }
    },
    {
      "cell_type": "markdown",
      "source": [
        "## When running on a file with 60000 images, there are 3.6 billion threads which is a number that is too large to store in a C int.  \n",
        "\n",
        "## Thus we have to change some parts of the code to avoid overflow.  \n",
        "\n",
        "## Here are the necessary changes:\n",
        "\n",
        "    long long thread_num = (long long)blockIdx.x*blockDim.x + threadIdx.x;\n",
        "\n",
        "    if (thread_num < (long long)len*len) {\n",
        "\n",
        "    int G = ((long long)len*len+B-1)/B;"
      ],
      "metadata": {
        "id": "PK8VztiL99SM"
      }
    },
    {
      "cell_type": "code",
      "source": [
        "%%writefile gpu_extreme_v4.cu\n",
        "#include <stdio.h>\n",
        "#include <stdlib.h>\n",
        "#include <time.h>\n",
        "#include <cuda.h>\n",
        "\n",
        "typedef unsigned char byte;\n",
        "typedef unsigned long long uint64;\n",
        "\n",
        "// read data from a binary file\n",
        "void read_bin (byte* data, int num_bytes, char* filename, int header_size) {\n",
        "    byte header[header_size];\n",
        "    FILE* fptr;\n",
        "    int num_read;\n",
        "    // open the binary file for reading\n",
        "    fptr = fopen(filename,\"rb\");\n",
        "    // need to check for null\n",
        "    if (fptr == 0) {\n",
        "        printf (\"Error opening binary data file %s.\\n\",filename);\n",
        "        exit(1);\n",
        "    }\n",
        "    // read header\n",
        "    num_read = fread(header, sizeof(byte), header_size, fptr);\n",
        "    // read data\n",
        "    num_read = fread(data, sizeof(byte), num_bytes, fptr);\n",
        "    if (num_read != num_bytes) {\n",
        "        printf (\"Warning : binary data file read error for %s.\\n\",filename);\n",
        "    }\n",
        "    // close the binary file\n",
        "    fclose(fptr);\n",
        "}\n",
        "\n",
        "#define TWO_POW_16 65536\n",
        "void extreme_info_expand(uint64 info, int* dist_sq, int* i, int* j) {\n",
        "    *j = info % TWO_POW_16;\n",
        "    info = info >> 16;\n",
        "    *i = info % TWO_POW_16;\n",
        "    info = info >> 16;\n",
        "    *dist_sq = info;\n",
        "}\n",
        "\n",
        "__device__ uint64 extreme_info_compress(int dist_sq, int i, int j) {\n",
        "    uint64 info = dist_sq;\n",
        "    info = info << 16;\n",
        "    info += i;\n",
        "    info = info << 16;\n",
        "    info += j;\n",
        "    return info;\n",
        "}\n",
        "\n",
        "__global__ void extremeKernel(byte* data, int len, int dim, uint64* max_info) {\n",
        "    long long thread_num = (long long)blockIdx.x*blockDim.x + threadIdx.x;\n",
        "    if (thread_num < (long long)len*len) {\n",
        "\t    int i = thread_num/len;\n",
        "\t    int j = thread_num%len;\n",
        "\t    if (i < j) {\n",
        "\t        int dist_sq = 0;\n",
        "\t        for (int k=0;k<dim;k++) {\n",
        "                int diff = data[k*len+i]-data[k*len+j];\n",
        "\t\t        dist_sq += diff*diff;\n",
        "\t        }\n",
        "\t        uint64 info = extreme_info_compress(dist_sq,i,j);\n",
        "\t        atomicMax(max_info,info);\n",
        "\t    }\n",
        "    }\n",
        "}\n",
        "\n",
        "int main (int argc, char** argv) {\n",
        "\n",
        "    // read in a MNIST image set\n",
        "    int len = 60000;\n",
        "    int dim = 784;\n",
        "    byte* data = (byte*)malloc(len*dim*sizeof(byte));\n",
        "    char images_file[] = \"train-images-idx3-ubyte-c\";\n",
        "    read_bin(data,len*dim,images_file,16);\n",
        "\n",
        "    // allocate device memory\n",
        "    byte* d_data;\n",
        "    uint64* d_max_info;\n",
        "    cudaMalloc(&d_data,len*dim*sizeof(byte));\n",
        "    cudaMalloc(&d_max_info,sizeof(uint64));\n",
        "\n",
        "    // start the timer\n",
        "    clock_t start = clock();\n",
        "\n",
        "    // copy data to device\n",
        "    cudaMemcpy(d_data,data,len*dim*sizeof(byte),cudaMemcpyHostToDevice);\n",
        "\n",
        "    // initialize the device max_info to 0\n",
        "    cudaMemset(d_max_info,0,sizeof(uint64));\n",
        "\n",
        "    // launch kernel to compute extreme distance\n",
        "    int B = 256;\n",
        "    int G = ((long long)len*len+B-1)/B;\n",
        "    printf (\"G = %d\\n\",G);\n",
        "    extremeKernel <<< G, B >>> (d_data,len,dim,d_max_info);\n",
        "\n",
        "    // copy max_info from device to host\n",
        "    uint64 max_info;\n",
        "    cudaMemcpy(&max_info,d_max_info,sizeof(uint64),cudaMemcpyDeviceToHost);\n",
        "\n",
        "    // expand max_info\n",
        "    int max_dist_sq, i, j;\n",
        "    extreme_info_expand(max_info,&max_dist_sq,&i,&j);\n",
        "\n",
        "    // stop the timer\n",
        "    clock_t stop = clock();\n",
        "    double elapsed = (double)(stop-start)/CLOCKS_PER_SEC;\n",
        "\n",
        "    // print results\n",
        "    printf (\"number of images = %d\\n\",len);\n",
        "    printf (\"elapsed time = %.4f seconds\\n\",elapsed);\n",
        "    printf (\"extreme distance = %.2f\\n\",sqrt(max_dist_sq));\n",
        "    printf (\"extreme pair = (%d,%d)\\n\",i,j);\n",
        "\n",
        "    // free dynamically allocated memory\n",
        "    free(data);\n",
        "    cudaFree(d_data);\n",
        "    cudaFree(d_max_info);\n",
        "}\n"
      ],
      "metadata": {
        "colab": {
          "base_uri": "https://localhost:8080/"
        },
        "id": "TSl2PGcJxylk",
        "outputId": "2f4bdecc-ec90-4d94-d22a-682639b0af0c"
      },
      "execution_count": 3,
      "outputs": [
        {
          "output_type": "stream",
          "name": "stdout",
          "text": [
            "Writing gpu_extreme_v4.cu\n"
          ]
        }
      ]
    },
    {
      "cell_type": "code",
      "source": [
        "!nvcc -arch=sm_75 -o gpu_extreme_v4 gpu_extreme_v4.cu"
      ],
      "metadata": {
        "id": "rOl5lZtPyQqs"
      },
      "execution_count": 4,
      "outputs": []
    },
    {
      "cell_type": "code",
      "source": [
        "!./gpu_extreme_v4"
      ],
      "metadata": {
        "colab": {
          "base_uri": "https://localhost:8080/"
        },
        "id": "MTOaVGJKyTmp",
        "outputId": "0d8f2da7-1979-426f-ccbe-329197993727"
      },
      "execution_count": 5,
      "outputs": [
        {
          "output_type": "stream",
          "name": "stdout",
          "text": [
            "G = 14062500\n",
            "number of images = 60000\n",
            "elapsed time = 12.0245 seconds\n",
            "extreme distance = 4303.32\n",
            "extreme pair = (26785,59452)\n"
          ]
        }
      ]
    },
    {
      "cell_type": "markdown",
      "source": [
        "## Although the GPU version 4 is considerably faster than the sequential code, we are not even close to realizing the maximum performance of the GPU for this problem.  \n",
        "\n",
        "## Optimizing kernels to achieve high performance on a GPU is one of the main topics of CMDA 4634.  "
      ],
      "metadata": {
        "id": "JD9lKnNx-xh9"
      }
    },
    {
      "cell_type": "code",
      "source": [],
      "metadata": {
        "id": "aDJgaa-Ny6NM"
      },
      "execution_count": null,
      "outputs": []
    }
  ]
}