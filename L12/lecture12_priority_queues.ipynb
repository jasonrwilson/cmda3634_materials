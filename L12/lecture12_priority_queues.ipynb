{
  "nbformat": 4,
  "nbformat_minor": 0,
  "metadata": {
    "colab": {
      "provenance": []
    },
    "kernelspec": {
      "name": "python3",
      "display_name": "Python 3"
    },
    "language_info": {
      "name": "python"
    }
  },
  "cells": [
    {
      "cell_type": "markdown",
      "source": [
        "# Lecture 12 : Priority Queues"
      ],
      "metadata": {
        "id": "Fp1cQz2j0KKA"
      }
    },
    {
      "cell_type": "code",
      "source": [
        "# clone a public repo on Github to download some data files\n",
        "!git clone https://github.com/jasonrwilson/cmda3634_materials.git"
      ],
      "metadata": {
        "colab": {
          "base_uri": "https://localhost:8080/"
        },
        "id": "emLGIWBChr43",
        "outputId": "576d7c76-56df-400f-e40f-cdca6769199f"
      },
      "execution_count": 1,
      "outputs": [
        {
          "output_type": "stream",
          "name": "stdout",
          "text": [
            "Cloning into 'cmda3634_materials'...\n",
            "remote: Enumerating objects: 170, done.\u001b[K\n",
            "remote: Counting objects: 100% (67/67), done.\u001b[K\n",
            "remote: Compressing objects: 100% (35/35), done.\u001b[K\n",
            "remote: Total 170 (delta 32), reused 66 (delta 32), pack-reused 103\u001b[K\n",
            "Receiving objects: 100% (170/170), 35.38 MiB | 15.33 MiB/s, done.\n",
            "Resolving deltas: 100% (86/86), done.\n"
          ]
        }
      ]
    },
    {
      "cell_type": "code",
      "source": [
        "# copy the lecture 12 files to our working directory\n",
        "!cp cmda3634_materials/L12/* ."
      ],
      "metadata": {
        "id": "Glr3X4i2hx4A"
      },
      "execution_count": 2,
      "outputs": []
    },
    {
      "cell_type": "markdown",
      "source": [
        "# Part 1 : Motivation"
      ],
      "metadata": {
        "id": "wtA-8SKqheQx"
      }
    },
    {
      "cell_type": "markdown",
      "source": [
        "## In a previous assignment you found the three smallest numbers in a file as well as the three numbers closest to a given number.  \n",
        "\n",
        "## Suppose we want to find the k smallest numbers in a file or the k numbers closest to a given number.  \n",
        "\n",
        "## An example application would be to find the $k^{th}$ order statistic of a dataset.  \n",
        "\n",
        "## More generally, we may want to find the k datapoints in $\\mathbb{R}^{dim}$ closest to a given datapoint.\n",
        "\n",
        "## An example application would be **k-nearest neighbors classification**.  \n",
        "\n",
        "## For knn classification, we classify a test point based on the classes of the majority of the k-nearest neighbors from the training set.\n",
        "\n",
        "## For these applications and others it is helpful to use a data structure called a **priority queue**.\n",
        "\n",
        "## Each element in a priority queue has an associated priority. In a priority queue, elements with high priority are served before elements with low priority."
      ],
      "metadata": {
        "id": "Wl0c1AT30SKK"
      }
    },
    {
      "cell_type": "markdown",
      "source": [
        "# Part 2 : Priority Queue Interface"
      ],
      "metadata": {
        "id": "Zp_3Zxs42g08"
      }
    },
    {
      "cell_type": "markdown",
      "source": [
        "## We start with our priority queue interface which we put into the *pri_queue.h* header file."
      ],
      "metadata": {
        "id": "01oDLoMg2vzt"
      }
    },
    {
      "cell_type": "code",
      "execution_count": 3,
      "metadata": {
        "colab": {
          "base_uri": "https://localhost:8080/"
        },
        "id": "fx1BxG5HzftJ",
        "outputId": "00042901-d37d-4aea-bf0b-edd8885200ac"
      },
      "outputs": [
        {
          "output_type": "stream",
          "name": "stdout",
          "text": [
            "Writing pri_queue.h\n"
          ]
        }
      ],
      "source": [
        "%%writefile pri_queue.h\n",
        "#ifndef PRI_QUEUE_H\n",
        "#define PRI_QUEUE_H\n",
        "\n",
        "typedef struct pri_queue_element_s {\n",
        "    double priority;\n",
        "    int id;\n",
        "} pri_queue_element;\n",
        "\n",
        "typedef struct pri_queue_s {\n",
        "    pri_queue_element* elements;\n",
        "    int max_size;\n",
        "    int cur_size;\n",
        "} pri_queue;\n",
        "\n",
        "void pri_queue_init(pri_queue* pq, int max_size);\n",
        "\n",
        "pri_queue_element pri_queue_peek_top(pri_queue* pq);\n",
        "\n",
        "void pri_queue_delete_top(pri_queue* pq);\n",
        "\n",
        "void pri_queue_insert(pri_queue* pq, pri_queue_element element);\n",
        "\n",
        "void pri_queue_free(pri_queue* pq);\n",
        "\n",
        "#endif"
      ]
    },
    {
      "cell_type": "markdown",
      "source": [
        "## Note that our priority queue interface uses two C structures.\n",
        "\n",
        "## The first C structure *pri_queue_element* specifies the **priority** and **id** of an element on the priority queue.  \n",
        "\n",
        "## The *priority* is a double and the *id* is an integer.  \n",
        "\n",
        "## The element with the highest priority will be at the top of the priority queue.  \n",
        "\n",
        "## The *id* allows the user of the priority queue to identify the element with that given priority.  Frequently the *id* is the index of the element in an array containing all of the elements in a dataset.\n",
        "\n",
        "## The second C structure **pri_queue** is for the priority queue itself.  Note that there will be an array of priority queue elements but only a pointer to the array is specified in the structure.  This means that the array will have to be dynamically allocated using **malloc**.  Note that the priority queue has a **max_size** which will be specified by the user as well as a **cur_size** which is initially equal to zero."
      ],
      "metadata": {
        "id": "X1XhGb_c3FqW"
      }
    },
    {
      "cell_type": "markdown",
      "source": [
        "## The first function of the priority queue *pri_queue_init* is for initialization.  In object oriented programming language this function is similar to a **constructor**.  The implementation of this method will have to dynamically allocate space to store the priority queue.  We provide another function *pri_queue_free* which will free up the dynamically allocated memory.\n",
        "\n",
        "## The *pri_queue_peek_top* function allows the user to look at the element in the priority queue with the highest priority **without removing it**.  It will raise an error and terminate the program if the priority queue is empty.\n",
        "\n",
        "## The *pri_queue_delete_top* function deletes the element in the priority queue with the highest priority.  It will raise an error and terminate the program if the priority queue is empty.  \n",
        "\n",
        "## Finally, the *pri_queue_insert* function inserts the given element into the priority queue.  It will raise an error and terminate the program if the priority queue is already full.  "
      ],
      "metadata": {
        "id": "eb_RtZDR5hEz"
      }
    },
    {
      "cell_type": "markdown",
      "source": [
        "# Part 3 : First Priority Queue Implementation"
      ],
      "metadata": {
        "id": "9YtAMsr08qtT"
      }
    },
    {
      "cell_type": "markdown",
      "source": [
        "## For our first priority queue implementation we will store the elements in the priority queue in sorted order according to priority with the lowest priority element stored at the beginning of the array and the highest priority element stored at the end of the array.\n",
        "\n",
        "## With this implementation all functions except *pri_queue_insert* are fast and straightforward.\n",
        "\n",
        "## For the *pri_queue_insert* function we maintain order while inserting using the following two steps:\n",
        "\n",
        "* Find the correct place for the new element in the sorted array while simultaneously moving all elements in the array with a priority higher than the new element to the right one position to make room for the new element.  \n",
        "\n",
        "* Insert the new element in the correct place.\n",
        "\n",
        "## In the worst case the insert function will have to move all elements!  \n",
        "\n",
        "## Later we will implement the priority queue more efficiently using a max heap."
      ],
      "metadata": {
        "id": "Yog9L6oX80rr"
      }
    },
    {
      "cell_type": "code",
      "source": [
        "%%writefile pri_queue.c\n",
        "#include <stdio.h>\n",
        "#include <stdlib.h>\n",
        "#include \"pri_queue.h\"\n",
        "\n",
        "void pri_queue_init(pri_queue* pq, int max_size) {\n",
        "    pq->elements = (pri_queue_element*)malloc(max_size*sizeof(pri_queue_element));\n",
        "    if (pq->elements == NULL) {\n",
        "        printf (\"error : malloc failed in pri_queue_init\\n\");\n",
        "        exit(1);\n",
        "    }\n",
        "    pq->max_size = max_size;\n",
        "    pq->cur_size = 0;\n",
        "}\n",
        "\n",
        "pri_queue_element pri_queue_peek_top(pri_queue* pq) {\n",
        "    if (pq->cur_size == 0) {\n",
        "        printf (\"error : underflow in pri_queue_peek_top\\n\");\n",
        "        exit(1);\n",
        "    }\n",
        "    return pq->elements[pq->cur_size-1];\n",
        "}\n",
        "\n",
        "void pri_queue_delete_top(pri_queue* pq) {\n",
        "    if (pq->cur_size == 0) {\n",
        "        printf (\"error : underflow in pri_queue_delete_top\\n\");\n",
        "        exit(1);\n",
        "    }\n",
        "    pq->cur_size -= 1;\n",
        "}\n",
        "\n",
        "void pri_queue_insert(pri_queue* pq, pri_queue_element element) {\n",
        "    if (pq->cur_size >= pq->max_size) {\n",
        "        printf (\"error : overflow in pri_queue_insert\\n\");\n",
        "        exit(1);\n",
        "    }\n",
        "\n",
        "    // find the correct place for the new element\n",
        "    // while simultaneously moving existing elements with\n",
        "    // higher priority to the right one space\n",
        "    int place = pq->cur_size;\n",
        "    while (place > 0) {\n",
        "        if (element.priority >= pq->elements[place-1].priority) {\n",
        "            break;\n",
        "        }\n",
        "        // make space for the new element\n",
        "        pq->elements[place] = pq->elements[place-1];\n",
        "        place -= 1;\n",
        "    }\n",
        "\n",
        "    // insert the new element\n",
        "    pq->elements[place] = element;\n",
        "    pq->cur_size += 1;\n",
        "}\n",
        "\n",
        "void pri_queue_free(pri_queue* pq) {\n",
        "    if (pq->elements == 0) {\n",
        "        printf (\"error : null elements pointer in pri_queue_free\\n\");\n",
        "        exit(1);\n",
        "    }\n",
        "    free (pq->elements);\n",
        "    pq->elements = 0;\n",
        "}"
      ],
      "metadata": {
        "colab": {
          "base_uri": "https://localhost:8080/"
        },
        "id": "0qTg4bb828Px",
        "outputId": "4f0c79bf-05aa-4bbc-c332-48facb77d19d"
      },
      "execution_count": 4,
      "outputs": [
        {
          "output_type": "stream",
          "name": "stdout",
          "text": [
            "Writing pri_queue.c\n"
          ]
        }
      ]
    },
    {
      "cell_type": "markdown",
      "source": [
        "# Part 4 : Insertion Sort"
      ],
      "metadata": {
        "id": "x5EVwC3zFKet"
      }
    },
    {
      "cell_type": "markdown",
      "source": [
        "## As a first application of our priority queue let's sort an input file of numbers from largest to smallest.  Given our current implementation of the priority queue, this is an **insertion sort**.  "
      ],
      "metadata": {
        "id": "6KcjHPYnHp29"
      }
    },
    {
      "cell_type": "code",
      "source": [
        "%%writefile largest_first.c\n",
        "#include <stdio.h>\n",
        "#include \"pri_queue.h\"\n",
        "\n",
        "int main () {\n",
        "\n",
        "    /* read the number of entries in the file */\n",
        "    int num;\n",
        "    if (scanf(\"%*c %d\",&num) != 1) {\n",
        "        printf (\"error reading the number of entries!\\n\");\n",
        "        return 1;\n",
        "    }\n",
        "\n",
        "    /* initialize the priority queue */\n",
        "    pri_queue pq;\n",
        "    pri_queue_init (&pq,num);\n",
        "\n",
        "    /* read entries from stdin and add them to the priority queue */\n",
        "    pri_queue_element next;\n",
        "    for (int i=0;i<num;i++) {\n",
        "        if (scanf(\"%lf\",&(next.priority)) != 1) {\n",
        "            printf (\"error : file too small\\n\");\n",
        "            return 1;\n",
        "        }\n",
        "        pri_queue_insert (&pq,next);\n",
        "    }\n",
        "\n",
        "    /* print the entries from largest to smallest */\n",
        "    while (pq.cur_size > 0) {\n",
        "        next = pri_queue_peek_top(&pq);\n",
        "        printf (\"%g\\n\",next.priority);\n",
        "        pri_queue_delete_top(&pq);\n",
        "    }\n",
        "\n",
        "    /* free the priority queue */\n",
        "    pri_queue_free (&pq);\n",
        "}"
      ],
      "metadata": {
        "colab": {
          "base_uri": "https://localhost:8080/"
        },
        "id": "oWFKHvpACnNC",
        "outputId": "607593e5-afc1-4ca7-951a-3d5cdb28da0a"
      },
      "execution_count": 5,
      "outputs": [
        {
          "output_type": "stream",
          "name": "stdout",
          "text": [
            "Writing largest_first.c\n"
          ]
        }
      ]
    },
    {
      "cell_type": "code",
      "source": [
        "!gcc -o largest_first largest_first.c pri_queue.c"
      ],
      "metadata": {
        "id": "r-aDikKLIGwl"
      },
      "execution_count": 6,
      "outputs": []
    },
    {
      "cell_type": "code",
      "source": [
        "!echo \\# 5 1.2 -2.4 3.2 -3.5 2.6 | ./largest_first"
      ],
      "metadata": {
        "colab": {
          "base_uri": "https://localhost:8080/"
        },
        "id": "dLkwSKO8IUBU",
        "outputId": "da421d5a-b647-43f8-b432-205718d6c42e"
      },
      "execution_count": 7,
      "outputs": [
        {
          "output_type": "stream",
          "name": "stdout",
          "text": [
            "3.2\n",
            "2.6\n",
            "1.2\n",
            "-2.4\n",
            "-3.5\n"
          ]
        }
      ]
    },
    {
      "cell_type": "markdown",
      "source": [
        "## We can sort from smallest to largest by negating the priorities."
      ],
      "metadata": {
        "id": "M589m-H8JnEv"
      }
    },
    {
      "cell_type": "code",
      "source": [
        "%%writefile sort.c\n",
        "#include <stdio.h>\n",
        "#include \"pri_queue.h\"\n",
        "\n",
        "int main () {\n",
        "\n",
        "    /* read the number of entries in the file */\n",
        "    int num;\n",
        "    if (scanf(\"%*c %d\",&num) != 1) {\n",
        "        printf (\"error reading the number of entries!\\n\");\n",
        "        return 1;\n",
        "    }\n",
        "\n",
        "    /* initialize the priority queue */\n",
        "    pri_queue pq;\n",
        "    pri_queue_init (&pq,num);\n",
        "\n",
        "    /* read entries from stdin and add them to the priority queue */\n",
        "    pri_queue_element next;\n",
        "    for (int i=0;i<num;i++) {\n",
        "        if (scanf(\"%lf\",&(next.priority)) != 1) {\n",
        "            printf (\"error : file too small\\n\");\n",
        "            return 1;\n",
        "        }\n",
        "        next.priority *= -1.0;\n",
        "        pri_queue_insert (&pq,next);\n",
        "    }\n",
        "\n",
        "    /* print the entries from largest to smallest */\n",
        "    while (pq.cur_size > 0) {\n",
        "        next = pri_queue_peek_top(&pq);\n",
        "        printf (\"%g\\n\",-1.0*next.priority);\n",
        "        pri_queue_delete_top(&pq);\n",
        "    }\n",
        "\n",
        "    /* free the priority queue */\n",
        "    pri_queue_free (&pq);\n",
        "}"
      ],
      "metadata": {
        "colab": {
          "base_uri": "https://localhost:8080/"
        },
        "id": "8Lowzs3fIlxu",
        "outputId": "820513fd-a7a8-4ea5-b1bd-6abace4e2537"
      },
      "execution_count": 8,
      "outputs": [
        {
          "output_type": "stream",
          "name": "stdout",
          "text": [
            "Writing sort.c\n"
          ]
        }
      ]
    },
    {
      "cell_type": "code",
      "source": [
        "!gcc -o insertion_sort sort.c pri_queue.c"
      ],
      "metadata": {
        "id": "Qr10SKpFKIpK"
      },
      "execution_count": 9,
      "outputs": []
    },
    {
      "cell_type": "code",
      "source": [
        "!echo \\# 5 1.2 -2.4 3.2 -3.5 2.6 | ./insertion_sort"
      ],
      "metadata": {
        "colab": {
          "base_uri": "https://localhost:8080/"
        },
        "id": "NcbJSuAhKJSx",
        "outputId": "fdf23f0f-2487-4992-9197-dcd9920a7791"
      },
      "execution_count": 10,
      "outputs": [
        {
          "output_type": "stream",
          "name": "stdout",
          "text": [
            "-3.5\n",
            "-2.4\n",
            "1.2\n",
            "2.6\n",
            "3.2\n"
          ]
        }
      ]
    },
    {
      "cell_type": "code",
      "source": [
        "!time cat num100k.txt | ./insertion_sort > sorted100k.txt"
      ],
      "metadata": {
        "colab": {
          "base_uri": "https://localhost:8080/"
        },
        "id": "V_sNNqWMKQUe",
        "outputId": "44178710-f846-4c60-8cbe-8abc804cce5c"
      },
      "execution_count": 11,
      "outputs": [
        {
          "output_type": "stream",
          "name": "stdout",
          "text": [
            "\n",
            "real\t0m10.462s\n",
            "user\t0m10.284s\n",
            "sys\t0m0.021s\n"
          ]
        }
      ]
    },
    {
      "cell_type": "code",
      "source": [
        "!head -10 sorted100k.txt"
      ],
      "metadata": {
        "colab": {
          "base_uri": "https://localhost:8080/"
        },
        "id": "eM2VWuQmi6nM",
        "outputId": "a6cc017a-2fb8-434e-f38d-e8500fba3655"
      },
      "execution_count": 12,
      "outputs": [
        {
          "output_type": "stream",
          "name": "stdout",
          "text": [
            "0\n",
            "1\n",
            "2\n",
            "3\n",
            "4\n",
            "5\n",
            "6\n",
            "7\n",
            "8\n",
            "9\n"
          ]
        }
      ]
    },
    {
      "cell_type": "markdown",
      "source": [
        "## It takes around 10.5 seconds to sort 100000 numbers.  About how long will it take insertion sort to sort 1000000 numbers?\n",
        "\n",
        "## Answer: Since insertion sort is O(n^2) multiplying the problem size by 10 multiples the runtime by 100.  Thus it should take roughly 10.5*100 = 1050 seconds or around 17.5 minutes.  "
      ],
      "metadata": {
        "id": "fNBnfdpNifCv"
      }
    },
    {
      "cell_type": "code",
      "source": [
        "!time cat num1m.txt | ./insertion_sort > insertion_sorted1m.txt"
      ],
      "metadata": {
        "colab": {
          "base_uri": "https://localhost:8080/"
        },
        "id": "THjFnztLiYiu",
        "outputId": "ddd607b3-39e3-4ab6-b57a-6c9975388f92"
      },
      "execution_count": 13,
      "outputs": [
        {
          "output_type": "stream",
          "name": "stdout",
          "text": [
            "\n",
            "real\t19m47.019s\n",
            "user\t19m33.447s\n",
            "sys\t0m0.552s\n"
          ]
        }
      ]
    },
    {
      "cell_type": "markdown",
      "source": [
        "# Part 5 : Heap Sort"
      ],
      "metadata": {
        "id": "FZnHUTEhpydv"
      }
    },
    {
      "cell_type": "markdown",
      "source": [
        "## In a separate part of this lecture you learned about max heaps.  \n",
        "\n",
        "## In the following implementation of a priority queue we use a max heap.  \n",
        "\n",
        "## Note that both insertion and deletion now take $O(\\log n)$ time in the worst case"
      ],
      "metadata": {
        "id": "nO_UXEQgp6de"
      }
    },
    {
      "cell_type": "code",
      "source": [
        "%%writefile pri_queue_heap.c\n",
        "#include <stdio.h>\n",
        "#include <stdlib.h>\n",
        "#include \"pri_queue.h\"\n",
        "\n",
        "void pri_queue_init(pri_queue* pq, int max_size) {\n",
        "    pq->elements = (pri_queue_element*)malloc(max_size*sizeof(pri_queue_element));\n",
        "    if (pq->elements == 0) {\n",
        "        printf (\"error : malloc failed in pri_queue_init\\n\");\n",
        "        exit(1);\n",
        "    }\n",
        "    pq->max_size = max_size;\n",
        "    pq->cur_size = 0;\n",
        "}\n",
        "\n",
        "pri_queue_element pri_queue_peek_top(pri_queue* pq) {\n",
        "    if (pq->cur_size == 0) {\n",
        "        printf (\"error : underflow in pri_queue_peek_top\\n\");\n",
        "        exit(1);\n",
        "    }\n",
        "    return pq->elements[0];\n",
        "}\n",
        "\n",
        "void pri_queue_delete_top(pri_queue* pq) {\n",
        "\n",
        "    // check for an empty priority queue\n",
        "    if (pq->cur_size == 0) {\n",
        "        printf (\"error : underflow in pri_queue_delete_top\\n\");\n",
        "        exit(1);\n",
        "    }\n",
        "\n",
        "    // move the last element to the root and decrease size by 1\n",
        "    pq->elements[0] = pq->elements[pq->cur_size-1];\n",
        "    pq->cur_size -= 1;\n",
        "\n",
        "    // start at the root\n",
        "    int current = 0;\n",
        "\n",
        "    // descend the tree swapping as necessary to maintain maxheap property\n",
        "    while (current*2+1<pq->cur_size) {\n",
        "        // first consider the left child\n",
        "        int child = current*2+1;\n",
        "        // handle the case where the right child has higher priority\n",
        "        if ((child+1<pq->cur_size) &&\n",
        "                (pq->elements[child+1].priority > pq->elements[child].priority)) {\n",
        "            child = child + 1;\n",
        "        }\n",
        "        // check to see if we should swap current and child\n",
        "        if (pq->elements[current].priority < pq->elements[child].priority) {\n",
        "            pri_queue_element temp = pq->elements[current];\n",
        "            pq->elements[current] = pq->elements[child];\n",
        "            pq->elements[child] = temp;\n",
        "        } else {\n",
        "            // done if largest child value is less than or equal to ours\n",
        "            break;\n",
        "        }\n",
        "        // descend the tree\n",
        "        current = child;\n",
        "    }\n",
        "}\n",
        "\n",
        "void pri_queue_insert(pri_queue* pq, pri_queue_element element) {\n",
        "\n",
        "    // check to see if there is room for the new element\n",
        "    if (pq->cur_size == pq->max_size) {\n",
        "        printf(\"error : overflow in pri_queue_insert!\\n\");\n",
        "        exit (1);\n",
        "    }\n",
        "\n",
        "    // set the current index\n",
        "    int current = pq->cur_size;\n",
        "\n",
        "    // insert at the end\n",
        "    pq->elements[current] = element;\n",
        "    pq->cur_size += 1;\n",
        "\n",
        "    // climb the tree swapping as necessary to maintain maxheap property\n",
        "    while (current > 0) {\n",
        "        int parent = (current-1)/2;\n",
        "        // check to see if we need to swap value with parent\n",
        "        if (pq->elements[parent].priority < pq->elements[current].priority) {\n",
        "            pri_queue_element temp = pq->elements[current];\n",
        "            pq->elements[current] = pq->elements[parent];\n",
        "            pq->elements[parent] = temp;\n",
        "        } else {\n",
        "            // done if parent value is greater than or equal to current\n",
        "            break;\n",
        "        }\n",
        "        // climb the tree\n",
        "        current = parent;\n",
        "    }\n",
        "}\n",
        "\n",
        "void pri_queue_free(pri_queue* pq) {\n",
        "    if (pq->elements == 0) {\n",
        "        printf (\"error : null elements pointer in pri_queue_free\\n\");\n",
        "        exit(1);\n",
        "    }\n",
        "    free (pq->elements);\n",
        "    pq->elements = 0;\n",
        "}"
      ],
      "metadata": {
        "colab": {
          "base_uri": "https://localhost:8080/"
        },
        "id": "uIuKud3ijfl8",
        "outputId": "d3f44e9a-6bde-4396-f7c9-9fa5e33e7f2f"
      },
      "execution_count": 14,
      "outputs": [
        {
          "output_type": "stream",
          "name": "stdout",
          "text": [
            "Writing pri_queue_heap.c\n"
          ]
        }
      ]
    },
    {
      "cell_type": "code",
      "source": [
        "!gcc -o heap_sort sort.c pri_queue_heap.c"
      ],
      "metadata": {
        "id": "i41es5bTrO2G"
      },
      "execution_count": 15,
      "outputs": []
    },
    {
      "cell_type": "code",
      "source": [
        "!time cat num1m.txt | ./heap_sort > heap_sorted1m.txt"
      ],
      "metadata": {
        "colab": {
          "base_uri": "https://localhost:8080/"
        },
        "id": "Drc_t4I-uEXi",
        "outputId": "e3344777-efdd-4dc9-fc6a-75a60f102456"
      },
      "execution_count": 16,
      "outputs": [
        {
          "output_type": "stream",
          "name": "stdout",
          "text": [
            "\n",
            "real\t0m1.751s\n",
            "user\t0m1.667s\n",
            "sys\t0m0.066s\n"
          ]
        }
      ]
    },
    {
      "cell_type": "code",
      "source": [
        "!diff insertion_sorted1m.txt heap_sorted1m.txt"
      ],
      "metadata": {
        "id": "hPpm8_8duKWF"
      },
      "execution_count": 17,
      "outputs": []
    },
    {
      "cell_type": "markdown",
      "source": [
        "# Part 6 : k-Nearest Neighbors"
      ],
      "metadata": {
        "id": "5OMvNqeu2-pB"
      }
    },
    {
      "cell_type": "markdown",
      "source": [
        "## For the final part of this lecture let's use our heap based priority queue to find the k nearest neighbors to a point in a dataset where the points are in $\\mathbb{R}^{dim}$.\n",
        "\n",
        "## The number k and the index of the point to the find the k nearest neighbors of are command line arguments."
      ],
      "metadata": {
        "id": "RuFzHG7a5Oyb"
      }
    },
    {
      "cell_type": "code",
      "source": [
        "%%writefile knn.c\n",
        "#include <stdio.h>\n",
        "#include <stdlib.h>\n",
        "#include \"vec.h\"\n",
        "#include \"pri_queue.h\"\n",
        "\n",
        "int main (int argc, char* argv[]) {\n",
        "\n",
        "    // read the command line arguments\n",
        "    if (argc < 3) {\n",
        "        printf (\"command usage: %s %s %s\\n\",argv[0],\"k\",\"index\");\n",
        "        return 1;\n",
        "    }\n",
        "    int k = atoi(argv[1]);\n",
        "    int index = atoi(argv[2]);\n",
        "\n",
        "    // read the number of points and the dimension of each point\n",
        "    int num_points, dim;\n",
        "    if (scanf(\"%*c %d %d\",&num_points, &dim) != 2) {\n",
        "        printf (\"error reading the number of points and the dimension\\n\");\n",
        "        return 1;\n",
        "    }\n",
        "\n",
        "    // Read vectors from stdin and store them in a flat 2d array\n",
        "    double* data = (double*)malloc(num_points*dim*sizeof(double));\n",
        "    if (data == NULL) {\n",
        "        printf (\"failed to allocate data array!\\n\");\n",
        "        return 1;\n",
        "    }\n",
        "    for (int i=0;i<num_points;i++) {\n",
        "        // data+i*dim is a pointer to the ith data point\n",
        "        if (vec_read_stdin(data+i*dim,dim) != dim) {\n",
        "            printf (\"error reading the next point from stdin\\n\");\n",
        "            return 1;\n",
        "        }\n",
        "    }\n",
        "\n",
        "    // initialize the priority queue\n",
        "    pri_queue pq;\n",
        "    pri_queue_init (&pq,k);\n",
        "\n",
        "    // calculate all distances squared\n",
        "    // and store the indices of the k nearest in the priority queue\n",
        "    for (int i=0;i<num_points;i++) {\n",
        "        double dist_sq = vec_dist_sq(data+i*dim,data+index*dim,dim);\n",
        "        pri_queue_element new = { dist_sq, i };\n",
        "        if (pq.cur_size < k) {\n",
        "            pri_queue_insert(&pq, new);\n",
        "        } else {\n",
        "            pri_queue_element top = pri_queue_peek_top(&pq);\n",
        "            if (dist_sq < top.priority) {\n",
        "                pri_queue_delete_top(&pq);\n",
        "                pri_queue_insert(&pq,new);\n",
        "            }\n",
        "        }\n",
        "    }\n",
        "\n",
        "    // remove the k nearest indices from the priority queue\n",
        "    int nearest[k];\n",
        "    for (int i=k-1;i>=0;i--) {\n",
        "        pri_queue_element top = pri_queue_peek_top(&pq);\n",
        "        nearest[i] = top.id;\n",
        "        pri_queue_delete_top(&pq);\n",
        "    }\n",
        "\n",
        "    // print the k nearest indices from closest to farthest\n",
        "    printf (\"k nearest neighbors: \");\n",
        "    for (int i=0;i<k;i++) {\n",
        "        printf (\"%d \",nearest[i]);\n",
        "    }\n",
        "    printf (\"\\n\");\n",
        "\n",
        "    // free the priority queue */\n",
        "    pri_queue_free (&pq);\n",
        "\n",
        "    // free our heap array\n",
        "    free (data);\n",
        "}\n"
      ],
      "metadata": {
        "colab": {
          "base_uri": "https://localhost:8080/"
        },
        "id": "0xryjKCfuOki",
        "outputId": "006b49eb-8486-4d43-9f43-32a353abd749"
      },
      "execution_count": 18,
      "outputs": [
        {
          "output_type": "stream",
          "name": "stdout",
          "text": [
            "Writing knn.c\n"
          ]
        }
      ]
    },
    {
      "cell_type": "code",
      "source": [
        "!gcc -o knn knn.c pri_queue_heap.c vec.c"
      ],
      "metadata": {
        "id": "7BJABJzF7LaI"
      },
      "execution_count": 19,
      "outputs": []
    },
    {
      "cell_type": "code",
      "source": [
        "!echo \\# 3 2 1 1 2 2 4 4 | ./knn 3 1"
      ],
      "metadata": {
        "colab": {
          "base_uri": "https://localhost:8080/"
        },
        "id": "2Im8jXKV7OTS",
        "outputId": "97c3b205-fb7b-46ba-908a-d3963f47a10f"
      },
      "execution_count": 20,
      "outputs": [
        {
          "output_type": "stream",
          "name": "stdout",
          "text": [
            "k nearest neighbors: 1 0 2 \n"
          ]
        }
      ]
    },
    {
      "cell_type": "markdown",
      "source": [
        "## Let's look at the 16 numbers closest to the test image with index 11.  Note that the upper left image in the 4 x 4 grid is test image 11.  The closest images are arranged in row-major order (e.g. test image 11 and its 3 nearest neighbors occupy the first row of the 4x4 grid and so on)."
      ],
      "metadata": {
        "id": "MZJsFaQvDdjp"
      }
    },
    {
      "cell_type": "code",
      "source": [
        "!cat mnist_test.txt | ./knn 16 11"
      ],
      "metadata": {
        "colab": {
          "base_uri": "https://localhost:8080/"
        },
        "id": "SVeb9yp_9yiL",
        "outputId": "29461313-f543-4d74-a89f-6323b517e7b9"
      },
      "execution_count": 21,
      "outputs": [
        {
          "output_type": "stream",
          "name": "stdout",
          "text": [
            "k nearest neighbors: 11 4686 3901 973 4449 3827 1977 4051 1332 4831 7705 8579 8564 2039 2286 6406 \n"
          ]
        }
      ]
    },
    {
      "cell_type": "code",
      "source": [
        "!cat mnist_test.txt | python3 mnist16.py mnist_test_11_16.png 11 4686 3901 973 4449 3827 1977 4051 1332 4831 7705 8579 8564 2039 2286 6406"
      ],
      "metadata": {
        "id": "bv0nJlzQ_Gyz"
      },
      "execution_count": 22,
      "outputs": []
    },
    {
      "cell_type": "code",
      "source": [
        "from PIL import Image, ImageOps # for image processing\n",
        "sixes = Image.open(\"mnist_test_11_16.png\")\n",
        "sixes"
      ],
      "metadata": {
        "colab": {
          "base_uri": "https://localhost:8080/",
          "height": 1000
        },
        "id": "wyLR7fd7ARxh",
        "outputId": "44c27041-14b6-4aa4-f8ce-2971fb04ede8"
      },
      "execution_count": 23,
      "outputs": [
        {
          "output_type": "execute_result",
          "data": {
            "text/plain": [
              "<PIL.PngImagePlugin.PngImageFile image mode=RGBA size=1612x1602>"
            ],
            "image/png": "[encoded data removed]"
          },
          "metadata": {},
          "execution_count": 23
        }
      ]
    },
    {
      "cell_type": "code",
      "source": [],
      "metadata": {
        "id": "PiiCAQeaDNsB"
      },
      "execution_count": 23,
      "outputs": []
    }
  ]
}