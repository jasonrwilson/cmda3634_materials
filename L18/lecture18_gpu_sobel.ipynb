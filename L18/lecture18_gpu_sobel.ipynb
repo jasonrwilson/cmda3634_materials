{
  "nbformat": 4,
  "nbformat_minor": 0,
  "metadata": {
    "colab": {
      "provenance": []
    },
    "kernelspec": {
      "name": "python3",
      "display_name": "Python 3"
    },
    "language_info": {
      "name": "python"
    }
  },
  "cells": [
    {
      "cell_type": "markdown",
      "source": [
        "# Lecture 18 : GPU Sobel Edge Detection"
      ],
      "metadata": {
        "id": "5jVHCgccThCQ"
      }
    },
    {
      "cell_type": "markdown",
      "source": [
        "## Clone the materials repo to access datafiles."
      ],
      "metadata": {
        "id": "UuPS6mjHjS38"
      }
    },
    {
      "cell_type": "code",
      "source": [
        "!git clone https://code.vt.edu/jasonwil/cmda3634_materials.git"
      ],
      "metadata": {
        "colab": {
          "base_uri": "https://localhost:8080/"
        },
        "id": "KxilZl0LTv3Z",
        "outputId": "cc7750f0-8bc1-4896-f28e-49c9577524af"
      },
      "execution_count": 1,
      "outputs": [
        {
          "output_type": "stream",
          "name": "stdout",
          "text": [
            "Cloning into 'cmda3634_materials'...\n",
            "remote: Enumerating objects: 225, done.\u001b[K\n",
            "remote: Counting objects: 100% (186/186), done.\u001b[K\n",
            "remote: Compressing objects: 100% (163/163), done.\u001b[K\n",
            "remote: Total 225 (delta 82), reused 37 (delta 16), pack-reused 39 (from 1)\u001b[K\n",
            "Receiving objects: 100% (225/225), 34.17 MiB | 6.48 MiB/s, done.\n",
            "Resolving deltas: 100% (82/82), done.\n",
            "Updating files: 100% (86/86), done.\n"
          ]
        }
      ]
    },
    {
      "cell_type": "code",
      "source": [
        "# copy the lecture 18 files to our working directory\n",
        "!cp cmda3634_materials/L18/* ."
      ],
      "metadata": {
        "id": "319NRyUrTzsS"
      },
      "execution_count": 2,
      "outputs": []
    },
    {
      "cell_type": "markdown",
      "source": [
        "# Part 1 : Converting a Color Video to Grayscale Video in Python\n",
        "\n",
        "## In Python, cv2 is the module used to access the OpenCV (Open Source Computer Vision) library.\n",
        "\n",
        "## OpenCV is a library for image processing, computer vision, and machine learning tasks."
      ],
      "metadata": {
        "id": "Jxms3_E6F6VI"
      }
    },
    {
      "cell_type": "code",
      "execution_count": 3,
      "metadata": {
        "colab": {
          "base_uri": "https://localhost:8080/"
        },
        "id": "LFi-g2ANDXVv",
        "outputId": "76f01000-6569-4a41-d2ad-962e6483e55f"
      },
      "outputs": [
        {
          "output_type": "stream",
          "name": "stdout",
          "text": [
            "Writing grayscale.py\n"
          ]
        }
      ],
      "source": [
        "%%writefile grayscale.py\n",
        "import cv2 # for video processing\n",
        "import sys # for command line arguments\n",
        "import numpy as np # for matrix processing\n",
        "\n",
        "# make sure command line arguments are provided\n",
        "if (len(sys.argv) < 3):\n",
        "    print ('command usage :',sys.argv[0],'infile','outfile')\n",
        "    exit(1)\n",
        "infile = sys.argv[1]\n",
        "outfile = sys.argv[2]\n",
        "\n",
        "# open video\n",
        "input = cv2.VideoCapture(infile)\n",
        "\n",
        "# Check if the video opened successfully\n",
        "if not input.isOpened():\n",
        "    print(\"Error opening video input file\")\n",
        "    exit()\n",
        "\n",
        "# get information about the video\n",
        "len = int(input.get(cv2.CAP_PROP_FRAME_COUNT))\n",
        "cols = int(input.get(cv2.CAP_PROP_FRAME_WIDTH))\n",
        "rows = int(input.get(cv2.CAP_PROP_FRAME_HEIGHT))\n",
        "fps = input.get(cv2.CAP_PROP_FPS)\n",
        "\n",
        "# print number of frames\n",
        "print ('number of frames =',len)\n",
        "\n",
        "# open the output video\n",
        "output = cv2.VideoWriter(outfile, cv2.VideoWriter_fourcc(*'mp4v'),\n",
        "                        fps, (cols,rows), False)\n",
        "\n",
        "# read video frame by frame\n",
        "# convert each frame to grayscale and write to outfile\n",
        "while input.isOpened():\n",
        "    ret, frame = input.read()\n",
        "    if not ret:\n",
        "        break\n",
        "    # Convert frame to grayscale and write to output\n",
        "    frame = cv2.cvtColor(frame, cv2.COLOR_BGR2GRAY)\n",
        "    output.write(frame)\n",
        "input.release()\n",
        "output.release()"
      ]
    },
    {
      "cell_type": "markdown",
      "source": [
        "## Convert a 1 frame per second video to grayscale."
      ],
      "metadata": {
        "id": "fyFDXfNAGlDG"
      }
    },
    {
      "cell_type": "code",
      "source": [
        "!time python3 grayscale.py shuttle1.mp4 gray1.mp4"
      ],
      "metadata": {
        "colab": {
          "base_uri": "https://localhost:8080/"
        },
        "id": "BxwCrkzZDs1S",
        "outputId": "2519510f-9270-47be-ea72-e4f61604146f"
      },
      "execution_count": 6,
      "outputs": [
        {
          "output_type": "stream",
          "name": "stdout",
          "text": [
            "number of frames = 13\n",
            "\n",
            "real\t0m0.837s\n",
            "user\t0m1.014s\n",
            "sys\t0m0.220s\n"
          ]
        }
      ]
    },
    {
      "cell_type": "markdown",
      "source": [
        "## Convert a 20 frame per second video to grayscale."
      ],
      "metadata": {
        "id": "pTHr8k9JGrdx"
      }
    },
    {
      "cell_type": "code",
      "source": [
        "!time python3 grayscale.py shuttle20.mp4 gray20.mp4"
      ],
      "metadata": {
        "colab": {
          "base_uri": "https://localhost:8080/"
        },
        "id": "wfcshrcNENPq",
        "outputId": "f771799f-10c2-48d4-813a-8deeab68fda4"
      },
      "execution_count": 7,
      "outputs": [
        {
          "output_type": "stream",
          "name": "stdout",
          "text": [
            "number of frames = 269\n",
            "\n",
            "real\t0m8.510s\n",
            "user\t0m11.342s\n",
            "sys\t0m0.361s\n"
          ]
        }
      ]
    },
    {
      "cell_type": "markdown",
      "source": [
        "# Part 2 : Sobel Edge Detection in Python"
      ],
      "metadata": {
        "id": "usFCTFaWHMQk"
      }
    },
    {
      "cell_type": "markdown",
      "source": [
        "Sobel edge detection consists of the following two kernels that we apply to each pixel in the image to detect vertical and horizontal edges.\n",
        "\n",
        "$$\\begin{bmatrix} -1 & 0 & +1 \\\\ -2 & 0 & +2 \\\\ -1 & 0 & +1 \\end{bmatrix} \\qquad\n",
        "\\begin{bmatrix} +1 & +2 & +1 \\\\ 0 & 0 & 0 \\\\ -1 & -2 & -1 \\end{bmatrix}$$\n",
        "\n",
        "Example : Apply each kernel to the center pixel of the following image matrix.\n",
        "\n",
        "$$\\begin{bmatrix} 1 & 1 & 1 \\\\ 0 & 0 & 0 \\\\ 2 & 2 & 2 \\end{bmatrix}$$\n",
        "\n",
        "We apply the first kernel which detects vertical edges:\n",
        "\n",
        "$$G_x = (-1)(1) + 0(1) + 1(1) + (-2)(0) + 0(0) + 2(0) + (-1)(2) + 0(2) + 1(2) = 0$$\n",
        "\n",
        "We apply the second kernel which detects horizontal edges:\n",
        "\n",
        "$$G_y = (1)(1) + 2(1) + 1(1) + 0(0) + 0(0) + 0(0) + (-1)(2) + (-2)(2) + (-1)(2) = -4$$\n",
        "\n",
        "To combine the results of the detectors we use the formula\n",
        "$$|G| = |G_x| + |G_y| = 0 + 4 = 4$$\n",
        "\n",
        "Given a $3 \\times 3$ piece of an image matrix\n",
        "$$\\begin{bmatrix} P_1 & P_2 & P_3 \\\\ P_4 & P_5 & P_6 \\\\ P_7 & P_8 & P_9 \\end{bmatrix}$$\n",
        "\n",
        "we can compute value of $|G|$ at the pixel $P_5$ using the formula\n",
        "$$|G| = |P_3 + 2P_6 + P_9 - P_1 - 2P_4 - P_7| + |P_1+2P_2+P_3-P_7-2P_8-P_9|$$\n",
        "\n",
        "We will pad the perimeter of the image matrix with zeros to ensure that the above formula can be computed at each pixel.\n",
        "\n",
        "We can threshold the value of $|G|$ to determine whether to color the pixel black (when $|G| \\leq$ threshold) or\n",
        "white (when $|G| > $ threshold)."
      ],
      "metadata": {
        "id": "A8P8Htoken5Q"
      }
    },
    {
      "cell_type": "code",
      "source": [
        "%%writefile sobel.py\n",
        "import cv2 # for video processing\n",
        "import sys # for command line arguments\n",
        "import numpy as np # for matrix processing\n",
        "import time # to time part of the code\n",
        "\n",
        "# make sure command line arguments are provided\n",
        "if (len(sys.argv) < 4):\n",
        "    print ('command usage :',sys.argv[0],'infile','outfile','threshold')\n",
        "    exit(1)\n",
        "infile = sys.argv[1]\n",
        "outfile = sys.argv[2]\n",
        "threshold = int(sys.argv[3])\n",
        "\n",
        "# open video\n",
        "input = cv2.VideoCapture(infile)\n",
        "\n",
        "# Check if the video opened successfully\n",
        "if not input.isOpened():\n",
        "    print(\"Error opening video input file\")\n",
        "    exit()\n",
        "\n",
        "# get information about the video\n",
        "len = int(input.get(cv2.CAP_PROP_FRAME_COUNT))\n",
        "cols = int(input.get(cv2.CAP_PROP_FRAME_WIDTH))\n",
        "rows = int(input.get(cv2.CAP_PROP_FRAME_HEIGHT))\n",
        "fps = input.get(cv2.CAP_PROP_FPS)\n",
        "\n",
        "# print number of frames\n",
        "print ('number of frames =',len)\n",
        "\n",
        "# open the output video\n",
        "output = cv2.VideoWriter(outfile, cv2.VideoWriter_fourcc(*'mp4v'),\n",
        "                        fps, (cols,rows), False)\n",
        "\n",
        "# read video frame by frame\n",
        "# convert each frame to grayscale and write to outfile\n",
        "while input.isOpened():\n",
        "    ret, frame = input.read()\n",
        "    if not ret:\n",
        "        break\n",
        "    # Convert frame to grayscale if it's not already\n",
        "    if frame.ndim == 3:\n",
        "        frame = cv2.cvtColor(frame, cv2.COLOR_BGR2GRAY)\n",
        "\n",
        "    # Convert video frame to matrix\n",
        "    A = np.array(frame)\n",
        "    # Add zero padding to matrix\n",
        "    A_pad = np.pad(A,[1,1],'constant',constant_values = 0)\n",
        "    # Create the edges matrix\n",
        "    E = np.zeros((rows,cols),dtype='uint8')\n",
        "\n",
        "    # start timer\n",
        "    start = time.process_time()\n",
        "\n",
        "    # Run Sobel Edge Detector\n",
        "    for i in range(0,rows):\n",
        "        for j in range(0,cols):\n",
        "            P1 = A_pad[i][j]\n",
        "            P2 = A_pad[i][j+1]\n",
        "            P3 = A_pad[i][j+2]\n",
        "            P4 = A_pad[i+1][j]\n",
        "            P6 = A_pad[i+1][j+2]\n",
        "            P7 = A_pad[i+2][j]\n",
        "            P8 = A_pad[i+2][j+1]\n",
        "            P9 = A_pad[i+2][j+2]\n",
        "            Gx = P3+2*P6+P9-P1-2*P4-P7\n",
        "            Gy = P1+2*P2+P3-P7-2*P8-P9\n",
        "            size = np.abs(Gx)+np.abs(Gy)\n",
        "            if (size > threshold):\n",
        "                E[i][j] = 255\n",
        "\n",
        "    # print how long it took to run sobel on frame\n",
        "    elapsed = time.process_time()-start\n",
        "    print ('Time to run Sobel on frame =',np.round(elapsed,4),'seconds')\n",
        "\n",
        "    # Write the edges as the next video frame\n",
        "    output.write(E)\n",
        "\n",
        "input.release()\n",
        "output.release()"
      ],
      "metadata": {
        "colab": {
          "base_uri": "https://localhost:8080/"
        },
        "id": "ALGUHMIzGue5",
        "outputId": "ffdf9108-6479-40dc-da4b-72dd3b1aa6e2"
      },
      "execution_count": 11,
      "outputs": [
        {
          "output_type": "stream",
          "name": "stdout",
          "text": [
            "Overwriting sobel.py\n"
          ]
        }
      ]
    },
    {
      "cell_type": "markdown",
      "source": [
        "## Run python Sobel edge detector on a 1 frame per second video"
      ],
      "metadata": {
        "id": "9MQzq7lQLzAE"
      }
    },
    {
      "cell_type": "code",
      "source": [
        "!time python3 sobel.py shuttle1.mp4 edges1.mp4 50"
      ],
      "metadata": {
        "colab": {
          "base_uri": "https://localhost:8080/"
        },
        "id": "TwiFL9GfI-Xt",
        "outputId": "9c41c6fa-f7e1-4d09-dc2e-7f9fe3d5029d"
      },
      "execution_count": 12,
      "outputs": [
        {
          "output_type": "stream",
          "name": "stdout",
          "text": [
            "number of frames = 13\n",
            "Time to run Sobel on frame = 28.6334 seconds\n",
            "Time to run Sobel on frame = 28.1237 seconds\n",
            "Time to run Sobel on frame = 27.8618 seconds\n",
            "Time to run Sobel on frame = 28.0594 seconds\n",
            "Time to run Sobel on frame = 29.0207 seconds\n",
            "Time to run Sobel on frame = 28.1312 seconds\n",
            "Time to run Sobel on frame = 27.9681 seconds\n",
            "Time to run Sobel on frame = 28.0707 seconds\n",
            "Time to run Sobel on frame = 27.9424 seconds\n",
            "Time to run Sobel on frame = 30.2172 seconds\n",
            "Time to run Sobel on frame = 28.0558 seconds\n",
            "Time to run Sobel on frame = 28.0844 seconds\n",
            "Time to run Sobel on frame = 27.9603 seconds\n",
            "\n",
            "real\t6m12.104s\n",
            "user\t6m8.905s\n",
            "sys\t0m0.329s\n"
          ]
        }
      ]
    },
    {
      "cell_type": "markdown",
      "source": [
        "## Use **ffmpeg** to add audio to shuttle1 edges video."
      ],
      "metadata": {
        "id": "3UC2E2UBWVWv"
      }
    },
    {
      "cell_type": "code",
      "source": [
        "!ffmpeg -y -hide_banner -loglevel error -i edges1.mp4 -i shuttle_audio.mp3 -c:v copy -map 0:v:0 -map 1:a:0 -c:a aac -b:a 192k shuttle1_edges.mp4"
      ],
      "metadata": {
        "id": "fGLLRdl5WNSy"
      },
      "execution_count": 15,
      "outputs": []
    },
    {
      "cell_type": "markdown",
      "source": [
        "## About how long would it take to run the python Sobel edge detector on the 20 fps version with 269 frames assuming that it takes roughly 30 seconds per frame?\n",
        "\n",
        "## Answer: around 135 minutes (2 hours!)"
      ],
      "metadata": {
        "id": "kHKUiNCeL8kR"
      }
    },
    {
      "cell_type": "markdown",
      "source": [
        "# Part 3 : Sobel Edge Detection using CUDA"
      ],
      "metadata": {
        "id": "UyK8x6GgMZXy"
      }
    },
    {
      "cell_type": "markdown",
      "source": [
        "## Previously we learned how to replace computationally demanding Python code wth C code.\n",
        "\n",
        "## This allows us to get the ease of using Python along with the high performance of C.\n",
        "\n",
        "## We also saw that the we could have our C functions use OpenMP.\n",
        "\n",
        "## This allows us to further accelerate computational demanding Python codes.\n",
        "\n",
        "## Today we will look at an example where our C functions use CUDA.\n",
        "\n",
        "## For Sobel edge detection, what is the minimum amount of work we could have each thread do?\n",
        "\n",
        "## Answer: A single pixel!\n",
        "\n",
        "## With one thread per pixel, how many threads are needed for a 1984 x 1000 video frame?\n",
        "\n",
        "## Answer : 1984*1000 = 1984000 threads.\n"
      ],
      "metadata": {
        "id": "iE9wev7DfDHA"
      }
    },
    {
      "cell_type": "markdown",
      "source": [
        "## Complete the following CUDA code for the GPU Sobel Edge detector."
      ],
      "metadata": {
        "id": "fJanC-gThJpo"
      }
    },
    {
      "cell_type": "code",
      "source": [
        "%%writefile gpu_sobel_start.cu\n",
        "#include <stdio.h>\n",
        "#include <stdlib.h>\n",
        "#include <time.h>\n",
        "#include <cuda.h>\n",
        "\n",
        "typedef unsigned char byte;\n",
        "\n",
        "__global__ void sobelKernel(byte* A_pad, byte* E, int rows, int cols, int threshold) {\n",
        "\n",
        "    ////////////\n",
        "    // add code to finish the Sobel kernel so that each thread handles one pixel\n",
        "    ////////////\n",
        "\n",
        "    {\n",
        "        int i = 0;\n",
        "        int j = 0;\n",
        "        int P1 = A_pad[i*(cols+2)+j];\n",
        "        int P2 = A_pad[i*(cols+2)+j+1];\n",
        "        int P3 = A_pad[i*(cols+2)+j+2];\n",
        "        int P4 = A_pad[(i+1)*(cols+2)+j];\n",
        "        int P6 = A_pad[(i+1)*(cols+2)+j+2];\n",
        "        int P7 = A_pad[(i+2)*(cols+2)+j];\n",
        "        int P8 = A_pad[(i+2)*(cols+2)+j+1];\n",
        "        int P9 = A_pad[(i+2)*(cols+2)+j+2];\n",
        "        int Gx = P3+2*P6+P9-P1-2*P4-P7;\n",
        "        int Gy = P1+2*P2+P3-P7-2*P8-P9;\n",
        "        int size = abs(Gx)+abs(Gy);\n",
        "        if (size > threshold) {\n",
        "            E[i*cols+j] = 255;\n",
        "        }\n",
        "    }\n",
        "\n",
        "}\n",
        "\n",
        "extern \"C\" void sobel(byte* A_pad, byte* E, int rows, int cols, int threshold) {\n",
        "\n",
        "    // use 256 threads per thread block\n",
        "    int B = 256;\n",
        "\n",
        "    // each thread processes one pixel\n",
        "\n",
        "    ////////////\n",
        "    // add code to compute the number of thread blocks G\n",
        "    ////////////\n",
        "\n",
        "    // A_pad and E on the device\n",
        "\n",
        "    ////////////\n",
        "    // add code to allocate space on device for A_pad and E.\n",
        "    ////////////\n",
        "\n",
        "    // start the timer\n",
        "    clock_t start = clock();\n",
        "\n",
        "    // copy A_pad from the host to the device\n",
        "\n",
        "    ////////////\n",
        "    // add code to copy A_pad from the host to the device\n",
        "    ////////////\n",
        "\n",
        "    // Initialize E on the device\n",
        "\n",
        "    ////////////\n",
        "    // add code to initialize E on the device\n",
        "    ////////////\n",
        "\n",
        "    // launch the Sobel kernel\n",
        "\n",
        "    ////////////\n",
        "    // add code to launch the Sobel kernel\n",
        "    ////////////\n",
        "\n",
        "    // copy E from the device to the host\n",
        "\n",
        "    ////////////\n",
        "    // add code to copy E from the device to the host\n",
        "    ////////////\n",
        "\n",
        "    // stop the timer\n",
        "    clock_t stop = clock();\n",
        "    double elapsed = (double)(stop-start)/CLOCKS_PER_SEC;\n",
        "\n",
        "#ifdef DIAG\n",
        "    // print timing result\n",
        "    printf (\"Time to run Sobel on frame = %.4f seconds\\n\",elapsed);\n",
        "#endif\n",
        "\n",
        "}"
      ],
      "metadata": {
        "colab": {
          "base_uri": "https://localhost:8080/"
        },
        "id": "ypkJPCw1hQLw",
        "outputId": "af4a06f9-6a00-42c8-da80-0df49b6edec8"
      },
      "execution_count": 16,
      "outputs": [
        {
          "output_type": "stream",
          "name": "stdout",
          "text": [
            "Overwriting gpu_sobel_start.cu\n"
          ]
        }
      ]
    },
    {
      "cell_type": "code",
      "source": [
        "!nvcc -DDIAG -Xcompiler -fPIC -shared -arch=sm_75 -O3 -o gpu_sobel_start.so gpu_sobel_start.cu"
      ],
      "metadata": {
        "colab": {
          "base_uri": "https://localhost:8080/"
        },
        "id": "0j464TLni5xB",
        "outputId": "1994890d-df58-46d8-e3b7-ff43fd8492d0"
      },
      "execution_count": 17,
      "outputs": [
        {
          "output_type": "stream",
          "name": "stdout",
          "text": [
            "\u001b[01m\u001b[0m\u001b[01mgpu_sobel_start.cu(38)\u001b[0m: \u001b[01;35mwarning\u001b[0m #177-D: variable \u001b[01m\"B\"\u001b[0m was declared but never referenced\n",
            "      int B = 256;\n",
            "          ^\n",
            "\n",
            "\u001b[01;36m\u001b[0m\u001b[01;36mRemark\u001b[0m: The warnings can be suppressed with \"-diag-suppress <warning-number>\"\n",
            "\n"
          ]
        }
      ]
    },
    {
      "cell_type": "markdown",
      "source": [
        "## **Change runtime to T4.**"
      ],
      "metadata": {
        "id": "vaPN0wxKbRRH"
      }
    },
    {
      "cell_type": "markdown",
      "source": [
        "## Clone the materials repo to access datafiles."
      ],
      "metadata": {
        "id": "U2eo3ykHjaDj"
      }
    },
    {
      "cell_type": "code",
      "source": [
        "!git clone https://code.vt.edu/jasonwil/cmda3634_materials.git"
      ],
      "metadata": {
        "colab": {
          "base_uri": "https://localhost:8080/"
        },
        "id": "-6d0hOG-bNfD",
        "outputId": "1b99ea72-cf82-4e0a-b3b3-fc6928764cc7"
      },
      "execution_count": 1,
      "outputs": [
        {
          "output_type": "stream",
          "name": "stdout",
          "text": [
            "Cloning into 'cmda3634_materials'...\n",
            "remote: Enumerating objects: 225, done.\u001b[K\n",
            "remote: Counting objects: 100% (186/186), done.\u001b[K\n",
            "remote: Compressing objects: 100% (163/163), done.\u001b[K\n",
            "remote: Total 225 (delta 82), reused 37 (delta 16), pack-reused 39 (from 1)\u001b[K\n",
            "Receiving objects: 100% (225/225), 34.17 MiB | 5.76 MiB/s, done.\n",
            "Resolving deltas: 100% (82/82), done.\n"
          ]
        }
      ]
    },
    {
      "cell_type": "code",
      "source": [
        "# copy the lecture 18 files to our working directory\n",
        "!cp cmda3634_materials/L18/* ."
      ],
      "metadata": {
        "id": "qEvsdTyzbKOP"
      },
      "execution_count": 2,
      "outputs": []
    },
    {
      "cell_type": "code",
      "source": [
        "%%writefile gpu_sobel.cu\n",
        "#include <stdio.h>\n",
        "#include <stdlib.h>\n",
        "#include <time.h>\n",
        "#include <cuda.h>\n",
        "\n",
        "typedef unsigned char byte;\n",
        "\n",
        "__global__ void sobelKernel(byte* A_pad, byte* E, int rows, int cols, int threshold) {\n",
        "\n",
        "    int thread_num = blockIdx.x*blockDim.x+threadIdx.x;\n",
        "    if (thread_num < rows*cols) {\n",
        "        int i = thread_num/cols;\n",
        "        int j = thread_num%cols;\n",
        "        int P1 = A_pad[i*(cols+2)+j];\n",
        "        int P2 = A_pad[i*(cols+2)+j+1];\n",
        "        int P3 = A_pad[i*(cols+2)+j+2];\n",
        "        int P4 = A_pad[(i+1)*(cols+2)+j];\n",
        "        int P6 = A_pad[(i+1)*(cols+2)+j+2];\n",
        "        int P7 = A_pad[(i+2)*(cols+2)+j];\n",
        "        int P8 = A_pad[(i+2)*(cols+2)+j+1];\n",
        "        int P9 = A_pad[(i+2)*(cols+2)+j+2];\n",
        "        int Gx = P3+2*P6+P9-P1-2*P4-P7;\n",
        "        int Gy = P1+2*P2+P3-P7-2*P8-P9;\n",
        "        int size = abs(Gx)+abs(Gy);\n",
        "        if (size > threshold) {\n",
        "            E[i*cols+j] = 255;\n",
        "        }\n",
        "    }\n",
        "}\n",
        "\n",
        "extern \"C\" void sobel(byte* A_pad, byte* E, int rows, int cols, int threshold) {\n",
        "\n",
        "    // use 256 threads per thread block\n",
        "    int B = 256;\n",
        "\n",
        "    // each thread processes one pixel\n",
        "    int G = (rows*cols+B-1)/B;\n",
        "\n",
        "    // A_pad and E on the device\n",
        "    byte* d_A_pad;\n",
        "    byte* d_E;\n",
        "    cudaMalloc (&d_A_pad,(rows+2)*(cols+2));\n",
        "    cudaMalloc (&d_E,rows*cols);\n",
        "\n",
        "    // start the timer\n",
        "    clock_t start = clock();\n",
        "\n",
        "    // copy A_pad from the host to the device\n",
        "    cudaMemcpy (d_A_pad, A_pad, (rows+2)*(cols+2), cudaMemcpyHostToDevice);\n",
        "\n",
        "    // Initialize E on the device\n",
        "    cudaMemset (d_E,0,rows*cols);\n",
        "\n",
        "    // launch the Sobel kernel\n",
        "    sobelKernel <<< G, B >>> (d_A_pad,d_E,rows,cols,threshold);\n",
        "\n",
        "    // copy E from the device to host\n",
        "    cudaMemcpy (E, d_E, rows*cols, cudaMemcpyDeviceToHost);\n",
        "\n",
        "    // stop the timer\n",
        "    clock_t stop = clock();\n",
        "    double elapsed = (double)(stop-start)/CLOCKS_PER_SEC;\n",
        "\n",
        "#ifdef DIAG\n",
        "    // print timing result\n",
        "    printf (\"Time to run Sobel on frame = %.4f seconds\\n\",elapsed);\n",
        "#endif\n",
        "\n",
        "}"
      ],
      "metadata": {
        "colab": {
          "base_uri": "https://localhost:8080/"
        },
        "id": "TgRjFO95Jhep",
        "outputId": "be126bc5-2b7c-4120-8584-51b4bdcc6f53"
      },
      "execution_count": 3,
      "outputs": [
        {
          "output_type": "stream",
          "name": "stdout",
          "text": [
            "Writing gpu_sobel.cu\n"
          ]
        }
      ]
    },
    {
      "cell_type": "code",
      "source": [
        "%%writefile gpu_sobel.py\n",
        "import cv2 # for video processing\n",
        "import sys # for command line arguments\n",
        "import numpy as np # for matrix processing\n",
        "import ctypes as ct # for calling C from Python\n",
        "lib = ct.cdll.LoadLibrary(\"./gpu_sobel.so\") # load GPU sobel edge detector\n",
        "\n",
        "# make sure command line arguments are provided\n",
        "if (len(sys.argv) < 4):\n",
        "    print ('command usage :',sys.argv[0],'infile','outfile','threshold')\n",
        "    exit(1)\n",
        "infile = sys.argv[1]\n",
        "outfile = sys.argv[2]\n",
        "threshold = int(sys.argv[3])\n",
        "\n",
        "# open video\n",
        "input = cv2.VideoCapture(infile)\n",
        "\n",
        "# Check if the video opened successfully\n",
        "if not input.isOpened():\n",
        "    print(\"Error opening video input file\")\n",
        "    exit()\n",
        "\n",
        "# get information about the video\n",
        "len = int(input.get(cv2.CAP_PROP_FRAME_COUNT))\n",
        "cols = int(input.get(cv2.CAP_PROP_FRAME_WIDTH))\n",
        "rows = int(input.get(cv2.CAP_PROP_FRAME_HEIGHT))\n",
        "fps = input.get(cv2.CAP_PROP_FPS)\n",
        "\n",
        "# print number of frames\n",
        "print ('number of frames =',len)\n",
        "\n",
        "# open the output video\n",
        "output = cv2.VideoWriter(outfile, cv2.VideoWriter_fourcc(*'mp4v'),\n",
        "                        fps, (cols,rows), False)\n",
        "\n",
        "# read video frame by frame\n",
        "# convert each frame to grayscale and write to outfile\n",
        "while input.isOpened():\n",
        "    ret, frame = input.read()\n",
        "    if not ret:\n",
        "        break\n",
        "    # Convert frame to grayscale if it's not already\n",
        "    if frame.ndim == 3:\n",
        "        frame = cv2.cvtColor(frame, cv2.COLOR_BGR2GRAY)\n",
        "\n",
        "    # Convert video frame to matrix\n",
        "    A = np.array(frame)\n",
        "    # Add zero padding to matrix\n",
        "    A_pad = np.pad(A,[1,1],'constant',constant_values = 0)\n",
        "    # Create the edges matrix\n",
        "    E = np.zeros((rows,cols),dtype='uint8')\n",
        "\n",
        "    # call the GPU sobel edge detector\n",
        "    A_pad_cptr = A_pad.ctypes.data_as(ct.POINTER(ct.c_uint8))\n",
        "    E_cptr = E.ctypes.data_as(ct.POINTER(ct.c_uint8))\n",
        "    lib.sobel(A_pad_cptr,E_cptr,ct.c_int(rows),ct.c_int(cols),ct.c_int(threshold))\n",
        "\n",
        "    # Write the edges as the next video frame\n",
        "    output.write(E)\n",
        "\n",
        "input.release()\n",
        "output.release()"
      ],
      "metadata": {
        "colab": {
          "base_uri": "https://localhost:8080/"
        },
        "id": "93THHV6ZPEpy",
        "outputId": "6f86e449-5978-4e68-e582-1317bad965bb"
      },
      "execution_count": 4,
      "outputs": [
        {
          "output_type": "stream",
          "name": "stdout",
          "text": [
            "Writing gpu_sobel.py\n"
          ]
        }
      ]
    },
    {
      "cell_type": "markdown",
      "source": [
        "## First run on 1 frame per second video (with diagnostics)."
      ],
      "metadata": {
        "id": "BhYzDfTMcZJN"
      }
    },
    {
      "cell_type": "code",
      "source": [
        "!nvcc -DDIAG -Xcompiler -fPIC -shared -arch=sm_75 -O3 -o gpu_sobel.so gpu_sobel.cu"
      ],
      "metadata": {
        "id": "ecAGCZQWaiel"
      },
      "execution_count": 5,
      "outputs": []
    },
    {
      "cell_type": "code",
      "source": [
        "!time python3 gpu_sobel.py shuttle1.mp4 edges1.mp4 50"
      ],
      "metadata": {
        "colab": {
          "base_uri": "https://localhost:8080/"
        },
        "id": "3Fk0UAUDPmUJ",
        "outputId": "39448579-fc94-4864-8293-1c918171653f"
      },
      "execution_count": 6,
      "outputs": [
        {
          "output_type": "stream",
          "name": "stdout",
          "text": [
            "number of frames = 13\n",
            "Time to run Sobel on frame = 0.0023 seconds\n",
            "Time to run Sobel on frame = 0.0032 seconds\n",
            "Time to run Sobel on frame = 0.0021 seconds\n",
            "Time to run Sobel on frame = 0.0021 seconds\n",
            "Time to run Sobel on frame = 0.0031 seconds\n",
            "Time to run Sobel on frame = 0.0022 seconds\n",
            "Time to run Sobel on frame = 0.0021 seconds\n",
            "Time to run Sobel on frame = 0.0020 seconds\n",
            "Time to run Sobel on frame = 0.0021 seconds\n",
            "Time to run Sobel on frame = 0.0022 seconds\n",
            "Time to run Sobel on frame = 0.0011 seconds\n",
            "Time to run Sobel on frame = 0.0011 seconds\n",
            "Time to run Sobel on frame = 0.0011 seconds\n",
            "\n",
            "real\t0m1.295s\n",
            "user\t0m0.870s\n",
            "sys\t0m0.335s\n"
          ]
        }
      ]
    },
    {
      "cell_type": "markdown",
      "source": [
        "## Run on 20 frames per second video (without diagnostics)."
      ],
      "metadata": {
        "id": "Nnw_kothcSJB"
      }
    },
    {
      "cell_type": "code",
      "source": [
        "!nvcc -Xcompiler -fPIC -shared -arch=sm_75 -O3 -o gpu_sobel.so gpu_sobel.cu"
      ],
      "metadata": {
        "id": "qvg8Bc8YRiQW"
      },
      "execution_count": 7,
      "outputs": []
    },
    {
      "cell_type": "code",
      "source": [
        "!time python3 gpu_sobel.py shuttle20.mp4 edges20.mp4 50"
      ],
      "metadata": {
        "colab": {
          "base_uri": "https://localhost:8080/"
        },
        "id": "6-MwpEEGQZUb",
        "outputId": "ad8775bd-7f0b-483b-980f-b4f7a1d89190"
      },
      "execution_count": 8,
      "outputs": [
        {
          "output_type": "stream",
          "name": "stdout",
          "text": [
            "number of frames = 269\n",
            "\n",
            "real\t0m6.966s\n",
            "user\t0m9.513s\n",
            "sys\t0m0.919s\n"
          ]
        }
      ]
    },
    {
      "cell_type": "markdown",
      "source": [
        "## Use **ffmpeg** to add audio to our shuttle20 edges video."
      ],
      "metadata": {
        "id": "yYgfXfWUTEiv"
      }
    },
    {
      "cell_type": "code",
      "source": [
        "!ffmpeg -y -hide_banner -loglevel error -i edges20.mp4 -i shuttle_audio.mp3 -c:v copy -map 0:v:0 -map 1:a:0 -c:a aac -b:a 192k shuttle20_edges.mp4"
      ],
      "metadata": {
        "id": "jzCPViqlQuVX"
      },
      "execution_count": 9,
      "outputs": []
    },
    {
      "cell_type": "markdown",
      "source": [
        "## After downloading edges video, **disconnect T4 runtime and change runtime type back to CPU.**"
      ],
      "metadata": {
        "id": "vCZ5B5opbnCQ"
      }
    },
    {
      "cell_type": "code",
      "source": [],
      "metadata": {
        "id": "Vt6PY78TRzq7"
      },
      "execution_count": null,
      "outputs": []
    }
  ]
}