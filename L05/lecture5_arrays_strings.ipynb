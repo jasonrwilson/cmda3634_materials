{
  "nbformat": 4,
  "nbformat_minor": 0,
  "metadata": {
    "colab": {
      "provenance": []
    },
    "kernelspec": {
      "name": "python3",
      "display_name": "Python 3"
    },
    "language_info": {
      "name": "python"
    }
  },
  "cells": [
    {
      "cell_type": "markdown",
      "source": [
        "# Lecture 5 : Arrays and Strings"
      ],
      "metadata": {
        "id": "3EW8zosAMKqn"
      }
    },
    {
      "cell_type": "markdown",
      "source": [
        "# Warmup Exercise : Pointer Review\n",
        "\n",
        "## What is the following code designed to do?\n"
      ],
      "metadata": {
        "id": "PeIelStSMNU_"
      }
    },
    {
      "cell_type": "code",
      "execution_count": 1,
      "metadata": {
        "colab": {
          "base_uri": "https://localhost:8080/"
        },
        "id": "khIPtQc7MJVs",
        "outputId": "7616af75-de92-46d9-b703-99f627314b26"
      },
      "outputs": [
        {
          "output_type": "stream",
          "name": "stdout",
          "text": [
            "Writing sort2_v1.c\n"
          ]
        }
      ],
      "source": [
        "%%writefile sort2_v1.c\n",
        "#include <stdio.h>\n",
        "#include <stdlib.h>\n",
        "\n",
        "void swap (int a, int b) {\n",
        "    int temp = a;\n",
        "    a = b;\n",
        "    b = temp;\n",
        "}\n",
        "\n",
        "int main (int argc, char* argv[]) {\n",
        "    if (argc < 3) {\n",
        "        printf (\"command usage: %s %s %s\\n\",argv[0],\"a\",\"b\");\n",
        "        return 1;\n",
        "    }\n",
        "    int a = atoi(argv[1]);\n",
        "    int b = atoi(argv[2]);\n",
        "    if (b < a) {\n",
        "        swap(a,b);\n",
        "    }\n",
        "    printf (\"here are your two numbers sorted: %d %d\\n\",a,b);\n",
        "}"
      ]
    },
    {
      "cell_type": "code",
      "source": [
        "!gcc -o sort2_v1 sort2_v1.c"
      ],
      "metadata": {
        "id": "2pOtm7eIM02c"
      },
      "execution_count": 2,
      "outputs": []
    },
    {
      "cell_type": "code",
      "source": [
        "!./sort2_v1 10 20"
      ],
      "metadata": {
        "colab": {
          "base_uri": "https://localhost:8080/"
        },
        "id": "o9f_D6UaNOFA",
        "outputId": "8619be71-84d7-4285-9b00-a65fb2411807"
      },
      "execution_count": 3,
      "outputs": [
        {
          "output_type": "stream",
          "name": "stdout",
          "text": [
            "here are your two numbers sorted: 10 20\n"
          ]
        }
      ]
    },
    {
      "cell_type": "code",
      "source": [
        "!./sort2_v1 20 10"
      ],
      "metadata": {
        "colab": {
          "base_uri": "https://localhost:8080/"
        },
        "id": "LsL3C2mRM7cb",
        "outputId": "d9f4b821-3de5-42c4-ad2e-5e3244f90520"
      },
      "execution_count": 4,
      "outputs": [
        {
          "output_type": "stream",
          "name": "stdout",
          "text": [
            "here are your two numbers sorted: 20 10\n"
          ]
        }
      ]
    },
    {
      "cell_type": "markdown",
      "source": [
        "## Note that the given code does not work if the two numbers need to be swapped.  \n",
        "\n",
        "## Write a new version *sort2_v2.c* that works as expected by fixing the swap function using pointers.  \n",
        "\n",
        "## Test your new version to make sure it works if the two numbers need to be swapped."
      ],
      "metadata": {
        "id": "Volx-9UPMxmg"
      }
    },
    {
      "cell_type": "markdown",
      "source": [
        "# Part 1 : Introduction to Arrays"
      ],
      "metadata": {
        "id": "B6Wn32SGONWt"
      }
    },
    {
      "cell_type": "markdown",
      "source": [
        "## Here is an example illustrating basic array allocation, initialization, and usage.\n",
        "\n",
        "## Note also that the example generates some random integers."
      ],
      "metadata": {
        "id": "FFSlpk6bQ_R9"
      }
    },
    {
      "cell_type": "code",
      "source": [
        "%%writefile arrays.c\n",
        "#include <stdio.h>\n",
        "\n",
        "int main () {\n",
        "    int a[3] = { 1, 2, 3};\n",
        "    int b[4] = { 1, 2 }; // missing elements initialized to 0\n",
        "    int c[5] = { 0 }; // initialize all elements to 0\n",
        "    int d[] = { 1, 2, 3, 4, 5, 6 }; // size of array inferred\n",
        "    printf (\"a = [ %d %d %d ]\\n\\n\",a[0],a[1],a[2]);\n",
        "    printf (\"b = [ %d %d %d %d ]\\n\\n\",b[0],b[1],b[2],b[3]);\n",
        "    printf (\"c = [ %d %d %d %d %d ]\\n\\n\",c[0],c[1],c[2],c[3],c[4]);\n",
        "    printf (\"d = [ %d %d %d %d %d %d]\\n\\n\",d[0],d[1],d[2],d[3],d[4],d[5]);\n",
        "}"
      ],
      "metadata": {
        "colab": {
          "base_uri": "https://localhost:8080/"
        },
        "id": "6m3Nxct9REWe",
        "outputId": "7d666fe2-8bbb-4b66-8d86-1ae6d3654b6f"
      },
      "execution_count": 5,
      "outputs": [
        {
          "output_type": "stream",
          "name": "stdout",
          "text": [
            "Writing arrays.c\n"
          ]
        }
      ]
    },
    {
      "cell_type": "code",
      "source": [
        "!gcc -o arrays arrays.c"
      ],
      "metadata": {
        "id": "rOTQtTPbMvie"
      },
      "execution_count": 6,
      "outputs": []
    },
    {
      "cell_type": "code",
      "source": [
        "!./arrays"
      ],
      "metadata": {
        "colab": {
          "base_uri": "https://localhost:8080/"
        },
        "id": "Wh83gKBNSE6O",
        "outputId": "c9ecccc8-a0cd-4716-b19f-f613a6c4b1bb"
      },
      "execution_count": 7,
      "outputs": [
        {
          "output_type": "stream",
          "name": "stdout",
          "text": [
            "a = [ 1 2 3 ]\n",
            "\n",
            "b = [ 1 2 0 0 ]\n",
            "\n",
            "c = [ 0 0 0 0 0 ]\n",
            "\n",
            "d = [ 1 2 3 4 5 6]\n",
            "\n"
          ]
        }
      ]
    },
    {
      "cell_type": "markdown",
      "source": [
        "## Here is an example illustrating that C arrays are not automatically initialized.\n",
        "\n",
        "## If you do not initialize an array it will contain whatever values that memory has in it.  This could depend on what code was run before you access the unitialized array!\n",
        "\n",
        "## Note that this example also includes C code for generating random integers."
      ],
      "metadata": {
        "id": "Q2XlsfhZXq3G"
      }
    },
    {
      "cell_type": "code",
      "source": [
        "%%writefile random.c\n",
        "#include <stdio.h>\n",
        "#include <stdlib.h> // for srandom and random functions\n",
        "#include <time.h> // for time function\n",
        "\n",
        "void random3 () {\n",
        "    long long x = random();\n",
        "    long long y = random();\n",
        "    long long z = random();\n",
        "    long long sum = x + y + z;\n",
        "    printf (\"here is the sum of three random integers : %lld\\n\\n\",sum);\n",
        "}\n",
        "\n",
        "void fun_array () {\n",
        "    int d[6]; // warning: arrays in C are not automatically initialized!\n",
        "    printf (\"d = [ \");\n",
        "    for (int i=0;i<6;i++) {\n",
        "        printf (\"%d \",d[i]);\n",
        "    }\n",
        "    printf (\"]\\n\\n\");\n",
        "}\n",
        "\n",
        "int main () {\n",
        "    srandom(time(NULL)); // seed random number generator\n",
        "    fun_array();\n",
        "    random3();\n",
        "    fun_array();\n",
        "}"
      ],
      "metadata": {
        "colab": {
          "base_uri": "https://localhost:8080/"
        },
        "id": "-Q_CyYpoXdez",
        "outputId": "0ed83987-393d-4f21-acd4-1d2b08fd5f44"
      },
      "execution_count": 8,
      "outputs": [
        {
          "output_type": "stream",
          "name": "stdout",
          "text": [
            "Writing random.c\n"
          ]
        }
      ]
    },
    {
      "cell_type": "code",
      "source": [
        "!gcc -o random random.c"
      ],
      "metadata": {
        "id": "UFSrTNXVYIZG"
      },
      "execution_count": 9,
      "outputs": []
    },
    {
      "cell_type": "code",
      "source": [
        "!./random"
      ],
      "metadata": {
        "colab": {
          "base_uri": "https://localhost:8080/"
        },
        "id": "q_TOz06AYKb_",
        "outputId": "218a5686-9448-41ba-a57e-c34a0667aeb3"
      },
      "execution_count": 10,
      "outputs": [
        {
          "output_type": "stream",
          "name": "stdout",
          "text": [
            "d = [ 0 0 0 0 0 0 ]\n",
            "\n",
            "here is the sum of three random integers : 3625960855\n",
            "\n",
            "d = [ 1676751753 0 890479681 0 1058729421 0 ]\n",
            "\n"
          ]
        }
      ]
    },
    {
      "cell_type": "markdown",
      "source": [
        "## Exercise : Change the fun_array function so that d is initialized to contain all zeros."
      ],
      "metadata": {
        "id": "gUlB_3TErnRc"
      }
    },
    {
      "cell_type": "markdown",
      "source": [
        "## Allocating arrays on the stack as in the above example is only good practice for small arrays.  \n",
        "\n",
        "## Note that starting with C99 the size of an array can be determined at runtime.  "
      ],
      "metadata": {
        "id": "9TjQrYgSry8S"
      }
    },
    {
      "cell_type": "code",
      "source": [
        "%%writefile bigarray.c\n",
        "#include <stdio.h>\n",
        "#include <stdlib.h>\n",
        "\n",
        "int main (int argc, char* argv[]) {\n",
        "    if (argc < 2) {\n",
        "        printf (\"command usage: %s %s\\n\",argv[0],\"size\");\n",
        "        return 1;\n",
        "    }\n",
        "    int size = atoi(argv[1]);\n",
        "    int A[size]; // starting in C99 array size can be a variable\n",
        "    printf (\"an int uses %ld bytes of storage\\n\",sizeof(int));\n",
        "    for (int i=0;i<size;i++) {\n",
        "        A[i] = i+1;\n",
        "    }\n",
        "    printf (\"last element of A is %d\\n\",A[size-1]);\n",
        "}"
      ],
      "metadata": {
        "colab": {
          "base_uri": "https://localhost:8080/"
        },
        "id": "GglvWUbVrm0Q",
        "outputId": "06097996-59df-4e33-debe-00ff442c4ed9"
      },
      "execution_count": 11,
      "outputs": [
        {
          "output_type": "stream",
          "name": "stdout",
          "text": [
            "Writing bigarray.c\n"
          ]
        }
      ]
    },
    {
      "cell_type": "code",
      "source": [
        "!gcc -o bigarray bigarray.c"
      ],
      "metadata": {
        "id": "jhP1p-n9SGwC"
      },
      "execution_count": 12,
      "outputs": []
    },
    {
      "cell_type": "markdown",
      "source": [
        "## Note that we can redirect the output to a file."
      ],
      "metadata": {
        "id": "lHMEaZdXzMB-"
      }
    },
    {
      "cell_type": "code",
      "source": [
        "!./bigarray 1000000 > out.txt\n",
        "!cat out.txt"
      ],
      "metadata": {
        "colab": {
          "base_uri": "https://localhost:8080/"
        },
        "id": "Lf6B8g3QsRZH",
        "outputId": "8d60d47d-1089-44a4-ea94-fcf510f56b85"
      },
      "execution_count": 13,
      "outputs": [
        {
          "output_type": "stream",
          "name": "stdout",
          "text": [
            "an int uses 4 bytes of storage\n",
            "last element of A is 1000000\n"
          ]
        }
      ]
    },
    {
      "cell_type": "markdown",
      "source": [
        "## Using *sizeof* we can see that an int requires 4 bytes of storage (same as a Java int).  \n",
        "\n",
        "## Thus storing an array of 1 million ints will require 4 megabytes or 4 million bytes."
      ],
      "metadata": {
        "id": "Spp0LOsyz0FE"
      }
    },
    {
      "cell_type": "code",
      "source": [
        "!./bigarray 2500000 > out.txt\n",
        "!cat out.txt"
      ],
      "metadata": {
        "colab": {
          "base_uri": "https://localhost:8080/"
        },
        "id": "BD1XLW74vDcI",
        "outputId": "cd2ed68a-bbd2-47a1-ec14-96d09f11def1"
      },
      "execution_count": 14,
      "outputs": [
        {
          "output_type": "stream",
          "name": "stdout",
          "text": [
            "/bin/bash: line 1:   269 Segmentation fault      (core dumped) ./bigarray 2500000 > out.txt\n"
          ]
        }
      ]
    },
    {
      "cell_type": "markdown",
      "source": [
        "## **A segmentation fault in C is a runtime error that occurs when a program tries to access memory that it is not allowed to access.**\n",
        "\n",
        "## Use *ulimit -s* to check the stack size.  The result is in kilobytes (one kilobyte is a thousand bytes).  "
      ],
      "metadata": {
        "id": "NMZNAB65vU2a"
      }
    },
    {
      "cell_type": "code",
      "source": [
        "!ulimit -s"
      ],
      "metadata": {
        "colab": {
          "base_uri": "https://localhost:8080/"
        },
        "id": "SmQLJV3dsSsE",
        "outputId": "103207da-cf49-43a9-a137-ae20a420fdbd"
      },
      "execution_count": 15,
      "outputs": [
        {
          "output_type": "stream",
          "name": "stdout",
          "text": [
            "8192\n"
          ]
        }
      ]
    },
    {
      "cell_type": "markdown",
      "source": [
        "## Exercise : Given the stack size (in kilobytes) given above, explain why we could allocate and use an array of 1 million ints on the stack but not an array of 2.5 million ints on the stack.  "
      ],
      "metadata": {
        "id": "6gVFsqrvxcBv"
      }
    },
    {
      "cell_type": "markdown",
      "source": [
        "## **For large arrays we will need to use dynamic memory allocation.**  \n",
        "\n",
        "## Memory allocated dynamically is put on the heap which is generally much larger than the stack.  \n",
        "\n",
        "## We will discuss dynamic memory allocation later in the course."
      ],
      "metadata": {
        "id": "ZqUaTArUyABV"
      }
    },
    {
      "cell_type": "markdown",
      "source": [
        "# Part 2 : Arrays and Pointers\n",
        "\n",
        "## Here is an example illustrating how pointers can be used with arrays.  "
      ],
      "metadata": {
        "id": "c8ytL0tUZClK"
      }
    },
    {
      "cell_type": "code",
      "source": [
        "%%writefile arrayptrs.c\n",
        "#include <stdio.h>\n",
        "\n",
        "int main () {\n",
        "    int a[3] = { 1, 2, 3 };\n",
        "    printf (\"a = [ %d %d %d ]\\n\\n\",a[0],a[1],a[2]);\n",
        "\n",
        "    int* b = a; // b is an integer pointer that points to the beginning of a\n",
        "    *b = 4;\n",
        "    printf (\"a = [ %d %d %d ]\\n\\n\",a[0],a[1],a[2]);\n",
        "\n",
        "    b[1] = 5; // we can also use the \"array syntax\" for the pointer b!\n",
        "    printf (\"a = [ %d %d %d ]\\n\\n\",a[0],a[1],a[2]);\n",
        "\n",
        "    *(b+2) = 6; // using \"pointer arithmetic\" -> equivalent to b[2] = 6\n",
        "    printf (\"a = [ %d %d %d ]\\n\\n\",a[0],a[1],a[2]);\n",
        "\n",
        "}"
      ],
      "metadata": {
        "colab": {
          "base_uri": "https://localhost:8080/"
        },
        "id": "BS_LwccssjCw",
        "outputId": "5ef6dc20-b416-4f98-ee58-5b4466c08f95"
      },
      "execution_count": 16,
      "outputs": [
        {
          "output_type": "stream",
          "name": "stdout",
          "text": [
            "Writing arrayptrs.c\n"
          ]
        }
      ]
    },
    {
      "cell_type": "code",
      "source": [
        "!gcc -o arrayptrs arrayptrs.c"
      ],
      "metadata": {
        "id": "nF57Qvl53hKz"
      },
      "execution_count": 17,
      "outputs": []
    },
    {
      "cell_type": "code",
      "source": [
        "!./arrayptrs"
      ],
      "metadata": {
        "colab": {
          "base_uri": "https://localhost:8080/"
        },
        "id": "FXtHZVSr3m7y",
        "outputId": "4119e9fd-bd07-4f2f-a526-2ecf8e3f1ed2"
      },
      "execution_count": 18,
      "outputs": [
        {
          "output_type": "stream",
          "name": "stdout",
          "text": [
            "a = [ 1 2 3 ]\n",
            "\n",
            "a = [ 4 2 3 ]\n",
            "\n",
            "a = [ 4 5 3 ]\n",
            "\n",
            "a = [ 4 5 6 ]\n",
            "\n"
          ]
        }
      ]
    },
    {
      "cell_type": "markdown",
      "source": [
        "## Here is an example illustrating how arrays are passed to functions in C.\n",
        "\n",
        "## One big thing to remember is that **arrays are passed by pointer in C** for efficiency reasons (i.e. it would be very expensive to always have to copy large arrays when calling a function)"
      ],
      "metadata": {
        "id": "jDxG7tWBaV8q"
      }
    },
    {
      "cell_type": "code",
      "source": [
        "%%writefile arrayfun.c\n",
        "#include <stdio.h>\n",
        "\n",
        "// arrays in C are always passed by pointer\n",
        "void fun1 (int* b) {\n",
        "    b[0] = 3;\n",
        "}\n",
        "\n",
        "// the following alternate syntax is commonly used.\n",
        "// both methods of passing an array are equivalent.\n",
        "void fun2 (int c[]) {\n",
        "    c[1] = 4;\n",
        "}\n",
        "\n",
        "int main () {\n",
        "    int a[2] = { 1, 2 };\n",
        "    printf (\"a = [ %d %d ]\\n\\n\",a[0],a[1]);\n",
        "\n",
        "    fun1(a); // pass a pointer to the beginning of a\n",
        "    printf (\"a = [ %d %d ]\\n\\n\",a[0],a[1]);\n",
        "\n",
        "    fun2(a); // pass a pointer to the beginning of a\n",
        "    printf (\"a = [ %d %d ]\\n\\n\",a[0],a[1]);\n",
        "}"
      ],
      "metadata": {
        "colab": {
          "base_uri": "https://localhost:8080/"
        },
        "id": "a6in7ovwZ0K6",
        "outputId": "d3b1335b-13ba-4b85-c08c-7a0ab5e3dd34"
      },
      "execution_count": 19,
      "outputs": [
        {
          "output_type": "stream",
          "name": "stdout",
          "text": [
            "Writing arrayfun.c\n"
          ]
        }
      ]
    },
    {
      "cell_type": "code",
      "source": [
        "!gcc -o arrayfun arrayfun.c"
      ],
      "metadata": {
        "id": "9AK-lI8zaOXF"
      },
      "execution_count": 20,
      "outputs": []
    },
    {
      "cell_type": "code",
      "source": [
        "!./arrayfun"
      ],
      "metadata": {
        "colab": {
          "base_uri": "https://localhost:8080/"
        },
        "id": "OrNQu26BaRgy",
        "outputId": "63ba0b08-c4a9-4919-a56b-bc618ded79a6"
      },
      "execution_count": 21,
      "outputs": [
        {
          "output_type": "stream",
          "name": "stdout",
          "text": [
            "a = [ 1 2 ]\n",
            "\n",
            "a = [ 3 2 ]\n",
            "\n",
            "a = [ 3 4 ]\n",
            "\n"
          ]
        }
      ]
    },
    {
      "cell_type": "markdown",
      "source": [
        "## The last example illustrates that arrays and pointers are quite similar in C.\n",
        "\n",
        "## However there some big differences.  \n",
        "\n",
        "## An array declaration such as **int a[3]** also sets aside memory to store 3 integers.  \n",
        "\n",
        "## A pointer declation such as **int* b** only sets aside memory to store the pointer b.  \n",
        "\n",
        "## A pointer must be set to point to a variable (or array) before it can be dereferenced.  \n",
        "\n",
        "## Dereferencing an uninitialized pointer usually causes a **segmentation fault** since the pointer is likely pointing to memory that is illegal to access.  \n",
        "\n",
        "## In particular, dereferencing a **null pointer** always causes a segmentation fault.  "
      ],
      "metadata": {
        "id": "BKBq2PPm56mM"
      }
    },
    {
      "cell_type": "code",
      "source": [
        "%%writefile danger.c\n",
        "#include <stdio.h>\n",
        "\n",
        "int main () {\n",
        "    int* a;\n",
        "    a[0] = 3; // dereferencing an uninitialized pointer!\n",
        "    printf (\"a[0] = %d\\n\",a[0]);\n",
        "}"
      ],
      "metadata": {
        "colab": {
          "base_uri": "https://localhost:8080/"
        },
        "id": "XWgD8vjH4Cq9",
        "outputId": "db6036b0-3a50-4569-8c56-5950dc5a04ce"
      },
      "execution_count": 22,
      "outputs": [
        {
          "output_type": "stream",
          "name": "stdout",
          "text": [
            "Writing danger.c\n"
          ]
        }
      ]
    },
    {
      "cell_type": "code",
      "source": [
        "!gcc -o danger danger.c"
      ],
      "metadata": {
        "id": "b9ZAYTSZ7eYC"
      },
      "execution_count": 23,
      "outputs": []
    },
    {
      "cell_type": "code",
      "source": [
        "!./danger > out.txt"
      ],
      "metadata": {
        "colab": {
          "base_uri": "https://localhost:8080/"
        },
        "id": "nf5b4hTq7gFI",
        "outputId": "1a1475ec-d2d4-4cba-f0f0-12e7fa9d7e80"
      },
      "execution_count": 24,
      "outputs": [
        {
          "output_type": "stream",
          "name": "stdout",
          "text": [
            "/bin/bash: line 1:   296 Segmentation fault      (core dumped) ./danger > out.txt\n"
          ]
        }
      ]
    },
    {
      "cell_type": "markdown",
      "source": [
        "# Part 2 : Characters and Strings"
      ],
      "metadata": {
        "id": "CFesGTGuAoF3"
      }
    },
    {
      "cell_type": "markdown",
      "source": [
        "## The **C char type is one byte that is used to store characters and letters**.  \n",
        "\n",
        "## To see the characters and letters that certain values correspond to we use an [ASCII-TABLE](https://www.ascii-code.com/)."
      ],
      "metadata": {
        "id": "SHgS_yE3ArFz"
      }
    },
    {
      "cell_type": "code",
      "source": [
        "%%writefile char.c\n",
        "#include <stdio.h>\n",
        "\n",
        "int main () {\n",
        "    char c = 'A';\n",
        "    printf (\"c as a number is %d\\n\",c);\n",
        "    printf (\"c as a character is %c\\n\",c);\n",
        "}"
      ],
      "metadata": {
        "colab": {
          "base_uri": "https://localhost:8080/"
        },
        "id": "QO6G2wJn7hON",
        "outputId": "344422c5-2398-437e-d1ca-d17f9d927651"
      },
      "execution_count": 25,
      "outputs": [
        {
          "output_type": "stream",
          "name": "stdout",
          "text": [
            "Writing char.c\n"
          ]
        }
      ]
    },
    {
      "cell_type": "code",
      "source": [
        "!gcc -o char char.c"
      ],
      "metadata": {
        "id": "cmR3RWYqBHXk"
      },
      "execution_count": 26,
      "outputs": []
    },
    {
      "cell_type": "code",
      "source": [
        "!./char"
      ],
      "metadata": {
        "colab": {
          "base_uri": "https://localhost:8080/"
        },
        "id": "pKISu8bsBI87",
        "outputId": "0848dcd0-7068-43be-9d78-8abae8b396b1"
      },
      "execution_count": 27,
      "outputs": [
        {
          "output_type": "stream",
          "name": "stdout",
          "text": [
            "c as a number is 65\n",
            "c as a character is A\n"
          ]
        }
      ]
    },
    {
      "cell_type": "markdown",
      "source": [
        "## **In C a string is an array of char**."
      ],
      "metadata": {
        "id": "JuE1GqqSMKsB"
      }
    },
    {
      "cell_type": "code",
      "source": [
        "%%writefile hello.c\n",
        "#include <stdio.h>\n",
        "#include <string.h>\n",
        "\n",
        "int main () {\n",
        "    char str[] = \"Hello World!\";\n",
        "    int lower = 0;\n",
        "    for (int i=0;i<strlen(str);i++) {\n",
        "        if ((str[i] >= 'a') && (str[i] <= 'z')) {\n",
        "            lower += 1;\n",
        "        }\n",
        "    }\n",
        "    printf (\"The string %s contains %d lower case letters\\n\",str,lower);\n",
        "}"
      ],
      "metadata": {
        "colab": {
          "base_uri": "https://localhost:8080/"
        },
        "id": "pHd-m5TtCY-G",
        "outputId": "0cd7fd57-27cf-4842-d156-6b3015ad2b84"
      },
      "execution_count": 28,
      "outputs": [
        {
          "output_type": "stream",
          "name": "stdout",
          "text": [
            "Writing hello.c\n"
          ]
        }
      ]
    },
    {
      "cell_type": "code",
      "source": [
        "!gcc -o hello hello.c"
      ],
      "metadata": {
        "id": "yvAHOniABJl_"
      },
      "execution_count": 29,
      "outputs": []
    },
    {
      "cell_type": "code",
      "source": [
        "!./hello"
      ],
      "metadata": {
        "colab": {
          "base_uri": "https://localhost:8080/"
        },
        "id": "GjEdy24IC1wh",
        "outputId": "56bd2244-4494-474a-d8c0-d45b2aea05e9"
      },
      "execution_count": 30,
      "outputs": [
        {
          "output_type": "stream",
          "name": "stdout",
          "text": [
            "The string Hello World! contains 8 lower case letters\n"
          ]
        }
      ]
    },
    {
      "cell_type": "markdown",
      "source": [
        "## Exercise : Modify the above code to also count the number of upper case letters."
      ],
      "metadata": {
        "id": "rS5jQPd1D3p4"
      }
    },
    {
      "cell_type": "markdown",
      "source": [
        "## The next example illustrates that **strings in C are null terminated**.\n",
        "\n",
        "## This null terminator is how functions such as printf and strlen know how long a string is."
      ],
      "metadata": {
        "id": "sACgYIRcFmLL"
      }
    },
    {
      "cell_type": "code",
      "source": [
        "%%writefile terminate.c\n",
        "#include <stdio.h>\n",
        "#include <string.h>\n",
        "\n",
        "int main () {\n",
        "    char str[] = \"Go Hokies!\";\n",
        "    for (int i=0;i<strlen(str)+1;i++) {\n",
        "        printf (\"%c character has ASCII code %d\\n\",str[i],str[i]);\n",
        "    }\n",
        "}\n"
      ],
      "metadata": {
        "colab": {
          "base_uri": "https://localhost:8080/"
        },
        "id": "N2PeP2ElFh-J",
        "outputId": "cd7f1f37-f38f-4050-8bc8-5b7e62231b09"
      },
      "execution_count": 31,
      "outputs": [
        {
          "output_type": "stream",
          "name": "stdout",
          "text": [
            "Writing terminate.c\n"
          ]
        }
      ]
    },
    {
      "cell_type": "code",
      "source": [
        "!gcc -o terminate terminate.c"
      ],
      "metadata": {
        "id": "mElFiaF9GZYm"
      },
      "execution_count": 32,
      "outputs": []
    },
    {
      "cell_type": "code",
      "source": [
        "!./terminate"
      ],
      "metadata": {
        "colab": {
          "base_uri": "https://localhost:8080/"
        },
        "id": "4Ljnc0iKGh6L",
        "outputId": "c1a7728b-e4a8-4262-b622-6fc1c63506e3"
      },
      "execution_count": 33,
      "outputs": [
        {
          "output_type": "stream",
          "name": "stdout",
          "text": [
            "G character has ASCII code 71\n",
            "o character has ASCII code 111\n",
            "  character has ASCII code 32\n",
            "H character has ASCII code 72\n",
            "o character has ASCII code 111\n",
            "k character has ASCII code 107\n",
            "i character has ASCII code 105\n",
            "e character has ASCII code 101\n",
            "s character has ASCII code 115\n",
            "! character has ASCII code 33\n",
            "\u0000 character has ASCII code 0\n"
          ]
        }
      ]
    },
    {
      "cell_type": "markdown",
      "source": [
        "## You can create a string using an array of characters but be sure that it is null terminated!"
      ],
      "metadata": {
        "id": "kj5p1rNsLofH"
      }
    },
    {
      "cell_type": "code",
      "source": [
        "%%writefile forgot.c\n",
        "#include <stdio.h>\n",
        "#include <string.h>\n",
        "\n",
        "int main () {\n",
        "    char str1[] = { 'H', 'e', 'l', 'l', 'o' };\n",
        "    char str2[] = \"other stuff\";\n",
        "    printf (\"length of str1 is %ld\\n\",strlen(str1));\n",
        "    printf (\"length of str2 is %ld\\n\",strlen(str2));\n",
        "}"
      ],
      "metadata": {
        "colab": {
          "base_uri": "https://localhost:8080/"
        },
        "id": "Qa63KH_wLsfl",
        "outputId": "44a61274-ec7d-4111-8b19-aceb0214380b"
      },
      "execution_count": 34,
      "outputs": [
        {
          "output_type": "stream",
          "name": "stdout",
          "text": [
            "Writing forgot.c\n"
          ]
        }
      ]
    },
    {
      "cell_type": "code",
      "source": [
        "!gcc -o forgot forgot.c"
      ],
      "metadata": {
        "id": "j4b_LlXmLvb3"
      },
      "execution_count": 35,
      "outputs": []
    },
    {
      "cell_type": "code",
      "source": [
        "!./forgot"
      ],
      "metadata": {
        "colab": {
          "base_uri": "https://localhost:8080/"
        },
        "id": "4Z3KmxKuLyQM",
        "outputId": "ba8cfda4-4187-442f-d261-8791760d383a"
      },
      "execution_count": 36,
      "outputs": [
        {
          "output_type": "stream",
          "name": "stdout",
          "text": [
            "length of str1 is 16\n",
            "length of str2 is 11\n"
          ]
        }
      ]
    },
    {
      "cell_type": "markdown",
      "source": [
        "## Be careful when using **char* str** that you understand the memory you are pointing to!"
      ],
      "metadata": {
        "id": "tLHyP5DbMl1H"
      }
    },
    {
      "cell_type": "code",
      "source": [
        "%%writefile careful.c\n",
        "#include <stdio.h>\n",
        "\n",
        "int main () {\n",
        "    char* str = \"Hello World!\";\n",
        "    str[0] = 'h';\n",
        "    printf (\"%s\",str);\n",
        "}\n"
      ],
      "metadata": {
        "colab": {
          "base_uri": "https://localhost:8080/"
        },
        "id": "w1lPDWTbEOm_",
        "outputId": "1dbd6af1-323b-450d-9564-8aa539f20c63"
      },
      "execution_count": 37,
      "outputs": [
        {
          "output_type": "stream",
          "name": "stdout",
          "text": [
            "Writing careful.c\n"
          ]
        }
      ]
    },
    {
      "cell_type": "code",
      "source": [
        "!gcc -o careful careful.c"
      ],
      "metadata": {
        "id": "qMrh1N-nDrsN"
      },
      "execution_count": 38,
      "outputs": []
    },
    {
      "cell_type": "code",
      "source": [
        "!./careful > out.txt\n",
        "!cat out.txt"
      ],
      "metadata": {
        "colab": {
          "base_uri": "https://localhost:8080/"
        },
        "id": "OgNv13f9EkL7",
        "outputId": "5aaebb1a-ab21-46ea-e892-38271b373ed8"
      },
      "execution_count": 39,
      "outputs": [
        {
          "output_type": "stream",
          "name": "stdout",
          "text": [
            "/bin/bash: line 1:   331 Segmentation fault      (core dumped) ./careful > out.txt\n"
          ]
        }
      ]
    },
    {
      "cell_type": "markdown",
      "source": [
        "## Exercise : Fix the above code by changing **char* str** to **char str[]**.\n",
        "\n",
        "## With the first version *str* is a pointer to constant memory than can be read but not written to.  \n",
        "\n",
        "## With the second version *str* is a read/write array that has been initialized to contain the given string of characters (plus the null terminator at the end).  "
      ],
      "metadata": {
        "id": "5_4AQsAOE1kw"
      }
    },
    {
      "cell_type": "markdown",
      "source": [
        "# Part 3 : Working with a list of possible Wordle answers."
      ],
      "metadata": {
        "id": "u4fGl8xRKB6y"
      }
    },
    {
      "cell_type": "markdown",
      "source": [
        "## Let's use wget to grab a file containing possible Wordle answers."
      ],
      "metadata": {
        "id": "Yf2-I1-XJUtn"
      }
    },
    {
      "cell_type": "code",
      "source": [
        "!wget -O answers.txt https://gist.githubusercontent.com/cfreshman/a7b776506c73284511034e63af1017ee/raw/60531ab531c4db602dacaa4f6c0ebf2590b123da/wordle-nyt-answers-alphabetical.txt"
      ],
      "metadata": {
        "colab": {
          "base_uri": "https://localhost:8080/"
        },
        "id": "wqLwMUG_Eq75",
        "outputId": "0471720d-6a1b-4a2f-d76c-77f3450d2321"
      },
      "execution_count": 40,
      "outputs": [
        {
          "output_type": "stream",
          "name": "stdout",
          "text": [
            "--2024-01-31 22:44:30--  https://gist.githubusercontent.com/cfreshman/a7b776506c73284511034e63af1017ee/raw/60531ab531c4db602dacaa4f6c0ebf2590b123da/wordle-nyt-answers-alphabetical.txt\n",
            "Resolving gist.githubusercontent.com (gist.githubusercontent.com)... 185.199.108.133, 185.199.109.133, 185.199.110.133, ...\n",
            "Connecting to gist.githubusercontent.com (gist.githubusercontent.com)|185.199.108.133|:443... connected.\n",
            "HTTP request sent, awaiting response... 200 OK\n",
            "Length: 13853 (14K) [text/plain]\n",
            "Saving to: ‘answers.txt’\n",
            "\n",
            "\ranswers.txt           0%[                    ]       0  --.-KB/s               \ranswers.txt         100%[===================>]  13.53K  --.-KB/s    in 0.001s  \n",
            "\n",
            "2024-01-31 22:44:30 (20.3 MB/s) - ‘answers.txt’ saved [13853/13853]\n",
            "\n"
          ]
        }
      ]
    },
    {
      "cell_type": "markdown",
      "source": [
        "## The number of words in the file:"
      ],
      "metadata": {
        "id": "11qqPQsnJzIL"
      }
    },
    {
      "cell_type": "code",
      "source": [
        "!wc -l answers.txt"
      ],
      "metadata": {
        "colab": {
          "base_uri": "https://localhost:8080/"
        },
        "id": "4RdxsljeHTIa",
        "outputId": "a8e07a99-7a03-4ff8-b7d1-37250fa4818f"
      },
      "execution_count": 41,
      "outputs": [
        {
          "output_type": "stream",
          "name": "stdout",
          "text": [
            "2308 answers.txt\n"
          ]
        }
      ]
    },
    {
      "cell_type": "markdown",
      "source": [
        "## The first 10 answers:"
      ],
      "metadata": {
        "id": "qyUPvxJAJ1h_"
      }
    },
    {
      "cell_type": "code",
      "source": [
        "!head -10 answers.txt"
      ],
      "metadata": {
        "colab": {
          "base_uri": "https://localhost:8080/"
        },
        "id": "_pm15_VWHV6J",
        "outputId": "8123b1fc-a6ba-4e28-ca13-0712e9217151"
      },
      "execution_count": 42,
      "outputs": [
        {
          "output_type": "stream",
          "name": "stdout",
          "text": [
            "aback\n",
            "abase\n",
            "abate\n",
            "abbey\n",
            "abbot\n",
            "abhor\n",
            "abide\n",
            "abled\n",
            "abode\n",
            "abort\n"
          ]
        }
      ]
    },
    {
      "cell_type": "markdown",
      "source": [
        "## Here is a program that searches the Wordle answer list for a given word.  "
      ],
      "metadata": {
        "id": "Z1T2nvDvNeX2"
      }
    },
    {
      "cell_type": "code",
      "source": [
        "%%writefile search.c\n",
        "#include <stdio.h>\n",
        "#include <string.h>\n",
        "\n",
        "int main (int argc, char* argv[]) {\n",
        "    if (argc < 2) {\n",
        "        printf (\"command usage: %s %s\\n\",argv[0],\"word\");\n",
        "        return 1;\n",
        "    }\n",
        "    char* word = argv[1];\n",
        "    char next[6]; // Need 5 chars for Wordle word and 1 for null terminator.\n",
        "    while (scanf(\"%5s\",next) == 1) { // %5s tells scanf to read at most 5 characters\n",
        "        if (strcmp(word,next) == 0) { // strcmp returns 0 if the strings are equal\n",
        "            printf (\"%s is a possible Wordle answer.\\n\",word);\n",
        "            return 0;\n",
        "        }\n",
        "    }\n",
        "    printf (\"%s is not a possible Wordle answer.\\n\",word);\n",
        "}"
      ],
      "metadata": {
        "colab": {
          "base_uri": "https://localhost:8080/"
        },
        "id": "Fe7v7n-TJ7CE",
        "outputId": "f97e024a-38c7-48ba-b5f6-20c89bcf6371"
      },
      "execution_count": 43,
      "outputs": [
        {
          "output_type": "stream",
          "name": "stdout",
          "text": [
            "Writing search.c\n"
          ]
        }
      ]
    },
    {
      "cell_type": "code",
      "source": [
        "!gcc -o search search.c"
      ],
      "metadata": {
        "id": "-4NyOYwTOZS-"
      },
      "execution_count": 44,
      "outputs": []
    },
    {
      "cell_type": "code",
      "source": [
        "!cat answers.txt | ./search hello"
      ],
      "metadata": {
        "colab": {
          "base_uri": "https://localhost:8080/"
        },
        "id": "cF1x7EKPOxj3",
        "outputId": "4f310718-0e30-4014-ec5b-7bd5b15a178f"
      },
      "execution_count": 45,
      "outputs": [
        {
          "output_type": "stream",
          "name": "stdout",
          "text": [
            "hello is a possible Wordle answer.\n"
          ]
        }
      ]
    },
    {
      "cell_type": "code",
      "source": [
        "!cat answers.txt | ./search aargh"
      ],
      "metadata": {
        "colab": {
          "base_uri": "https://localhost:8080/"
        },
        "id": "CFPiXnApO1Wb",
        "outputId": "81a13cf3-7b9f-4758-9247-f3b7adc6061e"
      },
      "execution_count": 46,
      "outputs": [
        {
          "output_type": "stream",
          "name": "stdout",
          "text": [
            "aargh is not a possible Wordle answer.\n"
          ]
        }
      ]
    },
    {
      "cell_type": "markdown",
      "source": [
        "## Here is a program that determines the most frequent letter for a given blank number.  \n",
        "\n",
        "## The command line argument blank is a number from 0 to 4 where 0 is the first blank, 1 is the second blank, etc."
      ],
      "metadata": {
        "id": "fYSG8OzRTATY"
      }
    },
    {
      "cell_type": "code",
      "source": [
        "%%writefile frequent.c\n",
        "#include <stdio.h>\n",
        "#include <stdlib.h>\n",
        "\n",
        "int main (int argc, char* argv[]) {\n",
        "    if (argc < 2) {\n",
        "        printf (\"command usage: %s %s\\n\",argv[0],\"blank\");\n",
        "    }\n",
        "    int blank = atoi(argv[1]); // blank is a number from 0 to 4\n",
        "    int count[26] = { 0 };\n",
        "    char next[6];\n",
        "    int total_words = 0;\n",
        "    while (scanf(\"%5s\",next) == 1) {\n",
        "        count[next[blank]-'a'] += 1;\n",
        "        total_words += 1;\n",
        "    }\n",
        "    int max_count = 0;\n",
        "    char most_common;\n",
        "    for (int i=0;i<26;i++) {\n",
        "        if (count[i] > max_count) {\n",
        "            max_count = count[i];\n",
        "            most_common = 'a'+i;\n",
        "        }\n",
        "    }\n",
        "    printf (\"The most frequently occuring letter in blank %d is %c.\\n\",\n",
        "            blank,most_common);\n",
        "    printf (\"The letter %c occurs %d times in blank %d out of %d total words.\\n\",\n",
        "            most_common,max_count,blank,total_words);\n",
        "}"
      ],
      "metadata": {
        "colab": {
          "base_uri": "https://localhost:8080/"
        },
        "id": "EnItcOt9P6si",
        "outputId": "47d7082d-f3e3-49c8-a48f-0dcc9c8acb9b"
      },
      "execution_count": 47,
      "outputs": [
        {
          "output_type": "stream",
          "name": "stdout",
          "text": [
            "Writing frequent.c\n"
          ]
        }
      ]
    },
    {
      "cell_type": "code",
      "source": [
        "!gcc -o freqeunt frequent.c"
      ],
      "metadata": {
        "id": "M5RychOkVTkp"
      },
      "execution_count": 48,
      "outputs": []
    },
    {
      "cell_type": "code",
      "source": [
        "!cat answers.txt | ./freqeunt 0"
      ],
      "metadata": {
        "colab": {
          "base_uri": "https://localhost:8080/"
        },
        "id": "PSFedw5CVcRC",
        "outputId": "85014c69-40f6-4285-ce7c-b78d3ed6e468"
      },
      "execution_count": 49,
      "outputs": [
        {
          "output_type": "stream",
          "name": "stdout",
          "text": [
            "The most frequently occuring letter in blank 0 is s.\n",
            "The letter s occurs 365 times in blank 0 out of 2309 total words.\n"
          ]
        }
      ]
    },
    {
      "cell_type": "markdown",
      "source": [
        "## Exercise: Add error checking to *common.c*.  In particular, what errors should you check for?"
      ],
      "metadata": {
        "id": "NOlXJZyLUNOv"
      }
    },
    {
      "cell_type": "code",
      "source": [],
      "metadata": {
        "id": "7RjFok4MUYID"
      },
      "execution_count": 49,
      "outputs": []
    }
  ]
}