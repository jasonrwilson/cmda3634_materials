{
  "nbformat": 4,
  "nbformat_minor": 0,
  "metadata": {
    "colab": {
      "provenance": []
    },
    "kernelspec": {
      "name": "python3",
      "display_name": "Python 3"
    },
    "language_info": {
      "name": "python"
    }
  },
  "cells": [
    {
      "cell_type": "markdown",
      "source": [
        "# Lecture 5 : Arrays : Solution"
      ],
      "metadata": {
        "id": "3EW8zosAMKqn"
      }
    },
    {
      "cell_type": "markdown",
      "source": [
        "# Part 1 : Introduction to Arrays"
      ],
      "metadata": {
        "id": "B6Wn32SGONWt"
      }
    },
    {
      "cell_type": "markdown",
      "source": [
        "## Here is an example illustrating basic C array allocation, initialization, and usage."
      ],
      "metadata": {
        "id": "FFSlpk6bQ_R9"
      }
    },
    {
      "cell_type": "code",
      "source": [
        "%%writefile arrays.c\n",
        "#include <stdio.h>\n",
        "\n",
        "int main () {\n",
        "    int a[2] = { 1, 2 };\n",
        "    int b[] = { 1, 2, 3 }; // size of array inferred\n",
        "    int c[4] = { 1, 2 }; // missing elements initialized to 0\n",
        "    int d[5] = { 0 }; // initialize all elements to 0\n",
        "    printf (\"a = [ %d %d ]\\n\\n\",a[0],a[1]);\n",
        "    printf (\"b = [ %d %d %d ]\\n\\n\",b[0],b[1],b[2]);\n",
        "    printf (\"c = [ %d %d %d %d ]\\n\\n\",c[0],c[1],c[2],c[3]);\n",
        "    printf (\"d = [ %d %d %d %d %d ]\\n\\n\",d[0],d[1],d[2],d[3],d[4]);\n",
        "}"
      ],
      "metadata": {
        "colab": {
          "base_uri": "https://localhost:8080/"
        },
        "id": "6m3Nxct9REWe",
        "outputId": "f626b342-b117-4362-e36d-3acabc16687a"
      },
      "execution_count": 159,
      "outputs": [
        {
          "output_type": "stream",
          "name": "stdout",
          "text": [
            "Overwriting arrays.c\n"
          ]
        }
      ]
    },
    {
      "cell_type": "code",
      "source": [
        "!gcc -o arrays arrays.c"
      ],
      "metadata": {
        "id": "rOTQtTPbMvie"
      },
      "execution_count": 160,
      "outputs": []
    },
    {
      "cell_type": "code",
      "source": [
        "!./arrays"
      ],
      "metadata": {
        "colab": {
          "base_uri": "https://localhost:8080/"
        },
        "id": "Wh83gKBNSE6O",
        "outputId": "246301a7-5289-4623-973b-fe2ce2dfee1d"
      },
      "execution_count": 161,
      "outputs": [
        {
          "output_type": "stream",
          "name": "stdout",
          "text": [
            "a = [ 1 2 ]\n",
            "\n",
            "b = [ 1 2 3 ]\n",
            "\n",
            "c = [ 1 2 0 0 ]\n",
            "\n",
            "d = [ 0 0 0 0 0 ]\n",
            "\n"
          ]
        }
      ]
    },
    {
      "cell_type": "markdown",
      "source": [
        "## Here is an example illustrating that C arrays are not automatically initialized.\n",
        "\n",
        "## If you do not initialize an array it will contain whatever values that memory has in it.  This could depend on what code was run before you access the unitialized array!\n",
        "\n",
        "## Note that this example also includes C code for generating random integers."
      ],
      "metadata": {
        "id": "Q2XlsfhZXq3G"
      }
    },
    {
      "cell_type": "code",
      "source": [
        "%%writefile random.c\n",
        "#include <stdio.h>\n",
        "#include <stdlib.h> // for srandom and random functions\n",
        "#include <time.h> // for time function\n",
        "\n",
        "void random3 () {\n",
        "    long long x = random();\n",
        "    long long y = random();\n",
        "    long long z = random();\n",
        "    long long sum = x + y + z;\n",
        "    printf (\"here is the sum of three random integers : %lld\\n\\n\",sum);\n",
        "}\n",
        "\n",
        "void fun_array () {\n",
        "    int a[3]; // warning: arrays in C are not automatically initialized!\n",
        "    printf (\"a = [ %d %d %d ]\\n\\n\",a[0],a[1],a[2]);\n",
        "}\n",
        "\n",
        "int main () {\n",
        "    srandom(time(NULL)); // seed random number generator\n",
        "    fun_array();\n",
        "    random3();\n",
        "    fun_array();\n",
        "}"
      ],
      "metadata": {
        "colab": {
          "base_uri": "https://localhost:8080/"
        },
        "id": "-Q_CyYpoXdez",
        "outputId": "487d3467-945a-43c8-f33c-ae813ac6cf22"
      },
      "execution_count": 162,
      "outputs": [
        {
          "output_type": "stream",
          "name": "stdout",
          "text": [
            "Overwriting random.c\n"
          ]
        }
      ]
    },
    {
      "cell_type": "code",
      "source": [
        "!gcc -o random random.c"
      ],
      "metadata": {
        "id": "UFSrTNXVYIZG"
      },
      "execution_count": 163,
      "outputs": []
    },
    {
      "cell_type": "code",
      "source": [
        "!./random"
      ],
      "metadata": {
        "colab": {
          "base_uri": "https://localhost:8080/"
        },
        "id": "q_TOz06AYKb_",
        "outputId": "725d66cf-7bcf-4a7f-a2c6-8ffd0c91f5ca"
      },
      "execution_count": 164,
      "outputs": [
        {
          "output_type": "stream",
          "name": "stdout",
          "text": [
            "a = [ 0 0 0 ]\n",
            "\n",
            "here is the sum of three random integers : 2649321194\n",
            "\n",
            "a = [ 0 710694100 0 ]\n",
            "\n"
          ]
        }
      ]
    },
    {
      "cell_type": "markdown",
      "source": [
        "## Exercise : Change the fun_array function so that d is initialized to contain all zeros."
      ],
      "metadata": {
        "id": "gUlB_3TErnRc"
      }
    },
    {
      "cell_type": "markdown",
      "source": [
        "## Allocating arrays on the stack as in the above example is only good practice for small arrays.  \n",
        "\n",
        "## Note that starting with C99 the size of an array can be determined at runtime.  \n",
        "\n",
        "## However as shown below, using this new C feature can be quite risky!"
      ],
      "metadata": {
        "id": "9TjQrYgSry8S"
      }
    },
    {
      "cell_type": "code",
      "source": [
        "%%writefile bigarray.c\n",
        "#include <stdio.h>\n",
        "#include <stdlib.h>\n",
        "\n",
        "int main (int argc, char** argv) {\n",
        "    if (argc < 2) {\n",
        "        printf (\"command usage: %s %s\\n\",argv[0],\"size\");\n",
        "        return 1;\n",
        "    }\n",
        "    int size = atoi(argv[1]);\n",
        "    int A[size]; // starting in C99 array size can be a variable\n",
        "    printf (\"A uses %ld bytes of storage\\n\",sizeof(A));\n",
        "    for (int i=0;i<size;i++) {\n",
        "        A[i] = i+1;\n",
        "    }\n",
        "    printf (\"last element of A is %d\\n\",A[size-1]);\n",
        "}"
      ],
      "metadata": {
        "colab": {
          "base_uri": "https://localhost:8080/"
        },
        "id": "GglvWUbVrm0Q",
        "outputId": "48a9d290-2464-41fa-d3ea-7a14cac053e2"
      },
      "execution_count": 165,
      "outputs": [
        {
          "output_type": "stream",
          "name": "stdout",
          "text": [
            "Overwriting bigarray.c\n"
          ]
        }
      ]
    },
    {
      "cell_type": "code",
      "source": [
        "!gcc -o bigarray bigarray.c"
      ],
      "metadata": {
        "id": "jhP1p-n9SGwC"
      },
      "execution_count": 166,
      "outputs": []
    },
    {
      "cell_type": "markdown",
      "source": [
        "## Note that we can redirect the output to a file."
      ],
      "metadata": {
        "id": "lHMEaZdXzMB-"
      }
    },
    {
      "cell_type": "code",
      "source": [
        "!./bigarray 1000000 > out.txt\n",
        "!cat out.txt"
      ],
      "metadata": {
        "colab": {
          "base_uri": "https://localhost:8080/"
        },
        "id": "Lf6B8g3QsRZH",
        "outputId": "dce270da-0619-4ea4-93ed-a921bd5d1445"
      },
      "execution_count": 167,
      "outputs": [
        {
          "output_type": "stream",
          "name": "stdout",
          "text": [
            "A uses 4000000 bytes of storage\n",
            "last element of A is 1000000\n"
          ]
        }
      ]
    },
    {
      "cell_type": "markdown",
      "source": [
        " ## Thus storing an array of 1 million ints will require 4 megabytes or 4 million bytes (each int requires 4 bytes of storage)."
      ],
      "metadata": {
        "id": "Spp0LOsyz0FE"
      }
    },
    {
      "cell_type": "code",
      "source": [
        "!./bigarray 2500000 > out.txt\n",
        "!cat out.txt"
      ],
      "metadata": {
        "colab": {
          "base_uri": "https://localhost:8080/"
        },
        "id": "BD1XLW74vDcI",
        "outputId": "a98de4ed-3941-4ec3-b04f-e37a57c67860"
      },
      "execution_count": 168,
      "outputs": [
        {
          "output_type": "stream",
          "name": "stdout",
          "text": [
            "/bin/bash: line 1: 33800 Segmentation fault      (core dumped) ./bigarray 2500000 > out.txt\n"
          ]
        }
      ]
    },
    {
      "cell_type": "markdown",
      "source": [
        "## **A segmentation fault in C is a runtime error that occurs when a program tries to access memory that it is not allowed to access.**\n",
        "\n",
        "## Use *ulimit -s* to check the stack size.  The result is in kilobytes (one kilobyte is a thousand bytes).  "
      ],
      "metadata": {
        "id": "NMZNAB65vU2a"
      }
    },
    {
      "cell_type": "code",
      "source": [
        "!ulimit -s"
      ],
      "metadata": {
        "colab": {
          "base_uri": "https://localhost:8080/"
        },
        "id": "SmQLJV3dsSsE",
        "outputId": "327771bc-673b-47a1-d915-9717b4b7eba9"
      },
      "execution_count": 169,
      "outputs": [
        {
          "output_type": "stream",
          "name": "stdout",
          "text": [
            "8192\n"
          ]
        }
      ]
    },
    {
      "cell_type": "markdown",
      "source": [
        "## Exercise : Given the stack size (in kilobytes) given above, explain why we could allocate and use an array of 1 million ints on the stack but not an array of 2.5 million ints on the stack.  "
      ],
      "metadata": {
        "id": "6gVFsqrvxcBv"
      }
    },
    {
      "cell_type": "markdown",
      "source": [
        "## **For large arrays we will need to use dynamic memory allocation.**  \n",
        "\n",
        "## Memory allocated dynamically is put on the heap which is generally much larger than the stack.  \n",
        "\n",
        "## We will discuss dynamic memory allocation later in the course."
      ],
      "metadata": {
        "id": "ZqUaTArUyABV"
      }
    },
    {
      "cell_type": "markdown",
      "source": [
        "# Part 2 : Arrays and Pointers\n",
        "\n",
        "## Here is an example illustrating how pointers can be used with arrays.  "
      ],
      "metadata": {
        "id": "c8ytL0tUZClK"
      }
    },
    {
      "cell_type": "code",
      "source": [
        "%%writefile arrayptrs.c\n",
        "#include <stdio.h>\n",
        "\n",
        "int main () {\n",
        "    int a[3] = { 1, 2, 3 };\n",
        "    printf (\"a = [ %d %d %d ]\\n\\n\",a[0],a[1],a[2]);\n",
        "\n",
        "    int* b = a; // b is an integer pointer that points to the beginning of a\n",
        "    *b = 4;\n",
        "    printf (\"a = [ %d %d %d ]\\n\\n\",a[0],a[1],a[2]);\n",
        "\n",
        "    b[1] = 5; // we can also use the \"array syntax\" for the pointer b!\n",
        "    printf (\"a = [ %d %d %d ]\\n\\n\",a[0],a[1],a[2]);\n",
        "\n",
        "    int* c = b+2; // using \"pointer arithmetic\" -> int* c = &(b[2])\n",
        "    *c = 6;\n",
        "    printf (\"a = [ %d %d %d ]\\n\\n\",a[0],a[1],a[2]);\n",
        "\n",
        "}"
      ],
      "metadata": {
        "colab": {
          "base_uri": "https://localhost:8080/"
        },
        "id": "BS_LwccssjCw",
        "outputId": "00691772-2413-454b-e081-5dfa219c7669"
      },
      "execution_count": 170,
      "outputs": [
        {
          "output_type": "stream",
          "name": "stdout",
          "text": [
            "Overwriting arrayptrs.c\n"
          ]
        }
      ]
    },
    {
      "cell_type": "code",
      "source": [
        "!gcc -o arrayptrs arrayptrs.c"
      ],
      "metadata": {
        "id": "nF57Qvl53hKz"
      },
      "execution_count": 171,
      "outputs": []
    },
    {
      "cell_type": "code",
      "source": [
        "!./arrayptrs"
      ],
      "metadata": {
        "colab": {
          "base_uri": "https://localhost:8080/"
        },
        "id": "FXtHZVSr3m7y",
        "outputId": "1b271b87-86f4-4135-844c-ffb7d824b7b1"
      },
      "execution_count": 172,
      "outputs": [
        {
          "output_type": "stream",
          "name": "stdout",
          "text": [
            "a = [ 1 2 3 ]\n",
            "\n",
            "a = [ 4 2 3 ]\n",
            "\n",
            "a = [ 4 5 3 ]\n",
            "\n",
            "a = [ 4 5 6 ]\n",
            "\n"
          ]
        }
      ]
    },
    {
      "cell_type": "markdown",
      "source": [
        "## Here is an example illustrating how arrays are passed to functions in C.\n",
        "\n",
        "## One big thing to remember is that **arrays are passed by pointer in C** for efficiency reasons (i.e. it would be very expensive to always have to copy large arrays when calling a function)"
      ],
      "metadata": {
        "id": "jDxG7tWBaV8q"
      }
    },
    {
      "cell_type": "code",
      "source": [
        "%%writefile arrayfun.c\n",
        "#include <stdio.h>\n",
        "\n",
        "// arrays in C are always passed by pointer\n",
        "void swap (int* b) {\n",
        "    int temp = b[0];\n",
        "    b[0] = b[1];\n",
        "    b[1] = temp;\n",
        "}\n",
        "\n",
        "int main () {\n",
        "    int a[2] = { 1, 2 };\n",
        "    printf (\"a = [ %d %d ]\\n\\n\",a[0],a[1]);\n",
        "\n",
        "    swap(a); // pass a pointer to the beginning of a (i.e. &(a[0]))\n",
        "    printf (\"a = [ %d %d ]\\n\\n\",a[0],a[1]);\n",
        "}"
      ],
      "metadata": {
        "colab": {
          "base_uri": "https://localhost:8080/"
        },
        "id": "a6in7ovwZ0K6",
        "outputId": "dab308a8-2352-418e-af5a-f2b2a955462b"
      },
      "execution_count": 173,
      "outputs": [
        {
          "output_type": "stream",
          "name": "stdout",
          "text": [
            "Overwriting arrayfun.c\n"
          ]
        }
      ]
    },
    {
      "cell_type": "code",
      "source": [
        "!gcc -o arrayfun arrayfun.c"
      ],
      "metadata": {
        "id": "9AK-lI8zaOXF"
      },
      "execution_count": 174,
      "outputs": []
    },
    {
      "cell_type": "code",
      "source": [
        "!./arrayfun"
      ],
      "metadata": {
        "colab": {
          "base_uri": "https://localhost:8080/"
        },
        "id": "OrNQu26BaRgy",
        "outputId": "ca02c587-4a6e-4c1c-cbb7-1018b3d43b0a"
      },
      "execution_count": 175,
      "outputs": [
        {
          "output_type": "stream",
          "name": "stdout",
          "text": [
            "a = [ 1 2 ]\n",
            "\n",
            "a = [ 2 1 ]\n",
            "\n"
          ]
        }
      ]
    },
    {
      "cell_type": "markdown",
      "source": [
        "## The last examples illustrates that arrays and pointers are quite similar in C.\n",
        "\n",
        "## However there some big differences.  \n",
        "\n",
        "## An array declaration such as **int a[3]** also sets aside memory to store 3 integers.  \n",
        "\n",
        "## A pointer declation such as **int* b** only sets aside memory to store the pointer b.  \n",
        "\n",
        "## A pointer must be set to point to a variable (or array) before it can be dereferenced.  \n",
        "\n",
        "## Dereferencing an uninitialized pointer usually causes a **segmentation fault** since the pointer is likely pointing to memory that is illegal to access.  \n",
        "\n",
        "## In particular, dereferencing a **null pointer** always causes a segmentation fault.  "
      ],
      "metadata": {
        "id": "BKBq2PPm56mM"
      }
    },
    {
      "cell_type": "code",
      "source": [
        "%%writefile danger.c\n",
        "#include <stdio.h>\n",
        "\n",
        "int main () {\n",
        "    int* a;\n",
        "    a[0] = 3; // dereferencing an uninitialized pointer!\n",
        "    printf (\"a[0] = %d\\n\",a[0]);\n",
        "}"
      ],
      "metadata": {
        "colab": {
          "base_uri": "https://localhost:8080/"
        },
        "id": "XWgD8vjH4Cq9",
        "outputId": "a259d3a4-0a79-418b-d0b0-ef61743d1829"
      },
      "execution_count": 176,
      "outputs": [
        {
          "output_type": "stream",
          "name": "stdout",
          "text": [
            "Overwriting danger.c\n"
          ]
        }
      ]
    },
    {
      "cell_type": "code",
      "source": [
        "!gcc -o danger danger.c"
      ],
      "metadata": {
        "id": "b9ZAYTSZ7eYC"
      },
      "execution_count": 177,
      "outputs": []
    },
    {
      "cell_type": "code",
      "source": [
        "!./danger > out.txt"
      ],
      "metadata": {
        "colab": {
          "base_uri": "https://localhost:8080/"
        },
        "id": "nf5b4hTq7gFI",
        "outputId": "1dae642c-2a72-4ccb-e59d-6550e8edddf8"
      },
      "execution_count": 178,
      "outputs": [
        {
          "output_type": "stream",
          "name": "stdout",
          "text": [
            "/bin/bash: line 1: 33825 Segmentation fault      (core dumped) ./danger > out.txt\n"
          ]
        }
      ]
    },
    {
      "cell_type": "markdown",
      "source": [
        "# Part 3 : Sample Standard Deviation\n",
        "\n",
        "## Here is a C program that computes the average and sample standard deviation of real number points in *stdin*.  For the standard deviation we use the formula:\n",
        "\n",
        "$$\\sigma = \\sqrt{ \\frac{1}{N-1} \\sum_{i=1}^N (x_i - \\bar{x})^2}$$\n",
        "\n",
        "## where\n",
        "\n",
        "$$\\bar{x} = \\displaystyle\\frac{1}{N} \\displaystyle\\sum_{i=1}^N x_i$$\n",
        "\n",
        "## In this case we will have to store the data in an array since we need to make two passes over it.\n",
        "\n",
        "## Note that we set a maximum number of points to prevent a potential stack overflow!"
      ],
      "metadata": {
        "id": "tEvX7F9atFyI"
      }
    },
    {
      "cell_type": "code",
      "source": [
        "%%writefile stdev.c\n",
        "#include <stdio.h>\n",
        "#include <math.h>\n",
        "\n",
        "#define MAX_POINTS 100000\n",
        "\n",
        "int main () {\n",
        "    float data[MAX_POINTS];\n",
        "    float next;\n",
        "    int num_points = 0;\n",
        "    while (scanf(\"%f\",&next) == 1) {\n",
        "        if (num_points < MAX_POINTS) {\n",
        "            data[num_points++] = next; // increment num_points after reading it\n",
        "        } else {\n",
        "            printf (\"too many data points!\\n\");\n",
        "            return 1;\n",
        "        }\n",
        "    }\n",
        "    float sum = 0;\n",
        "    for (int i=0;i<num_points;i++) {\n",
        "        sum += data[i];\n",
        "    }\n",
        "    float mean = sum/num_points;\n",
        "    printf (\"mean = %.2f\\n\",mean);\n",
        "    float sum_sqs = 0;\n",
        "    for (int i=0;i<num_points;i++) {\n",
        "        sum_sqs += (data[i]-mean)*(data[i]-mean);\n",
        "    }\n",
        "    float var = sum_sqs/(num_points-1);\n",
        "    printf (\"standard deviation = %.2f\\n\",sqrt(var));\n",
        "}"
      ],
      "metadata": {
        "id": "7RjFok4MUYID",
        "colab": {
          "base_uri": "https://localhost:8080/"
        },
        "outputId": "0a93b9b0-7999-44f4-a558-f397d63fb749"
      },
      "execution_count": 179,
      "outputs": [
        {
          "output_type": "stream",
          "name": "stdout",
          "text": [
            "Overwriting stdev.c\n"
          ]
        }
      ]
    },
    {
      "cell_type": "code",
      "source": [
        "!gcc -o stdev stdev.c -lm"
      ],
      "metadata": {
        "id": "x0nppWE4tOX0"
      },
      "execution_count": 180,
      "outputs": []
    },
    {
      "cell_type": "code",
      "source": [
        "!echo 86.5 81.0 92.5 86.5 74.5 57.5 76.5 94.5 66.5 98.5 23.5 47.5 74.5 77.5 88.0 | ./stdev"
      ],
      "metadata": {
        "colab": {
          "base_uri": "https://localhost:8080/"
        },
        "id": "dFkICXBptRCv",
        "outputId": "0ed79e97-a1fe-4792-dea0-25c7aac6683b"
      },
      "execution_count": 181,
      "outputs": [
        {
          "output_type": "stream",
          "name": "stdout",
          "text": [
            "mean = 75.03\n",
            "standard deviation = 19.83\n"
          ]
        }
      ]
    },
    {
      "cell_type": "markdown",
      "source": [
        "# Part 4 : Bubble Sort\n",
        "\n",
        "## Here is a C program that bubble sorts the input data."
      ],
      "metadata": {
        "id": "4MMtzcpSXTJj"
      }
    },
    {
      "cell_type": "code",
      "source": [
        "%%writefile bubble.c\n",
        "#include <stdio.h>\n",
        "#include <stdlib.h>\n",
        "\n",
        "#define MAX_POINTS 100000\n",
        "\n",
        "// bubble sort (returns the number of rounds needed)\n",
        "int bubble (int* data, int num_points) {\n",
        "    int done = 0;\n",
        "    int round = 0;\n",
        "    while (!done) {\n",
        "        round += 1;\n",
        "        done = 1;\n",
        "        for (int i=0;i<num_points-round;i++) {\n",
        "            if (data[i] > data[i+1]) {\n",
        "                int temp = data[i];\n",
        "                data[i] = data[i+1];\n",
        "                data[i+1] = temp;\n",
        "                done = 0;\n",
        "            }\n",
        "        }\n",
        "    }\n",
        "    return round;\n",
        "}\n",
        "\n",
        "int main () {\n",
        "    int data[MAX_POINTS];\n",
        "    int next;\n",
        "    int num_points = 0;\n",
        "    while (scanf(\"%d\",&next) == 1) {\n",
        "        if (num_points < MAX_POINTS) {\n",
        "            data[num_points++] = next;\n",
        "        } else {\n",
        "            printf (\"too many data points!\\n\");\n",
        "            return 1;\n",
        "        }\n",
        "    }\n",
        "    int num_rounds = bubble(data,num_points);\n",
        "    fprintf (stderr,\"num_rounds of bubble sort: %d\\n\",num_rounds);\n",
        "    for (int i=0;i<num_points;i++) {\n",
        "        printf (\"%d\\n\",data[i]);\n",
        "    }\n",
        "}"
      ],
      "metadata": {
        "id": "bV-Ee8_YtUIW",
        "colab": {
          "base_uri": "https://localhost:8080/"
        },
        "outputId": "79c0b6db-e2fd-4d3b-e913-433436aaef37"
      },
      "execution_count": 182,
      "outputs": [
        {
          "output_type": "stream",
          "name": "stdout",
          "text": [
            "Overwriting bubble.c\n"
          ]
        }
      ]
    },
    {
      "cell_type": "code",
      "source": [
        "!gcc -o bubble bubble.c"
      ],
      "metadata": {
        "id": "eWXOGrTjU9lv"
      },
      "execution_count": 183,
      "outputs": []
    },
    {
      "cell_type": "code",
      "source": [
        "!echo 1 2 3 4 | ./bubble"
      ],
      "metadata": {
        "colab": {
          "base_uri": "https://localhost:8080/"
        },
        "id": "OK5JWHfke3ch",
        "outputId": "9a873c55-d14a-4a56-86ce-f40ca80f9423"
      },
      "execution_count": 184,
      "outputs": [
        {
          "output_type": "stream",
          "name": "stdout",
          "text": [
            "num_rounds of bubble sort: 1\n",
            "1\n",
            "2\n",
            "3\n",
            "4\n"
          ]
        }
      ]
    },
    {
      "cell_type": "code",
      "source": [
        "!echo 4 3 2 1 | ./bubble"
      ],
      "metadata": {
        "colab": {
          "base_uri": "https://localhost:8080/"
        },
        "id": "gTj8B5Ufe5zM",
        "outputId": "5d4ec6b1-df79-4701-a651-1404a3063888"
      },
      "execution_count": 185,
      "outputs": [
        {
          "output_type": "stream",
          "name": "stdout",
          "text": [
            "num_rounds of bubble sort: 4\n",
            "1\n",
            "2\n",
            "3\n",
            "4\n"
          ]
        }
      ]
    },
    {
      "cell_type": "code",
      "source": [
        "!echo -45 65 -121 32 -456 34 -213423 3434 4533 -343 | ./bubble"
      ],
      "metadata": {
        "colab": {
          "base_uri": "https://localhost:8080/"
        },
        "id": "b8uKKU-KU-9k",
        "outputId": "fa546150-e383-4209-ab96-182dd05891b1"
      },
      "execution_count": 186,
      "outputs": [
        {
          "output_type": "stream",
          "name": "stdout",
          "text": [
            "num_rounds of bubble sort: 8\n",
            "-213423\n",
            "-456\n",
            "-343\n",
            "-121\n",
            "-45\n",
            "32\n",
            "34\n",
            "65\n",
            "3434\n",
            "4533\n"
          ]
        }
      ]
    },
    {
      "cell_type": "code",
      "source": [
        "# clone cmda3634_materials repo to download a dataset\n",
        "!git clone https://code.vt.edu/jasonwil/cmda3634_materials.git"
      ],
      "metadata": {
        "colab": {
          "base_uri": "https://localhost:8080/"
        },
        "id": "NdAas-KCZrA6",
        "outputId": "fc5443dc-f901-488f-bf61-6bed987f1075"
      },
      "execution_count": 187,
      "outputs": [
        {
          "output_type": "stream",
          "name": "stdout",
          "text": [
            "fatal: destination path 'cmda3634_materials' already exists and is not an empty directory.\n"
          ]
        }
      ]
    },
    {
      "cell_type": "code",
      "source": [
        "# copy the 100000 point dataset to our working directory\n",
        "!cp cmda3634_materials/L05/* ."
      ],
      "metadata": {
        "id": "OC6NUmVvZuvL"
      },
      "execution_count": 188,
      "outputs": []
    },
    {
      "cell_type": "markdown",
      "source": [
        "## Compile with optimization flags turned on"
      ],
      "metadata": {
        "id": "iTYXMwJcaMQF"
      }
    },
    {
      "cell_type": "code",
      "source": [
        "!gcc -O3 -march=native -o bubble bubble.c"
      ],
      "metadata": {
        "id": "RdhcFD5KaCOF"
      },
      "execution_count": 189,
      "outputs": []
    },
    {
      "cell_type": "code",
      "source": [
        "!time cat num100k.txt | ./bubble > bubble100k.txt"
      ],
      "metadata": {
        "colab": {
          "base_uri": "https://localhost:8080/"
        },
        "id": "_g5tJ58QZ5r-",
        "outputId": "776ffb1c-8aa8-4584-a9b8-4ac52f06a3dd"
      },
      "execution_count": 190,
      "outputs": [
        {
          "output_type": "stream",
          "name": "stdout",
          "text": [
            "num_rounds of bubble sort: 99850\n",
            "\n",
            "real\t0m32.481s\n",
            "user\t0m32.173s\n",
            "sys\t0m0.016s\n"
          ]
        }
      ]
    },
    {
      "cell_type": "code",
      "source": [
        "!head -5 bubble100k.txt"
      ],
      "metadata": {
        "colab": {
          "base_uri": "https://localhost:8080/"
        },
        "id": "VZqKHzK3aU10",
        "outputId": "03295e9f-1c6e-4365-f4fe-b2972333a9b2"
      },
      "execution_count": 191,
      "outputs": [
        {
          "output_type": "stream",
          "name": "stdout",
          "text": [
            "-999983249\n",
            "-999965924\n",
            "-999942764\n",
            "-999934988\n",
            "-999910691\n"
          ]
        }
      ]
    },
    {
      "cell_type": "markdown",
      "source": [
        "## Let's run bubble sort on the file that is already sorted."
      ],
      "metadata": {
        "id": "k3pckFLUfDeT"
      }
    },
    {
      "cell_type": "code",
      "source": [
        "!time cat bubble100k.txt | ./bubble > sorted100k.txt"
      ],
      "metadata": {
        "colab": {
          "base_uri": "https://localhost:8080/"
        },
        "id": "yBn872GudT20",
        "outputId": "b6caec99-e632-4a1f-c4a5-292ec371cc21"
      },
      "execution_count": 192,
      "outputs": [
        {
          "output_type": "stream",
          "name": "stdout",
          "text": [
            "num_rounds of bubble sort: 1\n",
            "\n",
            "real\t0m0.039s\n",
            "user\t0m0.034s\n",
            "sys\t0m0.006s\n"
          ]
        }
      ]
    },
    {
      "cell_type": "code",
      "source": [
        "!diff bubble100k.txt sorted100k.txt"
      ],
      "metadata": {
        "id": "u80zfEFydbZY"
      },
      "execution_count": 193,
      "outputs": []
    },
    {
      "cell_type": "markdown",
      "source": [
        "## Note that for bubble sort the difference between the best case (file is already sorted) and the worst case (need all or almost all rounds) is huge!\n",
        "\n",
        "## As fast as C is it cannot overcome a bad algorithm.\n",
        "\n",
        "## In part 5 of this lecture we will learn about insertion sort which is faster than bubble sort.  \n",
        "\n",
        "## Both bubble sort and insertion are $O(n^2)$ algorithms and hence are slow.  \n",
        "\n",
        "## We will learn about a much faster way to sort numbers later in the course!"
      ],
      "metadata": {
        "id": "nA-nkL7aeSnr"
      }
    },
    {
      "cell_type": "markdown",
      "source": [
        "## Exercise 1 : Write a program called *median* that finds median of a dataset containing real numbers.  You can assume that the dataset has a maximum of 100000 points.  \n",
        "\n",
        "### Hint: You can start by bubble sorting the data."
      ],
      "metadata": {
        "id": "7A-MR0rbZDT2"
      }
    },
    {
      "cell_type": "markdown",
      "source": [
        "# Part 5 : Insertion Sort\n",
        "\n",
        "## Here is a C program that uses **insertion sort** to sort the input data."
      ],
      "metadata": {
        "id": "gWPmqfJpJU_j"
      }
    },
    {
      "cell_type": "code",
      "source": [
        "%%writefile insert.c\n",
        "#include <stdio.h>\n",
        "#include <stdlib.h>\n",
        "#include <stdbool.h>\n",
        "\n",
        "#define MAX_POINTS 100000\n",
        "\n",
        "/* data: is an array of i numbers in sorted order */\n",
        "/* next: number to insert into the array */\n",
        "/* the new array will have i+1 numbers in sorted order */\n",
        "void insert (int* data, int next, int i) {\n",
        "\n",
        "    int place = i;\n",
        "    bool done = false;\n",
        "    while (place > 0 && !done) {\n",
        "\t    if (data[place-1] > next) {\n",
        "\t        data[place] = data[place-1];\n",
        "\t        place -= 1;\n",
        "\t    } else {\n",
        "\t        done = true;\n",
        "\t    }\n",
        "    }\n",
        "    data[place] = next;\n",
        "}\n",
        "\n",
        "int main () {\n",
        "\n",
        "    /* read data */\n",
        "    int data[MAX_POINTS];\n",
        "    int next;\n",
        "    int n = 0; // number of data points\n",
        "    while (scanf(\"%d\",&next) == 1) {\n",
        "        if (n < MAX_POINTS) {\n",
        "            data[n++] = next;\n",
        "        } else {\n",
        "            printf (\"too many data points!\\n\");\n",
        "            return 1;\n",
        "        }\n",
        "    }\n",
        "\n",
        "    /* insertion sort */\n",
        "    for (int i=0;i<n;i++) {\n",
        "\t    insert (data,data[i],i);\n",
        "    }\n",
        "\n",
        "    /* print the result one number per line */\n",
        "    for (int i=0;i<n;i++) {\n",
        "\t    printf (\"%d\\n\",data[i]);\n",
        "    }\n",
        "\n",
        "}"
      ],
      "metadata": {
        "id": "rnOJ7YedVe75",
        "colab": {
          "base_uri": "https://localhost:8080/"
        },
        "outputId": "7bf6a453-b4f0-4a0e-ee24-c55beea24226"
      },
      "execution_count": 194,
      "outputs": [
        {
          "output_type": "stream",
          "name": "stdout",
          "text": [
            "Overwriting insert.c\n"
          ]
        }
      ]
    },
    {
      "cell_type": "markdown",
      "source": [
        "## Compile with optimization flags turned on"
      ],
      "metadata": {
        "id": "SbOXH3HhJyBx"
      }
    },
    {
      "cell_type": "code",
      "source": [
        "!gcc -O3 -march=native -o insert insert.c"
      ],
      "metadata": {
        "id": "rwQ94K50JtkT"
      },
      "execution_count": 195,
      "outputs": []
    },
    {
      "cell_type": "code",
      "source": [
        "!time cat num100k.txt | ./insert > insert100k.txt"
      ],
      "metadata": {
        "colab": {
          "base_uri": "https://localhost:8080/"
        },
        "id": "XRjQ5R8WJ4Fz",
        "outputId": "9e119bd6-6fd4-4918-cb88-6600c9b11ab9"
      },
      "execution_count": 196,
      "outputs": [
        {
          "output_type": "stream",
          "name": "stdout",
          "text": [
            "\n",
            "real\t0m9.156s\n",
            "user\t0m9.091s\n",
            "sys\t0m0.005s\n"
          ]
        }
      ]
    },
    {
      "cell_type": "code",
      "source": [
        "!diff insert100k.txt sorted100k.txt"
      ],
      "metadata": {
        "id": "uoeROv2GKCbC"
      },
      "execution_count": 197,
      "outputs": []
    },
    {
      "cell_type": "markdown",
      "source": [
        "## Indeed, insertion sort is faster than bubble sort!\n"
      ],
      "metadata": {
        "id": "VGqSENk0KNNU"
      }
    },
    {
      "cell_type": "markdown",
      "source": [
        "# Part 6 : Exercise : Smallest k\n",
        "## One of insertion sorts primary advantages is that it can be modified\n",
        "## to find the k smallest elements in a dataset.\n",
        "## Complete the program below to find and print the k smallest integers in a dataset and print them in **sorted order** one number per line.\n",
        "## Your solution is only allowed to use an array of size k!  \n",
        "## **In particular you cannot store the entire dataset as it could be arbitrary large!**"
      ],
      "metadata": {
        "id": "M_lLwVaFQVKK"
      }
    },
    {
      "cell_type": "code",
      "source": [
        "%%writefile smallestk.c\n",
        "#include <stdio.h>\n",
        "#include <stdlib.h>\n",
        "#include <stdbool.h>\n",
        "\n",
        "#define MAX_K 10000\n",
        "\n",
        "/* data: is an array of i numbers in sorted order */\n",
        "/* next: number to insert into the array */\n",
        "/* the new array will have i+1 numbers in sorted order */\n",
        "void insert (int* data, int next, int i) {\n",
        "\n",
        "    int place = i;\n",
        "    bool done = false;\n",
        "    while (place > 0 && !done) {\n",
        "\t    if (data[place-1] > next) {\n",
        "\t        data[place] = data[place-1];\n",
        "\t        place -= 1;\n",
        "\t    } else {\n",
        "\t        done = true;\n",
        "\t    }\n",
        "    }\n",
        "    data[place] = next;\n",
        "}\n",
        "\n",
        "int main (int argc, char** argv) {\n",
        "\n",
        "    if (argc < 2) {\n",
        "        printf (\"command usage: %s k\\n\",argv[0]);\n",
        "        return 1;\n",
        "    }\n",
        "    int k = atoi(argv[1]);\n",
        "    if (k > MAX_K) {\n",
        "        printf (\"error : k is greater than MAX_K\\n\");\n",
        "        return 1;\n",
        "    }\n",
        "    int data[MAX_K];\n",
        "    int next;\n",
        "\n",
        "    /* add your code here to find the k smallest numbers */\n",
        "    /* and print the numbers in sorted order one per line */\n",
        "\n",
        "}\n"
      ],
      "metadata": {
        "colab": {
          "base_uri": "https://localhost:8080/"
        },
        "id": "eWiNrcXgKJCy",
        "outputId": "1f837309-7cff-42d9-e242-83fabfd6fa4b"
      },
      "execution_count": 198,
      "outputs": [
        {
          "output_type": "stream",
          "name": "stdout",
          "text": [
            "Overwriting smallestk.c\n"
          ]
        }
      ]
    },
    {
      "cell_type": "code",
      "source": [
        "!gcc -O3 -march=native -o smallestk smallestk.c"
      ],
      "metadata": {
        "id": "_B_ctODxLnt3"
      },
      "execution_count": 199,
      "outputs": []
    },
    {
      "cell_type": "code",
      "source": [
        "!time cat num100k.txt | ./smallestk 10"
      ],
      "metadata": {
        "colab": {
          "base_uri": "https://localhost:8080/"
        },
        "id": "mi9nnAKdLpzI",
        "outputId": "16c5452a-1080-4bc0-d376-ad113c519fcd"
      },
      "execution_count": 200,
      "outputs": [
        {
          "output_type": "stream",
          "name": "stdout",
          "text": [
            "\n",
            "real\t0m0.003s\n",
            "user\t0m0.001s\n",
            "sys\t0m0.002s\n"
          ]
        }
      ]
    },
    {
      "cell_type": "code",
      "source": [],
      "metadata": {
        "id": "NQgO1BZLMTL1"
      },
      "execution_count": 200,
      "outputs": []
    },
    {
      "cell_type": "markdown",
      "source": [
        "## Here is a sample correct output for the command above.\n",
        "    -999983249\n",
        "    -999965924\n",
        "    -999942764\n",
        "    -999934988\n",
        "    -999910691\n",
        "    -999900392\n",
        "    -999877720\n",
        "    -999873584\n",
        "    -999867023\n",
        "    -999844991\n",
        "\n",
        "    real\t0m0.028s\n",
        "    user\t0m0.023s\n",
        "    sys\t0m0.006s"
      ],
      "metadata": {
        "id": "Ai5EDBvORy5O"
      }
    },
    {
      "cell_type": "code",
      "source": [],
      "metadata": {
        "id": "7rpYSCFcR-Py"
      },
      "execution_count": 200,
      "outputs": []
    }
  ]
}