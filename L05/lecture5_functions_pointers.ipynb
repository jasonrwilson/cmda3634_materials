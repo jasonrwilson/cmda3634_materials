{
  "nbformat": 4,
  "nbformat_minor": 0,
  "metadata": {
    "colab": {
      "provenance": []
    },
    "kernelspec": {
      "name": "python3",
      "display_name": "Python 3"
    },
    "language_info": {
      "name": "python"
    }
  },
  "cells": [
    {
      "cell_type": "markdown",
      "source": [
        "# Lecture 5 : Functions and Pointers"
      ],
      "metadata": {
        "id": "eVPVINDlkxjr"
      }
    },
    {
      "cell_type": "markdown",
      "source": [
        "# Part 1 : Primality Testing"
      ],
      "metadata": {
        "id": "f7dr7gNDnjRj"
      }
    },
    {
      "cell_type": "markdown",
      "source": [
        "## Recall our primality tester from lecture 4."
      ],
      "metadata": {
        "id": "tNu5yku3fK0J"
      }
    },
    {
      "cell_type": "code",
      "source": [
        "%%writefile prime_v3.c\n",
        "#include <stdio.h>\n",
        "#include <stdlib.h>\n",
        "\n",
        "int main (int argc, char** argv) {\n",
        "    if (argc < 2) {\n",
        "        printf (\"command usage: %s %s\\n\",argv[0],\"n\");\n",
        "        return 1; // abnormal exit\n",
        "    }\n",
        "    long long n = atoll(argv[1]);\n",
        "    if (n % 2 == 0) {\n",
        "        printf (\"The number %lld is not prime since 2 divides it\\n\",n);\n",
        "        return 0;\n",
        "    }\n",
        "    for (long long d = 3; d*d <= n; d+=2) {\n",
        "        if (n % d == 0) {\n",
        "            printf (\"The number %lld is not prime since %lld divides it.\\n\",n,d);\n",
        "            return 0;\n",
        "        }\n",
        "    }\n",
        "    printf (\"The number %lld is prime.\\n\",n);\n",
        "}"
      ],
      "metadata": {
        "colab": {
          "base_uri": "https://localhost:8080/"
        },
        "id": "4wRLMjKffERI",
        "outputId": "00354805-f41f-4604-acab-5d9583c06f74"
      },
      "execution_count": null,
      "outputs": [
        {
          "output_type": "stream",
          "name": "stdout",
          "text": [
            "Overwriting prime_v3.c\n"
          ]
        }
      ]
    },
    {
      "cell_type": "markdown",
      "source": [
        "## As our programs become more complicated we will want to make use of C functions to make our code more readable and easier to maintain.\n",
        "\n",
        "## Here is a version of our primality tester where we test to see if the number is prime using a function.\n",
        "\n",
        "## Note that the syntax for C functions is similar to Java functions.\n",
        "\n",
        "## Although Java has a built-in boolean type, the original version of C does not.  \n",
        "\n",
        "## However boolean types were added to C in the C99 standard.  \n",
        "\n",
        "## We include *stdbool.h* to access this new boolean type in C."
      ],
      "metadata": {
        "id": "HhKWFJniyLSP"
      }
    },
    {
      "cell_type": "code",
      "source": [
        "%%writefile fun_prime_v1.c\n",
        "#include <stdio.h>\n",
        "#include <stdlib.h>\n",
        "#include <stdbool.h>\n",
        "\n",
        "bool is_prime(long long n) {\n",
        "    if (n % 2 == 0) {\n",
        "        return false;\n",
        "    }\n",
        "    for (long long d = 3; d*d <= n; d+=2) {\n",
        "        if (n % d == 0) {\n",
        "            return false;\n",
        "        }\n",
        "    }\n",
        "    return true;\n",
        "}\n",
        "\n",
        "int main (int argc, char** argv) {\n",
        "    if (argc < 2) {\n",
        "        printf (\"command usage: %s %s\\n\",argv[0],\"n\");\n",
        "        return 1; // abnormal exit\n",
        "    }\n",
        "    long long n = atoll(argv[1]);\n",
        "    if (is_prime(n)) {\n",
        "        printf (\"The number %lld is prime.\\n\",n);\n",
        "    } else {\n",
        "        printf (\"The number %lld is not prime.\\n\",n);\n",
        "    }\n",
        "}"
      ],
      "metadata": {
        "colab": {
          "base_uri": "https://localhost:8080/"
        },
        "id": "pew6PodmywES",
        "outputId": "3a346826-fe7d-43db-ae7e-cf1206466069"
      },
      "execution_count": null,
      "outputs": [
        {
          "output_type": "stream",
          "name": "stdout",
          "text": [
            "Overwriting fun_prime_v1.c\n"
          ]
        }
      ]
    },
    {
      "cell_type": "code",
      "source": [
        "!gcc -o fun_prime_v1 fun_prime_v1.c"
      ],
      "metadata": {
        "id": "3Z09GPldzAID"
      },
      "execution_count": null,
      "outputs": []
    },
    {
      "cell_type": "code",
      "source": [
        "!./fun_prime_v1 5261656080911617"
      ],
      "metadata": {
        "colab": {
          "base_uri": "https://localhost:8080/"
        },
        "id": "KUhdvYSwzE1J",
        "outputId": "a8516784-646c-48f0-d3a2-531ae96ab92f"
      },
      "execution_count": null,
      "outputs": [
        {
          "output_type": "stream",
          "name": "stdout",
          "text": [
            "The number 5261656080911617 is prime.\n"
          ]
        }
      ]
    },
    {
      "cell_type": "code",
      "source": [
        "!./fun_prime_v1 3439315899953761"
      ],
      "metadata": {
        "colab": {
          "base_uri": "https://localhost:8080/"
        },
        "id": "qNIZM3CNlC8J",
        "outputId": "cad8ee82-3ce0-4fb7-fc91-e0ec82a98a3d"
      },
      "execution_count": null,
      "outputs": [
        {
          "output_type": "stream",
          "name": "stdout",
          "text": [
            "The number 3439315899953761 is not prime.\n"
          ]
        }
      ]
    },
    {
      "cell_type": "markdown",
      "source": [
        "## Note that line 24 is equivalent to\n",
        "    if (is_prime(n) == true)"
      ],
      "metadata": {
        "id": "GE8wx10K1fY5"
      }
    },
    {
      "cell_type": "markdown",
      "source": [
        "## Also note we no longer print a divisor of n when n is not prime.\n",
        "\n",
        "## In order to add this functionality back in, we need our function *is_prime* to return a second value.\n",
        "\n",
        "## There are multiple ways to write functions in C that return more than one value.\n",
        "\n",
        "## One common way is to allow the function to modify one or more of its arguments using **C pointers**."
      ],
      "metadata": {
        "id": "C1VE3X9WBSGS"
      }
    },
    {
      "cell_type": "markdown",
      "source": [
        "# Part 2 : Introduction to Pointers in C"
      ],
      "metadata": {
        "id": "Z0ZVvEbdSjo9"
      }
    },
    {
      "cell_type": "markdown",
      "source": [
        "## C pointers are memory addresses and can be used to assign values to variables **indirectly**.\n",
        "\n",
        "## Pointers are not available in Java.  This is one of the major differences between C and Java."
      ],
      "metadata": {
        "id": "-N8WKmKjSoP4"
      }
    },
    {
      "cell_type": "markdown",
      "source": [
        "## All variables declared in your C program are stored somewhere in the systems **memory** (this is true for any programming language but we rarely think about how our variables are stored when using high level languages such as Python and R).\n",
        "\n",
        "## We group memory into 8 bit chunks called **bytes**.\n",
        "\n",
        "## The number of bytes that variables of each C type occupy in memory is system dependent.  \n",
        "\n",
        "## We can use the C function **sizeof** to learn how many bytes variables occupy in memory.  "
      ],
      "metadata": {
        "id": "i8GmeXK0cybW"
      }
    },
    {
      "cell_type": "code",
      "source": [
        "%%writefile sizeof.c\n",
        "#include <stdio.h>\n",
        "\n",
        "int main () {\n",
        "    int a;\n",
        "    long long b;\n",
        "    float c;\n",
        "    double d;\n",
        "    printf (\"the variable a of type int occupies %lu bytes in memory\\n\",sizeof(a));\n",
        "    printf (\"the variable b of type long long occupies %lu bytes in memory\\n\",sizeof(b));\n",
        "    printf (\"the variable c of type float occupies %lu bytes in memory\\n\",sizeof(c));\n",
        "    printf (\"the variable d of type double occupies %lu bytes in memory\\n\",sizeof(d));\n",
        "\n",
        "}"
      ],
      "metadata": {
        "colab": {
          "base_uri": "https://localhost:8080/"
        },
        "id": "0CsXa_Kbcv4J",
        "outputId": "51ec667f-ed47-4ff8-9c81-5581348dcc42"
      },
      "execution_count": 115,
      "outputs": [
        {
          "output_type": "stream",
          "name": "stdout",
          "text": [
            "Overwriting sizeof.c\n"
          ]
        }
      ]
    },
    {
      "cell_type": "code",
      "source": [
        "!gcc -o sizeof sizeof.c"
      ],
      "metadata": {
        "id": "RCSEWGonfYjb"
      },
      "execution_count": 116,
      "outputs": []
    },
    {
      "cell_type": "code",
      "source": [
        "!./sizeof"
      ],
      "metadata": {
        "colab": {
          "base_uri": "https://localhost:8080/"
        },
        "id": "EF4MAU6nfcV2",
        "outputId": "f3cafabe-0750-41b3-8bff-bfa28f5b13df"
      },
      "execution_count": 117,
      "outputs": [
        {
          "output_type": "stream",
          "name": "stdout",
          "text": [
            "the variable a of type int occupies 4 bytes in memory\n",
            "the variable b of type long long occupies 8 bytes in memory\n",
            "the variable c of type float occupies 4 bytes in memory\n",
            "the variable d of type double occupies 8 bytes in memory\n"
          ]
        }
      ]
    },
    {
      "cell_type": "markdown",
      "source": [
        "## How many **bits** does each variable occupy in memory?"
      ],
      "metadata": {
        "id": "ceA0pHXSflKw"
      }
    },
    {
      "cell_type": "markdown",
      "source": [
        "## In C we can go a significant step further and figure out **where** our variables are stored in memory!\n",
        "\n",
        "## To do this we use the C *address of* operator **&**.\n",
        "\n",
        "## If we think of memory as an array of bytes, then the address of a variable is just the index in that array where the first byte of the variable is stored.\n",
        "\n",
        "## Note that addresses in C are normally printed in hexadecimal using the %p format specifier.  \n",
        "\n",
        "## In the code below we instead print the addresses in decimal for clarity."
      ],
      "metadata": {
        "id": "aYzHfAfMgmA3"
      }
    },
    {
      "cell_type": "code",
      "source": [
        "%%writefile address.c\n",
        "#include <stdio.h>\n",
        "\n",
        "int main () {\n",
        "    int a = 0;\n",
        "    int b = 16;\n",
        "    int c = 257;\n",
        "    printf (\"the first byte of a is stored at memory address %lu\\n\",(unsigned long)&a);\n",
        "    printf (\"the first byte of b is stored at memory address %lu\\n\",(unsigned long)&b);\n",
        "    printf (\"the first byte of c is stored at memory address %lu\\n\",(unsigned long)&c);\n",
        "}"
      ],
      "metadata": {
        "colab": {
          "base_uri": "https://localhost:8080/"
        },
        "id": "DEws1CWVTRpI",
        "outputId": "f0ac3ae4-43f0-4a5f-ed03-b7adac1eff5d"
      },
      "execution_count": 125,
      "outputs": [
        {
          "output_type": "stream",
          "name": "stdout",
          "text": [
            "Overwriting address.c\n"
          ]
        }
      ]
    },
    {
      "cell_type": "code",
      "source": [
        "!gcc -o address address.c"
      ],
      "metadata": {
        "id": "tTRmfKKaTkaK"
      },
      "execution_count": 123,
      "outputs": []
    },
    {
      "cell_type": "code",
      "source": [
        "!./address"
      ],
      "metadata": {
        "colab": {
          "base_uri": "https://localhost:8080/"
        },
        "id": "SG3NvEcLTohl",
        "outputId": "cf7e5f81-db1f-425c-efe0-06fc68a4de13"
      },
      "execution_count": 124,
      "outputs": [
        {
          "output_type": "stream",
          "name": "stdout",
          "text": [
            "the first byte of a is stored at memory address 140731662434508\n",
            "the first byte of b is stored at memory address 140731662434512\n",
            "the first byte of c is stored at memory address 140731662434516\n"
          ]
        }
      ]
    },
    {
      "cell_type": "markdown",
      "source": [
        "## Note that the addresses are very large!  \n",
        "\n",
        "## Most modern computers use 48 bits of address space which is enough to specify around 281 trillion unique memory locations."
      ],
      "metadata": {
        "id": "Pf26YIsLlozd"
      }
    },
    {
      "cell_type": "markdown",
      "source": [
        "## Next let's snoop into memory to see **exactly** how our variables are stored as sequences of bytes.  "
      ],
      "metadata": {
        "id": "GkC3jcb3i8Up"
      }
    },
    {
      "cell_type": "code",
      "source": [
        "%%writefile snoop.c\n",
        "#include <stdio.h>\n",
        "\n",
        "int main () {\n",
        "    int a = 0;\n",
        "    int b = 16;\n",
        "    int c = 257;\n",
        "    printf (\"the first byte of a is stored at memory address %lu\\n\",(unsigned long)&a);\n",
        "    printf (\"the first byte of b is stored at memory address %lu\\n\",(unsigned long)&b);\n",
        "    printf (\"the first byte of c is stored at memory address %lu\\n\",(unsigned long)&c);\n",
        "    printf (\"here are the 12 bytes of memory starting at the address of a:\\n\");\n",
        "    for (int i=0;i<12;i++) {\n",
        "        printf (\"%u \",((unsigned char*)&a)[i]);\n",
        "    }\n",
        "    printf (\"\\n\");\n",
        "}"
      ],
      "metadata": {
        "colab": {
          "base_uri": "https://localhost:8080/"
        },
        "id": "ASa-shU8hVQA",
        "outputId": "d83fabcc-7e38-46a1-849e-f339d276f096"
      },
      "execution_count": 133,
      "outputs": [
        {
          "output_type": "stream",
          "name": "stdout",
          "text": [
            "Overwriting snoop.c\n"
          ]
        }
      ]
    },
    {
      "cell_type": "code",
      "source": [
        "!gcc -o snoop snoop.c"
      ],
      "metadata": {
        "id": "hgsjyuLgjRfv"
      },
      "execution_count": 134,
      "outputs": []
    },
    {
      "cell_type": "code",
      "source": [
        "!./snoop"
      ],
      "metadata": {
        "colab": {
          "base_uri": "https://localhost:8080/"
        },
        "id": "b0nVdUADjUoD",
        "outputId": "5a21c8a7-6eb8-445f-8157-d20e8033bda6"
      },
      "execution_count": 135,
      "outputs": [
        {
          "output_type": "stream",
          "name": "stdout",
          "text": [
            "the first byte of a is stored at memory address 140726712305080\n",
            "the first byte of b is stored at memory address 140726712305084\n",
            "the first byte of c is stored at memory address 140726712305088\n",
            "here are the 12 bytes of memory starting at the address of a:\n",
            "0 0 0 0 16 0 0 0 1 1 0 0 \n"
          ]
        }
      ]
    },
    {
      "cell_type": "markdown",
      "source": [
        "## The variable *a* is initialized to 0.  Each byte of the 4 bytes required for *a* are equal to 0.\n",
        "\n",
        "## The variable *b* is initialized to 16.  \n",
        "\n",
        "## Since the value 16 is small enough to fit into a single byte, the remaining 3 bytes of $b$ are 0.\n",
        "\n",
        "## Note that *b* is stored least significant byte first.  \n",
        "\n",
        "## This byte ordering is called **little endian** (most modern computers use little endian ordering).\n",
        "\n",
        "## The variable *c* is initialized to 257.\n",
        "\n",
        "## The first and second bytes of *c* are both 1 since 257 = 1 + 256."
      ],
      "metadata": {
        "id": "TOfYPWYqjp-E"
      }
    },
    {
      "cell_type": "markdown",
      "source": [
        "## Now that we understand the basics of how variables are stored in memory, we are ready to learn about C **pointers**."
      ],
      "metadata": {
        "id": "JLT8_CVQn7jJ"
      }
    },
    {
      "cell_type": "markdown",
      "source": [
        "## What value do you think the program below will output?"
      ],
      "metadata": {
        "id": "RyiGspF-TMjJ"
      }
    },
    {
      "cell_type": "code",
      "source": [
        "%%writefile mystery.c\n",
        "#include <stdio.h>\n",
        "\n",
        "int main () {\n",
        "    int a = 3;\n",
        "    int* p = &a;\n",
        "    *p = 4;\n",
        "    printf (\"a = %d\\n\",a);\n",
        "}"
      ],
      "metadata": {
        "colab": {
          "base_uri": "https://localhost:8080/"
        },
        "id": "J3F263PGwqW1",
        "outputId": "f8a07afb-6be7-4236-e8f1-afa9edebf8a4"
      },
      "execution_count": 130,
      "outputs": [
        {
          "output_type": "stream",
          "name": "stdout",
          "text": [
            "Writing mystery.c\n"
          ]
        }
      ]
    },
    {
      "cell_type": "code",
      "source": [
        "!gcc -o mystery mystery.c"
      ],
      "metadata": {
        "id": "K-K_EmGhnY-e"
      },
      "execution_count": 131,
      "outputs": []
    },
    {
      "cell_type": "code",
      "source": [
        "!./mystery"
      ],
      "metadata": {
        "colab": {
          "base_uri": "https://localhost:8080/"
        },
        "id": "lZqbXXFynbOw",
        "outputId": "5ff34459-42bc-4458-84bf-f70736b0d1ae"
      },
      "execution_count": 132,
      "outputs": [
        {
          "output_type": "stream",
          "name": "stdout",
          "text": [
            "a = 4\n"
          ]
        }
      ]
    },
    {
      "cell_type": "markdown",
      "source": [
        "## Here are some notes to explain this output!\n",
        "\n",
        "* ### First note in line 6 that the type of the variable *p* is *int**.  In other words, $p$ is a **pointer** to an integer.  \n",
        "\n",
        "* ### A C **pointer** is a variable that stores the **memory address** of another variable.\n",
        "\n",
        "* ### Recall that & is the C operator that takes the **address** of a variable.  In particular, in line 6 the &a is the address (or location) where the variable *a* is stored in memory.\n",
        "\n",
        "* ### Putting these two ideas together, in line 6 we **declare** the variable *p* to be a pointer to an integer and we **initialize** the variable *p* to the memory address of the variable *a*.  \n",
        "\n",
        "* ### In other words, line 6 initializes the integer pointer *p* to **point** to the integer variable *a*.\n",
        "\n",
        "* ### In line 7, the * is the C operator that **dereferences** a pointer.  In other words, **p* is an alias for the variable that the pointer *p* points to which is the variable *a*.  Thus, line 7 assigns the value 4 to the variable *a*.  "
      ],
      "metadata": {
        "id": "p9Al-n1ZUfSo"
      }
    },
    {
      "cell_type": "markdown",
      "source": [
        "## More succinctly, we changed the value of $a$ to $4$ indirectly using the pointer $p$!"
      ],
      "metadata": {
        "id": "67FCm063UQgI"
      }
    },
    {
      "cell_type": "markdown",
      "source": [
        "## At this point you may be wondering why someone would want to use C pointers.  After all line 7 could be replaced with $a=4$.  This change would not effect the output of the program and the code would certainly be easier to read and understand.  \n",
        "\n",
        "## The benefits (and dangers) of using C pointers will become more clear as we progress.  \n",
        "\n",
        "## To understand our first application of C pointers we need to learn about **C function call semantics**.\n"
      ],
      "metadata": {
        "id": "QGhHg6CfoCrD"
      }
    },
    {
      "cell_type": "markdown",
      "source": [
        "# Part 3 : C Function call Semantics"
      ],
      "metadata": {
        "id": "ttIGJBlwpE1M"
      }
    },
    {
      "cell_type": "markdown",
      "source": [
        "## Consider the following C code that attempts to add 2 integers.\n",
        "\n",
        "## What value do you think the program will output?"
      ],
      "metadata": {
        "id": "SpOjTY-hpQnG"
      }
    },
    {
      "cell_type": "code",
      "source": [
        "%%writefile sum2_v1.c\n",
        "#include <stdio.h>\n",
        "\n",
        "void add(int a, int b, int c) {\n",
        "    c = a + b;\n",
        "}\n",
        "\n",
        "int main () {\n",
        "    int sum = 0;\n",
        "    add(3,7,sum);\n",
        "    printf (\"sum = %d\\n\",sum);\n",
        "}"
      ],
      "metadata": {
        "colab": {
          "base_uri": "https://localhost:8080/"
        },
        "id": "HDDPL_8AUFvy",
        "outputId": "8a421510-138b-4ff5-e750-30839c306ffa"
      },
      "execution_count": null,
      "outputs": [
        {
          "output_type": "stream",
          "name": "stdout",
          "text": [
            "Overwriting sum2_v1.c\n"
          ]
        }
      ]
    },
    {
      "cell_type": "code",
      "source": [
        "!gcc -o sum2_v1 sum2_v1.c"
      ],
      "metadata": {
        "id": "k0P1BRg7rO4m"
      },
      "execution_count": null,
      "outputs": []
    },
    {
      "cell_type": "code",
      "source": [
        "!./sum2_v1"
      ],
      "metadata": {
        "colab": {
          "base_uri": "https://localhost:8080/"
        },
        "id": "g6OI1o20rTyt",
        "outputId": "ed2a6dca-e186-426d-bffb-a06f78b100f2"
      },
      "execution_count": null,
      "outputs": [
        {
          "output_type": "stream",
          "name": "stdout",
          "text": [
            "sum = 0\n"
          ]
        }
      ]
    },
    {
      "cell_type": "markdown",
      "source": [
        "## The code outputs 0 which is the initial value of sum assigned in line 9 instead of the sum of 3 and 7 which is 10.   \n",
        "\n",
        "## The call to the function *add* did not change the variable *sum*.\n",
        "\n",
        "## **Like Java, C passes arguments of basic types such as *int* and *float* to functions by value (also called pass by copy).**\n",
        "\n",
        "## When the function *add* is called, the values 3, 7, and the value of sum are copied to the *local* variables a, b, and c (we call a, b, c *local* variables because they can only be accessed by the *sum* function).    \n",
        "\n",
        "## Since *c* is a copy of *sum*, the value of the variable *sum* is not changed by the function *add*.\n",
        "\n",
        "## In C we can work around the pass by value semantics by passing a **pointer to the sum variable** instead of the value of the sum variable.  Using a pointer to sum, the *add* function will be able to change the value of sum indirectly (just like we changed *a* indirectly using the *p* pointer in the previous example).    \n",
        "\n",
        "## Here is the new version that gives the expected output:"
      ],
      "metadata": {
        "id": "z8uWpOAcyb4c"
      }
    },
    {
      "cell_type": "code",
      "source": [
        "%%writefile sum2_v2.c\n",
        "#include <stdio.h>\n",
        "\n",
        "void add(int a, int b, int* c) {\n",
        "    *c = a + b;\n",
        "}\n",
        "\n",
        "int main () {\n",
        "    int sum = 0;\n",
        "    add(3,7,&sum);\n",
        "    printf (\"sum = %d\\n\",sum);\n",
        "}"
      ],
      "metadata": {
        "colab": {
          "base_uri": "https://localhost:8080/"
        },
        "id": "IT7k0w6Yrfun",
        "outputId": "7e0aabc0-4f16-4ab1-d7df-d8f8d091b539"
      },
      "execution_count": null,
      "outputs": [
        {
          "output_type": "stream",
          "name": "stdout",
          "text": [
            "Overwriting sum2_v2.c\n"
          ]
        }
      ]
    },
    {
      "cell_type": "code",
      "source": [
        "!gcc -o sum2_v2 sum2_v2.c"
      ],
      "metadata": {
        "id": "0RlWB3gZrOKw"
      },
      "execution_count": null,
      "outputs": []
    },
    {
      "cell_type": "code",
      "source": [
        "!./sum2_v2"
      ],
      "metadata": {
        "colab": {
          "base_uri": "https://localhost:8080/"
        },
        "id": "bwswdfA1rQDc",
        "outputId": "6e84aaa4-c065-444d-cf4e-0e227d981fde"
      },
      "execution_count": null,
      "outputs": [
        {
          "output_type": "stream",
          "name": "stdout",
          "text": [
            "sum = 10\n"
          ]
        }
      ]
    },
    {
      "cell_type": "markdown",
      "source": [
        "## Notes:\n",
        "\n",
        "* ### In line 4 we declare the third argument c to be an integer pointer.\n",
        "\n",
        "* ### In line 5 we dereference the pointer c using the syntax **c* so that the variable that the pointer c points to (which is the variable sum in this example) is assigned the value of *a+b*.\n",
        "\n",
        "* ### In line 10 we pass a pointer to the sum as our third argument using the *&sum* syntax (recall that & is the address operator in C)."
      ],
      "metadata": {
        "id": "F0Djk1E13jHy"
      }
    },
    {
      "cell_type": "markdown",
      "source": [
        "# Part 4 : Primality Testing Revisited"
      ],
      "metadata": {
        "id": "5uZ8fKbD6q3P"
      }
    },
    {
      "cell_type": "markdown",
      "source": [
        "## Here is a version of the primality tester with a function that prints a divisor of n if n is not prime."
      ],
      "metadata": {
        "id": "sxYHgViH5AAh"
      }
    },
    {
      "cell_type": "code",
      "source": [
        "%%writefile fun_prime_v2.c\n",
        "#include <stdio.h>\n",
        "#include <stdlib.h>\n",
        "#include <stdbool.h>\n",
        "\n",
        "bool is_prime(long long n, long long* divisor) {\n",
        "    if (n % 2 == 0) {\n",
        "        *divisor = 2;\n",
        "        return false;\n",
        "    }\n",
        "    for (long long d = 3; d*d <= n; d+=2) {\n",
        "        if (n % d == 0) {\n",
        "            *divisor = d;\n",
        "            return false;\n",
        "        }\n",
        "    }\n",
        "    return true;\n",
        "}\n",
        "\n",
        "int main (int argc, char** argv) {\n",
        "    if (argc < 2) {\n",
        "        printf (\"command usage: %s %s\\n\",argv[0],\"n\");\n",
        "        return 1; // abnormal exit\n",
        "    }\n",
        "    long long n = atoll(argv[1]);\n",
        "    long long divisor;\n",
        "    if (is_prime(n,&divisor)) {\n",
        "        printf (\"The number %lld is prime.\\n\",n);\n",
        "    } else {\n",
        "        printf (\"The number %lld is not prime since %lld divides it.\\n\",n,divisor);\n",
        "    }\n",
        "}"
      ],
      "metadata": {
        "colab": {
          "base_uri": "https://localhost:8080/"
        },
        "id": "AINN_ODc2kgH",
        "outputId": "6fe35346-6dcc-4c78-ee82-3b00590bd3fd"
      },
      "execution_count": null,
      "outputs": [
        {
          "output_type": "stream",
          "name": "stdout",
          "text": [
            "Overwriting fun_prime_v2.c\n"
          ]
        }
      ]
    },
    {
      "cell_type": "code",
      "source": [
        "!gcc -o fun_prime_v2 fun_prime_v2.c"
      ],
      "metadata": {
        "id": "SZ4vuuM6tjHw"
      },
      "execution_count": null,
      "outputs": []
    },
    {
      "cell_type": "code",
      "source": [
        "!./fun_prime_v2 5261656080911617"
      ],
      "metadata": {
        "colab": {
          "base_uri": "https://localhost:8080/"
        },
        "id": "VoXhfLhttozW",
        "outputId": "725afbca-8306-4c01-956e-b09bb8da5c01"
      },
      "execution_count": null,
      "outputs": [
        {
          "output_type": "stream",
          "name": "stdout",
          "text": [
            "The number 5261656080911617 is prime.\n"
          ]
        }
      ]
    },
    {
      "cell_type": "code",
      "source": [
        "!./fun_prime_v2 3439315899953761"
      ],
      "metadata": {
        "colab": {
          "base_uri": "https://localhost:8080/"
        },
        "id": "ZKzRNiIDttq0",
        "outputId": "7723a405-fb74-4606-a1a1-5d1772ae6ca0"
      },
      "execution_count": null,
      "outputs": [
        {
          "output_type": "stream",
          "name": "stdout",
          "text": [
            "The number 3439315899953761 is not prime since 58645681 divides it.\n"
          ]
        }
      ]
    },
    {
      "cell_type": "markdown",
      "source": [
        "# Part 5 : Reading Input from *stdin* Using *scanf*"
      ],
      "metadata": {
        "id": "0QDhJUfRaI-_"
      }
    },
    {
      "cell_type": "markdown",
      "source": [
        "## In lecture 4 we learned how to use command line arguments to get input from the user at runtime.  \n",
        "\n",
        "## Command line arguments only make sense for a small amount of input.  \n",
        "\n",
        "## For larger inputs (such as a file containing data) we can read the input from *stdin* using *scanf* (formatted scan).  \n",
        "\n",
        "## Arguments to *scanf* are passed by pointer so that the variables they point to can be modified (indirectly) to contain the next inputs from *stdin*.  \n",
        "\n",
        "## The return value of *scanf* gives the number of fields that were successfully converted and assigned to variables.\n",
        "\n",
        "## One key use of the return value of *scanf* is to check for *end of file*.\n",
        "\n",
        "### If scanf reaches the end of the *stdin* input stream (i.e. end of file), *scanf* will return EOF (a negative number constant defined inside stdio.h) and the loop exits.\n",
        "\n",
        "## Here is a C program that sums the numbers read from *stdin*.  "
      ],
      "metadata": {
        "id": "U7pzCzl2aZEb"
      }
    },
    {
      "cell_type": "code",
      "source": [
        "%%writefile sum.c\n",
        "#include <stdio.h>\n",
        "\n",
        "int main () {\n",
        "    int sum = 0;\n",
        "    int next;\n",
        "    while (scanf(\"%d\",&next) == 1) {\n",
        "        sum = sum + next;\n",
        "    }\n",
        "    printf (\"sum = %d\\n\",sum);\n",
        "}"
      ],
      "metadata": {
        "colab": {
          "base_uri": "https://localhost:8080/"
        },
        "id": "s9kQmBr-6ZHm",
        "outputId": "2b971de8-e616-46f5-8835-892a14a604f1"
      },
      "execution_count": null,
      "outputs": [
        {
          "output_type": "stream",
          "name": "stdout",
          "text": [
            "Overwriting sum.c\n"
          ]
        }
      ]
    },
    {
      "cell_type": "code",
      "source": [
        "!gcc -o sum sum.c"
      ],
      "metadata": {
        "id": "ctAufPPCdHK3"
      },
      "execution_count": null,
      "outputs": []
    },
    {
      "cell_type": "code",
      "source": [
        "!echo 10 20 30 | ./sum"
      ],
      "metadata": {
        "colab": {
          "base_uri": "https://localhost:8080/"
        },
        "id": "g2yTMFn1dI2V",
        "outputId": "3ae697ce-21d3-45cb-b870-e02f368ea723"
      },
      "execution_count": null,
      "outputs": [
        {
          "output_type": "stream",
          "name": "stdout",
          "text": [
            "sum = 60\n"
          ]
        }
      ]
    },
    {
      "cell_type": "code",
      "source": [
        "!echo 5 10 15 20 > num.dat"
      ],
      "metadata": {
        "id": "OGk3cUd9dMJr"
      },
      "execution_count": null,
      "outputs": []
    },
    {
      "cell_type": "code",
      "source": [
        "!cat num.dat | ./sum"
      ],
      "metadata": {
        "colab": {
          "base_uri": "https://localhost:8080/"
        },
        "id": "dwO4x8vQd5UE",
        "outputId": "6c803aa8-51ed-4765-aa62-7f122fab333a"
      },
      "execution_count": null,
      "outputs": [
        {
          "output_type": "stream",
          "name": "stdout",
          "text": [
            "sum = 50\n"
          ]
        }
      ]
    },
    {
      "cell_type": "markdown",
      "source": [
        "## Here is a function that finds the smallest number in the input stream *stdin*."
      ],
      "metadata": {
        "id": "PdWiSex7iXsF"
      }
    },
    {
      "cell_type": "code",
      "source": [
        "%%writefile smallest.c\n",
        "#include <stdio.h>\n",
        "#include <limits.h>\n",
        "\n",
        "int main () {\n",
        "    int smallest = INT_MAX;\n",
        "    int next;\n",
        "    while (scanf(\"%d\",&next) == 1) {\n",
        "        if (next < smallest) {\n",
        "            smallest = next;\n",
        "        }\n",
        "    }\n",
        "    printf (\"The smallest number is %d\\n\",smallest);\n",
        "}"
      ],
      "metadata": {
        "id": "gkQ9fNIMfjK2",
        "colab": {
          "base_uri": "https://localhost:8080/"
        },
        "outputId": "79748a01-7f06-4683-f662-9813f7ed3e24"
      },
      "execution_count": null,
      "outputs": [
        {
          "output_type": "stream",
          "name": "stdout",
          "text": [
            "Overwriting smallest.c\n"
          ]
        }
      ]
    },
    {
      "cell_type": "code",
      "source": [
        "!gcc -o smallest smallest.c"
      ],
      "metadata": {
        "id": "bpc4sPlDV5Dg"
      },
      "execution_count": null,
      "outputs": []
    },
    {
      "cell_type": "code",
      "source": [
        "!echo -25 50 -75 100 -200 -3433 4500 | ./smallest"
      ],
      "metadata": {
        "colab": {
          "base_uri": "https://localhost:8080/"
        },
        "id": "P_RTYTgxV8Ub",
        "outputId": "83acf506-f1c9-4916-e143-5ac787ce9dc2"
      },
      "execution_count": null,
      "outputs": [
        {
          "output_type": "stream",
          "name": "stdout",
          "text": [
            "The smallest number is -3433\n"
          ]
        }
      ]
    },
    {
      "cell_type": "markdown",
      "source": [
        "## Exercise 1 : Write a program called *smallest3* that finds the three smallest integers in *stdin*.\n",
        "\n",
        "## Hint: Copy smallest.c to smallest3.c and modify it."
      ],
      "metadata": {
        "id": "DgwL6392WV_P"
      }
    },
    {
      "cell_type": "markdown",
      "source": [
        "## Here is a program that finds the integer in *stdin* closest to a given number."
      ],
      "metadata": {
        "id": "pjdVD2JJWkgx"
      }
    },
    {
      "cell_type": "code",
      "source": [
        "%%writefile closest.c\n",
        "#include <stdio.h>\n",
        "#include <stdlib.h>\n",
        "#include <limits.h>\n",
        "\n",
        "int main (int argc, char* argv[]) {\n",
        "    if (argc < 2) {\n",
        "        printf (\"command usage: %s %s\\n\",argv[0],\"center\");\n",
        "    }\n",
        "    int center = atoi(argv[1]);\n",
        "    int closest;\n",
        "    int smallest_distance = INT_MAX;\n",
        "    int next;\n",
        "    while (scanf(\"%d\",&next) == 1) {\n",
        "        int distance = abs(next-center);\n",
        "        if (distance < smallest_distance) {\n",
        "            closest = next;\n",
        "            smallest_distance = distance;\n",
        "        }\n",
        "    }\n",
        "    printf (\"The number closest to %d is %d\\n\",center,closest);\n",
        "}"
      ],
      "metadata": {
        "colab": {
          "base_uri": "https://localhost:8080/"
        },
        "id": "z1nQIFCbWBYz",
        "outputId": "3f6179ba-fc1b-4d9e-b083-653a8f011dc3"
      },
      "execution_count": null,
      "outputs": [
        {
          "output_type": "stream",
          "name": "stdout",
          "text": [
            "Overwriting closest.c\n"
          ]
        }
      ]
    },
    {
      "cell_type": "code",
      "source": [
        "!gcc -o closest closest.c -lm"
      ],
      "metadata": {
        "id": "J_iAwX2sWMDK"
      },
      "execution_count": null,
      "outputs": []
    },
    {
      "cell_type": "code",
      "source": [
        "!echo 15 -7 25 -2 30 -5 29 37 -25 | ./closest 5"
      ],
      "metadata": {
        "colab": {
          "base_uri": "https://localhost:8080/"
        },
        "id": "DGDNzM1vZmXr",
        "outputId": "3836deae-a7f3-4f2f-d2f5-a457a25ff2ef"
      },
      "execution_count": null,
      "outputs": [
        {
          "output_type": "stream",
          "name": "stdout",
          "text": [
            "The number closest to 5 is -2\n"
          ]
        }
      ]
    },
    {
      "cell_type": "markdown",
      "source": [
        "## Exercise 2 : Write a program called *closest3* that finds the three integers in *stdin* closest to a given command line argument *center*.\n",
        "\n",
        "## Hint: Copy closest.c to closest3.c and modify it."
      ],
      "metadata": {
        "id": "4yK2kuOSag01"
      }
    },
    {
      "cell_type": "code",
      "source": [],
      "metadata": {
        "id": "jaGjmWz0Z1IC"
      },
      "execution_count": null,
      "outputs": []
    }
  ]
}