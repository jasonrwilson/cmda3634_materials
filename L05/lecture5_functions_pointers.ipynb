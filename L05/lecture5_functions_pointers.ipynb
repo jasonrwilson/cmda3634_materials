{
  "nbformat": 4,
  "nbformat_minor": 0,
  "metadata": {
    "colab": {
      "provenance": []
    },
    "kernelspec": {
      "name": "python3",
      "display_name": "Python 3"
    },
    "language_info": {
      "name": "python"
    }
  },
  "cells": [
    {
      "cell_type": "markdown",
      "source": [
        "# Lecture 5 : Functions and Pointers"
      ],
      "metadata": {
        "id": "eVPVINDlkxjr"
      }
    },
    {
      "cell_type": "markdown",
      "source": [
        "# Part 1 : Primality Testing"
      ],
      "metadata": {
        "id": "f7dr7gNDnjRj"
      }
    },
    {
      "cell_type": "markdown",
      "source": [
        "## Recall our primality tester from lecture 4."
      ],
      "metadata": {
        "id": "tNu5yku3fK0J"
      }
    },
    {
      "cell_type": "code",
      "source": [
        "%%writefile prime_v3.c\n",
        "#include <stdio.h>\n",
        "#include <stdlib.h>\n",
        "\n",
        "int main (int argc, char** argv) {\n",
        "    if (argc < 2) {\n",
        "        printf (\"command usage: %s %s\\n\",argv[0],\"n\");\n",
        "        return 1; // abnormal exit\n",
        "    }\n",
        "    long long n = atoll(argv[1]);\n",
        "    if (n % 2 == 0) {\n",
        "        printf (\"The number %lld is not prime since 2 divides it\\n\",n);\n",
        "        return 0;\n",
        "    }\n",
        "    for (long long d = 3; d*d <= n; d+=2) {\n",
        "        if (n % d == 0) {\n",
        "            printf (\"The number %lld is not prime since %lld divides it.\\n\",n,d);\n",
        "            return 0;\n",
        "        }\n",
        "    }\n",
        "    printf (\"The number %lld is prime.\\n\",n);\n",
        "}"
      ],
      "metadata": {
        "colab": {
          "base_uri": "https://localhost:8080/"
        },
        "id": "4wRLMjKffERI",
        "outputId": "00354805-f41f-4604-acab-5d9583c06f74"
      },
      "execution_count": 1,
      "outputs": [
        {
          "output_type": "stream",
          "name": "stdout",
          "text": [
            "Overwriting prime_v3.c\n"
          ]
        }
      ]
    },
    {
      "cell_type": "markdown",
      "source": [
        "## As our programs become more complicated we will want to make use of C functions to make our code more readable and easier to maintain.\n",
        "\n",
        "## Here is a version of our primality tester where we test to see if the number is prime using a function.\n",
        "\n",
        "## Note that the syntax for C functions is similar to Java functions.\n",
        "\n",
        "## Although Java has a built-in boolean type, the original version of C does not.  \n",
        "\n",
        "## However boolean types were added to C in the C99 standard.  \n",
        "\n",
        "## We include *stdbool.h* to access this new boolean type in C."
      ],
      "metadata": {
        "id": "HhKWFJniyLSP"
      }
    },
    {
      "cell_type": "code",
      "source": [
        "%%writefile fun_prime_v1.c\n",
        "#include <stdio.h>\n",
        "#include <stdlib.h>\n",
        "#include <stdbool.h>\n",
        "\n",
        "bool is_prime(long long n) {\n",
        "    if (n % 2 == 0) {\n",
        "        return false;\n",
        "    }\n",
        "    for (long long d = 3; d*d <= n; d+=2) {\n",
        "        if (n % d == 0) {\n",
        "            return false;\n",
        "        }\n",
        "    }\n",
        "    return true;\n",
        "}\n",
        "\n",
        "int main (int argc, char** argv) {\n",
        "    if (argc < 2) {\n",
        "        printf (\"command usage: %s %s\\n\",argv[0],\"n\");\n",
        "        return 1; // abnormal exit\n",
        "    }\n",
        "    long long n = atoll(argv[1]);\n",
        "    if (is_prime(n)) {\n",
        "        printf (\"The number %lld is prime.\\n\",n);\n",
        "    } else {\n",
        "        printf (\"The number %lld is not prime.\\n\",n);\n",
        "    }\n",
        "}"
      ],
      "metadata": {
        "colab": {
          "base_uri": "https://localhost:8080/"
        },
        "id": "pew6PodmywES",
        "outputId": "3a346826-fe7d-43db-ae7e-cf1206466069"
      },
      "execution_count": 2,
      "outputs": [
        {
          "output_type": "stream",
          "name": "stdout",
          "text": [
            "Overwriting fun_prime_v1.c\n"
          ]
        }
      ]
    },
    {
      "cell_type": "code",
      "source": [
        "!gcc -o fun_prime_v1 fun_prime_v1.c"
      ],
      "metadata": {
        "id": "3Z09GPldzAID"
      },
      "execution_count": 3,
      "outputs": []
    },
    {
      "cell_type": "code",
      "source": [
        "!./fun_prime_v1 5261656080911617"
      ],
      "metadata": {
        "colab": {
          "base_uri": "https://localhost:8080/"
        },
        "id": "KUhdvYSwzE1J",
        "outputId": "a8516784-646c-48f0-d3a2-531ae96ab92f"
      },
      "execution_count": 4,
      "outputs": [
        {
          "output_type": "stream",
          "name": "stdout",
          "text": [
            "The number 5261656080911617 is prime.\n"
          ]
        }
      ]
    },
    {
      "cell_type": "code",
      "source": [
        "!./fun_prime_v1 3439315899953761"
      ],
      "metadata": {
        "colab": {
          "base_uri": "https://localhost:8080/"
        },
        "id": "qNIZM3CNlC8J",
        "outputId": "cad8ee82-3ce0-4fb7-fc91-e0ec82a98a3d"
      },
      "execution_count": 5,
      "outputs": [
        {
          "output_type": "stream",
          "name": "stdout",
          "text": [
            "The number 3439315899953761 is not prime.\n"
          ]
        }
      ]
    },
    {
      "cell_type": "markdown",
      "source": [
        "## Note that line 24 is equivalent to\n",
        "    if (is_prime(n) == true)"
      ],
      "metadata": {
        "id": "GE8wx10K1fY5"
      }
    },
    {
      "cell_type": "markdown",
      "source": [
        "## Also note we no longer print a divisor of n when n is not prime.\n",
        "\n",
        "## In order to add this functionality back in, we need our function *is_prime* to return a second value.\n",
        "\n",
        "## There are multiple ways to write functions in C that return more than one value.\n",
        "\n",
        "## One common way is to allow the function to modify one or more of its arguments using **C pointers**."
      ],
      "metadata": {
        "id": "C1VE3X9WBSGS"
      }
    },
    {
      "cell_type": "markdown",
      "source": [
        "# Part 2 : Introduction to Pointers in C"
      ],
      "metadata": {
        "id": "Z0ZVvEbdSjo9"
      }
    },
    {
      "cell_type": "markdown",
      "source": [
        "## C pointers are memory addresses and can be used to assign values to variables **indirectly**.\n",
        "\n",
        "## Pointers are not available in Java.  This is one of the major differences between C and Java.\n",
        "\n",
        "## What value do you think the program below will output?"
      ],
      "metadata": {
        "id": "-N8WKmKjSoP4"
      }
    },
    {
      "cell_type": "code",
      "source": [
        "%%writefile pointer.c\n",
        "#include <stdio.h>\n",
        "\n",
        "int main () {\n",
        "    int a = 3;\n",
        "    int* p = &a;\n",
        "    *p = 4;\n",
        "    printf (\"a = %d\\n\",a);\n",
        "}"
      ],
      "metadata": {
        "colab": {
          "base_uri": "https://localhost:8080/"
        },
        "id": "J3F263PGwqW1",
        "outputId": "aac6c629-f5d0-4a04-ddaf-73f8f38fad01"
      },
      "execution_count": 6,
      "outputs": [
        {
          "output_type": "stream",
          "name": "stdout",
          "text": [
            "Overwriting pointer.c\n"
          ]
        }
      ]
    },
    {
      "cell_type": "code",
      "source": [
        "!gcc -o pointer pointer.c"
      ],
      "metadata": {
        "id": "K-K_EmGhnY-e"
      },
      "execution_count": 7,
      "outputs": []
    },
    {
      "cell_type": "code",
      "source": [
        "!./pointer"
      ],
      "metadata": {
        "colab": {
          "base_uri": "https://localhost:8080/"
        },
        "id": "lZqbXXFynbOw",
        "outputId": "674fc302-76ef-4eb6-d14c-a3d4956688d1"
      },
      "execution_count": 8,
      "outputs": [
        {
          "output_type": "stream",
          "name": "stdout",
          "text": [
            "a = 4\n"
          ]
        }
      ]
    },
    {
      "cell_type": "markdown",
      "source": [
        "## Here are some notes to explain this output!\n",
        "\n",
        "* ### There are two new concepts in line 6.  First note that the type of the variable *p* is *int**.  In other words, $p$ is a **pointer** to an integer.  \n",
        "\n",
        "* ### The second new idea in line 6 is that & is a C operator that takes the **address** of a variable.  In particular, &a is the address (or location) where the variable *a* is stored in memory.\n",
        "\n",
        "* ### Putting these two ideas together, in line 6 we **declare** the variable *p* to be a pointer to an integer and we **initialize** the variable *p* to the memory address of *a*.  \n",
        "\n",
        "* ### In other words, line 6 initializes the integer pointer *p* to **point** to the integer variable *a*.\n",
        "\n",
        "* ### In line 7, the * is the C operator that **dereferences** a pointer.  In other words, **p* is an alias for the variable that the pointer *p* points to which is the variable *a*.  Thus, line 7 assigns the value 4 to the variable *a*.  "
      ],
      "metadata": {
        "id": "p9Al-n1ZUfSo"
      }
    },
    {
      "cell_type": "markdown",
      "source": [
        "## More succinctly, we changed the value of $a$ to $4$ indirectly using the pointer $p$!"
      ],
      "metadata": {
        "id": "67FCm063UQgI"
      }
    },
    {
      "cell_type": "markdown",
      "source": [
        "## At this point you may be wondering why someone would want to use C pointers.  After all line 7 could be replaced with $a=4$.  This change would not effect the output of the program and the code would certainly be easier to read and understand.  \n",
        "\n",
        "## The benefits (and dangers) of using C pointers will become more clear as we progress.  \n",
        "\n",
        "## To understand our first application of C pointers we need to learn about **C function call semantics**.\n"
      ],
      "metadata": {
        "id": "QGhHg6CfoCrD"
      }
    },
    {
      "cell_type": "markdown",
      "source": [
        "# Part 3 : C Function call Semantics"
      ],
      "metadata": {
        "id": "ttIGJBlwpE1M"
      }
    },
    {
      "cell_type": "markdown",
      "source": [
        "## Consider the following C code that attempts to add 2 integers.\n",
        "\n",
        "## What value do you think the program will output?"
      ],
      "metadata": {
        "id": "SpOjTY-hpQnG"
      }
    },
    {
      "cell_type": "code",
      "source": [
        "%%writefile sum2_v1.c\n",
        "#include <stdio.h>\n",
        "\n",
        "void add(int a, int b, int c) {\n",
        "    c = a + b;\n",
        "}\n",
        "\n",
        "int main () {\n",
        "    int sum = 0;\n",
        "    add(3,7,sum);\n",
        "    printf (\"sum = %d\\n\",sum);\n",
        "}"
      ],
      "metadata": {
        "colab": {
          "base_uri": "https://localhost:8080/"
        },
        "id": "HDDPL_8AUFvy",
        "outputId": "8a421510-138b-4ff5-e750-30839c306ffa"
      },
      "execution_count": 9,
      "outputs": [
        {
          "output_type": "stream",
          "name": "stdout",
          "text": [
            "Overwriting sum2_v1.c\n"
          ]
        }
      ]
    },
    {
      "cell_type": "code",
      "source": [
        "!gcc -o sum2_v1 sum2_v1.c"
      ],
      "metadata": {
        "id": "k0P1BRg7rO4m"
      },
      "execution_count": 10,
      "outputs": []
    },
    {
      "cell_type": "code",
      "source": [
        "!./sum2_v1"
      ],
      "metadata": {
        "colab": {
          "base_uri": "https://localhost:8080/"
        },
        "id": "g6OI1o20rTyt",
        "outputId": "ed2a6dca-e186-426d-bffb-a06f78b100f2"
      },
      "execution_count": 11,
      "outputs": [
        {
          "output_type": "stream",
          "name": "stdout",
          "text": [
            "sum = 0\n"
          ]
        }
      ]
    },
    {
      "cell_type": "markdown",
      "source": [
        "## The code outputs 0 which is the initial value of sum assigned in line 9 instead of the sum of 3 and 7 which is 10.   \n",
        "\n",
        "## The call to the function *add* did not change the variable *sum*.\n",
        "\n",
        "## **Like Java, C passes arguments of basic types such as *int* and *float* to functions by value (also called pass by copy).**\n",
        "\n",
        "## When the function *add* is called, the values 3, 7, and the value of sum are copied to the *local* variables a, b, and c (we call a, b, c *local* variables because they can only be accessed by the *sum* function).    \n",
        "\n",
        "## Since *c* is a copy of *sum*, the value of the variable *sum* is not changed by the function *add*.\n",
        "\n",
        "## In C we can work around the pass by value semantics by passing a **pointer to the sum variable** instead of the value of the sum variable.  Using a pointer to sum, the *add* function will be able to change the value of sum indirectly (just like we changed *a* indirectly using the *p* pointer in the previous example).    \n",
        "\n",
        "## Here is the new version that gives the expected output:"
      ],
      "metadata": {
        "id": "z8uWpOAcyb4c"
      }
    },
    {
      "cell_type": "code",
      "source": [
        "%%writefile sum2_v2.c\n",
        "#include <stdio.h>\n",
        "\n",
        "void add(int a, int b, int* c) {\n",
        "    *c = a + b;\n",
        "}\n",
        "\n",
        "int main () {\n",
        "    int sum = 0;\n",
        "    add(3,7,&sum);\n",
        "    printf (\"sum = %d\\n\",sum);\n",
        "}"
      ],
      "metadata": {
        "colab": {
          "base_uri": "https://localhost:8080/"
        },
        "id": "IT7k0w6Yrfun",
        "outputId": "7e0aabc0-4f16-4ab1-d7df-d8f8d091b539"
      },
      "execution_count": 12,
      "outputs": [
        {
          "output_type": "stream",
          "name": "stdout",
          "text": [
            "Overwriting sum2_v2.c\n"
          ]
        }
      ]
    },
    {
      "cell_type": "code",
      "source": [
        "!gcc -o sum2_v2 sum2_v2.c"
      ],
      "metadata": {
        "id": "0RlWB3gZrOKw"
      },
      "execution_count": 13,
      "outputs": []
    },
    {
      "cell_type": "code",
      "source": [
        "!./sum2_v2"
      ],
      "metadata": {
        "colab": {
          "base_uri": "https://localhost:8080/"
        },
        "id": "bwswdfA1rQDc",
        "outputId": "6e84aaa4-c065-444d-cf4e-0e227d981fde"
      },
      "execution_count": 14,
      "outputs": [
        {
          "output_type": "stream",
          "name": "stdout",
          "text": [
            "sum = 10\n"
          ]
        }
      ]
    },
    {
      "cell_type": "markdown",
      "source": [
        "## Notes:\n",
        "\n",
        "* ### In line 4 we declare the third argument c to be an integer pointer.\n",
        "\n",
        "* ### In line 5 we dereference the pointer c using the syntax **c* so that the variable that the pointer c points to (which is the variable sum in this example) is assigned the value of *a+b*.\n",
        "\n",
        "* ### In line 10 we pass a pointer to the sum as our third argument using the *&sum* syntax (recall that & is the address operator in C)."
      ],
      "metadata": {
        "id": "F0Djk1E13jHy"
      }
    },
    {
      "cell_type": "markdown",
      "source": [
        "# Part 4 : Primality Testing Revisited"
      ],
      "metadata": {
        "id": "5uZ8fKbD6q3P"
      }
    },
    {
      "cell_type": "markdown",
      "source": [
        "## Here is a version of the primality tester with a function that prints a divisor of n if n is not prime."
      ],
      "metadata": {
        "id": "sxYHgViH5AAh"
      }
    },
    {
      "cell_type": "code",
      "source": [
        "%%writefile fun_prime_v2.c\n",
        "#include <stdio.h>\n",
        "#include <stdlib.h>\n",
        "#include <stdbool.h>\n",
        "\n",
        "bool is_prime(long long n, long long* divisor) {\n",
        "    if (n % 2 == 0) {\n",
        "        *divisor = 2;\n",
        "        return false;\n",
        "    }\n",
        "    for (long long d = 3; d*d <= n; d+=2) {\n",
        "        if (n % d == 0) {\n",
        "            *divisor = d;\n",
        "            return false;\n",
        "        }\n",
        "    }\n",
        "    return true;\n",
        "}\n",
        "\n",
        "int main (int argc, char** argv) {\n",
        "    if (argc < 2) {\n",
        "        printf (\"command usage: %s %s\\n\",argv[0],\"n\");\n",
        "        return 1; // abnormal exit\n",
        "    }\n",
        "    long long n = atoll(argv[1]);\n",
        "    long long divisor;\n",
        "    if (is_prime(n,&divisor)) {\n",
        "        printf (\"The number %lld is prime.\\n\",n);\n",
        "    } else {\n",
        "        printf (\"The number %lld is not prime since %lld divides it.\\n\",n,divisor);\n",
        "    }\n",
        "}"
      ],
      "metadata": {
        "colab": {
          "base_uri": "https://localhost:8080/"
        },
        "id": "AINN_ODc2kgH",
        "outputId": "6fe35346-6dcc-4c78-ee82-3b00590bd3fd"
      },
      "execution_count": 15,
      "outputs": [
        {
          "output_type": "stream",
          "name": "stdout",
          "text": [
            "Overwriting fun_prime_v2.c\n"
          ]
        }
      ]
    },
    {
      "cell_type": "code",
      "source": [
        "!gcc -o fun_prime_v2 fun_prime_v2.c"
      ],
      "metadata": {
        "id": "SZ4vuuM6tjHw"
      },
      "execution_count": 16,
      "outputs": []
    },
    {
      "cell_type": "code",
      "source": [
        "!./fun_prime_v2 5261656080911617"
      ],
      "metadata": {
        "colab": {
          "base_uri": "https://localhost:8080/"
        },
        "id": "VoXhfLhttozW",
        "outputId": "725afbca-8306-4c01-956e-b09bb8da5c01"
      },
      "execution_count": 17,
      "outputs": [
        {
          "output_type": "stream",
          "name": "stdout",
          "text": [
            "The number 5261656080911617 is prime.\n"
          ]
        }
      ]
    },
    {
      "cell_type": "code",
      "source": [
        "!./fun_prime_v2 3439315899953761"
      ],
      "metadata": {
        "colab": {
          "base_uri": "https://localhost:8080/"
        },
        "id": "ZKzRNiIDttq0",
        "outputId": "7723a405-fb74-4606-a1a1-5d1772ae6ca0"
      },
      "execution_count": 18,
      "outputs": [
        {
          "output_type": "stream",
          "name": "stdout",
          "text": [
            "The number 3439315899953761 is not prime since 58645681 divides it.\n"
          ]
        }
      ]
    },
    {
      "cell_type": "markdown",
      "source": [
        "# Part 5 : Reading Input from *stdin* Using *scanf*"
      ],
      "metadata": {
        "id": "0QDhJUfRaI-_"
      }
    },
    {
      "cell_type": "markdown",
      "source": [
        "## In lecture 4 we learned how to use command line arguments to get input from the user at runtime.  \n",
        "\n",
        "## Command line arguments only make sense for a small amount of input.  \n",
        "\n",
        "## For larger inputs (such as a file containing data) we can read the input from *stdin* using *scanf* (formatted scan).  \n",
        "\n",
        "## Arguments to *scanf* are passed by pointer so that the variables they point to can be modified (indirectly) to contain the next inputs from *stdin*.  \n",
        "\n",
        "## The return value of *scanf* gives the number of fields that were successfully converted and assigned to variables.\n",
        "\n",
        "## One key use of the return value of *scanf* is to check for *end of file*.\n",
        "\n",
        "### If scanf reaches the end of the *stdin* input stream (i.e. end of file), *scanf* will return EOF (a negative number constant defined inside stdio.h) and the loop exits.\n",
        "\n",
        "## Here is a C program that sums the numbers read from *stdin*.  "
      ],
      "metadata": {
        "id": "U7pzCzl2aZEb"
      }
    },
    {
      "cell_type": "code",
      "source": [
        "%%writefile sum.c\n",
        "#include <stdio.h>\n",
        "\n",
        "int main () {\n",
        "    int sum = 0;\n",
        "    int next;\n",
        "    while (scanf(\"%d\",&next) == 1) {\n",
        "        sum = sum + next;\n",
        "    }\n",
        "    printf (\"sum = %d\\n\",sum);\n",
        "}"
      ],
      "metadata": {
        "colab": {
          "base_uri": "https://localhost:8080/"
        },
        "id": "s9kQmBr-6ZHm",
        "outputId": "2b971de8-e616-46f5-8835-892a14a604f1"
      },
      "execution_count": 19,
      "outputs": [
        {
          "output_type": "stream",
          "name": "stdout",
          "text": [
            "Overwriting sum.c\n"
          ]
        }
      ]
    },
    {
      "cell_type": "code",
      "source": [
        "!gcc -o sum sum.c"
      ],
      "metadata": {
        "id": "ctAufPPCdHK3"
      },
      "execution_count": 20,
      "outputs": []
    },
    {
      "cell_type": "code",
      "source": [
        "!echo 10 20 30 | ./sum"
      ],
      "metadata": {
        "colab": {
          "base_uri": "https://localhost:8080/"
        },
        "id": "g2yTMFn1dI2V",
        "outputId": "3ae697ce-21d3-45cb-b870-e02f368ea723"
      },
      "execution_count": 21,
      "outputs": [
        {
          "output_type": "stream",
          "name": "stdout",
          "text": [
            "sum = 60\n"
          ]
        }
      ]
    },
    {
      "cell_type": "code",
      "source": [
        "!echo 5 10 15 20 > num.dat"
      ],
      "metadata": {
        "id": "OGk3cUd9dMJr"
      },
      "execution_count": 22,
      "outputs": []
    },
    {
      "cell_type": "code",
      "source": [
        "!cat num.dat | ./sum"
      ],
      "metadata": {
        "colab": {
          "base_uri": "https://localhost:8080/"
        },
        "id": "dwO4x8vQd5UE",
        "outputId": "6c803aa8-51ed-4765-aa62-7f122fab333a"
      },
      "execution_count": 23,
      "outputs": [
        {
          "output_type": "stream",
          "name": "stdout",
          "text": [
            "sum = 50\n"
          ]
        }
      ]
    },
    {
      "cell_type": "markdown",
      "source": [
        "## Here is a function that finds the smallest number in the input stream *stdin*."
      ],
      "metadata": {
        "id": "PdWiSex7iXsF"
      }
    },
    {
      "cell_type": "code",
      "source": [
        "%%writefile smallest.c\n",
        "#include <stdio.h>\n",
        "#include <limits.h>\n",
        "\n",
        "int main () {\n",
        "    int smallest = INT_MAX;\n",
        "    int next;\n",
        "    while (scanf(\"%d\",&next) == 1) {\n",
        "        if (next < smallest) {\n",
        "            smallest = next;\n",
        "        }\n",
        "    }\n",
        "    printf (\"The smallest number is %d\\n\",smallest);\n",
        "}"
      ],
      "metadata": {
        "id": "gkQ9fNIMfjK2",
        "colab": {
          "base_uri": "https://localhost:8080/"
        },
        "outputId": "79748a01-7f06-4683-f662-9813f7ed3e24"
      },
      "execution_count": 24,
      "outputs": [
        {
          "output_type": "stream",
          "name": "stdout",
          "text": [
            "Overwriting smallest.c\n"
          ]
        }
      ]
    },
    {
      "cell_type": "code",
      "source": [
        "!gcc -o smallest smallest.c"
      ],
      "metadata": {
        "id": "bpc4sPlDV5Dg"
      },
      "execution_count": 25,
      "outputs": []
    },
    {
      "cell_type": "code",
      "source": [
        "!echo -25 50 -75 100 -200 -3433 4500 | ./smallest"
      ],
      "metadata": {
        "colab": {
          "base_uri": "https://localhost:8080/"
        },
        "id": "P_RTYTgxV8Ub",
        "outputId": "83acf506-f1c9-4916-e143-5ac787ce9dc2"
      },
      "execution_count": 26,
      "outputs": [
        {
          "output_type": "stream",
          "name": "stdout",
          "text": [
            "The smallest number is -3433\n"
          ]
        }
      ]
    },
    {
      "cell_type": "markdown",
      "source": [
        "## Exercise 1 : Write a program called *smallest3* that finds the three smallest integers in *stdin*.\n",
        "\n",
        "## Hint: Copy smallest.c to smallest3.c and modify it."
      ],
      "metadata": {
        "id": "DgwL6392WV_P"
      }
    },
    {
      "cell_type": "markdown",
      "source": [
        "## Here is a program that finds the integer in *stdin* closest to a given number."
      ],
      "metadata": {
        "id": "pjdVD2JJWkgx"
      }
    },
    {
      "cell_type": "code",
      "source": [
        "%%writefile closest.c\n",
        "#include <stdio.h>\n",
        "#include <stdlib.h>\n",
        "#include <limits.h>\n",
        "\n",
        "int main (int argc, char* argv[]) {\n",
        "    if (argc < 2) {\n",
        "        printf (\"command usage: %s %s\\n\",argv[0],\"center\");\n",
        "    }\n",
        "    int center = atoi(argv[1]);\n",
        "    int closest;\n",
        "    int smallest_distance = INT_MAX;\n",
        "    int next;\n",
        "    while (scanf(\"%d\",&next) == 1) {\n",
        "        int distance = abs(next-center);\n",
        "        if (distance < smallest_distance) {\n",
        "            closest = next;\n",
        "            smallest_distance = distance;\n",
        "        }\n",
        "    }\n",
        "    printf (\"The number closest to %d is %d\\n\",center,closest);\n",
        "}"
      ],
      "metadata": {
        "colab": {
          "base_uri": "https://localhost:8080/"
        },
        "id": "z1nQIFCbWBYz",
        "outputId": "3f6179ba-fc1b-4d9e-b083-653a8f011dc3"
      },
      "execution_count": 27,
      "outputs": [
        {
          "output_type": "stream",
          "name": "stdout",
          "text": [
            "Overwriting closest.c\n"
          ]
        }
      ]
    },
    {
      "cell_type": "code",
      "source": [
        "!gcc -o closest closest.c -lm"
      ],
      "metadata": {
        "id": "J_iAwX2sWMDK"
      },
      "execution_count": 28,
      "outputs": []
    },
    {
      "cell_type": "code",
      "source": [
        "!echo 15 -7 25 -2 30 -5 29 37 -25 | ./closest 5"
      ],
      "metadata": {
        "colab": {
          "base_uri": "https://localhost:8080/"
        },
        "id": "DGDNzM1vZmXr",
        "outputId": "3836deae-a7f3-4f2f-d2f5-a457a25ff2ef"
      },
      "execution_count": 29,
      "outputs": [
        {
          "output_type": "stream",
          "name": "stdout",
          "text": [
            "The number closest to 5 is -2\n"
          ]
        }
      ]
    },
    {
      "cell_type": "markdown",
      "source": [
        "## Exercise 2 : Write a program called *closest3* that finds the three integers in *stdin* closest to a given command line argument *center*.\n",
        "\n",
        "## Hint: Copy closest.c to closest3.c and modify it."
      ],
      "metadata": {
        "id": "4yK2kuOSag01"
      }
    },
    {
      "cell_type": "code",
      "source": [],
      "metadata": {
        "id": "jaGjmWz0Z1IC"
      },
      "execution_count": 29,
      "outputs": []
    }
  ]
}