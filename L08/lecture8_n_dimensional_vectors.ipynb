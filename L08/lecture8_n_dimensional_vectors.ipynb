{
  "nbformat": 4,
  "nbformat_minor": 0,
  "metadata": {
    "colab": {
      "provenance": []
    },
    "kernelspec": {
      "name": "python3",
      "display_name": "Python 3"
    },
    "language_info": {
      "name": "python"
    }
  },
  "cells": [
    {
      "cell_type": "markdown",
      "source": [
        "# Lecture 8 : Vectors in $\\mathbb{R}^n$"
      ],
      "metadata": {
        "id": "v7h5zc4Z2CBP"
      }
    },
    {
      "cell_type": "markdown",
      "source": [
        "# Part 1 : Working with MNIST Images"
      ],
      "metadata": {
        "id": "2CwKPqOQ5Wjs"
      }
    },
    {
      "cell_type": "markdown",
      "source": [
        "## Clone the materials repo on github to access datafiles."
      ],
      "metadata": {
        "id": "ftLUNkKx2GfC"
      }
    },
    {
      "cell_type": "code",
      "execution_count": 1,
      "metadata": {
        "colab": {
          "base_uri": "https://localhost:8080/"
        },
        "id": "PeHJ9M4N15ED",
        "outputId": "e52d1837-a4b6-49f9-ebc9-70b99159ebb8"
      },
      "outputs": [
        {
          "output_type": "stream",
          "name": "stdout",
          "text": [
            "Cloning into 'cmda3634_materials'...\n",
            "remote: Enumerating objects: 85, done.\u001b[K\n",
            "remote: Counting objects: 100% (85/85), done.\u001b[K\n",
            "remote: Compressing objects: 100% (80/80), done.\u001b[K\n",
            "remote: Total 85 (delta 42), reused 0 (delta 0), pack-reused 0\u001b[K\n",
            "Receiving objects: 100% (85/85), 777.23 KiB | 3.10 MiB/s, done.\n",
            "Resolving deltas: 100% (42/42), done.\n"
          ]
        }
      ],
      "source": [
        "!git clone https://github.com/jasonrwilson/cmda3634_materials"
      ]
    },
    {
      "cell_type": "markdown",
      "source": [
        "## Copy the lecture 8 materials into our local workspace."
      ],
      "metadata": {
        "id": "Jg5MKDG12XOQ"
      }
    },
    {
      "cell_type": "code",
      "source": [
        "!cp cmda3634_materials/L08/* ."
      ],
      "metadata": {
        "id": "sXIkXr7Y18g6"
      },
      "execution_count": 2,
      "outputs": []
    },
    {
      "cell_type": "markdown",
      "source": [
        "## Print the first line of the data file *mnist1000.txt*."
      ],
      "metadata": {
        "id": "t36rl6h0613g"
      }
    },
    {
      "cell_type": "code",
      "source": [
        "!head -1 mnist1000.txt"
      ],
      "metadata": {
        "colab": {
          "base_uri": "https://localhost:8080/"
        },
        "id": "hBI2ZB4j7TZf",
        "outputId": "6d3cfc22-d116-42b9-fe60-44611a835015"
      },
      "execution_count": 3,
      "outputs": [
        {
          "output_type": "stream",
          "name": "stdout",
          "text": [
            "# 1000 784\n"
          ]
        }
      ]
    },
    {
      "cell_type": "markdown",
      "source": [
        "## The first line is a **comment** that contains information about the data contained in the file.\n",
        "\n",
        "## The first number 1000 gives the number of points in the file.\n",
        "\n",
        "## The second number 784 gives the dimension of each point in the file.  \n",
        "\n",
        "## In this case the dimension of each point is 784 since each image is 28 x 28."
      ],
      "metadata": {
        "id": "0SEVdGDh7UCi"
      }
    },
    {
      "cell_type": "markdown",
      "source": [
        "## A script to view two MNIST images."
      ],
      "metadata": {
        "id": "9Vz2hOv_35oa"
      }
    },
    {
      "cell_type": "code",
      "source": [
        "!cat mnist1000.txt | python3 mnist.py mnist2.png 2 4"
      ],
      "metadata": {
        "id": "EdQ3EQYx4K5r"
      },
      "execution_count": 4,
      "outputs": []
    },
    {
      "cell_type": "code",
      "source": [
        "from IPython import display\n",
        "display.Image(\"mnist2.png\")"
      ],
      "metadata": {
        "colab": {
          "base_uri": "https://localhost:8080/",
          "height": 601
        },
        "id": "qZroW1ht4upw",
        "outputId": "f01aae6c-ddbd-4feb-d4b8-9d14fd1203a4"
      },
      "execution_count": 5,
      "outputs": [
        {
          "output_type": "execute_result",
          "data": {
            "image/png": "[encoded data removed]",
            "text/plain": [
              "<IPython.core.display.Image object>"
            ]
          },
          "metadata": {},
          "execution_count": 5
        }
      ]
    },
    {
      "cell_type": "markdown",
      "source": [
        "# Part 2 : Averaging Vectors in $\\mathbb{R}^n$.\n",
        "\n",
        "## Here is a C program that prints the average of vectors in $\\mathbb{R}^n$.\n",
        "\n",
        "## Using a C structure to store a vector works well when we know the size of the vectors at compile time.  For example, in the previous lecture we used a C structure to store vectors in $\\mathbb{R}^2$.\n",
        "\n",
        "## Unfortunately, the size of a C structure cannot be specified at runtime.\n",
        "\n",
        "## Instead, we will store a vector in $\\mathbb{R}^n$ using an array in C.\n",
        "\n",
        "## Note that the size of array will be dynamic (not known until runtime).\n",
        "\n",
        "## Dynamic arrays in C cannot be initialized with one line.\n",
        "\n",
        "## We use a function to initialize a variable sized array to 0s and a function to read a vector from stdin.\n",
        "\n",
        "## Note that we need to pass the dimension $n$ of the vectors as an argument.\n",
        "\n",
        "## We also use C functions to compute the sum of two vectors and the scalar multiple of a vector."
      ],
      "metadata": {
        "id": "QORPCIcS2k9a"
      }
    },
    {
      "cell_type": "code",
      "source": [
        "%%writefile mean.c\n",
        "#include <stdio.h>\n",
        "\n",
        "// v = 0\n",
        "void vec_zero (double v[], int dim) {\n",
        "    for (int i=0;i<dim;i++) {\n",
        "        v[i] = 0;\n",
        "    }\n",
        "}\n",
        "\n",
        "// read a vector from stdin\n",
        "// returns the number of elements read in\n",
        "int vec_read_stdin (double v[], int dim) {\n",
        "    for (int i=0;i<dim;i++) {\n",
        "        if (scanf(\"%lf\",&(v[i])) != 1) { // could also use v+i\n",
        "            return i;\n",
        "        }\n",
        "    }\n",
        "    return dim;\n",
        "}\n",
        "\n",
        "// w = u + v\n",
        "void vec_add (double u[], double v[], double w[], int dim) {\n",
        "    for (int i=0;i<dim;i++) {\n",
        "        w[i] = u[i] + v[i];\n",
        "    }\n",
        "}\n",
        "\n",
        "// w = cv\n",
        "void vec_scalar_mult (double v[], double c, double w[], int dim) {\n",
        "    for (int i=0;i<dim;i++) {\n",
        "        w[i] = c*v[i];\n",
        "    }\n",
        "}\n",
        "\n",
        "// print a vector using the given format specifier\n",
        "void vec_print (double v[], char* format, int dim) {\n",
        "    for (int i=0;i<dim;i++) {\n",
        "        printf (format,v[i]);\n",
        "    }\n",
        "    printf (\"\\n\");\n",
        "}\n",
        "\n",
        "int main () {\n",
        "\n",
        "    // read the number of points and the dimension of each point\n",
        "    int num_points, dim;\n",
        "    if (scanf(\"%*c %d %d\",&num_points, &dim) != 2) {\n",
        "        printf (\"error reading the number of points and the dimension\\n\");\n",
        "        return 1;\n",
        "    }\n",
        "\n",
        "    // The size of a C array can be specified using a variable.\n",
        "    // Variable size arrays in C cannot be initialized with one line.\n",
        "    // double sum[dim] = { 0 }; (this will not compile)\n",
        "    double sum[dim];\n",
        "    double average[dim];\n",
        "    double next[dim];\n",
        "\n",
        "    // We must initialize variable sized arrays using a loop.\n",
        "    // To improve readability of the code we use a function.\n",
        "    vec_zero(sum,dim);\n",
        "\n",
        "    // Read vectors from stdin and accumulate the sum\n",
        "    for (int i=0;i<num_points;i++) {\n",
        "        if (vec_read_stdin(next,dim) != dim) {\n",
        "            printf (\"error reading the next point from stdin\\n\");\n",
        "            return 1;\n",
        "        }\n",
        "        vec_add (sum,next,sum,dim);\n",
        "    }\n",
        "\n",
        "    // divide the sum by the number of points to get the average\n",
        "    vec_scalar_mult(sum,1.0/num_points,average,dim);\n",
        "\n",
        "    // print the results\n",
        "    vec_print (average,\"%.2f \",dim);\n",
        "}"
      ],
      "metadata": {
        "colab": {
          "base_uri": "https://localhost:8080/"
        },
        "id": "oJlwcpLF3eJu",
        "outputId": "c76febe8-7545-4d47-f333-3a93ba4db144"
      },
      "execution_count": 6,
      "outputs": [
        {
          "output_type": "stream",
          "name": "stdout",
          "text": [
            "Writing mean.c\n"
          ]
        }
      ]
    },
    {
      "cell_type": "code",
      "source": [
        "!gcc -o mean mean.c"
      ],
      "metadata": {
        "id": "dBwL-aLT8c8k"
      },
      "execution_count": 7,
      "outputs": []
    },
    {
      "cell_type": "code",
      "source": [
        "!cat points100.txt | ./mean"
      ],
      "metadata": {
        "colab": {
          "base_uri": "https://localhost:8080/"
        },
        "id": "GITaSl84AWIh",
        "outputId": "1bdc2e9e-98e3-4322-c19a-26c38d723f5c"
      },
      "execution_count": 8,
      "outputs": [
        {
          "output_type": "stream",
          "name": "stdout",
          "text": [
            "-0.09 0.03 \n"
          ]
        }
      ]
    },
    {
      "cell_type": "markdown",
      "source": [
        "## Here is an example where we find the average of 3 points in $\\mathbb{R}^4$."
      ],
      "metadata": {
        "id": "0vrkovnDq8D5"
      }
    },
    {
      "cell_type": "code",
      "source": [
        "!echo \\# 3 4  1.6 2 3 4  5 6 7.3 8  9 10 11.6 12 | ./mean"
      ],
      "metadata": {
        "colab": {
          "base_uri": "https://localhost:8080/"
        },
        "id": "KK6SLrUlql7X",
        "outputId": "3ae5ff56-dfb1-4d25-a802-ce92ddf0edf7"
      },
      "execution_count": 9,
      "outputs": [
        {
          "output_type": "stream",
          "name": "stdout",
          "text": [
            "5.20 6.00 7.30 8.00 \n"
          ]
        }
      ]
    },
    {
      "cell_type": "markdown",
      "source": [
        "# Part 3 : C Header Files and Implementation Files\n",
        "\n",
        "## Let's write a C Header file and implementation file for our vector functions.\n",
        "\n",
        "## We will also write the new vector functions *vec_norm_sq* and *vec_dist_sq*.  \n",
        "\n",
        "## A C header file typically contains type declarations as well as function interfaces.  \n",
        "\n",
        "## The types and functions in a C header file work together to provide a certain functionality.\n",
        "\n",
        "## For example, *stdio.h* includes types and function interfaces for input and output.  \n",
        "\n",
        "## In our case we want to group functions that make it easier to work with $n$-dimensional vectors in C.\n",
        "\n",
        "## Here is our *vec.h* header file.  Note that the function declarations only provide the interface not the implementations.\n",
        "\n",
        "## We will need a separate *vec.c* implementation file that contains the implementations of the functions.\n",
        "\n",
        "## Note that our *vec.h* header file contains a protection to avoid multiple includes.  "
      ],
      "metadata": {
        "id": "d2dFVkEQeK5Q"
      }
    },
    {
      "cell_type": "code",
      "source": [
        "%%writefile vec.h\n",
        "#ifndef VEC_H\n",
        "#define VEC_H\n",
        "\n",
        "// v = 0\n",
        "void vec_zero (double v[], int dim);\n",
        "\n",
        "// read a vector from stdin\n",
        "// returns the number of elements read in\n",
        "int vec_read_stdin (double v[], int dim);\n",
        "\n",
        "// w = u + v\n",
        "void vec_add (double u[], double v[], double w[], int dim);\n",
        "\n",
        "// w = cv\n",
        "void vec_scalar_mult (double v[], double c, double w[], int dim);\n",
        "\n",
        "// print a vector using the given format specifier\n",
        "void vec_print (double v[], char* format, int dim);\n",
        "\n",
        "// calculate the norm squared of a vector\n",
        "double vec_norm_sq (double v[], int dim);\n",
        "\n",
        "// calculate the distance squared between two vectors\n",
        "double vec_dist_sq (double u[], double v[], int dim);\n",
        "\n",
        "#endif"
      ],
      "metadata": {
        "colab": {
          "base_uri": "https://localhost:8080/"
        },
        "id": "mOglthDKfk96",
        "outputId": "b86f8861-a84e-407e-a0d5-427cf813b693"
      },
      "execution_count": 10,
      "outputs": [
        {
          "output_type": "stream",
          "name": "stdout",
          "text": [
            "Writing vec.h\n"
          ]
        }
      ]
    },
    {
      "cell_type": "markdown",
      "source": [
        "## Here is the implementation file *vec.c*."
      ],
      "metadata": {
        "id": "x5W51ZT8hv_I"
      }
    },
    {
      "cell_type": "code",
      "source": [
        "%%writefile vec.c\n",
        "#include <stdio.h>\n",
        "\n",
        "// v = 0\n",
        "void vec_zero (double v[], int dim) {\n",
        "    for (int i=0;i<dim;i++) {\n",
        "        v[i] = 0;\n",
        "    }\n",
        "}\n",
        "\n",
        "// read a vector from stdin\n",
        "// returns the number of elements read in\n",
        "int vec_read_stdin (double v[], int dim) {\n",
        "    for (int i=0;i<dim;i++) {\n",
        "        if (scanf(\"%lf\",&(v[i])) != 1) { // could also use v+i\n",
        "            return i;\n",
        "        }\n",
        "    }\n",
        "    return dim;\n",
        "}\n",
        "\n",
        "// w = u + v\n",
        "void vec_add (double u[], double v[], double w[], int dim) {\n",
        "    for (int i=0;i<dim;i++) {\n",
        "        w[i] = u[i] + v[i];\n",
        "    }\n",
        "}\n",
        "\n",
        "// w = cv\n",
        "void vec_scalar_mult (double v[], double c, double w[], int dim) {\n",
        "    for (int i=0;i<dim;i++) {\n",
        "        w[i] = c*v[i];\n",
        "    }\n",
        "}\n",
        "\n",
        "// print a vector using the given format specifier\n",
        "void vec_print (double v[], char* format, int dim) {\n",
        "    for (int i=0;i<dim;i++) {\n",
        "        printf (format,v[i]);\n",
        "    }\n",
        "    printf (\"\\n\");\n",
        "}\n",
        "\n",
        "// calculate the norm squared of a vector\n",
        "double vec_norm_sq (double v[], int dim) {\n",
        "    double norm_sq = 0;\n",
        "    for (int i=0;i<dim;i++) {\n",
        "        norm_sq += v[i]*v[i];\n",
        "    }\n",
        "    return norm_sq;\n",
        "}\n",
        "\n",
        "// calculate the distance squared between two vectors\n",
        "double vec_dist_sq (double u[], double v[], int dim) {\n",
        "    double dist_sq = 0;\n",
        "    for (int i=0;i<dim;i++) {\n",
        "        dist_sq += (u[i]-v[i])*(u[i]-v[i]);\n",
        "    }\n",
        "    return dist_sq;\n",
        "}"
      ],
      "metadata": {
        "colab": {
          "base_uri": "https://localhost:8080/"
        },
        "id": "Sw9ZBwP0h0KH",
        "outputId": "c91afaf3-8e73-449b-dbfd-a2193bb5b820"
      },
      "execution_count": 11,
      "outputs": [
        {
          "output_type": "stream",
          "name": "stdout",
          "text": [
            "Writing vec.c\n"
          ]
        }
      ]
    },
    {
      "cell_type": "markdown",
      "source": [
        "# Part 4 : Closest and Farthest\n",
        "\n",
        "## Let's next use our new C header and implementation files to create a program that finds the index of the point closest to the origin as well as the index of the point farthest from the origin.  \n",
        "\n",
        "## These problems are equivalent to minimizing and maximizing the norm squared of the vectors.\n",
        "\n",
        "## We include *vec.h* to gain access to our vector function interfaces."
      ],
      "metadata": {
        "id": "iTqmceiXkSPw"
      }
    },
    {
      "cell_type": "code",
      "source": [
        "%%writefile minmax.c\n",
        "#include <stdio.h>\n",
        "#include <float.h>\n",
        "#include <math.h>\n",
        "#include \"vec.h\"\n",
        "\n",
        "int main () {\n",
        "\n",
        "    // read the number of points and the dimension of each point\n",
        "    int num_points, dim;\n",
        "    if (scanf(\"%*c %d %d\",&num_points, &dim) != 2) {\n",
        "        printf (\"error reading the number of points and the dimension\\n\");\n",
        "        return 1;\n",
        "    }\n",
        "\n",
        "    double max_norm_sq = 0;\n",
        "    double min_norm_sq = DBL_MAX;\n",
        "    int closest, farthest;\n",
        "    double next[dim];\n",
        "    // Read vectors from stdin and keep track of closest/farthest indices\n",
        "    for (int i=0;i<num_points;i++) {\n",
        "        if (vec_read_stdin(next,dim) != dim) {\n",
        "            printf (\"error reading the next point from stdin\\n\");\n",
        "            return 1;\n",
        "        }\n",
        "        double norm_sq = vec_norm_sq(next,dim);\n",
        "        if (norm_sq > max_norm_sq) {\n",
        "            max_norm_sq = norm_sq;\n",
        "            farthest = i;\n",
        "        }\n",
        "        if (norm_sq < min_norm_sq) {\n",
        "            min_norm_sq = norm_sq;\n",
        "            closest = i;\n",
        "        }\n",
        "    }\n",
        "\n",
        "    // print the results\n",
        "    printf (\"closest has length %.4f and index %d\\n\",sqrt(min_norm_sq),closest);\n",
        "    printf (\"farthest has length %.4f and index %d\\n\",sqrt(max_norm_sq),farthest);\n",
        "}"
      ],
      "metadata": {
        "colab": {
          "base_uri": "https://localhost:8080/"
        },
        "id": "W8iYFH5Rkwtq",
        "outputId": "1ab0a79c-6195-4f37-aace-b97407ed542c"
      },
      "execution_count": 12,
      "outputs": [
        {
          "output_type": "stream",
          "name": "stdout",
          "text": [
            "Writing minmax.c\n"
          ]
        }
      ]
    },
    {
      "cell_type": "markdown",
      "source": [
        "## Note that we compile both minmax.c and vec.c.\n",
        "\n",
        "## We also include the math library using *-lm*."
      ],
      "metadata": {
        "id": "e5Fl89NAmWy6"
      }
    },
    {
      "cell_type": "code",
      "source": [
        "!gcc -o minmax minmax.c vec.c -lm"
      ],
      "metadata": {
        "id": "JIlJCa85ma-6"
      },
      "execution_count": 13,
      "outputs": []
    },
    {
      "cell_type": "code",
      "source": [
        "!cat points100.txt | ./minmax"
      ],
      "metadata": {
        "colab": {
          "base_uri": "https://localhost:8080/"
        },
        "id": "D9fRwYlZmpbp",
        "outputId": "dc804cbc-fe44-403b-e855-18685c326556"
      },
      "execution_count": 14,
      "outputs": [
        {
          "output_type": "stream",
          "name": "stdout",
          "text": [
            "closest has length 0.0904 and index 21\n",
            "farthest has length 0.9969 and index 23\n"
          ]
        }
      ]
    },
    {
      "cell_type": "markdown",
      "source": [
        "## To demonstrate the flexibility of our program we run on the MNIST dataset with points in $\\mathbb{R}^{784}$."
      ],
      "metadata": {
        "id": "QdY4eR_Tn5iB"
      }
    },
    {
      "cell_type": "code",
      "source": [
        "!cat mnist1000.txt | ./minmax"
      ],
      "metadata": {
        "colab": {
          "base_uri": "https://localhost:8080/"
        },
        "id": "XPMLj6xGoPeO",
        "outputId": "c5cd1330-b69c-443a-8cc9-643ae1c2e8ba"
      },
      "execution_count": 15,
      "outputs": [
        {
          "output_type": "stream",
          "name": "stdout",
          "text": [
            "closest has length 1204.4654 and index 604\n",
            "farthest has length 3734.9391 and index 756\n"
          ]
        }
      ]
    },
    {
      "cell_type": "markdown",
      "source": [
        "## We can visualize the closest and farthest MNIST images using Python."
      ],
      "metadata": {
        "id": "4gWOUCAhouwm"
      }
    },
    {
      "cell_type": "code",
      "source": [
        "!cat mnist1000.txt | python3 mnist.py minmax.png 604 756"
      ],
      "metadata": {
        "id": "fj0tves_o2OY"
      },
      "execution_count": 16,
      "outputs": []
    },
    {
      "cell_type": "code",
      "source": [
        "from IPython import display\n",
        "display.Image(\"minmax.png\")"
      ],
      "metadata": {
        "colab": {
          "base_uri": "https://localhost:8080/",
          "height": 601
        },
        "id": "48CjAhWOpFZE",
        "outputId": "ee23b812-c56b-4580-b095-359460b0802a"
      },
      "execution_count": 17,
      "outputs": [
        {
          "output_type": "execute_result",
          "data": {
            "image/png": "[encoded data removed]",
            "text/plain": [
              "<IPython.core.display.Image object>"
            ]
          },
          "metadata": {},
          "execution_count": 17
        }
      ]
    },
    {
      "cell_type": "markdown",
      "source": [
        "# Part 5 : Finding the Extreme Pair in $\\mathbb{R}^n$."
      ],
      "metadata": {
        "id": "UAPLQA8Bp9ti"
      }
    },
    {
      "cell_type": "markdown",
      "source": [
        "## We will write a C program that finds the extreme pair in $\\mathbb{R}^n$.  \n",
        "\n",
        "## To find the extreme pair we will need to maximize $$\\| \\mathbf{u} - \\mathbf{v} \\|$$\n",
        "\n",
        "## which is equivalent to maximizing $$\\| \\mathbf{u} - \\mathbf{v} \\|^2$$\n",
        "\n",
        "## We will store the dataset in C using a two-dimensional array.  \n",
        "\n",
        "## Working with two-dimensional arrays in C is similar to other languages such as Java and Python.\n",
        "\n",
        "## Here is an example program that multiples a $3 \\times 3$ matrix by a vector in $\\mathbb{R}^3$."
      ],
      "metadata": {
        "id": "r80Y-jf16Lv4"
      }
    },
    {
      "cell_type": "code",
      "source": [
        "%%writefile matvec.c\n",
        "#include <stdio.h>\n",
        "\n",
        "int main () {\n",
        "    double A[3][3] = { { 1, 2.5, 3 }, { 4, 5.8, 6 }, { 7, 8, 9.3 } };\n",
        "    double x[3] = { 1, 1, 1 };\n",
        "    double b[3] = { 0 };\n",
        "    for (int i=0;i<3;i++) {\n",
        "        for (int j=0;j<3;j++) {\n",
        "            b[i] += A[i][j]*x[j];\n",
        "        }\n",
        "    }\n",
        "    printf (\"b = { %.2f, %.2f, %.2f }\\n\",b[0],b[1],b[2]);\n",
        "}"
      ],
      "metadata": {
        "id": "Ct7jyA3c2Aa5",
        "colab": {
          "base_uri": "https://localhost:8080/"
        },
        "outputId": "639b4a59-0c88-41e4-df06-585c6a646ad5"
      },
      "execution_count": 18,
      "outputs": [
        {
          "output_type": "stream",
          "name": "stdout",
          "text": [
            "Writing matvec.c\n"
          ]
        }
      ]
    },
    {
      "cell_type": "code",
      "source": [
        "!gcc -o matvec matvec.c"
      ],
      "metadata": {
        "id": "cDuDbQby2OHI"
      },
      "execution_count": 19,
      "outputs": []
    },
    {
      "cell_type": "code",
      "source": [
        "!./matvec"
      ],
      "metadata": {
        "colab": {
          "base_uri": "https://localhost:8080/"
        },
        "id": "yl1FEgmbByTZ",
        "outputId": "b35c01f1-0d0a-402e-eb96-4415a23a6887"
      },
      "execution_count": 20,
      "outputs": [
        {
          "output_type": "stream",
          "name": "stdout",
          "text": [
            "b = { 6.50, 15.80, 24.30 }\n"
          ]
        }
      ]
    },
    {
      "cell_type": "markdown",
      "source": [
        "## Here is code for a C program that computes the extreme pair.  "
      ],
      "metadata": {
        "id": "glG08Zbx1bdi"
      }
    },
    {
      "cell_type": "code",
      "source": [
        "%%writefile extreme.c\n",
        "#include <stdio.h>\n",
        "#include <math.h>\n",
        "#include \"vec.h\"\n",
        "\n",
        "int main () {\n",
        "\n",
        "    // read the number of points and the dimension of each point\n",
        "    int num_points, dim;\n",
        "    if (scanf(\"%*c %d %d\",&num_points, &dim) != 2) {\n",
        "        printf (\"error reading the number of points and the dimension\\n\");\n",
        "        return 1;\n",
        "    }\n",
        "\n",
        "    // Read vectors from stdin and store them in a 2d array\n",
        "    double data[num_points][dim];\n",
        "    for (int i=0;i<num_points;i++) {\n",
        "        if (vec_read_stdin(data[i],dim) != dim) {\n",
        "            printf (\"error reading the next point from stdin\\n\");\n",
        "            return 1;\n",
        "        }\n",
        "    }\n",
        "\n",
        "    // find the extreme pair\n",
        "    double max_dist_sq = 0;\n",
        "    int extreme1, extreme2;\n",
        "    for (int i=0;i<num_points-1;i++) {\n",
        "        for (int j=i+1;j<num_points;j++) {\n",
        "            double dist_sq = vec_dist_sq(data[i],data[j],dim);\n",
        "            if (dist_sq > max_dist_sq) {\n",
        "                max_dist_sq = dist_sq;\n",
        "                extreme1 = i;\n",
        "                extreme2 = j;\n",
        "            }\n",
        "        }\n",
        "    }\n",
        "\n",
        "    // output the results\n",
        "    printf (\"Extreme Distance = %.2f\\n\",sqrt(max_dist_sq));\n",
        "    printf (\"Extreme Pair = %d %d\\n\",extreme1,extreme2);\n",
        "}"
      ],
      "metadata": {
        "colab": {
          "base_uri": "https://localhost:8080/"
        },
        "id": "H6D7WcxkrSk2",
        "outputId": "98544431-65f0-41dd-9c4d-39537e77793f"
      },
      "execution_count": 21,
      "outputs": [
        {
          "output_type": "stream",
          "name": "stdout",
          "text": [
            "Writing extreme.c\n"
          ]
        }
      ]
    },
    {
      "cell_type": "code",
      "source": [
        "!gcc -o extreme extreme.c vec.c -lm"
      ],
      "metadata": {
        "id": "xAZCclmM24Ha"
      },
      "execution_count": 22,
      "outputs": []
    },
    {
      "cell_type": "markdown",
      "source": [
        "## Let's first run the extreme program on some 2d datasets."
      ],
      "metadata": {
        "id": "HWgAqYEu5jKc"
      }
    },
    {
      "cell_type": "code",
      "source": [
        "!cat points9.txt | ./extreme"
      ],
      "metadata": {
        "colab": {
          "base_uri": "https://localhost:8080/"
        },
        "id": "P2x-e3bH5T8p",
        "outputId": "852ee99b-7f89-4264-8f41-806e92323e72"
      },
      "execution_count": 23,
      "outputs": [
        {
          "output_type": "stream",
          "name": "stdout",
          "text": [
            "Extreme Distance = 8.06\n",
            "Extreme Pair = 5 8\n"
          ]
        }
      ]
    },
    {
      "cell_type": "code",
      "source": [
        "!cat points100.txt | ./extreme"
      ],
      "metadata": {
        "colab": {
          "base_uri": "https://localhost:8080/"
        },
        "id": "dtzk0cwm26OQ",
        "outputId": "31ef832b-ea88-4db9-fc0a-4d961bdf6079"
      },
      "execution_count": 24,
      "outputs": [
        {
          "output_type": "stream",
          "name": "stdout",
          "text": [
            "Extreme Distance = 1.95\n",
            "Extreme Pair = 85 89\n"
          ]
        }
      ]
    },
    {
      "cell_type": "markdown",
      "source": [
        "## Next, let's run the extreme program on the MNIST dataset."
      ],
      "metadata": {
        "id": "1ZXsx0a_5oca"
      }
    },
    {
      "cell_type": "code",
      "source": [
        "!cat mnist1000.txt | ./extreme"
      ],
      "metadata": {
        "colab": {
          "base_uri": "https://localhost:8080/"
        },
        "id": "LeltrIOF3GcA",
        "outputId": "2fbed89f-f11d-4ba9-e159-5812f9850a2e"
      },
      "execution_count": 25,
      "outputs": [
        {
          "output_type": "stream",
          "name": "stdout",
          "text": [
            "Extreme Distance = 3797.52\n",
            "Extreme Pair = 121 426\n"
          ]
        }
      ]
    },
    {
      "cell_type": "markdown",
      "source": [
        "## We can visualize the extreme pair of MNIST images using Python."
      ],
      "metadata": {
        "id": "QaxS0EUJ6DSC"
      }
    },
    {
      "cell_type": "code",
      "source": [
        "!cat mnist1000.txt | python3 mnist.py extreme.png 121 426"
      ],
      "metadata": {
        "id": "aogcp-zj5tnM"
      },
      "execution_count": 26,
      "outputs": []
    },
    {
      "cell_type": "code",
      "source": [
        "from IPython import display\n",
        "display.Image(\"extreme.png\")"
      ],
      "metadata": {
        "colab": {
          "base_uri": "https://localhost:8080/",
          "height": 601
        },
        "id": "y34LvW3k6MXf",
        "outputId": "504aa307-787d-4f9d-eac9-9cd2c681aaaa"
      },
      "execution_count": 27,
      "outputs": [
        {
          "output_type": "execute_result",
          "data": {
            "image/png": "[encoded data removed]",
            "text/plain": [
              "<IPython.core.display.Image object>"
            ]
          },
          "metadata": {},
          "execution_count": 27
        }
      ]
    },
    {
      "cell_type": "markdown",
      "source": [
        "## Next, let's try the code on a set of 2000 MNIST Test images."
      ],
      "metadata": {
        "id": "u0Ve5jXJ7RDM"
      }
    },
    {
      "cell_type": "code",
      "source": [
        "!cat mnist2000.txt | ./extreme"
      ],
      "metadata": {
        "colab": {
          "base_uri": "https://localhost:8080/"
        },
        "id": "284Oe5cq6Q-P",
        "outputId": "0fff777f-8a4f-4723-cd8c-205cb81295ce"
      },
      "execution_count": 28,
      "outputs": [
        {
          "output_type": "stream",
          "name": "stdout",
          "text": [
            "/bin/bash: line 1:   811 Broken pipe             cat mnist2000.txt\n",
            "       812 Segmentation fault      (core dumped) | ./extreme\n"
          ]
        }
      ]
    },
    {
      "cell_type": "markdown",
      "source": [
        "## What caused the segmentation fault?  \n",
        "\n",
        "## Hint 1: How many bytes is the *double data[2000][784]* array?\n",
        "\n",
        "## Hint 2: Here is the stack size (in MB)."
      ],
      "metadata": {
        "id": "N2yXbnze762d"
      }
    },
    {
      "cell_type": "code",
      "source": [
        "!ulimit -s"
      ],
      "metadata": {
        "colab": {
          "base_uri": "https://localhost:8080/"
        },
        "id": "I4jDy7xc7Y1p",
        "outputId": "196c0d7d-7ffe-4175-80ef-e5e433cb5705"
      },
      "execution_count": 29,
      "outputs": [
        {
          "output_type": "stream",
          "name": "stdout",
          "text": [
            "8192\n"
          ]
        }
      ]
    },
    {
      "cell_type": "code",
      "source": [],
      "metadata": {
        "id": "SrXuCmUc8QKm"
      },
      "execution_count": 29,
      "outputs": []
    }
  ]
}