{
  "nbformat": 4,
  "nbformat_minor": 0,
  "metadata": {
    "colab": {
      "provenance": []
    },
    "kernelspec": {
      "name": "python3",
      "display_name": "Python 3"
    },
    "language_info": {
      "name": "python"
    }
  },
  "cells": [
    {
      "cell_type": "markdown",
      "source": [
        "# Lecture 8 : Introduction to C Structures"
      ],
      "metadata": {
        "id": "ROxZ5OZLRTBj"
      }
    },
    {
      "cell_type": "markdown",
      "source": [
        "# Part 1 : Primality Testing Revisited"
      ],
      "metadata": {
        "id": "eXEG0-6ZLTzJ"
      }
    },
    {
      "cell_type": "markdown",
      "source": [
        "## Consider again our primality tester in C.  In this version we used a pointer to return the divisor as a second argument."
      ],
      "metadata": {
        "id": "ICF9CXsKL4eQ"
      }
    },
    {
      "cell_type": "code",
      "source": [
        "%%writefile fun_prime_v2.c\n",
        "#include <stdio.h>\n",
        "#include <stdlib.h>\n",
        "#include <stdbool.h>\n",
        "\n",
        "bool is_prime(long long n, long long* divisor) {\n",
        "    if (n % 2 == 0) {\n",
        "        *divisor = 2;\n",
        "        return false;\n",
        "    }\n",
        "    for (long long d = 3; d*d <= n; d+=2) {\n",
        "        if (n % d == 0) {\n",
        "            *divisor = d;\n",
        "            return false;\n",
        "        }\n",
        "    }\n",
        "    return true;\n",
        "}\n",
        "\n",
        "int main (int argc, char** argv) {\n",
        "    if (argc < 2) {\n",
        "        printf (\"command usage: %s %s\\n\",argv[0],\"n\");\n",
        "        return 1; // abnormal exit\n",
        "    }\n",
        "    long long n = atoll(argv[1]);\n",
        "    long long divisor;\n",
        "    if (is_prime(n,&divisor)) {\n",
        "        printf (\"The number %lld is prime.\\n\",n);\n",
        "    } else {\n",
        "        printf (\"The number %lld is not prime since %lld divides it.\\n\",n,divisor);\n",
        "    }\n",
        "}"
      ],
      "metadata": {
        "colab": {
          "base_uri": "https://localhost:8080/"
        },
        "id": "Sn05Lh5GN5qT",
        "outputId": "e7ae0ca3-d844-440b-ce96-b58aac16f29e"
      },
      "execution_count": 1,
      "outputs": [
        {
          "output_type": "stream",
          "name": "stdout",
          "text": [
            "Writing fun_prime_v2.c\n"
          ]
        }
      ]
    },
    {
      "cell_type": "markdown",
      "source": [
        "## Here is a version that uses a C structure to return multiple values instead of using a pointer.\n",
        "\n",
        "## Note the structure intialization syntax on line 12."
      ],
      "metadata": {
        "id": "LkmzImhvOBp7"
      }
    },
    {
      "cell_type": "code",
      "source": [
        "%%writefile fun_prime_v3.c\n",
        "#include <stdio.h>\n",
        "#include <stdlib.h>\n",
        "#include <stdbool.h>\n",
        "\n",
        "typedef struct {\n",
        "    bool is_prime;\n",
        "    long long divisor;\n",
        "} prime_info;\n",
        "\n",
        "prime_info is_prime(long long n) {\n",
        "    prime_info info = { false, 1 };\n",
        "    if (n % 2 == 0) {\n",
        "        info.divisor = 2;\n",
        "        return info;\n",
        "    }\n",
        "    for (long long d = 3; d*d <= n; d+=2) {\n",
        "        if (n % d == 0) {\n",
        "            info.divisor = d;\n",
        "            return info;\n",
        "        }\n",
        "    }\n",
        "    info.is_prime = true;\n",
        "    return info;\n",
        "}\n",
        "\n",
        "int main (int argc, char** argv) {\n",
        "    if (argc < 2) {\n",
        "        printf (\"command usage: %s %s\\n\",argv[0],\"n\");\n",
        "        return 1; // abnormal exit\n",
        "    }\n",
        "    long long n = atoll(argv[1]);\n",
        "    prime_info info = is_prime(n);\n",
        "    if (info.is_prime) {\n",
        "        printf (\"The number %lld is prime.\\n\",n);\n",
        "    } else {\n",
        "        printf (\"The number %lld is not prime since %lld divides it.\\n\",n,info.divisor);\n",
        "    }\n",
        "}"
      ],
      "metadata": {
        "colab": {
          "base_uri": "https://localhost:8080/"
        },
        "id": "_o_KaJUNOSJO",
        "outputId": "77d0c370-df31-4c3d-aef9-f7583c1802ff"
      },
      "execution_count": 2,
      "outputs": [
        {
          "output_type": "stream",
          "name": "stdout",
          "text": [
            "Writing fun_prime_v3.c\n"
          ]
        }
      ]
    },
    {
      "cell_type": "code",
      "source": [
        "!gcc -o fun_prime_v3 fun_prime_v3.c"
      ],
      "metadata": {
        "id": "B3vVaPkTPXHP"
      },
      "execution_count": 3,
      "outputs": []
    },
    {
      "cell_type": "code",
      "source": [
        "!./fun_prime_v3 5261656080911617"
      ],
      "metadata": {
        "colab": {
          "base_uri": "https://localhost:8080/"
        },
        "id": "FK4HWhRiPa6J",
        "outputId": "cd03cf5e-a785-4abd-a725-a133dbe8b7f0"
      },
      "execution_count": 4,
      "outputs": [
        {
          "output_type": "stream",
          "name": "stdout",
          "text": [
            "The number 5261656080911617 is prime.\n"
          ]
        }
      ]
    },
    {
      "cell_type": "code",
      "source": [
        "!./fun_prime_v3 3439315899953761"
      ],
      "metadata": {
        "colab": {
          "base_uri": "https://localhost:8080/"
        },
        "id": "b_TODd4UPfnf",
        "outputId": "66c39768-ea9f-4325-82cf-e942f4d479d7"
      },
      "execution_count": 5,
      "outputs": [
        {
          "output_type": "stream",
          "name": "stdout",
          "text": [
            "The number 3439315899953761 is not prime since 58645681 divides it.\n"
          ]
        }
      ]
    },
    {
      "cell_type": "markdown",
      "source": [
        "# Part 2 : Finding the 2d Point Farthest from the Origin\n"
      ],
      "metadata": {
        "id": "_OUMAYsjni2f"
      }
    },
    {
      "cell_type": "markdown",
      "source": [
        "## Let's start by creating a file containing 9 points in 2d."
      ],
      "metadata": {
        "id": "ctY66x8ETOiS"
      }
    },
    {
      "cell_type": "code",
      "execution_count": 6,
      "metadata": {
        "colab": {
          "base_uri": "https://localhost:8080/"
        },
        "id": "Irm84Ng9Q_h3",
        "outputId": "621685f9-b3ba-4584-e8db-4a2a0f5c827f"
      },
      "outputs": [
        {
          "output_type": "stream",
          "name": "stdout",
          "text": [
            "Writing points9.txt\n"
          ]
        }
      ],
      "source": [
        "%%writefile points9.txt\n",
        "3 4\n",
        "1 2\n",
        "-1 5\n",
        "-2 4\n",
        "4 3\n",
        "-3 2\n",
        "2 5\n",
        "0 3\n",
        "5 1"
      ]
    },
    {
      "cell_type": "markdown",
      "source": [
        "## Here is a Python script that will plot a 2d dataset as a .png image."
      ],
      "metadata": {
        "id": "xZ46Dm60TUR-"
      }
    },
    {
      "cell_type": "code",
      "source": [
        "%%writefile plot2d.py\n",
        "import sys\n",
        "import numpy as np\n",
        "import matplotlib.pyplot as plt\n",
        "\n",
        "# the name of the output file is a command line argument\n",
        "if (len(sys.argv) < 2):\n",
        "    print (\"Command Usage : python3\",sys.argv[0],\"outfile\")\n",
        "    exit(1)\n",
        "outfile = sys.argv[1]\n",
        "\n",
        "# read the data file\n",
        "data = np.loadtxt(sys.stdin)\n",
        "\n",
        "# plot the data\n",
        "plt.gca().set_aspect('equal')\n",
        "plt.scatter(data[:,0],data[:,1],s=50,color='maroon')\n",
        "\n",
        "# save the plot as an image\n",
        "plt.savefig(outfile)"
      ],
      "metadata": {
        "colab": {
          "base_uri": "https://localhost:8080/"
        },
        "id": "qquhOLRMRqBm",
        "outputId": "3a3baffd-bdb5-4926-dd15-483a10efd505"
      },
      "execution_count": 7,
      "outputs": [
        {
          "output_type": "stream",
          "name": "stdout",
          "text": [
            "Writing plot2d.py\n"
          ]
        }
      ]
    },
    {
      "cell_type": "markdown",
      "source": [
        "## Let's plot the points as an image."
      ],
      "metadata": {
        "id": "SZD9ZE57TbM_"
      }
    },
    {
      "cell_type": "code",
      "source": [
        "!cat points9.txt | python3 plot2d.py points9.png"
      ],
      "metadata": {
        "id": "85fdkjn_SUqb"
      },
      "execution_count": 8,
      "outputs": []
    },
    {
      "cell_type": "markdown",
      "source": [
        "## Display the points9.png image in the Jupyter notebook."
      ],
      "metadata": {
        "id": "spN263LWTjCd"
      }
    },
    {
      "cell_type": "code",
      "source": [
        "from IPython import display\n",
        "display.Image(\"points9.png\")"
      ],
      "metadata": {
        "colab": {
          "base_uri": "https://localhost:8080/",
          "height": 497
        },
        "id": "I-4jX5BdSZ-S",
        "outputId": "c5b37004-308d-45cb-e59b-df881d17c9aa"
      },
      "execution_count": 9,
      "outputs": [
        {
          "output_type": "execute_result",
          "data": {
            "image/png": "[encoded data removed]",
            "text/plain": [
              "<IPython.core.display.Image object>"
            ]
          },
          "metadata": {},
          "execution_count": 9
        }
      ]
    },
    {
      "cell_type": "markdown",
      "source": [
        "## Let's write a C program that finds the 2d point farthest from the origin.\n",
        "\n",
        "## Note that this problem is equivalent to maximizing the length of the input vectors.  \n",
        "\n",
        "## Recall that the length of a vector in $\\mathbb{R}^2$ is given by\n",
        "$$\\Large{\\| x \\| = \\sqrt{ x_1^2 + x_2^2}}$$\n",
        "\n",
        "## Since for positive numbers $x$, $y$ we have that $x^2 > y^2$ if and only if $x > y$, maximizing $\\| x \\|$ is equivalent to maximizing the length squared:\n",
        "$$\\Large{\\| x \\|^2 = x_1^2 + x_2^2}$$\n",
        "\n",
        "## This trick allows us to avoid the use of the *sqrt* function which is expensive to compute.\n",
        "\n",
        "## Here is a short *proof* of the key result:  Suppose $x > 0$ and $y > 0$.  Then\n",
        "$$x^2 > y^2 \\Leftrightarrow x^2 - y^2 > 0 \\Leftrightarrow (x-y)(x+y) > 0 \\Leftrightarrow x-y > 0 \\Leftrightarrow x > y$$\n",
        "\n"
      ],
      "metadata": {
        "id": "rfEWxqwXdzs-"
      }
    },
    {
      "cell_type": "code",
      "source": [
        "%%writefile farthest.c\n",
        "#include <stdio.h>\n",
        "\n",
        "typedef struct {\n",
        "    float x,y;\n",
        "} vec2;\n",
        "\n",
        "float vec2_len_sq (vec2 v) {\n",
        "    return v.x*v.x + v.y*v.y;\n",
        "}\n",
        "\n",
        "int main () {\n",
        "    vec2 farthest;\n",
        "    float max_len_sq = 0;\n",
        "    vec2 next;\n",
        "    while (scanf(\"%f %f\",&(next.x),&(next.y)) == 2) {\n",
        "        float len_sq = vec2_len_sq(next);\n",
        "        if (len_sq > max_len_sq) {\n",
        "            max_len_sq = len_sq;\n",
        "            farthest = next;\n",
        "        }\n",
        "    }\n",
        "    printf (\"The point farthest from the origin is (%.2f,%.2f)\\n\",\n",
        "            farthest.x,farthest.y);\n",
        "}"
      ],
      "metadata": {
        "colab": {
          "base_uri": "https://localhost:8080/"
        },
        "id": "0NGT0lQKccyq",
        "outputId": "661c3791-7cca-4a91-ad08-9f11d1080c6e"
      },
      "execution_count": 10,
      "outputs": [
        {
          "output_type": "stream",
          "name": "stdout",
          "text": [
            "Writing farthest.c\n"
          ]
        }
      ]
    },
    {
      "cell_type": "code",
      "source": [
        "!gcc -o farthest farthest.c"
      ],
      "metadata": {
        "id": "IdC9u-KefPpY"
      },
      "execution_count": 11,
      "outputs": []
    },
    {
      "cell_type": "code",
      "source": [
        "cat points9.txt | ./farthest"
      ],
      "metadata": {
        "colab": {
          "base_uri": "https://localhost:8080/"
        },
        "id": "vKVnyDqEknx9",
        "outputId": "435ea6dc-da8d-47fc-8330-812c0a31faad"
      },
      "execution_count": 12,
      "outputs": [
        {
          "output_type": "stream",
          "name": "stdout",
          "text": [
            "The point farthest from the origin is (2.00,5.00)\n"
          ]
        }
      ]
    },
    {
      "cell_type": "markdown",
      "source": [
        "# Part 3 : Finding the Extreme Pair of Points\n",
        "\n",
        "## In the next example we wish to find the pair of points that are farthest apart.  \n",
        "\n",
        "## We will call this pair the **extreme pair**.  \n",
        "\n",
        "## To find the pair with the maximum distance we will need to maximize\n",
        "$$\\Large{\\| u - v \\|}$$\n",
        "## over all possible pairs of points which is equivalent to maximizing\n",
        "$$\\Large{\\| u - v \\|^2}$$\n",
        "\n",
        "## Given $n$ points, there are $\\binom{n}{2} = \\frac{n(n-1)}{2}$ possible pairs of points.  \n",
        "\n",
        "## A proof of this fact is that you first pick a point (n choices) and then a second point (n-1 choices) but then you have counted each pair twice since (x,y) and (y,x) are the same pair!\n",
        "\n",
        "## When enumerating all pairs of points we will use the indices $0, 1, 2, ..., n-1$ of the points.   \n",
        "\n",
        "## We can avoid repeating the pairs by only counting pairs $(i,j)$ such that $i < j$.  \n",
        "\n",
        "## Note that this approach also avoids counting $(i,i)$ as a pair."
      ],
      "metadata": {
        "id": "znfRahHlqIBc"
      }
    },
    {
      "cell_type": "markdown",
      "source": [
        "## We will store the 2d points in an **array of structures**.\n",
        "\n",
        "## We assume that the first line of the datafile contains the number of points.\n",
        "\n",
        "## Here is a 10 point datafile that includes the number of points in the first line."
      ],
      "metadata": {
        "id": "nbGn8hJ1xPlk"
      }
    },
    {
      "cell_type": "code",
      "source": [
        "%%writefile points10.txt\n",
        "10\n",
        "3 4\n",
        "1 2\n",
        "-1 5\n",
        "-2 4\n",
        "4 3\n",
        "-3 2\n",
        "2 5\n",
        "0 3\n",
        "5 4\n",
        "2 1"
      ],
      "metadata": {
        "colab": {
          "base_uri": "https://localhost:8080/"
        },
        "id": "y6ym1VltVuBb",
        "outputId": "a7bcd18a-a317-42fe-97c2-7f4b1adc40db"
      },
      "execution_count": 13,
      "outputs": [
        {
          "output_type": "stream",
          "name": "stdout",
          "text": [
            "Writing points10.txt\n"
          ]
        }
      ]
    },
    {
      "cell_type": "markdown",
      "source": [
        "## We assume that the number of points in the dataset is small so that our array of 2d point structures will easily fit into  stack memory.  \n",
        "\n",
        "## **Later we will overcome this limitation by storing our datasets on the heap.**\n",
        "\n",
        "## Note that we also write a function to read in a 2d dataset."
      ],
      "metadata": {
        "id": "ChyTOEscVbca"
      }
    },
    {
      "cell_type": "code",
      "source": [
        "%%writefile extreme.c\n",
        "#include <stdio.h>\n",
        "#include <stdlib.h>\n",
        "\n",
        "typedef struct {\n",
        "    float x,y;\n",
        "} vec2;\n",
        "\n",
        "float vec2_dist_sq (vec2 u, vec2 v) {\n",
        "    return (u.x-v.x)*(u.x-v.x)+(u.y-v.y)*(u.y-v.y);\n",
        "}\n",
        "\n",
        "void vec2_read_dataset (vec2* data, int len) {\n",
        "    for (int i=0;i<len;i++) {\n",
        "        if (scanf(\"%f %f\",&(data[i].x),&(data[i].y)) != 2) {\n",
        "            printf (\"error reading dataset\\n\");\n",
        "            exit (1);\n",
        "        }\n",
        "    }\n",
        "}\n",
        "\n",
        "typedef struct {\n",
        "    float max_dist_sq;\n",
        "    int extreme_1, extreme_2;\n",
        "} extreme_info;\n",
        "\n",
        "extreme_info extreme_pair (vec2* data, int num_points) {\n",
        "    extreme_info info = { 0, -1, -1 };\n",
        "    for (int i=0;i<num_points-1;i++) {\n",
        "        for (int j=i+1;j<num_points;j++) {\n",
        "            float dist_sq = vec2_dist_sq(data[i],data[j]);\n",
        "            if (dist_sq > info.max_dist_sq) {\n",
        "                info.max_dist_sq = dist_sq;\n",
        "                info.extreme_1 = i;\n",
        "                info.extreme_2 = j;\n",
        "            }\n",
        "        }\n",
        "    }\n",
        "    return info;\n",
        "}\n",
        "\n",
        "int main () {\n",
        "\n",
        "    // read dataset\n",
        "    int len;\n",
        "    if (scanf(\"%d\",&len) != 1) {\n",
        "        printf (\"error reading the length of the dataset\\n\");\n",
        "        return 1;\n",
        "    }\n",
        "    vec2 data[len];\n",
        "    vec2_read_dataset (data,len);\n",
        "\n",
        "    // find the extreme pair\n",
        "    extreme_info info;\n",
        "    info = extreme_pair(data,len);\n",
        "\n",
        "    // print the results\n",
        "    printf (\"The extreme pair has indices (%d,%d)\\n\",info.extreme_1,info.extreme_2);\n",
        "    printf (\"The distance squared between the extreme pair is %g\\n\",info.max_dist_sq);\n",
        "}"
      ],
      "metadata": {
        "colab": {
          "base_uri": "https://localhost:8080/"
        },
        "id": "gvh8z6m2xA6v",
        "outputId": "0d3115c3-b1c8-49fd-f92b-998e2f70010b"
      },
      "execution_count": 14,
      "outputs": [
        {
          "output_type": "stream",
          "name": "stdout",
          "text": [
            "Writing extreme.c\n"
          ]
        }
      ]
    },
    {
      "cell_type": "code",
      "source": [
        "!gcc -o extreme extreme.c"
      ],
      "metadata": {
        "id": "nGVhC8YbzCGx"
      },
      "execution_count": 15,
      "outputs": []
    },
    {
      "cell_type": "code",
      "source": [
        "!cat points10.txt | ./extreme"
      ],
      "metadata": {
        "colab": {
          "base_uri": "https://localhost:8080/"
        },
        "id": "cWOvpvcCzDjd",
        "outputId": "943c87e0-5be5-413a-9bb8-e577d76307aa"
      },
      "execution_count": 16,
      "outputs": [
        {
          "output_type": "stream",
          "name": "stdout",
          "text": [
            "The extreme pair has indices (5,8)\n",
            "The distance squared between the extreme pair is 68\n"
          ]
        }
      ]
    },
    {
      "cell_type": "markdown",
      "source": [
        "## Here is a Python script for visualizing the extreme pair."
      ],
      "metadata": {
        "id": "dR7ncnWLzPV7"
      }
    },
    {
      "cell_type": "code",
      "source": [
        "%%writefile extreme.py\n",
        "import sys\n",
        "import numpy as np\n",
        "import matplotlib.pyplot as plt\n",
        "\n",
        "# the name of the output file is a command line argument\n",
        "if (len(sys.argv) < 2):\n",
        "    print (\"Command Usage : python3\",sys.argv[0],\"outfile\")\n",
        "    exit(1)\n",
        "outfile = sys.argv[1]\n",
        "\n",
        "# read the data file\n",
        "data = np.loadtxt(sys.stdin,skiprows=1)\n",
        "\n",
        "# plot the data\n",
        "plt.gca().set_aspect('equal')\n",
        "plt.scatter(data[:,0],data[:,1],s=50,color='maroon')\n",
        "\n",
        "# plot the special points (if additional command line argments present)\n",
        "for k in range(2,len(sys.argv)):\n",
        "    i = int(sys.argv[k])\n",
        "    plt.scatter (data[i,0],data[i,1],s=100,color='orange')\n",
        "\n",
        "# save the plot as an image\n",
        "plt.savefig(outfile)"
      ],
      "metadata": {
        "colab": {
          "base_uri": "https://localhost:8080/"
        },
        "id": "Zo_dorSSzHze",
        "outputId": "e50e296f-f4e8-4025-c45e-25c37438d788"
      },
      "execution_count": 17,
      "outputs": [
        {
          "output_type": "stream",
          "name": "stdout",
          "text": [
            "Writing extreme.py\n"
          ]
        }
      ]
    },
    {
      "cell_type": "code",
      "source": [
        "!cat points10.txt | python3 extreme.py points10.png 5 8"
      ],
      "metadata": {
        "id": "02fq8dadzh_Q"
      },
      "execution_count": 18,
      "outputs": []
    },
    {
      "cell_type": "code",
      "source": [
        "from IPython import display\n",
        "display.Image(\"points10.png\")"
      ],
      "metadata": {
        "colab": {
          "base_uri": "https://localhost:8080/",
          "height": 497
        },
        "id": "YdlbnpB_zrwJ",
        "outputId": "66dd21d3-b8d8-4c3f-846f-fb3b1f7be59d"
      },
      "execution_count": 19,
      "outputs": [
        {
          "output_type": "execute_result",
          "data": {
            "image/png": "[encoded data removed]",
            "text/plain": [
              "<IPython.core.display.Image object>"
            ]
          },
          "metadata": {},
          "execution_count": 19
        }
      ]
    },
    {
      "cell_type": "markdown",
      "source": [
        "# Part 4 : How are C Structures Passed to Functions?"
      ],
      "metadata": {
        "id": "m1Fd1QqSdysx"
      }
    },
    {
      "cell_type": "markdown",
      "source": [
        "## The following program does not work as expected.  Why not?  "
      ],
      "metadata": {
        "id": "D0jHF7BKeAmS"
      }
    },
    {
      "cell_type": "code",
      "source": [
        "%%writefile add_v1.c\n",
        "#include <stdio.h>\n",
        "\n",
        "typedef struct {\n",
        "    float x,y;\n",
        "} vec2;\n",
        "\n",
        "void vec2_add (vec2 a, vec2 b, vec2 c) {\n",
        "    c.x = a.x + b.x;\n",
        "    c.y = a.y + b.y;\n",
        "}\n",
        "\n",
        "int main () {\n",
        "    vec2 u = { 1.0, 2.0 };\n",
        "    vec2 v = { 2.0, 3.0 };\n",
        "    vec2 w = { 0, 0 };\n",
        "    vec2_add(u,v,w);\n",
        "    printf (\"The sum of u and v is (%.2f, %.2f)\\n\",w.x,w.y);\n",
        "}"
      ],
      "metadata": {
        "id": "vZnHNDI11WLc",
        "colab": {
          "base_uri": "https://localhost:8080/"
        },
        "outputId": "f98746fc-5136-4138-c36a-4ad812f9dd92"
      },
      "execution_count": 20,
      "outputs": [
        {
          "output_type": "stream",
          "name": "stdout",
          "text": [
            "Writing add_v1.c\n"
          ]
        }
      ]
    },
    {
      "cell_type": "code",
      "source": [
        "!gcc -o add_v1 add_v1.c"
      ],
      "metadata": {
        "id": "LGLio-nPeHTK"
      },
      "execution_count": 21,
      "outputs": []
    },
    {
      "cell_type": "code",
      "source": [
        "!./add_v1"
      ],
      "metadata": {
        "colab": {
          "base_uri": "https://localhost:8080/"
        },
        "id": "x-aM9qrbeIFB",
        "outputId": "c0fc1e47-fcfc-41dd-8eb4-ec8aca061afd"
      },
      "execution_count": 22,
      "outputs": [
        {
          "output_type": "stream",
          "name": "stdout",
          "text": [
            "The sum of u and v is (0.00, 0.00)\n"
          ]
        }
      ]
    },
    {
      "cell_type": "markdown",
      "source": [
        "## C passes structures to functions **by value** (i.e. by copy)!"
      ],
      "metadata": {
        "id": "opkqBlHyeNkS"
      }
    },
    {
      "cell_type": "markdown",
      "source": [
        "## There is an easy way to fix the problem in this case!"
      ],
      "metadata": {
        "id": "tkVrU4BTeoHt"
      }
    },
    {
      "cell_type": "code",
      "source": [
        "%%writefile add_v2.c\n",
        "#include <stdio.h>\n",
        "\n",
        "typedef struct {\n",
        "    float x,y;\n",
        "} vec2;\n",
        "\n",
        "vec2 vec2_add (vec2 a, vec2 b) {\n",
        "    vec2 c = { a.x + b.x, a.y + b.y };\n",
        "    return c;\n",
        "}\n",
        "\n",
        "int main () {\n",
        "    vec2 u = { 1.0, 2.0 };\n",
        "    vec2 v = { 2.0, 3.0 };\n",
        "    vec2 w = vec2_add(u,v);\n",
        "    printf (\"The sum of u and v is (%.2f, %.2f)\\n\",w.x,w.y);\n",
        "}"
      ],
      "metadata": {
        "colab": {
          "base_uri": "https://localhost:8080/"
        },
        "id": "mZPMKsaIeLGB",
        "outputId": "eb1ad239-fd77-4825-eafa-360ea65e1f8b"
      },
      "execution_count": 23,
      "outputs": [
        {
          "output_type": "stream",
          "name": "stdout",
          "text": [
            "Writing add_v2.c\n"
          ]
        }
      ]
    },
    {
      "cell_type": "code",
      "source": [
        "!gcc -o add_v2 add_v2.c"
      ],
      "metadata": {
        "id": "Ab5Za7HhfCAx"
      },
      "execution_count": 24,
      "outputs": []
    },
    {
      "cell_type": "code",
      "source": [
        "!./add_v2"
      ],
      "metadata": {
        "colab": {
          "base_uri": "https://localhost:8080/"
        },
        "id": "EccV8HwhfEeF",
        "outputId": "edc03fcb-ad23-436f-eb81-5ea80c948243"
      },
      "execution_count": 25,
      "outputs": [
        {
          "output_type": "stream",
          "name": "stdout",
          "text": [
            "The sum of u and v is (3.00, 5.00)\n"
          ]
        }
      ]
    },
    {
      "cell_type": "markdown",
      "source": [
        "## However there are some pitfalls to keep in mind when passing C structures by value.  \n",
        "\n",
        "## Discussion: Why does the following code take so long to run?"
      ],
      "metadata": {
        "id": "9VtJk2UyfOXb"
      }
    },
    {
      "cell_type": "code",
      "source": [
        "%%writefile bigvector_v1.c\n",
        "#include <stdio.h>\n",
        "\n",
        "typedef struct {\n",
        "    float x[200000];\n",
        "} vec200k;\n",
        "\n",
        "vec200k vec200k_set (vec200k v, int i, float c) {\n",
        "    v.x[i] = c;\n",
        "    return v;\n",
        "}\n",
        "\n",
        "int main () {\n",
        "    vec200k vec;\n",
        "    for (int i=0;i<200000;i++) {\n",
        "        vec = vec200k_set (vec,i,i);\n",
        "    }\n",
        "    printf (\"x[123456] = %.2f\",vec.x[123456]);\n",
        "}"
      ],
      "metadata": {
        "colab": {
          "base_uri": "https://localhost:8080/"
        },
        "id": "ttVu6SjxfGJb",
        "outputId": "0dca4b32-6873-481c-b396-87af6e77b6d6"
      },
      "execution_count": 26,
      "outputs": [
        {
          "output_type": "stream",
          "name": "stdout",
          "text": [
            "Writing bigvector_v1.c\n"
          ]
        }
      ]
    },
    {
      "cell_type": "code",
      "source": [
        "!gcc -o bigvector_v1 bigvector_v1.c"
      ],
      "metadata": {
        "id": "7tiU_pRTfoU3"
      },
      "execution_count": 27,
      "outputs": []
    },
    {
      "cell_type": "code",
      "source": [
        "!time ./bigvector_v1"
      ],
      "metadata": {
        "colab": {
          "base_uri": "https://localhost:8080/"
        },
        "id": "kpSigUeefrD9",
        "outputId": "6bb76852-260c-468c-ce1a-6374a2e05ddd"
      },
      "execution_count": 28,
      "outputs": [
        {
          "output_type": "stream",
          "name": "stdout",
          "text": [
            "x[123456] = 123456.00\n",
            "real\t0m26.075s\n",
            "user\t0m20.826s\n",
            "sys\t0m0.126s\n"
          ]
        }
      ]
    },
    {
      "cell_type": "markdown",
      "source": [
        "# Part 5 : Passing C Structures by Pointer\n",
        "\n",
        "## Like integers, floats, etc., we can pass C structures to function by pointer.\n",
        "\n",
        "## Here is a third version of our add function that works as expected.  \n",
        "\n",
        "## In particular, we pass the third argument by pointer.\n",
        "\n",
        "## Note that c->x is short for (*c).x"
      ],
      "metadata": {
        "id": "HQcPp4-VgjQs"
      }
    },
    {
      "cell_type": "code",
      "source": [
        "%%writefile add_v3.c\n",
        "#include <stdio.h>\n",
        "\n",
        "typedef struct {\n",
        "    float x,y;\n",
        "} vec2;\n",
        "\n",
        "void vec2_add (vec2 a, vec2 b, vec2* c) {\n",
        "    c->x = a.x + b.x;\n",
        "    c->y = a.y + b.y;\n",
        "}\n",
        "\n",
        "int main () {\n",
        "    vec2 u = { 1.0, 2.0 };\n",
        "    vec2 v = { 2.0, 3.0 };\n",
        "    vec2 w = { 0, 0 };\n",
        "    vec2_add(u,v,&w);\n",
        "    printf (\"The sum of u and v is (%.2f, %.2f)\\n\",w.x,w.y);\n",
        "}"
      ],
      "metadata": {
        "colab": {
          "base_uri": "https://localhost:8080/"
        },
        "id": "FjLddKr5f0xc",
        "outputId": "53e6177e-817e-41c0-c37b-4bee69c5dbfb"
      },
      "execution_count": 29,
      "outputs": [
        {
          "output_type": "stream",
          "name": "stdout",
          "text": [
            "Writing add_v3.c\n"
          ]
        }
      ]
    },
    {
      "cell_type": "code",
      "source": [
        "!gcc -o add_v3 add_v3.c"
      ],
      "metadata": {
        "id": "lGcR8r4HhkW2"
      },
      "execution_count": 30,
      "outputs": []
    },
    {
      "cell_type": "code",
      "source": [
        "!./add_v3"
      ],
      "metadata": {
        "colab": {
          "base_uri": "https://localhost:8080/"
        },
        "id": "gKUIRaz1hnJC",
        "outputId": "ef9ce5f1-d47e-4840-a9eb-8260bb29a907"
      },
      "execution_count": 31,
      "outputs": [
        {
          "output_type": "stream",
          "name": "stdout",
          "text": [
            "The sum of u and v is (3.00, 5.00)\n"
          ]
        }
      ]
    },
    {
      "cell_type": "markdown",
      "source": [
        "## **Passing large C structures by value in C is rarely a good idea.**\n",
        "\n",
        "## Instead we should always pass large C structures by pointer for efficiency.  \n",
        "\n",
        "## Here is version 2 of bigvector that is **drastically** more efficient than version 1.\n",
        "\n",
        "## In fact, if we pass the large C structure by pointer for efficiency, we do not need the return value since we can modify the structure indirectly through the pointer!"
      ],
      "metadata": {
        "id": "K2nj3XbEi0Xl"
      }
    },
    {
      "cell_type": "code",
      "source": [
        "%%writefile bigvector_v2.c\n",
        "#include <stdio.h>\n",
        "\n",
        "typedef struct {\n",
        "    float x[200000];\n",
        "} vec200k;\n",
        "\n",
        "void vec200k_set (vec200k* v, int i, float c) {\n",
        "    v->x[i] = c;\n",
        "}\n",
        "\n",
        "int main () {\n",
        "    vec200k vec;\n",
        "    for (int i=0;i<200000;i++) {\n",
        "        vec200k_set (&vec,i,i);\n",
        "    }\n",
        "    printf (\"x[123456] = %.2f\",vec.x[123456]);\n",
        "}"
      ],
      "metadata": {
        "colab": {
          "base_uri": "https://localhost:8080/"
        },
        "id": "3cwVTG0Rhpd9",
        "outputId": "7c756022-c277-49d2-f813-8dff8a5e43ef"
      },
      "execution_count": 32,
      "outputs": [
        {
          "output_type": "stream",
          "name": "stdout",
          "text": [
            "Writing bigvector_v2.c\n"
          ]
        }
      ]
    },
    {
      "cell_type": "code",
      "source": [
        "!gcc -o bigvector_v2 bigvector_v2.c"
      ],
      "metadata": {
        "id": "NBWb-zk1jKlS"
      },
      "execution_count": 33,
      "outputs": []
    },
    {
      "cell_type": "code",
      "source": [
        "!time ./bigvector_v2"
      ],
      "metadata": {
        "colab": {
          "base_uri": "https://localhost:8080/"
        },
        "id": "7iDQ7acSjMYa",
        "outputId": "6e5fc21e-7202-445b-d3f7-a33f991d21a3"
      },
      "execution_count": 34,
      "outputs": [
        {
          "output_type": "stream",
          "name": "stdout",
          "text": [
            "x[123456] = 123456.00\n",
            "real\t0m0.005s\n",
            "user\t0m0.001s\n",
            "sys\t0m0.002s\n"
          ]
        }
      ]
    },
    {
      "cell_type": "code",
      "source": [],
      "metadata": {
        "id": "eMRqujgMjreq"
      },
      "execution_count": 34,
      "outputs": []
    }
  ]
}