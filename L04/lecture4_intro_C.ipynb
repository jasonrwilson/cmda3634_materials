{
  "nbformat": 4,
  "nbformat_minor": 0,
  "metadata": {
    "colab": {
      "provenance": []
    },
    "kernelspec": {
      "name": "python3",
      "display_name": "Python 3"
    },
    "language_info": {
      "name": "python"
    }
  },
  "cells": [
    {
      "cell_type": "markdown",
      "source": [
        "# Lecture 4 : Introduction to C Programming"
      ],
      "metadata": {
        "id": "UV8H0tuf8IUk"
      }
    },
    {
      "cell_type": "markdown",
      "source": [
        "## Here are some major reasons for learning C (and why we use C in CMDA 3634):\n",
        "\n",
        "* ### C code runs much faster than code written in high level languages such as Python and R.\n",
        "\n",
        "* ### C code runs faster than Java code although the speedups are not as extreme as when comparing C to Python.\n",
        "\n",
        "* ### Java and C share a large amount of syntax (in fact Java is a derivative of C).\n",
        "\n",
        "* ### It is good to start with C if you want to learn more advanced programming languages such as C++.\n",
        "\n",
        "* ### Python and C can be combined to get the performance of C along with the high level programming of Python.  \n",
        "\n",
        "* ### Supercomputers are usually programmed in C, C++, or Fortran (with extensions to handle parallel execution).\n",
        "\n",
        "* ### Most popular parallel computing libraries such as OpenMP, MPI, and CUDA work best with C or C++."
      ],
      "metadata": {
        "id": "iKkKrELE8bzy"
      }
    },
    {
      "cell_type": "markdown",
      "source": [
        "# Part 1 : Our First C Program\n",
        "\n",
        "## We start by creating a C program to print *Hello World!*."
      ],
      "metadata": {
        "id": "uPZKX8NB-6lF"
      }
    },
    {
      "cell_type": "code",
      "source": [
        "%%writefile hello.c\n",
        "#include <stdio.h>\n",
        "\n",
        "int main () {\n",
        "    printf (\"Hello World!\\n\");\n",
        "\n",
        "    /* program completed successfully */\n",
        "    // this return statement is optional in C99\n",
        "    return 0;\n",
        "}"
      ],
      "metadata": {
        "colab": {
          "base_uri": "https://localhost:8080/"
        },
        "id": "cX4LzlOe_Mtz",
        "outputId": "846d31e0-ea5f-4b2d-9742-5bb6e710ce60"
      },
      "execution_count": 1,
      "outputs": [
        {
          "output_type": "stream",
          "name": "stdout",
          "text": [
            "Overwriting hello.c\n"
          ]
        }
      ]
    },
    {
      "cell_type": "markdown",
      "source": [
        "## Notes:\n",
        "* ### Line 1 is the magic command that creates the source file *hello.c*.  This line is only needed if you want to write C source code within a Jupyter notebook.  \n",
        "* ### Line 2 instructs the C preprocessor to include the **header file** that includes the interfaces to the standard input/output functions such as *printf*.  \n",
        "* ### Lines 4-10 are the main function that is run when the compiled program is executed.  Every C program **must** have a main function.  \n",
        "* ### Line 5 prints the message using the *printf* function which stands for **print formatted**.  The \\n at the end of the \"Hello World!\\n\" **string literal** (a sequence of characters or escape sequences enclosed in double quotation mark symbols) stands for **new line**.\n",
        "* ### Lines 7-8 are C comments.  The C++/Java style comment syntax used in line 8 is valid in C99 and later.\n",
        "* ### Line 9 returns 0 which indicates that the program completed successfully.  We can use, for example, *return 1*, to indicate that the program encountered an error and did not complete successfully.  In C99 and later, this statement is optional.  If it is not included at the end of the main function of C99 and later, the return value will automatically be set to 0.  \n",
        "* ### **Going forward we will omit the *return 0* statement at the end of main functions for brevity.**"
      ],
      "metadata": {
        "id": "pAqQoe1d_p_L"
      }
    },
    {
      "cell_type": "markdown",
      "source": [
        "## The file *hello.c* is called a C **source file**.  It must be compiled into a C **program** using a C **compiler**."
      ],
      "metadata": {
        "id": "AkHzKud0OtUt"
      }
    },
    {
      "cell_type": "code",
      "source": [
        "!gcc -o hello hello.c"
      ],
      "metadata": {
        "id": "DsmyFw8ROsHZ"
      },
      "execution_count": 2,
      "outputs": []
    },
    {
      "cell_type": "markdown",
      "source": [
        "## Notes:\n",
        "\n",
        "* ### We use the **gcc** (GNU compiler collections) compiler.  \n",
        "\n",
        "* ### Linux commands such as *gcc* given inside of a Jupyter notebook have to be preceded by the ! symbol.\n",
        "\n",
        "* ### The *-o hello* part of the compilation command names the program.  If this part is not included the program will be called *a.out*\n"
      ],
      "metadata": {
        "id": "-mCHg0d7Chsg"
      }
    },
    {
      "cell_type": "markdown",
      "source": [
        "## Finally, we can run the *hello* program created by the compiler from the C source code hello.c using the command *!./hello*"
      ],
      "metadata": {
        "id": "6Gs0e6czPNto"
      }
    },
    {
      "cell_type": "code",
      "source": [
        "!./hello"
      ],
      "metadata": {
        "colab": {
          "base_uri": "https://localhost:8080/"
        },
        "id": "IsPPKKeV8ain",
        "outputId": "2d9bd00f-32c2-4c72-8a9b-e09e0a9d9700"
      },
      "execution_count": 3,
      "outputs": [
        {
          "output_type": "stream",
          "name": "stdout",
          "text": [
            "Hello World!\n"
          ]
        }
      ]
    },
    {
      "cell_type": "markdown",
      "source": [
        "# Part 2 : Determining if a number is prime in C\n"
      ],
      "metadata": {
        "id": "h9icyo4FHIGT"
      }
    },
    {
      "cell_type": "markdown",
      "source": [
        "## One way to determine if an integer $n$ is prime is to check all integers $d$ between 2 and $\\sqrt{n}$ to see if any are a factor of n.\n",
        "\n",
        "## Why do we not have to look for factors $d$ larger than $\\sqrt{n}$?\n",
        "\n",
        "## Fortunately, we can implement this algorithm without explicity calculating $\\sqrt{n}$.\n",
        "\n"
      ],
      "metadata": {
        "id": "DRNK5q1vHZyZ"
      }
    },
    {
      "cell_type": "markdown",
      "source": [
        "## Here is our first attempt at a primality test in C."
      ],
      "metadata": {
        "id": "ygQgaI4qIxFs"
      }
    },
    {
      "cell_type": "code",
      "source": [
        "%%writefile prime_v1.c\n",
        "#include <stdio.h>\n",
        "\n",
        "int main () {\n",
        "    int n = 1234567;\n",
        "    for (int d = 2; d*d <= n; d++) {\n",
        "        if (n % d == 0) {\n",
        "            printf (\"The number %d is not prime since %d divides it.\\n\",n,d);\n",
        "            return 0;\n",
        "        }\n",
        "    }\n",
        "    printf (\"The number %d is prime.\\n\",n);\n",
        "}"
      ],
      "metadata": {
        "colab": {
          "base_uri": "https://localhost:8080/"
        },
        "id": "Xm_aESyEI7nf",
        "outputId": "f0ff1544-41c8-44d2-f419-8417be0d9013"
      },
      "execution_count": 4,
      "outputs": [
        {
          "output_type": "stream",
          "name": "stdout",
          "text": [
            "Overwriting prime_v1.c\n"
          ]
        }
      ]
    },
    {
      "cell_type": "markdown",
      "source": [
        "## Notes:\n",
        "\n",
        "* ### Lines 6-11 contain a C for loop.  The variable *d* is called a loop counter.  For loops in C have the same syntax and behavior as for loops in Java.  Note that by ending the loop when $d^2 > n$ we avoid computing $\\sqrt{n}$.\n",
        "* ### Lines 7-10 contain a C if statement.  If statements have the same syntax and behavior as if statements in Java.  \n",
        "* ### In line 7 we check to see if d divides n by using the mod operator.  \n",
        "* ### **Note that we use == to check for equality rather than =**\n",
        "* ### Line 8 uses the *printf* function to print that n is not prime.  Note that *%d* is the C format specifier for **int**.  Also note that we can use printf with multiple format specifiers and arguments.\n",
        "* ### In line 9 we use *return 0* to exit the main function with a successful termination.  \n",
        "* ### If we make it to line 12, then $n$ is prime."
      ],
      "metadata": {
        "id": "2qyail5ugNN5"
      }
    },
    {
      "cell_type": "code",
      "source": [
        "!gcc -o prime_v1 prime_v1.c"
      ],
      "metadata": {
        "id": "BKBmPKEpKGTi"
      },
      "execution_count": 5,
      "outputs": []
    },
    {
      "cell_type": "code",
      "source": [
        "!./prime_v1"
      ],
      "metadata": {
        "colab": {
          "base_uri": "https://localhost:8080/"
        },
        "id": "lOiQw-fxKMva",
        "outputId": "1f4e82ab-0be4-4782-f335-8d6469a4227d"
      },
      "execution_count": 6,
      "outputs": [
        {
          "output_type": "stream",
          "name": "stdout",
          "text": [
            "The number 1234567 is not prime since 127 divides it.\n"
          ]
        }
      ]
    },
    {
      "cell_type": "markdown",
      "source": [
        "## Exercise 1\n",
        "\n",
        "* ### Recompile and run the program with $n=161218349$.  What do you observe?\n",
        "\n",
        "* ### It is known that the number $n=5261656080911617$ is prime.  Recompile and run the program with this value of $n$.  What do you observe?"
      ],
      "metadata": {
        "id": "0vQIOEHyIihN"
      }
    },
    {
      "cell_type": "markdown",
      "source": [
        "# Part 3 : Handling Large Integers\n",
        "\n",
        "## A C int (and Java int) has 32 bits of storage.\n",
        "\n",
        "* ### One of the 32 bits is a sign bit.\n",
        "* ### A C int has a range of $-2^{31}$ to $2^{31}-1$ or $-2147483648$ to $2147483647$.\n",
        "\n",
        "## A C long long (and Java long) has 64 bits of storage.  \n",
        "\n",
        "* ### One of the 64 bits is a sign bit.  \n",
        "* ### A C long long has a range of $-2^{63}$ to $2^{63}-1$ or $-9223372036854775808$ to $9223372036854775807$."
      ],
      "metadata": {
        "id": "_Ni7iZRMp7bZ"
      }
    },
    {
      "cell_type": "markdown",
      "source": [
        "## Here is a modification of our primality tester that handles larger $n$."
      ],
      "metadata": {
        "id": "14e7SqUPj_oU"
      }
    },
    {
      "cell_type": "code",
      "source": [
        "%%writefile prime_v2.c\n",
        "#include <stdio.h>\n",
        "\n",
        "int main () {\n",
        "    long long n = 5261656080911617;\n",
        "    for (long long d = 2; d*d <= n; d++) {\n",
        "        if (n % d == 0) {\n",
        "            printf (\"The number %lld is not prime since %lld divides it.\\n\",n,d);\n",
        "            return 0;\n",
        "        }\n",
        "    }\n",
        "    printf (\"The number %lld is prime.\\n\",n);\n",
        "}"
      ],
      "metadata": {
        "colab": {
          "base_uri": "https://localhost:8080/"
        },
        "id": "Hbe_egC2nJDN",
        "outputId": "70e92550-ecab-4539-aeb7-a5795862899b"
      },
      "execution_count": 7,
      "outputs": [
        {
          "output_type": "stream",
          "name": "stdout",
          "text": [
            "Overwriting prime_v2.c\n"
          ]
        }
      ]
    },
    {
      "cell_type": "markdown",
      "source": [
        "## Notes:\n",
        "* ### On lines 8 and 12 we use the format specifier *%lld* for variables of type *long long*.\n",
        "* ### In Java's version of printf we use %d for variables of type *int* and variables of type *long*."
      ],
      "metadata": {
        "id": "lbxpDdI3kHHk"
      }
    },
    {
      "cell_type": "code",
      "source": [
        "!gcc -o prime_v2 prime_v2.c"
      ],
      "metadata": {
        "id": "edOB-3UBnh8z"
      },
      "execution_count": 8,
      "outputs": []
    },
    {
      "cell_type": "code",
      "source": [
        "!./prime_v2"
      ],
      "metadata": {
        "colab": {
          "base_uri": "https://localhost:8080/"
        },
        "id": "hbfVfj3Dnn_1",
        "outputId": "b6fcd382-1710-4102-ae52-1af93ba68c05"
      },
      "execution_count": 9,
      "outputs": [
        {
          "output_type": "stream",
          "name": "stdout",
          "text": [
            "The number 5261656080911617 is prime.\n"
          ]
        }
      ]
    },
    {
      "cell_type": "markdown",
      "source": [
        "# Part 4 : Command Line Arguments"
      ],
      "metadata": {
        "id": "Ska9vx2nQINC"
      }
    },
    {
      "cell_type": "markdown",
      "source": [
        "## Command line arguments allow us to to alter the behavior of our program at runtime.  \n",
        "\n",
        "## Here is a C program that prints out its command line arguments (one per line).  "
      ],
      "metadata": {
        "id": "NHvQ1ld9S4Oj"
      }
    },
    {
      "cell_type": "code",
      "source": [
        "%%writefile args.c\n",
        "#include <stdio.h>\n",
        "\n",
        "int main (int argc, char** argv) {\n",
        "    for (int i=0;i<argc;i++) {\n",
        "        printf (\"%s\\n\",argv[i]);\n",
        "    }\n",
        "}"
      ],
      "metadata": {
        "colab": {
          "base_uri": "https://localhost:8080/"
        },
        "id": "R7IEp4FQTdAn",
        "outputId": "6ffe14d5-b91b-461b-a854-a23615e04fbb"
      },
      "execution_count": 10,
      "outputs": [
        {
          "output_type": "stream",
          "name": "stdout",
          "text": [
            "Overwriting args.c\n"
          ]
        }
      ]
    },
    {
      "cell_type": "markdown",
      "source": [
        "## Notes:\n",
        "* ### Line 4 includes the optional arguments *argc* and *argv*.  The variable *argc* tells us the number of command line arguments and *argv* is an array of pointers to the command line arguments.  We will discuss arrays and pointers in detail later.\n",
        "* ### One key difference between arrays in C versus Java is that arrays in C are not objects and do not know how long they are.  \n",
        "* ### Thus when using arrays in C we almost always need a separate variable that contains the array length.  \n",
        "* ### Line 5-7 contain a C for loop.  Note that C (like Java and Python) is a zero-based language which is why we start the loop counter at 0 and go up to argc-1.  \n",
        "* ### Line 6 uses the *printf* function to print one command line argument per line.  Note that *%s* is the C format specifier for **string**.  Unlike Java, C does not have a built in String datatype.  In C, strings are null-terminated arrays of characters.  We will discuss strings in detail later.\n"
      ],
      "metadata": {
        "id": "JS4JRkMmULfN"
      }
    },
    {
      "cell_type": "code",
      "execution_count": 11,
      "metadata": {
        "colab": {
          "base_uri": "https://localhost:8080/"
        },
        "id": "1wxbkk9c8BV_",
        "outputId": "f552a3ff-c148-4113-a7b0-c22dc5397852"
      },
      "outputs": [
        {
          "output_type": "stream",
          "name": "stdout",
          "text": [
            "./args\n",
            "abc\n",
            "123\n",
            "hello\n",
            "world!\n"
          ]
        }
      ],
      "source": [
        "!gcc -o args args.c\n",
        "!./args abc 123 hello world!"
      ]
    },
    {
      "cell_type": "markdown",
      "source": [
        "## Note that argv[0] is just the name of the C command *./args*.\n",
        "## Thus the actual command line arguments are *argv[1]*, *argv[2]*, etc.\n",
        "## In Java the actual command line arguments are *args[0]*, *args[1]*, etc."
      ],
      "metadata": {
        "id": "808Yga0canxv"
      }
    },
    {
      "cell_type": "markdown",
      "source": [
        "## Next let's look at a C program to print a personalized Hello message."
      ],
      "metadata": {
        "id": "8jW1he2WcDA7"
      }
    },
    {
      "cell_type": "code",
      "source": [
        "%%writefile greet_v1.c\n",
        "#include <stdio.h>\n",
        "\n",
        "int main (int argc, char** argv) {\n",
        "    printf (\"Hello %s!  How are you?\\n\",argv[1]);\n",
        "}"
      ],
      "metadata": {
        "colab": {
          "base_uri": "https://localhost:8080/"
        },
        "id": "-gdZNk5JXxco",
        "outputId": "7db75b44-7ad8-45af-e3f9-c92d950a3cbd"
      },
      "execution_count": 12,
      "outputs": [
        {
          "output_type": "stream",
          "name": "stdout",
          "text": [
            "Overwriting greet_v1.c\n"
          ]
        }
      ]
    },
    {
      "cell_type": "code",
      "source": [
        "!gcc -o greet_v1 greet_v1.c\n",
        "!./greet_v1 Jason"
      ],
      "metadata": {
        "colab": {
          "base_uri": "https://localhost:8080/"
        },
        "id": "Q7G3PmzdcjjZ",
        "outputId": "6fb3a10e-50d2-46fc-ba66-e08df3a03267"
      },
      "execution_count": 13,
      "outputs": [
        {
          "output_type": "stream",
          "name": "stdout",
          "text": [
            "Hello Jason!  How are you?\n"
          ]
        }
      ]
    },
    {
      "cell_type": "code",
      "source": [
        "!./greet_v1"
      ],
      "metadata": {
        "colab": {
          "base_uri": "https://localhost:8080/"
        },
        "id": "KJda3eVtctMl",
        "outputId": "b0267fa9-de0f-4cfd-f381-0fbfacfd7edf"
      },
      "execution_count": 14,
      "outputs": [
        {
          "output_type": "stream",
          "name": "stdout",
          "text": [
            "Hello (null)!  How are you?\n"
          ]
        }
      ]
    },
    {
      "cell_type": "markdown",
      "source": [
        "## Note that running the command without a command line argument gives a strange result.  In particular, we went off the end of the *argv* array and no runtime error was given!  \n",
        "\n",
        "## This example illustrates that C does **not** do arrays bounds checking.  \n",
        "\n",
        "## **Reading or writing past the end (or beginning) of an array in C will not produce a runtime error but will likey produce unexpected results.**\n",
        "\n",
        "## It is important to provide error checking in your code where reading/writing past the end of an array is possible.  One simple way of handling an error is to *return 1* from main which will terminate the program with an abnormal execution status.  \n",
        "\n",
        "## Here is a version of the code with error checking.  Note that if an error is encountered we provide instructions on how to correctly use the command and abnormally terminate the program."
      ],
      "metadata": {
        "id": "CbwLMtr4c5NE"
      }
    },
    {
      "cell_type": "code",
      "source": [
        "%%writefile greet_v2.c\n",
        "#include <stdio.h>\n",
        "\n",
        "int main (int argc, char** argv) {\n",
        "    if (argc < 2) {\n",
        "        printf (\"command usage: %s %s\\n\",argv[0],\"name\");\n",
        "        return 1; // abnormal exit\n",
        "    }\n",
        "    printf (\"Hello %s!  How are you?\",argv[1]);\n",
        "}"
      ],
      "metadata": {
        "colab": {
          "base_uri": "https://localhost:8080/"
        },
        "id": "wfpsN-_BczOw",
        "outputId": "9381e191-bcc2-482c-d63c-d3a0673105dd"
      },
      "execution_count": 15,
      "outputs": [
        {
          "output_type": "stream",
          "name": "stdout",
          "text": [
            "Overwriting greet_v2.c\n"
          ]
        }
      ]
    },
    {
      "cell_type": "code",
      "source": [
        "!gcc -o greet_v2 greet_v2.c\n",
        "!./greet_v2 Jason"
      ],
      "metadata": {
        "colab": {
          "base_uri": "https://localhost:8080/"
        },
        "id": "wOE6JzOVf5ZE",
        "outputId": "7a5f1b47-779a-4a0e-fe9c-8fb7f90a4db2"
      },
      "execution_count": 16,
      "outputs": [
        {
          "output_type": "stream",
          "name": "stdout",
          "text": [
            "Hello Jason!  How are you?"
          ]
        }
      ]
    },
    {
      "cell_type": "code",
      "source": [
        "!./greet_v2"
      ],
      "metadata": {
        "colab": {
          "base_uri": "https://localhost:8080/"
        },
        "id": "oARCman7f8Kf",
        "outputId": "b5c29526-1ea5-42d4-dc9d-5d72491f22db"
      },
      "execution_count": 17,
      "outputs": [
        {
          "output_type": "stream",
          "name": "stdout",
          "text": [
            "command usage: ./greet_v2 name\n"
          ]
        }
      ]
    },
    {
      "cell_type": "markdown",
      "source": [
        "## If no command line arguments are provided, the program terminates with instructions on how to use the program rather than attempt to print a greeting."
      ],
      "metadata": {
        "id": "XGp7sS6pPJho"
      }
    },
    {
      "cell_type": "code",
      "source": [
        "!./greet_v2 Jason Wilson"
      ],
      "metadata": {
        "colab": {
          "base_uri": "https://localhost:8080/"
        },
        "id": "psSEynbCf9i-",
        "outputId": "d0d5bfed-f72b-4cfd-9cfb-bafe556a64af"
      },
      "execution_count": 18,
      "outputs": [
        {
          "output_type": "stream",
          "name": "stdout",
          "text": [
            "Hello Jason!  How are you?"
          ]
        }
      ]
    },
    {
      "cell_type": "markdown",
      "source": [
        "## Extra command line arguments are ignored by our program."
      ],
      "metadata": {
        "id": "pKm3BguxPGkT"
      }
    },
    {
      "cell_type": "markdown",
      "source": [
        "# Part 5 : Primality Test Revisited"
      ],
      "metadata": {
        "id": "8Ro6EM6lPvL7"
      }
    },
    {
      "cell_type": "markdown",
      "source": [
        "## Let's revise our primality test to specifiy $n$ using a command line argument.\n",
        "\n",
        "### We also add an efficiency improvement by first checking to see if the given number is divisible by 2."
      ],
      "metadata": {
        "id": "-YClomLdQUnT"
      }
    },
    {
      "cell_type": "code",
      "source": [
        "%%writefile prime_v3.c\n",
        "#include <stdio.h>\n",
        "#include <stdlib.h>\n",
        "\n",
        "int main (int argc, char** argv) {\n",
        "    if (argc < 2) {\n",
        "        printf (\"command usage: %s %s\\n\",argv[0],\"n\");\n",
        "        return 1; // abnormal exit\n",
        "    }\n",
        "    long long n = atoll(argv[1]);\n",
        "    if (n % 2 == 0) {\n",
        "        printf (\"The number %lld is not prime since 2 divides it\\n\",n);\n",
        "        return 0;\n",
        "    }\n",
        "    for (long long d = 3; d*d <= n; d+=2) {\n",
        "        if (n % d == 0) {\n",
        "            printf (\"The number %lld is not prime since %lld divides it.\\n\",n,d);\n",
        "            return 0;\n",
        "        }\n",
        "    }\n",
        "    printf (\"The number %lld is prime.\\n\",n);\n",
        "}"
      ],
      "metadata": {
        "colab": {
          "base_uri": "https://localhost:8080/"
        },
        "id": "Kt76LjqhQb5A",
        "outputId": "b7821a98-01be-4b08-c7c4-30a10d07d3d8"
      },
      "execution_count": 19,
      "outputs": [
        {
          "output_type": "stream",
          "name": "stdout",
          "text": [
            "Overwriting prime_v3.c\n"
          ]
        }
      ]
    },
    {
      "cell_type": "markdown",
      "source": [
        "## Notes:\n",
        "\n",
        "* ### On line 3 we include *stdlib.h* which includes interfaces for the C standard library including the function *atoll* that we are using on line 10.\n",
        "* ### On line 10 we use the function *atoll* to convert the first command line argument string into a C *long long*.  Other useful conversion functions are *atoi* which converts a string into a C *int* and *atof* which converts a string into a C *double* (like in Java, a C *double* is a 64-bit double precision floating point number)."
      ],
      "metadata": {
        "id": "8uysy_6an2PN"
      }
    },
    {
      "cell_type": "code",
      "source": [
        "!gcc -o prime_v3 prime_v3.c"
      ],
      "metadata": {
        "id": "f5OzApXc4Mdg"
      },
      "execution_count": 20,
      "outputs": []
    },
    {
      "cell_type": "code",
      "source": [
        "!./prime_v3 5261656080911617"
      ],
      "metadata": {
        "colab": {
          "base_uri": "https://localhost:8080/"
        },
        "id": "rgYkLoTs4V5u",
        "outputId": "28778029-7817-4ffb-d781-7352ba65f5d3"
      },
      "execution_count": 21,
      "outputs": [
        {
          "output_type": "stream",
          "name": "stdout",
          "text": [
            "The number 5261656080911617 is prime.\n"
          ]
        }
      ]
    },
    {
      "cell_type": "code",
      "source": [
        "!./prime_v3 3439315899953761"
      ],
      "metadata": {
        "colab": {
          "base_uri": "https://localhost:8080/"
        },
        "id": "0QBvOsVKepAH",
        "outputId": "fa4f4bfc-43b4-4402-f8a7-8115b5c6b089"
      },
      "execution_count": 22,
      "outputs": [
        {
          "output_type": "stream",
          "name": "stdout",
          "text": [
            "The number 3439315899953761 is not prime since 58645681 divides it.\n"
          ]
        }
      ]
    },
    {
      "cell_type": "code",
      "source": [
        "!./prime_v3 729476671297368179"
      ],
      "metadata": {
        "colab": {
          "base_uri": "https://localhost:8080/"
        },
        "id": "ucnuKTaP5q3q",
        "outputId": "734c5500-5991-497a-b3c0-b147bf9a5794"
      },
      "execution_count": 23,
      "outputs": [
        {
          "output_type": "stream",
          "name": "stdout",
          "text": [
            "The number 729476671297368179 is prime.\n"
          ]
        }
      ]
    },
    {
      "cell_type": "markdown",
      "source": [
        "## It is known that 10918483718784063109 is prime.  \n",
        "\n",
        "## Let's run our primality tester with this very large input."
      ],
      "metadata": {
        "id": "lVEUEgyKNaJr"
      }
    },
    {
      "cell_type": "code",
      "source": [
        "!./prime 10918483718784063109"
      ],
      "metadata": {
        "colab": {
          "base_uri": "https://localhost:8080/"
        },
        "id": "ti3PuiyM7E1n",
        "outputId": "ee5dadf8-ab20-4a99-e7e7-32bf8ac6ee58"
      },
      "execution_count": 24,
      "outputs": [
        {
          "output_type": "stream",
          "name": "stdout",
          "text": [
            "The number 9223372036854775807 is not prime since 7 divides it.\n"
          ]
        }
      ]
    },
    {
      "cell_type": "markdown",
      "source": [
        "## Our program gave the wrong answer because the number $10918483718784063109$ is too big to store in a variable of type C *long long*.\n",
        "## Note that unlike in Java, C does not produce a runtime error in this case!\n",
        "## We can add runtime error checking by using the function *strtoll* instead of *atoll* instead."
      ],
      "metadata": {
        "id": "g0-RbfFBpMDK"
      }
    },
    {
      "cell_type": "code",
      "source": [
        "%%writefile prime_v4.c\n",
        "#include <stdio.h>\n",
        "#include <stdlib.h>\n",
        "#include <errno.h>\n",
        "\n",
        "int main (int argc, char** argv) {\n",
        "    if (argc < 2) {\n",
        "        printf (\"command usage: %s %s\\n\",argv[0],\"n\");\n",
        "        return 1; // abnormal exit\n",
        "    }\n",
        "    errno = 0; // reset error status before calling strtoll\n",
        "    long long n = strtoll(argv[1],NULL,10);\n",
        "    if (errno == ERANGE) {\n",
        "        printf (\"error: the input provided is out of range!\\n\");\n",
        "        return 1; // abnormal exit\n",
        "    }\n",
        "\n",
        "    if (n % 2 == 0) {\n",
        "        printf (\"The number %lld is not prime since 2 divides it\\n\",n);\n",
        "        return 0;\n",
        "    }\n",
        "    for (long long d = 3; d*d <= n; d+=2) {\n",
        "        if (n % d == 0) {\n",
        "            printf (\"The number %lld is not prime since %lld divides it.\\n\",n,d);\n",
        "            return 0;\n",
        "        }\n",
        "    }\n",
        "    printf (\"The number %lld is prime.\\n\",n);\n",
        "}"
      ],
      "metadata": {
        "id": "hFg_rMfUfw03",
        "colab": {
          "base_uri": "https://localhost:8080/"
        },
        "outputId": "56ad588d-a892-41a0-c1e8-206f6b0a40cd"
      },
      "execution_count": 25,
      "outputs": [
        {
          "output_type": "stream",
          "name": "stdout",
          "text": [
            "Overwriting prime_v4.c\n"
          ]
        }
      ]
    },
    {
      "cell_type": "code",
      "source": [
        "!gcc -o prime_v4 prime_v4.c"
      ],
      "metadata": {
        "id": "6_s_8sr9bo8U"
      },
      "execution_count": 26,
      "outputs": []
    },
    {
      "cell_type": "code",
      "source": [
        "!./prime_v4 10918483718784063109"
      ],
      "metadata": {
        "colab": {
          "base_uri": "https://localhost:8080/"
        },
        "id": "Ef7CP3sZbugz",
        "outputId": "69b1a113-9603-492c-efb6-d9d9ea3add46"
      },
      "execution_count": 27,
      "outputs": [
        {
          "output_type": "stream",
          "name": "stdout",
          "text": [
            "error: the input provided is out of range!\n"
          ]
        }
      ]
    },
    {
      "cell_type": "markdown",
      "source": [
        "# Part 6 : Working with Real Numbers in C\n",
        "\n",
        "## Let's start with a program that computes the average of the command line arguments which are assumed to be integers."
      ],
      "metadata": {
        "id": "1lnpKjDs1f7o"
      }
    },
    {
      "cell_type": "code",
      "source": [
        "%%writefile average_v1.c\n",
        "#include <stdio.h>\n",
        "#include <stdlib.h>\n",
        "\n",
        "int main (int argc, char** argv) {\n",
        "    if (argc < 2) {\n",
        "        printf (\"command usage: %s n_1 n_2 ... n_k\\n\",argv[0]);\n",
        "        return 1; // abnormal exit\n",
        "    }\n",
        "    int sum = 0;\n",
        "    for (int i=1;i<argc;i++) {\n",
        "        int next = atoi(argv[i]);\n",
        "        sum += next;\n",
        "    }\n",
        "    printf (\"average = %d\\n\",sum/(argc-1));\n",
        "}"
      ],
      "metadata": {
        "colab": {
          "base_uri": "https://localhost:8080/"
        },
        "id": "Wm6VMqhe2HmE",
        "outputId": "3ada09fe-ec75-44ca-b095-ab5b89ad26e5"
      },
      "execution_count": 28,
      "outputs": [
        {
          "output_type": "stream",
          "name": "stdout",
          "text": [
            "Overwriting average_v1.c\n"
          ]
        }
      ]
    },
    {
      "cell_type": "code",
      "source": [
        "!gcc -o average_v1 average_v1.c"
      ],
      "metadata": {
        "id": "30BSeu0l29BG"
      },
      "execution_count": 29,
      "outputs": []
    },
    {
      "cell_type": "code",
      "source": [
        "!./average_v1"
      ],
      "metadata": {
        "colab": {
          "base_uri": "https://localhost:8080/"
        },
        "id": "PKLgiZNC3BbF",
        "outputId": "799928a3-33f9-411c-a435-53703770e663"
      },
      "execution_count": 30,
      "outputs": [
        {
          "output_type": "stream",
          "name": "stdout",
          "text": [
            "command usage: ./average_v1 n_1 n_2 ... n_k\n"
          ]
        }
      ]
    },
    {
      "cell_type": "code",
      "source": [
        "!./average_v1 1 2 3"
      ],
      "metadata": {
        "colab": {
          "base_uri": "https://localhost:8080/"
        },
        "id": "lrYWgCJ73FQw",
        "outputId": "b9d6d883-6a91-499b-8a1c-dc8e11ba64ca"
      },
      "execution_count": 31,
      "outputs": [
        {
          "output_type": "stream",
          "name": "stdout",
          "text": [
            "average = 2\n"
          ]
        }
      ]
    },
    {
      "cell_type": "markdown",
      "source": [
        "## Note that the average of the numbers $1$, $2$, $3$ is indeed $2$."
      ],
      "metadata": {
        "id": "Q1Jf10M53Rsw"
      }
    },
    {
      "cell_type": "code",
      "source": [
        "!./average_v1 1 2 3 4"
      ],
      "metadata": {
        "colab": {
          "base_uri": "https://localhost:8080/"
        },
        "id": "bsMgZwSM3J-H",
        "outputId": "cc38dfbb-06dc-40b0-e133-bc0929742b2f"
      },
      "execution_count": 32,
      "outputs": [
        {
          "output_type": "stream",
          "name": "stdout",
          "text": [
            "average = 2\n"
          ]
        }
      ]
    },
    {
      "cell_type": "markdown",
      "source": [
        "## In this case the average should be $10/4 = 2.5$ but the program prints $2$ since we performing integer division and printing the average as an integer.\n",
        "\n",
        "## Since the average of a set of numbers is typically a real number, we need to use a floating point type such as a float or double to compute the average."
      ],
      "metadata": {
        "id": "_muiXrmH3bkM"
      }
    },
    {
      "cell_type": "code",
      "source": [
        "%%writefile average_v2.c\n",
        "#include <stdio.h>\n",
        "#include <stdlib.h>\n",
        "\n",
        "int main (int argc, char** argv) {\n",
        "    if (argc < 2) {\n",
        "        printf (\"command usage: %s n_1 n_2 ... n_k\\n\",argv[0]);\n",
        "        return 1; // abnormal exit\n",
        "    }\n",
        "    int sum = 0;\n",
        "    for (int i=1;i<argc;i++) {\n",
        "        int next = atoi(argv[i]);\n",
        "        sum += next;\n",
        "    }\n",
        "    float average = sum/(argc-1);\n",
        "    printf (\"average = %f\\n\",average);\n",
        "}"
      ],
      "metadata": {
        "colab": {
          "base_uri": "https://localhost:8080/"
        },
        "id": "yfS2B61x3prd",
        "outputId": "8b7c504d-1648-4228-a140-f3d5abdbaf3e"
      },
      "execution_count": 33,
      "outputs": [
        {
          "output_type": "stream",
          "name": "stdout",
          "text": [
            "Overwriting average_v2.c\n"
          ]
        }
      ]
    },
    {
      "cell_type": "markdown",
      "source": [
        "## Note that on line 16 we use *%f* for the format specifier for printing a variable of float type."
      ],
      "metadata": {
        "id": "NzsQxgxi4AZQ"
      }
    },
    {
      "cell_type": "code",
      "source": [
        "!gcc -o average_v2 average_v2.c"
      ],
      "metadata": {
        "id": "RP8nc42w4Nsd"
      },
      "execution_count": 34,
      "outputs": []
    },
    {
      "cell_type": "code",
      "source": [
        "!./average_v2 1 2 3 4"
      ],
      "metadata": {
        "colab": {
          "base_uri": "https://localhost:8080/"
        },
        "id": "spNJNE7h3-3n",
        "outputId": "11b0f736-a590-4463-9bd3-689764ddaf9f"
      },
      "execution_count": 35,
      "outputs": [
        {
          "output_type": "stream",
          "name": "stdout",
          "text": [
            "average = 2.000000\n"
          ]
        }
      ]
    },
    {
      "cell_type": "markdown",
      "source": [
        "## We see that this version still computes the incorrect average.  \n",
        "\n",
        "## Note that in line 15 we are computing the quantity sum/(argc-1) and assigning it to average.  \n",
        "\n",
        "## However, since both variables sum and argc have *int* type, the division performed is integer division.\n",
        "\n",
        "## The next version correct this problem using a *typecast*.\n"
      ],
      "metadata": {
        "id": "0tRzUrGw4XmY"
      }
    },
    {
      "cell_type": "code",
      "source": [
        "%%writefile average_v3.c\n",
        "#include <stdio.h>\n",
        "#include <stdlib.h>\n",
        "\n",
        "int main (int argc, char** argv) {\n",
        "    if (argc < 2) {\n",
        "        printf (\"command usage: %s n_1 n_2 ... n_k\\n\",argv[0]);\n",
        "        return 1; // abnormal exit\n",
        "    }\n",
        "    int sum = 0;\n",
        "    for (int i=1;i<argc;i++) {\n",
        "        int next = atoi(argv[i]);\n",
        "        sum += next;\n",
        "    }\n",
        "    float average = (double)sum/(argc-1);\n",
        "    printf (\"average = %f\\n\",average);\n",
        "}"
      ],
      "metadata": {
        "colab": {
          "base_uri": "https://localhost:8080/"
        },
        "id": "C9DaoCuF4uFx",
        "outputId": "16df248d-9edb-401f-c0ef-4c23dd18a3cb"
      },
      "execution_count": 36,
      "outputs": [
        {
          "output_type": "stream",
          "name": "stdout",
          "text": [
            "Overwriting average_v3.c\n"
          ]
        }
      ]
    },
    {
      "cell_type": "markdown",
      "source": [
        "## In line 15 we first cast the integer sum to a float before performing the division.\n",
        "\n",
        "## Since the numerator is a float, the integer denominator is automatically converted to a float and floating point division is performed.\n"
      ],
      "metadata": {
        "id": "V7J4qdM_5WWS"
      }
    },
    {
      "cell_type": "code",
      "source": [
        "!gcc -o average_v3 average_v3.c"
      ],
      "metadata": {
        "id": "ylaPyhzd5wib"
      },
      "execution_count": 37,
      "outputs": []
    },
    {
      "cell_type": "code",
      "source": [
        "!./average_v3 1 2 3 4"
      ],
      "metadata": {
        "colab": {
          "base_uri": "https://localhost:8080/"
        },
        "id": "eNbU6BBn5yQe",
        "outputId": "391c542f-807a-40a2-8327-c370645a83ce"
      },
      "execution_count": 38,
      "outputs": [
        {
          "output_type": "stream",
          "name": "stdout",
          "text": [
            "average = 2.500000\n"
          ]
        }
      ]
    },
    {
      "cell_type": "markdown",
      "source": [
        "## Version 3 gives us the correct answer!"
      ],
      "metadata": {
        "id": "3vxms09S52M0"
      }
    },
    {
      "cell_type": "markdown",
      "source": [
        "## In our final version, we drop the assumption that the command line inputs are integers and change the format of our printf statement."
      ],
      "metadata": {
        "id": "c2ljF6li6RsO"
      }
    },
    {
      "cell_type": "code",
      "source": [
        "%%writefile average_v4.c\n",
        "#include <stdio.h>\n",
        "#include <stdlib.h>\n",
        "\n",
        "int main (int argc, char** argv) {\n",
        "    if (argc < 2) {\n",
        "        printf (\"command usage: %s n_1 n_2 ... n_k\\n\",argv[0]);\n",
        "        return 1; // abnormal exit\n",
        "    }\n",
        "    float sum = 0;\n",
        "    for (int i=1;i<argc;i++) {\n",
        "        float next = atof(argv[i]);\n",
        "        sum += next;\n",
        "    }\n",
        "    float average = sum/(argc-1);\n",
        "    printf (\"average = %.2f\\n\",average);\n",
        "}"
      ],
      "metadata": {
        "colab": {
          "base_uri": "https://localhost:8080/"
        },
        "id": "MW7q_Far6aFs",
        "outputId": "d4699893-fd72-4b66-fee7-8f915b47b998"
      },
      "execution_count": 39,
      "outputs": [
        {
          "output_type": "stream",
          "name": "stdout",
          "text": [
            "Overwriting average_v4.c\n"
          ]
        }
      ]
    },
    {
      "cell_type": "markdown",
      "source": [
        "## Here are some notes on version 4.\n",
        "\n",
        "* ### In line 10 we change sum to have type float.\n",
        "* ### In line 12 we change next to have type float and use *atof* to parse the command line argument as a float.\n",
        "* ### On line 15 we discard the typecast which is no longer needed since sum is a float.\n",
        "* ### On line 16 we use the format specifier *%.2f* which instructs printf to print only 2 digits after the decimal point."
      ],
      "metadata": {
        "id": "jt65DSEH7R7R"
      }
    },
    {
      "cell_type": "code",
      "source": [
        "!gcc -o average_v4 average_v4.c"
      ],
      "metadata": {
        "id": "nqsbPYiX7D0A"
      },
      "execution_count": 40,
      "outputs": []
    },
    {
      "cell_type": "code",
      "source": [
        "!./average_v4 1 0.75 0.25"
      ],
      "metadata": {
        "colab": {
          "base_uri": "https://localhost:8080/"
        },
        "id": "YyUexw9J8Lkv",
        "outputId": "66829150-fb97-4c8b-a64c-024cb32a151e"
      },
      "execution_count": 41,
      "outputs": [
        {
          "output_type": "stream",
          "name": "stdout",
          "text": [
            "average = 0.67\n"
          ]
        }
      ]
    },
    {
      "cell_type": "markdown",
      "source": [
        "## The exact average in this case is $2/3$ which was rounded to two decimal places in our output.\n"
      ],
      "metadata": {
        "id": "cVtBgmeN9KfR"
      }
    },
    {
      "cell_type": "markdown",
      "source": [
        "# Part 7 : Float or Double?"
      ],
      "metadata": {
        "id": "3kcc7vmPO9rC"
      }
    },
    {
      "cell_type": "markdown",
      "source": [
        "## A C float has 32 bits and a C double has 64 bits (same as Java).\n",
        "\n",
        "## To see the difference in accuracy between a float and a double, let's approximate the value of:\n",
        "\n",
        "$$\\large{e = 2.718281828459045}$$\n",
        "\n",
        "## We can approximate e using the Taylor series formula:\n",
        "\n",
        "$$\\large{e \\approx 1 + \\frac{1}{1!} + \\frac{1}{2!} + \\frac{1}{3!} + \\cdots}$$\n",
        "\n",
        "## Version 1 adds up the first n terms of the above formula and accumulates the result in a *float*.  "
      ],
      "metadata": {
        "id": "79EFeIiMPFTV"
      }
    },
    {
      "cell_type": "code",
      "source": [
        "%%writefile approx_v1.c\n",
        "#include <stdio.h>\n",
        "#include <stdlib.h>\n",
        "\n",
        "int main (int argc, char* argv[]) {\n",
        "    if (argc < 2) {\n",
        "        printf (\"command usage: %s %s\\n\",argv[0],\"n\");\n",
        "        return 1;\n",
        "    }\n",
        "    int n = atoi(argv[1]);\n",
        "    float approx_e = 0;\n",
        "    long long fact = 1;\n",
        "    for (int i=1;i<=n;i++) {\n",
        "        approx_e += 1.0/fact; // use 1.0 to ensure floating point division\n",
        "        fact *= i;\n",
        "    }\n",
        "    printf (\"exact  value of e is %.15f\\n\",2.718281828459045);\n",
        "    printf (\"approx value of e is %.15f\\n\",approx_e);\n",
        "}"
      ],
      "metadata": {
        "colab": {
          "base_uri": "https://localhost:8080/"
        },
        "id": "9Ix8CCmjpigA",
        "outputId": "b157452c-eebe-453d-c170-bc8859ab44ce"
      },
      "execution_count": 42,
      "outputs": [
        {
          "output_type": "stream",
          "name": "stdout",
          "text": [
            "Overwriting approx_v1.c\n"
          ]
        }
      ]
    },
    {
      "cell_type": "code",
      "source": [
        "!gcc -o approx_v1 approx_v1.c"
      ],
      "metadata": {
        "id": "Z9udKjldPLqk"
      },
      "execution_count": 43,
      "outputs": []
    },
    {
      "cell_type": "code",
      "source": [
        "!./approx_v1 10"
      ],
      "metadata": {
        "colab": {
          "base_uri": "https://localhost:8080/"
        },
        "id": "6du5cuGYPOw-",
        "outputId": "751d1c8d-a033-4913-fbfa-d9b2773f9725"
      },
      "execution_count": 44,
      "outputs": [
        {
          "output_type": "stream",
          "name": "stdout",
          "text": [
            "exact  value of e is 2.718281828459045\n",
            "approx value of e is 2.718281745910645\n"
          ]
        }
      ]
    },
    {
      "cell_type": "markdown",
      "source": [
        "## With 10 terms we estimated the value of $e$ correctly to 6 decimal digits.  "
      ],
      "metadata": {
        "id": "obVg7e7hPVtY"
      }
    },
    {
      "cell_type": "code",
      "source": [
        "!./approx_v1 20"
      ],
      "metadata": {
        "colab": {
          "base_uri": "https://localhost:8080/"
        },
        "id": "gr53sCnkPSPs",
        "outputId": "b88d9c23-4ad0-472a-9c75-5992c73710c5"
      },
      "execution_count": 45,
      "outputs": [
        {
          "output_type": "stream",
          "name": "stdout",
          "text": [
            "exact  value of e is 2.718281828459045\n",
            "approx value of e is 2.718281984329224\n"
          ]
        }
      ]
    },
    {
      "cell_type": "markdown",
      "source": [
        "## With 20 terms we still only estimated the value of $e$ correctly to 6 decimal digits.  \n",
        "\n",
        "## Version 2 adds up the first n terms of the above formula and accumulates the result in a *double*."
      ],
      "metadata": {
        "id": "4N__5z5RPeQy"
      }
    },
    {
      "cell_type": "code",
      "source": [
        "%%writefile approx_v2.c\n",
        "#include <stdio.h>\n",
        "#include <stdlib.h>\n",
        "\n",
        "int main (int argc, char* argv[]) {\n",
        "    if (argc < 2) {\n",
        "        printf (\"command usage: %s %s\\n\",argv[0],\"n\");\n",
        "        return 1;\n",
        "    }\n",
        "    int n = atoi(argv[1]);\n",
        "    double approx_e = 0;\n",
        "    long long fact = 1;\n",
        "    for (int i=1;i<=n;i++) {\n",
        "        approx_e += 1.0/fact; // use 1.0 to ensure floating point division\n",
        "        fact *= i;\n",
        "    }\n",
        "    printf (\"exact  value of e is %.15f\\n\",2.718281828459045);\n",
        "    printf (\"approx value of e is %.15f\\n\",approx_e);\n",
        "}"
      ],
      "metadata": {
        "colab": {
          "base_uri": "https://localhost:8080/"
        },
        "id": "NyhFmSp6PacD",
        "outputId": "fe5f2b8b-03cd-4e7a-df58-49ac56f7ff6f"
      },
      "execution_count": 46,
      "outputs": [
        {
          "output_type": "stream",
          "name": "stdout",
          "text": [
            "Overwriting approx_v2.c\n"
          ]
        }
      ]
    },
    {
      "cell_type": "code",
      "source": [
        "!gcc -o approx_v2 approx_v2.c"
      ],
      "metadata": {
        "id": "S6qMeOYbPpHP"
      },
      "execution_count": 47,
      "outputs": []
    },
    {
      "cell_type": "code",
      "source": [
        "!./approx_v2 10"
      ],
      "metadata": {
        "colab": {
          "base_uri": "https://localhost:8080/"
        },
        "id": "jtay8l5EP34n",
        "outputId": "765c412d-3f36-4a2f-e5fd-d137ea1473e0"
      },
      "execution_count": 48,
      "outputs": [
        {
          "output_type": "stream",
          "name": "stdout",
          "text": [
            "exact  value of e is 2.718281828459045\n",
            "approx value of e is 2.718281525573192\n"
          ]
        }
      ]
    },
    {
      "cell_type": "markdown",
      "source": [
        "## With 10 terms we estimated the value of $e$ correctly to 6 decimal digits."
      ],
      "metadata": {
        "id": "83lNabDnQHnf"
      }
    },
    {
      "cell_type": "code",
      "source": [
        "!./approx_v2 20"
      ],
      "metadata": {
        "colab": {
          "base_uri": "https://localhost:8080/"
        },
        "id": "_M2ObhsjQGhc",
        "outputId": "d4014c1c-6281-4802-cdbf-94970521cc04"
      },
      "execution_count": 49,
      "outputs": [
        {
          "output_type": "stream",
          "name": "stdout",
          "text": [
            "exact  value of e is 2.718281828459045\n",
            "approx value of e is 2.718281828459046\n"
          ]
        }
      ]
    },
    {
      "cell_type": "markdown",
      "source": [
        "## With 20 terms we estimated the value of $e$ correctly to 14 decimal digits."
      ],
      "metadata": {
        "id": "90IBIEiyP8kb"
      }
    },
    {
      "cell_type": "markdown",
      "source": [
        "## The decision to use float versus double is a tradeoff between accuracy and storage/performance.\n",
        "\n",
        "## In certain machine learning applications, high accuracy is not needed so it is common to use *float* instead of *double* (or even floating point types that use fewer than 32 bits)!  This is especially true for large scale ML algorithms implemented using GPUs where high performance is essential."
      ],
      "metadata": {
        "id": "ir76hN27QV8O"
      }
    },
    {
      "cell_type": "code",
      "source": [],
      "metadata": {
        "id": "T8ZateRAP7in"
      },
      "execution_count": 49,
      "outputs": []
    }
  ]
}