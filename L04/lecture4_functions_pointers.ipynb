{
  "nbformat": 4,
  "nbformat_minor": 0,
  "metadata": {
    "colab": {
      "provenance": []
    },
    "kernelspec": {
      "name": "python3",
      "display_name": "Python 3"
    },
    "language_info": {
      "name": "python"
    }
  },
  "cells": [
    {
      "cell_type": "markdown",
      "source": [
        "# Lecture 4 : Functions and Pointers"
      ],
      "metadata": {
        "id": "eVPVINDlkxjr"
      }
    },
    {
      "cell_type": "markdown",
      "source": [
        "# Part 1 : Computing $\\displaystyle\\binom{n}{k}$"
      ],
      "metadata": {
        "id": "f7dr7gNDnjRj"
      }
    },
    {
      "cell_type": "markdown",
      "source": [
        "## Consider the problem of calculating $$\\displaystyle\\binom{n}{k} = \\displaystyle\\frac{n!}{(n-k)!k!}$$\n",
        "\n",
        "## Due to overflow we cannot compute $n!$ for even modest $n$ using a *long long int*.  \n",
        "\n",
        "## For example $256!$ has 507 digits!\n",
        "\n",
        "## Fortunately we can compute $\\binom{n}{k}$ starting with $\\binom{n}{0} = 1$ iteratively by making use of the formula:\n",
        "\n",
        "$$\\displaystyle\\binom{n}{i+1} = \\displaystyle\\binom{n}{i} \\displaystyle\\frac{n-i}{i+1}$$\n",
        "\n",
        "## The formula can be shown directly from the definition of $\\binom{n}{k}$:\n",
        "\n",
        "$$\\displaystyle\\binom{n}{i} \\displaystyle\\frac{n-i}{i+1} = \\displaystyle\\frac{n!}{(n-i)!i!} \\, \\displaystyle\\frac{n-i}{i+1} = \\displaystyle\\frac{n!}{(n-i-1)! (i+1)!} =\n",
        "\\displaystyle\\frac{n!}{(n-(i+1))! (i+1)!} =\n",
        "\\displaystyle\\binom{n}{i+1}$$\n",
        "\n",
        "## Let's illustrate the use of the formula by calculating $\\binom{256}{4}$ without calculating $256!$\n",
        "\n",
        "## We first note that $\\binom{256}{0} = 1$.  To compute $\\binom{256}{1}$ we use the formula with $i=0$ and note that\n",
        "$$\\displaystyle\\binom{256}{1} = \\displaystyle\\binom{256}{0} \\displaystyle\\frac{256-0}{0+1} = 256$$\n",
        "\n",
        "## To compute $\\binom{256}{2}$ we use the formula with $i=1$ and note that\n",
        "$$\\displaystyle\\binom{256}{2} = \\displaystyle\\binom{256}{1} \\displaystyle\\frac{256-1}{1+1} = 256*255/2 = 32640$$\n",
        "\n",
        "## It is critical that we first calculate $256*255$ before dividing by $2$ since $255/2$ is not an integer!\n",
        "\n",
        "## To compute $\\binom{256}{3}$ we use the formula with $i=2$ and note that\n",
        "$$\\displaystyle\\binom{256}{3} = \\displaystyle\\binom{256}{2} \\displaystyle\\frac{256-2}{2+1} = 32640*254/3 = 2763520$$\n",
        "\n",
        "## To compute $\\binom{256}{4}$ we use the formula with $i=3$ and note that\n",
        "$$\\displaystyle\\binom{256}{4} = \\displaystyle\\binom{256}{3} \\displaystyle\\frac{256-3}{3+1} = 2763520*253/4 = 174792640$$\n",
        "\n",
        "## We can use a for loop in C to automate this iterative process:"
      ],
      "metadata": {
        "id": "UxFPb9KHn3U_"
      }
    },
    {
      "cell_type": "code",
      "source": [
        "%%writefile binom_v1.c\n",
        "#include <stdio.h>\n",
        "#include <stdlib.h>\n",
        "\n",
        "int main (int argc, char* argv[]) {\n",
        "    if (argc < 3) {\n",
        "        printf (\"command usage: %s %s %s\\n\",argv[0],\"n\",\"k\");\n",
        "        return 1;\n",
        "    }\n",
        "    int n = atoi(argv[1]);\n",
        "    int k = atoi(argv[2]);\n",
        "    long long answer = 1;\n",
        "    for (int i=0;i<=k-1;i++) {\n",
        "        answer = answer*(n-i)/(i+1);\n",
        "    }\n",
        "    printf (\"%lld\\n\",answer);\n",
        "}"
      ],
      "metadata": {
        "colab": {
          "base_uri": "https://localhost:8080/"
        },
        "id": "K933zUwlrCev",
        "outputId": "a49e3dc9-2edd-48ea-cd6b-2d1e6a90c1de"
      },
      "execution_count": 1,
      "outputs": [
        {
          "output_type": "stream",
          "name": "stdout",
          "text": [
            "Overwriting binom_v1.c\n"
          ]
        }
      ]
    },
    {
      "cell_type": "code",
      "source": [
        "!gcc -o binom_v1 binom_v1.c"
      ],
      "metadata": {
        "id": "OoQQWHMBrNcJ"
      },
      "execution_count": 2,
      "outputs": []
    },
    {
      "cell_type": "code",
      "source": [
        "!./binom_v1 256 4"
      ],
      "metadata": {
        "colab": {
          "base_uri": "https://localhost:8080/"
        },
        "id": "8upuh6ebrRgV",
        "outputId": "71dfba43-c378-498b-ed76-e8b3382250c6"
      },
      "execution_count": 3,
      "outputs": [
        {
          "output_type": "stream",
          "name": "stdout",
          "text": [
            "174792640\n"
          ]
        }
      ]
    },
    {
      "cell_type": "code",
      "source": [
        "!./binom_v1 256 8"
      ],
      "metadata": {
        "colab": {
          "base_uri": "https://localhost:8080/"
        },
        "id": "jKBaj7GhwlE9",
        "outputId": "51fbb9d0-3479-4a37-e23d-cd98bbd7cfb4"
      },
      "execution_count": 4,
      "outputs": [
        {
          "output_type": "stream",
          "name": "stdout",
          "text": [
            "409663695276000\n"
          ]
        }
      ]
    },
    {
      "cell_type": "markdown",
      "source": [
        "## As our programs become more complicated we will want to make use of functions to make our code more readable and easier to maintain.\n",
        "\n",
        "## Here is a version where we calculate $\\binom{n}{k}$ using a function.  \n",
        "\n",
        "## Note that the syntax for C functions is similar to Java functions."
      ],
      "metadata": {
        "id": "HhKWFJniyLSP"
      }
    },
    {
      "cell_type": "code",
      "source": [
        "%%writefile binom_v2.c\n",
        "#include <stdio.h>\n",
        "#include <stdlib.h>\n",
        "\n",
        "long long binom(int n, int k) {\n",
        "    long long answer = 1;\n",
        "    for (int i=0;i<=k-1;i++) {\n",
        "        answer = answer*(n-i)/(i+1);\n",
        "    }\n",
        "    return answer;\n",
        "}\n",
        "\n",
        "int main (int argc, char* argv[]) {\n",
        "    if (argc < 3) {\n",
        "        printf (\"command usage: %s %s %s\\n\",argv[0],\"n\",\"k\");\n",
        "        return 1;\n",
        "    }\n",
        "    int n = atoi(argv[1]);\n",
        "    int k = atoi(argv[2]);\n",
        "    long long answer = binom(n,k);\n",
        "    printf (\"%lld\\n\",answer);\n",
        "}"
      ],
      "metadata": {
        "colab": {
          "base_uri": "https://localhost:8080/"
        },
        "id": "pew6PodmywES",
        "outputId": "95fd65f1-ea71-4f85-9642-e959d6e64fee"
      },
      "execution_count": 5,
      "outputs": [
        {
          "output_type": "stream",
          "name": "stdout",
          "text": [
            "Overwriting binom_v2.c\n"
          ]
        }
      ]
    },
    {
      "cell_type": "code",
      "source": [
        "!gcc -o binom_v2 binom_v2.c"
      ],
      "metadata": {
        "id": "3Z09GPldzAID"
      },
      "execution_count": 6,
      "outputs": []
    },
    {
      "cell_type": "code",
      "source": [
        "!./binom_v2 256 8"
      ],
      "metadata": {
        "colab": {
          "base_uri": "https://localhost:8080/"
        },
        "id": "KUhdvYSwzE1J",
        "outputId": "aab787a1-9a28-4d0e-df9b-1bec3d328922"
      },
      "execution_count": 7,
      "outputs": [
        {
          "output_type": "stream",
          "name": "stdout",
          "text": [
            "409663695276000\n"
          ]
        }
      ]
    },
    {
      "cell_type": "markdown",
      "source": [
        "## Note that $\\binom{256}{16} = 10078751602022313874633200$ is too large to fit into a C *long long int*."
      ],
      "metadata": {
        "id": "GE8wx10K1fY5"
      }
    },
    {
      "cell_type": "code",
      "source": [
        "!./binom_v2 256 16"
      ],
      "metadata": {
        "colab": {
          "base_uri": "https://localhost:8080/"
        },
        "id": "WBRYyOZN2FwF",
        "outputId": "456aa9fe-fba2-4a96-c8a4-214c68120eb0"
      },
      "execution_count": 8,
      "outputs": [
        {
          "output_type": "stream",
          "name": "stdout",
          "text": [
            "107333149995938127\n"
          ]
        }
      ]
    },
    {
      "cell_type": "markdown",
      "source": [
        "## As expected our program does not compute the correct answer.  \n",
        "\n",
        "## It would be far preferable for our program to output an error rather than the incorrect answer.\n",
        "\n",
        "## This program shows that C does not automatically check for overflow.   \n",
        "\n",
        "## Note that Java also does not automatically check for overflow.  \n",
        "\n",
        "## Thus we need to add such error checking code ourselves.  \n",
        "\n",
        "## In our *binom_v2* program a possible overflow occurs when calculating **answer*(n-i)**.  \n",
        "\n",
        "## We can detect a multiplication overflow be utilizing the following result regarding integer multiplication and division.  \n",
        "\n",
        "## Let a, b, c be integers and / denote integer division.  Then we have\n",
        "$$ab > c \\text{ if and only if } a > c/b$$\n",
        "\n",
        "## In C the largest possible long long int is denoted LLONG_MAX (a constant defined in limits.h).  \n",
        "\n",
        "## Thus using the result we can check if $ab > \\text{LLONG_MAX}$ (i.e. overflow) by testing to see if\n",
        "$$a > \\frac{\\text{LLONG_MAX}}{b}$$\n",
        "\n",
        "## Here is a version of our *binom* program that detects overflow."
      ],
      "metadata": {
        "id": "cma0U1Qh2Jxr"
      }
    },
    {
      "cell_type": "code",
      "execution_count": 9,
      "metadata": {
        "colab": {
          "base_uri": "https://localhost:8080/"
        },
        "id": "fScyliL2wjIB",
        "outputId": "7abc5118-5762-4ce9-b545-2cb8169aa5e3"
      },
      "outputs": [
        {
          "output_type": "stream",
          "name": "stdout",
          "text": [
            "Overwriting binom_v3.c\n"
          ]
        }
      ],
      "source": [
        "%%writefile binom_v3.c\n",
        "#include <stdio.h>\n",
        "#include <stdlib.h>\n",
        "#include <limits.h>\n",
        "\n",
        "long long binom(int n, int k) {\n",
        "    long long answer = 1;\n",
        "    for (int i=0;i<=k-1;i++) {\n",
        "        if (answer > LLONG_MAX/(n-i)) {\n",
        "            printf (\"overflow detected calculating %d choose %d\\n\",n,k);\n",
        "            exit(1);\n",
        "        }\n",
        "        answer = answer*(n-i)/(i+1);\n",
        "    }\n",
        "    return answer;\n",
        "}\n",
        "\n",
        "int main (int argc, char* argv[]) {\n",
        "    if (argc < 3) {\n",
        "        printf (\"command usage: %s %s %s\\n\",argv[0],\"n\",\"k\");\n",
        "        return 1;\n",
        "    }\n",
        "    int n = atoi(argv[1]);\n",
        "    int k = atoi(argv[2]);\n",
        "    long long answer = binom(n,k);\n",
        "    printf (\"%lld\\n\",answer);\n",
        "}"
      ]
    },
    {
      "cell_type": "code",
      "source": [
        "!gcc -o binom_v3 binom_v3.c"
      ],
      "metadata": {
        "id": "uIOBQvI2wn3i"
      },
      "execution_count": 10,
      "outputs": []
    },
    {
      "cell_type": "code",
      "source": [
        "!./binom_v3 256 16"
      ],
      "metadata": {
        "colab": {
          "base_uri": "https://localhost:8080/"
        },
        "id": "J4x5KmI6wpNk",
        "outputId": "c43ea5b7-6b4b-4797-9c6f-6ae33dbde328"
      },
      "execution_count": 11,
      "outputs": [
        {
          "output_type": "stream",
          "name": "stdout",
          "text": [
            "overflow detected calculating 256 choose 16\n"
          ]
        }
      ]
    },
    {
      "cell_type": "markdown",
      "source": [
        "## In this version of the program our *binom* function calls exit(1) which abnormally terminates the program if an overflow is encountered.\n",
        "\n",
        "## We may prefer to handle such errors without terminating the program.  \n",
        "\n",
        "## For example, we could instead have our function *binom* return a flag indicating success or failure of the computation.\n",
        "\n",
        "## In this case we want to have our function return multiple values (a flag indicating success/failure as well as the value of the $\\binom{n}{k}$ calculation).  \n",
        "\n",
        "## There are multiple ways to write functions in C that return more than one value.\n",
        "\n",
        "## One common way is to allow the function to modify one or more of its arguments using **C pointers**."
      ],
      "metadata": {
        "id": "C1VE3X9WBSGS"
      }
    },
    {
      "cell_type": "markdown",
      "source": [
        "# Part 2 : Introduction to Pointers in C"
      ],
      "metadata": {
        "id": "Z0ZVvEbdSjo9"
      }
    },
    {
      "cell_type": "markdown",
      "source": [
        "## C pointers are memory addresses and can be used to assign values to variables **indirectly**.\n",
        "\n",
        "## Pointers are not available in Java.  This is one of the major differences between C and Java.\n",
        "\n",
        "## Consider the following example:"
      ],
      "metadata": {
        "id": "-N8WKmKjSoP4"
      }
    },
    {
      "cell_type": "code",
      "source": [
        "%%writefile pointer.c\n",
        "#include <stdio.h>\n",
        "\n",
        "int main () {\n",
        "    int a = 3;\n",
        "    int* p = &a;\n",
        "    *p = 4;\n",
        "    printf (\"a = %d and p = %p\\n\",a,p);\n",
        "}"
      ],
      "metadata": {
        "colab": {
          "base_uri": "https://localhost:8080/"
        },
        "id": "J3F263PGwqW1",
        "outputId": "efca277e-a07c-412a-f015-559d36d13495"
      },
      "execution_count": 12,
      "outputs": [
        {
          "output_type": "stream",
          "name": "stdout",
          "text": [
            "Overwriting pointer.c\n"
          ]
        }
      ]
    },
    {
      "cell_type": "markdown",
      "source": [
        "## Notes:\n",
        "\n",
        "* ### There are two new concepts in line 6.  First note that the type of the variable *p* is *int**.  In other words, $p$ is a **pointer** to an integer.  \n",
        "\n",
        "* ### The second new idea in line 6 is that & is a C operator that takes the **address** of a variable.  In particular, &a is the address (or location) where the variable *a* is stored in memory.\n",
        "\n",
        "* ### Putting these two ideas together, in line 6 we **declare** the variable *p* to be a pointer to an integer and we **initialize** the variable *p* to the memory address of *a*.  \n",
        "\n",
        "* ### In other words, line 6 initializes the integer pointer *p* to **point** to the integer variable *a*.\n",
        "\n",
        "* ### In line 7, the * is the C operator that **dereferences** a pointer.  In other words, **p* is an alias for the variable that the pointer *p* points to which is the variable *a*.  Thus, line 7 assigns the value 4 to the variable *a*.  \n",
        "\n",
        "* ### In line 8, the *%p* is the format specifier for pointer.  Pointers in C are printed in hexadecimal (see output below)."
      ],
      "metadata": {
        "id": "p9Al-n1ZUfSo"
      }
    },
    {
      "cell_type": "code",
      "source": [
        "!gcc -o pointer pointer.c"
      ],
      "metadata": {
        "id": "rBHI18MTTlOS"
      },
      "execution_count": 13,
      "outputs": []
    },
    {
      "cell_type": "code",
      "source": [
        "!./pointer"
      ],
      "metadata": {
        "colab": {
          "base_uri": "https://localhost:8080/"
        },
        "id": "GZOJJivnT-ll",
        "outputId": "1a2db7d0-9a34-4e89-ed89-8c479b28d9e3"
      },
      "execution_count": 14,
      "outputs": [
        {
          "output_type": "stream",
          "name": "stdout",
          "text": [
            "a = 4 and p = 0x7ffd4257955c\n"
          ]
        }
      ]
    },
    {
      "cell_type": "markdown",
      "source": [
        "## Note that we changed the value of $a$ to $4$ indirectly using the pointer $p$ and that the memory address contained in the pointer variable *p* is printed in hexadecimal.  "
      ],
      "metadata": {
        "id": "67FCm063UQgI"
      }
    },
    {
      "cell_type": "markdown",
      "source": [
        "## At this point you may be wondering why someone would want to use C pointers.  After all line 7 could be replaced with $a=4$.  This change would not effect the output of the program and the code would certainly be easier to read and understand.  \n",
        "\n",
        "## The benefits (and dangers) of using C pointers will become more clear as we progress.  \n",
        "\n",
        "## To understand our first application of C pointers we need to learn about **C function call semantics**.\n"
      ],
      "metadata": {
        "id": "QGhHg6CfoCrD"
      }
    },
    {
      "cell_type": "markdown",
      "source": [
        "# Part 3 : C Function call Semantics"
      ],
      "metadata": {
        "id": "ttIGJBlwpE1M"
      }
    },
    {
      "cell_type": "markdown",
      "source": [
        "## Consider the following C code that attempts to add 2 integers.\n",
        "\n",
        "## Note that we are attempting to return the answer through the function argument *c* instead of a return value (we may want to use the return value for something else such as an overflow flag)."
      ],
      "metadata": {
        "id": "SpOjTY-hpQnG"
      }
    },
    {
      "cell_type": "code",
      "source": [
        "%%writefile sum2_v1.c\n",
        "#include <stdio.h>\n",
        "\n",
        "void add(int a, int b, int c) {\n",
        "    c = a + b;\n",
        "}\n",
        "\n",
        "int main () {\n",
        "    int x = 3;\n",
        "    int y = 7;\n",
        "    int sum = 0;\n",
        "    add(x,y,sum);\n",
        "    printf (\"sum = %d\\n\",sum);\n",
        "}"
      ],
      "metadata": {
        "colab": {
          "base_uri": "https://localhost:8080/"
        },
        "id": "HDDPL_8AUFvy",
        "outputId": "0d958abb-693c-4a78-f0c2-aa6ef5f85867"
      },
      "execution_count": 15,
      "outputs": [
        {
          "output_type": "stream",
          "name": "stdout",
          "text": [
            "Overwriting sum2_v1.c\n"
          ]
        }
      ]
    },
    {
      "cell_type": "code",
      "source": [
        "!gcc -o sum2_v1 sum2_v1.c"
      ],
      "metadata": {
        "id": "k0P1BRg7rO4m"
      },
      "execution_count": 16,
      "outputs": []
    },
    {
      "cell_type": "code",
      "source": [
        "!./sum2_v1"
      ],
      "metadata": {
        "colab": {
          "base_uri": "https://localhost:8080/"
        },
        "id": "g6OI1o20rTyt",
        "outputId": "2fbc0588-5f2a-476b-c7de-fa7efb73dd8d"
      },
      "execution_count": 17,
      "outputs": [
        {
          "output_type": "stream",
          "name": "stdout",
          "text": [
            "sum = 0\n"
          ]
        }
      ]
    },
    {
      "cell_type": "markdown",
      "source": [
        "## The code outputs 0 which is the initial value of sum assigned in line 12 instead of the sum of 3 and 7 which is 10.   \n",
        "\n",
        "## The call to the function *add2* did not change the variable *sum*.\n",
        "\n",
        "## **C passes arguments to functions by value (also called pass by copy).**\n",
        "\n",
        "## When the function *add* is called, the values of x, y, and sum are copied to the variables a, b, and c.  \n",
        "\n",
        "## In particular, since line 5 operates on copies of the arguments, the value of the variable sum is not changed by the function.\n",
        "\n",
        "## In C we can work around the pass by value semantics by passing a pointer to the sum variable instead of the value of the sum variable.  Using a pointer to sum, the add2 function will be able to change the value of sum indirectly.  \n",
        "\n",
        "## Here is the new version that gives the expected output:"
      ],
      "metadata": {
        "id": "z8uWpOAcyb4c"
      }
    },
    {
      "cell_type": "code",
      "source": [
        "%%writefile sum2_v2.c\n",
        "#include <stdio.h>\n",
        "\n",
        "void add(int a, int b, int* c) {\n",
        "    *c = a + b;\n",
        "}\n",
        "\n",
        "int main () {\n",
        "    int x = 3;\n",
        "    int y = 7;\n",
        "    int sum = 0;\n",
        "    add(x,y,&sum);\n",
        "    printf (\"sum = %d\\n\",sum);\n",
        "}"
      ],
      "metadata": {
        "colab": {
          "base_uri": "https://localhost:8080/"
        },
        "id": "IT7k0w6Yrfun",
        "outputId": "1ebbbda2-cf1a-4d70-a3e9-efa46fac8a95"
      },
      "execution_count": 18,
      "outputs": [
        {
          "output_type": "stream",
          "name": "stdout",
          "text": [
            "Overwriting sum2_v2.c\n"
          ]
        }
      ]
    },
    {
      "cell_type": "markdown",
      "source": [
        "## Notes:\n",
        "\n",
        "* ### In line 4 we declare the third argument c to be an integer pointer.\n",
        "\n",
        "* ### In line 5 we dereference the pointer c using the syntax **c* so that the variable that the pointer c points to (which is the variable sum in this example) is assigned the value of *a+b*.\n",
        "\n",
        "* ### In line 12 we pass a pointer to the sum as our third argument using the *&sum* syntax (recall that & is the address operator in C)."
      ],
      "metadata": {
        "id": "F0Djk1E13jHy"
      }
    },
    {
      "cell_type": "code",
      "source": [
        "!gcc -o sum2_v2 sum2_v2.c"
      ],
      "metadata": {
        "id": "dJlXqcJE2hYp"
      },
      "execution_count": 19,
      "outputs": []
    },
    {
      "cell_type": "code",
      "source": [
        "!./sum2_v2"
      ],
      "metadata": {
        "colab": {
          "base_uri": "https://localhost:8080/"
        },
        "id": "M1gyh91L2itx",
        "outputId": "4b969214-2aa6-4ff4-da50-0340ea1abffd"
      },
      "execution_count": 20,
      "outputs": [
        {
          "output_type": "stream",
          "name": "stdout",
          "text": [
            "sum = 10\n"
          ]
        }
      ]
    },
    {
      "cell_type": "markdown",
      "source": [
        "# Part 4 : Computing $\\displaystyle\\binom{n}{k}$ Revisited"
      ],
      "metadata": {
        "id": "5uZ8fKbD6q3P"
      }
    },
    {
      "cell_type": "markdown",
      "source": [
        "## Here is the final version of our *binom* program that checks for overflow and uses a pointer to return the answer."
      ],
      "metadata": {
        "id": "sxYHgViH5AAh"
      }
    },
    {
      "cell_type": "code",
      "source": [
        "%%writefile binom_v4.c\n",
        "#include <stdio.h>\n",
        "#include <stdlib.h>\n",
        "#include <limits.h>\n",
        "\n",
        "// returns 0 if success\n",
        "// returns 1 if overflow\n",
        "int binom(int n, int k, long long* answer) {\n",
        "    *answer = 1;\n",
        "    for (int i=0;i<=k-1;i++) {\n",
        "        if (*answer > LLONG_MAX/(n-i)) {\n",
        "            return 1;\n",
        "        }\n",
        "        *answer = *answer*(n-i)/(i+1);\n",
        "    }\n",
        "    return 0;\n",
        "}\n",
        "\n",
        "int main (int argc, char* argv[]) {\n",
        "    if (argc < 3) {\n",
        "        printf (\"command usage: %s %s %s\\n\",argv[0],\"n\",\"k\");\n",
        "        return 1;\n",
        "    }\n",
        "    int n = atoi(argv[1]);\n",
        "    int k = atoi(argv[2]);\n",
        "    long long answer;\n",
        "    if (binom(n,k,&answer)) {\n",
        "        printf (\"overflow detected calculating %d choose %d\\n\",n,k);\n",
        "    } else {\n",
        "        printf (\"%lld\\n\",answer);\n",
        "    }\n",
        "}"
      ],
      "metadata": {
        "colab": {
          "base_uri": "https://localhost:8080/"
        },
        "id": "AINN_ODc2kgH",
        "outputId": "1293704e-dfed-4b47-af3d-c08a8c6682d3"
      },
      "execution_count": 21,
      "outputs": [
        {
          "output_type": "stream",
          "name": "stdout",
          "text": [
            "Overwriting binom_v4.c\n"
          ]
        }
      ]
    },
    {
      "cell_type": "markdown",
      "source": [
        "## Notes:\n",
        "\n",
        "* ### C does not have a Boolean datatype.  Instead we typically use integers for Booleans.  In C, 0 is FALSE and any other integer is TRUE.  Thus, on line 27 we are checking to see if binom returned any value other than 0.  "
      ],
      "metadata": {
        "id": "veZD9Dj7NSK9"
      }
    },
    {
      "cell_type": "code",
      "source": [
        "!gcc -o binom_v4 binom_v4.c"
      ],
      "metadata": {
        "id": "ojRjwy2n6RVo"
      },
      "execution_count": 22,
      "outputs": []
    },
    {
      "cell_type": "code",
      "source": [
        "!./binom_v4 256 8"
      ],
      "metadata": {
        "colab": {
          "base_uri": "https://localhost:8080/"
        },
        "id": "iTu0YoFy6TpC",
        "outputId": "482707b4-4ab0-4244-ddad-df2cedb24251"
      },
      "execution_count": 23,
      "outputs": [
        {
          "output_type": "stream",
          "name": "stdout",
          "text": [
            "409663695276000\n"
          ]
        }
      ]
    },
    {
      "cell_type": "code",
      "source": [
        "!./binom_v4 256 16"
      ],
      "metadata": {
        "colab": {
          "base_uri": "https://localhost:8080/"
        },
        "id": "-c2D05Jp6Vc-",
        "outputId": "d744c3bb-a1f7-4ba9-c110-54f16e2c3ce3"
      },
      "execution_count": 24,
      "outputs": [
        {
          "output_type": "stream",
          "name": "stdout",
          "text": [
            "overflow detected calculating 256 choose 16\n"
          ]
        }
      ]
    },
    {
      "cell_type": "markdown",
      "source": [
        "# Part 5 : Reading Input from *stdin* Using *scanf*"
      ],
      "metadata": {
        "id": "0QDhJUfRaI-_"
      }
    },
    {
      "cell_type": "markdown",
      "source": [
        "## In the previous lecture we learned how to use command line arguments to get input from the user at runtime.  \n",
        "\n",
        "## Command line arguments only make sense for a small amount of input.  \n",
        "\n",
        "## For larger inputs (such as a file containing data) we can read the input from *stdin* using *scanf* (formatted scan).  \n",
        "\n",
        "## Arguments to *scanf* are passed by pointer so that they can be modified (indirectly) to contain the next inputs from *stdin*.  \n",
        "\n",
        "## The return value of *scanf* gives the number of fields that were successfully converted and assigned to variables.\n",
        "\n",
        "## One key use of the return value of *scanf* is to check for *end of file*.\n",
        "\n",
        "## Here is a C program that sums the numbers read from *stdin*.  "
      ],
      "metadata": {
        "id": "U7pzCzl2aZEb"
      }
    },
    {
      "cell_type": "code",
      "source": [
        "%%writefile sum.c\n",
        "#include <stdio.h>\n",
        "\n",
        "int main () {\n",
        "    int sum = 0;\n",
        "    int next;\n",
        "    while (scanf(\"%d\",&next) == 1) {\n",
        "        sum = sum + next;\n",
        "    }\n",
        "    printf (\"sum = %d\\n\",sum);\n",
        "}"
      ],
      "metadata": {
        "colab": {
          "base_uri": "https://localhost:8080/"
        },
        "id": "s9kQmBr-6ZHm",
        "outputId": "d5202083-94dd-42e7-8a86-9694d3398f61"
      },
      "execution_count": 25,
      "outputs": [
        {
          "output_type": "stream",
          "name": "stdout",
          "text": [
            "Overwriting sum.c\n"
          ]
        }
      ]
    },
    {
      "cell_type": "markdown",
      "source": [
        "## Notes:\n",
        "\n",
        "* ### If scanf reaches the end of the *stdin* input stream (i.e. end of file), *scanf* will return EOF (a negative number constant defined inside stdio.h) and the loop exits."
      ],
      "metadata": {
        "id": "847WpAu-OHBI"
      }
    },
    {
      "cell_type": "code",
      "source": [
        "!gcc -o sum sum.c"
      ],
      "metadata": {
        "id": "ctAufPPCdHK3"
      },
      "execution_count": 26,
      "outputs": []
    },
    {
      "cell_type": "code",
      "source": [
        "!echo 10 20 30 | ./sum"
      ],
      "metadata": {
        "colab": {
          "base_uri": "https://localhost:8080/"
        },
        "id": "g2yTMFn1dI2V",
        "outputId": "d616b467-4bbb-4746-cc60-661d7e92569f"
      },
      "execution_count": 27,
      "outputs": [
        {
          "output_type": "stream",
          "name": "stdout",
          "text": [
            "sum = 60\n"
          ]
        }
      ]
    },
    {
      "cell_type": "code",
      "source": [
        "!echo 5 10 15 20 > num.dat"
      ],
      "metadata": {
        "id": "OGk3cUd9dMJr"
      },
      "execution_count": 28,
      "outputs": []
    },
    {
      "cell_type": "code",
      "source": [
        "!cat num.dat | ./sum"
      ],
      "metadata": {
        "colab": {
          "base_uri": "https://localhost:8080/"
        },
        "id": "dwO4x8vQd5UE",
        "outputId": "dd313b52-0f83-4cb9-a245-78cd8ec96d26"
      },
      "execution_count": 29,
      "outputs": [
        {
          "output_type": "stream",
          "name": "stdout",
          "text": [
            "sum = 50\n"
          ]
        }
      ]
    },
    {
      "cell_type": "code",
      "source": [
        "!echo 2000000000 4000000000 | ./sum"
      ],
      "metadata": {
        "colab": {
          "base_uri": "https://localhost:8080/"
        },
        "id": "IZ8MgPQ4fotO",
        "outputId": "380fb5dd-5b76-4c77-fbd5-d9b7c5989ce0"
      },
      "execution_count": 30,
      "outputs": [
        {
          "output_type": "stream",
          "name": "stdout",
          "text": [
            "sum = 1705032704\n"
          ]
        }
      ]
    },
    {
      "cell_type": "markdown",
      "source": [
        "# Exercise 1 : Write a program called *bigsum* that calculates a potentially large sum of big numbers read from *stdin* using variables of type *long long* instead of *int*.  \n",
        "\n",
        "## Test your program using:\n",
        "\n",
        "*!echo 2000000000 4000000000 | ./bigsum*\n",
        "\n",
        "## It should output\n",
        "\n",
        "*sum = 6000000000*\n",
        "\n",
        "##Hint: Recall that *%lld* is the format specifier for *long long*."
      ],
      "metadata": {
        "id": "KCMLVzcgeGcn"
      }
    },
    {
      "cell_type": "markdown",
      "source": [
        "## Here is a function that finds the smallest number in the input stream *stdin*."
      ],
      "metadata": {
        "id": "PdWiSex7iXsF"
      }
    },
    {
      "cell_type": "code",
      "source": [
        "%%writefile smallest.c\n",
        "#include <stdio.h>\n",
        "#include <limits.h>\n",
        "\n",
        "int main () {\n",
        "    int smallest = INT_MAX;\n",
        "    int next;\n",
        "    while (scanf(\"%d\",&next) == 1) {\n",
        "        if (next < smallest) {\n",
        "            smallest = next;\n",
        "        }\n",
        "    }\n",
        "    printf (\"The smallest number is %d\\n\",smallest);\n",
        "}"
      ],
      "metadata": {
        "id": "gkQ9fNIMfjK2",
        "colab": {
          "base_uri": "https://localhost:8080/"
        },
        "outputId": "ad4c01e9-7b09-426d-e6a1-cda3a59b824b"
      },
      "execution_count": 31,
      "outputs": [
        {
          "output_type": "stream",
          "name": "stdout",
          "text": [
            "Overwriting smallest.c\n"
          ]
        }
      ]
    },
    {
      "cell_type": "code",
      "source": [
        "!gcc -o smallest smallest.c"
      ],
      "metadata": {
        "id": "bpc4sPlDV5Dg"
      },
      "execution_count": 32,
      "outputs": []
    },
    {
      "cell_type": "code",
      "source": [
        "!echo -25 50 -75 100 -200 -3433 4500 | ./smallest"
      ],
      "metadata": {
        "colab": {
          "base_uri": "https://localhost:8080/"
        },
        "id": "P_RTYTgxV8Ub",
        "outputId": "a9f7c0f7-b5e3-4849-fdbb-37f9df80127b"
      },
      "execution_count": 33,
      "outputs": [
        {
          "output_type": "stream",
          "name": "stdout",
          "text": [
            "The smallest number is -3433\n"
          ]
        }
      ]
    },
    {
      "cell_type": "markdown",
      "source": [
        "## Exercise 2 : Write a program called *smallest3* that finds the three smallest integers in *stdin*.\n",
        "\n",
        "## Hint: Copy smallest.c to smallest3.c and modify it."
      ],
      "metadata": {
        "id": "DgwL6392WV_P"
      }
    },
    {
      "cell_type": "markdown",
      "source": [
        "## Here is a program that finds the integer in *stdin* closest to a given number."
      ],
      "metadata": {
        "id": "pjdVD2JJWkgx"
      }
    },
    {
      "cell_type": "code",
      "source": [
        "%%writefile closest.c\n",
        "#include <stdio.h>\n",
        "#include <stdlib.h>\n",
        "#include <limits.h>\n",
        "\n",
        "int main (int argc, char* argv[]) {\n",
        "    if (argc < 2) {\n",
        "        printf (\"command usage: %s %s\\n\",argv[0],\"center\");\n",
        "    }\n",
        "    int center = atoi(argv[1]);\n",
        "    int closest;\n",
        "    int smallest_distance = INT_MAX;\n",
        "    int next;\n",
        "    while (scanf(\"%d\",&next) == 1) {\n",
        "        int distance = abs(next-center);\n",
        "        if (distance < smallest_distance) {\n",
        "            closest = next;\n",
        "            smallest_distance = distance;\n",
        "        }\n",
        "    }\n",
        "    printf (\"The number closest to %d is %d\\n\",center,closest);\n",
        "}"
      ],
      "metadata": {
        "colab": {
          "base_uri": "https://localhost:8080/"
        },
        "id": "z1nQIFCbWBYz",
        "outputId": "d519ae79-6fe6-4f7d-e759-03c7f238eff2"
      },
      "execution_count": 34,
      "outputs": [
        {
          "output_type": "stream",
          "name": "stdout",
          "text": [
            "Overwriting closest.c\n"
          ]
        }
      ]
    },
    {
      "cell_type": "code",
      "source": [
        "!gcc -o closest closest.c -lm"
      ],
      "metadata": {
        "id": "J_iAwX2sWMDK"
      },
      "execution_count": 35,
      "outputs": []
    },
    {
      "cell_type": "code",
      "source": [
        "!echo 15 -7 25 -2 30 -5 29 37 -25 | ./closest 5"
      ],
      "metadata": {
        "colab": {
          "base_uri": "https://localhost:8080/"
        },
        "id": "DGDNzM1vZmXr",
        "outputId": "c49e4b50-87d5-4636-db2e-0de7a6fe8377"
      },
      "execution_count": 36,
      "outputs": [
        {
          "output_type": "stream",
          "name": "stdout",
          "text": [
            "The number closest to 5 is -2\n"
          ]
        }
      ]
    },
    {
      "cell_type": "markdown",
      "source": [
        "## Exercise 3 : Write a program called *closest3* that finds the three integers in *stdin* closest to a given command line argument *center*.\n",
        "\n",
        "## Hint: Copy closest.c to closest3.c and modify it."
      ],
      "metadata": {
        "id": "4yK2kuOSag01"
      }
    },
    {
      "cell_type": "code",
      "source": [],
      "metadata": {
        "id": "jaGjmWz0Z1IC"
      },
      "execution_count": 36,
      "outputs": []
    }
  ]
}