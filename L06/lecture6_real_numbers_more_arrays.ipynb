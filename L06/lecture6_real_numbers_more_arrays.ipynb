{
  "nbformat": 4,
  "nbformat_minor": 0,
  "metadata": {
    "colab": {
      "provenance": []
    },
    "kernelspec": {
      "name": "python3",
      "display_name": "Python 3"
    },
    "language_info": {
      "name": "python"
    }
  },
  "cells": [
    {
      "cell_type": "markdown",
      "source": [
        "# Lecture 6 : Real Numbers and More Arrays"
      ],
      "metadata": {
        "id": "wqJ0SLUueKZf"
      }
    },
    {
      "cell_type": "markdown",
      "source": [
        "# Part 1 : Working with Real Numbers in C"
      ],
      "metadata": {
        "id": "gsg8zykG1Nfv"
      }
    },
    {
      "cell_type": "markdown",
      "source": [
        "## Here is a C program that computes the average of numbers in *stdin*."
      ],
      "metadata": {
        "id": "4W3Zb3ArTFdi"
      }
    },
    {
      "cell_type": "code",
      "source": [
        "%%writefile average_v1.c\n",
        "#include <stdio.h>\n",
        "\n",
        "int main () {\n",
        "    int next;\n",
        "    int sum = 0;\n",
        "    int count = 0;\n",
        "    while (scanf(\"%d\",&next) == 1) {\n",
        "        sum += next;\n",
        "        count += 1;\n",
        "    }\n",
        "    printf (\"average = %d\\n\",sum/count);\n",
        "}"
      ],
      "metadata": {
        "colab": {
          "base_uri": "https://localhost:8080/"
        },
        "id": "xgmt2GLUzSvA",
        "outputId": "9f14e956-6e1d-4d86-fc35-ec1720da4150"
      },
      "execution_count": 1,
      "outputs": [
        {
          "output_type": "stream",
          "name": "stdout",
          "text": [
            "Overwriting average_v1.c\n"
          ]
        }
      ]
    },
    {
      "cell_type": "code",
      "source": [
        "!gcc -o average_v1 average_v1.c"
      ],
      "metadata": {
        "id": "73EWbXVc1LhY"
      },
      "execution_count": 2,
      "outputs": []
    },
    {
      "cell_type": "code",
      "source": [
        "!echo 1 2 3 4 5 | ./average_v1"
      ],
      "metadata": {
        "colab": {
          "base_uri": "https://localhost:8080/"
        },
        "id": "jJvMo12T188T",
        "outputId": "948cf616-b7f8-447f-baea-feb59f6aaf22"
      },
      "execution_count": 3,
      "outputs": [
        {
          "output_type": "stream",
          "name": "stdout",
          "text": [
            "average = 3\n"
          ]
        }
      ]
    },
    {
      "cell_type": "markdown",
      "source": [
        "## Note that the average of the numbers $1$, $2$, $3$, $4$, $5$ is indeed $3$."
      ],
      "metadata": {
        "id": "oj0z7MtxTNYG"
      }
    },
    {
      "cell_type": "code",
      "source": [
        "!echo 1 2 3 4 | ./average_v1"
      ],
      "metadata": {
        "colab": {
          "base_uri": "https://localhost:8080/"
        },
        "id": "inVz4uDN1-Km",
        "outputId": "76b68029-47c0-41c4-8365-cfe27dd2ed3c"
      },
      "execution_count": 4,
      "outputs": [
        {
          "output_type": "stream",
          "name": "stdout",
          "text": [
            "average = 2\n"
          ]
        }
      ]
    },
    {
      "cell_type": "markdown",
      "source": [
        "## In this case the average should be $10/4 = 2.5$ but the program prints $2$ since we are using *integer division*.  \n",
        "\n",
        "## Since the average of a set of numbers is typically a real number, we need to use a floating point type such as a float or double to store the average."
      ],
      "metadata": {
        "id": "SNTP0njATU6H"
      }
    },
    {
      "cell_type": "code",
      "source": [
        "%%writefile average_v2.c\n",
        "#include <stdio.h>\n",
        "\n",
        "int main () {\n",
        "    int next;\n",
        "    int sum = 0;\n",
        "    int count = 0;\n",
        "    while (scanf(\"%d\",&next) == 1) {\n",
        "        sum += next;\n",
        "        count += 1;\n",
        "    }\n",
        "    double average = sum/count;\n",
        "    printf (\"average = %f\\n\",average);\n",
        "}"
      ],
      "metadata": {
        "colab": {
          "base_uri": "https://localhost:8080/"
        },
        "id": "qy3U2DCP2PSQ",
        "outputId": "85b79dac-fd52-4b53-c276-0a7f35b31dee"
      },
      "execution_count": 5,
      "outputs": [
        {
          "output_type": "stream",
          "name": "stdout",
          "text": [
            "Overwriting average_v2.c\n"
          ]
        }
      ]
    },
    {
      "cell_type": "markdown",
      "source": [
        "## Note that on line 13 we use *%f* for the format specifier for printing a float or a double type."
      ],
      "metadata": {
        "id": "8W3yTBo_T9YQ"
      }
    },
    {
      "cell_type": "code",
      "source": [
        "!gcc -o average_v2 average_v2.c"
      ],
      "metadata": {
        "id": "o3gT9VOQ2x7z"
      },
      "execution_count": 6,
      "outputs": []
    },
    {
      "cell_type": "code",
      "source": [
        "!echo 1 2 3 4 | ./average_v2"
      ],
      "metadata": {
        "colab": {
          "base_uri": "https://localhost:8080/"
        },
        "id": "v5ANJmQy2qko",
        "outputId": "a4557d93-9ea6-4ba3-c55c-d7438b206c16"
      },
      "execution_count": 7,
      "outputs": [
        {
          "output_type": "stream",
          "name": "stdout",
          "text": [
            "average = 2.000000\n"
          ]
        }
      ]
    },
    {
      "cell_type": "markdown",
      "source": [
        "## We see that this version still computes the incorrect average.  \n",
        "\n",
        "## Note that in line 12 we are computing the quantity sum/count and assigning it to average.  \n",
        "\n",
        "## However, since both variables sum and count have *int* type, the division is integer division.  \n",
        "\n",
        "## The next version correct this problem.  \n",
        "\n"
      ],
      "metadata": {
        "id": "v6yAVVK4T3qF"
      }
    },
    {
      "cell_type": "code",
      "source": [
        "%%writefile average_v3.c\n",
        "#include <stdio.h>\n",
        "\n",
        "int main () {\n",
        "    int next;\n",
        "    int sum = 0;\n",
        "    int count = 0;\n",
        "    while (scanf(\"%d\",&next) == 1) {\n",
        "        sum += next;\n",
        "        count += 1;\n",
        "    }\n",
        "    double average = (double)sum/count;\n",
        "    printf (\"average = %.2f\\n\",average);\n",
        "}"
      ],
      "metadata": {
        "colab": {
          "base_uri": "https://localhost:8080/"
        },
        "id": "pdcKqFu92sZD",
        "outputId": "86ce3c15-f572-4658-a794-c9ac5127a44b"
      },
      "execution_count": 8,
      "outputs": [
        {
          "output_type": "stream",
          "name": "stdout",
          "text": [
            "Overwriting average_v3.c\n"
          ]
        }
      ]
    },
    {
      "cell_type": "markdown",
      "source": [
        "## Note this time on line 13 we are using the *%.2f* format specifier.  This *.2* tells C to round and print the result to 2 decimal places.  "
      ],
      "metadata": {
        "id": "YlSi-AQUVVnJ"
      }
    },
    {
      "cell_type": "code",
      "source": [
        "!gcc -o average_v3 average_v3.c"
      ],
      "metadata": {
        "id": "l7LY5hzi3Nzk"
      },
      "execution_count": 9,
      "outputs": []
    },
    {
      "cell_type": "code",
      "source": [
        "!echo 1 2 3 4 | ./average_v3"
      ],
      "metadata": {
        "colab": {
          "base_uri": "https://localhost:8080/"
        },
        "id": "cc4vTkTE3PmT",
        "outputId": "cfb6cac3-528f-4603-f563-251add290c2f"
      },
      "execution_count": 10,
      "outputs": [
        {
          "output_type": "stream",
          "name": "stdout",
          "text": [
            "average = 2.50\n"
          ]
        }
      ]
    },
    {
      "cell_type": "markdown",
      "source": [
        "## In this case we are getting the correct answer 2.5.  \n",
        "\n",
        "## In line 12, we compute (double)sum/count.  \n",
        "\n",
        "## Although both sum and count are int we are casting sum to a *double*.  \n",
        "\n",
        "## In this case C promotes the integer count to *double* type as well and the division is floating point instead of integer division."
      ],
      "metadata": {
        "id": "mzy5gvcSUodx"
      }
    },
    {
      "cell_type": "code",
      "source": [
        "!echo 1.5 2.5 | ./average_v3"
      ],
      "metadata": {
        "colab": {
          "base_uri": "https://localhost:8080/"
        },
        "id": "jTDXLv4f3RlP",
        "outputId": "83c15ad3-b6dd-4d6e-c20a-431e376a801b"
      },
      "execution_count": 11,
      "outputs": [
        {
          "output_type": "stream",
          "name": "stdout",
          "text": [
            "average = 1.00\n"
          ]
        }
      ]
    },
    {
      "cell_type": "markdown",
      "source": [
        "## In this case we get the incorrect answer since the inputs are real numbers instead of integers.  \n",
        "\n",
        "## To fix this we need to change line 8 to read double types using the *%lf* format specifier.  \n",
        "\n",
        "## **Be careful** not to use the format *%f* to read a double type using *scanf*.\n",
        "\n",
        "## We also need to change types of next and sum to *double*.  "
      ],
      "metadata": {
        "id": "QHPOkWQQWULS"
      }
    },
    {
      "cell_type": "code",
      "source": [
        "%%writefile average_v4.c\n",
        "#include <stdio.h>\n",
        "\n",
        "int main () {\n",
        "    double next;\n",
        "    double sum = 0.;\n",
        "    int count = 0;\n",
        "    while (scanf(\"%lf\",&next) == 1) {\n",
        "        sum += next;\n",
        "        count += 1;\n",
        "    }\n",
        "    float average = sum/count;\n",
        "    printf (\"average = %.2f\\n\",average);\n",
        "}"
      ],
      "metadata": {
        "colab": {
          "base_uri": "https://localhost:8080/"
        },
        "id": "mJlQy_oo3aNV",
        "outputId": "38c560bc-49fe-480c-da85-b61597ad9809"
      },
      "execution_count": 12,
      "outputs": [
        {
          "output_type": "stream",
          "name": "stdout",
          "text": [
            "Overwriting average_v4.c\n"
          ]
        }
      ]
    },
    {
      "cell_type": "code",
      "source": [
        "!gcc -o average_v4 average_v4.c"
      ],
      "metadata": {
        "id": "9FKMErP14CeC"
      },
      "execution_count": 13,
      "outputs": []
    },
    {
      "cell_type": "code",
      "source": [
        "!echo 1.5 2.5 | ./average_v4"
      ],
      "metadata": {
        "colab": {
          "base_uri": "https://localhost:8080/"
        },
        "id": "uq1qCnd23_Ld",
        "outputId": "c72bea7c-d3f9-4d89-c31d-d1dd0b9b0aed"
      },
      "execution_count": 14,
      "outputs": [
        {
          "output_type": "stream",
          "name": "stdout",
          "text": [
            "average = 2.00\n"
          ]
        }
      ]
    },
    {
      "cell_type": "code",
      "source": [
        "!echo 1.5 2.5 3.5 | ./average_v4"
      ],
      "metadata": {
        "colab": {
          "base_uri": "https://localhost:8080/"
        },
        "id": "I3pvQrEY4A_m",
        "outputId": "20572bd9-325d-4ea1-fbb4-28e612bc0a23"
      },
      "execution_count": 15,
      "outputs": [
        {
          "output_type": "stream",
          "name": "stdout",
          "text": [
            "average = 2.50\n"
          ]
        }
      ]
    },
    {
      "cell_type": "markdown",
      "source": [
        "# Part 2 : Float or Double?"
      ],
      "metadata": {
        "id": "h5H65lTbS2Yl"
      }
    },
    {
      "cell_type": "markdown",
      "source": [
        "## A C float has 32 bits and a C double has 64 bits (same as Java).\n",
        "\n",
        "## To see the difference in accuracy between a float and a double, let's approximate the value of:\n",
        "\n",
        "$$\\large{e = 2.718281828459045}$$\n",
        "\n",
        "## We can approximate e using the Taylor series formula:\n",
        "\n",
        "$$\\large{e \\approx 1 + \\frac{1}{1!} + \\frac{1}{2!} + \\frac{1}{3!} + \\cdots}$$\n",
        "\n",
        "## Version 1 adds up the first n terms of the above formula and accumulates the result in a *float*.  "
      ],
      "metadata": {
        "id": "s0if5r-3JBs2"
      }
    },
    {
      "cell_type": "code",
      "source": [
        "%%writefile approx_e_v1.c\n",
        "#include <stdio.h>\n",
        "#include <stdlib.h>\n",
        "\n",
        "int main (int argc, char* argv[]) {\n",
        "    if (argc < 2) {\n",
        "        printf (\"command usage: %s %s\\n\",argv[0],\"n\");\n",
        "        return 1;\n",
        "    }\n",
        "    int n = atoi(argv[1]);\n",
        "    float approx_e = 0.;\n",
        "    long long fact = 1;\n",
        "    for (int i=1;i<=n;i++) {\n",
        "        approx_e += 1.0/fact;\n",
        "        fact *= i;\n",
        "    }\n",
        "    printf (\"exact  value of e is %.15f\\n\",2.718281828459045);\n",
        "    printf (\"approx value of e is %.15f\\n\",approx_e);\n",
        "}"
      ],
      "metadata": {
        "colab": {
          "base_uri": "https://localhost:8080/"
        },
        "id": "x1cEi_SO4QwQ",
        "outputId": "21829d96-eba4-47dc-92e5-7b7d6f8008d9"
      },
      "execution_count": 16,
      "outputs": [
        {
          "output_type": "stream",
          "name": "stdout",
          "text": [
            "Overwriting approx_e_v1.c\n"
          ]
        }
      ]
    },
    {
      "cell_type": "code",
      "source": [
        "!gcc -o approx_e_v1 approx_e_v1.c"
      ],
      "metadata": {
        "id": "ftdDO32oKEXk"
      },
      "execution_count": 17,
      "outputs": []
    },
    {
      "cell_type": "code",
      "source": [
        "!./approx_e_v1 10"
      ],
      "metadata": {
        "colab": {
          "base_uri": "https://localhost:8080/"
        },
        "id": "qiFK95QgKHQA",
        "outputId": "d016b24c-052f-4876-bea0-b3dc4f63e992"
      },
      "execution_count": 18,
      "outputs": [
        {
          "output_type": "stream",
          "name": "stdout",
          "text": [
            "exact  value of e is 2.718281828459045\n",
            "approx value of e is 2.718281745910645\n"
          ]
        }
      ]
    },
    {
      "cell_type": "markdown",
      "source": [
        "## With 10 terms we estimated the value of $e$ correctly to 6 decimal digits.  "
      ],
      "metadata": {
        "id": "GB1mVCRDPUKD"
      }
    },
    {
      "cell_type": "code",
      "source": [
        "!./approx_e_v1 20"
      ],
      "metadata": {
        "colab": {
          "base_uri": "https://localhost:8080/"
        },
        "id": "5DYP3oMZPnYu",
        "outputId": "1ad74ed5-7e29-4985-f661-e69ba90b0249"
      },
      "execution_count": 19,
      "outputs": [
        {
          "output_type": "stream",
          "name": "stdout",
          "text": [
            "exact  value of e is 2.718281828459045\n",
            "approx value of e is 2.718281984329224\n"
          ]
        }
      ]
    },
    {
      "cell_type": "markdown",
      "source": [
        "## With 20 terms we still only estimated the value of $e$ correctly to 6 decimal digits.  "
      ],
      "metadata": {
        "id": "4CGEvvz_PsJh"
      }
    },
    {
      "cell_type": "markdown",
      "source": [
        "## Version 2 adds up the first n terms of the above formula and accumulates the result in a *double*."
      ],
      "metadata": {
        "id": "I49kbD6QQP1T"
      }
    },
    {
      "cell_type": "code",
      "source": [
        "%%writefile approx_e_v2.c\n",
        "#include <stdio.h>\n",
        "#include <stdlib.h>\n",
        "\n",
        "int main (int argc, char* argv[]) {\n",
        "    if (argc < 2) {\n",
        "        printf (\"command usage: %s %s\\n\",argv[0],\"n\");\n",
        "        return 1;\n",
        "    }\n",
        "    int n = atoi(argv[1]);\n",
        "    double approx_e = 0.;\n",
        "    long long fact = 1;\n",
        "    for (int i=1;i<=n;i++) {\n",
        "        approx_e += 1.0/fact;\n",
        "        fact *= i;\n",
        "    }\n",
        "    printf (\"exact  value of e is %.15f\\n\",2.718281828459045);\n",
        "    printf (\"approx value of e is %.15f\\n\",approx_e);\n",
        "}"
      ],
      "metadata": {
        "colab": {
          "base_uri": "https://localhost:8080/"
        },
        "id": "FkVag0ClKLtC",
        "outputId": "f350a051-2aa8-444b-e8e5-e78ba9f3f72d"
      },
      "execution_count": 20,
      "outputs": [
        {
          "output_type": "stream",
          "name": "stdout",
          "text": [
            "Overwriting approx_e_v2.c\n"
          ]
        }
      ]
    },
    {
      "cell_type": "code",
      "source": [
        "!gcc -o approx_e_v2 approx_e_v2.c"
      ],
      "metadata": {
        "id": "tnzGB1gDLY_k"
      },
      "execution_count": 21,
      "outputs": []
    },
    {
      "cell_type": "code",
      "source": [
        "!./approx_e_v2 10"
      ],
      "metadata": {
        "colab": {
          "base_uri": "https://localhost:8080/"
        },
        "id": "roZvRNLUQaVa",
        "outputId": "db434fd6-8633-453f-b4fa-8ec79db80bab"
      },
      "execution_count": 22,
      "outputs": [
        {
          "output_type": "stream",
          "name": "stdout",
          "text": [
            "exact  value of e is 2.718281828459045\n",
            "approx value of e is 2.718281525573192\n"
          ]
        }
      ]
    },
    {
      "cell_type": "markdown",
      "source": [
        "## With 10 terms we estimated the value of $e$ correctly to 6 decimal digits."
      ],
      "metadata": {
        "id": "w7JGNz46QY7i"
      }
    },
    {
      "cell_type": "code",
      "source": [
        "!./approx_e_v2 20"
      ],
      "metadata": {
        "colab": {
          "base_uri": "https://localhost:8080/"
        },
        "id": "Aurs7xHVLWi8",
        "outputId": "302f7eab-aae5-4056-cbc0-ca6aae44c7ca"
      },
      "execution_count": 23,
      "outputs": [
        {
          "output_type": "stream",
          "name": "stdout",
          "text": [
            "exact  value of e is 2.718281828459045\n",
            "approx value of e is 2.718281828459046\n"
          ]
        }
      ]
    },
    {
      "cell_type": "markdown",
      "source": [
        "## With 20 terms we estimated the value of $e$ correctly to 14 decimal digits."
      ],
      "metadata": {
        "id": "1ohtP_8cQoLa"
      }
    },
    {
      "cell_type": "code",
      "source": [
        "!./approx_e_v2 30"
      ],
      "metadata": {
        "colab": {
          "base_uri": "https://localhost:8080/"
        },
        "id": "TlIrgpQvLX38",
        "outputId": "38d30184-1296-4033-adf9-008b6ae8f23e"
      },
      "execution_count": 24,
      "outputs": [
        {
          "output_type": "stream",
          "name": "stdout",
          "text": [
            "exact  value of e is 2.718281828459045\n",
            "approx value of e is 2.718281828459046\n"
          ]
        }
      ]
    },
    {
      "cell_type": "markdown",
      "source": [
        "## With 30 terms we still only estimated the value of $e$ correctly to 14 decimal digits."
      ],
      "metadata": {
        "id": "GcdeYI8RQvDI"
      }
    },
    {
      "cell_type": "markdown",
      "source": [
        "## The decision to use float versus double is a tradeoff between accuracy and storage/performance.\n",
        "\n",
        "## In this class we will normally use double for the additional accuracy.\n",
        "\n",
        "## In certain machine learning applications, high accuracy is not needed so it is common to use *float* instead of *double* (or even floating point types that use fewer than 32 bits)!  This is especially true for large scale ML algorithms implemented using GPUs where high performance is essential."
      ],
      "metadata": {
        "id": "1LDKksVkQ-RF"
      }
    },
    {
      "cell_type": "markdown",
      "source": [
        "# Part 3 : Sample Standard Deviation\n",
        "\n",
        "## Here is a C program that computes the average and sample standard deviation of real number scores in *stdin*.  For the standard deviation we use the formula:\n",
        "\n",
        "$$\\sigma = \\sqrt{ \\frac{1}{N-1} \\sum_{i=1}^N (x_i - \\bar{x})^2}$$\n",
        "\n",
        "## where\n",
        "\n",
        "$$\\bar{x} = \\displaystyle\\frac{1}{N} \\displaystyle\\sum_{i=1}^N x_i$$\n",
        "\n",
        "## In this case we will have to store the data in an array since we need to make two passes over it."
      ],
      "metadata": {
        "id": "o4R-9hECZ4om"
      }
    },
    {
      "cell_type": "code",
      "source": [
        "%%writefile stdev.c\n",
        "#include <stdio.h>\n",
        "#include <math.h>\n",
        "\n",
        "#define MAX_SCORES 1000\n",
        "\n",
        "int main () {\n",
        "    double scores[MAX_SCORES];\n",
        "    double next;\n",
        "    int num_scores = 0;\n",
        "    while (scanf(\"%lf\",&next) == 1) {\n",
        "        if (num_scores < MAX_SCORES) {\n",
        "            scores[num_scores] = next;\n",
        "            num_scores += 1;\n",
        "        } else {\n",
        "            printf (\"Too many scores!\\n\");\n",
        "            return 1;\n",
        "        }\n",
        "    }\n",
        "    double sum = 0.;\n",
        "    for (int i=0;i<num_scores;i++) {\n",
        "        sum += scores[i];\n",
        "    }\n",
        "    double mean = sum/num_scores;\n",
        "    printf (\"mean = %.2f\\n\",mean);\n",
        "    double sum_sqs = 0.;\n",
        "    for (int i=0;i<num_scores;i++) {\n",
        "        sum_sqs += (scores[i]-mean)*(scores[i]-mean);\n",
        "    }\n",
        "    double var = sum_sqs/(num_scores-1);\n",
        "    printf (\"standard deviation = %.2f\\n\",sqrt(var));\n",
        "}"
      ],
      "metadata": {
        "colab": {
          "base_uri": "https://localhost:8080/"
        },
        "id": "Z_6OO5EaQsWh",
        "outputId": "fc2312b3-b70b-4e90-a09c-9ccfa7a9d51a"
      },
      "execution_count": 25,
      "outputs": [
        {
          "output_type": "stream",
          "name": "stdout",
          "text": [
            "Overwriting stdev.c\n"
          ]
        }
      ]
    },
    {
      "cell_type": "code",
      "source": [
        "!gcc -o stdev stdev.c -lm"
      ],
      "metadata": {
        "id": "1cvhyR7Qcjuc"
      },
      "execution_count": 26,
      "outputs": []
    },
    {
      "cell_type": "code",
      "source": [
        "!echo 86.5 81.0 92.5 86.5 74.5 57.5 76.5 94.5 66.5 98.5 23.5 47.5 74.5 77.5 88.0 | ./stdev"
      ],
      "metadata": {
        "colab": {
          "base_uri": "https://localhost:8080/"
        },
        "id": "kZnT6ycgciPV",
        "outputId": "b72398e4-abc5-449e-ef97-c43517ef63d0"
      },
      "execution_count": 27,
      "outputs": [
        {
          "output_type": "stream",
          "name": "stdout",
          "text": [
            "mean = 75.03\n",
            "standard deviation = 19.83\n"
          ]
        }
      ]
    },
    {
      "cell_type": "markdown",
      "source": [
        "# Part 4 : Finding the Best Wordle Start Word"
      ],
      "metadata": {
        "id": "RvR6vVxRhSgY"
      }
    },
    {
      "cell_type": "code",
      "source": [
        "!wget -O answers.txt https://gist.githubusercontent.com/cfreshman/a7b776506c73284511034e63af1017ee/raw/60531ab531c4db602dacaa4f6c0ebf2590b123da/wordle-nyt-answers-alphabetical.txt"
      ],
      "metadata": {
        "id": "6m_KfXxNcxwG",
        "colab": {
          "base_uri": "https://localhost:8080/"
        },
        "outputId": "8b465e31-66c7-444e-aee2-2664321a81e6"
      },
      "execution_count": 28,
      "outputs": [
        {
          "output_type": "stream",
          "name": "stdout",
          "text": [
            "--2024-02-05 18:33:30--  https://gist.githubusercontent.com/cfreshman/a7b776506c73284511034e63af1017ee/raw/60531ab531c4db602dacaa4f6c0ebf2590b123da/wordle-nyt-answers-alphabetical.txt\n",
            "Resolving gist.githubusercontent.com (gist.githubusercontent.com)... 185.199.110.133, 185.199.108.133, 185.199.111.133, ...\n",
            "Connecting to gist.githubusercontent.com (gist.githubusercontent.com)|185.199.110.133|:443... connected.\n",
            "HTTP request sent, awaiting response... 200 OK\n",
            "Length: 13853 (14K) [text/plain]\n",
            "Saving to: ‘answers.txt’\n",
            "\n",
            "answers.txt         100%[===================>]  13.53K  --.-KB/s    in 0s      \n",
            "\n",
            "2024-02-05 18:33:30 (29.1 MB/s) - ‘answers.txt’ saved [13853/13853]\n",
            "\n"
          ]
        }
      ]
    },
    {
      "cell_type": "code",
      "source": [
        "!wc -l answers.txt"
      ],
      "metadata": {
        "colab": {
          "base_uri": "https://localhost:8080/"
        },
        "id": "nh9j94yjhW9L",
        "outputId": "7fbf68e4-2407-4f3c-985c-98ce5804d662"
      },
      "execution_count": 29,
      "outputs": [
        {
          "output_type": "stream",
          "name": "stdout",
          "text": [
            "2308 answers.txt\n"
          ]
        }
      ]
    },
    {
      "cell_type": "code",
      "source": [
        "%%writefile start_v1.c\n",
        "#include <stdio.h>\n",
        "#include <string.h>\n",
        "\n",
        "int main () {\n",
        "    // calculate the frequency of each letter\n",
        "    int count[5][26] = { { 0 }, { 0 }, { 0 }, { 0 }, { 0 } };\n",
        "    char next_word[6];\n",
        "    while (scanf(\"%5s\",next_word) == 1) {\n",
        "        for (int b=0;b<5;b++) {\n",
        "            count[b][next_word[b]-'a'] += 1;\n",
        "        }\n",
        "    }\n",
        "    // create a string of most frequent letters\n",
        "    char start[6];\n",
        "    start[5] = '\\0';\n",
        "    for (int b=0;b<5;b++) {\n",
        "        int max_count = 0;\n",
        "        for (int l=0;l<26;l++) {\n",
        "            if (count[b][l] > max_count) {\n",
        "                max_count = count[b][l];\n",
        "                start[b] = 'a'+l;\n",
        "            }\n",
        "        }\n",
        "    }\n",
        "    printf (\"best start string is %s\\n\",start);\n",
        "}"
      ],
      "metadata": {
        "colab": {
          "base_uri": "https://localhost:8080/"
        },
        "id": "ESOnJVYihbXd",
        "outputId": "762743db-a9cb-40bf-881e-d6ed47b0a13f"
      },
      "execution_count": 30,
      "outputs": [
        {
          "output_type": "stream",
          "name": "stdout",
          "text": [
            "Overwriting start_v1.c\n"
          ]
        }
      ]
    },
    {
      "cell_type": "code",
      "source": [
        "!gcc -o start_v1 start_v1.c"
      ],
      "metadata": {
        "id": "tq7nuJJQhgd6"
      },
      "execution_count": 31,
      "outputs": []
    },
    {
      "cell_type": "code",
      "source": [
        "!cat answers.txt | ./start_v1"
      ],
      "metadata": {
        "colab": {
          "base_uri": "https://localhost:8080/"
        },
        "id": "WpWjsY5Hhjlm",
        "outputId": "f6afe664-324c-4ace-a8cd-9a70d3d0624d"
      },
      "execution_count": 32,
      "outputs": [
        {
          "output_type": "stream",
          "name": "stdout",
          "text": [
            "best start string is saaee\n"
          ]
        }
      ]
    },
    {
      "cell_type": "code",
      "source": [
        "%%writefile start_v2.c\n",
        "#include <stdio.h>\n",
        "#include <string.h>\n",
        "\n",
        "#ifndef MAX_WORDS\n",
        "#define MAX_WORDS 3000\n",
        "#endif\n",
        "\n",
        "int main () {\n",
        "\n",
        "    // read in the list of Wordle answers\n",
        "    char words[MAX_WORDS][6];\n",
        "    char next_word[6];\n",
        "    int total_words = 0;\n",
        "    while (scanf(\"%5s\",next_word) == 1) {\n",
        "        if (total_words < MAX_WORDS) {\n",
        "            strcpy(words[total_words],next_word);\n",
        "            total_words += 1;\n",
        "        } else {\n",
        "            printf (\"Too many words!\\n\");\n",
        "            return 1;\n",
        "        }\n",
        "    }\n",
        "\n",
        "    // calculate frequency of each letter\n",
        "    int count[5][26] = { { 0 }, { 0 }, { 0 }, { 0 }, { 0 } };\n",
        "    for (int w=0;w<total_words;w++) {\n",
        "        for (int b=0;b<5;b++) {\n",
        "            count[b][words[w][b]-'a'] += 1;\n",
        "        }\n",
        "    }\n",
        "\n",
        "    // find the Wordle answer with the max score\n",
        "    char* start;\n",
        "    int max_score = 0;\n",
        "    for (int w=0;w<total_words;w++) {\n",
        "        int score = 0;\n",
        "        for (int b=0;b<5;b++) {\n",
        "            score += count[b][words[w][b]-'a'];\n",
        "        }\n",
        "        if (score > max_score) {\n",
        "            max_score = score;\n",
        "            start = words[w];\n",
        "        }\n",
        "    }\n",
        "\n",
        "    printf (\"best start word is %s with a score of %d\\n\",start,max_score);\n",
        "}"
      ],
      "metadata": {
        "colab": {
          "base_uri": "https://localhost:8080/"
        },
        "id": "oedp5yIfhmpv",
        "outputId": "4c205119-3a57-4cf6-ef70-286a0d7fe96c"
      },
      "execution_count": 33,
      "outputs": [
        {
          "output_type": "stream",
          "name": "stdout",
          "text": [
            "Overwriting start_v2.c\n"
          ]
        }
      ]
    },
    {
      "cell_type": "code",
      "source": [
        "!gcc -o start_v2 start_v2.c"
      ],
      "metadata": {
        "id": "zvc74Qm1hs0Y"
      },
      "execution_count": 34,
      "outputs": []
    },
    {
      "cell_type": "code",
      "source": [
        "!echo start zebra timer squad | ./start_v2"
      ],
      "metadata": {
        "colab": {
          "base_uri": "https://localhost:8080/"
        },
        "id": "05LFBp2thwDW",
        "outputId": "5bf6f8a8-fb87-414d-ce07-b24983484b58"
      },
      "execution_count": 35,
      "outputs": [
        {
          "output_type": "stream",
          "name": "stdout",
          "text": [
            "best start word is start with a score of 7\n"
          ]
        }
      ]
    },
    {
      "cell_type": "code",
      "source": [
        "!cat answers.txt | ./start_v2"
      ],
      "metadata": {
        "colab": {
          "base_uri": "https://localhost:8080/"
        },
        "id": "pUmWPxW0hzec",
        "outputId": "09b8dff5-0c10-4f2a-ef4f-277a731ddf9c"
      },
      "execution_count": 36,
      "outputs": [
        {
          "output_type": "stream",
          "name": "stdout",
          "text": [
            "best start word is slate with a score of 1432\n"
          ]
        }
      ]
    },
    {
      "cell_type": "code",
      "source": [
        "!wget -O words.txt https://gist.githubusercontent.com/cfreshman/d97dbe7004522f7bc52ed2a6e22e2c04/raw/633058e11743065ad2822e1d2e6505682a01a9e6/wordle-nyt-words-14855.txt"
      ],
      "metadata": {
        "colab": {
          "base_uri": "https://localhost:8080/"
        },
        "id": "a-sUCaO4h2kT",
        "outputId": "2506b1e6-8d9e-45c0-b900-2c8cc3472170"
      },
      "execution_count": 37,
      "outputs": [
        {
          "output_type": "stream",
          "name": "stdout",
          "text": [
            "--2024-02-05 18:33:31--  https://gist.githubusercontent.com/cfreshman/d97dbe7004522f7bc52ed2a6e22e2c04/raw/633058e11743065ad2822e1d2e6505682a01a9e6/wordle-nyt-words-14855.txt\n",
            "Resolving gist.githubusercontent.com (gist.githubusercontent.com)... 185.199.110.133, 185.199.108.133, 185.199.111.133, ...\n",
            "Connecting to gist.githubusercontent.com (gist.githubusercontent.com)|185.199.110.133|:443... connected.\n",
            "HTTP request sent, awaiting response... 200 OK\n",
            "Length: 89129 (87K) [text/plain]\n",
            "Saving to: ‘words.txt’\n",
            "\n",
            "\rwords.txt             0%[                    ]       0  --.-KB/s               \rwords.txt           100%[===================>]  87.04K  --.-KB/s    in 0.01s   \n",
            "\n",
            "2024-02-05 18:33:31 (6.18 MB/s) - ‘words.txt’ saved [89129/89129]\n",
            "\n"
          ]
        }
      ]
    },
    {
      "cell_type": "code",
      "source": [
        "!cat words.txt | ./start_v2"
      ],
      "metadata": {
        "colab": {
          "base_uri": "https://localhost:8080/"
        },
        "id": "MV0jNhrZh6Bq",
        "outputId": "6c2ae894-e870-46be-9813-ebbf554d3e90"
      },
      "execution_count": 38,
      "outputs": [
        {
          "output_type": "stream",
          "name": "stdout",
          "text": [
            "Too many words!\n"
          ]
        }
      ]
    },
    {
      "cell_type": "code",
      "source": [
        "!wc -l words.txt"
      ],
      "metadata": {
        "colab": {
          "base_uri": "https://localhost:8080/"
        },
        "id": "2IlMNpJUh9-B",
        "outputId": "badc4de4-ec28-4711-9d58-6dd8140dd7e8"
      },
      "execution_count": 39,
      "outputs": [
        {
          "output_type": "stream",
          "name": "stdout",
          "text": [
            "14854 words.txt\n"
          ]
        }
      ]
    },
    {
      "cell_type": "code",
      "source": [
        "!gcc -DMAX_WORDS=15000 -o start_v2 start_v2.c"
      ],
      "metadata": {
        "id": "-AyS2GRQh_IX"
      },
      "execution_count": 40,
      "outputs": []
    },
    {
      "cell_type": "code",
      "source": [
        "!cat words.txt | ./start_v2"
      ],
      "metadata": {
        "colab": {
          "base_uri": "https://localhost:8080/"
        },
        "id": "wgu2zwxDiCJR",
        "outputId": "dd6783c7-5266-4f24-e978-970e9a3cdaf0"
      },
      "execution_count": 41,
      "outputs": [
        {
          "output_type": "stream",
          "name": "stdout",
          "text": [
            "best start word is sanes with a score of 12337\n"
          ]
        }
      ]
    },
    {
      "cell_type": "code",
      "source": [],
      "metadata": {
        "id": "YXYqIzFiiEaC"
      },
      "execution_count": 41,
      "outputs": []
    }
  ]
}
