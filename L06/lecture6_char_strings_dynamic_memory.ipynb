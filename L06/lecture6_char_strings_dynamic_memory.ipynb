{
  "nbformat": 4,
  "nbformat_minor": 0,
  "metadata": {
    "colab": {
      "provenance": []
    },
    "kernelspec": {
      "name": "python3",
      "display_name": "Python 3"
    },
    "language_info": {
      "name": "python"
    }
  },
  "cells": [
    {
      "cell_type": "markdown",
      "source": [
        "# Lecture 6 : Characters, Strings, and Dynamic Memory Allocation"
      ],
      "metadata": {
        "id": "3EW8zosAMKqn"
      }
    },
    {
      "cell_type": "markdown",
      "source": [
        "# Part 1 : Characters"
      ],
      "metadata": {
        "id": "CFesGTGuAoF3"
      }
    },
    {
      "cell_type": "markdown",
      "source": [
        "## The C *char* type is one byte that is used to store characters such as the letters *a* and *b* and the punctuation symbol *!*.\n",
        "\n",
        "## Working with the C char type and arrays of the C char called *strings* is how we process text in C.\n",
        "\n",
        "## To see the characters and letters that certain values correspond to we use an [ASCII-TABLE](https://www.ascii-code.com/)."
      ],
      "metadata": {
        "id": "SHgS_yE3ArFz"
      }
    },
    {
      "cell_type": "code",
      "source": [
        "%%writefile char.c\n",
        "#include <stdio.h>\n",
        "\n",
        "int main () {\n",
        "    char c = 'A';\n",
        "    printf (\"c as a number is %d\\n\",c);\n",
        "    printf (\"c as a character is %c\\n\",c);\n",
        "}"
      ],
      "metadata": {
        "colab": {
          "base_uri": "https://localhost:8080/"
        },
        "id": "QO6G2wJn7hON",
        "outputId": "7173704f-36fa-4b06-ed09-0a20f688087f"
      },
      "execution_count": 1,
      "outputs": [
        {
          "output_type": "stream",
          "name": "stdout",
          "text": [
            "Writing char.c\n"
          ]
        }
      ]
    },
    {
      "cell_type": "code",
      "source": [
        "!gcc -o char char.c"
      ],
      "metadata": {
        "id": "cmR3RWYqBHXk"
      },
      "execution_count": 2,
      "outputs": []
    },
    {
      "cell_type": "code",
      "source": [
        "!./char"
      ],
      "metadata": {
        "colab": {
          "base_uri": "https://localhost:8080/"
        },
        "id": "pKISu8bsBI87",
        "outputId": "87647a0e-e7cb-45fb-9fb7-f069f09aff3a"
      },
      "execution_count": 3,
      "outputs": [
        {
          "output_type": "stream",
          "name": "stdout",
          "text": [
            "c as a number is 65\n",
            "c as a character is A\n"
          ]
        }
      ]
    },
    {
      "cell_type": "markdown",
      "source": [
        "## Exercise : What is the range of ASCII values for the upper case letters?  Lower case letters?"
      ],
      "metadata": {
        "id": "vx-UZmtq2enJ"
      }
    },
    {
      "cell_type": "markdown",
      "source": [
        "# Part 2 : Strings"
      ],
      "metadata": {
        "id": "XImLnAI12MK6"
      }
    },
    {
      "cell_type": "markdown",
      "source": [
        "## A C string is a **null-terminated** array of characters.\n",
        "\n",
        "## Strings can be initialized using the syntax:\n",
        "\n",
        "    char str[] = \"Hokies\";\n",
        "\n",
        "## The array *str* is actually of length 7 since it is null-terminated.\n",
        "\n",
        "## Here is a short C program that illustrates the array *str*."
      ],
      "metadata": {
        "id": "JuE1GqqSMKsB"
      }
    },
    {
      "cell_type": "code",
      "source": [
        "%%writefile hokies.c\n",
        "#include <stdio.h>\n",
        "\n",
        "int main () {\n",
        "    char str[] = \"Hokies\";\n",
        "    for (int i=0;i<7;i++) {\n",
        "        printf (\"%d\\n\",str[i]); // print the ASCII code of each character\n",
        "    }\n",
        "}"
      ],
      "metadata": {
        "colab": {
          "base_uri": "https://localhost:8080/"
        },
        "id": "GqyccoVU325S",
        "outputId": "cbdfc2b3-d20e-4e9e-9a17-26c721cfcde1"
      },
      "execution_count": 4,
      "outputs": [
        {
          "output_type": "stream",
          "name": "stdout",
          "text": [
            "Writing hokies.c\n"
          ]
        }
      ]
    },
    {
      "cell_type": "code",
      "source": [
        "!gcc -o hokies hokies.c"
      ],
      "metadata": {
        "id": "MaM1YcEq4IQ8"
      },
      "execution_count": 5,
      "outputs": []
    },
    {
      "cell_type": "code",
      "source": [
        "!./hokies"
      ],
      "metadata": {
        "colab": {
          "base_uri": "https://localhost:8080/"
        },
        "id": "CMM7cl6U4UZ2",
        "outputId": "4f4d683c-01ec-480d-c5a8-25440f759340"
      },
      "execution_count": 6,
      "outputs": [
        {
          "output_type": "stream",
          "name": "stdout",
          "text": [
            "72\n",
            "111\n",
            "107\n",
            "105\n",
            "101\n",
            "115\n",
            "0\n"
          ]
        }
      ]
    },
    {
      "cell_type": "markdown",
      "source": [
        "## Exercise : Lookup each of the above ASCII codes to verify the characters in *Hokies*.\n",
        "\n",
        "## Note that the ASCII value immediately following the six characters in *Hokies* is 0.  \n",
        "\n",
        "## This 0 is the ASCII value for the *null character*.  \n",
        "\n",
        "## The inclusion of this *null character* in C strings is why we say that C strings are *null-terminated*.\n",
        "\n",
        "## The null character is critical for C strings because we use it to determine how long strings are.  \n",
        "\n",
        "### Remember that in C arrays are not objects so we need a separate mechanism to keep track of the length."
      ],
      "metadata": {
        "id": "T8Oup5e34bYQ"
      }
    },
    {
      "cell_type": "markdown",
      "source": [
        "## Note that the line of C code\n",
        "    char str[] = \"Hokies\";\n",
        "## is equivalent to\n",
        "\n",
        "    char str[7] = { 'H', 'o', 'k', 'i', 'e', 's', '\\0' };\n",
        "\n",
        "## We prefer the first version because it is much easier to read!\n",
        "\n",
        "## Also note that the null character can be specified using *'\\0'*.  \n",
        "\n",
        "## This is similar to how we specify the new line character using *'\\n'*."
      ],
      "metadata": {
        "id": "YZUVxAqTAU__"
      }
    },
    {
      "cell_type": "markdown",
      "source": [
        "## There are various C functions for processing strings.  \n",
        "\n",
        "## You can include the interfaces to these functions using:\n",
        "    #include <string.h>"
      ],
      "metadata": {
        "id": "LgPmBLZE6VHI"
      }
    },
    {
      "cell_type": "markdown",
      "source": [
        "## One very useful string function is *strlen* which returns the number of characters in a string\n",
        "\n",
        "## Note that the count return by *strlen* does not include the null-terminator.\n",
        "\n",
        "## Note that the function *strlen* returns a long unsigned int.  \n",
        "\n",
        "## We use the format specifier *%lu* to print a long unsigned int.\n",
        "\n",
        "## Also note that we print a C string using the format specifier *%s*.  \n",
        "\n",
        "## The function *printf* prints the characters of a given string until it encounters the null-terminator."
      ],
      "metadata": {
        "id": "qTcmyB8V6jDB"
      }
    },
    {
      "cell_type": "code",
      "source": [
        "%%writefile strlen.c\n",
        "#include <stdio.h>\n",
        "#include <string.h>\n",
        "\n",
        "int main () {\n",
        "    char str[] = \"Hokies\";\n",
        "    printf (\"The length of the string %s is %lu.\\n\",str,strlen(str));\n",
        "}"
      ],
      "metadata": {
        "colab": {
          "base_uri": "https://localhost:8080/"
        },
        "id": "4EbTnAJi61f8",
        "outputId": "d44952d1-dcb3-4b7b-a68d-07cb78228426"
      },
      "execution_count": 7,
      "outputs": [
        {
          "output_type": "stream",
          "name": "stdout",
          "text": [
            "Writing strlen.c\n"
          ]
        }
      ]
    },
    {
      "cell_type": "code",
      "source": [
        "!gcc -o strlen strlen.c"
      ],
      "metadata": {
        "id": "VVq6HIVV7FMn"
      },
      "execution_count": 8,
      "outputs": []
    },
    {
      "cell_type": "code",
      "source": [
        "!./strlen"
      ],
      "metadata": {
        "colab": {
          "base_uri": "https://localhost:8080/"
        },
        "id": "GzokfxML7Xuy",
        "outputId": "cd75ec3b-0369-4b15-c849-741ee0ee9783"
      },
      "execution_count": 9,
      "outputs": [
        {
          "output_type": "stream",
          "name": "stdout",
          "text": [
            "The length of the string Hokies is 6.\n"
          ]
        }
      ]
    },
    {
      "cell_type": "markdown",
      "source": [
        "# Part 3 : String and Pointers"
      ],
      "metadata": {
        "id": "4M1bjILv_UBC"
      }
    },
    {
      "cell_type": "markdown",
      "source": [
        "## A pointer to a C string is a character pointer.\n",
        "    char* str = \"Hokies\""
      ],
      "metadata": {
        "id": "74u3l8EN8UNL"
      }
    },
    {
      "cell_type": "markdown",
      "source": [
        "## Note that the above line of C code is very different than:\n",
        "    char str[] = \"Hokies\""
      ],
      "metadata": {
        "id": "9DMTYR7q9I63"
      }
    },
    {
      "cell_type": "markdown",
      "source": [
        "## In the first line of C code, the pointer *str* points to a string that is stored in **constant memory**.  \n",
        "\n",
        "## In the second line of C code, *str* is an array of characters with size 7 (6 for the letters in Hokies and 1 for the null-teriminator) which will be **initialized** to the contain the characters in the given string.\n",
        "\n",
        "## Be careful ... constant memory is **read only**!\n",
        "\n",
        "## Writing to constant memory will trigger a segmentation fault!"
      ],
      "metadata": {
        "id": "YMHWvY1v9Waw"
      }
    },
    {
      "cell_type": "code",
      "source": [
        "%%writefile danger.c\n",
        "#include <stdio.h>\n",
        "\n",
        "int main () {\n",
        "    char* str = \"Hokies\";\n",
        "    str[0] = 'h';\n",
        "    printf (\"The string in lower case is %s.\\n\",str);\n",
        "}\n"
      ],
      "metadata": {
        "colab": {
          "base_uri": "https://localhost:8080/"
        },
        "id": "UwUiW98Q9zIP",
        "outputId": "877bfe26-3033-4382-fb8b-a0f40eb04ffb"
      },
      "execution_count": 10,
      "outputs": [
        {
          "output_type": "stream",
          "name": "stdout",
          "text": [
            "Writing danger.c\n"
          ]
        }
      ]
    },
    {
      "cell_type": "code",
      "source": [
        "!gcc -o danger danger.c"
      ],
      "metadata": {
        "id": "rOG2gUZc-S0N"
      },
      "execution_count": 11,
      "outputs": []
    },
    {
      "cell_type": "code",
      "source": [
        "!./danger > out.txt"
      ],
      "metadata": {
        "colab": {
          "base_uri": "https://localhost:8080/"
        },
        "id": "dEvBEo3Z-a5k",
        "outputId": "130b9202-9692-4a96-b1ff-0210a3fdfbdc"
      },
      "execution_count": 12,
      "outputs": [
        {
          "output_type": "stream",
          "name": "stdout",
          "text": [
            "/bin/bash: line 1:   402 Segmentation fault      (core dumped) ./danger > out.txt\n"
          ]
        }
      ]
    },
    {
      "cell_type": "code",
      "source": [
        "!cat out.txt"
      ],
      "metadata": {
        "id": "TVy2kYDN-dH5"
      },
      "execution_count": 13,
      "outputs": []
    },
    {
      "cell_type": "markdown",
      "source": [
        "## Exercise : Fix the above code so that it works as expected."
      ],
      "metadata": {
        "id": "TDFCD659_GzA"
      }
    },
    {
      "cell_type": "markdown",
      "source": [
        "## Here is an interesting example that uses an array of string pointers.  "
      ],
      "metadata": {
        "id": "xNgfIxgtB5bY"
      }
    },
    {
      "cell_type": "code",
      "source": [
        "%%writefile mystery.c\n",
        "#include <stdio.h>\n",
        "\n",
        "int main () {\n",
        "    char* a[6] = { \"Planet\", \"Hello\", \"Earth\", \"Go\", \"There\", \"Let's\" };\n",
        "    char* b[6] = { \"Red\", \"Blue\", \"Hokies\", \"Green\", \"World\", \"Orange\" };\n",
        "    char* c[3] = { a[5], a[3], b[2] };\n",
        "    char** d = c;\n",
        "    printf (\"%s %s %s!\\n\",d[0],d[1],d[2]);\n",
        "}"
      ],
      "metadata": {
        "colab": {
          "base_uri": "https://localhost:8080/"
        },
        "id": "wqjJYbN1BqGd",
        "outputId": "a7ac1794-d5e6-4a28-a305-09062fcd89a8"
      },
      "execution_count": 14,
      "outputs": [
        {
          "output_type": "stream",
          "name": "stdout",
          "text": [
            "Writing mystery.c\n"
          ]
        }
      ]
    },
    {
      "cell_type": "code",
      "source": [
        "!gcc -o mystery mystery.c"
      ],
      "metadata": {
        "id": "Q-iqQfgiCRYG"
      },
      "execution_count": 15,
      "outputs": []
    },
    {
      "cell_type": "code",
      "source": [
        "!./mystery"
      ],
      "metadata": {
        "id": "WsDrHcKzCUYm",
        "colab": {
          "base_uri": "https://localhost:8080/"
        },
        "outputId": "8d3d407b-14fb-4d29-aaf8-03409f376bc0"
      },
      "execution_count": 16,
      "outputs": [
        {
          "output_type": "stream",
          "name": "stdout",
          "text": [
            "Let's Go Hokies!\n"
          ]
        }
      ]
    },
    {
      "cell_type": "markdown",
      "source": [
        "## Note that in line 7 we declare *d* to have type char**.  \n",
        "\n",
        "## This literally means that *d* is a pointer to a pointer to a character.  \n",
        "\n",
        "## Where have we seen a variable of type *char*** before?"
      ],
      "metadata": {
        "id": "Vy2GKxQwCll-"
      }
    },
    {
      "cell_type": "markdown",
      "source": [
        "# Part 4 : Command Line Arguments Revisited"
      ],
      "metadata": {
        "id": "3EpUzfMVD225"
      }
    },
    {
      "cell_type": "markdown",
      "source": [
        "## C command line arguments are strings!  \n",
        "\n",
        "## The line of code\n",
        "    int main (int argc, char** argv) {\n",
        "\n",
        "## specifies the argv argument to have type pointer to a pointer to a character.\n",
        "\n",
        "## More simply, *argv* is a pointer that points to an array of string pointers.  \n",
        "  \n",
        "## When we dereference *argv* using *argv[0]* we get a pointer to the first command line argument which is a string.\n",
        "\n",
        "## Exercise: what does *argv[1]* point to?"
      ],
      "metadata": {
        "id": "CQkJMr-xD7DJ"
      }
    },
    {
      "cell_type": "markdown",
      "source": [
        "## Here is an example C code that prints a command line argument in lower case.\n",
        "\n",
        "## This example illustrates that we can overwrite C command line arguments."
      ],
      "metadata": {
        "id": "Rz4hOm-HGcpC"
      }
    },
    {
      "cell_type": "markdown",
      "source": [
        "## Exercise : What properties of the ASCII-TABLE are we taking advantage of in the code below?"
      ],
      "metadata": {
        "id": "LmcWHHkpHfhv"
      }
    },
    {
      "cell_type": "code",
      "source": [
        "%%writefile lower.c\n",
        "#include <stdio.h>\n",
        "#include <string.h>\n",
        "\n",
        "int main (int argc, char** argv) {\n",
        "    if (argc < 2) {\n",
        "        printf (\"command usage: %s str\\n\",argv[0]);\n",
        "        return 1;\n",
        "    }\n",
        "    char* str = argv[1];\n",
        "    // be careful! Arguments might be in read only memory\n",
        "    // make a copy of the command line argument before modifying it\n",
        "    int len = strlen(str);\n",
        "    char lower[len+1]; // remember to include space for the null-terminator\n",
        "    strcpy(lower,str);\n",
        "    for (int i=0;i<len;i++) {\n",
        "        if ((lower[i] >= 'A') && (lower[i] <= 'Z')) {\n",
        "            lower[i] += 'a'-'A';\n",
        "        }\n",
        "    }\n",
        "    printf (\"The command line argument in lower case is %s.\\n\",lower);\n",
        "}"
      ],
      "metadata": {
        "colab": {
          "base_uri": "https://localhost:8080/"
        },
        "id": "pHd-m5TtCY-G",
        "outputId": "c1531dfa-d677-4ee6-89c6-3c804e595ae4"
      },
      "execution_count": 17,
      "outputs": [
        {
          "output_type": "stream",
          "name": "stdout",
          "text": [
            "Writing lower.c\n"
          ]
        }
      ]
    },
    {
      "cell_type": "code",
      "source": [
        "!gcc -o lower lower.c"
      ],
      "metadata": {
        "id": "yvAHOniABJl_"
      },
      "execution_count": 18,
      "outputs": []
    },
    {
      "cell_type": "code",
      "source": [
        "!./lower HOKIES"
      ],
      "metadata": {
        "colab": {
          "base_uri": "https://localhost:8080/"
        },
        "id": "GjEdy24IC1wh",
        "outputId": "2d2d2e29-7494-4128-c543-8f2dd1877787"
      },
      "execution_count": 19,
      "outputs": [
        {
          "output_type": "stream",
          "name": "stdout",
          "text": [
            "The command line argument in lower case is hokies.\n"
          ]
        }
      ]
    },
    {
      "cell_type": "markdown",
      "source": [
        "## Here is a code that ensures that all command line arguments contain only lower case letters.  \n",
        "\n",
        "## This example illustrates that C strings are passed to functions by pointer (just like other arrays in C)."
      ],
      "metadata": {
        "id": "b_9YgNsCITK9"
      }
    },
    {
      "cell_type": "code",
      "source": [
        "%%writefile check.c\n",
        "#include <stdio.h>\n",
        "#include <string.h>\n",
        "#include <stdbool.h>\n",
        "\n",
        "bool is_lower(char* str) {\n",
        "    for (int i=0;i<strlen(str);i++) {\n",
        "        if ((str[i] < 'a') || (str[i] > 'z')) {\n",
        "            return false;\n",
        "        }\n",
        "    }\n",
        "    return true;\n",
        "}\n",
        "\n",
        "int main (int argc, char** argv) {\n",
        "    for (int i=1;i<argc;i++) {\n",
        "        if (!is_lower(argv[i])) {\n",
        "            printf (\"The command line argument %s is not all lower case letters.\\n\",argv[i]);\n",
        "            return 0;\n",
        "        }\n",
        "    }\n",
        "    printf (\"All command line arguments have only lower case letters.\\n\");\n",
        "}"
      ],
      "metadata": {
        "colab": {
          "base_uri": "https://localhost:8080/"
        },
        "id": "6qdnnnZDI-Oo",
        "outputId": "b53ae380-519d-4cb8-aef0-203944c7901f"
      },
      "execution_count": 20,
      "outputs": [
        {
          "output_type": "stream",
          "name": "stdout",
          "text": [
            "Writing check.c\n"
          ]
        }
      ]
    },
    {
      "cell_type": "code",
      "source": [
        "!gcc -o check check.c"
      ],
      "metadata": {
        "id": "BMlCjRykKFcH"
      },
      "execution_count": 21,
      "outputs": []
    },
    {
      "cell_type": "code",
      "source": [
        "!./check Hello world"
      ],
      "metadata": {
        "colab": {
          "base_uri": "https://localhost:8080/"
        },
        "id": "O454QKEXKHxj",
        "outputId": "930bde59-d768-43ff-e84a-a30ed92f7d54"
      },
      "execution_count": 22,
      "outputs": [
        {
          "output_type": "stream",
          "name": "stdout",
          "text": [
            "The command line argument Hello is not all lower case letters.\n"
          ]
        }
      ]
    },
    {
      "cell_type": "code",
      "source": [
        "!./check this is great!"
      ],
      "metadata": {
        "colab": {
          "base_uri": "https://localhost:8080/"
        },
        "id": "l86t8OafKOVH",
        "outputId": "a53cc73d-3d4e-47f0-ac1b-43770be1ce30"
      },
      "execution_count": 23,
      "outputs": [
        {
          "output_type": "stream",
          "name": "stdout",
          "text": [
            "The command line argument great! is not all lower case letters.\n"
          ]
        }
      ]
    },
    {
      "cell_type": "code",
      "source": [
        "!./check 2 + 2 = 4"
      ],
      "metadata": {
        "colab": {
          "base_uri": "https://localhost:8080/"
        },
        "id": "lnGs9WZuKVcm",
        "outputId": "36eabc60-1609-4bef-8d1b-8614a6648ff1"
      },
      "execution_count": 24,
      "outputs": [
        {
          "output_type": "stream",
          "name": "stdout",
          "text": [
            "The command line argument 2 is not all lower case letters.\n"
          ]
        }
      ]
    },
    {
      "cell_type": "code",
      "source": [
        "!./check lets go"
      ],
      "metadata": {
        "colab": {
          "base_uri": "https://localhost:8080/"
        },
        "id": "1XjVpMbsKYkR",
        "outputId": "4a5a6272-7ab6-4ed5-955d-e89e68bea5ad"
      },
      "execution_count": 25,
      "outputs": [
        {
          "output_type": "stream",
          "name": "stdout",
          "text": [
            "All command line arguments have only lower case letters.\n"
          ]
        }
      ]
    },
    {
      "cell_type": "markdown",
      "source": [
        "# Part 5 : Working with a list of possible Wordle answers."
      ],
      "metadata": {
        "id": "u4fGl8xRKB6y"
      }
    },
    {
      "cell_type": "markdown",
      "source": [
        "## Let's use Git to grab a file containing possible Wordle answers."
      ],
      "metadata": {
        "id": "Yf2-I1-XJUtn"
      }
    },
    {
      "cell_type": "code",
      "source": [
        "!git clone https://code.vt.edu/jasonwil/cmda3634_materials.git"
      ],
      "metadata": {
        "colab": {
          "base_uri": "https://localhost:8080/"
        },
        "id": "wqLwMUG_Eq75",
        "outputId": "caa2ec1b-16c2-4f6c-9411-3b7bc5ba2359"
      },
      "execution_count": 26,
      "outputs": [
        {
          "output_type": "stream",
          "name": "stdout",
          "text": [
            "Cloning into 'cmda3634_materials'...\n",
            "remote: Enumerating objects: 163, done.\u001b[K\n",
            "remote: Counting objects: 100% (126/126), done.\u001b[K\n",
            "remote: Compressing objects: 100% (121/121), done.\u001b[K\n",
            "remote: Total 163 (delta 43), reused 0 (delta 0), pack-reused 37 (from 1)\u001b[K\n",
            "Receiving objects: 100% (163/163), 25.22 MiB | 35.43 MiB/s, done.\n",
            "Resolving deltas: 100% (48/48), done.\n"
          ]
        }
      ]
    },
    {
      "cell_type": "code",
      "source": [
        "!cp cmda3634_materials/L06/* ."
      ],
      "metadata": {
        "id": "jcbGelvqLSSp"
      },
      "execution_count": 27,
      "outputs": []
    },
    {
      "cell_type": "markdown",
      "source": [
        "## The number of words in the file:"
      ],
      "metadata": {
        "id": "11qqPQsnJzIL"
      }
    },
    {
      "cell_type": "code",
      "source": [
        "!wc -l answers.txt"
      ],
      "metadata": {
        "colab": {
          "base_uri": "https://localhost:8080/"
        },
        "id": "4RdxsljeHTIa",
        "outputId": "48263b15-62ed-468c-bdc0-cef826b63572"
      },
      "execution_count": 28,
      "outputs": [
        {
          "output_type": "stream",
          "name": "stdout",
          "text": [
            "2309 answers.txt\n"
          ]
        }
      ]
    },
    {
      "cell_type": "markdown",
      "source": [
        "## The first 10 answers:"
      ],
      "metadata": {
        "id": "qyUPvxJAJ1h_"
      }
    },
    {
      "cell_type": "code",
      "source": [
        "!head -10 answers.txt"
      ],
      "metadata": {
        "colab": {
          "base_uri": "https://localhost:8080/"
        },
        "id": "_pm15_VWHV6J",
        "outputId": "401c5391-6717-49c5-d3c6-a676fff87215"
      },
      "execution_count": 29,
      "outputs": [
        {
          "output_type": "stream",
          "name": "stdout",
          "text": [
            "aback\n",
            "abase\n",
            "abate\n",
            "abbey\n",
            "abbot\n",
            "abhor\n",
            "abide\n",
            "abled\n",
            "abode\n",
            "abort\n"
          ]
        }
      ]
    },
    {
      "cell_type": "markdown",
      "source": [
        "## Here is a C program that searches the Wordle answer list for a given word.  "
      ],
      "metadata": {
        "id": "Z1T2nvDvNeX2"
      }
    },
    {
      "cell_type": "markdown",
      "source": [
        "## Note that we have to very careful when using *scanf* to read a string from a file.  \n",
        "\n",
        "## Consider the following code snippet:\n",
        "\n",
        "    char next[6];\n",
        "    while (scanf(\"%5s\",next) == 1)\n",
        "\n",
        "## A wordle word has 5 characters.\n",
        "\n",
        "## We do set next to have size 6 instead of 5?\n",
        "\n",
        "## By using the format specifier *%5s* we instruct *scanf* to not read strings that are longer than 5 characters to avoid going off the end of the *next* array.\n",
        "\n",
        "## Note that *scanf* null-terminates the string it reads in.\n",
        "\n",
        "## The string function *strcmp* returns 0 if the two string arguments are identical (i.e. they have the same length and the same characters)."
      ],
      "metadata": {
        "id": "fpwnDja7L-WH"
      }
    },
    {
      "cell_type": "code",
      "source": [
        "%%writefile search.c\n",
        "#include <stdio.h>\n",
        "#include <string.h>\n",
        "\n",
        "int main (int argc, char** argv) {\n",
        "    if (argc < 2) {\n",
        "        printf (\"command usage: %s %s\\n\",argv[0],\"word\");\n",
        "        return 1;\n",
        "    }\n",
        "    char* word = argv[1];\n",
        "    char next[6]; // Need 5 chars for Wordle word and 1 for null terminator.\n",
        "    while (scanf(\"%5s\",next) == 1) { // %5s tells scanf to read at most 5 characters\n",
        "        if (strcmp(word,next) == 0) { // strcmp returns 0 if the strings are equal\n",
        "            printf (\"%s is a possible Wordle answer.\\n\",word);\n",
        "            return 0;\n",
        "        }\n",
        "    }\n",
        "    printf (\"%s is not a possible Wordle answer.\\n\",word);\n",
        "}"
      ],
      "metadata": {
        "colab": {
          "base_uri": "https://localhost:8080/"
        },
        "id": "Fe7v7n-TJ7CE",
        "outputId": "afa7e725-37ab-48be-d02d-1accb22f03cb"
      },
      "execution_count": 30,
      "outputs": [
        {
          "output_type": "stream",
          "name": "stdout",
          "text": [
            "Writing search.c\n"
          ]
        }
      ]
    },
    {
      "cell_type": "code",
      "source": [
        "!gcc -o search search.c"
      ],
      "metadata": {
        "id": "-4NyOYwTOZS-"
      },
      "execution_count": 31,
      "outputs": []
    },
    {
      "cell_type": "code",
      "source": [
        "!cat answers.txt | ./search hello"
      ],
      "metadata": {
        "colab": {
          "base_uri": "https://localhost:8080/"
        },
        "id": "cF1x7EKPOxj3",
        "outputId": "6ee4d11b-123d-4517-c055-a272a5c40651"
      },
      "execution_count": 32,
      "outputs": [
        {
          "output_type": "stream",
          "name": "stdout",
          "text": [
            "hello is a possible Wordle answer.\n"
          ]
        }
      ]
    },
    {
      "cell_type": "code",
      "source": [
        "!cat answers.txt | ./search aargh"
      ],
      "metadata": {
        "colab": {
          "base_uri": "https://localhost:8080/"
        },
        "id": "CFPiXnApO1Wb",
        "outputId": "a57420fd-4b15-4362-973e-4d194f5758f4"
      },
      "execution_count": 33,
      "outputs": [
        {
          "output_type": "stream",
          "name": "stdout",
          "text": [
            "aargh is not a possible Wordle answer.\n"
          ]
        }
      ]
    },
    {
      "cell_type": "markdown",
      "source": [
        "## Here is a C program that determines the most frequent letter in a given blank.  \n",
        "\n",
        "## The command line argument blank is a number from 0 to 4 where 0 is the first blank, 1 is the second blank, etc.\n",
        "\n",
        "## Exercise : Carefully explain what the following line of code is doing.\n",
        "\n",
        "    count[next[blank]-'a'] += 1;"
      ],
      "metadata": {
        "id": "fYSG8OzRTATY"
      }
    },
    {
      "cell_type": "code",
      "source": [
        "%%writefile frequent.c\n",
        "#include <stdio.h>\n",
        "#include <stdlib.h>\n",
        "\n",
        "int main (int argc, char** argv) {\n",
        "    if (argc < 2) {\n",
        "        printf (\"command usage: %s %s\\n\",argv[0],\"blank\");\n",
        "        return 1;\n",
        "    }\n",
        "    int blank = atoi(argv[1]); // blank is a number from 0 to 4\n",
        "    int count[26] = { 0 };\n",
        "    char next[6];\n",
        "    int total_words = 0;\n",
        "    while (scanf(\"%5s\",next) == 1) {\n",
        "        count[next[blank]-'a'] += 1;\n",
        "        total_words += 1;\n",
        "    }\n",
        "    int max_count = 0;\n",
        "    char most_common;\n",
        "    for (int i=0;i<26;i++) {\n",
        "        if (count[i] > max_count) {\n",
        "            max_count = count[i];\n",
        "            most_common = 'a'+i;\n",
        "        }\n",
        "    }\n",
        "    printf (\"The most frequently occurring letter in blank %d is %c.\\n\",\n",
        "            blank,most_common);\n",
        "    printf (\"The letter %c occurs %d times in blank %d out of %d total words.\\n\",\n",
        "            most_common,max_count,blank,total_words);\n",
        "}"
      ],
      "metadata": {
        "colab": {
          "base_uri": "https://localhost:8080/"
        },
        "id": "EnItcOt9P6si",
        "outputId": "01211e8e-3cbc-48a7-f86d-577c8eeebb48"
      },
      "execution_count": 34,
      "outputs": [
        {
          "output_type": "stream",
          "name": "stdout",
          "text": [
            "Writing frequent.c\n"
          ]
        }
      ]
    },
    {
      "cell_type": "code",
      "source": [
        "!gcc -o frequent frequent.c"
      ],
      "metadata": {
        "id": "M5RychOkVTkp"
      },
      "execution_count": 35,
      "outputs": []
    },
    {
      "cell_type": "code",
      "source": [
        "!cat answers.txt | ./frequent 0"
      ],
      "metadata": {
        "colab": {
          "base_uri": "https://localhost:8080/"
        },
        "id": "PSFedw5CVcRC",
        "outputId": "0890c461-e6dd-4c0e-d59e-c1dcb367e2b9"
      },
      "execution_count": 36,
      "outputs": [
        {
          "output_type": "stream",
          "name": "stdout",
          "text": [
            "The most frequently occurring letter in blank 0 is s.\n",
            "The letter s occurs 365 times in blank 0 out of 2309 total words.\n"
          ]
        }
      ]
    },
    {
      "cell_type": "markdown",
      "source": [
        "# Part 6 : Dynamic Memory Allocation"
      ],
      "metadata": {
        "id": "3v6AYPl58ydT"
      }
    },
    {
      "cell_type": "markdown",
      "source": [
        "# Example : Sieve of Eratosthenes\n",
        "\n",
        "## The Sieve of Erathostenes is a method for finding all prime numbers below a certain number.  \n",
        "\n",
        "## The wiki page https://en.wikipedia.org/wiki/Sieve_of_Eratosthenes has a graphical demo showing how the algorithm works.  \n",
        "\n",
        "## We use an integer array of size n+1 to keep track of which numbers are prime.  \n",
        "\n",
        "## Here is our initial attempt at a C implementation.  "
      ],
      "metadata": {
        "id": "-T8bor069FUo"
      }
    },
    {
      "cell_type": "code",
      "source": [
        "%%writefile count_primes_v1.c\n",
        "#include <stdio.h>\n",
        "#include <stdlib.h>\n",
        "\n",
        "int main (int argc, char** argv) {\n",
        "\n",
        "    // count number of primes <= n\n",
        "    // where n is read from the command line\n",
        "    if (argc < 2) {\n",
        "        printf (\"command usage: %s %s\\n\",argv[0],\"n\");\n",
        "        return 1;\n",
        "    }\n",
        "    int n = atoi(argv[1]);\n",
        "\n",
        "    // initially assume all integers >= 2 are prime\n",
        "    // note that we ignore is_prime[0] and is_prime[1]\n",
        "    int is_prime[n+1];\n",
        "    for (int i = 2; i <= n; i++) {\n",
        "        is_prime[i] = 1;\n",
        "    }\n",
        "\n",
        "    // mark non-primes <= n using Sieve of Eratosthenes\n",
        "    for (int d=2;d*d<=n;d++) {\n",
        "        // if d is prime, then mark multiples of d as non-prime\n",
        "        // suffices to consider multiples d*d, d*d+d, d*d+2d, ...\n",
        "        if (is_prime[d]) {\n",
        "            for (int c=d*d;c<=n;c+=d) {\n",
        "                is_prime[c] = 0;\n",
        "            }\n",
        "        }\n",
        "    }\n",
        "\n",
        "    // count primes\n",
        "    int primes = 0;\n",
        "    for (int i = 2; i <= n; i++) {\n",
        "        if (is_prime[i]) {\n",
        "            primes++;\n",
        "        }\n",
        "    }\n",
        "    printf (\"The number of primes <= %d is %d\\n\",n,primes);\n",
        "}"
      ],
      "metadata": {
        "id": "7RjFok4MUYID",
        "colab": {
          "base_uri": "https://localhost:8080/"
        },
        "outputId": "ba0eec2e-4729-4d31-8f84-58723982a425"
      },
      "execution_count": 37,
      "outputs": [
        {
          "output_type": "stream",
          "name": "stdout",
          "text": [
            "Writing count_primes_v1.c\n"
          ]
        }
      ]
    },
    {
      "cell_type": "code",
      "source": [
        "!gcc -o count_primes_v1 count_primes_v1.c"
      ],
      "metadata": {
        "id": "jxhk0s-_9SZ4"
      },
      "execution_count": 38,
      "outputs": []
    },
    {
      "cell_type": "code",
      "source": [
        "!./count_primes_v1 10"
      ],
      "metadata": {
        "colab": {
          "base_uri": "https://localhost:8080/"
        },
        "id": "26z-dg4z9VOF",
        "outputId": "b89989aa-1ee5-4a38-a89c-19ef733a7ea4"
      },
      "execution_count": 39,
      "outputs": [
        {
          "output_type": "stream",
          "name": "stdout",
          "text": [
            "The number of primes <= 10 is 4\n"
          ]
        }
      ]
    },
    {
      "cell_type": "markdown",
      "source": [
        "## Let's try n equal to one million."
      ],
      "metadata": {
        "id": "GFEwWjW19bG6"
      }
    },
    {
      "cell_type": "code",
      "source": [
        "!time ./count_primes_v1 1000000"
      ],
      "metadata": {
        "colab": {
          "base_uri": "https://localhost:8080/"
        },
        "id": "8RYRq24n9XnV",
        "outputId": "0452e5fd-f16f-4880-9462-dfc0db89eb66"
      },
      "execution_count": 40,
      "outputs": [
        {
          "output_type": "stream",
          "name": "stdout",
          "text": [
            "The number of primes <= 1000000 is 78498\n",
            "\n",
            "real\t0m0.019s\n",
            "user\t0m0.016s\n",
            "sys\t0m0.003s\n"
          ]
        }
      ]
    },
    {
      "cell_type": "markdown",
      "source": [
        "## Let's try n equal to ten million."
      ],
      "metadata": {
        "id": "pygk1NzE9jD-"
      }
    },
    {
      "cell_type": "code",
      "source": [
        "!time ./count_primes_v1 10000000"
      ],
      "metadata": {
        "colab": {
          "base_uri": "https://localhost:8080/"
        },
        "id": "3QI1Fugq9f0g",
        "outputId": "45d2244d-ac32-4e19-b927-df6944bae2d0"
      },
      "execution_count": 41,
      "outputs": [
        {
          "output_type": "stream",
          "name": "stdout",
          "text": [
            "/bin/bash: line 1:   481 Segmentation fault      (core dumped) ./count_primes_v1 10000000\n",
            "\n",
            "real\t0m0.048s\n",
            "user\t0m0.004s\n",
            "sys\t0m0.040s\n"
          ]
        }
      ]
    },
    {
      "cell_type": "markdown",
      "source": [
        "## In version 1 we put the array on the stack which severely limits how big of an n we can handle.  \n",
        "\n",
        "## In order to handle larger n, we will need to use **dynamic memory allocation**.  \n",
        "\n",
        "## There are **two pools of memory** that our C programs can use.  \n",
        "\n",
        "## The first pool of memory is called the **stack** which has a very limited size.  \n",
        "\n",
        "## If you declare an array variable using the notation *int a[100]* then the 400 bytes of memory (an int is 4 bytes) for that array is allocated on the **stack**.  \n",
        "\n",
        "## The second pool of memory is called the **heap** which has a much larger size than the **stack**.\n",
        "\n",
        "## Memory on the heap is accessed very differently than memory on the stack.  \n",
        "\n",
        "## To use heap memory, we need to ask the **memory manager** for a certain number of bytes.  If those bytes are available, then the **memory manager** will return to us a pointer to the beginning of our requested memory.\n",
        "\n",
        "## We need to **free** up our requested memory when we no longer require it.\n",
        "\n",
        "## We interface with the **memory manager** using C functions such as **malloc**, **calloc**, and **free**.\n",
        "\n",
        "## Here is an example illustrating the basics of dynamic memory allocation on the heap.\n"
      ],
      "metadata": {
        "id": "M9HTM_Fx9rRF"
      }
    },
    {
      "cell_type": "code",
      "source": [
        "%%writefile heap.c\n",
        "#include <stdio.h>\n",
        "#include <stdlib.h>\n",
        "\n",
        "int main () {\n",
        "\n",
        "    // allocate an array of 5 integers on the stack\n",
        "    int a[5];\n",
        "\n",
        "    // allocate an array of 5 integers on the heap\n",
        "    // malloc stands for \"memory allocation\"\n",
        "    // memory allocated using malloc is not initialized.\n",
        "    int* b = (int*)malloc(5*sizeof(int));\n",
        "\n",
        "    // allocate an array of 5 integers on the stack\n",
        "    // and initialize the array to contain all 0s.\n",
        "    int c[5] = { 0 };\n",
        "\n",
        "    // allocate an array of 5 integers on the heap\n",
        "    // and initialize the array to contain all 0s.\n",
        "    // calloc stands for \"clear allocate\"\n",
        "    // note that the interface to calloc differs slightly\n",
        "    int* d = (int*)calloc(5,sizeof(int));\n",
        "\n",
        "    // all of these arrays can be used in the same way\n",
        "    a[2] = 10;\n",
        "    b[2] = 2*a[2];\n",
        "    c[2] += a[2]+b[2];\n",
        "    d[2] += c[2]+a[2];\n",
        "    printf (\"%d %d %d %d\\n\",a[2],b[2],c[2],d[2]);\n",
        "\n",
        "    // Memory for stack variables is automatically\n",
        "    // freed when it is no longer needed.\n",
        "    // Memory for heap variables is freed manually.\n",
        "    // Do not continue to use heap memory after it has been freed!\n",
        "    free(b);\n",
        "    free(d);\n",
        "}"
      ],
      "metadata": {
        "colab": {
          "base_uri": "https://localhost:8080/"
        },
        "id": "yD_LQLSK9loX",
        "outputId": "63ae44f9-c4f6-4fd1-b34f-c1bce911d25c"
      },
      "execution_count": 42,
      "outputs": [
        {
          "output_type": "stream",
          "name": "stdout",
          "text": [
            "Writing heap.c\n"
          ]
        }
      ]
    },
    {
      "cell_type": "code",
      "source": [
        "!gcc -o heap heap.c"
      ],
      "metadata": {
        "id": "H8FQzX2E95Oa"
      },
      "execution_count": 43,
      "outputs": []
    },
    {
      "cell_type": "code",
      "source": [
        "!./heap"
      ],
      "metadata": {
        "colab": {
          "base_uri": "https://localhost:8080/"
        },
        "id": "_w9k_MV5-Ac_",
        "outputId": "b7b28cd8-6b83-456a-f290-4860a34992db"
      },
      "execution_count": 44,
      "outputs": [
        {
          "output_type": "stream",
          "name": "stdout",
          "text": [
            "10 20 30 40\n"
          ]
        }
      ]
    },
    {
      "cell_type": "markdown",
      "source": [
        "## Let revisit our program *bigarray.c* from lecture 5 but this time we use *malloc* to allocate the array."
      ],
      "metadata": {
        "id": "UkWgRT0N-HFn"
      }
    },
    {
      "cell_type": "code",
      "source": [
        "%%writefile bigarray_v1.c\n",
        "#include <stdio.h>\n",
        "#include <stdlib.h>\n",
        "\n",
        "int main (int argc, char** argv) {\n",
        "    if (argc < 2) {\n",
        "        printf (\"command usage: %s %s\\n\",argv[0],\"size\");\n",
        "        return 1;\n",
        "    }\n",
        "    long len = atol(argv[1]);\n",
        "    printf (\"A uses %ld bytes of storage\\n\",len*sizeof(int));\n",
        "    int* A = (int*)malloc(len*sizeof(int));\n",
        "    A[0] = 12345;\n",
        "    A[len-1] = 54321;\n",
        "    printf (\"last element of A is %d\\n\",A[len-1]);\n",
        "}"
      ],
      "metadata": {
        "colab": {
          "base_uri": "https://localhost:8080/"
        },
        "id": "agQPigc--CiU",
        "outputId": "30309ebd-6ee5-4378-c03c-7578d38045e1"
      },
      "execution_count": 45,
      "outputs": [
        {
          "output_type": "stream",
          "name": "stdout",
          "text": [
            "Writing bigarray_v1.c\n"
          ]
        }
      ]
    },
    {
      "cell_type": "code",
      "source": [
        "!gcc -o bigarray_v1 bigarray_v1.c"
      ],
      "metadata": {
        "id": "Ozbxi6Fp-LqY"
      },
      "execution_count": 46,
      "outputs": []
    },
    {
      "cell_type": "markdown",
      "source": [
        "## Let's try to create an array of one million integers."
      ],
      "metadata": {
        "id": "S_Cbj6Qj-ahG"
      }
    },
    {
      "cell_type": "code",
      "source": [
        "!./bigarray_v1 1000000"
      ],
      "metadata": {
        "colab": {
          "base_uri": "https://localhost:8080/"
        },
        "id": "rTIsrRhC-N5o",
        "outputId": "b063222f-ef37-4346-f090-515018d66151"
      },
      "execution_count": 47,
      "outputs": [
        {
          "output_type": "stream",
          "name": "stdout",
          "text": [
            "A uses 4000000 bytes of storage\n",
            "last element of A is 54321\n"
          ]
        }
      ]
    },
    {
      "cell_type": "markdown",
      "source": [
        "## Let's try to create an array of one billion integers.\n",
        "\n",
        "## This array has size 4 billion bytes which is 4 gigabytes."
      ],
      "metadata": {
        "id": "eN5GCulJ-V36"
      }
    },
    {
      "cell_type": "code",
      "source": [
        "!./bigarray_v1 1000000000"
      ],
      "metadata": {
        "colab": {
          "base_uri": "https://localhost:8080/"
        },
        "id": "Vdf9CoyM-QOY",
        "outputId": "249cff3e-e425-4bea-e6b9-816a7ed9b24e"
      },
      "execution_count": 48,
      "outputs": [
        {
          "output_type": "stream",
          "name": "stdout",
          "text": [
            "A uses 4000000000 bytes of storage\n",
            "last element of A is 54321\n"
          ]
        }
      ]
    },
    {
      "cell_type": "markdown",
      "source": [
        "## Let's try to create an array of 100 trillion integers.\n",
        "\n",
        "## This array has size 400 trillion bytes or 400 terabytes."
      ],
      "metadata": {
        "id": "43sgZDXr-mQA"
      }
    },
    {
      "cell_type": "code",
      "source": [
        "!./bigarray_v1 100000000000000 > output"
      ],
      "metadata": {
        "colab": {
          "base_uri": "https://localhost:8080/"
        },
        "id": "sp1Gb-eV-U-U",
        "outputId": "d7638873-c3ec-4acd-b3f9-e38f99e08d70"
      },
      "execution_count": 49,
      "outputs": [
        {
          "output_type": "stream",
          "name": "stdout",
          "text": [
            "/bin/bash: line 1:   500 Segmentation fault      (core dumped) ./bigarray_v1 100000000000000 > output\n"
          ]
        }
      ]
    },
    {
      "cell_type": "markdown",
      "source": [
        "## Unfortunately, we got a segmentation fault.  \n",
        "\n",
        "## This example shows that it is **critical to check the return value of malloc** (and calloc) to ensure the allocation was successful.\n",
        "\n",
        "## If malloc is unsuccessful it will return a NULL pointer.\n",
        "\n",
        "## Dereferencing a NULL pointer always results in a segmentation fault!\n",
        "\n",
        "## Let's correct our program to check the return value for NULL."
      ],
      "metadata": {
        "id": "3AzIzJom-uMp"
      }
    },
    {
      "cell_type": "code",
      "source": [
        "%%writefile bigarray_v2.c\n",
        "#include <stdio.h>\n",
        "#include <stdlib.h>\n",
        "\n",
        "int main (int argc, char** argv) {\n",
        "    if (argc < 2) {\n",
        "        printf (\"command usage: %s %s\\n\",argv[0],\"size\");\n",
        "        return 1;\n",
        "    }\n",
        "    long len = atol(argv[1]);\n",
        "    printf (\"A uses %ld bytes of storage\\n\",len*sizeof(int));\n",
        "    int* A = (int*)malloc(len*sizeof(int));\n",
        "    if (A == NULL) {\n",
        "        printf (\"malloc failed to allocate memory for A.\\n\");\n",
        "        return 1;\n",
        "    }\n",
        "    A[0] = 12345;\n",
        "    A[len-1] = 54321;\n",
        "    printf (\"last element of A is %d\\n\",A[len-1]);\n",
        "}"
      ],
      "metadata": {
        "colab": {
          "base_uri": "https://localhost:8080/"
        },
        "id": "aG0-U3tj-p1Y",
        "outputId": "8a4e1e26-4556-4e98-fa0b-97ec24a0d816"
      },
      "execution_count": 50,
      "outputs": [
        {
          "output_type": "stream",
          "name": "stdout",
          "text": [
            "Writing bigarray_v2.c\n"
          ]
        }
      ]
    },
    {
      "cell_type": "code",
      "source": [
        "!gcc -o bigarray_v2 bigarray_v2.c"
      ],
      "metadata": {
        "id": "TlpzEaQD-s0Z"
      },
      "execution_count": 51,
      "outputs": []
    },
    {
      "cell_type": "markdown",
      "source": [
        "## Let's try to create an array of one trillion integers.\n",
        "\n",
        "## This array has size 4 trillion bytes which is 4 terabytes."
      ],
      "metadata": {
        "id": "Gq6OWuav-8-d"
      }
    },
    {
      "cell_type": "code",
      "source": [
        "!./bigarray_v2 1000000000000"
      ],
      "metadata": {
        "colab": {
          "base_uri": "https://localhost:8080/"
        },
        "id": "qkt4k5gG-5rt",
        "outputId": "59d87eba-fa58-4c25-e736-661bd27608cc"
      },
      "execution_count": 52,
      "outputs": [
        {
          "output_type": "stream",
          "name": "stdout",
          "text": [
            "A uses 4000000000000 bytes of storage\n",
            "last element of A is 54321\n"
          ]
        }
      ]
    },
    {
      "cell_type": "markdown",
      "source": [
        "## Let's try to create an array of 100 trillion integers.\n",
        "\n",
        "## This array has size 400 trillion bytes or 400 terabytes."
      ],
      "metadata": {
        "id": "Y1oImTy8_Cfj"
      }
    },
    {
      "cell_type": "code",
      "source": [
        "!./bigarray_v2 100000000000000"
      ],
      "metadata": {
        "colab": {
          "base_uri": "https://localhost:8080/"
        },
        "id": "XKyfJW1z_BOA",
        "outputId": "5ddfa660-1644-4359-87d6-880e38a2c6cd"
      },
      "execution_count": 53,
      "outputs": [
        {
          "output_type": "stream",
          "name": "stdout",
          "text": [
            "A uses 400000000000000 bytes of storage\n",
            "malloc failed to allocate memory for A.\n"
          ]
        }
      ]
    },
    {
      "cell_type": "markdown",
      "source": [
        "## In this version we have a graceful exit when malloc fails."
      ],
      "metadata": {
        "id": "8lTKSbT5_Mct"
      }
    },
    {
      "cell_type": "markdown",
      "source": [
        "## Here is a version of our sieve code that counts primes using an array on the heap.\n",
        "\n",
        "## Note that we check the return value of malloc!"
      ],
      "metadata": {
        "id": "ULaJubII_QLE"
      }
    },
    {
      "cell_type": "code",
      "source": [
        "%%writefile count_primes_v2.c\n",
        "#include <stdio.h>\n",
        "#include <stdlib.h>\n",
        "\n",
        "int main (int argc, char** argv) {\n",
        "\n",
        "    // count number of primes <= n\n",
        "    // where n is read from the command line\n",
        "    if (argc < 2) {\n",
        "        printf (\"command usage: %s %s\\n\",argv[0],\"n\");\n",
        "        return 1;\n",
        "    }\n",
        "    int n = atoi(argv[1]);\n",
        "\n",
        "    // initially assume all integers >= 2 are prime\n",
        "    // note that we ignore is_prime[0] and is_prime[1]\n",
        "    // We dynamically allocate the array using malloc.\n",
        "    // It is critical to check the return value of\n",
        "    // malloc to ensure the allocation was successful.\n",
        "    // If malloc is unsuccessful it will return a NULL pointer.\n",
        "    // Dereferencing a NULL pointer always results in a segmentation fault!\n",
        "    int* is_prime = (int*)malloc((n+1)*sizeof(int));\n",
        "    if (is_prime == NULL) {\n",
        "        printf (\"malloc failed to allocate is_prime array!\\n\");\n",
        "        return 1;\n",
        "    }\n",
        "    for (int i = 2; i <= n; i++) {\n",
        "        is_prime[i] = 1;\n",
        "    }\n",
        "\n",
        "    // mark non-primes <= n using Sieve of Eratosthenes\n",
        "    for (int d=2;d*d<=n;d++) {\n",
        "        // if d is prime, then mark multiples of d as non-prime\n",
        "        // suffices to consider multiples d*d, d*d+d, d*d+2d, ...\n",
        "        if (is_prime[d]) {\n",
        "            for (int c=d*d;c<=n;c+=d) {\n",
        "                is_prime[c] = 0;\n",
        "            }\n",
        "        }\n",
        "    }\n",
        "\n",
        "    // count primes\n",
        "    int primes = 0;\n",
        "    for (int i = 2; i <= n; i++) {\n",
        "        if (is_prime[i]) {\n",
        "            primes++;\n",
        "        }\n",
        "    }\n",
        "    printf (\"The number of primes <= %d is %d\\n\",n,primes);\n",
        "\n",
        "    // free the dynamically allocated array\n",
        "    free(is_prime);\n",
        "}\n"
      ],
      "metadata": {
        "colab": {
          "base_uri": "https://localhost:8080/"
        },
        "id": "UlSRpokC_I0b",
        "outputId": "f32d3a53-1adf-46d9-c65e-ab943892693b"
      },
      "execution_count": 54,
      "outputs": [
        {
          "output_type": "stream",
          "name": "stdout",
          "text": [
            "Writing count_primes_v2.c\n"
          ]
        }
      ]
    },
    {
      "cell_type": "markdown",
      "source": [
        "## Let's switch on the optimizing compiler using -O3 and -march=native for better performance."
      ],
      "metadata": {
        "id": "R8YfJqMv_Xmw"
      }
    },
    {
      "cell_type": "code",
      "source": [
        "!gcc -O3 -march=native -o count_primes_v2 count_primes_v2.c"
      ],
      "metadata": {
        "id": "OIEPkZw1_T1o"
      },
      "execution_count": 55,
      "outputs": []
    },
    {
      "cell_type": "markdown",
      "source": [
        "## Let's try n equal to one hundred million."
      ],
      "metadata": {
        "id": "JWU-vl2M_d2W"
      }
    },
    {
      "cell_type": "code",
      "source": [
        "!time ./count_primes_v2 100000000"
      ],
      "metadata": {
        "colab": {
          "base_uri": "https://localhost:8080/"
        },
        "id": "pq6ap2OA_aZu",
        "outputId": "08be9085-e9bc-4122-b75b-e8314e3a5e46"
      },
      "execution_count": 56,
      "outputs": [
        {
          "output_type": "stream",
          "name": "stdout",
          "text": [
            "The number of primes <= 100000000 is 5761455\n",
            "\n",
            "real\t0m2.241s\n",
            "user\t0m2.000s\n",
            "sys\t0m0.226s\n"
          ]
        }
      ]
    },
    {
      "cell_type": "markdown",
      "source": [
        "## Let's try n equal to one billion.\n",
        "\n",
        "## In this case our **is_prime** array is roughly 4 billion bytes or 4 Gigabytes!"
      ],
      "metadata": {
        "id": "_M2vpsKm_k5z"
      }
    },
    {
      "cell_type": "code",
      "source": [
        "!time ./count_primes_v2 1000000000"
      ],
      "metadata": {
        "colab": {
          "base_uri": "https://localhost:8080/"
        },
        "id": "cKtRfVgo_hlN",
        "outputId": "915f41f4-ada3-4a8e-c857-18b0431c4461"
      },
      "execution_count": 57,
      "outputs": [
        {
          "output_type": "stream",
          "name": "stdout",
          "text": [
            "The number of primes <= 1000000000 is 50847534\n",
            "\n",
            "real\t0m26.482s\n",
            "user\t0m23.724s\n",
            "sys\t0m2.510s\n"
          ]
        }
      ]
    },
    {
      "cell_type": "markdown",
      "source": [
        "## By contrast, the stack size is 8192 kilobytes which is roughly 8 Megabytes!"
      ],
      "metadata": {
        "id": "THM1Y-Do_rcq"
      }
    },
    {
      "cell_type": "code",
      "source": [
        "!ulimit -s"
      ],
      "metadata": {
        "colab": {
          "base_uri": "https://localhost:8080/"
        },
        "id": "eeyMzdGq_oU-",
        "outputId": "adc86042-fda2-4400-f264-cd0a37af7efb"
      },
      "execution_count": 58,
      "outputs": [
        {
          "output_type": "stream",
          "name": "stdout",
          "text": [
            "8192\n"
          ]
        }
      ]
    },
    {
      "cell_type": "code",
      "source": [],
      "metadata": {
        "id": "otzTJERR_weU"
      },
      "execution_count": 58,
      "outputs": []
    }
  ]
}