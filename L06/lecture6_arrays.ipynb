{
  "nbformat": 4,
  "nbformat_minor": 0,
  "metadata": {
    "colab": {
      "provenance": []
    },
    "kernelspec": {
      "name": "python3",
      "display_name": "Python 3"
    },
    "language_info": {
      "name": "python"
    }
  },
  "cells": [
    {
      "cell_type": "markdown",
      "source": [
        "# Lecture 6 : Arrays"
      ],
      "metadata": {
        "id": "3EW8zosAMKqn"
      }
    },
    {
      "cell_type": "markdown",
      "source": [
        "# Part 1 : Introduction to Arrays"
      ],
      "metadata": {
        "id": "B6Wn32SGONWt"
      }
    },
    {
      "cell_type": "markdown",
      "source": [
        "## Here is an example illustrating basic C array allocation, initialization, and usage."
      ],
      "metadata": {
        "id": "FFSlpk6bQ_R9"
      }
    },
    {
      "cell_type": "code",
      "source": [
        "%%writefile arrays.c\n",
        "#include <stdio.h>\n",
        "\n",
        "int main () {\n",
        "    int a[2] = { 1, 2 };\n",
        "    int b[] = { 1, 2, 3 }; // size of array inferred\n",
        "    int c[4] = { 1, 2 }; // missing elements initialized to 0\n",
        "    int d[5] = { 0 }; // initialize all elements to 0\n",
        "    printf (\"a = [ %d %d ]\\n\\n\",a[0],a[1]);\n",
        "    printf (\"b = [ %d %d %d ]\\n\\n\",b[0],b[1],b[2]);\n",
        "    printf (\"c = [ %d %d %d %d ]\\n\\n\",c[0],c[1],c[2],c[3]);\n",
        "    printf (\"d = [ %d %d %d %d %d ]\\n\\n\",d[0],d[1],d[2],d[3],d[4]);\n",
        "}"
      ],
      "metadata": {
        "colab": {
          "base_uri": "https://localhost:8080/"
        },
        "id": "6m3Nxct9REWe",
        "outputId": "43cac3fb-f331-4d15-ee46-3e8ec0299d28"
      },
      "execution_count": 1,
      "outputs": [
        {
          "output_type": "stream",
          "name": "stdout",
          "text": [
            "Overwriting arrays.c\n"
          ]
        }
      ]
    },
    {
      "cell_type": "code",
      "source": [
        "!gcc -o arrays arrays.c"
      ],
      "metadata": {
        "id": "rOTQtTPbMvie"
      },
      "execution_count": 2,
      "outputs": []
    },
    {
      "cell_type": "code",
      "source": [
        "!./arrays"
      ],
      "metadata": {
        "colab": {
          "base_uri": "https://localhost:8080/"
        },
        "id": "Wh83gKBNSE6O",
        "outputId": "ea163bb8-4a8f-4e5a-aa43-32b5382e48a5"
      },
      "execution_count": 3,
      "outputs": [
        {
          "output_type": "stream",
          "name": "stdout",
          "text": [
            "a = [ 1 2 ]\n",
            "\n",
            "b = [ 1 2 3 ]\n",
            "\n",
            "c = [ 1 2 0 0 ]\n",
            "\n",
            "d = [ 0 0 0 0 0 ]\n",
            "\n"
          ]
        }
      ]
    },
    {
      "cell_type": "markdown",
      "source": [
        "## Here is an example illustrating that C arrays are not automatically initialized.\n",
        "\n",
        "## If you do not initialize an array it will contain whatever values that memory has in it.  This could depend on what code was run before you access the unitialized array!\n",
        "\n",
        "## Note that this example also includes C code for generating random integers."
      ],
      "metadata": {
        "id": "Q2XlsfhZXq3G"
      }
    },
    {
      "cell_type": "code",
      "source": [
        "%%writefile random.c\n",
        "#include <stdio.h>\n",
        "#include <stdlib.h> // for srandom and random functions\n",
        "#include <time.h> // for time function\n",
        "\n",
        "void random3 () {\n",
        "    long long x = random();\n",
        "    long long y = random();\n",
        "    long long z = random();\n",
        "    long long sum = x + y + z;\n",
        "    printf (\"here is the sum of three random integers : %lld\\n\\n\",sum);\n",
        "}\n",
        "\n",
        "void fun_array () {\n",
        "    int a[3]; // warning: arrays in C are not automatically initialized!\n",
        "    printf (\"a = [ %d %d %d ]\\n\\n\",a[0],a[1],a[2]);\n",
        "}\n",
        "\n",
        "int main () {\n",
        "    srandom(time(NULL)); // seed random number generator\n",
        "    fun_array();\n",
        "    random3();\n",
        "    fun_array();\n",
        "}"
      ],
      "metadata": {
        "colab": {
          "base_uri": "https://localhost:8080/"
        },
        "id": "-Q_CyYpoXdez",
        "outputId": "f06c10e9-a8f7-4f0a-f2e3-75c1e82a3811"
      },
      "execution_count": 4,
      "outputs": [
        {
          "output_type": "stream",
          "name": "stdout",
          "text": [
            "Overwriting random.c\n"
          ]
        }
      ]
    },
    {
      "cell_type": "code",
      "source": [
        "!gcc -o random random.c"
      ],
      "metadata": {
        "id": "UFSrTNXVYIZG"
      },
      "execution_count": 5,
      "outputs": []
    },
    {
      "cell_type": "code",
      "source": [
        "!./random"
      ],
      "metadata": {
        "colab": {
          "base_uri": "https://localhost:8080/"
        },
        "id": "q_TOz06AYKb_",
        "outputId": "b30d8cc1-d373-4a6d-8aa0-ed0ee2a18b6c"
      },
      "execution_count": 6,
      "outputs": [
        {
          "output_type": "stream",
          "name": "stdout",
          "text": [
            "a = [ 0 0 0 ]\n",
            "\n",
            "here is the sum of three random integers : 1684863820\n",
            "\n",
            "a = [ 0 309859899 0 ]\n",
            "\n"
          ]
        }
      ]
    },
    {
      "cell_type": "markdown",
      "source": [
        "## Exercise : Change the fun_array function so that d is initialized to contain all zeros."
      ],
      "metadata": {
        "id": "gUlB_3TErnRc"
      }
    },
    {
      "cell_type": "markdown",
      "source": [
        "## Allocating arrays on the stack as in the above example is only good practice for small arrays.  \n",
        "\n",
        "## Note that starting with C99 the size of an array can be determined at runtime.  \n",
        "\n",
        "## However as shown below, using this new C feature can be quite risky!"
      ],
      "metadata": {
        "id": "9TjQrYgSry8S"
      }
    },
    {
      "cell_type": "code",
      "source": [
        "%%writefile bigarray.c\n",
        "#include <stdio.h>\n",
        "#include <stdlib.h>\n",
        "\n",
        "int main (int argc, char** argv) {\n",
        "    if (argc < 2) {\n",
        "        printf (\"command usage: %s %s\\n\",argv[0],\"size\");\n",
        "        return 1;\n",
        "    }\n",
        "    int size = atoi(argv[1]);\n",
        "    int A[size]; // starting in C99 array size can be a variable\n",
        "    printf (\"A uses %ld bytes of storage\\n\",sizeof(A));\n",
        "    for (int i=0;i<size;i++) {\n",
        "        A[i] = i+1;\n",
        "    }\n",
        "    printf (\"last element of A is %d\\n\",A[size-1]);\n",
        "}"
      ],
      "metadata": {
        "colab": {
          "base_uri": "https://localhost:8080/"
        },
        "id": "GglvWUbVrm0Q",
        "outputId": "361bd48a-d656-42df-c5a7-35fba439239a"
      },
      "execution_count": 7,
      "outputs": [
        {
          "output_type": "stream",
          "name": "stdout",
          "text": [
            "Writing bigarray.c\n"
          ]
        }
      ]
    },
    {
      "cell_type": "code",
      "source": [
        "!gcc -o bigarray bigarray.c"
      ],
      "metadata": {
        "id": "jhP1p-n9SGwC"
      },
      "execution_count": 8,
      "outputs": []
    },
    {
      "cell_type": "markdown",
      "source": [
        "## Note that we can redirect the output to a file."
      ],
      "metadata": {
        "id": "lHMEaZdXzMB-"
      }
    },
    {
      "cell_type": "code",
      "source": [
        "!./bigarray 1000000 > out.txt\n",
        "!cat out.txt"
      ],
      "metadata": {
        "colab": {
          "base_uri": "https://localhost:8080/"
        },
        "id": "Lf6B8g3QsRZH",
        "outputId": "a58ef0d0-11b3-49fd-d85b-38ed1d8e4c6a"
      },
      "execution_count": 9,
      "outputs": [
        {
          "output_type": "stream",
          "name": "stdout",
          "text": [
            "A uses 4000000 bytes of storage\n",
            "last element of A is 1000000\n"
          ]
        }
      ]
    },
    {
      "cell_type": "markdown",
      "source": [
        " ## Thus storing an array of 1 million ints will require 4 megabytes or 4 million bytes (each int requires 4 bytes of storage)."
      ],
      "metadata": {
        "id": "Spp0LOsyz0FE"
      }
    },
    {
      "cell_type": "code",
      "source": [
        "!./bigarray 2500000 > out.txt\n",
        "!cat out.txt"
      ],
      "metadata": {
        "colab": {
          "base_uri": "https://localhost:8080/"
        },
        "id": "BD1XLW74vDcI",
        "outputId": "2c6a59c5-e27a-43ea-f890-7a2bdb54eec4"
      },
      "execution_count": 10,
      "outputs": [
        {
          "output_type": "stream",
          "name": "stdout",
          "text": [
            "/bin/bash: line 1: 16249 Segmentation fault      (core dumped) ./bigarray 2500000 > out.txt\n"
          ]
        }
      ]
    },
    {
      "cell_type": "markdown",
      "source": [
        "## **A segmentation fault in C is a runtime error that occurs when a program tries to access memory that it is not allowed to access.**\n",
        "\n",
        "## Use *ulimit -s* to check the stack size.  The result is in kilobytes (one kilobyte is a thousand bytes).  "
      ],
      "metadata": {
        "id": "NMZNAB65vU2a"
      }
    },
    {
      "cell_type": "code",
      "source": [
        "!ulimit -s"
      ],
      "metadata": {
        "colab": {
          "base_uri": "https://localhost:8080/"
        },
        "id": "SmQLJV3dsSsE",
        "outputId": "3e2e2197-03b2-4524-8e15-05b5247590cd"
      },
      "execution_count": 11,
      "outputs": [
        {
          "output_type": "stream",
          "name": "stdout",
          "text": [
            "8192\n"
          ]
        }
      ]
    },
    {
      "cell_type": "markdown",
      "source": [
        "## Exercise : Given the stack size (in kilobytes) given above, explain why we could allocate and use an array of 1 million ints on the stack but not an array of 2.5 million ints on the stack.  "
      ],
      "metadata": {
        "id": "6gVFsqrvxcBv"
      }
    },
    {
      "cell_type": "markdown",
      "source": [
        "## **For large arrays we will need to use dynamic memory allocation.**  \n",
        "\n",
        "## Memory allocated dynamically is put on the heap which is generally much larger than the stack.  \n",
        "\n",
        "## We will discuss dynamic memory allocation later in the course."
      ],
      "metadata": {
        "id": "ZqUaTArUyABV"
      }
    },
    {
      "cell_type": "markdown",
      "source": [
        "# Part 2 : Arrays and Pointers\n",
        "\n",
        "## Here is an example illustrating how pointers can be used with arrays.  "
      ],
      "metadata": {
        "id": "c8ytL0tUZClK"
      }
    },
    {
      "cell_type": "code",
      "source": [
        "%%writefile arrayptrs.c\n",
        "#include <stdio.h>\n",
        "\n",
        "int main () {\n",
        "    int a[3] = { 1, 2, 3 };\n",
        "    printf (\"a = [ %d %d %d ]\\n\\n\",a[0],a[1],a[2]);\n",
        "\n",
        "    int* b = a; // b is an integer pointer that points to the beginning of a\n",
        "    *b = 4;\n",
        "    printf (\"a = [ %d %d %d ]\\n\\n\",a[0],a[1],a[2]);\n",
        "\n",
        "    b[1] = 5; // we can also use the \"array syntax\" for the pointer b!\n",
        "    printf (\"a = [ %d %d %d ]\\n\\n\",a[0],a[1],a[2]);\n",
        "\n",
        "    int* c = b+2; // using \"pointer arithmetic\" -> int* c = &(b[2])\n",
        "    *c = 6;\n",
        "    printf (\"a = [ %d %d %d ]\\n\\n\",a[0],a[1],a[2]);\n",
        "\n",
        "}"
      ],
      "metadata": {
        "colab": {
          "base_uri": "https://localhost:8080/"
        },
        "id": "BS_LwccssjCw",
        "outputId": "9c115aad-5609-4c1b-a14d-e20830dea291"
      },
      "execution_count": 12,
      "outputs": [
        {
          "output_type": "stream",
          "name": "stdout",
          "text": [
            "Writing arrayptrs.c\n"
          ]
        }
      ]
    },
    {
      "cell_type": "code",
      "source": [
        "!gcc -o arrayptrs arrayptrs.c"
      ],
      "metadata": {
        "id": "nF57Qvl53hKz"
      },
      "execution_count": 13,
      "outputs": []
    },
    {
      "cell_type": "code",
      "source": [
        "!./arrayptrs"
      ],
      "metadata": {
        "colab": {
          "base_uri": "https://localhost:8080/"
        },
        "id": "FXtHZVSr3m7y",
        "outputId": "0f332f89-4b59-4d36-d06d-02c4c714f717"
      },
      "execution_count": 14,
      "outputs": [
        {
          "output_type": "stream",
          "name": "stdout",
          "text": [
            "a = [ 1 2 3 ]\n",
            "\n",
            "a = [ 4 2 3 ]\n",
            "\n",
            "a = [ 4 5 3 ]\n",
            "\n",
            "a = [ 4 5 6 ]\n",
            "\n"
          ]
        }
      ]
    },
    {
      "cell_type": "markdown",
      "source": [
        "## Here is an example illustrating how arrays are passed to functions in C.\n",
        "\n",
        "## One big thing to remember is that **arrays are passed by pointer in C** for efficiency reasons (i.e. it would be very expensive to always have to copy large arrays when calling a function)"
      ],
      "metadata": {
        "id": "jDxG7tWBaV8q"
      }
    },
    {
      "cell_type": "code",
      "source": [
        "%%writefile arrayfun.c\n",
        "#include <stdio.h>\n",
        "\n",
        "// arrays in C are always passed by pointer\n",
        "void swap (int* b) {\n",
        "    int temp = b[0];\n",
        "    b[0] = b[1];\n",
        "    b[1] = temp;\n",
        "}\n",
        "\n",
        "int main () {\n",
        "    int a[2] = { 1, 2 };\n",
        "    printf (\"a = [ %d %d ]\\n\\n\",a[0],a[1]);\n",
        "\n",
        "    swap(a); // pass a pointer to the beginning of a (i.e. &(a[0]))\n",
        "    printf (\"a = [ %d %d ]\\n\\n\",a[0],a[1]);\n",
        "}"
      ],
      "metadata": {
        "colab": {
          "base_uri": "https://localhost:8080/"
        },
        "id": "a6in7ovwZ0K6",
        "outputId": "05a944fe-a181-423c-f1a7-a135a03156c6"
      },
      "execution_count": 15,
      "outputs": [
        {
          "output_type": "stream",
          "name": "stdout",
          "text": [
            "Writing arrayfun.c\n"
          ]
        }
      ]
    },
    {
      "cell_type": "code",
      "source": [
        "!gcc -o arrayfun arrayfun.c"
      ],
      "metadata": {
        "id": "9AK-lI8zaOXF"
      },
      "execution_count": 16,
      "outputs": []
    },
    {
      "cell_type": "code",
      "source": [
        "!./arrayfun"
      ],
      "metadata": {
        "colab": {
          "base_uri": "https://localhost:8080/"
        },
        "id": "OrNQu26BaRgy",
        "outputId": "9aa6f9e0-7639-4647-9e4c-3d5e6bee431c"
      },
      "execution_count": 17,
      "outputs": [
        {
          "output_type": "stream",
          "name": "stdout",
          "text": [
            "a = [ 1 2 ]\n",
            "\n",
            "a = [ 2 1 ]\n",
            "\n"
          ]
        }
      ]
    },
    {
      "cell_type": "markdown",
      "source": [
        "## The last examples illustrates that arrays and pointers are quite similar in C.\n",
        "\n",
        "## However there some big differences.  \n",
        "\n",
        "## An array declaration such as **int a[3]** also sets aside memory to store 3 integers.  \n",
        "\n",
        "## A pointer declation such as **int* b** only sets aside memory to store the pointer b.  \n",
        "\n",
        "## A pointer must be set to point to a variable (or array) before it can be dereferenced.  \n",
        "\n",
        "## Dereferencing an uninitialized pointer usually causes a **segmentation fault** since the pointer is likely pointing to memory that is illegal to access.  \n",
        "\n",
        "## In particular, dereferencing a **null pointer** always causes a segmentation fault.  "
      ],
      "metadata": {
        "id": "BKBq2PPm56mM"
      }
    },
    {
      "cell_type": "code",
      "source": [
        "%%writefile danger.c\n",
        "#include <stdio.h>\n",
        "\n",
        "int main () {\n",
        "    int* a;\n",
        "    a[0] = 3; // dereferencing an uninitialized pointer!\n",
        "    printf (\"a[0] = %d\\n\",a[0]);\n",
        "}"
      ],
      "metadata": {
        "colab": {
          "base_uri": "https://localhost:8080/"
        },
        "id": "XWgD8vjH4Cq9",
        "outputId": "51bd20e2-3541-4c9d-bf51-41f6f2f3ba28"
      },
      "execution_count": 18,
      "outputs": [
        {
          "output_type": "stream",
          "name": "stdout",
          "text": [
            "Writing danger.c\n"
          ]
        }
      ]
    },
    {
      "cell_type": "code",
      "source": [
        "!gcc -o danger danger.c"
      ],
      "metadata": {
        "id": "b9ZAYTSZ7eYC"
      },
      "execution_count": 19,
      "outputs": []
    },
    {
      "cell_type": "code",
      "source": [
        "!./danger > out.txt"
      ],
      "metadata": {
        "colab": {
          "base_uri": "https://localhost:8080/"
        },
        "id": "nf5b4hTq7gFI",
        "outputId": "fae99454-9599-4293-d34f-8ac1496c226b"
      },
      "execution_count": 20,
      "outputs": [
        {
          "output_type": "stream",
          "name": "stdout",
          "text": [
            "/bin/bash: line 1: 16278 Segmentation fault      (core dumped) ./danger > out.txt\n"
          ]
        }
      ]
    },
    {
      "cell_type": "markdown",
      "source": [
        "# Part 3 : Sample Standard Deviation\n",
        "\n",
        "## Here is a C program that computes the average and sample standard deviation of real number points in *stdin*.  For the standard deviation we use the formula:\n",
        "\n",
        "$$\\sigma = \\sqrt{ \\frac{1}{N-1} \\sum_{i=1}^N (x_i - \\bar{x})^2}$$\n",
        "\n",
        "## where\n",
        "\n",
        "$$\\bar{x} = \\displaystyle\\frac{1}{N} \\displaystyle\\sum_{i=1}^N x_i$$\n",
        "\n",
        "## In this case we will have to store the data in an array since we need to make two passes over it.\n",
        "\n",
        "## Note that we set a maximum number of points to prevent a potential stack overflow!"
      ],
      "metadata": {
        "id": "tEvX7F9atFyI"
      }
    },
    {
      "cell_type": "code",
      "source": [
        "%%writefile stdev.c\n",
        "#include <stdio.h>\n",
        "#include <math.h>\n",
        "\n",
        "#define MAX_POINTS 100000\n",
        "\n",
        "int main () {\n",
        "    float data[MAX_POINTS];\n",
        "    float next;\n",
        "    int num_points = 0;\n",
        "    while (scanf(\"%f\",&next) == 1) {\n",
        "        if (num_points < MAX_POINTS) {\n",
        "            data[num_points++] = next; // increment num_points after reading it\n",
        "        } else {\n",
        "            printf (\"too many data points!\\n\");\n",
        "            return 1;\n",
        "        }\n",
        "    }\n",
        "    float sum = 0;\n",
        "    for (int i=0;i<num_points;i++) {\n",
        "        sum += data[i];\n",
        "    }\n",
        "    float mean = sum/num_points;\n",
        "    printf (\"mean = %.2f\\n\",mean);\n",
        "    float sum_sqs = 0;\n",
        "    for (int i=0;i<num_points;i++) {\n",
        "        sum_sqs += (data[i]-mean)*(data[i]-mean);\n",
        "    }\n",
        "    float var = sum_sqs/(num_points-1);\n",
        "    printf (\"standard deviation = %.2f\\n\",sqrt(var));\n",
        "}"
      ],
      "metadata": {
        "id": "7RjFok4MUYID",
        "colab": {
          "base_uri": "https://localhost:8080/"
        },
        "outputId": "45ac99e1-8701-483d-f50c-c773caef8be4"
      },
      "execution_count": 21,
      "outputs": [
        {
          "output_type": "stream",
          "name": "stdout",
          "text": [
            "Overwriting stdev.c\n"
          ]
        }
      ]
    },
    {
      "cell_type": "code",
      "source": [
        "!gcc -o stdev stdev.c -lm"
      ],
      "metadata": {
        "id": "x0nppWE4tOX0"
      },
      "execution_count": 22,
      "outputs": []
    },
    {
      "cell_type": "code",
      "source": [
        "!echo 86.5 81.0 92.5 86.5 74.5 57.5 76.5 94.5 66.5 98.5 23.5 47.5 74.5 77.5 88.0 | ./stdev"
      ],
      "metadata": {
        "colab": {
          "base_uri": "https://localhost:8080/"
        },
        "id": "dFkICXBptRCv",
        "outputId": "cf7f53ee-faaf-4ce6-8c67-ffe36c525fba"
      },
      "execution_count": 23,
      "outputs": [
        {
          "output_type": "stream",
          "name": "stdout",
          "text": [
            "mean = 75.03\n",
            "standard deviation = 19.83\n"
          ]
        }
      ]
    },
    {
      "cell_type": "markdown",
      "source": [
        "# Part 4 : Bubble Sort\n",
        "\n",
        "## Here is a C program that bubble sorts the input data."
      ],
      "metadata": {
        "id": "4MMtzcpSXTJj"
      }
    },
    {
      "cell_type": "code",
      "source": [
        "%%writefile bubble.c\n",
        "#include <stdio.h>\n",
        "#include <stdlib.h>\n",
        "\n",
        "#define MAX_POINTS 100000\n",
        "\n",
        "// bubble sort (returns the number of rounds needed)\n",
        "int bubble (int* data, int num_points) {\n",
        "    int done = 0;\n",
        "    int round = 0;\n",
        "    while (!done) {\n",
        "        round += 1;\n",
        "        done = 1;\n",
        "        for (int i=0;i<num_points-round;i++) {\n",
        "            if (data[i] > data[i+1]) {\n",
        "                int temp = data[i];\n",
        "                data[i] = data[i+1];\n",
        "                data[i+1] = temp;\n",
        "                done = 0;\n",
        "            }\n",
        "        }\n",
        "    }\n",
        "    return round;\n",
        "}\n",
        "\n",
        "int main () {\n",
        "    int data[MAX_POINTS];\n",
        "    int next;\n",
        "    int num_points = 0;\n",
        "    while (scanf(\"%d\",&next) == 1) {\n",
        "        if (num_points < MAX_POINTS) {\n",
        "            data[num_points++] = next;\n",
        "        } else {\n",
        "            printf (\"too many data points!\\n\");\n",
        "            return 1;\n",
        "        }\n",
        "    }\n",
        "    int num_rounds = bubble(data,num_points);\n",
        "    printf (\"num_rounds of bubble sort: %d\\n\",num_rounds);\n",
        "    for (int i=0;i<num_points;i++) {\n",
        "        printf (\"%d\\n\",data[i]);\n",
        "    }\n",
        "}"
      ],
      "metadata": {
        "id": "bV-Ee8_YtUIW",
        "colab": {
          "base_uri": "https://localhost:8080/"
        },
        "outputId": "7a8ca0fa-4769-47a9-969b-b9b1d718e8bf"
      },
      "execution_count": 24,
      "outputs": [
        {
          "output_type": "stream",
          "name": "stdout",
          "text": [
            "Overwriting bubble.c\n"
          ]
        }
      ]
    },
    {
      "cell_type": "code",
      "source": [
        "!gcc -o bubble bubble.c"
      ],
      "metadata": {
        "id": "eWXOGrTjU9lv"
      },
      "execution_count": 25,
      "outputs": []
    },
    {
      "cell_type": "code",
      "source": [
        "!echo 1 2 3 4 | ./bubble"
      ],
      "metadata": {
        "colab": {
          "base_uri": "https://localhost:8080/"
        },
        "id": "OK5JWHfke3ch",
        "outputId": "f913719c-30df-4650-e4ae-254df760b3cf"
      },
      "execution_count": 26,
      "outputs": [
        {
          "output_type": "stream",
          "name": "stdout",
          "text": [
            "num_rounds of bubble sort: 1\n",
            "1\n",
            "2\n",
            "3\n",
            "4\n"
          ]
        }
      ]
    },
    {
      "cell_type": "code",
      "source": [
        "!echo 4 3 2 1 | ./bubble"
      ],
      "metadata": {
        "colab": {
          "base_uri": "https://localhost:8080/"
        },
        "id": "gTj8B5Ufe5zM",
        "outputId": "327d848f-5d0d-4cda-a365-7ed4eae480e7"
      },
      "execution_count": 27,
      "outputs": [
        {
          "output_type": "stream",
          "name": "stdout",
          "text": [
            "num_rounds of bubble sort: 4\n",
            "1\n",
            "2\n",
            "3\n",
            "4\n"
          ]
        }
      ]
    },
    {
      "cell_type": "code",
      "source": [
        "!echo -45 65 -121 32 -456 34 -213423 3434 4533 -343 | ./bubble"
      ],
      "metadata": {
        "colab": {
          "base_uri": "https://localhost:8080/"
        },
        "id": "b8uKKU-KU-9k",
        "outputId": "e09a6cab-9d2f-4e72-cfb1-9bde46ab77f6"
      },
      "execution_count": 28,
      "outputs": [
        {
          "output_type": "stream",
          "name": "stdout",
          "text": [
            "num_rounds of bubble sort: 8\n",
            "-213423\n",
            "-456\n",
            "-343\n",
            "-121\n",
            "-45\n",
            "32\n",
            "34\n",
            "65\n",
            "3434\n",
            "4533\n"
          ]
        }
      ]
    },
    {
      "cell_type": "code",
      "source": [
        "# clone cmda3634_materials repo to download a dataset\n",
        "!git clone https://code.vt.edu/jasonwil/cmda3634_materials.git"
      ],
      "metadata": {
        "colab": {
          "base_uri": "https://localhost:8080/"
        },
        "id": "NdAas-KCZrA6",
        "outputId": "e95602e9-9524-4a2a-83c3-8bc5b657c77d"
      },
      "execution_count": 29,
      "outputs": [
        {
          "output_type": "stream",
          "name": "stdout",
          "text": [
            "fatal: destination path 'cmda3634_materials' already exists and is not an empty directory.\n"
          ]
        }
      ]
    },
    {
      "cell_type": "code",
      "source": [
        "# copy the 100000 point dataset to our working directory\n",
        "!cp cmda3634_materials/L06/* ."
      ],
      "metadata": {
        "id": "OC6NUmVvZuvL"
      },
      "execution_count": 30,
      "outputs": []
    },
    {
      "cell_type": "markdown",
      "source": [
        "## Compile with optimization flags turned on in quiet mode."
      ],
      "metadata": {
        "id": "iTYXMwJcaMQF"
      }
    },
    {
      "cell_type": "code",
      "source": [
        "!gcc -O3 -march=native -o bubble bubble.c"
      ],
      "metadata": {
        "id": "RdhcFD5KaCOF"
      },
      "execution_count": 31,
      "outputs": []
    },
    {
      "cell_type": "code",
      "source": [
        "!time cat num100k.txt | ./bubble > bubble100k.txt"
      ],
      "metadata": {
        "colab": {
          "base_uri": "https://localhost:8080/"
        },
        "id": "_g5tJ58QZ5r-",
        "outputId": "d2ce9b13-7817-4a54-c5e9-875311f66e58"
      },
      "execution_count": 32,
      "outputs": [
        {
          "output_type": "stream",
          "name": "stdout",
          "text": [
            "\n",
            "real\t0m32.474s\n",
            "user\t0m31.917s\n",
            "sys\t0m0.037s\n"
          ]
        }
      ]
    },
    {
      "cell_type": "code",
      "source": [
        "!head -5 bubble100k.txt"
      ],
      "metadata": {
        "colab": {
          "base_uri": "https://localhost:8080/"
        },
        "id": "VZqKHzK3aU10",
        "outputId": "6f1d2591-9ab5-44af-a712-1b0182058688"
      },
      "execution_count": 33,
      "outputs": [
        {
          "output_type": "stream",
          "name": "stdout",
          "text": [
            "num_rounds of bubble sort: 99850\n",
            "-999983249\n",
            "-999965924\n",
            "-999942764\n",
            "-999934988\n"
          ]
        }
      ]
    },
    {
      "cell_type": "markdown",
      "source": [
        "## We use the linux command sed (stream editor) to delete the first line of the bubble sorted file."
      ],
      "metadata": {
        "id": "k3pckFLUfDeT"
      }
    },
    {
      "cell_type": "code",
      "source": [
        "!sed '1d' bubble100k.txt > sorted100k.txt"
      ],
      "metadata": {
        "id": "uQ5n7X6kd3e1"
      },
      "execution_count": 34,
      "outputs": []
    },
    {
      "cell_type": "code",
      "source": [
        "!time cat sorted100k.txt | ./bubble > bubble100k.txt"
      ],
      "metadata": {
        "colab": {
          "base_uri": "https://localhost:8080/"
        },
        "id": "yBn872GudT20",
        "outputId": "cbb93a05-d3e8-4a51-8f78-068df3972be6"
      },
      "execution_count": 35,
      "outputs": [
        {
          "output_type": "stream",
          "name": "stdout",
          "text": [
            "\n",
            "real\t0m0.046s\n",
            "user\t0m0.036s\n",
            "sys\t0m0.008s\n"
          ]
        }
      ]
    },
    {
      "cell_type": "code",
      "source": [
        "!head -5 bubble100k.txt"
      ],
      "metadata": {
        "colab": {
          "base_uri": "https://localhost:8080/"
        },
        "id": "u80zfEFydbZY",
        "outputId": "0fe1caa9-e18e-45e0-d620-2386c3350241"
      },
      "execution_count": 36,
      "outputs": [
        {
          "output_type": "stream",
          "name": "stdout",
          "text": [
            "num_rounds of bubble sort: 1\n",
            "-999983249\n",
            "-999965924\n",
            "-999942764\n",
            "-999934988\n"
          ]
        }
      ]
    },
    {
      "cell_type": "markdown",
      "source": [
        "## Note that for bubble sort the difference between the best case (file is already sorted) and the worst case (need all or almost all rounds) is huge!\n",
        "\n",
        "## As fast as C is it cannot overcome a bad algorithm.\n",
        "\n",
        "## We will learn about a much faster way to sort numbers later in the course!"
      ],
      "metadata": {
        "id": "nA-nkL7aeSnr"
      }
    },
    {
      "cell_type": "markdown",
      "source": [
        "## Exercise 1 : Write a program called *median* that finds median of a dataset containing real numbers.  You can assume that the dataset has a maximum of 100000 points.  \n",
        "\n",
        "### Hint: You can start by bubble sorting the data."
      ],
      "metadata": {
        "id": "7A-MR0rbZDT2"
      }
    },
    {
      "cell_type": "code",
      "source": [],
      "metadata": {
        "id": "rnOJ7YedVe75"
      },
      "execution_count": 36,
      "outputs": []
    }
  ]
}