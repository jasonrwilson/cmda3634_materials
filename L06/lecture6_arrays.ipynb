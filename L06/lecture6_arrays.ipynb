{
  "nbformat": 4,
  "nbformat_minor": 0,
  "metadata": {
    "colab": {
      "provenance": []
    },
    "kernelspec": {
      "name": "python3",
      "display_name": "Python 3"
    },
    "language_info": {
      "name": "python"
    }
  },
  "cells": [
    {
      "cell_type": "markdown",
      "source": [
        "# Lecture 6 : Arrays"
      ],
      "metadata": {
        "id": "3EW8zosAMKqn"
      }
    },
    {
      "cell_type": "markdown",
      "source": [
        "# Part 1 : Introduction to Arrays"
      ],
      "metadata": {
        "id": "B6Wn32SGONWt"
      }
    },
    {
      "cell_type": "markdown",
      "source": [
        "## Here is an example illustrating basic C array allocation, initialization, and usage."
      ],
      "metadata": {
        "id": "FFSlpk6bQ_R9"
      }
    },
    {
      "cell_type": "code",
      "source": [
        "%%writefile arrays.c\n",
        "#include <stdio.h>\n",
        "\n",
        "int main () {\n",
        "    int a[2] = { 1, 2 };\n",
        "    int b[] = { 1, 2, 3 }; // size of array inferred\n",
        "    int c[4] = { 1, 2 }; // missing elements initialized to 0\n",
        "    int d[5] = { 0 }; // initialize all elements to 0\n",
        "    printf (\"a = [ %d %d ]\\n\\n\",a[0],a[1]);\n",
        "    printf (\"b = [ %d %d %d ]\\n\\n\",b[0],b[1],b[2]);\n",
        "    printf (\"c = [ %d %d %d %d ]\\n\\n\",c[0],c[1],c[2],c[3]);\n",
        "    printf (\"d = [ %d %d %d %d %d ]\\n\\n\",d[0],d[1],d[2],d[3],d[4]);\n",
        "}"
      ],
      "metadata": {
        "colab": {
          "base_uri": "https://localhost:8080/"
        },
        "id": "6m3Nxct9REWe",
        "outputId": "6a2c0e8a-98da-4548-fbd6-c6195b9f0057"
      },
      "execution_count": 1,
      "outputs": [
        {
          "output_type": "stream",
          "name": "stdout",
          "text": [
            "Writing arrays.c\n"
          ]
        }
      ]
    },
    {
      "cell_type": "code",
      "source": [
        "!gcc -o arrays arrays.c"
      ],
      "metadata": {
        "id": "rOTQtTPbMvie"
      },
      "execution_count": 2,
      "outputs": []
    },
    {
      "cell_type": "code",
      "source": [
        "!./arrays"
      ],
      "metadata": {
        "colab": {
          "base_uri": "https://localhost:8080/"
        },
        "id": "Wh83gKBNSE6O",
        "outputId": "ff33e9cc-e3e3-4643-c36d-c85aded58f8d"
      },
      "execution_count": 3,
      "outputs": [
        {
          "output_type": "stream",
          "name": "stdout",
          "text": [
            "a = [ 1 2 ]\n",
            "\n",
            "b = [ 1 2 3 ]\n",
            "\n",
            "c = [ 1 2 0 0 ]\n",
            "\n",
            "d = [ 0 0 0 0 0 ]\n",
            "\n"
          ]
        }
      ]
    },
    {
      "cell_type": "markdown",
      "source": [
        "## Here is an example illustrating that C arrays are not automatically initialized.\n",
        "\n",
        "## If you do not initialize an array it will contain whatever values that memory has in it.  This could depend on what code was run before you access the unitialized array!\n",
        "\n",
        "## Note that this example also includes C code for generating random integers."
      ],
      "metadata": {
        "id": "Q2XlsfhZXq3G"
      }
    },
    {
      "cell_type": "code",
      "source": [
        "%%writefile random.c\n",
        "#include <stdio.h>\n",
        "#include <stdlib.h> // for srandom and random functions\n",
        "#include <time.h> // for time function\n",
        "\n",
        "void random3 () {\n",
        "    long long x = random();\n",
        "    long long y = random();\n",
        "    long long z = random();\n",
        "    long long sum = x + y + z;\n",
        "    printf (\"here is the sum of three random integers : %lld\\n\\n\",sum);\n",
        "}\n",
        "\n",
        "void fun_array () {\n",
        "    int a[3]; // warning: arrays in C are not automatically initialized!\n",
        "    printf (\"a = [ %d %d %d ]\\n\\n\",a[0],a[1],a[2]);\n",
        "}\n",
        "\n",
        "int main () {\n",
        "    srandom(time(NULL)); // seed random number generator\n",
        "    fun_array();\n",
        "    random3();\n",
        "    fun_array();\n",
        "}"
      ],
      "metadata": {
        "colab": {
          "base_uri": "https://localhost:8080/"
        },
        "id": "-Q_CyYpoXdez",
        "outputId": "6fe2784f-d970-4e81-89ee-24a84d2eacf3"
      },
      "execution_count": 4,
      "outputs": [
        {
          "output_type": "stream",
          "name": "stdout",
          "text": [
            "Writing random.c\n"
          ]
        }
      ]
    },
    {
      "cell_type": "code",
      "source": [
        "!gcc -o random random.c"
      ],
      "metadata": {
        "id": "UFSrTNXVYIZG"
      },
      "execution_count": 5,
      "outputs": []
    },
    {
      "cell_type": "code",
      "source": [
        "!./random"
      ],
      "metadata": {
        "colab": {
          "base_uri": "https://localhost:8080/"
        },
        "id": "q_TOz06AYKb_",
        "outputId": "687981dc-8bee-42a8-9769-934d6b49dde3"
      },
      "execution_count": 6,
      "outputs": [
        {
          "output_type": "stream",
          "name": "stdout",
          "text": [
            "a = [ 0 0 0 ]\n",
            "\n",
            "here is the sum of three random integers : 2422449481\n",
            "\n",
            "a = [ 0 349265067 0 ]\n",
            "\n"
          ]
        }
      ]
    },
    {
      "cell_type": "markdown",
      "source": [
        "## Exercise : Change the fun_array function so that d is initialized to contain all zeros."
      ],
      "metadata": {
        "id": "gUlB_3TErnRc"
      }
    },
    {
      "cell_type": "markdown",
      "source": [
        "## Allocating arrays on the stack as in the above example is only good practice for small arrays.  \n",
        "\n",
        "## Note that starting with C99 the size of an array can be determined at runtime.  \n",
        "\n",
        "## However as shown below, using this new C feature can be quite risky!"
      ],
      "metadata": {
        "id": "9TjQrYgSry8S"
      }
    },
    {
      "cell_type": "code",
      "source": [
        "%%writefile bigarray.c\n",
        "#include <stdio.h>\n",
        "#include <stdlib.h>\n",
        "\n",
        "int main (int argc, char** argv) {\n",
        "    if (argc < 2) {\n",
        "        printf (\"command usage: %s %s\\n\",argv[0],\"size\");\n",
        "        return 1;\n",
        "    }\n",
        "    int size = atoi(argv[1]);\n",
        "    int A[size]; // starting in C99 array size can be a variable\n",
        "    printf (\"A uses %ld bytes of storage\\n\",sizeof(A));\n",
        "    for (int i=0;i<size;i++) {\n",
        "        A[i] = i+1;\n",
        "    }\n",
        "    printf (\"last element of A is %d\\n\",A[size-1]);\n",
        "}"
      ],
      "metadata": {
        "colab": {
          "base_uri": "https://localhost:8080/"
        },
        "id": "GglvWUbVrm0Q",
        "outputId": "65baac58-43ca-49fe-a84d-5cf397e92469"
      },
      "execution_count": 7,
      "outputs": [
        {
          "output_type": "stream",
          "name": "stdout",
          "text": [
            "Writing bigarray.c\n"
          ]
        }
      ]
    },
    {
      "cell_type": "code",
      "source": [
        "!gcc -o bigarray bigarray.c"
      ],
      "metadata": {
        "id": "jhP1p-n9SGwC"
      },
      "execution_count": 8,
      "outputs": []
    },
    {
      "cell_type": "markdown",
      "source": [
        "## Note that we can redirect the output to a file."
      ],
      "metadata": {
        "id": "lHMEaZdXzMB-"
      }
    },
    {
      "cell_type": "code",
      "source": [
        "!./bigarray 1000000 > out.txt\n",
        "!cat out.txt"
      ],
      "metadata": {
        "colab": {
          "base_uri": "https://localhost:8080/"
        },
        "id": "Lf6B8g3QsRZH",
        "outputId": "ae00ebe4-3d30-4753-97fa-aef152c08d42"
      },
      "execution_count": 9,
      "outputs": [
        {
          "output_type": "stream",
          "name": "stdout",
          "text": [
            "A uses 4000000 bytes of storage\n",
            "last element of A is 1000000\n"
          ]
        }
      ]
    },
    {
      "cell_type": "markdown",
      "source": [
        " ## Thus storing an array of 1 million ints will require 4 megabytes or 4 million bytes (each int requires 4 bytes of storage)."
      ],
      "metadata": {
        "id": "Spp0LOsyz0FE"
      }
    },
    {
      "cell_type": "code",
      "source": [
        "!./bigarray 2500000 > out.txt\n",
        "!cat out.txt"
      ],
      "metadata": {
        "colab": {
          "base_uri": "https://localhost:8080/"
        },
        "id": "BD1XLW74vDcI",
        "outputId": "ee3eb36e-ada2-4ae0-80c9-c54651bfd7f9"
      },
      "execution_count": 10,
      "outputs": [
        {
          "output_type": "stream",
          "name": "stdout",
          "text": [
            "/bin/bash: line 1:   281 Segmentation fault      (core dumped) ./bigarray 2500000 > out.txt\n"
          ]
        }
      ]
    },
    {
      "cell_type": "markdown",
      "source": [
        "## **A segmentation fault in C is a runtime error that occurs when a program tries to access memory that it is not allowed to access.**\n",
        "\n",
        "## Use *ulimit -s* to check the stack size.  The result is in kilobytes (one kilobyte is a thousand bytes).  "
      ],
      "metadata": {
        "id": "NMZNAB65vU2a"
      }
    },
    {
      "cell_type": "code",
      "source": [
        "!ulimit -s"
      ],
      "metadata": {
        "colab": {
          "base_uri": "https://localhost:8080/"
        },
        "id": "SmQLJV3dsSsE",
        "outputId": "22d0605a-2fbf-4a5b-c5dd-053c555f0ab5"
      },
      "execution_count": 11,
      "outputs": [
        {
          "output_type": "stream",
          "name": "stdout",
          "text": [
            "8192\n"
          ]
        }
      ]
    },
    {
      "cell_type": "markdown",
      "source": [
        "## Exercise : Given the stack size (in kilobytes) given above, explain why we could allocate and use an array of 1 million ints on the stack but not an array of 2.5 million ints on the stack.  "
      ],
      "metadata": {
        "id": "6gVFsqrvxcBv"
      }
    },
    {
      "cell_type": "markdown",
      "source": [
        "## **For large arrays we will need to use dynamic memory allocation.**  \n",
        "\n",
        "## Memory allocated dynamically is put on the heap which is generally much larger than the stack.  \n",
        "\n",
        "## We will discuss dynamic memory allocation later in the course."
      ],
      "metadata": {
        "id": "ZqUaTArUyABV"
      }
    },
    {
      "cell_type": "markdown",
      "source": [
        "# Part 2 : Arrays and Pointers\n",
        "\n",
        "## Here is an example illustrating how pointers can be used with arrays.  "
      ],
      "metadata": {
        "id": "c8ytL0tUZClK"
      }
    },
    {
      "cell_type": "code",
      "source": [
        "%%writefile arrayptrs.c\n",
        "#include <stdio.h>\n",
        "\n",
        "int main () {\n",
        "    int a[3] = { 1, 2, 3 };\n",
        "    printf (\"a = [ %d %d %d ]\\n\\n\",a[0],a[1],a[2]);\n",
        "\n",
        "    int* b = a; // b is an integer pointer that points to the beginning of a\n",
        "    *b = 4;\n",
        "    printf (\"a = [ %d %d %d ]\\n\\n\",a[0],a[1],a[2]);\n",
        "\n",
        "    b[1] = 5; // we can also use the \"array syntax\" for the pointer b!\n",
        "    printf (\"a = [ %d %d %d ]\\n\\n\",a[0],a[1],a[2]);\n",
        "\n",
        "    int* c = b+2; // using \"pointer arithmetic\" -> int* c = &(b[2])\n",
        "    *c = 6;\n",
        "    printf (\"a = [ %d %d %d ]\\n\\n\",a[0],a[1],a[2]);\n",
        "\n",
        "}"
      ],
      "metadata": {
        "colab": {
          "base_uri": "https://localhost:8080/"
        },
        "id": "BS_LwccssjCw",
        "outputId": "e4f2f975-7dd9-45dc-d5e5-df42d66e23e5"
      },
      "execution_count": 12,
      "outputs": [
        {
          "output_type": "stream",
          "name": "stdout",
          "text": [
            "Writing arrayptrs.c\n"
          ]
        }
      ]
    },
    {
      "cell_type": "code",
      "source": [
        "!gcc -o arrayptrs arrayptrs.c"
      ],
      "metadata": {
        "id": "nF57Qvl53hKz"
      },
      "execution_count": 13,
      "outputs": []
    },
    {
      "cell_type": "code",
      "source": [
        "!./arrayptrs"
      ],
      "metadata": {
        "colab": {
          "base_uri": "https://localhost:8080/"
        },
        "id": "FXtHZVSr3m7y",
        "outputId": "9c948cb8-cc51-4a5d-97c6-0865f9b0ece8"
      },
      "execution_count": 14,
      "outputs": [
        {
          "output_type": "stream",
          "name": "stdout",
          "text": [
            "a = [ 1 2 3 ]\n",
            "\n",
            "a = [ 4 2 3 ]\n",
            "\n",
            "a = [ 4 5 3 ]\n",
            "\n",
            "a = [ 4 5 6 ]\n",
            "\n"
          ]
        }
      ]
    },
    {
      "cell_type": "markdown",
      "source": [
        "## Here is an example illustrating how arrays are passed to functions in C.\n",
        "\n",
        "## One big thing to remember is that **arrays are passed by pointer in C** for efficiency reasons (i.e. it would be very expensive to always have to copy large arrays when calling a function)"
      ],
      "metadata": {
        "id": "jDxG7tWBaV8q"
      }
    },
    {
      "cell_type": "code",
      "source": [
        "%%writefile arrayfun.c\n",
        "#include <stdio.h>\n",
        "\n",
        "// arrays in C are always passed by pointer\n",
        "void swap (int* b) {\n",
        "    int temp = b[0];\n",
        "    b[0] = b[1];\n",
        "    b[1] = temp;\n",
        "}\n",
        "\n",
        "int main () {\n",
        "    int a[2] = { 1, 2 };\n",
        "    printf (\"a = [ %d %d ]\\n\\n\",a[0],a[1]);\n",
        "\n",
        "    swap(a); // pass a pointer to the beginning of a (i.e. &(a[0]))\n",
        "    printf (\"a = [ %d %d ]\\n\\n\",a[0],a[1]);\n",
        "}"
      ],
      "metadata": {
        "colab": {
          "base_uri": "https://localhost:8080/"
        },
        "id": "a6in7ovwZ0K6",
        "outputId": "476068b5-10fe-4e33-f7f4-f0b33b381b10"
      },
      "execution_count": 15,
      "outputs": [
        {
          "output_type": "stream",
          "name": "stdout",
          "text": [
            "Writing arrayfun.c\n"
          ]
        }
      ]
    },
    {
      "cell_type": "code",
      "source": [
        "!gcc -o arrayfun arrayfun.c"
      ],
      "metadata": {
        "id": "9AK-lI8zaOXF"
      },
      "execution_count": 16,
      "outputs": []
    },
    {
      "cell_type": "code",
      "source": [
        "!./arrayfun"
      ],
      "metadata": {
        "colab": {
          "base_uri": "https://localhost:8080/"
        },
        "id": "OrNQu26BaRgy",
        "outputId": "48282218-f4f1-4a43-b410-0eec6ab65408"
      },
      "execution_count": 17,
      "outputs": [
        {
          "output_type": "stream",
          "name": "stdout",
          "text": [
            "a = [ 1 2 ]\n",
            "\n",
            "a = [ 2 1 ]\n",
            "\n"
          ]
        }
      ]
    },
    {
      "cell_type": "markdown",
      "source": [
        "## The last examples illustrates that arrays and pointers are quite similar in C.\n",
        "\n",
        "## However there some big differences.  \n",
        "\n",
        "## An array declaration such as **int a[3]** also sets aside memory to store 3 integers.  \n",
        "\n",
        "## A pointer declation such as **int* b** only sets aside memory to store the pointer b.  \n",
        "\n",
        "## A pointer must be set to point to a variable (or array) before it can be dereferenced.  \n",
        "\n",
        "## Dereferencing an uninitialized pointer usually causes a **segmentation fault** since the pointer is likely pointing to memory that is illegal to access.  \n",
        "\n",
        "## In particular, dereferencing a **null pointer** always causes a segmentation fault.  "
      ],
      "metadata": {
        "id": "BKBq2PPm56mM"
      }
    },
    {
      "cell_type": "code",
      "source": [
        "%%writefile danger.c\n",
        "#include <stdio.h>\n",
        "\n",
        "int main () {\n",
        "    int* a;\n",
        "    a[0] = 3; // dereferencing an uninitialized pointer!\n",
        "    printf (\"a[0] = %d\\n\",a[0]);\n",
        "}"
      ],
      "metadata": {
        "colab": {
          "base_uri": "https://localhost:8080/"
        },
        "id": "XWgD8vjH4Cq9",
        "outputId": "2fa1f703-1edd-423c-ec7e-1b284b690eb0"
      },
      "execution_count": 18,
      "outputs": [
        {
          "output_type": "stream",
          "name": "stdout",
          "text": [
            "Writing danger.c\n"
          ]
        }
      ]
    },
    {
      "cell_type": "code",
      "source": [
        "!gcc -o danger danger.c"
      ],
      "metadata": {
        "id": "b9ZAYTSZ7eYC"
      },
      "execution_count": 19,
      "outputs": []
    },
    {
      "cell_type": "code",
      "source": [
        "!./danger > out.txt"
      ],
      "metadata": {
        "colab": {
          "base_uri": "https://localhost:8080/"
        },
        "id": "nf5b4hTq7gFI",
        "outputId": "8e3b3ba8-80f8-49ce-fb78-c8b42886df2f"
      },
      "execution_count": 20,
      "outputs": [
        {
          "output_type": "stream",
          "name": "stdout",
          "text": [
            "/bin/bash: line 1:   308 Segmentation fault      (core dumped) ./danger > out.txt\n"
          ]
        }
      ]
    },
    {
      "cell_type": "markdown",
      "source": [
        "# Part 3 : Sample Standard Deviation\n",
        "\n",
        "## Here is a C program that computes the average and sample standard deviation of real number points in *stdin*.  For the standard deviation we use the formula:\n",
        "\n",
        "$$\\sigma = \\sqrt{ \\frac{1}{N-1} \\sum_{i=1}^N (x_i - \\bar{x})^2}$$\n",
        "\n",
        "## where\n",
        "\n",
        "$$\\bar{x} = \\displaystyle\\frac{1}{N} \\displaystyle\\sum_{i=1}^N x_i$$\n",
        "\n",
        "## In this case we will have to store the data in an array since we need to make two passes over it.\n",
        "\n",
        "## Note that we set a maximum number of points to prevent a potential stack overflow!"
      ],
      "metadata": {
        "id": "tEvX7F9atFyI"
      }
    },
    {
      "cell_type": "code",
      "source": [
        "%%writefile stdev.c\n",
        "#include <stdio.h>\n",
        "#include <math.h>\n",
        "\n",
        "#define MAX_POINTS 100000\n",
        "\n",
        "int main () {\n",
        "    float data[MAX_POINTS];\n",
        "    float next;\n",
        "    int num_points = 0;\n",
        "    while (scanf(\"%f\",&next) == 1) {\n",
        "        if (num_points < MAX_POINTS) {\n",
        "            data[num_points++] = next; // increment num_points after reading it\n",
        "        } else {\n",
        "            printf (\"too many data points!\\n\");\n",
        "            return 1;\n",
        "        }\n",
        "    }\n",
        "    float sum = 0;\n",
        "    for (int i=0;i<num_points;i++) {\n",
        "        sum += data[i];\n",
        "    }\n",
        "    float mean = sum/num_points;\n",
        "    printf (\"mean = %.2f\\n\",mean);\n",
        "    float sum_sqs = 0;\n",
        "    for (int i=0;i<num_points;i++) {\n",
        "        sum_sqs += (data[i]-mean)*(data[i]-mean);\n",
        "    }\n",
        "    float var = sum_sqs/(num_points-1);\n",
        "    printf (\"standard deviation = %.2f\\n\",sqrt(var));\n",
        "}"
      ],
      "metadata": {
        "id": "7RjFok4MUYID",
        "colab": {
          "base_uri": "https://localhost:8080/"
        },
        "outputId": "3bc99bf3-d2ca-46b1-8e75-db5bdbed95ee"
      },
      "execution_count": 21,
      "outputs": [
        {
          "output_type": "stream",
          "name": "stdout",
          "text": [
            "Writing stdev.c\n"
          ]
        }
      ]
    },
    {
      "cell_type": "code",
      "source": [
        "!gcc -o stdev stdev.c -lm"
      ],
      "metadata": {
        "id": "x0nppWE4tOX0"
      },
      "execution_count": 22,
      "outputs": []
    },
    {
      "cell_type": "code",
      "source": [
        "!echo 86.5 81.0 92.5 86.5 74.5 57.5 76.5 94.5 66.5 98.5 23.5 47.5 74.5 77.5 88.0 | ./stdev"
      ],
      "metadata": {
        "colab": {
          "base_uri": "https://localhost:8080/"
        },
        "id": "dFkICXBptRCv",
        "outputId": "3aa027be-3693-4381-f436-4d7a75c01b83"
      },
      "execution_count": 23,
      "outputs": [
        {
          "output_type": "stream",
          "name": "stdout",
          "text": [
            "mean = 75.03\n",
            "standard deviation = 19.83\n"
          ]
        }
      ]
    },
    {
      "cell_type": "markdown",
      "source": [
        "# Part 4 : Bubble Sort\n",
        "\n",
        "## Here is a C program that bubble sorts the input data."
      ],
      "metadata": {
        "id": "4MMtzcpSXTJj"
      }
    },
    {
      "cell_type": "code",
      "source": [
        "%%writefile bubble.c\n",
        "#include <stdio.h>\n",
        "#include <stdlib.h>\n",
        "\n",
        "#define MAX_POINTS 100000\n",
        "\n",
        "// bubble sort (returns the number of rounds needed)\n",
        "int bubble (int* data, int num_points) {\n",
        "    int done = 0;\n",
        "    int round = 0;\n",
        "    while (!done) {\n",
        "        round += 1;\n",
        "        done = 1;\n",
        "        for (int i=0;i<num_points-round;i++) {\n",
        "            if (data[i] > data[i+1]) {\n",
        "                int temp = data[i];\n",
        "                data[i] = data[i+1];\n",
        "                data[i+1] = temp;\n",
        "                done = 0;\n",
        "            }\n",
        "        }\n",
        "    }\n",
        "    return round;\n",
        "}\n",
        "\n",
        "int main () {\n",
        "    int data[MAX_POINTS];\n",
        "    int next;\n",
        "    int num_points = 0;\n",
        "    while (scanf(\"%d\",&next) == 1) {\n",
        "        if (num_points < MAX_POINTS) {\n",
        "            data[num_points++] = next;\n",
        "        } else {\n",
        "            printf (\"too many data points!\\n\");\n",
        "            return 1;\n",
        "        }\n",
        "    }\n",
        "    int num_rounds = bubble(data,num_points);\n",
        "    printf (\"num_rounds of bubble sort: %d\\n\",num_rounds);\n",
        "    for (int i=0;i<num_points;i++) {\n",
        "        printf (\"%d\\n\",data[i]);\n",
        "    }\n",
        "}"
      ],
      "metadata": {
        "id": "bV-Ee8_YtUIW",
        "colab": {
          "base_uri": "https://localhost:8080/"
        },
        "outputId": "b049694c-c551-44d6-e076-e9f106a579ce"
      },
      "execution_count": 24,
      "outputs": [
        {
          "output_type": "stream",
          "name": "stdout",
          "text": [
            "Writing bubble.c\n"
          ]
        }
      ]
    },
    {
      "cell_type": "code",
      "source": [
        "!gcc -o bubble bubble.c"
      ],
      "metadata": {
        "id": "eWXOGrTjU9lv"
      },
      "execution_count": 25,
      "outputs": []
    },
    {
      "cell_type": "code",
      "source": [
        "!echo 1 2 3 4 | ./bubble"
      ],
      "metadata": {
        "colab": {
          "base_uri": "https://localhost:8080/"
        },
        "id": "OK5JWHfke3ch",
        "outputId": "26fdf973-0320-4650-96a9-bc276672379f"
      },
      "execution_count": 26,
      "outputs": [
        {
          "output_type": "stream",
          "name": "stdout",
          "text": [
            "num_rounds of bubble sort: 1\n",
            "1\n",
            "2\n",
            "3\n",
            "4\n"
          ]
        }
      ]
    },
    {
      "cell_type": "code",
      "source": [
        "!echo 4 3 2 1 | ./bubble"
      ],
      "metadata": {
        "colab": {
          "base_uri": "https://localhost:8080/"
        },
        "id": "gTj8B5Ufe5zM",
        "outputId": "a6301971-8e88-482a-e8b7-5a94e1d00ff5"
      },
      "execution_count": 27,
      "outputs": [
        {
          "output_type": "stream",
          "name": "stdout",
          "text": [
            "num_rounds of bubble sort: 4\n",
            "1\n",
            "2\n",
            "3\n",
            "4\n"
          ]
        }
      ]
    },
    {
      "cell_type": "code",
      "source": [
        "!echo -45 65 -121 32 -456 34 -213423 3434 4533 -343 | ./bubble"
      ],
      "metadata": {
        "colab": {
          "base_uri": "https://localhost:8080/"
        },
        "id": "b8uKKU-KU-9k",
        "outputId": "f793cc66-d05f-4a82-9396-220f66549eb0"
      },
      "execution_count": 28,
      "outputs": [
        {
          "output_type": "stream",
          "name": "stdout",
          "text": [
            "num_rounds of bubble sort: 8\n",
            "-213423\n",
            "-456\n",
            "-343\n",
            "-121\n",
            "-45\n",
            "32\n",
            "34\n",
            "65\n",
            "3434\n",
            "4533\n"
          ]
        }
      ]
    },
    {
      "cell_type": "code",
      "source": [
        "# clone cmda3634_materials repo to download a dataset\n",
        "!git clone https://code.vt.edu/jasonwil/cmda3634_materials.git"
      ],
      "metadata": {
        "colab": {
          "base_uri": "https://localhost:8080/"
        },
        "id": "NdAas-KCZrA6",
        "outputId": "0867c14e-012a-47ce-e07c-80e29eeec1bd"
      },
      "execution_count": 29,
      "outputs": [
        {
          "output_type": "stream",
          "name": "stdout",
          "text": [
            "Cloning into 'cmda3634_materials'...\n",
            "remote: Enumerating objects: 51, done.\u001b[K\n",
            "remote: Counting objects: 100% (4/4), done.\u001b[K\n",
            "remote: Compressing objects: 100% (3/3), done.\u001b[K\n",
            "remote: Total 51 (delta 0), reused 0 (delta 0), pack-reused 47\u001b[K\n",
            "Receiving objects: 100% (51/51), 561.46 KiB | 1.50 MiB/s, done.\n",
            "Resolving deltas: 100% (8/8), done.\n"
          ]
        }
      ]
    },
    {
      "cell_type": "code",
      "source": [
        "# copy the 100000 point dataset to our working directory\n",
        "!cp cmda3634_materials/L06/* ."
      ],
      "metadata": {
        "id": "OC6NUmVvZuvL"
      },
      "execution_count": 30,
      "outputs": []
    },
    {
      "cell_type": "markdown",
      "source": [
        "## Compile with optimization flags turned on"
      ],
      "metadata": {
        "id": "iTYXMwJcaMQF"
      }
    },
    {
      "cell_type": "code",
      "source": [
        "!gcc -O3 -march=native -o bubble bubble.c"
      ],
      "metadata": {
        "id": "RdhcFD5KaCOF"
      },
      "execution_count": 31,
      "outputs": []
    },
    {
      "cell_type": "code",
      "source": [
        "!time cat num100k.txt | ./bubble > bubble100k.txt"
      ],
      "metadata": {
        "colab": {
          "base_uri": "https://localhost:8080/"
        },
        "id": "_g5tJ58QZ5r-",
        "outputId": "e6db942a-c4ed-4d4a-937e-f25597390ce5"
      },
      "execution_count": 32,
      "outputs": [
        {
          "output_type": "stream",
          "name": "stdout",
          "text": [
            "\n",
            "real\t0m36.254s\n",
            "user\t0m34.066s\n",
            "sys\t0m0.242s\n"
          ]
        }
      ]
    },
    {
      "cell_type": "code",
      "source": [
        "!head -5 bubble100k.txt"
      ],
      "metadata": {
        "colab": {
          "base_uri": "https://localhost:8080/"
        },
        "id": "VZqKHzK3aU10",
        "outputId": "c79dd20e-3ecd-4556-f86b-e73c51f2190c"
      },
      "execution_count": 33,
      "outputs": [
        {
          "output_type": "stream",
          "name": "stdout",
          "text": [
            "num_rounds of bubble sort: 99850\n",
            "-999983249\n",
            "-999965924\n",
            "-999942764\n",
            "-999934988\n"
          ]
        }
      ]
    },
    {
      "cell_type": "markdown",
      "source": [
        "## We use the linux command sed (stream editor) to delete the first line of the bubble sorted file."
      ],
      "metadata": {
        "id": "k3pckFLUfDeT"
      }
    },
    {
      "cell_type": "code",
      "source": [
        "!sed '1d' bubble100k.txt > sorted100k.txt"
      ],
      "metadata": {
        "id": "uQ5n7X6kd3e1"
      },
      "execution_count": 34,
      "outputs": []
    },
    {
      "cell_type": "code",
      "source": [
        "!time cat sorted100k.txt | ./bubble > bubble100k.txt"
      ],
      "metadata": {
        "colab": {
          "base_uri": "https://localhost:8080/"
        },
        "id": "yBn872GudT20",
        "outputId": "ff1df4f4-9ccd-400f-f8c7-9b9d9de5da35"
      },
      "execution_count": 35,
      "outputs": [
        {
          "output_type": "stream",
          "name": "stdout",
          "text": [
            "\n",
            "real\t0m0.054s\n",
            "user\t0m0.040s\n",
            "sys\t0m0.003s\n"
          ]
        }
      ]
    },
    {
      "cell_type": "code",
      "source": [
        "!head -5 bubble100k.txt"
      ],
      "metadata": {
        "colab": {
          "base_uri": "https://localhost:8080/"
        },
        "id": "u80zfEFydbZY",
        "outputId": "6808a684-8b76-4b91-8b43-e73bac5cab0c"
      },
      "execution_count": 36,
      "outputs": [
        {
          "output_type": "stream",
          "name": "stdout",
          "text": [
            "num_rounds of bubble sort: 1\n",
            "-999983249\n",
            "-999965924\n",
            "-999942764\n",
            "-999934988\n"
          ]
        }
      ]
    },
    {
      "cell_type": "markdown",
      "source": [
        "## Note that for bubble sort the difference between the best case (file is already sorted) and the worst case (need all or almost all rounds) is huge!\n",
        "\n",
        "## As fast as C is it cannot overcome a bad algorithm.\n",
        "\n",
        "## We will learn about a much faster way to sort numbers later in the course!"
      ],
      "metadata": {
        "id": "nA-nkL7aeSnr"
      }
    },
    {
      "cell_type": "markdown",
      "source": [
        "## Exercise 1 : Write a program called *median* that finds median of a dataset containing real numbers.  You can assume that the dataset has a maximum of 100000 points.  \n",
        "\n",
        "### Hint: You can start by bubble sorting the data."
      ],
      "metadata": {
        "id": "7A-MR0rbZDT2"
      }
    },
    {
      "cell_type": "code",
      "source": [],
      "metadata": {
        "id": "rnOJ7YedVe75"
      },
      "execution_count": 36,
      "outputs": []
    }
  ]
}